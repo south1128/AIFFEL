{
  "nbformat": 4,
  "nbformat_minor": 0,
  "metadata": {
    "colab": {
      "name": "HelloPython.ipynb",
      "provenance": [],
      "collapsed_sections": []
    },
    "kernelspec": {
      "name": "python3",
      "display_name": "Python 3"
    },
    "language_info": {
      "name": "python"
    }
  },
  "cells": [
    {
      "cell_type": "code",
      "execution_count": null,
      "metadata": {
        "colab": {
          "base_uri": "https://localhost:8080/"
        },
        "id": "LTDxab0wwGJD",
        "outputId": "3298917d-840f-4c44-a92b-ca789aa5770f"
      },
      "outputs": [
        {
          "output_type": "stream",
          "name": "stdout",
          "text": [
            "1\n"
          ]
        }
      ],
      "source": [
        "print(1)"
      ]
    },
    {
      "cell_type": "code",
      "source": [
        "print(1 + 1)"
      ],
      "metadata": {
        "colab": {
          "base_uri": "https://localhost:8080/"
        },
        "id": "WgBOWsBJwwBW",
        "outputId": "8ddf3998-d03f-40c4-c478-b97e2660123d"
      },
      "execution_count": null,
      "outputs": [
        {
          "output_type": "stream",
          "name": "stdout",
          "text": [
            "2\n"
          ]
        }
      ]
    },
    {
      "cell_type": "code",
      "source": [
        "print('Hello')"
      ],
      "metadata": {
        "colab": {
          "base_uri": "https://localhost:8080/"
        },
        "id": "zWlESdK4w0T2",
        "outputId": "58c45383-88bc-4613-8582-8a0661008b11"
      },
      "execution_count": null,
      "outputs": [
        {
          "output_type": "stream",
          "name": "stdout",
          "text": [
            "Hello\n"
          ]
        }
      ]
    },
    {
      "cell_type": "code",
      "source": [
        "type('Hello')"
      ],
      "metadata": {
        "colab": {
          "base_uri": "https://localhost:8080/"
        },
        "id": "hqDz5KkFw6_t",
        "outputId": "6bb55b05-814a-4d3b-e909-f093d85bd98b"
      },
      "execution_count": null,
      "outputs": [
        {
          "output_type": "execute_result",
          "data": {
            "text/plain": [
              "str"
            ]
          },
          "metadata": {},
          "execution_count": 4
        }
      ]
    },
    {
      "cell_type": "code",
      "source": [
        "print('Hello'+'world!')"
      ],
      "metadata": {
        "colab": {
          "base_uri": "https://localhost:8080/"
        },
        "id": "8FF5Bf34xCjg",
        "outputId": "49671fef-8bc2-4ddb-aac7-32969bac29a3"
      },
      "execution_count": null,
      "outputs": [
        {
          "output_type": "stream",
          "name": "stdout",
          "text": [
            "Helloworld!\n"
          ]
        }
      ]
    },
    {
      "cell_type": "code",
      "source": [
        "greeting = '안녕하세요?'\n",
        "print(greeting)"
      ],
      "metadata": {
        "colab": {
          "base_uri": "https://localhost:8080/"
        },
        "id": "JgeuYHQCxVvd",
        "outputId": "e1b4a365-b272-4797-e12d-9327765f0b46"
      },
      "execution_count": null,
      "outputs": [
        {
          "output_type": "stream",
          "name": "stdout",
          "text": [
            "안녕하세요?\n"
          ]
        }
      ]
    },
    {
      "cell_type": "code",
      "source": [
        "greeting = '안녕하세요?'\n",
        "greeting = '안녕!'\n",
        "print(greeting)"
      ],
      "metadata": {
        "colab": {
          "base_uri": "https://localhost:8080/"
        },
        "id": "Gad0xHILyG9P",
        "outputId": "ba949743-af95-4a1b-d42c-729bdab4be43"
      },
      "execution_count": null,
      "outputs": [
        {
          "output_type": "stream",
          "name": "stdout",
          "text": [
            "안녕!\n"
          ]
        }
      ]
    },
    {
      "cell_type": "code",
      "source": [
        "greeting = '안녕하세요?'\n",
        "print(greeting)\n",
        "greeting = '안녕!'"
      ],
      "metadata": {
        "colab": {
          "base_uri": "https://localhost:8080/"
        },
        "id": "aHy8i3vWydYj",
        "outputId": "53d3d9e1-7cf3-4302-af24-5e877564aa3f"
      },
      "execution_count": null,
      "outputs": [
        {
          "output_type": "stream",
          "name": "stdout",
          "text": [
            "안녕하세요?\n"
          ]
        }
      ]
    },
    {
      "cell_type": "code",
      "source": [
        "def say_hi():\n",
        "  print('안녕!')\n",
        "\n",
        "say_hi()"
      ],
      "metadata": {
        "colab": {
          "base_uri": "https://localhost:8080/"
        },
        "id": "GTGlD3gPzHK_",
        "outputId": "1cca7d08-778b-4c0c-e165-43b49109a1fb"
      },
      "execution_count": null,
      "outputs": [
        {
          "output_type": "stream",
          "name": "stdout",
          "text": [
            "안녕!\n"
          ]
        }
      ]
    },
    {
      "cell_type": "code",
      "source": [
        "def say_hi():\n",
        "  print('안녕!')\n",
        "  print('반가워!')\n",
        "\n",
        "say_hi()"
      ],
      "metadata": {
        "colab": {
          "base_uri": "https://localhost:8080/"
        },
        "id": "6duTCW8p0TvT",
        "outputId": "b4cc4c13-6350-4ba8-e70e-f998667278a3"
      },
      "execution_count": null,
      "outputs": [
        {
          "output_type": "stream",
          "name": "stdout",
          "text": [
            "안녕!\n",
            "반가워!\n"
          ]
        }
      ]
    },
    {
      "cell_type": "code",
      "source": [
        "def say_goodbye():\n",
        "  goodbye = '잘 가!'\n",
        "\n",
        "print(goodbye)\n",
        "\n",
        "#error : 'goodbye' is not defined -> 함수 내 변수는 밖에서 사용 불가"
      ],
      "metadata": {
        "id": "jrgmGBQu0i5c"
      },
      "execution_count": null,
      "outputs": []
    },
    {
      "cell_type": "code",
      "source": [
        "name = '하루'\n",
        "def say_name():\n",
        "  print(name)\n",
        "\n",
        "say_name()\n",
        "\n",
        "name = '시우'\n",
        "\n",
        "say_name()\n"
      ],
      "metadata": {
        "colab": {
          "base_uri": "https://localhost:8080/"
        },
        "id": "DtBnSAMr1a9Z",
        "outputId": "d76cc15e-e140-4bcc-bb17-0b976142456f"
      },
      "execution_count": null,
      "outputs": [
        {
          "output_type": "stream",
          "name": "stdout",
          "text": [
            "하루\n",
            "시우\n"
          ]
        }
      ]
    },
    {
      "cell_type": "code",
      "source": [
        "name = '하루'\n",
        "def change_name():\n",
        "  name = '시우'\n",
        "  # 여기서 name 은 해당 함수 내에서만 적용\n",
        "\n",
        "change_name()\n",
        "\n",
        "print(name)\n",
        "# 함수 밖에서 정의된 name 을 출력\n",
        "\n",
        "## scope : 변수가 어디까지 유효한지 정의된 범위\n",
        "## name = '하루' : global scope (전역스코프)\n",
        "## name = '시우' : local scope (지역 스코프)"
      ],
      "metadata": {
        "colab": {
          "base_uri": "https://localhost:8080/"
        },
        "id": "AGUPlxg91yqp",
        "outputId": "c2fa38ab-aeeb-4e20-8723-18c53d921a59"
      },
      "execution_count": null,
      "outputs": [
        {
          "output_type": "stream",
          "name": "stdout",
          "text": [
            "하루\n"
          ]
        }
      ]
    },
    {
      "cell_type": "code",
      "source": [
        "def say_hi_sb(name):\n",
        "  print(name + ' , 안녕!')\n",
        "\n",
        "say_hi_sb('준이')\n",
        "\n",
        "# 함수에 인자 전달하기 say_hi_sb 는 name 이라는 input 필요"
      ],
      "metadata": {
        "colab": {
          "base_uri": "https://localhost:8080/"
        },
        "id": "BnTgOb1f2pyV",
        "outputId": "d12d94b4-afbf-48eb-fec9-fc6b958f36d3"
      },
      "execution_count": null,
      "outputs": [
        {
          "output_type": "stream",
          "name": "stdout",
          "text": [
            "준이 , 안녕!\n"
          ]
        }
      ]
    },
    {
      "cell_type": "code",
      "source": [
        "def say_hi_default(name='somebody'):\n",
        "  print('안녕, '+ name + '!')\n",
        "\n",
        "say_hi_default('준이')\n",
        "\n",
        "say_hi_default()\n",
        "\n",
        "#함수가 매개변수의 기본값을 지정 (name = 'somebody), input 이 없을 경우 기본값 출력"
      ],
      "metadata": {
        "colab": {
          "base_uri": "https://localhost:8080/"
        },
        "id": "yjjoTLab3ZmL",
        "outputId": "a27403ed-f474-4dd1-dcde-2d9a2f41c838"
      },
      "execution_count": null,
      "outputs": [
        {
          "output_type": "stream",
          "name": "stdout",
          "text": [
            "안녕, 준이!\n",
            "안녕, somebody!\n"
          ]
        }
      ]
    },
    {
      "cell_type": "code",
      "source": [
        "def say_hi_couple(name1, name2):\n",
        "  print(name1 + ',' + name2 + ' 안녕!')\n",
        "\n",
        "say_hi_couple('그리','단테')\n",
        "say_hi_couple(name1='그리',name2='단테')\n",
        "say_hi_couple(name2='단테',name1='그리')\n"
      ],
      "metadata": {
        "colab": {
          "base_uri": "https://localhost:8080/"
        },
        "id": "sBkrhc7W4Gqf",
        "outputId": "6eaf49b5-d611-4944-98ca-050c2d9b0592"
      },
      "execution_count": null,
      "outputs": [
        {
          "output_type": "stream",
          "name": "stdout",
          "text": [
            "그리,단테 안녕!\n",
            "그리,단테 안녕!\n",
            "그리,단테 안녕!\n"
          ]
        }
      ]
    },
    {
      "cell_type": "code",
      "source": [
        "def say_hi_couple_default(name1,name2 = 'nobody'):\n",
        "  print(name1 + ', ' + name2 + ' 안녕!')\n",
        "\n",
        "say_hi_couple_default('단테')\n",
        "\n",
        "#기본값을 주는 인자는 무조건 기본값이 없는 인자 뒤에 와야함\n",
        "# say_hi_couple_default_wrong(name1 = \"nobody\", name2):\n",
        "#   print(name1 + ', ' + name2 + ' 안녕!')\n",
        "#error code : SyntaxError -> say_hi_couple_default_wrong('단테') 처럼 \n",
        "#                            인자 하나일때 name 1 인지 name2 인지 불분명"
      ],
      "metadata": {
        "colab": {
          "base_uri": "https://localhost:8080/"
        },
        "id": "pWH4rHep_eYC",
        "outputId": "dc2112eb-1e12-4140-814c-eb72c818e164"
      },
      "execution_count": null,
      "outputs": [
        {
          "output_type": "stream",
          "name": "stdout",
          "text": [
            "단테, nobody 안녕!\n"
          ]
        }
      ]
    },
    {
      "cell_type": "code",
      "source": [
        "def add(number1,number2):\n",
        "  print(number1 + number2)\n",
        "\n",
        "add(1,2)\n",
        "\n",
        "print(add(1,2)+3)\n",
        "# Error code : unspported operand type(s) -> Nonetype + int\n",
        "# add(1,2)의 output 자료형 명시하지 않아서"
      ],
      "metadata": {
        "colab": {
          "base_uri": "https://localhost:8080/"
        },
        "id": "EFgdpUBDBJPx",
        "outputId": "b4bdb885-4fee-4690-ee9d-23be8aaaea02"
      },
      "execution_count": null,
      "outputs": [
        {
          "output_type": "stream",
          "name": "stdout",
          "text": [
            "3\n"
          ]
        }
      ]
    },
    {
      "cell_type": "code",
      "source": [
        "def add_and_return(num1,num2):\n",
        "  print(num1 + num2)\n",
        "  return num1 + num2\n",
        "  # 함수 실행 결과로 다른 일 하려면 return 을 통해 output 명시\n",
        "\n",
        "print(add_and_return(1,2)+3)"
      ],
      "metadata": {
        "colab": {
          "base_uri": "https://localhost:8080/"
        },
        "id": "BWAYC_qgB8vP",
        "outputId": "9feea900-ad43-4645-cc24-9e2d20c083fb"
      },
      "execution_count": null,
      "outputs": [
        {
          "output_type": "stream",
          "name": "stdout",
          "text": [
            "3\n",
            "6\n"
          ]
        }
      ]
    },
    {
      "cell_type": "code",
      "source": [
        "def print_two(word1, word2):\n",
        "  print(word1)\n",
        "  print(word2)\n",
        "\n",
        "def print_and_return(word1,word2,word3):\n",
        "  print_two(word3,word2)\n",
        "  return word1\n",
        "\n",
        "print_two('A',print_and_return('B','C','D'))\n",
        "#print_and_return 먼저 실행 -> print word3 = D / word2 = C \n",
        "#                         -> return word1 = B\n",
        "#print_two 실행 -> print word1 = A / word2 = return값 = B"
      ],
      "metadata": {
        "colab": {
          "base_uri": "https://localhost:8080/"
        },
        "id": "dbgo05UHC2lt",
        "outputId": "3d037c78-5ace-427e-c40e-f736a1204ac4"
      },
      "execution_count": null,
      "outputs": [
        {
          "output_type": "stream",
          "name": "stdout",
          "text": [
            "D\n",
            "C\n",
            "A\n",
            "B\n"
          ]
        }
      ]
    },
    {
      "cell_type": "code",
      "source": [
        "def print_if_positive(number):\n",
        "  if number >= 0:\n",
        "    print(number)\n",
        "\n",
        "print_if_positive(1)\n",
        "print_if_positive(-1)\n",
        "#conditional operator = <,>,>=,<=,=,==,!="
      ],
      "metadata": {
        "colab": {
          "base_uri": "https://localhost:8080/"
        },
        "id": "PzUTrrUhEWUz",
        "outputId": "f89dffa6-3241-43cd-a6a3-8cec9c4e209f"
      },
      "execution_count": null,
      "outputs": [
        {
          "output_type": "stream",
          "name": "stdout",
          "text": [
            "1\n"
          ]
        }
      ]
    },
    {
      "cell_type": "code",
      "source": [
        "def print_whether_positive_or_negative(number):\n",
        "  if number > 0:\n",
        "    print('+')\n",
        "  elif number == 0:\n",
        "    print('0')\n",
        "  else:\n",
        "    print('-')\n",
        "\n",
        "print_whether_positive_or_negative(1)\n",
        "print_whether_positive_or_negative(0)\n",
        "print_whether_positive_or_negative(-1)"
      ],
      "metadata": {
        "colab": {
          "base_uri": "https://localhost:8080/"
        },
        "id": "kPu_jXaeFL56",
        "outputId": "0e62e26a-58e1-4dd7-9a33-4154677c1eea"
      },
      "execution_count": null,
      "outputs": [
        {
          "output_type": "stream",
          "name": "stdout",
          "text": [
            "+\n",
            "0\n",
            "-\n"
          ]
        }
      ]
    },
    {
      "cell_type": "code",
      "source": [
        "def print_if_positive_and_even(number):\n",
        "  if(number > 0) and (number % 2 == 0):\n",
        "    print(number)\n",
        "\n",
        "print_if_positive_and_even(1)\n",
        "print_if_positive_and_even(-1)\n",
        "print_if_positive_and_even(2)\n",
        "print_if_positive_and_even(-2)\n",
        "\n",
        "print('----------------')\n",
        "\n",
        "def print_if_negative_or_odd(number):\n",
        "  if(number < 0) or (number % 2 != 0):\n",
        "    print(number)\n",
        "\n",
        "print_if_negative_or_odd(1)\n",
        "print_if_negative_or_odd(-1)\n",
        "print_if_negative_or_odd(2)\n",
        "print_if_negative_or_odd(-2)\n",
        "\n",
        "#logital operator : and , or"
      ],
      "metadata": {
        "colab": {
          "base_uri": "https://localhost:8080/"
        },
        "id": "AMiyiZ32F43U",
        "outputId": "671db347-6386-49c1-da6e-1fcd382ea0bc"
      },
      "execution_count": null,
      "outputs": [
        {
          "output_type": "stream",
          "name": "stdout",
          "text": [
            "2\n",
            "----------------\n",
            "1\n",
            "-1\n",
            "-2\n"
          ]
        }
      ]
    },
    {
      "cell_type": "code",
      "source": [
        "def fibonacci(n):\n",
        "  if n <= 2:\n",
        "    return 1 \n",
        "  else:\n",
        "    return fibonacci(n-2) + fibonacci(n-1)\n",
        "\n",
        "n = 1\n",
        "while n <= 20:\n",
        "  print(fibonacci(n))\n",
        "  n = n+1\n",
        "print('끝!')"
      ],
      "metadata": {
        "colab": {
          "base_uri": "https://localhost:8080/"
        },
        "id": "ddbq7eKEHQKK",
        "outputId": "c85fd74d-562f-4067-89b5-6f21290e4fde"
      },
      "execution_count": null,
      "outputs": [
        {
          "output_type": "stream",
          "name": "stdout",
          "text": [
            "1\n",
            "1\n",
            "2\n",
            "3\n",
            "5\n",
            "8\n",
            "13\n",
            "21\n",
            "34\n",
            "55\n",
            "89\n",
            "144\n",
            "233\n",
            "377\n",
            "610\n",
            "987\n",
            "1597\n",
            "2584\n",
            "4181\n",
            "6765\n",
            "끝!\n"
          ]
        }
      ]
    },
    {
      "cell_type": "code",
      "source": [
        "print('H' + 'i' == 'Hi')\n",
        "#iterable ? "
      ],
      "metadata": {
        "colab": {
          "base_uri": "https://localhost:8080/"
        },
        "id": "OGJOyw95Ikge",
        "outputId": "4e836f7a-7077-4133-a383-9d01cf49bc3d"
      },
      "execution_count": null,
      "outputs": [
        {
          "output_type": "stream",
          "name": "stdout",
          "text": [
            "True\n"
          ]
        }
      ]
    },
    {
      "cell_type": "code",
      "source": [
        "for character in 'Hello':\n",
        "  print(character)"
      ],
      "metadata": {
        "colab": {
          "base_uri": "https://localhost:8080/"
        },
        "id": "G4VSFltrJANN",
        "outputId": "4fbd4e49-8f78-4e72-fd2b-f820b466bb96"
      },
      "execution_count": null,
      "outputs": [
        {
          "output_type": "stream",
          "name": "stdout",
          "text": [
            "H\n",
            "e\n",
            "l\n",
            "l\n",
            "o\n"
          ]
        }
      ]
    },
    {
      "cell_type": "code",
      "source": [
        "#type : 자료형 확인\n",
        "print(type(1))\n",
        "\n",
        "#정수_Integer <int> : \n",
        "number = 1000 ** 10\n",
        "print(number)\n",
        "print(type(number))\n"
      ],
      "metadata": {
        "colab": {
          "base_uri": "https://localhost:8080/"
        },
        "id": "t1mh3HT2JoKW",
        "outputId": "c1c875cd-18ce-4152-eeab-2f01e2862757"
      },
      "execution_count": null,
      "outputs": [
        {
          "output_type": "stream",
          "name": "stdout",
          "text": [
            "<class 'int'>\n",
            "1000000000000000000000000000000\n",
            "<class 'int'>\n",
            "<class 'float'>\n"
          ]
        }
      ]
    },
    {
      "cell_type": "code",
      "source": [
        "#부동소수점 수_floating-point number <float>: 정수를 제외한 모든 실수\n",
        "print(type(1.0))\n",
        "\n",
        "print(1 == 1.0)\n",
        "print(1 + 1.0)\n",
        "#int + float => return float\n",
        "\n",
        "print('-------')\n",
        "#자료형 변환시 각각 자료형 이름 함수처럼 선언 \n",
        "print(float(1))\n",
        "print(type(float(1)))\n",
        "\n",
        "print(int(1.0))\n",
        "print(type(int(1.0)))"
      ],
      "metadata": {
        "colab": {
          "base_uri": "https://localhost:8080/"
        },
        "id": "TXPLlo64NWCV",
        "outputId": "b858d6a3-77cf-44a4-b07b-d441b91e3a4b"
      },
      "execution_count": null,
      "outputs": [
        {
          "output_type": "stream",
          "name": "stdout",
          "text": [
            "<class 'float'>\n",
            "True\n",
            "2.0\n",
            "-------\n",
            "1.0\n",
            "<class 'float'>\n",
            "1\n",
            "<class 'int'>\n"
          ]
        }
      ]
    },
    {
      "cell_type": "code",
      "source": [
        "## 십진법 - 이진법 ## -> about floating point & fixed point number ##\n",
        "value = 60\n",
        "\n",
        "binary = bin(value)\n",
        "print(binary)\n",
        "\n",
        "b = format(value,'#b')\n",
        "print(b)\n",
        "\n",
        "bb = format(value,'b')\n",
        "print(bb)\n",
        "\n",
        "## IEEE 부동소수점 표기법 ##\n",
        "#정수부 /소수부 나누어 2진법으로 표기 \n",
        "#소수점 이동\n",
        "#앞의1 빼고(hidden bit) 나머지 2진법 수 는 가수 *2^n 으로 정리 \n",
        "#이때 n 에 해당하는 수에 127 더해 지수부에 입력 (Bias 표현법)\n",
        "#부호(1bit)+지수(8bit)+가수(23bit)"
      ],
      "metadata": {
        "colab": {
          "base_uri": "https://localhost:8080/"
        },
        "id": "l7yhwG09Ocl-",
        "outputId": "2da2516a-75bc-4af1-f96f-ba8898daebd7"
      },
      "execution_count": null,
      "outputs": [
        {
          "output_type": "stream",
          "name": "stdout",
          "text": [
            "0b1111111\n",
            "0b1111111\n",
            "1111111\n"
          ]
        }
      ]
    },
    {
      "cell_type": "code",
      "source": [
        "#NoneType\n",
        "print(type(None))"
      ],
      "metadata": {
        "colab": {
          "base_uri": "https://localhost:8080/"
        },
        "id": "-18EzP7ibMo4",
        "outputId": "666626e2-82e8-4f24-e753-ca07ac66b710"
      },
      "execution_count": null,
      "outputs": [
        {
          "output_type": "stream",
          "name": "stdout",
          "text": [
            "<class 'NoneType'>\n"
          ]
        }
      ]
    },
    {
      "cell_type": "code",
      "source": [
        "#불리언_boolean <bool>\n",
        "print(type(True))\n",
        "print(type(False))\n",
        "\n",
        "print(type(not True))\n",
        "print(type(not not True))\n",
        "\n",
        "print(bool(None))\n",
        "print(bool(0))\n",
        "print(bool(1.1))"
      ],
      "metadata": {
        "colab": {
          "base_uri": "https://localhost:8080/"
        },
        "id": "QPjQ3IztcbL0",
        "outputId": "c02f3481-5ba6-408b-eac3-2ff1a24aec80"
      },
      "execution_count": null,
      "outputs": [
        {
          "output_type": "stream",
          "name": "stdout",
          "text": [
            "<class 'bool'>\n",
            "<class 'bool'>\n",
            "<class 'bool'>\n",
            "<class 'bool'>\n",
            "False\n",
            "False\n",
            "True\n"
          ]
        }
      ]
    },
    {
      "cell_type": "code",
      "source": [
        "#문자열_string <str>\n",
        "print('He said ,\"spam\"')\n",
        "print('Quote(\\') and double quote(\\\")')\n",
        "#따옴표 앞에 \\ 붙여서 문자 그대로 해석하라고 표시(escape)\n",
        "\n",
        "print('Hello','June')\n",
        "print('''Line 1 \n",
        "Line2''')\n",
        "\n",
        "# 문자열은 반복가능한 객체(iterable) -> for 문 사용 가능\n",
        "for character in 'Hello':\n",
        "  print(character)\n",
        "\n"
      ],
      "metadata": {
        "colab": {
          "base_uri": "https://localhost:8080/"
        },
        "id": "vD9Qup8_dDLe",
        "outputId": "3da060d5-0ef6-4422-ac16-d1c62b1cc82c"
      },
      "execution_count": null,
      "outputs": [
        {
          "output_type": "stream",
          "name": "stdout",
          "text": [
            "He said ,\"spam\"\n",
            "Quote(') and double quote(\")\n",
            "Hello June\n",
            "Line 1 \n",
            "Line2\n",
            "H\n",
            "e\n",
            "l\n",
            "l\n",
            "o\n",
            "e\n",
            "o\n"
          ]
        }
      ]
    },
    {
      "cell_type": "code",
      "source": [
        "# 유한한 길이를 갖는 자료형 (container) : index 이용 해당 값만 output 가능\n",
        "# index 는 0 부터 시작\n",
        "message = 'Hello'\n",
        "print(message[1])\n",
        "print(message[-1])    #음수는 뒤에서부터 뽑아냄\n",
        "\n",
        "#Slicing : [start:end-1:step]\n",
        "print(message[0:4])   #index 0 부터 4 까지\n",
        "print(message[2:])    #index 2 부터 끝까지  \n",
        "print(message[::1])   #index 처음부터 끝까지 1칸식 띄어서\n",
        "print(message[:-1:1]) #index 처음부터 끝까지 1칸식 띄어서\n",
        "print(message[::2])   #index 처음부터 끝까지 2칸식 띄어서\n",
        "print(message[::-1])  #index 처음부터 끝까지 거꾸로 "
      ],
      "metadata": {
        "colab": {
          "base_uri": "https://localhost:8080/"
        },
        "id": "nlzUAqZWec3w",
        "outputId": "3ceace49-29aa-438e-f6e1-2c96dfd0706b"
      },
      "execution_count": null,
      "outputs": [
        {
          "output_type": "stream",
          "name": "stdout",
          "text": [
            "e\n",
            "o\n",
            "Hell\n",
            "llo\n",
            "Hello\n",
            "Hell\n",
            "Hlo\n",
            "olleH\n"
          ]
        }
      ]
    },
    {
      "cell_type": "code",
      "source": [
        "#tuple - container 자료형\n",
        "numbers = (1,2,3)\n",
        "for number in numbers:\n",
        "  print(number)\n",
        "\n",
        "mixed_tuple = ('Hello',0,True)\n",
        "\n",
        "tuple_123 = (1,2,3)\n",
        "print(tuple_123[0])\n",
        "\n",
        "tuple_123[0] = 0\n",
        "#tuple 은 수정 불가\n",
        "\n",
        "nested_tuple = ((1,2),(3,4))\n",
        "print(nested_tuple[1][0])\n",
        "# nested_tuple 의 index num 1 의 tuple 안에서 index num 0 을 프린트해라\n",
        "\n",
        "tuple_a = (1,2)\n",
        "tuple_b = (3,4)\n",
        "print(tuple_a + tuple_b)\n",
        "\n",
        "tuple_abc = ('a','b','c')\n",
        "print('a' in tuple_abc)\n",
        "print('d' in tuple_abc)"
      ],
      "metadata": {
        "colab": {
          "base_uri": "https://localhost:8080/"
        },
        "id": "OqNDIUetg1t_",
        "outputId": "63db50f1-bed8-4784-deef-ca90538f726f"
      },
      "execution_count": null,
      "outputs": [
        {
          "output_type": "stream",
          "name": "stdout",
          "text": [
            "1\n",
            "2\n",
            "3\n",
            "1\n",
            "3\n",
            "(1, 2, 3, 4)\n",
            "True\n",
            "False\n"
          ]
        }
      ]
    },
    {
      "cell_type": "code",
      "source": [
        "#List - container 자료형\n",
        "list_a = [1,2]\n",
        "list_b = ['3','4']\n",
        "print(list_a, list_b)\n",
        "\n",
        "list_123 = [1,2,3]\n",
        "list_123[0] = 0\n",
        "print(list_123)\n",
        "#list 는 값 변경 가능\n",
        "\n",
        "list_123.append(4)    # .append 로 값을 하나씩 추가\n",
        "print(list_123)\n",
        "\n",
        "list_123.remove(4)    # .remove 로 특정 값을 삭제\n",
        "print(list_123)\n",
        "\n",
        "list_123.pop(0)       # .pop 으로 특성 순서의 값을 삭제\n",
        "print(list_123)"
      ],
      "metadata": {
        "id": "DGKlZOwWk69x"
      },
      "execution_count": null,
      "outputs": []
    },
    {
      "cell_type": "code",
      "source": [
        "#dictionary - container 자료형\n",
        "#숫자로 된 index 대신 직접 index 를 지정\n",
        "\n",
        "conductor = {'first_name':'단테','last_name':'안'}\n",
        "print(conductor['first_name'])\n",
        "# index or key : first_name / last_name\n",
        "# value : '단테','안'\n",
        "# key:vaule 한쌍 이 item 하나\n",
        "\n",
        "conductor['gender'] = 'male'\n",
        "print(conductor)\n",
        "# 값 추가 시 key 와 value 짝지어서\n",
        "\n",
        "conductor.pop('last_name')\n",
        "print(conductor)\n",
        "# key 삭제 - 해당 value 값 함께 삭제\n",
        "\n",
        "for key in conductor:\n",
        "  print(key)\n",
        "\n",
        "for key, value in conductor.items():\n",
        "  print(key + ' : ' + value)"
      ],
      "metadata": {
        "colab": {
          "base_uri": "https://localhost:8080/"
        },
        "id": "C8yc1belnND_",
        "outputId": "1ec8ee44-a98a-43bb-bbf5-6686aa3ebcb0"
      },
      "execution_count": null,
      "outputs": [
        {
          "output_type": "stream",
          "name": "stdout",
          "text": [
            "단테\n",
            "{'first_name': '단테', 'last_name': '안', 'gender': 'male'}\n",
            "{'first_name': '단테', 'gender': 'male'}\n",
            "first_name\n",
            "gender\n",
            "first_name : 단테\n",
            "gender : male\n"
          ]
        }
      ]
    },
    {
      "cell_type": "code",
      "source": [
        "memory = {1:1 , 2:1}\n",
        "def fibonacci(n):\n",
        "  if n in memory:\n",
        "    number = memory[n] \n",
        "  else:\n",
        "    number = fibonacci(n-1) + fibonacci(n-2)\n",
        "    memory[n] = number\n",
        "  return number \n",
        "\n",
        "print(fibonacci(10))\n",
        "print(memory)\n",
        "#Memoization : 중간 계산값을 기억해 다시 계산하는 대신 바로 읽어 쓰는 방식으로 계산 시간 줄임"
      ],
      "metadata": {
        "colab": {
          "base_uri": "https://localhost:8080/"
        },
        "id": "hvP43jeqp3H4",
        "outputId": "b0336999-4859-44a8-9a40-2f13c8f92c94"
      },
      "execution_count": null,
      "outputs": [
        {
          "output_type": "stream",
          "name": "stdout",
          "text": [
            "55\n",
            "{1: 1, 2: 1, 3: 2, 4: 3, 5: 5, 6: 8, 7: 13, 8: 21, 9: 34, 10: 55}\n"
          ]
        }
      ]
    }
  ]
}