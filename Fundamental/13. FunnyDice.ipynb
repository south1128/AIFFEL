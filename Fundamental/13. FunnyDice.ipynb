{
  "nbformat": 4,
  "nbformat_minor": 0,
  "metadata": {
    "colab": {
      "name": "FunnyDice.ipynb",
      "provenance": []
    },
    "kernelspec": {
      "name": "python3",
      "display_name": "Python 3"
    },
    "language_info": {
      "name": "python"
    }
  },
  "cells": [
    {
      "cell_type": "code",
      "execution_count": null,
      "metadata": {
        "colab": {
          "base_uri": "https://localhost:8080/"
        },
        "id": "RQNMYJQBkJ0e",
        "outputId": "8e332aa9-63cf-4bae-9464-3f1bb40b7dd4"
      },
      "outputs": [
        {
          "output_type": "execute_result",
          "data": {
            "text/plain": [
              "3"
            ]
          },
          "metadata": {},
          "execution_count": 1
        }
      ],
      "source": [
        "# Everything is an object in python\n",
        "# almost every value has attributes that state statements and method for behavior\n",
        "myvar = 3\n",
        "myvar "
      ]
    },
    {
      "cell_type": "code",
      "source": [
        "myword = 'cat'\n",
        "myword"
      ],
      "metadata": {
        "colab": {
          "base_uri": "https://localhost:8080/",
          "height": 35
        },
        "id": "JmXEKZ19kmjC",
        "outputId": "0c735d8f-44ac-4cb3-e181-c7d63765f178"
      },
      "execution_count": null,
      "outputs": [
        {
          "output_type": "execute_result",
          "data": {
            "application/vnd.google.colaboratory.intrinsic+json": {
              "type": "string"
            },
            "text/plain": [
              "'cat'"
            ]
          },
          "metadata": {},
          "execution_count": 2
        }
      ]
    },
    {
      "cell_type": "code",
      "source": [
        "myword.upper()\n",
        "'cat'.upper()"
      ],
      "metadata": {
        "colab": {
          "base_uri": "https://localhost:8080/",
          "height": 35
        },
        "id": "KIKhyy5vkmkA",
        "outputId": "ba1c1895-fc1e-4c71-d08a-9db189f5cc5b"
      },
      "execution_count": null,
      "outputs": [
        {
          "output_type": "execute_result",
          "data": {
            "application/vnd.google.colaboratory.intrinsic+json": {
              "type": "string"
            },
            "text/plain": [
              "'CAT'"
            ]
          },
          "metadata": {},
          "execution_count": 5
        }
      ]
    },
    {
      "cell_type": "code",
      "source": [
        "var = 4 \n",
        "print(id(var),id(4))"
      ],
      "metadata": {
        "colab": {
          "base_uri": "https://localhost:8080/"
        },
        "id": "7oI-E5_kk1Ap",
        "outputId": "8000a09c-cdf3-4dd9-c2c7-0fd1fb528600"
      },
      "execution_count": null,
      "outputs": [
        {
          "output_type": "stream",
          "name": "stdout",
          "text": [
            "94805197830752 94805197830752\n"
          ]
        }
      ]
    },
    {
      "cell_type": "code",
      "source": [
        "#shallow copy & deep copy\n",
        "mylist = [1,2,3]\n",
        "var = mylist\n",
        "var"
      ],
      "metadata": {
        "colab": {
          "base_uri": "https://localhost:8080/"
        },
        "id": "ahAKUcUdk0hA",
        "outputId": "e19fb132-65ae-4899-c260-bbd5bcdad996"
      },
      "execution_count": null,
      "outputs": [
        {
          "output_type": "execute_result",
          "data": {
            "text/plain": [
              "[1, 2, 3]"
            ]
          },
          "metadata": {},
          "execution_count": 7
        }
      ]
    },
    {
      "cell_type": "code",
      "source": [
        "mylist.append(4)\n",
        "print(mylist)\n",
        "print(var)\n",
        "\n",
        "# var and mylist has same id value\n",
        "print(id(mylist),id(var))"
      ],
      "metadata": {
        "colab": {
          "base_uri": "https://localhost:8080/"
        },
        "id": "jBWZciUfk0h-",
        "outputId": "2ff78dd7-cc9b-4b31-882c-5123022b9bee"
      },
      "execution_count": null,
      "outputs": [
        {
          "output_type": "stream",
          "name": "stdout",
          "text": [
            "[1, 2, 3, 4, 4, 4]\n",
            "[1, 2, 3, 4, 4, 4]\n",
            "140229867782784 140229867782784\n"
          ]
        }
      ]
    },
    {
      "cell_type": "code",
      "source": [
        "class Car : \n",
        "  pass\n",
        "\n",
        "class Car():\n",
        "  pass\n",
        "\n",
        "print(id(Car))\n",
        "print(id(Car))\n",
        "\n",
        "print(id(Car()))\n",
        "print(id(Car()))\n",
        "\n",
        "print(type(Car))\n",
        "print(type(Car()))\n",
        "\n",
        "# Car is 'type' value , Car() creates value that is .car type "
      ],
      "metadata": {
        "colab": {
          "base_uri": "https://localhost:8080/"
        },
        "id": "_FSI4WM_miOy",
        "outputId": "e9d7be65-16a8-47c2-dafe-40b529119f13"
      },
      "execution_count": null,
      "outputs": [
        {
          "output_type": "stream",
          "name": "stdout",
          "text": [
            "94805245186272\n",
            "94805245186272\n",
            "140229935867856\n",
            "140229867616976\n",
            "<class 'type'>\n",
            "<class '__main__.Car'>\n"
          ]
        }
      ]
    },
    {
      "cell_type": "code",
      "source": [
        "mycar = Car()\n",
        "mycar2 = Car() \n",
        "# instantication\n",
        "print(id(mycar))\n",
        "print(id(mycar2))\n",
        "\n",
        "# Class : CamelCase / Function : snake_case"
      ],
      "metadata": {
        "colab": {
          "base_uri": "https://localhost:8080/"
        },
        "id": "U9-ZgU5sqhVF",
        "outputId": "840d6029-444f-4dff-b0db-9c3379efa94d"
      },
      "execution_count": null,
      "outputs": [
        {
          "output_type": "stream",
          "name": "stdout",
          "text": [
            "140229867489680\n",
            "140229882159440\n"
          ]
        }
      ]
    },
    {
      "cell_type": "code",
      "source": [
        "class Car : \n",
        "  # attributes \n",
        "  color = 'red'\n",
        "  category = 'sports car'\n",
        "\n",
        "  # method : drive \n",
        "  # in class method , first parameter must be 'self' \n",
        "  # 'self' means 'The Value' that we instantiated\n",
        "  def drive(self) :\n",
        "    print('I\\'m driving!')\n",
        "  # method : accel (parameter : speed_up,current_speed)\n",
        "  def accel(self, speed_up,current_spped = 10):\n",
        "    self.speed_up = speed_up\n",
        "    self.current_spped = current_spped + speed_up\n",
        "    print('speed up',self.speed_up,'driving at',self.current_spped)"
      ],
      "metadata": {
        "id": "altNYC4IrYF2"
      },
      "execution_count": null,
      "outputs": []
    },
    {
      "cell_type": "code",
      "source": [
        "mycar = Car()\n",
        "print(mycar.color)\n",
        "\n",
        "mycar.drive()\n",
        "mycar.accel(5)"
      ],
      "metadata": {
        "colab": {
          "base_uri": "https://localhost:8080/"
        },
        "id": "J38Cw9tTtNAS",
        "outputId": "a900515d-cd65-4b8c-d874-f2f491328f31"
      },
      "execution_count": null,
      "outputs": [
        {
          "output_type": "stream",
          "name": "stdout",
          "text": [
            "red\n",
            "I'm driving!\n",
            "speed up 5 driving at 15\n"
          ]
        }
      ]
    },
    {
      "cell_type": "code",
      "source": [
        "class Car2:\n",
        "    def __init__(self, color, category):\n",
        "        self.color = color\n",
        "        self.category = category\n",
        "    # def __init__(self, color='red', category='sprots car'):\n",
        "    #     self.color = color\n",
        "    #     self.category = category\n",
        "    def drive(self):\n",
        "        print(\"I'm driving\")\n",
        "\n",
        "    def accel(self, speed_up, current_speed=10):\n",
        "        self.speed_up = speed_up\n",
        "        self.current_speed = current_speed + self.speed_up\n",
        "        print(\"speed up\", self.speed_up, \"driving at\", self.current_speed)\n",
        "\n",
        "# __init__ ?? magic method !?"
      ],
      "metadata": {
        "id": "Z03zueEUtrqU"
      },
      "execution_count": null,
      "outputs": []
    },
    {
      "cell_type": "code",
      "source": [
        "car1 = Car()\n",
        "car2 = Car2('yellow','sedan')\n",
        "\n",
        "car1.color\n",
        "car2.color\n",
        "car1.category\n",
        "car2.category"
      ],
      "metadata": {
        "colab": {
          "base_uri": "https://localhost:8080/",
          "height": 35
        },
        "id": "AAtJuK3gvfGB",
        "outputId": "38658f62-18a6-4f0b-fd4b-b083e799026e"
      },
      "execution_count": null,
      "outputs": [
        {
          "output_type": "execute_result",
          "data": {
            "application/vnd.google.colaboratory.intrinsic+json": {
              "type": "string"
            },
            "text/plain": [
              "'sedan'"
            ]
          },
          "metadata": {},
          "execution_count": 22
        }
      ]
    },
    {
      "cell_type": "code",
      "source": [
        "class Car:\n",
        "    Manufacture = \"India\"\n",
        "    # Class variable\n",
        "    def __init__(self, color, category='sedan'):\n",
        "        self.color = color\n",
        "        self.category = category\n",
        "        # instance variable "
      ],
      "metadata": {
        "id": "ddw0PYBIwQPq"
      },
      "execution_count": null,
      "outputs": []
    },
    {
      "cell_type": "code",
      "source": [
        "car1 = Car('red','sportscar')\n",
        "car2 = Car('white')\n",
        "print(car1.Manufacture,car1.color,car1.category)\n",
        "print(car2.Manufacture,car2.color,car2.category)"
      ],
      "metadata": {
        "colab": {
          "base_uri": "https://localhost:8080/"
        },
        "id": "8wcGheI00Ysj",
        "outputId": "6d2d13cf-6972-4436-a0aa-3d84c94db83d"
      },
      "execution_count": null,
      "outputs": [
        {
          "output_type": "stream",
          "name": "stdout",
          "text": [
            "India red sportscar\n",
            "India white sedan\n"
          ]
        }
      ]
    },
    {
      "cell_type": "code",
      "source": [
        "class Car:\n",
        "    Manufacture = \"India\"\n",
        "\n",
        "    def __init__(self, color='red', category='sedan'):\n",
        "        self.color = color\n",
        "        self.category = category\n",
        "\n",
        "    def drive(self):\n",
        "        print(\"I'm driving\")\n",
        "\n",
        "    def accel(self, speed_up, current_speed=10):\n",
        "        self.speed_up = speed_up\n",
        "        self.current_speed = current_speed + self.speed_up\n",
        "        print(\"speed up\", self.speed_up, \"driving at\", self.current_speed)"
      ],
      "metadata": {
        "id": "VSHflI6d08nm"
      },
      "execution_count": null,
      "outputs": []
    },
    {
      "cell_type": "code",
      "source": [
        "class NewCar(Car):\n",
        "  maker = 'Parsche'\n",
        "  def fly(self):\n",
        "    print('I\\'m flying!! This is the new car!!')\n",
        "\n",
        "car = NewCar()\n",
        "car.drive()\n",
        "car.accel(10)\n",
        "car.maker"
      ],
      "metadata": {
        "colab": {
          "base_uri": "https://localhost:8080/",
          "height": 70
        },
        "id": "2siHIlRC08og",
        "outputId": "490e989b-15cb-4d92-a32a-eecaba330686"
      },
      "execution_count": null,
      "outputs": [
        {
          "output_type": "stream",
          "name": "stdout",
          "text": [
            "I'm driving\n",
            "speed up 10 driving at 20\n"
          ]
        },
        {
          "output_type": "execute_result",
          "data": {
            "application/vnd.google.colaboratory.intrinsic+json": {
              "type": "string"
            },
            "text/plain": [
              "'Parsche'"
            ]
          },
          "metadata": {},
          "execution_count": 30
        }
      ]
    },
    {
      "cell_type": "code",
      "source": [
        "class NewCar(Car):\n",
        "  maker = 'Parsche'\n",
        "  def fly(self):\n",
        "    print('I\\'m flying!! This is the new car!!')\n",
        "\n",
        "  def drive(self):\n",
        "    print('I\\'m driving and can fly')"
      ],
      "metadata": {
        "id": "OEa6O1bqYGpU"
      },
      "execution_count": null,
      "outputs": []
    },
    {
      "cell_type": "code",
      "source": [
        "# super \n",
        "class NewCar(Car):\n",
        "    def __init__(self, color, category, maker):\n",
        "        super().__init__(color, category) # if car __init__ code were change it affects child class too ! \n",
        "        self.maker = maker\n",
        "\n",
        "    def fly(self):\n",
        "        print(\"I'm flying!! This is the new car!!\")\n",
        "\n",
        "    def accel(self, speed_up, level=1, current_speed=10):\n",
        "        self.boost[level] = {1 : 0, 2 : 30, 3 : 50}\n",
        "        self.speed_up = speed_up + self.boost[level]\n",
        "        self.current_speed = current_speed + self.speed_up\n",
        "        print(\"speed up\", self.speed_up, \"driving at\", self.current_speed)"
      ],
      "metadata": {
        "id": "fkw7SIubYZGQ"
      },
      "execution_count": null,
      "outputs": []
    },
    {
      "cell_type": "code",
      "source": [
        "# make my own dice! \n",
        "from random import randrange"
      ],
      "metadata": {
        "id": "f7CHewP3ywda"
      },
      "execution_count": null,
      "outputs": []
    },
    {
      "cell_type": "code",
      "source": [
        "\n",
        "def main():\n",
        "  n = get_inputs()\n",
        "  mydice = FunnyDice(n)\n",
        "  mydice.throw()\n",
        "  print('the Luckey Number is ....? {}'.format(mydice.getval()))\n"
      ],
      "metadata": {
        "id": "klN_JM56mnf_"
      },
      "execution_count": null,
      "outputs": []
    },
    {
      "cell_type": "code",
      "source": [
        "class FunnyDice : \n",
        "  def __init__(self,n=6):\n",
        "    self.n = int(n)\n",
        "    self.numbers = list(range(1,n+1))\n",
        "    self.index = randrange(0,self.n)\n",
        "    self.val = self.numbers[self.index]\n",
        "\n",
        "  \n",
        "  def throw(self):\n",
        "    self.index = randrange(0,self.n)\n",
        "    self.val = self.numbers[self.index]\n",
        "\n",
        "  def getval(self):\n",
        "    return self.val\n",
        "\n",
        "  def setval(self,val:int):\n",
        "    if val <= self.n:\n",
        "      self.val = val\n",
        "    else :\n",
        "      msg = '주사위에 없는 숫자입니다. 주사위는 1 ~ {0}까지 있습니다.'.format(self.n)\n",
        "      raise ValueError(msg)"
      ],
      "metadata": {
        "id": "cFGt5DE_nQ83"
      },
      "execution_count": null,
      "outputs": []
    },
    {
      "cell_type": "code",
      "source": [
        "def get_inputs():\n",
        "  n = int(input('주사위 면의 개수를 입력하세요 : '))\n",
        "  return n"
      ],
      "metadata": {
        "id": "p3_a9vNfnQ-C"
      },
      "execution_count": null,
      "outputs": []
    },
    {
      "cell_type": "code",
      "source": [
        "x = 40\n",
        "chr(x)"
      ],
      "metadata": {
        "colab": {
          "base_uri": "https://localhost:8080/",
          "height": 35
        },
        "id": "ZqsjKeTrqRnr",
        "outputId": "04ee275f-ff24-4784-b9f7-351f651c8e0a"
      },
      "execution_count": null,
      "outputs": [
        {
          "output_type": "execute_result",
          "data": {
            "application/vnd.google.colaboratory.intrinsic+json": {
              "type": "string"
            },
            "text/plain": [
              "'('"
            ]
          },
          "metadata": {},
          "execution_count": 1
        }
      ]
    },
    {
      "cell_type": "code",
      "source": [
        "def solution(arr):\n",
        "  arr.sort(reverse=True)\n",
        "  arr.remove(arr[-1])\n",
        "  return arr\n",
        "\n",
        "a = [3,6,4,7]  -> [6,4,7]\n",
        "print(solution(a))"
      ],
      "metadata": {
        "colab": {
          "base_uri": "https://localhost:8080/"
        },
        "id": "a0rcv_siuNw-",
        "outputId": "60b2cee7-f977-4cac-d3fe-1b22580ccec8"
      },
      "execution_count": null,
      "outputs": [
        {
          "output_type": "stream",
          "name": "stdout",
          "text": [
            "[7, 6, 4]\n"
          ]
        }
      ]
    }
  ]
}