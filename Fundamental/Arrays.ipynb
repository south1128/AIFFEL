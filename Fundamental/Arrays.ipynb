{
  "nbformat": 4,
  "nbformat_minor": 0,
  "metadata": {
    "colab": {
      "name": "DataProcessing.ipynb",
      "provenance": [],
      "collapsed_sections": []
    },
    "kernelspec": {
      "name": "python3",
      "display_name": "Python 3"
    },
    "language_info": {
      "name": "python"
    }
  },
  "cells": [
    {
      "cell_type": "code",
      "execution_count": null,
      "metadata": {
        "colab": {
          "base_uri": "https://localhost:8080/"
        },
        "id": "2KjdeQbSDbBY",
        "outputId": "3d469633-0f28-44e6-88bc-ac235c951aa3"
      },
      "outputs": [
        {
          "output_type": "stream",
          "name": "stdout",
          "text": [
            "Enter the number : (<Enter Key> to  quit)4\n",
            "Enter the number : (<Enter Key> to quit)5\n",
            "Enter the number : (<Enter Key> to quit)6\n",
            "Enter the number : (<Enter Key> to quit)7\n",
            "Enter the number : (<Enter Key> to quit)\n",
            "\n",
            " average is 22.0\n"
          ]
        }
      ],
      "source": [
        "total = 0\n",
        "count = 0\n",
        "\n",
        "numbers = input('Enter the number : (<Enter Key> to  quit)')\n",
        "while numbers != '':\n",
        "  try:\n",
        "    x = float(numbers)\n",
        "    count =+ 1\n",
        "    total = total + x \n",
        "  except ValueError:\n",
        "    print('Not a number! Ignored...')\n",
        "  numbers = input('Enter the number : (<Enter Key> to quit)')\n",
        "avg = total / count \n",
        "print('\\n average is',avg)\n",
        "  "
      ]
    },
    {
      "cell_type": "code",
      "source": [
        "def numbers():\n",
        "  X = []\n",
        "  while True:\n",
        "    number = input('Enter a number (<Enter Key> to quit)')\n",
        "    while number !=\"\":\n",
        "      try:\n",
        "        x = float(number)\n",
        "        X.append(x)   #Python list ->sequence type : Dynamic Array\n",
        "      except ValueError:\n",
        "        print('>>> Not a Number! ignored...')\n",
        "      number = input('Enter a number (<Enter Key> to quit)')\n",
        "    if len(X) > 1:\n",
        "      return X\n",
        "X = numbers()\n",
        "\n",
        "print('X : ',X)\n",
        "\n",
        "total = 0.0\n",
        "for i in range(len(X)):\n",
        "  total = total + X[i]\n",
        "mean = total / len(X)\n",
        "\n",
        "print('sum of X : ',total)\n",
        "\n",
        "def median(nums):\n",
        "  nums.sort()\n",
        "  size = len(nums)\n",
        "  p = size // 2   #몫 연산자 (//) - > size 7 일때 우리가 원하는 값은 3 not 3.5\n",
        "  if size % 2 ==0:\n",
        "    pr = p\n",
        "    pl = p-1\n",
        "    mid = float((nums[pl]+nums[pr])/2)\n",
        "  else:\n",
        "    mid = nums[p]\n",
        "  return mid\n",
        "\n",
        "print('X : ',X)\n",
        "median(X)\n",
        "\n",
        "def means(nums):\n",
        "  total = 0.0\n",
        "  for i in range(len(nums)):\n",
        "    total = total + nums[i]\n",
        "    return total / len(nums)\n",
        "\n",
        "means(X)\n",
        "\n",
        "avg = means(X)\n",
        "\n",
        "def std_dev(nums,avg):\n",
        "  texp = 0.0\n",
        "  for i in range(len(nums)):\n",
        "    texp = texp + (nums[i] - avg) ** 2\n",
        "    return (texp/len(nums)) ** 0.5\n",
        "\n",
        "std_dev(X,avg)"
      ],
      "metadata": {
        "colab": {
          "base_uri": "https://localhost:8080/"
        },
        "id": "PlIMG0tdKLV2",
        "outputId": "260b8148-7af8-4ed7-a30c-ff521764cbb3"
      },
      "execution_count": null,
      "outputs": [
        {
          "output_type": "stream",
          "name": "stdout",
          "text": [
            "Enter a number (<Enter Key> to quit)3\n",
            "Enter a number (<Enter Key> to quit)4\n",
            "Enter a number (<Enter Key> to quit)5\n",
            "Enter a number (<Enter Key> to quit)\n",
            "X :  [3.0, 4.0, 5.0]\n",
            "sum of X :  12.0\n",
            "X :  [3.0, 4.0, 5.0]\n"
          ]
        },
        {
          "output_type": "execute_result",
          "data": {
            "text/plain": [
              "4.0"
            ]
          },
          "metadata": {},
          "execution_count": 14
        }
      ]
    },
    {
      "cell_type": "code",
      "source": [
        "def main():\n",
        "  med = median(X)\n",
        "  avg = means(X)\n",
        "  std = std_dev(X,avg)\n",
        "  print('당신이 입력한 숫자{}의 '.format(X))\n",
        "  print('중앙값은{}, 평균은{}, 표준편차는{} 입니다.'.format(med,avg,std))"
      ],
      "metadata": {
        "id": "UlHHlJoEaOwb"
      },
      "execution_count": null,
      "outputs": []
    },
    {
      "cell_type": "code",
      "source": [
        "def numbers():\n",
        "  X = []\n",
        "  while True:\n",
        "    number = input('Enter a number (<Enter Key> to quit)')\n",
        "    while number !=\"\":\n",
        "      try:\n",
        "        x = float(number)\n",
        "        X.append(x)   #Python list ->sequence type : Dynamic Array\n",
        "      except ValueError:\n",
        "        print('>>> Not a Number! ignored...')\n",
        "      number = input('Enter a number (<Enter Key> to quit)')\n",
        "    if len(X) > 1:\n",
        "      return X\n",
        "\n",
        "def median(nums):\n",
        "  nums.sort()\n",
        "  size = len(nums)\n",
        "  p = size // 2   #몫 연산자 (//) - > size 7 일때 우리가 원하는 값은 3 not 3.5\n",
        "  if size % 2 ==0:\n",
        "    pr = p\n",
        "    pl = p-1\n",
        "    mid = float((nums[pl]+nums[pr])/2)\n",
        "  else:\n",
        "    mid = nums[p]\n",
        "  return mid\n",
        "\n",
        "def means(nums):\n",
        "  total = 0.0\n",
        "  for i in range(len(nums)):\n",
        "    total = total + nums[i]\n",
        "    return total / len(nums)\n",
        "\n",
        "def std_dev(nums,avg):\n",
        "  texp = 0.0\n",
        "  for i in range(len(nums)):\n",
        "    texp = texp + (nums[i] - avg) ** 2\n",
        "    return (texp/len(nums)) ** 0.5\n",
        "\n",
        "def main():\n",
        "  med = median(X)\n",
        "  avg = means(X)\n",
        "  std = std_dev(X,avg)\n",
        "  print('당신이 입력한 숫자{}의 '.format(X))\n",
        "  print('중앙값은{}, 평균은{}, 표준편차는{} 입니다.'.format(med,avg,std))\n",
        "\n",
        "if __name__ == '__main__':\n",
        "  main()"
      ],
      "metadata": {
        "id": "senSPjstaOxq"
      },
      "execution_count": null,
      "outputs": []
    },
    {
      "cell_type": "code",
      "source": [
        "import array as arr\n",
        "\n",
        "mylist = [1,2,3]\n",
        "print(type(mylist))\n",
        "\n",
        "mylist.append('4')\n",
        "print(mylist)\n",
        "\n",
        "mylist.insert(1,5)\n",
        "print(mylist)\n",
        "\n",
        "myarray = arr.array('i',[1,2,3])\n",
        "print(type(myarray))\n",
        "\n",
        "# myarray.append('4')\n",
        "print(myarray)\n",
        "#Error code : integer is required (got type str)\n",
        "\n",
        "myarray.insert(1,5)\n",
        "print(myarray)\n",
        "\n",
        "# List : built- in / mixed elements type\n",
        "# Array : import needed / all element have to have same type and size"
      ],
      "metadata": {
        "colab": {
          "base_uri": "https://localhost:8080/"
        },
        "id": "42BUVFqjSV_5",
        "outputId": "a34b8156-c060-4856-bcb1-a0e2820975b3"
      },
      "execution_count": null,
      "outputs": [
        {
          "output_type": "stream",
          "name": "stdout",
          "text": [
            "<class 'list'>\n",
            "[1, 2, 3, '4']\n",
            "[1, 5, 2, 3, '4']\n",
            "<class 'array.array'>\n",
            "array('i', [1, 2, 3])\n",
            "array('i', [1, 5, 2, 3])\n"
          ]
        }
      ]
    },
    {
      "cell_type": "code",
      "source": [
        "import numpy as np\n",
        "\n",
        "A = np.arange(5)\n",
        "B = np.array([0,1,2,3,4])\n",
        "\n",
        "C = np.array([0,1,2,3,'4'])\n",
        "# numpy.ndarry can only have same type elements\n",
        "\n",
        "D = np.ndarray((5,),np.int64,np.array([0,1,2,3,4]))\n",
        "\n",
        "print(A)\n",
        "print(type(A))\n",
        "print('---------------------------------')\n",
        "print(B)\n",
        "print(type(B))\n",
        "print('---------------------------------')\n",
        "print(C)\n",
        "print(type(C))\n",
        "print('---------------------------------')\n",
        "print(D)\n",
        "print(type(D))"
      ],
      "metadata": {
        "colab": {
          "base_uri": "https://localhost:8080/"
        },
        "id": "jPidobCA4MSF",
        "outputId": "a40a414a-4061-4ca6-c32d-f10b3e36f90f"
      },
      "execution_count": null,
      "outputs": [
        {
          "output_type": "stream",
          "name": "stdout",
          "text": [
            "[0 1 2 3 4]\n",
            "<class 'numpy.ndarray'>\n",
            "---------------------------------\n",
            "[0 1 2 3 4]\n",
            "<class 'numpy.ndarray'>\n",
            "---------------------------------\n",
            "['0' '1' '2' '3' '4']\n",
            "<class 'numpy.ndarray'>\n",
            "---------------------------------\n",
            "[0 1 2 3 4]\n",
            "<class 'numpy.ndarray'>\n"
          ]
        }
      ]
    },
    {
      "cell_type": "code",
      "source": [
        "A = np.arange(10).reshape(2,5)\n",
        "\n",
        "print('행렬의 모양 : ',A.shape)\n",
        "print('행렬의 축 개수 : ',A.ndim)\n",
        "print('행렬 내의 원소 개수 : ',A.size)"
      ],
      "metadata": {
        "colab": {
          "base_uri": "https://localhost:8080/"
        },
        "id": "fYxc6PpH5nKx",
        "outputId": "ca791a37-738d-4b26-e7ff-ca6481871653"
      },
      "execution_count": null,
      "outputs": [
        {
          "output_type": "stream",
          "name": "stdout",
          "text": [
            "행렬의 모양 :  (2, 5)\n",
            "행렬의 축 개수 :  2\n",
            "행렬 내의 원소 개수 :  10\n"
          ]
        }
      ]
    },
    {
      "cell_type": "code",
      "source": [
        "A = np.arange(10)\n",
        "print('A: ', A)\n",
        "B = np.arange(10).reshape(2,5)\n",
        "print('B: ', B)\n",
        "C = np.arange(10).reshape(3,3)  # 이 줄에서 에러가 날 것입니다.\n",
        "print('C: ', C)\n",
        "\n",
        "# before and after reshape np.size has to be the same"
      ],
      "metadata": {
        "id": "AHURjKLe6E95"
      },
      "execution_count": null,
      "outputs": []
    },
    {
      "cell_type": "code",
      "source": [
        "A = np.arange(6).reshape(2,3)\n",
        "print(A)\n",
        "print(A.dtype)\n",
        "print(type(A))\n",
        "print('----------------------------')\n",
        "\n",
        "B = np.array([0,1,2,3,4,5])\n",
        "print(B)\n",
        "print(B.dtype)\n",
        "print(type(B))\n",
        "print('----------------------------')\n",
        "\n",
        "C = np.array([0,1,2,3,'4',5])\n",
        "print(C)\n",
        "print(C.dtype)\n",
        "print(type(C))\n",
        "print('----------------------------')\n",
        "\n",
        "D = np.array([0,1,2,3,[4,5],6])\n",
        "print(D)\n",
        "print(D.dtype)\n",
        "print(type(D))\n",
        "print('----------------------------')\n",
        "\n",
        "# .dtype : shows type of items in numpy ndarray\n",
        "# Creating an ndarray from ragged nested sequences is deprecated\n",
        "\n",
        "E = np.array([0,1,2,3,[4,5],6],dtype=object)\n",
        "print(D)\n",
        "print(D.dtype)\n",
        "print(type(D))"
      ],
      "metadata": {
        "colab": {
          "base_uri": "https://localhost:8080/"
        },
        "id": "OWi7Cy556E_I",
        "outputId": "647b8f94-9924-4e47-da5b-151ceeeba7fe"
      },
      "execution_count": null,
      "outputs": [
        {
          "output_type": "stream",
          "name": "stdout",
          "text": [
            "[[0 1 2]\n",
            " [3 4 5]]\n",
            "int64\n",
            "<class 'numpy.ndarray'>\n",
            "----------------------------\n",
            "[0 1 2 3 4 5]\n",
            "int64\n",
            "<class 'numpy.ndarray'>\n",
            "----------------------------\n",
            "['0' '1' '2' '3' '4' '5']\n",
            "<U21\n",
            "<class 'numpy.ndarray'>\n",
            "----------------------------\n",
            "[0 1 2 3 list([4, 5]) 6]\n",
            "object\n",
            "<class 'numpy.ndarray'>\n",
            "----------------------------\n",
            "[0 1 2 3 list([4, 5]) 6]\n",
            "object\n",
            "<class 'numpy.ndarray'>\n"
          ]
        },
        {
          "output_type": "stream",
          "name": "stderr",
          "text": [
            "/usr/local/lib/python3.7/dist-packages/ipykernel_launcher.py:19: VisibleDeprecationWarning: Creating an ndarray from ragged nested sequences (which is a list-or-tuple of lists-or-tuples-or ndarrays with different lengths or shapes) is deprecated. If you meant to do this, you must specify 'dtype=object' when creating the ndarray\n"
          ]
        }
      ]
    },
    {
      "cell_type": "code",
      "source": [
        "C = np.array([0,1,2,3,'4',5])\n",
        "print(C[0])\n",
        "print(type(C[0]))\n",
        "print(C[4])\n",
        "print(type(C[4]))\n",
        "print('--------------------------------')\n",
        "\n",
        "D = np.array([0,1,2,3,[4,5],6],dtype=object)\n",
        "print(D[0])\n",
        "print(type(D[0]))\n",
        "print(D[4])\n",
        "print(type(D[4]))"
      ],
      "metadata": {
        "colab": {
          "base_uri": "https://localhost:8080/"
        },
        "id": "qEMrUmLG8pmN",
        "outputId": "8ac4d036-bc7c-4996-eb0b-4098c772bc85"
      },
      "execution_count": null,
      "outputs": [
        {
          "output_type": "stream",
          "name": "stdout",
          "text": [
            "0\n",
            "<class 'numpy.str_'>\n",
            "4\n",
            "<class 'numpy.str_'>\n",
            "--------------------------------\n",
            "0\n",
            "<class 'int'>\n",
            "[4, 5]\n",
            "<class 'list'>\n"
          ]
        }
      ]
    },
    {
      "cell_type": "code",
      "source": [
        "A = np.eye(3)  \n",
        "#단위행렬\n",
        "B = np.zeros([2,3])\n",
        "#0행렬\n",
        "C = np.ones([3,3])\n",
        "#1행렬\n",
        "print(A)\n",
        "print(B)\n",
        "print(C)"
      ],
      "metadata": {
        "colab": {
          "base_uri": "https://localhost:8080/"
        },
        "id": "tKZq2MRc9aoK",
        "outputId": "5b01562a-d762-4745-fdba-a2d76f2d7acf"
      },
      "execution_count": null,
      "outputs": [
        {
          "output_type": "stream",
          "name": "stdout",
          "text": [
            "[[1. 0. 0.]\n",
            " [0. 1. 0.]\n",
            " [0. 0. 1.]]\n",
            "[[0. 0. 0.]\n",
            " [0. 0. 0.]]\n",
            "[[1. 1. 1.]\n",
            " [1. 1. 1.]\n",
            " [1. 1. 1.]]\n"
          ]
        }
      ]
    },
    {
      "cell_type": "code",
      "source": [
        "A = np.arange(9).reshape(3,3)\n",
        "print(A)\n",
        "\n",
        "print(A*2)\n",
        "\n",
        "print(A+2)"
      ],
      "metadata": {
        "colab": {
          "base_uri": "https://localhost:8080/"
        },
        "id": "DIykSCEl9apd",
        "outputId": "cf699220-5cbe-4ecf-b13d-aa57111a5cef"
      },
      "execution_count": null,
      "outputs": [
        {
          "output_type": "stream",
          "name": "stdout",
          "text": [
            "[[0 1 2]\n",
            " [3 4 5]\n",
            " [6 7 8]]\n",
            "[[ 0  2  4]\n",
            " [ 6  8 10]\n",
            " [12 14 16]]\n",
            "[[ 2  3  4]\n",
            " [ 5  6  7]\n",
            " [ 8  9 10]]\n"
          ]
        }
      ]
    },
    {
      "cell_type": "code",
      "source": [
        "A = np.arange(9).reshape(3,3)\n",
        "B = np.array([1,2,3]) #1*3 Mattrix\n",
        "print('A : ',A)\n",
        "print('B : ',B)\n",
        "print('\\nA+B : ', A+B)\n",
        "\n",
        "C = np.array([[1],[2],[3]]) #3*1 Mattrix \n",
        "print('A : ',A)\n",
        "print('C : ',C)\n",
        "print('\\nA+C : ', A+C)\n",
        "\n",
        "D = np.array([1,2])\n",
        "print('A : ',A)\n",
        "print('D : ',D)\n",
        "print('\\nA+D : ', A+D)\n",
        "#Error Code : Value Error -> operands could not be broadcast together"
      ],
      "metadata": {
        "colab": {
          "base_uri": "https://localhost:8080/"
        },
        "id": "qdAWiRrq-OyP",
        "outputId": "92770fa8-a490-46a6-a45d-715b18a4d663"
      },
      "execution_count": null,
      "outputs": [
        {
          "output_type": "stream",
          "name": "stdout",
          "text": [
            "A :  [[0 1 2]\n",
            " [3 4 5]\n",
            " [6 7 8]]\n",
            "B :  [1 2 3]\n",
            "\n",
            "A+B :  [[ 1  3  5]\n",
            " [ 4  6  8]\n",
            " [ 7  9 11]]\n",
            "A :  [[0 1 2]\n",
            " [3 4 5]\n",
            " [6 7 8]]\n",
            "C :  [[1]\n",
            " [2]\n",
            " [3]]\n",
            "\n",
            "A+C :  [[ 1  2  3]\n",
            " [ 5  6  7]\n",
            " [ 9 10 11]]\n"
          ]
        }
      ]
    },
    {
      "cell_type": "code",
      "source": [
        "print([1,2]+[3,4])\n",
        "print([1,2]+3)\n",
        "\n",
        "# Error Code : Type Error : can only concatenate list to list\n",
        "\n",
        "print(np.array([1,2])+np.array([3,4]))\n",
        "print(np.array([1,2])+3)"
      ],
      "metadata": {
        "colab": {
          "base_uri": "https://localhost:8080/"
        },
        "id": "2y4KdU2K_T8F",
        "outputId": "4a98cea6-8503-453d-cf3d-c2ee0bf88d78"
      },
      "execution_count": null,
      "outputs": [
        {
          "output_type": "stream",
          "name": "stdout",
          "text": [
            "[4 6]\n",
            "[4 5]\n"
          ]
        }
      ]
    },
    {
      "cell_type": "code",
      "source": [
        "A = np.arange(9).reshape(3,3)\n",
        "print('A : ',A)\n",
        "B = A[0]\n",
        "print('B : ',B)\n",
        "\n",
        "print(A[0,1])\n",
        "print(B[1])\n",
        "\n",
        "print(A[:-1])"
      ],
      "metadata": {
        "colab": {
          "base_uri": "https://localhost:8080/"
        },
        "id": "a4AqwNjvACcy",
        "outputId": "07eea236-724b-4bd4-cf72-a0f2874532f7"
      },
      "execution_count": null,
      "outputs": [
        {
          "output_type": "stream",
          "name": "stdout",
          "text": [
            "A :  [[0 1 2]\n",
            " [3 4 5]\n",
            " [6 7 8]]\n",
            "B :  [0 1 2]\n",
            "1\n",
            "1\n",
            "[[0 1 2]\n",
            " [3 4 5]]\n"
          ]
        }
      ]
    },
    {
      "cell_type": "code",
      "source": [
        "# Random\n",
        "\n",
        "print(np.random.random()) \n",
        "#  a random number in format of float\n",
        "\n",
        "print(np.random.randint(0,10)) \n",
        "# a random number in format of integer\n",
        "\n",
        "print(np.random.choice([0,1,2,3,4,5,6,7.8,9])) \n",
        "# choose one in random among the list items"
      ],
      "metadata": {
        "colab": {
          "base_uri": "https://localhost:8080/"
        },
        "id": "olPpfyg_Biht",
        "outputId": "a5eefdf5-8f40-409c-8e89-d73318356e50"
      },
      "execution_count": null,
      "outputs": [
        {
          "output_type": "stream",
          "name": "stdout",
          "text": [
            "0.7680714966196122\n",
            "5\n",
            "9.0\n"
          ]
        }
      ]
    },
    {
      "cell_type": "code",
      "source": [
        "print(np.random.permutation(10))\n",
        "print(np.random.permutation([0,1,2,3,4,5,6,7,8,9]))\n",
        "# Create a ramdom matrix(or list/array)\n",
        "\n",
        "print(np.random.normal(loc=0,scale=1,size=5))\n",
        "# Normal distribution (average=loc, standard deviation=scale)\n",
        "print(np.random.uniform(low=-1,high=1,size=5))\n",
        "# Uniform distribution "
      ],
      "metadata": {
        "colab": {
          "base_uri": "https://localhost:8080/"
        },
        "id": "ooXfzSuPBijC",
        "outputId": "627c749e-33c7-4051-ec47-5d068e463872"
      },
      "execution_count": null,
      "outputs": [
        {
          "output_type": "stream",
          "name": "stdout",
          "text": [
            "[8 4 2 5 0 9 3 1 6 7]\n",
            "[8 4 0 1 6 7 3 9 5 2]\n",
            "[ 0.01187773  0.03816465  0.74605825  0.38171814 -0.02214604]\n",
            "[-0.85965827  0.7077318  -0.40580582 -0.20552359  0.03483815]\n"
          ]
        }
      ]
    },
    {
      "cell_type": "code",
      "source": [
        ""
      ],
      "metadata": {
        "id": "wmFRpdUmH8kF"
      },
      "execution_count": null,
      "outputs": []
    },
    {
      "cell_type": "code",
      "source": [
        "# Transpose Matrix\n",
        "\n",
        "A = np.arange(24).reshape(2,3,4)\n",
        "print('A : ',A)\n",
        "print('A 의 전치행렬 : ',A.T)\n",
        "print('A 의 전치행렬의 shape : ',A.T.shape)\n",
        "\n",
        "\n",
        "B = np.transpose(A,(2,0,1))\n",
        "print('A : ',A)\n",
        "print('B : ',B)\n",
        "print('B.shape: ',B.shape)"
      ],
      "metadata": {
        "colab": {
          "base_uri": "https://localhost:8080/"
        },
        "id": "iEqsUP8LC-Pu",
        "outputId": "208d5102-2fe3-4bbc-99cd-808c4c95f0e0"
      },
      "execution_count": null,
      "outputs": [
        {
          "output_type": "stream",
          "name": "stdout",
          "text": [
            "A :  [[[ 0  1  2  3]\n",
            "  [ 4  5  6  7]\n",
            "  [ 8  9 10 11]]\n",
            "\n",
            " [[12 13 14 15]\n",
            "  [16 17 18 19]\n",
            "  [20 21 22 23]]]\n",
            "A 의 전치행렬 :  [[[ 0 12]\n",
            "  [ 4 16]\n",
            "  [ 8 20]]\n",
            "\n",
            " [[ 1 13]\n",
            "  [ 5 17]\n",
            "  [ 9 21]]\n",
            "\n",
            " [[ 2 14]\n",
            "  [ 6 18]\n",
            "  [10 22]]\n",
            "\n",
            " [[ 3 15]\n",
            "  [ 7 19]\n",
            "  [11 23]]]\n",
            "A 의 전치행렬의 shape :  (4, 3, 2)\n",
            "A :  [[[ 0  1  2  3]\n",
            "  [ 4  5  6  7]\n",
            "  [ 8  9 10 11]]\n",
            "\n",
            " [[12 13 14 15]\n",
            "  [16 17 18 19]\n",
            "  [20 21 22 23]]]\n",
            "B :  [[[ 0  4  8]\n",
            "  [12 16 20]]\n",
            "\n",
            " [[ 1  5  9]\n",
            "  [13 17 21]]\n",
            "\n",
            " [[ 2  6 10]\n",
            "  [14 18 22]]\n",
            "\n",
            " [[ 3  7 11]\n",
            "  [15 19 23]]]\n",
            "B.shape:  (4, 2, 3)\n"
          ]
        }
      ]
    },
    {
      "cell_type": "code",
      "source": [
        "import numpy as np\n",
        "\n",
        "def numbers():\n",
        "    X = []\n",
        "    number = input(\"Enter a number (<Enter key> to quit)\") \n",
        "    # 하지만 2개 이상의 숫자를 받아야 한다는 제약조건을 제외\n",
        "    while number != \"\":\n",
        "        try:\n",
        "            x = float(number)\n",
        "            X.append(x)\n",
        "        except ValueError:\n",
        "            print('>>> NOT a number! Ignored..')\n",
        "        number = input(\"Enter a number (<Enter key> to quit)\")\n",
        "    return X\n",
        "\n",
        "def main():\n",
        "    nums = numbers()       # 이것은 파이썬 리스트입니다. \n",
        "    num = np.array(nums)   # 리스트를 Numpy ndarray로 변환합니다.\n",
        "    print(\"합\", num.sum())\n",
        "    print(\"평균값\",num.mean())\n",
        "    print(\"표준편차\",num.std())\n",
        "    print(\"중앙값\",np.median(num))   # num.median() 이 아님에 유의해 주세요.\n",
        "\n",
        "main()"
      ],
      "metadata": {
        "id": "xFxd4B61EZuY"
      },
      "execution_count": null,
      "outputs": []
    },
    {
      "cell_type": "code",
      "source": [
        "## How to handle different types of data in Numpy ##\n",
        "\n",
        "# Audio and Timeseries\n",
        "# An audio file is a one-dimensional arrya of samples. \n",
        "# load the file into a Numpy array and call 'audio' and get audio[:44110]\n",
        "\n",
        "# Images\n",
        "# An image is a matrix of pixels of size(height*width)\n",
        "# - black&white iamge : each pixel can be represented by a single number\n",
        "#                       tell Numpy to get image[:10,:10]\n",
        "# - colored image : each pixel is represented by three numbers ( a vaule for each of red, green and blue)\n",
        "#                   which means that we need a 3rd dimension \n",
        "#                   (colored image is represented by an ndarray of dimensions(height*weight*3))\n",
        "\n",
        "# Language\n",
        "# The numeric representation of text requires a step of building a vocabulary and an embeding step\n",
        "# A model needs to look at a large amount of text before it can numerically represent the words\n",
        "# [batch_size,sequence_length,embeding_size]\n"
      ],
      "metadata": {
        "id": "GS7y81riH-tG"
      },
      "execution_count": null,
      "outputs": []
    },
    {
      "cell_type": "code",
      "source": [
        "import matplotlib as mpl\n",
        "import PIL\n",
        "\n",
        "print(f'# matplotlib: {mpl.__version__}')\n",
        "print(f'# PIL: {PIL.__version__}')"
      ],
      "metadata": {
        "colab": {
          "base_uri": "https://localhost:8080/"
        },
        "id": "lakTTlbOLcxW",
        "outputId": "85c891ad-f5df-4de7-e772-3c04257a96eb"
      },
      "execution_count": null,
      "outputs": [
        {
          "output_type": "stream",
          "name": "stdout",
          "text": [
            "# matplotlib: 3.2.2\n",
            "# PIL: 7.1.2\n"
          ]
        }
      ]
    },
    {
      "cell_type": "code",
      "source": [
        "from PIL import Image, ImageColor\n",
        "import os\n",
        "# img_path = content/drive/MyDrive/newyork.jpeg\n",
        "img = Image.open('/content/drive/MyDrive/newyork.jpeg')\n",
        "print(type(img))\n",
        "print(img)\n",
        "\n",
        "W,H = img.size\n",
        "print((W,H))    # size\n",
        "print(img.format)\n",
        "print(img.mode)\n",
        "\n",
        "print(img.crop((30,30,100,100))) # 가로 세로의 시작점과 종료점 총 4개 입력\n",
        "\n",
        "cropped_img_path = '/content/drive/MyDrive/newyork_cropped.jpeg'\n",
        "img.crop((30,30,100,100)).save(cropped_img_path)\n",
        "print('저장완료!')"
      ],
      "metadata": {
        "colab": {
          "base_uri": "https://localhost:8080/"
        },
        "id": "XuPN-i2LLcys",
        "outputId": "c22f255e-e6ac-430f-f28e-0ed18b249e98"
      },
      "execution_count": null,
      "outputs": [
        {
          "output_type": "stream",
          "name": "stdout",
          "text": [
            "<class 'PIL.JpegImagePlugin.JpegImageFile'>\n",
            "<PIL.JpegImagePlugin.JpegImageFile image mode=RGB size=212x300 at 0x7F9388C3B250>\n",
            "(212, 300)\n",
            "JPEG\n",
            "RGB\n",
            "저장완료!\n"
          ]
        }
      ]
    },
    {
      "cell_type": "code",
      "source": [
        "import numpy as np\n",
        "img_arr = np.array(img)\n",
        "print(type(img))\n",
        "print(type(img_arr))\n",
        "print(img_arr.shape)\n",
        "print(img_arr.ndim)\n",
        "\n",
        "img_arr"
      ],
      "metadata": {
        "colab": {
          "base_uri": "https://localhost:8080/"
        },
        "id": "Ues6sywf490z",
        "outputId": "61762c8c-c3f6-41e9-9f55-a14f81464bac"
      },
      "execution_count": null,
      "outputs": [
        {
          "output_type": "stream",
          "name": "stdout",
          "text": [
            "<class 'PIL.JpegImagePlugin.JpegImageFile'>\n",
            "<class 'numpy.ndarray'>\n",
            "(300, 212, 3)\n",
            "3\n"
          ]
        },
        {
          "output_type": "execute_result",
          "data": {
            "text/plain": [
              "array([[[133, 180, 250],\n",
              "        [133, 180, 250],\n",
              "        [133, 180, 250],\n",
              "        ...,\n",
              "        [133, 180, 250],\n",
              "        [133, 180, 250],\n",
              "        [133, 180, 250]],\n",
              "\n",
              "       [[133, 180, 250],\n",
              "        [133, 180, 250],\n",
              "        [133, 180, 250],\n",
              "        ...,\n",
              "        [133, 180, 250],\n",
              "        [133, 180, 250],\n",
              "        [133, 180, 250]],\n",
              "\n",
              "       [[133, 180, 250],\n",
              "        [133, 180, 250],\n",
              "        [133, 180, 250],\n",
              "        ...,\n",
              "        [133, 180, 250],\n",
              "        [133, 180, 250],\n",
              "        [133, 180, 250]],\n",
              "\n",
              "       ...,\n",
              "\n",
              "       [[164, 199, 255],\n",
              "        [164, 199, 255],\n",
              "        [164, 199, 255],\n",
              "        ...,\n",
              "        [164, 199, 255],\n",
              "        [164, 199, 255],\n",
              "        [164, 199, 255]],\n",
              "\n",
              "       [[164, 199, 255],\n",
              "        [164, 199, 255],\n",
              "        [164, 199, 255],\n",
              "        ...,\n",
              "        [164, 199, 255],\n",
              "        [164, 199, 255],\n",
              "        [164, 199, 255]],\n",
              "\n",
              "       [[164, 199, 255],\n",
              "        [164, 199, 255],\n",
              "        [164, 199, 255],\n",
              "        ...,\n",
              "        [164, 199, 255],\n",
              "        [164, 199, 255],\n",
              "        [164, 199, 255]]], dtype=uint8)"
            ]
          },
          "metadata": {},
          "execution_count": 13
        }
      ]
    },
    {
      "cell_type": "code",
      "source": [
        "from PIL import Image, ImageColor\n",
        "import numpy as np\n",
        "\n",
        "import os\n",
        "img_path = '/content/drive/MyDrive/newyork.jpeg'\n",
        "img_g = Image.open(img_path).convert('L')\n",
        "img_g\n",
        "\n",
        "img_g_arr = np.array(img_g)\n",
        "print(type(img_g_arr))\n",
        "print(img_g_arr.shape)\n",
        "print(img_g_arr.ndim)\n",
        "\n",
        "img_g_arr\n",
        "\n",
        "red = ImageColor.getcolor('RED','RGB')\n",
        "reda = ImageColor.getcolor('red','RGBA')\n",
        "yellow = ImageColor.getcolor('yellow','RGB')\n",
        "print(red)\n",
        "print(reda)\n",
        "print(yellow)"
      ],
      "metadata": {
        "colab": {
          "base_uri": "https://localhost:8080/"
        },
        "id": "E_PLCjV75lFj",
        "outputId": "1306ead0-fa6c-4a31-f69a-2b176c05946f"
      },
      "execution_count": null,
      "outputs": [
        {
          "output_type": "stream",
          "name": "stdout",
          "text": [
            "<class 'numpy.ndarray'>\n",
            "(300, 212)\n",
            "2\n",
            "(255, 0, 0)\n",
            "(255, 0, 0, 255)\n",
            "(255, 255, 0)\n"
          ]
        }
      ]
    },
    {
      "cell_type": "code",
      "source": [
        "# 파이썬 dict 로 표현한 전화번호부입니다. \n",
        "Country_PhoneNumber = {'Korea': 82, 'America': 1, 'Swiss': 41, 'Italy': 39, 'Japan': 81, 'China': 86, 'Rusia': 7}\n",
        "Country_PhoneNumber['Korea']  # 키를 가지고 값을 조회할 수 있습니다."
      ],
      "metadata": {
        "colab": {
          "base_uri": "https://localhost:8080/"
        },
        "id": "xjhPp31DQfyM",
        "outputId": "47b66b0a-fbb4-494f-b7d3-da7e01fa0ca5"
      },
      "execution_count": null,
      "outputs": [
        {
          "output_type": "execute_result",
          "data": {
            "text/plain": [
              "82"
            ]
          },
          "metadata": {},
          "execution_count": 8
        }
      ]
    },
    {
      "cell_type": "code",
      "source": [
        "treasure_box = {'rope':2, \n",
        "                'apple':10, \n",
        "                'torch': 6, \n",
        "                'gold coin': 50, \n",
        "                'knife': 1, \n",
        "                'arrow': 30}\n",
        "\n",
        "def display_stuff(treasure_box):\n",
        "    print(\"Congraturation!! you got a treasure box\")\n",
        "    for k, v in treasure_box.items():\n",
        "        print(\"you have {} {}pcs\".format(k, v))\n",
        "display_stuff(treasure_box)\n",
        "\n",
        "coin_per_treasure = {'rope':1,\n",
        "        'apple':2,\n",
        "        'torch': 2,\n",
        "        'gold coin': 5, \n",
        "        'knife': 30,\n",
        "        'arrow': 1}\n",
        "\n",
        "def total_silver(treasure_box, coin_per_treasure):\n",
        "    total_coin = 0\n",
        "    for treasure in treasure_box:\n",
        "        coin = coin_per_treasure[treasure] * treasure_box[treasure]\n",
        "        print(\"{} : {}coins/pcs * {}pcs = {} coins\".format(\n",
        "          treasure, coin_per_treasure[treasure], treasure_box[treasure], coin))\n",
        "        total_coin += coin\n",
        "    print('total_coin : ', total_coin)\n",
        "total_silver(treasure_box, coin_per_treasure)"
      ],
      "metadata": {
        "colab": {
          "base_uri": "https://localhost:8080/"
        },
        "id": "Dcp7c1MkQvu7",
        "outputId": "89ec20f2-41b2-4563-f55a-feeb9ab56294"
      },
      "execution_count": null,
      "outputs": [
        {
          "output_type": "stream",
          "name": "stdout",
          "text": [
            "Congraturation!! you got a treasure box\n",
            "you have rope 2pcs\n",
            "you have apple 10pcs\n",
            "you have torch 6pcs\n",
            "you have gold coin 50pcs\n",
            "you have knife 1pcs\n",
            "you have arrow 30pcs\n",
            "rope : 1coins/pcs * 2pcs = 2 coins\n",
            "apple : 2coins/pcs * 10pcs = 20 coins\n",
            "torch : 2coins/pcs * 6pcs = 12 coins\n",
            "gold coin : 5coins/pcs * 50pcs = 250 coins\n",
            "knife : 30coins/pcs * 1pcs = 30 coins\n",
            "arrow : 1coins/pcs * 30pcs = 30 coins\n",
            "total_coin :  344\n"
          ]
        }
      ]
    },
    {
      "cell_type": "code",
      "source": [
        "treasure_box = {'rope': {'coin': 1, 'pcs': 2},\n",
        "                'apple': {'coin': 2, 'pcs': 10},\n",
        "                'torch': {'coin': 2, 'pcs': 6},\n",
        "                'gold coin': {'coin': 5, 'pcs': 50},\n",
        "                'knife': {'coin': 30, 'pcs': 1},\n",
        "               \t'arrow': {'coin': 1, 'pcs': 30}\n",
        "               }\n",
        "treasure_box['rope']"
      ],
      "metadata": {
        "id": "0hcA6EguQvwd"
      },
      "execution_count": null,
      "outputs": []
    }
  ]
}