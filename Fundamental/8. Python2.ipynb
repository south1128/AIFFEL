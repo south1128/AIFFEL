{
  "nbformat": 4,
  "nbformat_minor": 0,
  "metadata": {
    "colab": {
      "name": "Python2.ipynb",
      "provenance": [],
      "collapsed_sections": []
    },
    "kernelspec": {
      "name": "python3",
      "display_name": "Python 3"
    },
    "language_info": {
      "name": "python"
    }
  },
  "cells": [
    {
      "cell_type": "code",
      "execution_count": null,
      "metadata": {
        "colab": {
          "base_uri": "https://localhost:8080/"
        },
        "id": "fwiLP1FE5gxp",
        "outputId": "460d7965-f9d8-4d06-80b3-41c0c5719fe8"
      },
      "outputs": [
        {
          "output_type": "stream",
          "name": "stdout",
          "text": [
            "값 :  a\n",
            "값 :  b\n",
            "값 :  c\n",
            "값 :  d\n"
          ]
        }
      ],
      "source": [
        "my_list = ['a','b','c','d']\n",
        "\n",
        "for i in my_list : \n",
        "  print('값 : ', i)"
      ]
    },
    {
      "cell_type": "code",
      "source": [
        "my_list = ['a','b','c','d']\n",
        "\n",
        "for i , value in enumerate(my_list):\n",
        "  print('순번 : ', i, \" , 값 : \",value)\n",
        "\n",
        "#enumerate : 리스트, 문자열, 튜플 등이 있는 경우 순서와 리스트 값을 함께 반환"
      ],
      "metadata": {
        "colab": {
          "base_uri": "https://localhost:8080/"
        },
        "id": "lGUxFzgp582o",
        "outputId": "f37f310f-af76-4559-93b9-f0f924e07451"
      },
      "execution_count": null,
      "outputs": [
        {
          "output_type": "stream",
          "name": "stdout",
          "text": [
            "순번 :  0  , 값 :  a\n",
            "순번 :  1  , 값 :  b\n",
            "순번 :  2  , 값 :  c\n",
            "순번 :  3  , 값 :  d\n"
          ]
        }
      ]
    },
    {
      "cell_type": "code",
      "source": [
        "#for 이중문\n",
        "\n",
        "my_list = ['a','b','c','d']\n",
        "result_list = []\n",
        "\n",
        "for i in range(2):\n",
        "  for j in my_list:\n",
        "    result_list.append((i,j))\n",
        "\n",
        "print(result_list)"
      ],
      "metadata": {
        "colab": {
          "base_uri": "https://localhost:8080/"
        },
        "id": "FZiPI1q46kPH",
        "outputId": "3d1abcd0-c81b-4a0c-96c5-56e3184197f4"
      },
      "execution_count": null,
      "outputs": [
        {
          "output_type": "stream",
          "name": "stdout",
          "text": [
            "[(0, 'a'), (0, 'b'), (0, 'c'), (0, 'd'), (1, 'a'), (1, 'b'), (1, 'c'), (1, 'd')]\n"
          ]
        }
      ]
    },
    {
      "cell_type": "code",
      "source": [
        "#list Comprehension : 순회형 컨테이너 객체로 부터 가공한 새로운 리스트 생성\n",
        "\n",
        "my_list = ['a','b','c','d']\n",
        "\n",
        "result_list = [(i,j) for i in range(2) for j in my_list]\n",
        "\n",
        "print(result_list)"
      ],
      "metadata": {
        "colab": {
          "base_uri": "https://localhost:8080/"
        },
        "id": "_0_-izPg7TMk",
        "outputId": "087649cc-f45a-4f6f-9a9c-06e9b0eeb61f"
      },
      "execution_count": null,
      "outputs": [
        {
          "output_type": "stream",
          "name": "stdout",
          "text": [
            "[(0, 'a'), (0, 'b'), (0, 'c'), (0, 'd'), (1, 'a'), (1, 'b'), (1, 'c'), (1, 'd')]\n"
          ]
        }
      ]
    },
    {
      "cell_type": "code",
      "source": [
        "# Generator \n",
        "\n",
        "my_list = ['a','b','c','d']\n",
        "\n",
        "def get_dataset_list(my_list):\n",
        "  result_list = []\n",
        "  for i in range(2):\n",
        "    for j in my_list:\n",
        "      result_list.append((i,j))\n",
        "  print('>> {} data loaded..'.format(len(result_list)))\n",
        "  return result_list\n",
        "\n",
        "for x , y in get_dataset_list(my_list):\n",
        "  print(x,y)\n"
      ],
      "metadata": {
        "colab": {
          "base_uri": "https://localhost:8080/"
        },
        "id": "1rOpy1R_8LLB",
        "outputId": "809b6158-bf9f-49c7-8c0e-9d2868762a3e"
      },
      "execution_count": null,
      "outputs": [
        {
          "output_type": "stream",
          "name": "stdout",
          "text": [
            ">> 8 data loaded..\n",
            "0 a\n",
            "0 b\n",
            "0 c\n",
            "0 d\n",
            "1 a\n",
            "1 b\n",
            "1 c\n",
            "1 d\n"
          ]
        }
      ]
    },
    {
      "cell_type": "code",
      "source": [
        "my_list = ['a','b','c','d']\n",
        "\n",
        "def get_dataset_generator(my_list):\n",
        "  result_list = []\n",
        "  for i in range(2):\n",
        "    for j in my_list:\n",
        "      yield(i,j)    #yield : 코드의 실행 순서를 밖으로 양보\n",
        "      print('>> 1 data loaded..')\n",
        "  \n",
        "dataset_gernerator = get_dataset_generator(my_list)\n",
        "for X,y in dataset_gernerator:\n",
        "  print(X,y)"
      ],
      "metadata": {
        "colab": {
          "base_uri": "https://localhost:8080/"
        },
        "id": "XO64ab5Z9sSb",
        "outputId": "8630542d-3674-4c5e-ae59-ef85936feaf6"
      },
      "execution_count": null,
      "outputs": [
        {
          "output_type": "stream",
          "name": "stdout",
          "text": [
            "0 a\n",
            ">> 1 data loaded..\n",
            "0 b\n",
            ">> 1 data loaded..\n",
            "0 c\n",
            ">> 1 data loaded..\n",
            "0 d\n",
            ">> 1 data loaded..\n",
            "1 a\n",
            ">> 1 data loaded..\n",
            "1 b\n",
            ">> 1 data loaded..\n",
            "1 c\n",
            ">> 1 data loaded..\n",
            "1 d\n",
            ">> 1 data loaded..\n"
          ]
        }
      ]
    },
    {
      "cell_type": "code",
      "source": [
        "# Try - Except \n",
        "\n",
        "a = 10\n",
        "b = 0\n",
        "try :\n",
        "  print(a/b)\n",
        "\n",
        "except : print('Error!')\n",
        "\n",
        "a = 10\n",
        "b = 1\n",
        "try :\n",
        "  print(a/b)\n",
        "\n",
        "except : print('Error!')\n",
        "\n",
        "a = 10\n",
        "b = 0\n",
        "try :\n",
        "  print(a/b)\n",
        "\n",
        "except : \n",
        "  b = b+1\n",
        "  print('Edited value : ',a/b)"
      ],
      "metadata": {
        "colab": {
          "base_uri": "https://localhost:8080/"
        },
        "id": "gJjcPVh993jV",
        "outputId": "3231ac61-668c-4491-cf8b-7c4968b37546"
      },
      "execution_count": null,
      "outputs": [
        {
          "output_type": "stream",
          "name": "stdout",
          "text": [
            "Error!\n",
            "10.0\n",
            "Edited value :  10.0\n"
          ]
        }
      ]
    },
    {
      "cell_type": "code",
      "source": [
        "#실행 시간 측정\n",
        "\n",
        "import time \n",
        "start = time.time()\n",
        "\n",
        "a = 1\n",
        "for i in range(100):\n",
        "  a += 1\n",
        "\n",
        "print('time : ',time.time() - start)"
      ],
      "metadata": {
        "colab": {
          "base_uri": "https://localhost:8080/"
        },
        "id": "hbSOa3MM_8ZA",
        "outputId": "5df16b2c-cca0-4194-8611-5678f18d4026"
      },
      "execution_count": null,
      "outputs": [
        {
          "output_type": "stream",
          "name": "stdout",
          "text": [
            "time :  0.00012540817260742188\n"
          ]
        }
      ]
    },
    {
      "cell_type": "code",
      "source": [
        "#Multi Processing\n",
        "\n",
        "# parallel processing / serial processing\n",
        "\n",
        "import time \n",
        "\n",
        "num_list = ['p1','p2','p3','p4']\n",
        "start = time.time()\n",
        "\n",
        "def count(name):\n",
        "  for i in range(0,100000000):\n",
        "    a = 1 + 2\n",
        "\n",
        "  print('finish: '+name+'\\n')\n",
        "\n",
        "for num in num_list:\n",
        "  count(num)\n",
        "\n",
        "print('time :', time.time()-start)\n"
      ],
      "metadata": {
        "colab": {
          "base_uri": "https://localhost:8080/"
        },
        "id": "J80jRTH0_8aW",
        "outputId": "3a1c70e5-6e42-4f58-dd86-9fa07d53328e"
      },
      "execution_count": null,
      "outputs": [
        {
          "output_type": "stream",
          "name": "stdout",
          "text": [
            "finish: p1\n",
            "\n",
            "finish: p2\n",
            "\n",
            "finish: p3\n",
            "\n",
            "finish: p4\n",
            "\n",
            "time : 14.323330879211426\n"
          ]
        }
      ]
    },
    {
      "cell_type": "code",
      "source": [
        "import multiprocessing\n",
        "import time \n",
        "\n",
        "num_list = ['p1','p2','p3','p4']\n",
        "start = time.time()\n",
        "\n",
        "def count(name):\n",
        "  for i in range(0,100000000):\n",
        "    a = 1 + 2\n",
        "  print('finish: '+name+'\\n')\n",
        "# parallizing code \n",
        "\n",
        "if __name__ == '__main__':\n",
        "  # start parallizing here\n",
        "  pool = multiprocessing.Pool(processes=4)\n",
        "  # how many process at the same time (CPU 개수)\n",
        "  pool.map(count,num_list)\n",
        "  # count(p1),count(p2),count(p3),count(p4) : processing parallize\n",
        "  pool.close()\n",
        "  # when you done parallizing\n",
        "  pool.join()\n",
        "  # wait until the process is done\n",
        "\n",
        "print('time: ',time.time()-start)"
      ],
      "metadata": {
        "colab": {
          "base_uri": "https://localhost:8080/"
        },
        "id": "kfQBf7XWCFVa",
        "outputId": "a9d37620-e094-4b15-af22-aa3f2419aa3a"
      },
      "execution_count": null,
      "outputs": [
        {
          "output_type": "stream",
          "name": "stdout",
          "text": [
            "finish: p2\n",
            "\n",
            "finish: p3\n",
            "\n",
            "finish: p1\n",
            "\n",
            "finish: p4\n",
            "\n",
            "time:  15.301204681396484\n"
          ]
        }
      ]
    },
    {
      "cell_type": "code",
      "source": [
        "list_data = [10, 20, 30, 40]\n",
        "list_data2 = [20, 30, 40, 50]\n",
        "\n",
        "length = len(list_data)\n",
        "max_result = list_data[0]\n",
        "for i in range(length):\n",
        "    if max_result < list_data[i]:\n",
        "        max_result = list_data[i]\n",
        "        \n",
        "print(\"최댓값은 \", max_result)\n",
        "\n",
        "length = len(list_data2)\n",
        "max_result = list_data2[0]\n",
        "for i in range(length):\n",
        "    if max_result < list_data2[i]:\n",
        "        max_result = list_data2[i]\n",
        "        \n",
        "print(\"최댓값은 \", max_result)"
      ],
      "metadata": {
        "colab": {
          "base_uri": "https://localhost:8080/"
        },
        "id": "RwakroRXGZHk",
        "outputId": "77556c78-a642-4581-c212-3698d30771b0"
      },
      "execution_count": null,
      "outputs": [
        {
          "output_type": "stream",
          "name": "stdout",
          "text": [
            "최댓값은  40\n",
            "최댓값은  50\n"
          ]
        }
      ]
    },
    {
      "cell_type": "code",
      "source": [
        "list_data = [10, 20, 30, 40]\n",
        "list_data2 = [20, 30, 40, 50]\n",
        "\n",
        "def max_function(x):\n",
        "    length = len(x)\n",
        "    max_result = x[0]\n",
        "    for i in range(length):\n",
        "        if max_result < x[i]:\n",
        "            max_result = x[i]\n",
        "    return max_result\n",
        "\n",
        "print(\"최댓값은 \", max_function(list_data))\n",
        "print(\"최댓값은 \", max_function(list_data2))"
      ],
      "metadata": {
        "colab": {
          "base_uri": "https://localhost:8080/"
        },
        "id": "jaOcP4GdGhvu",
        "outputId": "a563fc9b-5b20-4be7-fe97-4859079ac1ab"
      },
      "execution_count": null,
      "outputs": [
        {
          "output_type": "stream",
          "name": "stdout",
          "text": [
            "최댓값은  40\n",
            "최댓값은  50\n"
          ]
        }
      ]
    },
    {
      "cell_type": "code",
      "source": [
        "#Pass\n",
        "def empty_function():\n",
        "    pass"
      ],
      "metadata": {
        "id": "Y1PXQkHNGhw2"
      },
      "execution_count": null,
      "outputs": []
    },
    {
      "cell_type": "code",
      "source": [
        "# Function in Function\n",
        "def say_something(txt):\n",
        "  return txt\n",
        "\n",
        "def send(function,count):\n",
        "  for i in range(count):\n",
        "    print(function)\n",
        "\n",
        "send(say_something('Hi!'),2)"
      ],
      "metadata": {
        "colab": {
          "base_uri": "https://localhost:8080/"
        },
        "id": "vOvsTTFGKGkc",
        "outputId": "4f2bd25b-0790-4342-ab91-b9927c54fbb5"
      },
      "execution_count": null,
      "outputs": [
        {
          "output_type": "stream",
          "name": "stdout",
          "text": [
            "Hi!\n",
            "Hi!\n"
          ]
        }
      ]
    },
    {
      "cell_type": "code",
      "source": [
        "list_data = [30,20,30,40]\n",
        "\n",
        "def minmax_function(x_list):\n",
        "\n",
        "  def inner_min_function(x):\n",
        "    length = len(x)\n",
        "    min_result = x[0]\n",
        "    for i in range(length):\n",
        "      if min_result > x[i]:\n",
        "        min_result = x[i]\n",
        "    return min_result\n",
        "\n",
        "  def inner_max_function(x):\n",
        "    length = len(x)\n",
        "    max_result = x[0]\n",
        "    for i in range(length):\n",
        "      if max_result < x[i]:\n",
        "        max_result = x[i]\n",
        "    return max_result\n",
        "  \n",
        "  x_min = inner_min_function(x_list)\n",
        "  x_max = inner_max_function(x_list)\n",
        "\n",
        "  minmax_list = [x_min,x_max]\n",
        "\n",
        "  return minmax_list\n",
        "\n",
        "print('minimum and maximun values : ',minmax_function(list_data))\n",
        "print('minimun value : ',minmax_function(list_data)[0])\n",
        "print('maximum value : ',minmax_function(list_data)[1])"
      ],
      "metadata": {
        "colab": {
          "base_uri": "https://localhost:8080/"
        },
        "id": "0AJ_WtqeKzMF",
        "outputId": "0b55ac71-a031-4473-fbe3-eb456a4b401b"
      },
      "execution_count": null,
      "outputs": [
        {
          "output_type": "stream",
          "name": "stdout",
          "text": [
            "minimum and maximun values :  [20, 40]\n",
            "minimun value :  20\n",
            "maximum value :  40\n"
          ]
        }
      ]
    },
    {
      "cell_type": "code",
      "source": [
        "list_data = [30,20,30,40]\n",
        "\n",
        "def minmax_function(x_list):\n",
        "\n",
        "  def inner_min_function(x):\n",
        "    length = len(x)\n",
        "    min_result = x[0]\n",
        "    for i in range(length):\n",
        "      if min_result > x[i]:\n",
        "        min_result = x[i]\n",
        "    return min_result\n",
        "\n",
        "  def inner_max_function(x):\n",
        "    length = len(x)\n",
        "    max_result = x[0]\n",
        "    for i in range(length):\n",
        "      if max_result < x[i]:\n",
        "        max_result = x[i]\n",
        "    return max_result\n",
        "  \n",
        "  x_min = inner_min_function(x_list)\n",
        "  x_max = inner_max_function(x_list)\n",
        "\n",
        "  return x_min,x_max\n",
        "\n",
        "min_value,max_value = minmax_function(list_data)\n",
        "\n",
        "print('minimun value : ',min_value)\n",
        "print('maximum value : ',max_value)"
      ],
      "metadata": {
        "colab": {
          "base_uri": "https://localhost:8080/"
        },
        "id": "5Edoo8E-NbvJ",
        "outputId": "1425c4e4-b580-4bc9-80cf-1fec6624a9e1"
      },
      "execution_count": null,
      "outputs": [
        {
          "output_type": "stream",
          "name": "stdout",
          "text": [
            "minimun value :  20\n",
            "maximum value :  40\n"
          ]
        }
      ]
    },
    {
      "cell_type": "code",
      "source": [
        "#lambda \n",
        "def add(x,y):\n",
        "  return x + y\n",
        "\n",
        "def add(x,y): return x + y\n",
        "\n",
        "print((lambda x,y: x + y)(10,20))"
      ],
      "metadata": {
        "colab": {
          "base_uri": "https://localhost:8080/"
        },
        "id": "_BFw81uvON8M",
        "outputId": "567d14e4-54b5-4e18-d1a3-8eae50bc2ae7"
      },
      "execution_count": null,
      "outputs": [
        {
          "output_type": "stream",
          "name": "stdout",
          "text": [
            "30\n"
          ]
        }
      ]
    },
    {
      "cell_type": "code",
      "source": [
        "def list_mul(x):\n",
        "  return x *2\n",
        "\n",
        "result = list(map(list_mul,[1,2,3]))\n",
        "print(result)\n",
        "# map(function,iterable) : 입력받은 자료형의 각 요소가 함수에 의해 수행된 결과를 map iterator 로 출력\n",
        "# map() only returns map value -> use list() to 'actually see' the values\n",
        "\n",
        "result = list(map(lambda i : i*2,[1,2,3]))\n",
        "print(result)\n",
        "# function fillter(),reduce() are used other than map()"
      ],
      "metadata": {
        "colab": {
          "base_uri": "https://localhost:8080/"
        },
        "id": "Pt7OWeUGOwXw",
        "outputId": "accfa046-608f-485a-f958-1eccb3cdbc9a"
      },
      "execution_count": null,
      "outputs": [
        {
          "output_type": "stream",
          "name": "stdout",
          "text": [
            "[2, 4, 6]\n",
            "[2, 4, 6]\n"
          ]
        }
      ]
    },
    {
      "cell_type": "code",
      "source": [
        "# mycalculator.py\n",
        "\n",
        "test = \"You can use this module!\"\n",
        "\n",
        "def add(a,b):\n",
        "  return a + b\n",
        "\n",
        "def mul(a,b):\n",
        "  return a * b\n",
        "\n",
        "def sub(a,b):\n",
        "  return a - b\n",
        "\n",
        "def div(a,b):\n",
        "  return a / b\n",
        "\n",
        "class all_calc():\n",
        "\n",
        "  def __init__(self,a,b):\n",
        "    self.a = a\n",
        "    self.b = b\n",
        "\n",
        "  def add(self):\n",
        "    return self.a + self.b\n",
        "\n",
        "  def mul(self):\n",
        "    return self.a * self.b\n",
        "\n",
        "  def sub(self):\n",
        "    return self.a - self.b\n",
        "\n",
        "  def div(self):\n",
        "    return self.a / self.b"
      ],
      "metadata": {
        "id": "C_f7xCXpu3Wz"
      },
      "execution_count": null,
      "outputs": []
    },
    {
      "cell_type": "code",
      "source": [
        "code = '# mycalculator.py\\ntest = \"you can use this module!\"\\n\\ndef add(a, b):\\n    return a + b\\n \\ndef mul(a, b):\\n    return a * b\\n\\ndef sub(a, b):\\n    return a - b\\n\\ndef div(a, b):\\n    return a / b\\n\\n\\nclass all_calc():\\n\\n    def __init__(self, a, b):\\n        self.a = a\\n        self.b = b\\n\\n    def add(self):\\n        return self.a + self.b\\n \\n    def mul(self):\\n        return self.a * self.b\\n\\n    def sub(self):\\n        return self.a - self.b\\n\\n    def div(self):\\n        return self.a / self.b'\n",
        "\n",
        "f = open(\"mycalculator.py\", \"w\")\n",
        "f.write(code)\n",
        "f.close()"
      ],
      "metadata": {
        "id": "OKjKmEIowGxA"
      },
      "execution_count": null,
      "outputs": []
    },
    {
      "cell_type": "code",
      "source": [
        "import mycalculator\n",
        "\n",
        "print(mycalculator.add(4,2))"
      ],
      "metadata": {
        "colab": {
          "base_uri": "https://localhost:8080/"
        },
        "id": "gHtOIjZgwLMy",
        "outputId": "dc8c4b1e-f7e1-477d-d1cf-9f53c01e48ee"
      },
      "execution_count": null,
      "outputs": [
        {
          "output_type": "stream",
          "name": "stdout",
          "text": [
            "6\n"
          ]
        }
      ]
    },
    {
      "cell_type": "code",
      "source": [
        "import mycalculator as mc\n",
        "\n",
        "print(mc.add(4,2))"
      ],
      "metadata": {
        "colab": {
          "base_uri": "https://localhost:8080/"
        },
        "id": "sOnX3VRQwhkm",
        "outputId": "9ea462b6-8ff5-444d-b511-6e5631ec29be"
      },
      "execution_count": null,
      "outputs": [
        {
          "output_type": "stream",
          "name": "stdout",
          "text": [
            "6\n"
          ]
        }
      ]
    },
    {
      "cell_type": "code",
      "source": [
        "# Package\n",
        "\n",
        "# Group of Functions -> Module\n",
        "# Group of Modules -> Package\n",
        "\n",
        "# How to install Package\n",
        "$ pip install pandas"
      ],
      "metadata": {
        "id": "KR4zIUHYxIe9"
      },
      "execution_count": null,
      "outputs": []
    },
    {
      "cell_type": "code",
      "source": [
        "# Paradigm\n",
        "\n",
        "# 절차 지향 프로그래밍 - 진행 순서대로 코딩 \n",
        "# Pros : 순서대로 읽기만 하면 코드 이해 가능\n",
        "# Cons : 위에서 하나 잘못되면 연쇄적으로 문제가 생김\n",
        "#      : 코드의 길이가 길어져 코드 분석이 어려움\n",
        "\n",
        "\n",
        "# 객체 지향 프로그래밍 - 상호작용하는 객체들의 집합으로 코딩\n",
        "# Pros : 코드를 재사용 하기 쉽다.\n",
        "#      : 코드 분석이 쉬우며 아키텍쳐 바꾸기 쉽다.\n",
        "# Cons : 객체간의 상호작용이 있기 때문에 설계시 시간 오래걸린다. \n",
        "#      : 설계 잘못하면 전체적인 수정을 해야 할 수도 있음\n",
        "\n",
        "# Python - OOP(Object Oriented Programming)"
      ],
      "metadata": {
        "id": "LoptTAIWxlxC"
      },
      "execution_count": null,
      "outputs": []
    },
    {
      "cell_type": "code",
      "source": [
        "# 함수형 프로그래밍 - 효율성, 버그없는 코드, 병렬 프로그래밍 \n",
        "# 함수로 문제를 분해 \n",
        "\n",
        "# Features \n",
        "# no1 순수성 : 부작용이 없는 함수인 순수함수를 사용 \n",
        "A = 5 \n",
        "\n",
        "def impure_mul(b):\n",
        "  return b * A\n",
        "\n",
        "print(impure_mul(6))\n",
        "\n",
        "\n",
        "def pure_mul(a,b):\n",
        "  return a * b\n",
        "\n",
        "print(pure_mul(4,6))\n",
        "\n",
        "# no2 모듈성 : 한가지 작업을 수행하는 작은 함수들로 쪼개어 코딩 가독성과 오류확인에 용이\n",
        "# no3 디버깅과 테스트 용이성 "
      ],
      "metadata": {
        "colab": {
          "base_uri": "https://localhost:8080/"
        },
        "id": "NNtD4_5Txlyd",
        "outputId": "b1ccbbb1-3350-4eba-b3fd-16ce2118ab48"
      },
      "execution_count": null,
      "outputs": [
        {
          "output_type": "stream",
          "name": "stdout",
          "text": [
            "30\n",
            "24\n"
          ]
        }
      ]
    }
  ]
}