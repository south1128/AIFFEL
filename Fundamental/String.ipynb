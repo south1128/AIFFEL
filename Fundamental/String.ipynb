{
  "nbformat": 4,
  "nbformat_minor": 0,
  "metadata": {
    "colab": {
      "name": "String.ipynb",
      "provenance": [],
      "collapsed_sections": []
    },
    "kernelspec": {
      "name": "python3",
      "display_name": "Python 3"
    },
    "language_info": {
      "name": "python"
    }
  },
  "cells": [
    {
      "cell_type": "code",
      "execution_count": null,
      "metadata": {
        "colab": {
          "base_uri": "https://localhost:8080/"
        },
        "id": "yMWHGpaSyggx",
        "outputId": "c0c265db-bc23-4fdc-efe7-03755794c9b5"
      },
      "outputs": [
        {
          "output_type": "stream",
          "name": "stdout",
          "text": [
            "Welcome!\n",
            "You're welcome\n",
            "<class 'str'>\n",
            "<class 'str'>\n"
          ]
        }
      ],
      "source": [
        "my_str = \"Welcome!\"\n",
        "ur_str = \"You're welcome\"\n",
        "\n",
        "print(my_str)\n",
        "print(ur_str)\n",
        "\n",
        "print(type(my_str))\n",
        "print(type(ur_str))\n",
        "\n",
        "# 데이터를 변수에 저장 ->컴퓨터의 주기억 장치인 메모리(RAM)에 저장\n",
        "\n",
        "# 바이트(byte) : 컴퓨터의 기본 저장 단위\n",
        "# 1바이트(1byte)는 8비트(8bit)이다.\n",
        "# 1바이트에는 2의 8승 즉, 256개의 고유한 값을 저장할 수 있다.\n",
        "# 인코딩 (encoding): 문자열을 바이트로 변환하는 과정\n",
        "# 디코딩 (decoding) : 바이트를 문자열로 변환하는 과정\n",
        "\n",
        "# 텍스트 -> 문자열 -(변수/메모리에 저장)-> Encoding -(UTF-8)-> 0,1\n",
        "# 전세계 문자를 모두 표시 가능한 표준코드 = Unicode"
      ]
    },
    {
      "cell_type": "code",
      "source": [
        "print(ord('a'))\n",
        "print(ord('A'))\n",
        "print(chr(97))\n",
        "print(ord('가'))\n",
        "print(chr(0xAC00))\n",
        "\n",
        "# ord() : 해당 문자에 대응하는 유니코드 숫자를 반환\n",
        "# chr() : 해당 유니코드 숫자에 대응하는 문자를 반환"
      ],
      "metadata": {
        "colab": {
          "base_uri": "https://localhost:8080/"
        },
        "id": "ohwQQHev1gxi",
        "outputId": "abbb102b-fb6b-45d2-ff48-0aa085188fd5"
      },
      "execution_count": null,
      "outputs": [
        {
          "output_type": "stream",
          "name": "stdout",
          "text": [
            "97\n",
            "65\n",
            "a\n",
            "44032\n",
            "가\n"
          ]
        }
      ]
    },
    {
      "cell_type": "code",
      "source": [
        "str1 = b'hello'\n",
        "str2 = 'hello'\n",
        "str3 = u'hello'\n",
        "\n",
        "print(type(str1),type(str2),type(str3))"
      ],
      "metadata": {
        "colab": {
          "base_uri": "https://localhost:8080/"
        },
        "id": "gi5MJa_K3Kgv",
        "outputId": "c866f777-7c28-4326-b0c1-2e4b8cddba49"
      },
      "execution_count": null,
      "outputs": [
        {
          "output_type": "stream",
          "name": "stdout",
          "text": [
            "<class 'bytes'> <class 'str'> <class 'str'>\n"
          ]
        }
      ]
    },
    {
      "cell_type": "code",
      "source": [
        "# 줄바꿈\n",
        "print('사회적\\n거리두기')\n",
        "print('----------------')\n",
        "\n",
        "# tab\n",
        "print('사회적\\t거리두기')\n",
        "print('----------------')\n",
        "\n",
        "# 작은 따옴표\n",
        "print('오늘부터 \\'사회적 거리두기\\'')\n",
        "print('----------------')"
      ],
      "metadata": {
        "colab": {
          "base_uri": "https://localhost:8080/"
        },
        "id": "skIrMvR53Xa6",
        "outputId": "82232209-4b14-4c3f-aad3-726dde283f63"
      },
      "execution_count": null,
      "outputs": [
        {
          "output_type": "stream",
          "name": "stdout",
          "text": [
            "사회적\n",
            "거리두기\n",
            "----------------\n",
            "사회적\t거리두기\n",
            "----------------\n",
            "오늘부터 '사회적 거리두기'\n",
            "----------------\n"
          ]
        }
      ]
    },
    {
      "cell_type": "code",
      "source": [
        ""
      ],
      "metadata": {
        "id": "4hqctYkK4VU_"
      },
      "execution_count": null,
      "outputs": []
    },
    {
      "cell_type": "code",
      "source": [
        "# Raw String - escape 문자열 무시할때\n",
        "\n",
        "print('Please don\\'t touch it')\n",
        "print(r'Please don\\'t touch it')"
      ],
      "metadata": {
        "colab": {
          "base_uri": "https://localhost:8080/"
        },
        "id": "BlKVu8Ov4VV7",
        "outputId": "aab6e2a1-c0ea-46c5-a286-544384d9220e"
      },
      "execution_count": null,
      "outputs": [
        {
          "output_type": "stream",
          "name": "stdout",
          "text": [
            "Please don't touch it\n",
            "Please don\\'t touch it\n"
          ]
        }
      ]
    },
    {
      "cell_type": "code",
      "source": [
        "EmployeeID = ['OB94382', 'OW34723', 'OB32308', 'OB83461', \n",
        "                                  'OB74830', 'OW37402', 'OW11235', 'OB82345'] \n",
        "Production_Employee = [P for P in EmployeeID if P.startswith('OB')]   \n",
        "# 'OB'로 시작하는 직원 ID를 다 찾아봅니다\n",
        "\n",
        "Production_Employee\n",
        "\n",
        "import os\n",
        "image_dir_path = os.getenv('HOME')+ '/Users/jaewonnamgung/Desktop'\n",
        "photo = os.listdir(image_dir_path)\n",
        "png = [png for png in photo if png.endswith('.png')]\n",
        "print(png)\n",
        "\n",
        "/Users/jaewonnamgung/Desktop/oguri.png"
      ],
      "metadata": {
        "colab": {
          "base_uri": "https://localhost:8080/",
          "height": 266
        },
        "id": "g3FQwNoh4zOq",
        "outputId": "99238a5a-54e4-4945-8dfc-05f0feded247"
      },
      "execution_count": null,
      "outputs": [
        {
          "output_type": "error",
          "ename": "TypeError",
          "evalue": "ignored",
          "traceback": [
            "\u001b[0;31m---------------------------------------------------------------------------\u001b[0m",
            "\u001b[0;31mTypeError\u001b[0m                                 Traceback (most recent call last)",
            "\u001b[0;32m<ipython-input-14-b1ed8ce0130e>\u001b[0m in \u001b[0;36m<module>\u001b[0;34m()\u001b[0m\n\u001b[1;32m      7\u001b[0m \u001b[0;34m\u001b[0m\u001b[0m\n\u001b[1;32m      8\u001b[0m \u001b[0;32mimport\u001b[0m \u001b[0mos\u001b[0m\u001b[0;34m\u001b[0m\u001b[0;34m\u001b[0m\u001b[0m\n\u001b[0;32m----> 9\u001b[0;31m \u001b[0mimage_dir_path\u001b[0m \u001b[0;34m=\u001b[0m \u001b[0mos\u001b[0m\u001b[0;34m.\u001b[0m\u001b[0mgetenv\u001b[0m\u001b[0;34m(\u001b[0m\u001b[0;34m'Users'\u001b[0m\u001b[0;34m)\u001b[0m\u001b[0;34m+\u001b[0m \u001b[0;34m'/jaewonnamgung/Desktop'\u001b[0m\u001b[0;34m\u001b[0m\u001b[0;34m\u001b[0m\u001b[0m\n\u001b[0m\u001b[1;32m     10\u001b[0m \u001b[0mphoto\u001b[0m \u001b[0;34m=\u001b[0m \u001b[0mos\u001b[0m\u001b[0;34m.\u001b[0m\u001b[0mlistdir\u001b[0m\u001b[0;34m(\u001b[0m\u001b[0mimage_dir_path\u001b[0m\u001b[0;34m)\u001b[0m\u001b[0;34m\u001b[0m\u001b[0;34m\u001b[0m\u001b[0m\n\u001b[1;32m     11\u001b[0m \u001b[0mpng\u001b[0m \u001b[0;34m=\u001b[0m \u001b[0;34m[\u001b[0m\u001b[0mpng\u001b[0m \u001b[0;32mfor\u001b[0m \u001b[0mpng\u001b[0m \u001b[0;32min\u001b[0m \u001b[0mphoto\u001b[0m \u001b[0;32mif\u001b[0m \u001b[0mpng\u001b[0m\u001b[0;34m.\u001b[0m\u001b[0mendswith\u001b[0m\u001b[0;34m(\u001b[0m\u001b[0;34m'.png'\u001b[0m\u001b[0;34m)\u001b[0m\u001b[0;34m]\u001b[0m\u001b[0;34m\u001b[0m\u001b[0;34m\u001b[0m\u001b[0m\n",
            "\u001b[0;31mTypeError\u001b[0m: unsupported operand type(s) for +: 'NoneType' and 'str'"
          ]
        }
      ]
    },
    {
      "cell_type": "code",
      "source": [
        "#trimming\n",
        "\n",
        "# 스페이스(space) : 한 칸 띄어쓰기\n",
        "print(\"사회적 거리두기\")\n",
        "print('--------------------------')\n",
        "\n",
        "# 탭(tab) \\t : 네 칸 띄어쓰기\n",
        "print(\"사회적\\t거리두기\")\n",
        "print('--------------------------')\n",
        "\n",
        "# 줄 바꿈(new line) : 줄 바꿈\n",
        "print(\"사회적\\n거리두기\")\n",
        "print('--------------------------')\n",
        "\n",
        "# 캐리지 리턴 (carriage return, 복귀) \\r :\n",
        "# 커서를 맨 앞으로 보내고,\\r 뒤에 문자가 있으면 그 문자를 출력\n",
        "print(\"사회적\\r거리두기\")"
      ],
      "metadata": {
        "colab": {
          "base_uri": "https://localhost:8080/"
        },
        "id": "59sfzUt78qUs",
        "outputId": "e77d0cff-746a-4e1d-9701-db108e12ce86"
      },
      "execution_count": null,
      "outputs": [
        {
          "output_type": "stream",
          "name": "stdout",
          "text": [
            "사회적 거리두기\n",
            "--------------------------\n",
            "사회적\t거리두기\n",
            "--------------------------\n",
            "사회적\n",
            "거리두기\n",
            "--------------------------\n",
            "사회적\r거리두기\n"
          ]
        }
      ]
    },
    {
      "cell_type": "code",
      "source": [
        "txt = \"     Strip white spaces.     \"\n",
        "print('[{}]'.format(txt))\n",
        "print('-----------------------')\n",
        "\n",
        "print('[{}]'.format(txt.strip())) # 공백제거 : strip()\n",
        "print('-----------------------')\n",
        "\n",
        "print('[{}]'.format(txt.lstrip())) # 왼쪽 공백제거 : lstrip() \n",
        "print('-----------------------')\n",
        "\n",
        "print('[{}]'.format(txt.rstrip())) # 오늘쪽 공백제거 : rstrip()"
      ],
      "metadata": {
        "colab": {
          "base_uri": "https://localhost:8080/"
        },
        "id": "tNg6k7Wl9miN",
        "outputId": "177158c0-efe5-4e73-c121-a82d5e082abb"
      },
      "execution_count": null,
      "outputs": [
        {
          "output_type": "stream",
          "name": "stdout",
          "text": [
            "[     Strip white spaces.     ]\n",
            "-----------------------\n",
            "[Strip white spaces.]\n",
            "-----------------------\n",
            "[Strip white spaces.     ]\n",
            "-----------------------\n",
            "[     Strip white spaces.]\n"
          ]
        }
      ]
    },
    {
      "cell_type": "code",
      "source": [
        "txt = 'I fell into AIFFEL'\n",
        "print(txt.upper())\n",
        "\n",
        "print(txt.lower())\n",
        "\n",
        "print(txt.capitalize())\n"
      ],
      "metadata": {
        "colab": {
          "base_uri": "https://localhost:8080/"
        },
        "id": "l01ekbPY-1go",
        "outputId": "c3e65f43-be73-41b0-b63d-ba68bc531cbd"
      },
      "execution_count": null,
      "outputs": [
        {
          "output_type": "stream",
          "name": "stdout",
          "text": [
            "I FELL INTO AIFFEL\n",
            "i fell into aiffel\n",
            "I fell into aiffel\n",
            "I fell into AIFFEL\n"
          ]
        }
      ]
    },
    {
      "cell_type": "code",
      "source": [
        "# is X -> 문자열의 구성에 따라 Boolean 값 을 반환\n",
        "\n",
        "print('aiffel'.isupper())\n",
        "print('aiffel'.islower())\n",
        "print('PYTHON'.istitle())     # .istitle : 첫 글자만 대문자\n",
        "print('python101'.isalpha())  # .isalpha : 알파벳 문자 only\n",
        "print('puthon101'.isalnum())  # .isalnum : 알파벳 문자 와 숫자\n",
        "print('101'.isdecimal())      # .isdecimal : 숫자 only"
      ],
      "metadata": {
        "colab": {
          "base_uri": "https://localhost:8080/"
        },
        "id": "KGUOWEX__rWI",
        "outputId": "370c6c2b-1744-4f22-c1dd-1d32d5b4d3a1"
      },
      "execution_count": null,
      "outputs": [
        {
          "output_type": "stream",
          "name": "stdout",
          "text": [
            "False\n",
            "True\n",
            "False\n",
            "False\n",
            "True\n",
            "True\n"
          ]
        }
      ]
    },
    {
      "cell_type": "code",
      "source": [
        "# Join - tuple, list, string 등 iterable 한 객체를 받는 method\n",
        "#      - 각각의 원소를 모아 하나의 문자열로 합쳐줌\n",
        "\n",
        "stages = ['fundamentals', 'exploration', 'goingdeeper']\n",
        "\",\".join(stages)\n",
        "# 큰 따옴표 사이에 '구분자(,/_/ /etc)' 넣기 가능 \n",
        "\".\".join(stages)"
      ],
      "metadata": {
        "colab": {
          "base_uri": "https://localhost:8080/",
          "height": 35
        },
        "id": "l_U1bxdCA5iO",
        "outputId": "506826f8-92ef-4a1f-afbe-dcd9506340a4"
      },
      "execution_count": null,
      "outputs": [
        {
          "output_type": "execute_result",
          "data": {
            "application/vnd.google.colaboratory.intrinsic+json": {
              "type": "string"
            },
            "text/plain": [
              "'fundamentals.exploration.goingdeeper'"
            ]
          },
          "metadata": {},
          "execution_count": 23
        }
      ]
    },
    {
      "cell_type": "code",
      "source": [
        "# Split - 하나의 문자열을 구분자를 기준으로 나눔\n",
        "'fundamentals','exploration','goingdeeper'.split('.')"
      ],
      "metadata": {
        "colab": {
          "base_uri": "https://localhost:8080/"
        },
        "id": "oDxJXz2KB6cO",
        "outputId": "b95a7da8-7c37-4a20-a51e-bd16fa64ba6d"
      },
      "execution_count": null,
      "outputs": [
        {
          "output_type": "execute_result",
          "data": {
            "text/plain": [
              "('fundamentals', 'exploration', ['goingdeeper'])"
            ]
          },
          "metadata": {},
          "execution_count": 24
        }
      ]
    },
    {
      "cell_type": "code",
      "source": [
        "# Replace\n",
        "\n",
        "sent = 'I can do it!'\n",
        "sent.replace('I','You')"
      ],
      "metadata": {
        "colab": {
          "base_uri": "https://localhost:8080/",
          "height": 35
        },
        "id": "nR1BT4tLGpF1",
        "outputId": "562a49fa-5702-4ccd-f268-65897761efe9"
      },
      "execution_count": null,
      "outputs": [
        {
          "output_type": "execute_result",
          "data": {
            "application/vnd.google.colaboratory.intrinsic+json": {
              "type": "string"
            },
            "text/plain": [
              "'You can do it!'"
            ]
          },
          "metadata": {},
          "execution_count": 25
        }
      ]
    },
    {
      "cell_type": "code",
      "source": [
        "# mutable object (가변 객체)\n",
        "\n",
        "  # 객체를 생성한 후 값 수정 가능\n",
        "  # 변수는 값이 수정된 개체를 가리키게 됨\n",
        "  # list, set, dict\n",
        "\n",
        "# immutable object (불변 객체)\n",
        "\n",
        "  # 객체를 생성한 후 값 수정 불가\n",
        "  # 변수는 해당 값을 가진 다른 객체를 가리키게 됨\n",
        "  # int,float,complex,bool,string,tuple,frozen set"
      ],
      "metadata": {
        "id": "8yDhV2UnHDQp"
      },
      "execution_count": null,
      "outputs": []
    },
    {
      "cell_type": "code",
      "source": [
        "# 정규 표현식 - 패턴화된 문자열의 집합을 표현하는 형식언어 \n",
        "#          - 찾고자 하는 문자열 패턴을 정의하고 기존문자열과 비교하여 문자열을 검색,치환\n",
        "\n",
        "import re\n",
        "sent = 'I can do it!'\n",
        "pattern = re.sub('I','You',sent)\n",
        "pattern"
      ],
      "metadata": {
        "colab": {
          "base_uri": "https://localhost:8080/",
          "height": 35
        },
        "id": "Jqh7orYjIFYZ",
        "outputId": "17dd8657-562b-4948-ace7-d3731b93136e"
      },
      "execution_count": null,
      "outputs": [
        {
          "output_type": "execute_result",
          "data": {
            "application/vnd.google.colaboratory.intrinsic+json": {
              "type": "string"
            },
            "text/plain": [
              "'You can do it!'"
            ]
          },
          "metadata": {},
          "execution_count": 26
        }
      ]
    },
    {
      "cell_type": "code",
      "source": [
        "# 정규 표현식 사용하기\n",
        "1. import re \n",
        "표준 라이브러리 re 를 import\n",
        "\n",
        "2. compile \n",
        "찾고자 하는 문자열의 패턴을 정의\n",
        "\n",
        "pattern = re.compile('the')\n",
        "pattern.findall('of the people, for the people, by the people')\n",
        "\n",
        "=>\n",
        "pattern.findall('the','of the people, for the people, by the people')\n",
        "\n",
        "method : search(), match(),findall(),split(),sub()"
      ],
      "metadata": {
        "id": "VLghjuuUJPBb"
      },
      "execution_count": null,
      "outputs": []
    },
    {
      "cell_type": "code",
      "source": [
        "import re\n",
        "src = 'My name is ...'\n",
        "regex = re.match('My',src)\n",
        "print(regex)\n",
        "if regex:\n",
        "  print(regex.group())\n",
        "else:\n",
        "  print('No')\n"
      ],
      "metadata": {
        "colab": {
          "base_uri": "https://localhost:8080/"
        },
        "id": "AGCFMm6aND3w",
        "outputId": "c3eb8211-167e-483a-f0d9-cdfbf76b1bbd"
      },
      "execution_count": null,
      "outputs": [
        {
          "output_type": "stream",
          "name": "stdout",
          "text": [
            "<re.Match object; span=(0, 2), match='My'>\n",
            "My\n"
          ]
        }
      ]
    },
    {
      "cell_type": "code",
      "source": [
        "#- 연도(숫자)\n",
        "text = \"\"\"\n",
        "The first season of America Premiere League  was played in 1993. \n",
        "The second season was played in 1995 in South Africa. \n",
        "Last season was played in 2019 and won by Chennai Super Kings (CSK).\n",
        "CSK won the title in 2000 and 2002 as well.\n",
        "Mumbai Indians (MI) has also won the title 3 times in 2013, 2015 and 2017.\n",
        "\"\"\"\n",
        "pattern = re.compile(\"[1-2]\\d\\d\\d\")\n",
        "pattern.findall(text)"
      ],
      "metadata": {
        "colab": {
          "base_uri": "https://localhost:8080/"
        },
        "id": "13GsQCoIND5L",
        "outputId": "83debde8-cc68-4390-b081-b6c27989e332"
      },
      "execution_count": null,
      "outputs": [
        {
          "output_type": "execute_result",
          "data": {
            "text/plain": [
              "['1993', '1995', '2019', '2000', '2002', '2013', '2015', '2017']"
            ]
          },
          "metadata": {},
          "execution_count": 30
        }
      ]
    },
    {
      "cell_type": "code",
      "source": [
        "#- 전화번호(숫자, 기호)\n",
        "phonenumber = re.compile(r'\\d\\d\\d-\\d\\d\\d-\\d\\d\\d\\d')\n",
        "# phonenumber = re.compile(r'\\d{3}-\\d{3}-\\d{4}') 도 가능\n",
        "# phonenumber = re.compile(r'(\\d{3}-){2}\\d{4}') 도 가능\n",
        "phone = phonenumber.search('This is my phone number 010-111-1111')\n",
        "if phone:\n",
        "  print(phone.group())\n",
        "print('------')\n",
        "phone = phonenumber.match ('This is my phone number 010-111-1111')\n",
        "if phone:\n",
        "  print(phone.group())\n",
        "\n",
        "# match 의 경우 처음부터 패턴이 일치하지 않아 출력 X"
      ],
      "metadata": {
        "colab": {
          "base_uri": "https://localhost:8080/"
        },
        "id": "tOMz7Gs5RvGl",
        "outputId": "1666f325-8d25-46a9-9620-7c1756a24992"
      },
      "execution_count": null,
      "outputs": [
        {
          "output_type": "stream",
          "name": "stdout",
          "text": [
            "010-111-1111\n",
            "------\n"
          ]
        }
      ]
    },
    {
      "cell_type": "code",
      "source": [
        "#- 이메일(알파벳, 숫자, 기호)\n",
        "text = \"My e-mail adress is doingharu@aiffel.com, and tomorrow@aiffel.com\"\n",
        "pattern = re.compile(\"[0-9a-zA-Z]+@[0-9a-z]+\\.[a-z]+\")\n",
        "pattern.findall(text)\n",
        "\n",
        "# 메타문자 이용해 다양한 특수 패턴 가능"
      ],
      "metadata": {
        "colab": {
          "base_uri": "https://localhost:8080/"
        },
        "id": "z1d7mtLJRvHs",
        "outputId": "df197dfb-11e2-486c-b0b6-16e03c7b387f"
      },
      "execution_count": null,
      "outputs": [
        {
          "output_type": "execute_result",
          "data": {
            "text/plain": [
              "['doingharu@aiffel.com', 'tomorrow@aiffel.com']"
            ]
          },
          "metadata": {},
          "execution_count": 33
        }
      ]
    },
    {
      "cell_type": "code",
      "source": [
        "f = open('hello.txt','w')\n",
        "# open(파일명,파일모드)\n",
        "# 파일을 열고 파일 객체를 반환\n",
        "\n",
        "for i in range(10):\n",
        "  f.write('안녕')\n",
        "  # write() method 로 '안녕' 10 번 쓰기\n",
        "\n",
        "f.close()\n",
        "# 작업 끝나면 close() 필수 !\n",
        "print('완료!')"
      ],
      "metadata": {
        "colab": {
          "base_uri": "https://localhost:8080/"
        },
        "id": "Jp-wZeSfTwZ6",
        "outputId": "3ab342d5-cadc-440b-f581-fd0d2da77ac8"
      },
      "execution_count": null,
      "outputs": [
        {
          "output_type": "stream",
          "name": "stdout",
          "text": [
            "완료!\n"
          ]
        }
      ]
    },
    {
      "cell_type": "code",
      "source": [
        "with open('hello.txt','r') as f:\n",
        "  print(f.read())\n",
        "\n",
        "# with 을 통해 파일을 열어서 객체를 f 로 받아옴\n",
        "# with 로 파일 호출 시 with 문 종료시 자동으로 f.close() 실행"
      ],
      "metadata": {
        "colab": {
          "base_uri": "https://localhost:8080/"
        },
        "id": "otdMCKpdWm_4",
        "outputId": "ce844985-5465-400d-9e4b-1f025182048b"
      },
      "execution_count": null,
      "outputs": [
        {
          "output_type": "stream",
          "name": "stdout",
          "text": [
            "안녕안녕안녕안녕안녕안녕안녕안녕안녕안녕\n"
          ]
        }
      ]
    },
    {
      "cell_type": "code",
      "source": [
        "quotes = ['\\n Hello.\\n','\\n Nice to meet you!\\n','\\n Haven\\'t seen you in a while\\n']\n",
        "\n",
        "with open('hello.txt','a') as f:\n",
        "  f.writelines(quotes)\n",
        "\n",
        "with open('hello.txt','r') as f:\n",
        "  hello = f.readlines()\n",
        "  print(f'위치 : {f.tell()}')\n",
        "  print(hello)\n",
        "  print('--------------------------------------------------')\n",
        "  f.seek(10)\n",
        "  print(f'위치 : {f.tell()}')"
      ],
      "metadata": {
        "colab": {
          "base_uri": "https://localhost:8080/"
        },
        "id": "LWnjpN-bXI9f",
        "outputId": "b5f05bcf-ed34-4529-fc00-6d0ca462a15a"
      },
      "execution_count": null,
      "outputs": [
        {
          "output_type": "stream",
          "name": "stdout",
          "text": [
            "위치 : 237\n",
            "['안녕안녕안녕안녕안녕안녕안녕안녕안녕안녕\\n', ' Hello.\\n', '\\n', ' Nice to meet you!\\n', '\\n', \" Haven't seen you in a while\\n\", '\\n', ' Hello.\\n', '\\n', ' Nice to meet you!\\n', '\\n', \" Haven't seen you in a while\\n\", '\\n', ' Hello.\\n', '\\n', ' Nice to meet you!\\n', '\\n', \" Haven't seen you in a while\\n\"]\n",
            "--------------------------------------------------\n",
            "위치 : 10\n"
          ]
        }
      ]
    },
    {
      "cell_type": "code",
      "source": [
        "# 현재 파이썬 실행 파일의 디렉터리를 반환\n",
        "import sys\n",
        "sys.executable\n",
        "\n",
        "# system import 시 불러오는 module 위치경로\n",
        "sys.path\n",
        "\n",
        "# 개념\n",
        "\n",
        "# 모듈(module) : 파이썬으로 만든 코드가 들어간 파일 .py\n",
        "# 패키지(package) : 기능적으로 동일하거나 동일한 결과를 만드는 모듈들의 집합 또는 폴더. 종종 라이브러리라고도 불림\n",
        "# 라이브러리(library) : 모듈과 패키지의 집합. 패키지보다 포괄적인 개념이나 패키지와 혼용되어 사용되기도 함.\n",
        "# PIP(Package Installer for Python) : 패키지 관리자로 파이썬을 설치하면 기본으로 설치됨\n",
        "# PyPA(Python Packaging Authority) : 파이선 패키지를 관리하고 유지하는 그룹\n",
        "# PyPI(The Python Package Index) : 파이썬 패키지들의 저장소\n",
        "\n",
        "# 함수\n",
        "\n",
        "# sys.path : 현재 폴더와 파이썬 모듈들이 저장되는 위치를 리스트 형태로 반환\n",
        "# sys.path.append() : 자신이 만든 모듈의 경로를 append 함수를 이용해서 추가함. 그 후 추가한 디렉터리에 있는 파이썬 모듈을 불러와 사용할 수 있다.\n",
        "# os.chdir() : 디렉터리 위치 변경\n",
        "# os.getcwd() : 현재 자신의 디렉터리 위치를 반환\n",
        "# os.mkdir() : 디렉터리 생성\n",
        "# os.rmdir() : 디렉터리 삭제 (단, 디렉터리가 비어 있을 경우)\n",
        "# glob.glob() : 해당 경로 안의 디렉터리나 파일들을 리스트 형태로 반환\n",
        "# os.path.join() : 경로(path)를 병합하여 새 경로 생성\n",
        "# os.listdir() : 디렉터리 안의 파일 및 서브 디렉터리를 리스트 형태로 반환\n",
        "# os.path.exists() : 파일 혹은 디렉터리의 경로 존재 여부 확인\n",
        "# os.path.isfile() : 파일 경로의 존재 여부 확인\n",
        "# os.path.isdir() : 디렉터리 경로의 존재 여부 확인\n",
        "# os.path.getsize() : 파일의 크기 확인\n"
      ],
      "metadata": {
        "colab": {
          "base_uri": "https://localhost:8080/"
        },
        "id": "J5iTrqlic7Qp",
        "outputId": "076b8b43-c86c-4ef1-b788-6d9ee193ac4b"
      },
      "execution_count": null,
      "outputs": [
        {
          "output_type": "execute_result",
          "data": {
            "text/plain": [
              "['',\n",
              " '/content',\n",
              " '/env/python',\n",
              " '/usr/lib/python37.zip',\n",
              " '/usr/lib/python3.7',\n",
              " '/usr/lib/python3.7/lib-dynload',\n",
              " '/usr/local/lib/python3.7/dist-packages',\n",
              " '/usr/lib/python3/dist-packages',\n",
              " '/usr/local/lib/python3.7/dist-packages/IPython/extensions',\n",
              " '/root/.ipython']"
            ]
          },
          "metadata": {},
          "execution_count": 40
        }
      ]
    },
    {
      "cell_type": "code",
      "source": [
        "b = ([1,2,3,4,5])\n",
        "\n",
        "\n",
        "\n",
        "print(b[0][1])"
      ],
      "metadata": {
        "colab": {
          "base_uri": "https://localhost:8080/",
          "height": 232
        },
        "id": "gQOBxk5RexdN",
        "outputId": "beae6618-ad50-4c7c-8be3-e87b663fb06a"
      },
      "execution_count": null,
      "outputs": [
        {
          "output_type": "error",
          "ename": "TypeError",
          "evalue": "ignored",
          "traceback": [
            "\u001b[0;31m---------------------------------------------------------------------------\u001b[0m",
            "\u001b[0;31mTypeError\u001b[0m                                 Traceback (most recent call last)",
            "\u001b[0;32m<ipython-input-52-9859f9df6fcb>\u001b[0m in \u001b[0;36m<module>\u001b[0;34m()\u001b[0m\n\u001b[1;32m      3\u001b[0m \u001b[0;34m\u001b[0m\u001b[0m\n\u001b[1;32m      4\u001b[0m \u001b[0;34m\u001b[0m\u001b[0m\n\u001b[0;32m----> 5\u001b[0;31m \u001b[0mprint\u001b[0m\u001b[0;34m(\u001b[0m\u001b[0mb\u001b[0m\u001b[0;34m[\u001b[0m\u001b[0;36m0\u001b[0m\u001b[0;34m]\u001b[0m\u001b[0;34m[\u001b[0m\u001b[0;36m1\u001b[0m\u001b[0;34m]\u001b[0m\u001b[0;34m)\u001b[0m\u001b[0;34m\u001b[0m\u001b[0;34m\u001b[0m\u001b[0m\n\u001b[0m",
            "\u001b[0;31mTypeError\u001b[0m: 'int' object is not subscriptable"
          ]
        }
      ]
    },
    {
      "cell_type": "code",
      "source": [
        "billboardchart = {\n",
        "  \t\t\t\t 1 : [\"Tho Box\",\"Roddy Ricch\",\"2019-12-19\"],\n",
        "                 2 : [\"Don't Start Now\", \"Dua Lipa\", \"2019-11-01\"],\n",
        "                 3 : [\"Life Is Good\", \"Future Featuring Drake\", \"2020-02-10\"],\n",
        "                 4 : [\"Blinding\", \"The Weeknd\", \"2019-11-29\"],\n",
        "                 5 : [\"Circles\", \"Post Malone\",\"2019-08-30\"]}\n",
        "\n",
        "with open(\"billboardchart.csv\",\"w\") as f:\n",
        "  # for n in billboardchart.keys():\n",
        "  #   num = billboardchart.keys(n)\n",
        "    for i in billboardchart.values():\n",
        "        data = \",\".join(i)\n",
        "        f.write(data+\"\\n\")\n",
        "\n",
        "print(\"슝~\")"
      ],
      "metadata": {
        "colab": {
          "base_uri": "https://localhost:8080/"
        },
        "id": "7hN-hUHmexec",
        "outputId": "84e0eccc-9516-4e8b-925d-9de496d69f3e"
      },
      "execution_count": null,
      "outputs": [
        {
          "output_type": "stream",
          "name": "stdout",
          "text": [
            "슝~\n"
          ]
        }
      ]
    },
    {
      "cell_type": "code",
      "source": [
        "import csv\n",
        "\n",
        "header = ['title','singer','realesed date']\n",
        "\n",
        "with open('billboardchart.csv','r') as inputfile:\n",
        "  with open('billboardchart_out.csv','w',newline = '\\n') as outputfile:\n",
        "    fi = csv.reader(inputfile,delimiter = ',')\n",
        "    fo = csv.writer(outputfile, delimiter = ',')\n",
        "    fo.writerow(header)\n",
        "    for row in fi:\n",
        "      fo.writerow(row)\n",
        "    \n",
        "print('슝~')\n",
        "\n",
        "with open('billboardchart_out.csv','r') as f:\n",
        "  print(f.read())"
      ],
      "metadata": {
        "colab": {
          "base_uri": "https://localhost:8080/"
        },
        "id": "TYOd7kXCkfgW",
        "outputId": "948af4d0-3438-401f-ef28-0104b0063ccb"
      },
      "execution_count": null,
      "outputs": [
        {
          "output_type": "stream",
          "name": "stdout",
          "text": [
            "슝~\n",
            "title,singer,realesed date\n",
            "Tho Box,Roddy Ricch,2019-12-19\n",
            "Don't Start Now,Dua Lipa,2019-11-01\n",
            "Life Is Good,Future Featuring Drake,2020-02-10\n",
            "Blinding,The Weeknd,2019-11-29\n",
            "Circles,Post Malone,2019-08-30\n",
            "\n"
          ]
        }
      ]
    },
    {
      "cell_type": "code",
      "source": [
        "\n",
        "fields = [\"title\", \"singer\", \"released date\"]\n",
        "rows = [ [\"Tho Box\",\"Roddy Ricch\",\"2019-12-19\"],\n",
        "               [\"Don't Start Now\", \"Dua Lipa\", \"2019-11-01\"],\n",
        "               [\"Life Is Good\", \"Future Featuring Drake\", \"2020-02-10\"],\n",
        "               [\"Blinding\", \"The Weeknd\", \"2019-11-29\"],\n",
        "               [\"Circles\", \"Post Malone\",\"2019-08-30\"]]\n",
        "\n",
        "print(\"슝~\")\n",
        "\n",
        "import pandas as pd\n",
        "\n",
        "df = pd.DataFrame(rows,columns = fields)\n",
        "df.to_csv('pandas.csv',index = False)\n",
        "\n",
        "print('슝~')"
      ],
      "metadata": {
        "colab": {
          "base_uri": "https://localhost:8080/"
        },
        "id": "XzXPtX5InwQa",
        "outputId": "a0832b36-41a2-464d-87f0-838c04126634"
      },
      "execution_count": null,
      "outputs": [
        {
          "output_type": "stream",
          "name": "stdout",
          "text": [
            "슝~\n",
            "슝~\n"
          ]
        }
      ]
    },
    {
      "cell_type": "code",
      "source": [
        "import csv\n",
        "\n",
        "filename = 'test.csv'\n",
        "with open(filename,'w',newline = '\\n') as csv_file:\n",
        "  csv_writer = csv.writer(csv_file)\n",
        "  csv_writer.writerow(fields)\n",
        "  csv_writer.writerows(rows)\n",
        "\n",
        "  print('완료!')"
      ],
      "metadata": {
        "id": "r1e0lnPc585o"
      },
      "execution_count": null,
      "outputs": []
    },
    {
      "cell_type": "code",
      "source": [
        "df = pd.read_csv('pandas.csv')\n",
        "df.head()"
      ],
      "metadata": {
        "colab": {
          "base_uri": "https://localhost:8080/",
          "height": 204
        },
        "id": "s_mAvQTE6eDk",
        "outputId": "e90c5bb6-b63a-49b0-88a5-f7e1afad8e35"
      },
      "execution_count": null,
      "outputs": [
        {
          "output_type": "execute_result",
          "data": {
            "text/html": [
              "\n",
              "  <div id=\"df-ffde5350-d02e-4a19-a8e6-c5e236976e24\">\n",
              "    <div class=\"colab-df-container\">\n",
              "      <div>\n",
              "<style scoped>\n",
              "    .dataframe tbody tr th:only-of-type {\n",
              "        vertical-align: middle;\n",
              "    }\n",
              "\n",
              "    .dataframe tbody tr th {\n",
              "        vertical-align: top;\n",
              "    }\n",
              "\n",
              "    .dataframe thead th {\n",
              "        text-align: right;\n",
              "    }\n",
              "</style>\n",
              "<table border=\"1\" class=\"dataframe\">\n",
              "  <thead>\n",
              "    <tr style=\"text-align: right;\">\n",
              "      <th></th>\n",
              "      <th>title</th>\n",
              "      <th>singer</th>\n",
              "      <th>released date</th>\n",
              "    </tr>\n",
              "  </thead>\n",
              "  <tbody>\n",
              "    <tr>\n",
              "      <th>0</th>\n",
              "      <td>Tho Box</td>\n",
              "      <td>Roddy Ricch</td>\n",
              "      <td>2019-12-19</td>\n",
              "    </tr>\n",
              "    <tr>\n",
              "      <th>1</th>\n",
              "      <td>Don't Start Now</td>\n",
              "      <td>Dua Lipa</td>\n",
              "      <td>2019-11-01</td>\n",
              "    </tr>\n",
              "    <tr>\n",
              "      <th>2</th>\n",
              "      <td>Life Is Good</td>\n",
              "      <td>Future Featuring Drake</td>\n",
              "      <td>2020-02-10</td>\n",
              "    </tr>\n",
              "    <tr>\n",
              "      <th>3</th>\n",
              "      <td>Blinding</td>\n",
              "      <td>The Weeknd</td>\n",
              "      <td>2019-11-29</td>\n",
              "    </tr>\n",
              "    <tr>\n",
              "      <th>4</th>\n",
              "      <td>Circles</td>\n",
              "      <td>Post Malone</td>\n",
              "      <td>2019-08-30</td>\n",
              "    </tr>\n",
              "  </tbody>\n",
              "</table>\n",
              "</div>\n",
              "      <button class=\"colab-df-convert\" onclick=\"convertToInteractive('df-ffde5350-d02e-4a19-a8e6-c5e236976e24')\"\n",
              "              title=\"Convert this dataframe to an interactive table.\"\n",
              "              style=\"display:none;\">\n",
              "        \n",
              "  <svg xmlns=\"http://www.w3.org/2000/svg\" height=\"24px\"viewBox=\"0 0 24 24\"\n",
              "       width=\"24px\">\n",
              "    <path d=\"M0 0h24v24H0V0z\" fill=\"none\"/>\n",
              "    <path d=\"M18.56 5.44l.94 2.06.94-2.06 2.06-.94-2.06-.94-.94-2.06-.94 2.06-2.06.94zm-11 1L8.5 8.5l.94-2.06 2.06-.94-2.06-.94L8.5 2.5l-.94 2.06-2.06.94zm10 10l.94 2.06.94-2.06 2.06-.94-2.06-.94-.94-2.06-.94 2.06-2.06.94z\"/><path d=\"M17.41 7.96l-1.37-1.37c-.4-.4-.92-.59-1.43-.59-.52 0-1.04.2-1.43.59L10.3 9.45l-7.72 7.72c-.78.78-.78 2.05 0 2.83L4 21.41c.39.39.9.59 1.41.59.51 0 1.02-.2 1.41-.59l7.78-7.78 2.81-2.81c.8-.78.8-2.07 0-2.86zM5.41 20L4 18.59l7.72-7.72 1.47 1.35L5.41 20z\"/>\n",
              "  </svg>\n",
              "      </button>\n",
              "      \n",
              "  <style>\n",
              "    .colab-df-container {\n",
              "      display:flex;\n",
              "      flex-wrap:wrap;\n",
              "      gap: 12px;\n",
              "    }\n",
              "\n",
              "    .colab-df-convert {\n",
              "      background-color: #E8F0FE;\n",
              "      border: none;\n",
              "      border-radius: 50%;\n",
              "      cursor: pointer;\n",
              "      display: none;\n",
              "      fill: #1967D2;\n",
              "      height: 32px;\n",
              "      padding: 0 0 0 0;\n",
              "      width: 32px;\n",
              "    }\n",
              "\n",
              "    .colab-df-convert:hover {\n",
              "      background-color: #E2EBFA;\n",
              "      box-shadow: 0px 1px 2px rgba(60, 64, 67, 0.3), 0px 1px 3px 1px rgba(60, 64, 67, 0.15);\n",
              "      fill: #174EA6;\n",
              "    }\n",
              "\n",
              "    [theme=dark] .colab-df-convert {\n",
              "      background-color: #3B4455;\n",
              "      fill: #D2E3FC;\n",
              "    }\n",
              "\n",
              "    [theme=dark] .colab-df-convert:hover {\n",
              "      background-color: #434B5C;\n",
              "      box-shadow: 0px 1px 3px 1px rgba(0, 0, 0, 0.15);\n",
              "      filter: drop-shadow(0px 1px 2px rgba(0, 0, 0, 0.3));\n",
              "      fill: #FFFFFF;\n",
              "    }\n",
              "  </style>\n",
              "\n",
              "      <script>\n",
              "        const buttonEl =\n",
              "          document.querySelector('#df-ffde5350-d02e-4a19-a8e6-c5e236976e24 button.colab-df-convert');\n",
              "        buttonEl.style.display =\n",
              "          google.colab.kernel.accessAllowed ? 'block' : 'none';\n",
              "\n",
              "        async function convertToInteractive(key) {\n",
              "          const element = document.querySelector('#df-ffde5350-d02e-4a19-a8e6-c5e236976e24');\n",
              "          const dataTable =\n",
              "            await google.colab.kernel.invokeFunction('convertToInteractive',\n",
              "                                                     [key], {});\n",
              "          if (!dataTable) return;\n",
              "\n",
              "          const docLinkHtml = 'Like what you see? Visit the ' +\n",
              "            '<a target=\"_blank\" href=https://colab.research.google.com/notebooks/data_table.ipynb>data table notebook</a>'\n",
              "            + ' to learn more about interactive tables.';\n",
              "          element.innerHTML = '';\n",
              "          dataTable['output_type'] = 'display_data';\n",
              "          await google.colab.output.renderOutput(dataTable, element);\n",
              "          const docLink = document.createElement('div');\n",
              "          docLink.innerHTML = docLinkHtml;\n",
              "          element.appendChild(docLink);\n",
              "        }\n",
              "      </script>\n",
              "    </div>\n",
              "  </div>\n",
              "  "
            ],
            "text/plain": [
              "             title                  singer released date\n",
              "0          Tho Box             Roddy Ricch    2019-12-19\n",
              "1  Don't Start Now                Dua Lipa    2019-11-01\n",
              "2     Life Is Good  Future Featuring Drake    2020-02-10\n",
              "3         Blinding              The Weeknd    2019-11-29\n",
              "4          Circles             Post Malone    2019-08-30"
            ]
          },
          "metadata": {},
          "execution_count": 56
        }
      ]
    },
    {
      "cell_type": "code",
      "source": [
        "import xml.etree.ElementTree as ET\n",
        "\n",
        "person = ET.Element('Person')\n",
        "name = ET.Element('name')\n",
        "name.text = '이펠'\n",
        "person.append(name)\n",
        "\n",
        "age = ET.Element('age')\n",
        "age.text = '28'\n",
        "person.append(age)\n",
        "\n",
        "ET.SubElement(person,'place').text = '강남'\n",
        "\n",
        "ET.dump(person)\n",
        "\n",
        "person.attrib['id'] = '0x0001'\n",
        "name.tag = 'firstname'\n",
        "ET.dump(person)\n",
        "\n",
        "lastname = ET.Element('lastname',date = '2020-03-20')\n",
        "lastname.text = '아'\n",
        "person.insert(1,lastname)\n",
        "ET.dump(person)\n",
        "\n",
        "person.remove(age)\n",
        "ET.dump(person)\n",
        "\n",
        "ET.ElementTree(person).write('person.xnl')\n",
        "\n",
        "!ls"
      ],
      "metadata": {
        "colab": {
          "base_uri": "https://localhost:8080/"
        },
        "id": "V1cdzrfE6eE7",
        "outputId": "1ae73d49-7e01-41e0-8495-4b5dace2d248"
      },
      "execution_count": null,
      "outputs": [
        {
          "output_type": "stream",
          "name": "stdout",
          "text": [
            "<Person><name>이펠</name><age>28</age><place>강남</place></Person>\n",
            "<Person id=\"0x0001\"><firstname>이펠</firstname><age>28</age><place>강남</place></Person>\n",
            "<Person id=\"0x0001\"><firstname>이펠</firstname><lastname date=\"2020-03-20\">아</lastname><age>28</age><place>강남</place></Person>\n",
            "<Person id=\"0x0001\"><firstname>이펠</firstname><lastname date=\"2020-03-20\">아</lastname><place>강남</place></Person>\n",
            "billboardchart.csv\thello.txt   person.xnl\n",
            "billboardchart_out.csv\tpandas.csv  sample_data\n"
          ]
        }
      ]
    },
    {
      "cell_type": "code",
      "source": [
        "import json\n",
        "\n",
        "person = {\n",
        "      \"first name\" : \"Yuna\",\n",
        "      \"last name\" : \"Jung\",\n",
        "      \"age\" : 33,\n",
        "      \"nationality\" : \"South Korea\",\n",
        "      \"education\" : [{\"degree\":\"B.S degree\", \"university\":\"Daehan university\", \"major\": \"mechanical engineering\", \"graduated year\":2010}]\n",
        "       } \n",
        "\n",
        "with open(\"person.json\", \"w\") as f:\n",
        "    json.dump(person , f)\n",
        "\n",
        "print(\"슝~\")"
      ],
      "metadata": {
        "colab": {
          "base_uri": "https://localhost:8080/"
        },
        "id": "HtUlaa9Q-RlG",
        "outputId": "8253e1e8-f4cd-4206-cd23-94cf05ad9ba8"
      },
      "execution_count": null,
      "outputs": [
        {
          "output_type": "stream",
          "name": "stdout",
          "text": [
            "슝~\n"
          ]
        }
      ]
    },
    {
      "cell_type": "code",
      "source": [
        "import json\n",
        "\n",
        "with open(\"person.json\", \"r\", encoding=\"utf-8\") as f:\n",
        "    contents = json.load(f)\n",
        "    print(contents[\"first name\"])\n",
        "    print(contents[\"education\"])"
      ],
      "metadata": {
        "colab": {
          "base_uri": "https://localhost:8080/"
        },
        "id": "YxvmfeEU-RmZ",
        "outputId": "9a1182f4-8c39-4ece-9b5a-3055b4547e97"
      },
      "execution_count": null,
      "outputs": [
        {
          "output_type": "stream",
          "name": "stdout",
          "text": [
            "Yuna\n",
            "[{'degree': 'B.S degree', 'university': 'Daehan university', 'major': 'mechanical engineering', 'graduated year': 2010}]\n"
          ]
        }
      ]
    }
  ]
}