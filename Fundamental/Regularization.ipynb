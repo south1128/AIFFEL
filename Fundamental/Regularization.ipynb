{
  "nbformat": 4,
  "nbformat_minor": 0,
  "metadata": {
    "colab": {
      "name": "Regularization.ipynb",
      "provenance": [],
      "collapsed_sections": []
    },
    "kernelspec": {
      "name": "python3",
      "display_name": "Python 3"
    },
    "language_info": {
      "name": "python"
    }
  },
  "cells": [
    {
      "cell_type": "markdown",
      "source": [
        "### Regularization"
      ],
      "metadata": {
        "id": "KTGZxnxkMmG2"
      }
    },
    {
      "cell_type": "markdown",
      "source": [
        "regularization : 정칙화 \n",
        "- L1, L2 regularization, Dropout, Batch normalization\n",
        "- overfitting 을 해결하기 위한 방법 중의 하나\n"
      ],
      "metadata": {
        "id": "mRfW0QQnMqDO"
      }
    },
    {
      "cell_type": "markdown",
      "source": [
        "normalization : 정규화 \n",
        "- 데이터의 형태를 좀더 의미있게, 트레이닝에 적합하게 전처리 하는 과정 \n",
        "- zero-score, minmax scaler"
      ],
      "metadata": {
        "id": "vlSdq_BKNBmt"
      }
    },
    {
      "cell_type": "markdown",
      "source": [
        "*example [ normalization ]* "
      ],
      "metadata": {
        "id": "xjfX4G-ENeut"
      }
    },
    {
      "cell_type": "code",
      "execution_count": null,
      "metadata": {
        "colab": {
          "base_uri": "https://localhost:8080/",
          "height": 206
        },
        "id": "WdRNG3EPwrpO",
        "outputId": "6dfe9290-379a-4e90-c4c0-c1d3af1e5a91"
      },
      "outputs": [
        {
          "output_type": "execute_result",
          "data": {
            "text/html": [
              "\n",
              "  <div id=\"df-bf2ec5fc-60c5-4e4b-ac58-7a0393a0cf6a\">\n",
              "    <div class=\"colab-df-container\">\n",
              "      <div>\n",
              "<style scoped>\n",
              "    .dataframe tbody tr th:only-of-type {\n",
              "        vertical-align: middle;\n",
              "    }\n",
              "\n",
              "    .dataframe tbody tr th {\n",
              "        vertical-align: top;\n",
              "    }\n",
              "\n",
              "    .dataframe thead th {\n",
              "        text-align: right;\n",
              "    }\n",
              "</style>\n",
              "<table border=\"1\" class=\"dataframe\">\n",
              "  <thead>\n",
              "    <tr style=\"text-align: right;\">\n",
              "      <th></th>\n",
              "      <th>sepal length (cm)</th>\n",
              "      <th>sepal width (cm)</th>\n",
              "      <th>petal length (cm)</th>\n",
              "      <th>petal width (cm)</th>\n",
              "      <th>species</th>\n",
              "    </tr>\n",
              "  </thead>\n",
              "  <tbody>\n",
              "    <tr>\n",
              "      <th>0</th>\n",
              "      <td>5.1</td>\n",
              "      <td>3.5</td>\n",
              "      <td>1.4</td>\n",
              "      <td>0.2</td>\n",
              "      <td>setosa</td>\n",
              "    </tr>\n",
              "    <tr>\n",
              "      <th>1</th>\n",
              "      <td>4.9</td>\n",
              "      <td>3.0</td>\n",
              "      <td>1.4</td>\n",
              "      <td>0.2</td>\n",
              "      <td>setosa</td>\n",
              "    </tr>\n",
              "    <tr>\n",
              "      <th>2</th>\n",
              "      <td>4.7</td>\n",
              "      <td>3.2</td>\n",
              "      <td>1.3</td>\n",
              "      <td>0.2</td>\n",
              "      <td>setosa</td>\n",
              "    </tr>\n",
              "    <tr>\n",
              "      <th>3</th>\n",
              "      <td>4.6</td>\n",
              "      <td>3.1</td>\n",
              "      <td>1.5</td>\n",
              "      <td>0.2</td>\n",
              "      <td>setosa</td>\n",
              "    </tr>\n",
              "    <tr>\n",
              "      <th>4</th>\n",
              "      <td>5.0</td>\n",
              "      <td>3.6</td>\n",
              "      <td>1.4</td>\n",
              "      <td>0.2</td>\n",
              "      <td>setosa</td>\n",
              "    </tr>\n",
              "  </tbody>\n",
              "</table>\n",
              "</div>\n",
              "      <button class=\"colab-df-convert\" onclick=\"convertToInteractive('df-bf2ec5fc-60c5-4e4b-ac58-7a0393a0cf6a')\"\n",
              "              title=\"Convert this dataframe to an interactive table.\"\n",
              "              style=\"display:none;\">\n",
              "        \n",
              "  <svg xmlns=\"http://www.w3.org/2000/svg\" height=\"24px\"viewBox=\"0 0 24 24\"\n",
              "       width=\"24px\">\n",
              "    <path d=\"M0 0h24v24H0V0z\" fill=\"none\"/>\n",
              "    <path d=\"M18.56 5.44l.94 2.06.94-2.06 2.06-.94-2.06-.94-.94-2.06-.94 2.06-2.06.94zm-11 1L8.5 8.5l.94-2.06 2.06-.94-2.06-.94L8.5 2.5l-.94 2.06-2.06.94zm10 10l.94 2.06.94-2.06 2.06-.94-2.06-.94-.94-2.06-.94 2.06-2.06.94z\"/><path d=\"M17.41 7.96l-1.37-1.37c-.4-.4-.92-.59-1.43-.59-.52 0-1.04.2-1.43.59L10.3 9.45l-7.72 7.72c-.78.78-.78 2.05 0 2.83L4 21.41c.39.39.9.59 1.41.59.51 0 1.02-.2 1.41-.59l7.78-7.78 2.81-2.81c.8-.78.8-2.07 0-2.86zM5.41 20L4 18.59l7.72-7.72 1.47 1.35L5.41 20z\"/>\n",
              "  </svg>\n",
              "      </button>\n",
              "      \n",
              "  <style>\n",
              "    .colab-df-container {\n",
              "      display:flex;\n",
              "      flex-wrap:wrap;\n",
              "      gap: 12px;\n",
              "    }\n",
              "\n",
              "    .colab-df-convert {\n",
              "      background-color: #E8F0FE;\n",
              "      border: none;\n",
              "      border-radius: 50%;\n",
              "      cursor: pointer;\n",
              "      display: none;\n",
              "      fill: #1967D2;\n",
              "      height: 32px;\n",
              "      padding: 0 0 0 0;\n",
              "      width: 32px;\n",
              "    }\n",
              "\n",
              "    .colab-df-convert:hover {\n",
              "      background-color: #E2EBFA;\n",
              "      box-shadow: 0px 1px 2px rgba(60, 64, 67, 0.3), 0px 1px 3px 1px rgba(60, 64, 67, 0.15);\n",
              "      fill: #174EA6;\n",
              "    }\n",
              "\n",
              "    [theme=dark] .colab-df-convert {\n",
              "      background-color: #3B4455;\n",
              "      fill: #D2E3FC;\n",
              "    }\n",
              "\n",
              "    [theme=dark] .colab-df-convert:hover {\n",
              "      background-color: #434B5C;\n",
              "      box-shadow: 0px 1px 3px 1px rgba(0, 0, 0, 0.15);\n",
              "      filter: drop-shadow(0px 1px 2px rgba(0, 0, 0, 0.3));\n",
              "      fill: #FFFFFF;\n",
              "    }\n",
              "  </style>\n",
              "\n",
              "      <script>\n",
              "        const buttonEl =\n",
              "          document.querySelector('#df-bf2ec5fc-60c5-4e4b-ac58-7a0393a0cf6a button.colab-df-convert');\n",
              "        buttonEl.style.display =\n",
              "          google.colab.kernel.accessAllowed ? 'block' : 'none';\n",
              "\n",
              "        async function convertToInteractive(key) {\n",
              "          const element = document.querySelector('#df-bf2ec5fc-60c5-4e4b-ac58-7a0393a0cf6a');\n",
              "          const dataTable =\n",
              "            await google.colab.kernel.invokeFunction('convertToInteractive',\n",
              "                                                     [key], {});\n",
              "          if (!dataTable) return;\n",
              "\n",
              "          const docLinkHtml = 'Like what you see? Visit the ' +\n",
              "            '<a target=\"_blank\" href=https://colab.research.google.com/notebooks/data_table.ipynb>data table notebook</a>'\n",
              "            + ' to learn more about interactive tables.';\n",
              "          element.innerHTML = '';\n",
              "          dataTable['output_type'] = 'display_data';\n",
              "          await google.colab.output.renderOutput(dataTable, element);\n",
              "          const docLink = document.createElement('div');\n",
              "          docLink.innerHTML = docLinkHtml;\n",
              "          element.appendChild(docLink);\n",
              "        }\n",
              "      </script>\n",
              "    </div>\n",
              "  </div>\n",
              "  "
            ],
            "text/plain": [
              "   sepal length (cm)  sepal width (cm)  ...  petal width (cm)  species\n",
              "0                5.1               3.5  ...               0.2   setosa\n",
              "1                4.9               3.0  ...               0.2   setosa\n",
              "2                4.7               3.2  ...               0.2   setosa\n",
              "3                4.6               3.1  ...               0.2   setosa\n",
              "4                5.0               3.6  ...               0.2   setosa\n",
              "\n",
              "[5 rows x 5 columns]"
            ]
          },
          "metadata": {},
          "execution_count": 54
        }
      ],
      "source": [
        "from sklearn.datasets import load_iris\n",
        "import pandas as pd \n",
        "import matplotlib.pyplot as plt\n",
        "\n",
        "iris = load_iris()\n",
        "iris_df = pd.DataFrame(data=iris.data, columns=iris.feature_names)\n",
        "target_df = pd.DataFrame(data=iris.target, columns=['species'])\n",
        "\n",
        "# 0, 1, 2로 되어있는 target 데이터를 \n",
        "# 알아보기 쉽게 'setosa', 'versicolor', 'virginica'로 바꿉니다 \n",
        "def converter(species):\n",
        "    if species == 0:\n",
        "        return 'setosa'\n",
        "    elif species == 1:\n",
        "        return 'versicolor'\n",
        "    else:\n",
        "        return 'virginica'\n",
        "\n",
        "target_df['species'] = target_df['species'].apply(converter)\n",
        "\n",
        "iris_df = pd.concat([iris_df, target_df], axis=1)\n",
        "iris_df.head()"
      ]
    },
    {
      "cell_type": "code",
      "source": [
        "X = [iris_df['petal length (cm)'][a] for a in iris_df.index if iris_df['species'][a]=='virginica']\n",
        "Y = [iris_df['sepal length (cm)'][a] for a in iris_df.index if iris_df['species'][a]=='virginica']\n",
        "\n",
        "print(X)\n",
        "print(Y)"
      ],
      "metadata": {
        "colab": {
          "base_uri": "https://localhost:8080/"
        },
        "id": "ghfep7x4xzgM",
        "outputId": "40731123-eb17-4dae-8b57-153ecc428f4f"
      },
      "execution_count": null,
      "outputs": [
        {
          "output_type": "stream",
          "name": "stdout",
          "text": [
            "[6.0, 5.1, 5.9, 5.6, 5.8, 6.6, 4.5, 6.3, 5.8, 6.1, 5.1, 5.3, 5.5, 5.0, 5.1, 5.3, 5.5, 6.7, 6.9, 5.0, 5.7, 4.9, 6.7, 4.9, 5.7, 6.0, 4.8, 4.9, 5.6, 5.8, 6.1, 6.4, 5.6, 5.1, 5.6, 6.1, 5.6, 5.5, 4.8, 5.4, 5.6, 5.1, 5.1, 5.9, 5.7, 5.2, 5.0, 5.2, 5.4, 5.1]\n",
            "[6.3, 5.8, 7.1, 6.3, 6.5, 7.6, 4.9, 7.3, 6.7, 7.2, 6.5, 6.4, 6.8, 5.7, 5.8, 6.4, 6.5, 7.7, 7.7, 6.0, 6.9, 5.6, 7.7, 6.3, 6.7, 7.2, 6.2, 6.1, 6.4, 7.2, 7.4, 7.9, 6.4, 6.3, 6.1, 7.7, 6.3, 6.4, 6.0, 6.9, 6.7, 6.9, 5.8, 6.8, 6.7, 6.7, 6.3, 6.5, 6.2, 5.9]\n"
          ]
        }
      ]
    },
    {
      "cell_type": "code",
      "source": [
        "plt.figure(figsize=(5,5))\n",
        "plt.scatter(X,Y)\n",
        "plt.title('petal-sepal scatter before normalization')\n",
        "plt.xlabel('petal length (cm)')\n",
        "plt.ylabel('sepal length (cm)')\n",
        "plt.grid()\n",
        "plt.show()"
      ],
      "metadata": {
        "colab": {
          "base_uri": "https://localhost:8080/",
          "height": 350
        },
        "id": "G3n8Nik9xzka",
        "outputId": "4b4e7f2b-7fe9-4a0b-dad8-b55c33a6f722"
      },
      "execution_count": null,
      "outputs": [
        {
          "output_type": "display_data",
          "data": {
            "image/png": "[encoded data removed]",
            "text/plain": [
              "<Figure size 360x360 with 1 Axes>"
            ]
          },
          "metadata": {
            "needs_background": "light"
          }
        }
      ]
    },
    {
      "cell_type": "code",
      "source": [
        "from sklearn.preprocessing import minmax_scale\n",
        "\n",
        "# normalization\n",
        "X_scale = minmax_scale(X)\n",
        "Y_scale = minmax_scale(Y)\n",
        "\n",
        "plt.figure(figsize=(5,5))\n",
        "plt.scatter(X_scale,Y_scale)\n",
        "plt.title('petal-sepal scatter after normalization')\n",
        "plt.xlabel('petal length (cm)')\n",
        "plt.ylabel('sepal lenght (cm)')\n",
        "plt.grid()\n",
        "plt.show()"
      ],
      "metadata": {
        "colab": {
          "base_uri": "https://localhost:8080/",
          "height": 350
        },
        "id": "1aebOYe3xzp0",
        "outputId": "b8c438a6-2713-4c2d-f77b-81978cd4d7b2"
      },
      "execution_count": null,
      "outputs": [
        {
          "output_type": "display_data",
          "data": {
            "image/png": "[encoded data removed]",
            "text/plain": [
              "<Figure size 360x360 with 1 Axes>"
            ]
          },
          "metadata": {
            "needs_background": "light"
          }
        }
      ]
    },
    {
      "cell_type": "markdown",
      "source": [
        "*example [ regularization ]*"
      ],
      "metadata": {
        "id": "0m2uea0_NsSV"
      }
    },
    {
      "cell_type": "code",
      "source": [
        "from sklearn.linear_model import LinearRegression\n",
        "import numpy as np\n",
        "\n",
        "X = np.array(X)\n",
        "Y = np.array(Y)\n",
        "\n",
        "linear = LinearRegression()\n",
        "linear.fit(X.reshape(-1,1),Y)\n",
        "\n",
        "a,b = linear.coef_,linear.intercept_\n",
        "print('기울기 : %0.2f, 절편 : %0.2f'%(a,b))"
      ],
      "metadata": {
        "colab": {
          "base_uri": "https://localhost:8080/"
        },
        "id": "KF1l8Zy90fpK",
        "outputId": "5539649a-84b5-4e15-aafa-f949fae568c4"
      },
      "execution_count": null,
      "outputs": [
        {
          "output_type": "stream",
          "name": "stdout",
          "text": [
            "기울기 : 1.00, 절편 : 1.06\n"
          ]
        }
      ]
    },
    {
      "cell_type": "code",
      "source": [
        "plt.figure(figsize=(5,5))\n",
        "plt.scatter(X,Y)\n",
        "plt.plot(X,linear.predict(X.reshape(-1,1)),'-b')\n",
        "plt.title('petal-sepal scatter with linear regression') \n",
        "plt.xlabel('petal length (cm)')\n",
        "plt.ylabel('sepal length (cm)')\n",
        "plt.grid()\n",
        "plt.show()"
      ],
      "metadata": {
        "colab": {
          "base_uri": "https://localhost:8080/",
          "height": 350
        },
        "id": "zb4TIDEF0fro",
        "outputId": "3b2e707e-0c82-41fa-f90e-04629e5b38c8"
      },
      "execution_count": null,
      "outputs": [
        {
          "output_type": "display_data",
          "data": {
            "image/png": "[encoded data removed]",
            "text/plain": [
              "<Figure size 360x360 with 1 Axes>"
            ]
          },
          "metadata": {
            "needs_background": "light"
          }
        }
      ]
    },
    {
      "cell_type": "code",
      "source": [
        "#L1 regularization은 Lasso로 import 합니다.\n",
        "from sklearn.linear_model import Lasso\n",
        "\n",
        "L1 = Lasso()\n",
        "L1.fit(X.reshape(-1,1), Y)\n",
        "a, b=L1.coef_, L1.intercept_\n",
        "print(\"기울기 : %0.2f, 절편 : %0.2f\" %(a,b))\n",
        "\n",
        "plt.figure(figsize=(5,5))\n",
        "plt.scatter(X,Y)\n",
        "plt.plot(X,L1.predict(X.reshape(-1,1)),'-b')\n",
        "plt.title('petal-sepal scatter with L1 regularization(Lasso)') \n",
        "plt.xlabel('petal length (cm)')\n",
        "plt.ylabel('sepal length (cm)')\n",
        "plt.grid()\n",
        "plt.show()"
      ],
      "metadata": {
        "colab": {
          "base_uri": "https://localhost:8080/",
          "height": 369
        },
        "id": "OncfZhq40fuK",
        "outputId": "59ecec49-2312-434f-cddc-fdd463ba163f"
      },
      "execution_count": null,
      "outputs": [
        {
          "output_type": "stream",
          "name": "stdout",
          "text": [
            "기울기 : 0.00, 절편 : 6.59\n"
          ]
        },
        {
          "output_type": "display_data",
          "data": {
            "image/png": "[encoded data removed]",
            "text/plain": [
              "<Figure size 360x360 with 1 Axes>"
            ]
          },
          "metadata": {
            "needs_background": "light"
          }
        }
      ]
    },
    {
      "cell_type": "code",
      "source": [
        "#L2 regularization은 Ridge로 import 합니다. \n",
        "from sklearn.linear_model import Ridge\n",
        "\n",
        "L2 = Ridge()\n",
        "L2.fit(X.reshape(-1,1), Y)\n",
        "a, b = L2.coef_, L2.intercept_\n",
        "print(\"기울기 : %0.2f, 절편 : %0.2f\" %(a,b))\n",
        "\n",
        "plt.figure(figsize=(5,5))\n",
        "plt.scatter(X,Y)\n",
        "plt.plot(X,L2.predict(X.reshape(-1,1)),'-b')\n",
        "plt.title('petal-sepal scatter with L2 regularization(Ridge)') \n",
        "plt.xlabel('petal length (cm)')\n",
        "plt.ylabel('sepal length (cm)')\n",
        "plt.grid()\n",
        "plt.show()"
      ],
      "metadata": {
        "colab": {
          "base_uri": "https://localhost:8080/",
          "height": 369
        },
        "id": "E27rsE_O0fwf",
        "outputId": "8ff86833-c8a0-40b6-d746-e410fc34a4cb"
      },
      "execution_count": null,
      "outputs": [
        {
          "output_type": "stream",
          "name": "stdout",
          "text": [
            "기울기 : 0.93, 절편 : 1.41\n"
          ]
        },
        {
          "output_type": "display_data",
          "data": {
            "image/png": "[encoded data removed]",
            "text/plain": [
              "<Figure size 360x360 with 1 Axes>"
            ]
          },
          "metadata": {
            "needs_background": "light"
          }
        }
      ]
    },
    {
      "cell_type": "markdown",
      "source": [
        "#### L1 Regularization (Lasso)\n",
        "\n"
      ],
      "metadata": {
        "id": "mHcn9ZzSN8gU"
      }
    },
    {
      "cell_type": "code",
      "source": [
        "from sklearn.datasets import load_iris\n",
        "import pandas as pd \n",
        "import matplotlib.pyplot as plt\n",
        "\n",
        "iris = load_iris()\n",
        "iris_df = pd.DataFrame(data=iris.data, columns=iris.feature_names)\n",
        "target_df = pd.DataFrame(data=iris.target, columns=['species'])\n",
        "\n",
        "def converter(species):\n",
        "    if species == 0:\n",
        "        return 'setosa'\n",
        "    elif species == 1:\n",
        "        return 'versicolor'\n",
        "    else:\n",
        "        return 'virginica'\n",
        "\n",
        "target_df['species'] = target_df['species'].apply(converter)\n",
        "\n",
        "iris_df = pd.concat([iris_df, target_df], axis=1)\n",
        "iris_df.head()"
      ],
      "metadata": {
        "colab": {
          "base_uri": "https://localhost:8080/",
          "height": 206
        },
        "id": "Kgj8Zz2e0fy-",
        "outputId": "96bf46ad-0680-4b50-b505-7b32db1f026a"
      },
      "execution_count": null,
      "outputs": [
        {
          "output_type": "execute_result",
          "data": {
            "text/html": [
              "\n",
              "  <div id=\"df-77cdaf69-9300-460d-89ab-bd4e0118520a\">\n",
              "    <div class=\"colab-df-container\">\n",
              "      <div>\n",
              "<style scoped>\n",
              "    .dataframe tbody tr th:only-of-type {\n",
              "        vertical-align: middle;\n",
              "    }\n",
              "\n",
              "    .dataframe tbody tr th {\n",
              "        vertical-align: top;\n",
              "    }\n",
              "\n",
              "    .dataframe thead th {\n",
              "        text-align: right;\n",
              "    }\n",
              "</style>\n",
              "<table border=\"1\" class=\"dataframe\">\n",
              "  <thead>\n",
              "    <tr style=\"text-align: right;\">\n",
              "      <th></th>\n",
              "      <th>sepal length (cm)</th>\n",
              "      <th>sepal width (cm)</th>\n",
              "      <th>petal length (cm)</th>\n",
              "      <th>petal width (cm)</th>\n",
              "      <th>species</th>\n",
              "    </tr>\n",
              "  </thead>\n",
              "  <tbody>\n",
              "    <tr>\n",
              "      <th>0</th>\n",
              "      <td>5.1</td>\n",
              "      <td>3.5</td>\n",
              "      <td>1.4</td>\n",
              "      <td>0.2</td>\n",
              "      <td>setosa</td>\n",
              "    </tr>\n",
              "    <tr>\n",
              "      <th>1</th>\n",
              "      <td>4.9</td>\n",
              "      <td>3.0</td>\n",
              "      <td>1.4</td>\n",
              "      <td>0.2</td>\n",
              "      <td>setosa</td>\n",
              "    </tr>\n",
              "    <tr>\n",
              "      <th>2</th>\n",
              "      <td>4.7</td>\n",
              "      <td>3.2</td>\n",
              "      <td>1.3</td>\n",
              "      <td>0.2</td>\n",
              "      <td>setosa</td>\n",
              "    </tr>\n",
              "    <tr>\n",
              "      <th>3</th>\n",
              "      <td>4.6</td>\n",
              "      <td>3.1</td>\n",
              "      <td>1.5</td>\n",
              "      <td>0.2</td>\n",
              "      <td>setosa</td>\n",
              "    </tr>\n",
              "    <tr>\n",
              "      <th>4</th>\n",
              "      <td>5.0</td>\n",
              "      <td>3.6</td>\n",
              "      <td>1.4</td>\n",
              "      <td>0.2</td>\n",
              "      <td>setosa</td>\n",
              "    </tr>\n",
              "  </tbody>\n",
              "</table>\n",
              "</div>\n",
              "      <button class=\"colab-df-convert\" onclick=\"convertToInteractive('df-77cdaf69-9300-460d-89ab-bd4e0118520a')\"\n",
              "              title=\"Convert this dataframe to an interactive table.\"\n",
              "              style=\"display:none;\">\n",
              "        \n",
              "  <svg xmlns=\"http://www.w3.org/2000/svg\" height=\"24px\"viewBox=\"0 0 24 24\"\n",
              "       width=\"24px\">\n",
              "    <path d=\"M0 0h24v24H0V0z\" fill=\"none\"/>\n",
              "    <path d=\"M18.56 5.44l.94 2.06.94-2.06 2.06-.94-2.06-.94-.94-2.06-.94 2.06-2.06.94zm-11 1L8.5 8.5l.94-2.06 2.06-.94-2.06-.94L8.5 2.5l-.94 2.06-2.06.94zm10 10l.94 2.06.94-2.06 2.06-.94-2.06-.94-.94-2.06-.94 2.06-2.06.94z\"/><path d=\"M17.41 7.96l-1.37-1.37c-.4-.4-.92-.59-1.43-.59-.52 0-1.04.2-1.43.59L10.3 9.45l-7.72 7.72c-.78.78-.78 2.05 0 2.83L4 21.41c.39.39.9.59 1.41.59.51 0 1.02-.2 1.41-.59l7.78-7.78 2.81-2.81c.8-.78.8-2.07 0-2.86zM5.41 20L4 18.59l7.72-7.72 1.47 1.35L5.41 20z\"/>\n",
              "  </svg>\n",
              "      </button>\n",
              "      \n",
              "  <style>\n",
              "    .colab-df-container {\n",
              "      display:flex;\n",
              "      flex-wrap:wrap;\n",
              "      gap: 12px;\n",
              "    }\n",
              "\n",
              "    .colab-df-convert {\n",
              "      background-color: #E8F0FE;\n",
              "      border: none;\n",
              "      border-radius: 50%;\n",
              "      cursor: pointer;\n",
              "      display: none;\n",
              "      fill: #1967D2;\n",
              "      height: 32px;\n",
              "      padding: 0 0 0 0;\n",
              "      width: 32px;\n",
              "    }\n",
              "\n",
              "    .colab-df-convert:hover {\n",
              "      background-color: #E2EBFA;\n",
              "      box-shadow: 0px 1px 2px rgba(60, 64, 67, 0.3), 0px 1px 3px 1px rgba(60, 64, 67, 0.15);\n",
              "      fill: #174EA6;\n",
              "    }\n",
              "\n",
              "    [theme=dark] .colab-df-convert {\n",
              "      background-color: #3B4455;\n",
              "      fill: #D2E3FC;\n",
              "    }\n",
              "\n",
              "    [theme=dark] .colab-df-convert:hover {\n",
              "      background-color: #434B5C;\n",
              "      box-shadow: 0px 1px 3px 1px rgba(0, 0, 0, 0.15);\n",
              "      filter: drop-shadow(0px 1px 2px rgba(0, 0, 0, 0.3));\n",
              "      fill: #FFFFFF;\n",
              "    }\n",
              "  </style>\n",
              "\n",
              "      <script>\n",
              "        const buttonEl =\n",
              "          document.querySelector('#df-77cdaf69-9300-460d-89ab-bd4e0118520a button.colab-df-convert');\n",
              "        buttonEl.style.display =\n",
              "          google.colab.kernel.accessAllowed ? 'block' : 'none';\n",
              "\n",
              "        async function convertToInteractive(key) {\n",
              "          const element = document.querySelector('#df-77cdaf69-9300-460d-89ab-bd4e0118520a');\n",
              "          const dataTable =\n",
              "            await google.colab.kernel.invokeFunction('convertToInteractive',\n",
              "                                                     [key], {});\n",
              "          if (!dataTable) return;\n",
              "\n",
              "          const docLinkHtml = 'Like what you see? Visit the ' +\n",
              "            '<a target=\"_blank\" href=https://colab.research.google.com/notebooks/data_table.ipynb>data table notebook</a>'\n",
              "            + ' to learn more about interactive tables.';\n",
              "          element.innerHTML = '';\n",
              "          dataTable['output_type'] = 'display_data';\n",
              "          await google.colab.output.renderOutput(dataTable, element);\n",
              "          const docLink = document.createElement('div');\n",
              "          docLink.innerHTML = docLinkHtml;\n",
              "          element.appendChild(docLink);\n",
              "        }\n",
              "      </script>\n",
              "    </div>\n",
              "  </div>\n",
              "  "
            ],
            "text/plain": [
              "   sepal length (cm)  sepal width (cm)  ...  petal width (cm)  species\n",
              "0                5.1               3.5  ...               0.2   setosa\n",
              "1                4.9               3.0  ...               0.2   setosa\n",
              "2                4.7               3.2  ...               0.2   setosa\n",
              "3                4.6               3.1  ...               0.2   setosa\n",
              "4                5.0               3.6  ...               0.2   setosa\n",
              "\n",
              "[5 rows x 5 columns]"
            ]
          },
          "metadata": {},
          "execution_count": 62
        }
      ]
    },
    {
      "cell_type": "code",
      "source": [
        "X = [iris_df['petal length (cm)'][a] for a in iris_df.index if iris_df['species'][a]=='virginica']\n",
        "Y = [iris_df['sepal length (cm)'][a] for a in iris_df.index if iris_df['species'][a]=='virginica']\n",
        "\n",
        "X = np.array(X)\n",
        "Y = np.array(Y)\n",
        "\n",
        "plt.figure(figsize=(5,5))\n",
        "plt.scatter(X,Y)\n",
        "plt.xlabel('petal length (cm)')\n",
        "plt.ylabel('sepal length (cm)')\n",
        "plt.grid()\n",
        "plt.show()"
      ],
      "metadata": {
        "colab": {
          "base_uri": "https://localhost:8080/",
          "height": 334
        },
        "id": "wcOS7O5A0f1L",
        "outputId": "140ab041-d962-4ca4-ef3b-6f64c5bc108c"
      },
      "execution_count": null,
      "outputs": [
        {
          "output_type": "display_data",
          "data": {
            "image/png": "[encoded data removed]",
            "text/plain": [
              "<Figure size 360x360 with 1 Axes>"
            ]
          },
          "metadata": {
            "needs_background": "light"
          }
        }
      ]
    },
    {
      "cell_type": "code",
      "source": [
        "from sklearn.linear_model import Lasso\n",
        "L1 = Lasso()\n",
        "L1.fit(X.reshape(-1,1),Y)\n",
        "a,b = L1.coef_, L1.intercept_\n",
        "print('기울기 : %0.2f, 절편 : %02.f'%(a,b))\n",
        "\n",
        "plt.figure(figsize=(5,5))\n",
        "plt.scatter(X,Y)\n",
        "plt.plot(X, L1.predict(X.reshape(-1,1)),'-b')\n",
        "plt.xlabel('petal length (cm)')\n",
        "plt.ylabel('sepal length (cm)')\n",
        "plt.grid()\n",
        "plt.show()"
      ],
      "metadata": {
        "colab": {
          "base_uri": "https://localhost:8080/",
          "height": 353
        },
        "id": "XTL5vZrG0f36",
        "outputId": "a26a5755-7e51-482b-882f-b4f84cebc68a"
      },
      "execution_count": null,
      "outputs": [
        {
          "output_type": "stream",
          "name": "stdout",
          "text": [
            "기울기 : 0.00, 절편 : 07\n"
          ]
        },
        {
          "output_type": "display_data",
          "data": {
            "image/png": "[encoded data removed]",
            "text/plain": [
              "<Figure size 360x360 with 1 Axes>"
            ]
          },
          "metadata": {
            "needs_background": "light"
          }
        }
      ]
    },
    {
      "cell_type": "markdown",
      "source": [
        "p = 1 인 경우 b_0 에 대해 미분 하는 과정에서 lambda 가 사라지므로 regularization 효과를 볼 수 없다. \n",
        "= X가 1차원인 선형회귀분석 같은 경우 L1 regularization 은 의미가 없음"
      ],
      "metadata": {
        "id": "FV4ux-Y-PuS5"
      }
    },
    {
      "cell_type": "markdown",
      "source": [
        "2 차원 이상인 데이터로 L1 사용해보기"
      ],
      "metadata": {
        "id": "tdl3grK4QAc8"
      }
    },
    {
      "cell_type": "code",
      "source": [
        "from sklearn.datasets import load_wine\n",
        "\n",
        "wine = load_wine()\n",
        "wine_df = pd.DataFrame(data=wine.data, columns=wine.feature_names)\n",
        "target_df = pd.DataFrame(data=wine.target, columns=['Y'])"
      ],
      "metadata": {
        "id": "-sDYXFckJYkl"
      },
      "execution_count": null,
      "outputs": []
    },
    {
      "cell_type": "code",
      "source": [
        "wine_df.head(5)"
      ],
      "metadata": {
        "colab": {
          "base_uri": "https://localhost:8080/",
          "height": 206
        },
        "id": "Lc0vNH_xJZRe",
        "outputId": "dd497f2c-0157-40bf-d42d-46b6b000c67c"
      },
      "execution_count": null,
      "outputs": [
        {
          "output_type": "execute_result",
          "data": {
            "text/html": [
              "\n",
              "  <div id=\"df-ade01db0-b7a9-4647-b3ec-3c9fd5084375\">\n",
              "    <div class=\"colab-df-container\">\n",
              "      <div>\n",
              "<style scoped>\n",
              "    .dataframe tbody tr th:only-of-type {\n",
              "        vertical-align: middle;\n",
              "    }\n",
              "\n",
              "    .dataframe tbody tr th {\n",
              "        vertical-align: top;\n",
              "    }\n",
              "\n",
              "    .dataframe thead th {\n",
              "        text-align: right;\n",
              "    }\n",
              "</style>\n",
              "<table border=\"1\" class=\"dataframe\">\n",
              "  <thead>\n",
              "    <tr style=\"text-align: right;\">\n",
              "      <th></th>\n",
              "      <th>alcohol</th>\n",
              "      <th>malic_acid</th>\n",
              "      <th>ash</th>\n",
              "      <th>alcalinity_of_ash</th>\n",
              "      <th>magnesium</th>\n",
              "      <th>total_phenols</th>\n",
              "      <th>flavanoids</th>\n",
              "      <th>nonflavanoid_phenols</th>\n",
              "      <th>proanthocyanins</th>\n",
              "      <th>color_intensity</th>\n",
              "      <th>hue</th>\n",
              "      <th>od280/od315_of_diluted_wines</th>\n",
              "      <th>proline</th>\n",
              "    </tr>\n",
              "  </thead>\n",
              "  <tbody>\n",
              "    <tr>\n",
              "      <th>0</th>\n",
              "      <td>14.23</td>\n",
              "      <td>1.71</td>\n",
              "      <td>2.43</td>\n",
              "      <td>15.6</td>\n",
              "      <td>127.0</td>\n",
              "      <td>2.80</td>\n",
              "      <td>3.06</td>\n",
              "      <td>0.28</td>\n",
              "      <td>2.29</td>\n",
              "      <td>5.64</td>\n",
              "      <td>1.04</td>\n",
              "      <td>3.92</td>\n",
              "      <td>1065.0</td>\n",
              "    </tr>\n",
              "    <tr>\n",
              "      <th>1</th>\n",
              "      <td>13.20</td>\n",
              "      <td>1.78</td>\n",
              "      <td>2.14</td>\n",
              "      <td>11.2</td>\n",
              "      <td>100.0</td>\n",
              "      <td>2.65</td>\n",
              "      <td>2.76</td>\n",
              "      <td>0.26</td>\n",
              "      <td>1.28</td>\n",
              "      <td>4.38</td>\n",
              "      <td>1.05</td>\n",
              "      <td>3.40</td>\n",
              "      <td>1050.0</td>\n",
              "    </tr>\n",
              "    <tr>\n",
              "      <th>2</th>\n",
              "      <td>13.16</td>\n",
              "      <td>2.36</td>\n",
              "      <td>2.67</td>\n",
              "      <td>18.6</td>\n",
              "      <td>101.0</td>\n",
              "      <td>2.80</td>\n",
              "      <td>3.24</td>\n",
              "      <td>0.30</td>\n",
              "      <td>2.81</td>\n",
              "      <td>5.68</td>\n",
              "      <td>1.03</td>\n",
              "      <td>3.17</td>\n",
              "      <td>1185.0</td>\n",
              "    </tr>\n",
              "    <tr>\n",
              "      <th>3</th>\n",
              "      <td>14.37</td>\n",
              "      <td>1.95</td>\n",
              "      <td>2.50</td>\n",
              "      <td>16.8</td>\n",
              "      <td>113.0</td>\n",
              "      <td>3.85</td>\n",
              "      <td>3.49</td>\n",
              "      <td>0.24</td>\n",
              "      <td>2.18</td>\n",
              "      <td>7.80</td>\n",
              "      <td>0.86</td>\n",
              "      <td>3.45</td>\n",
              "      <td>1480.0</td>\n",
              "    </tr>\n",
              "    <tr>\n",
              "      <th>4</th>\n",
              "      <td>13.24</td>\n",
              "      <td>2.59</td>\n",
              "      <td>2.87</td>\n",
              "      <td>21.0</td>\n",
              "      <td>118.0</td>\n",
              "      <td>2.80</td>\n",
              "      <td>2.69</td>\n",
              "      <td>0.39</td>\n",
              "      <td>1.82</td>\n",
              "      <td>4.32</td>\n",
              "      <td>1.04</td>\n",
              "      <td>2.93</td>\n",
              "      <td>735.0</td>\n",
              "    </tr>\n",
              "  </tbody>\n",
              "</table>\n",
              "</div>\n",
              "      <button class=\"colab-df-convert\" onclick=\"convertToInteractive('df-ade01db0-b7a9-4647-b3ec-3c9fd5084375')\"\n",
              "              title=\"Convert this dataframe to an interactive table.\"\n",
              "              style=\"display:none;\">\n",
              "        \n",
              "  <svg xmlns=\"http://www.w3.org/2000/svg\" height=\"24px\"viewBox=\"0 0 24 24\"\n",
              "       width=\"24px\">\n",
              "    <path d=\"M0 0h24v24H0V0z\" fill=\"none\"/>\n",
              "    <path d=\"M18.56 5.44l.94 2.06.94-2.06 2.06-.94-2.06-.94-.94-2.06-.94 2.06-2.06.94zm-11 1L8.5 8.5l.94-2.06 2.06-.94-2.06-.94L8.5 2.5l-.94 2.06-2.06.94zm10 10l.94 2.06.94-2.06 2.06-.94-2.06-.94-.94-2.06-.94 2.06-2.06.94z\"/><path d=\"M17.41 7.96l-1.37-1.37c-.4-.4-.92-.59-1.43-.59-.52 0-1.04.2-1.43.59L10.3 9.45l-7.72 7.72c-.78.78-.78 2.05 0 2.83L4 21.41c.39.39.9.59 1.41.59.51 0 1.02-.2 1.41-.59l7.78-7.78 2.81-2.81c.8-.78.8-2.07 0-2.86zM5.41 20L4 18.59l7.72-7.72 1.47 1.35L5.41 20z\"/>\n",
              "  </svg>\n",
              "      </button>\n",
              "      \n",
              "  <style>\n",
              "    .colab-df-container {\n",
              "      display:flex;\n",
              "      flex-wrap:wrap;\n",
              "      gap: 12px;\n",
              "    }\n",
              "\n",
              "    .colab-df-convert {\n",
              "      background-color: #E8F0FE;\n",
              "      border: none;\n",
              "      border-radius: 50%;\n",
              "      cursor: pointer;\n",
              "      display: none;\n",
              "      fill: #1967D2;\n",
              "      height: 32px;\n",
              "      padding: 0 0 0 0;\n",
              "      width: 32px;\n",
              "    }\n",
              "\n",
              "    .colab-df-convert:hover {\n",
              "      background-color: #E2EBFA;\n",
              "      box-shadow: 0px 1px 2px rgba(60, 64, 67, 0.3), 0px 1px 3px 1px rgba(60, 64, 67, 0.15);\n",
              "      fill: #174EA6;\n",
              "    }\n",
              "\n",
              "    [theme=dark] .colab-df-convert {\n",
              "      background-color: #3B4455;\n",
              "      fill: #D2E3FC;\n",
              "    }\n",
              "\n",
              "    [theme=dark] .colab-df-convert:hover {\n",
              "      background-color: #434B5C;\n",
              "      box-shadow: 0px 1px 3px 1px rgba(0, 0, 0, 0.15);\n",
              "      filter: drop-shadow(0px 1px 2px rgba(0, 0, 0, 0.3));\n",
              "      fill: #FFFFFF;\n",
              "    }\n",
              "  </style>\n",
              "\n",
              "      <script>\n",
              "        const buttonEl =\n",
              "          document.querySelector('#df-ade01db0-b7a9-4647-b3ec-3c9fd5084375 button.colab-df-convert');\n",
              "        buttonEl.style.display =\n",
              "          google.colab.kernel.accessAllowed ? 'block' : 'none';\n",
              "\n",
              "        async function convertToInteractive(key) {\n",
              "          const element = document.querySelector('#df-ade01db0-b7a9-4647-b3ec-3c9fd5084375');\n",
              "          const dataTable =\n",
              "            await google.colab.kernel.invokeFunction('convertToInteractive',\n",
              "                                                     [key], {});\n",
              "          if (!dataTable) return;\n",
              "\n",
              "          const docLinkHtml = 'Like what you see? Visit the ' +\n",
              "            '<a target=\"_blank\" href=https://colab.research.google.com/notebooks/data_table.ipynb>data table notebook</a>'\n",
              "            + ' to learn more about interactive tables.';\n",
              "          element.innerHTML = '';\n",
              "          dataTable['output_type'] = 'display_data';\n",
              "          await google.colab.output.renderOutput(dataTable, element);\n",
              "          const docLink = document.createElement('div');\n",
              "          docLink.innerHTML = docLinkHtml;\n",
              "          element.appendChild(docLink);\n",
              "        }\n",
              "      </script>\n",
              "    </div>\n",
              "  </div>\n",
              "  "
            ],
            "text/plain": [
              "   alcohol  malic_acid   ash  ...   hue  od280/od315_of_diluted_wines  proline\n",
              "0    14.23        1.71  2.43  ...  1.04                          3.92   1065.0\n",
              "1    13.20        1.78  2.14  ...  1.05                          3.40   1050.0\n",
              "2    13.16        2.36  2.67  ...  1.03                          3.17   1185.0\n",
              "3    14.37        1.95  2.50  ...  0.86                          3.45   1480.0\n",
              "4    13.24        2.59  2.87  ...  1.04                          2.93    735.0\n",
              "\n",
              "[5 rows x 13 columns]"
            ]
          },
          "metadata": {},
          "execution_count": 66
        }
      ]
    },
    {
      "cell_type": "code",
      "source": [
        "target_df.head(5)"
      ],
      "metadata": {
        "colab": {
          "base_uri": "https://localhost:8080/",
          "height": 206
        },
        "id": "wT3x4-AiJZUG",
        "outputId": "c1544dec-5339-4195-e3cc-6bf00f55dd70"
      },
      "execution_count": null,
      "outputs": [
        {
          "output_type": "execute_result",
          "data": {
            "text/html": [
              "\n",
              "  <div id=\"df-e3f2edf9-8143-43c0-bff3-17fc55226e02\">\n",
              "    <div class=\"colab-df-container\">\n",
              "      <div>\n",
              "<style scoped>\n",
              "    .dataframe tbody tr th:only-of-type {\n",
              "        vertical-align: middle;\n",
              "    }\n",
              "\n",
              "    .dataframe tbody tr th {\n",
              "        vertical-align: top;\n",
              "    }\n",
              "\n",
              "    .dataframe thead th {\n",
              "        text-align: right;\n",
              "    }\n",
              "</style>\n",
              "<table border=\"1\" class=\"dataframe\">\n",
              "  <thead>\n",
              "    <tr style=\"text-align: right;\">\n",
              "      <th></th>\n",
              "      <th>Y</th>\n",
              "    </tr>\n",
              "  </thead>\n",
              "  <tbody>\n",
              "    <tr>\n",
              "      <th>0</th>\n",
              "      <td>0</td>\n",
              "    </tr>\n",
              "    <tr>\n",
              "      <th>1</th>\n",
              "      <td>0</td>\n",
              "    </tr>\n",
              "    <tr>\n",
              "      <th>2</th>\n",
              "      <td>0</td>\n",
              "    </tr>\n",
              "    <tr>\n",
              "      <th>3</th>\n",
              "      <td>0</td>\n",
              "    </tr>\n",
              "    <tr>\n",
              "      <th>4</th>\n",
              "      <td>0</td>\n",
              "    </tr>\n",
              "  </tbody>\n",
              "</table>\n",
              "</div>\n",
              "      <button class=\"colab-df-convert\" onclick=\"convertToInteractive('df-e3f2edf9-8143-43c0-bff3-17fc55226e02')\"\n",
              "              title=\"Convert this dataframe to an interactive table.\"\n",
              "              style=\"display:none;\">\n",
              "        \n",
              "  <svg xmlns=\"http://www.w3.org/2000/svg\" height=\"24px\"viewBox=\"0 0 24 24\"\n",
              "       width=\"24px\">\n",
              "    <path d=\"M0 0h24v24H0V0z\" fill=\"none\"/>\n",
              "    <path d=\"M18.56 5.44l.94 2.06.94-2.06 2.06-.94-2.06-.94-.94-2.06-.94 2.06-2.06.94zm-11 1L8.5 8.5l.94-2.06 2.06-.94-2.06-.94L8.5 2.5l-.94 2.06-2.06.94zm10 10l.94 2.06.94-2.06 2.06-.94-2.06-.94-.94-2.06-.94 2.06-2.06.94z\"/><path d=\"M17.41 7.96l-1.37-1.37c-.4-.4-.92-.59-1.43-.59-.52 0-1.04.2-1.43.59L10.3 9.45l-7.72 7.72c-.78.78-.78 2.05 0 2.83L4 21.41c.39.39.9.59 1.41.59.51 0 1.02-.2 1.41-.59l7.78-7.78 2.81-2.81c.8-.78.8-2.07 0-2.86zM5.41 20L4 18.59l7.72-7.72 1.47 1.35L5.41 20z\"/>\n",
              "  </svg>\n",
              "      </button>\n",
              "      \n",
              "  <style>\n",
              "    .colab-df-container {\n",
              "      display:flex;\n",
              "      flex-wrap:wrap;\n",
              "      gap: 12px;\n",
              "    }\n",
              "\n",
              "    .colab-df-convert {\n",
              "      background-color: #E8F0FE;\n",
              "      border: none;\n",
              "      border-radius: 50%;\n",
              "      cursor: pointer;\n",
              "      display: none;\n",
              "      fill: #1967D2;\n",
              "      height: 32px;\n",
              "      padding: 0 0 0 0;\n",
              "      width: 32px;\n",
              "    }\n",
              "\n",
              "    .colab-df-convert:hover {\n",
              "      background-color: #E2EBFA;\n",
              "      box-shadow: 0px 1px 2px rgba(60, 64, 67, 0.3), 0px 1px 3px 1px rgba(60, 64, 67, 0.15);\n",
              "      fill: #174EA6;\n",
              "    }\n",
              "\n",
              "    [theme=dark] .colab-df-convert {\n",
              "      background-color: #3B4455;\n",
              "      fill: #D2E3FC;\n",
              "    }\n",
              "\n",
              "    [theme=dark] .colab-df-convert:hover {\n",
              "      background-color: #434B5C;\n",
              "      box-shadow: 0px 1px 3px 1px rgba(0, 0, 0, 0.15);\n",
              "      filter: drop-shadow(0px 1px 2px rgba(0, 0, 0, 0.3));\n",
              "      fill: #FFFFFF;\n",
              "    }\n",
              "  </style>\n",
              "\n",
              "      <script>\n",
              "        const buttonEl =\n",
              "          document.querySelector('#df-e3f2edf9-8143-43c0-bff3-17fc55226e02 button.colab-df-convert');\n",
              "        buttonEl.style.display =\n",
              "          google.colab.kernel.accessAllowed ? 'block' : 'none';\n",
              "\n",
              "        async function convertToInteractive(key) {\n",
              "          const element = document.querySelector('#df-e3f2edf9-8143-43c0-bff3-17fc55226e02');\n",
              "          const dataTable =\n",
              "            await google.colab.kernel.invokeFunction('convertToInteractive',\n",
              "                                                     [key], {});\n",
              "          if (!dataTable) return;\n",
              "\n",
              "          const docLinkHtml = 'Like what you see? Visit the ' +\n",
              "            '<a target=\"_blank\" href=https://colab.research.google.com/notebooks/data_table.ipynb>data table notebook</a>'\n",
              "            + ' to learn more about interactive tables.';\n",
              "          element.innerHTML = '';\n",
              "          dataTable['output_type'] = 'display_data';\n",
              "          await google.colab.output.renderOutput(dataTable, element);\n",
              "          const docLink = document.createElement('div');\n",
              "          docLink.innerHTML = docLinkHtml;\n",
              "          element.appendChild(docLink);\n",
              "        }\n",
              "      </script>\n",
              "    </div>\n",
              "  </div>\n",
              "  "
            ],
            "text/plain": [
              "   Y\n",
              "0  0\n",
              "1  0\n",
              "2  0\n",
              "3  0\n",
              "4  0"
            ]
          },
          "metadata": {},
          "execution_count": 67
        }
      ]
    },
    {
      "cell_type": "code",
      "source": [
        "from sklearn.model_selection import train_test_split\n",
        "from sklearn.linear_model import LinearRegression\n",
        "from sklearn.metrics import mean_absolute_error, mean_squared_error\n",
        "\n",
        "X_train, X_test, y_train, y_test = train_test_split(wine_df, target_df, test_size=0.3,random_state=101)\n",
        "\n",
        "model = LinearRegression()\n",
        "model.fit(X_train,y_train)\n",
        "\n",
        "model.predict(X_test)\n",
        "pred = model.predict(X_test)\n",
        "\n",
        "print('result of linear regression')\n",
        "print('Mean Absolute Error : ',mean_absolute_error(y_test,pred))\n",
        "print('Mean Squared Error :',mean_squared_error(y_test,pred))\n",
        "print('Mean Root Squared Error :',np.sqrt(mean_squared_error(y_test,pred)))\n",
        "\n",
        "print('\\n\\n coefficient linear regression')\n",
        "print(model.coef_)"
      ],
      "metadata": {
        "colab": {
          "base_uri": "https://localhost:8080/"
        },
        "id": "tNhZq1MzJZWo",
        "outputId": "f583159b-e7e9-4cd2-b323-238a5e9c73ec"
      },
      "execution_count": null,
      "outputs": [
        {
          "output_type": "stream",
          "name": "stdout",
          "text": [
            "result of linear regression\n",
            "Mean Absolute Error :  0.25128973939722626\n",
            "Mean Squared Error : 0.1062458740952556\n",
            "Mean Root Squared Error : 0.32595379134971814\n",
            "\n",
            "\n",
            " coefficient linear regression\n",
            "[[-8.09017190e-02  4.34817880e-02 -1.18857931e-01  3.65705449e-02\n",
            "  -4.68014203e-04  1.41423581e-01 -4.54107854e-01 -5.13172664e-01\n",
            "   9.69318443e-02  5.34311136e-02 -1.27626604e-01 -2.91381844e-01\n",
            "  -5.72238959e-04]]\n"
          ]
        }
      ]
    },
    {
      "cell_type": "code",
      "source": [
        "from sklearn.linear_model import Lasso\n",
        "from sklearn.metrics import mean_absolute_error, mean_squared_error\n",
        "\n",
        "L1 = Lasso(alpha=0.05)\n",
        "L1.fit(X_train,y_train)\n",
        "\n",
        "pred = L1.predict(X_test)\n",
        "\n",
        "print('result of Lasso')\n",
        "print('Mean Absolute Error : ',mean_absolute_error(y_test,pred))\n",
        "print('Mean Squared Error :',mean_squared_error(y_test,pred))\n",
        "print('Mean Root Squared Error :',np.sqrt(mean_squared_error(y_test,pred)))\n",
        "\n",
        "print('\\n\\n coefficient of Lasso')\n",
        "print(L1.coef_)"
      ],
      "metadata": {
        "colab": {
          "base_uri": "https://localhost:8080/"
        },
        "id": "2wxv__JFJZZj",
        "outputId": "490be6a1-b83e-45c7-ad50-91b8e8ffd32e"
      },
      "execution_count": null,
      "outputs": [
        {
          "output_type": "stream",
          "name": "stdout",
          "text": [
            "result of Lasso\n",
            "Mean Absolute Error :  0.24233731936122138\n",
            "Mean Squared Error : 0.0955956894578189\n",
            "Mean Root Squared Error : 0.3091855259513597\n",
            "\n",
            "\n",
            " coefficient of Lasso\n",
            "[-0.          0.01373795 -0.          0.03065716  0.00154719 -0.\n",
            " -0.34143614 -0.          0.          0.06755943 -0.         -0.14558153\n",
            " -0.00089635]\n"
          ]
        }
      ]
    },
    {
      "cell_type": "markdown",
      "source": [
        "Linear regression 에서는 모든 컬럼의 가중치를 탐색하여 구하는 반면, L1 Regularization 에서는 총 13 개중 7개를 제외한 나머지 값들이 모두 0 임을 확인 할 수 있다. = 차원 축소와 비슷한 개념으로 어떤 칼럼이 결과에 영향을 더 크게 미치는 지를 확실히 확인 할 수 있다."
      ],
      "metadata": {
        "id": "EU03QQHUQK8-"
      }
    },
    {
      "cell_type": "markdown",
      "source": [
        "#### L2 regularization"
      ],
      "metadata": {
        "id": "neirNjAQQlnW"
      }
    },
    {
      "cell_type": "markdown",
      "source": [
        "L2 regularization 은 b^2 을 사용해 원의 형태로 나타난다. \n",
        "0이 되지는 않지만 0 에 수렴한다.\n",
        "제곱이 들어가 있기 때문에 절댓값으로 L1 norm 을 쓰는 Lasso 보다 수렴이 빠르다"
      ],
      "metadata": {
        "id": "Ssqpy1SmQz60"
      }
    },
    {
      "cell_type": "code",
      "source": [
        "from sklearn.datasets import load_wine\n",
        "import pandas as pd\n",
        "import numpy as np\n",
        "from sklearn.model_selection import train_test_split\n",
        "from sklearn.metrics import mean_absolute_error, mean_squared_error\n",
        "\n",
        "wine = load_wine()\n",
        "wine_df = pd.DataFrame(data=wine.data,columns=wine.feature_names)\n",
        "target_df = pd.DataFrame(data=wine.target,columns=['Y'])\n",
        "x_train,x_test,y_train,y_test = train_test_split(wine_df,target_df,test_size=0.3,random_state=101)\n",
        "\n",
        "print('🌸')"
      ],
      "metadata": {
        "id": "b-dJh5zkJZcH",
        "colab": {
          "base_uri": "https://localhost:8080/"
        },
        "outputId": "2fee1410-f07c-49b0-ca70-7c26ab462ac6"
      },
      "execution_count": null,
      "outputs": [
        {
          "output_type": "stream",
          "name": "stdout",
          "text": [
            "🌸\n"
          ]
        }
      ]
    },
    {
      "cell_type": "code",
      "source": [
        "#Lasso first\n",
        "from sklearn.linear_model import Lasso\n",
        "\n",
        "L1 = Lasso(alpha=0.05,max_iter=5)\n",
        "L1.fit(x_train,y_train)\n",
        "pred = L1.predict(x_test)\n",
        "\n",
        "print('result of Lasso')\n",
        "print('Mean Absolute Error:',mean_absolute_error(y_test,pred))\n",
        "print('Mean Squared Error:',mean_squared_error(y_test,pred))\n",
        "print('Mean Root Squared Error',np.sqrt(mean_squared_error(y_test,pred)))\n",
        "\n",
        "print('\\n\\n coefficient of Lasso')\n",
        "print(L1.coef_)"
      ],
      "metadata": {
        "id": "fv3Z6McwJZe_",
        "colab": {
          "base_uri": "https://localhost:8080/"
        },
        "outputId": "c2d89fdb-3b0a-4037-9207-19ea27f4f34c"
      },
      "execution_count": null,
      "outputs": [
        {
          "output_type": "stream",
          "name": "stdout",
          "text": [
            "result of Lasso\n",
            "Mean Absolute Error: 0.24845768841769436\n",
            "Mean Squared Error: 0.10262989110341268\n",
            "Mean Root Squared Error 0.32035900346862844\n",
            "\n",
            "\n",
            " coefficient of Lasso\n",
            "[-0.          0.         -0.          0.03295564  0.00109495  0.\n",
            " -0.4027847   0.          0.          0.06023131 -0.         -0.12001119\n",
            " -0.00078971]\n"
          ]
        },
        {
          "output_type": "stream",
          "name": "stderr",
          "text": [
            "/usr/local/lib/python3.7/dist-packages/sklearn/linear_model/_coordinate_descent.py:648: ConvergenceWarning: Objective did not converge. You might want to increase the number of iterations, check the scale of the features or consider increasing regularisation. Duality gap: 3.924e+00, tolerance: 7.480e-03\n",
            "  coef_, l1_reg, l2_reg, X, y, max_iter, tol, rng, random, positive\n"
          ]
        }
      ]
    },
    {
      "cell_type": "code",
      "source": [
        "# Now L2 regularization\n",
        "from sklearn.linear_model import Ridge\n",
        "\n",
        "L2 = Ridge(alpha=0.05, max_iter=5)\n",
        "L2.fit(x_train,y_train)\n",
        "pred = L2.predict(x_test)\n",
        "\n",
        "print('result of Ridge')\n",
        "print('Mean Absolute Error:',mean_absolute_error(y_test,pred))\n",
        "print('Mean Squared Error:',mean_squared_error(y_test,pred))\n",
        "print('Mean Root Squared Error',np.sqrt(mean_squared_error(y_test,pred)))\n",
        "\n",
        "print('\\n\\n coefficient of Ridge')\n",
        "print(L2.coef_)"
      ],
      "metadata": {
        "id": "Y0KKXWtyJZh5",
        "colab": {
          "base_uri": "https://localhost:8080/"
        },
        "outputId": "e1633061-953e-4a1f-f21d-4f4651cbafea"
      },
      "execution_count": null,
      "outputs": [
        {
          "output_type": "stream",
          "name": "stdout",
          "text": [
            "result of Ridge\n",
            "Mean Absolute Error: 0.2511466959936429\n",
            "Mean Squared Error: 0.10568076460795563\n",
            "Mean Root Squared Error 0.3250857803841251\n",
            "\n",
            "\n",
            " coefficient of Ridge\n",
            "[[-8.12456257e-02  4.35541496e-02 -1.21661565e-01  3.65979773e-02\n",
            "  -3.94014013e-04  1.39168707e-01 -4.50691113e-01 -4.87216747e-01\n",
            "   9.54111059e-02  5.37077039e-02 -1.28602933e-01 -2.89832790e-01\n",
            "  -5.73136185e-04]]\n"
          ]
        }
      ]
    },
    {
      "cell_type": "markdown",
      "source": [
        "SUMMARY : <br>\n",
        "- L1 regularization 은 가중치가적은 벡터에 해당하는 계수를 0 으로 보내면서 **차원축소** 와 비슷한 역할을 한다.\n",
        "- L2 regularization 은 0 이 아닌 0 에 가깝게 보내지만 제곱 텀이 있기 때문에 L1 보다는 수렴 속도가 빠르다\n",
        "- 결론 : 데이터에 따라 적절한 regularization 방법을 활용해야 한다"
      ],
      "metadata": {
        "id": "QDttL7wEZr-q"
      }
    },
    {
      "cell_type": "markdown",
      "source": [
        "EXTRA : LP norm\n",
        "\n",
        "- vector norm \n",
        "  - L1, L2 에서 사용되는 norm\n",
        "  - p 가 infinity 인 경우에 는 가장 큰 숫자를 출력한다\n"
      ],
      "metadata": {
        "id": "mCWXdEvxbJx7"
      }
    },
    {
      "cell_type": "code",
      "source": [
        "x = np.array([1,10,1,1,1])\n",
        "p = 5\n",
        "norm_x = np.linalg.norm(x,ord=p)\n",
        "making_norm = (sum(x**p))**(1/p)\n",
        "print('result of numpy package norm function : %0.5f'%norm_x)\n",
        "print('result of making norm : %0.5f'%making_norm)"
      ],
      "metadata": {
        "colab": {
          "base_uri": "https://localhost:8080/"
        },
        "id": "_fW97qgZbQE6",
        "outputId": "685b7c81-9f53-44a9-f9af-630c697a1519"
      },
      "execution_count": null,
      "outputs": [
        {
          "output_type": "stream",
          "name": "stdout",
          "text": [
            "result of numpy package norm function : 10.00008\n",
            "result of making norm : 10.00008\n"
          ]
        }
      ]
    },
    {
      "cell_type": "code",
      "source": [
        "norm_x = np.linalg.norm(x,ord=np.inf)\n",
        "print('result of infinite norm : %0.5f'%norm_x)"
      ],
      "metadata": {
        "colab": {
          "base_uri": "https://localhost:8080/"
        },
        "id": "8iD_zqbGflOm",
        "outputId": "7ac4cf65-5244-4401-d438-f7d9909d7694"
      },
      "execution_count": null,
      "outputs": [
        {
          "output_type": "stream",
          "name": "stdout",
          "text": [
            "result of infinite norm : 10.00000\n"
          ]
        }
      ]
    },
    {
      "cell_type": "markdown",
      "source": [
        "- matrix norm \n",
        "   - p = 1 : 컬럼의 합이 가장 큰 값이 출력\n",
        "   - p = infinity : 로우의 합이 가장 큰 값이 출력"
      ],
      "metadata": {
        "id": "E1CJm0Mkgc1K"
      }
    },
    {
      "cell_type": "code",
      "source": [
        "A = np.array([[1,2,3],[1,2,3],[4,6,8]])\n",
        "inf_norm_A = np.linalg.norm(A,ord=np.inf)\n",
        "print('result inf norm of A :', inf_norm_A)\n",
        "one_norm_A = np.linalg.norm(A,ord=1)\n",
        "print('result one norm of A :', one_norm_A)"
      ],
      "metadata": {
        "colab": {
          "base_uri": "https://localhost:8080/"
        },
        "id": "UBk7Tg6YflMK",
        "outputId": "ca8c0820-f5af-4f93-d5d0-a47977e00b30"
      },
      "execution_count": null,
      "outputs": [
        {
          "output_type": "stream",
          "name": "stdout",
          "text": [
            "result inf norm of A : 18.0\n",
            "result one norm of A : 14.0\n"
          ]
        }
      ]
    },
    {
      "cell_type": "markdown",
      "source": [
        "#### Drop out\n"
      ],
      "metadata": {
        "id": "TCFpQujLhGqi"
      }
    },
    {
      "cell_type": "markdown",
      "source": [
        "- dropout 이전의 neural network 들은 fully connected architecture 로 모든 뉴런들이 연결되어 있었다.\n",
        "- dropout : 확률적으로 랜덤하게 몇가지의 뉴런만 선택하여 정보를 전달한다.\n",
        "- overfitting 을 막는 regularization layer 중 하나. 확률을 너무 높으면 제대로 전달되지 않아 학습이 잘 되지 않고 , 확률을 너무 낮추면 fully connected layer와 차이가 없다.\n",
        "- overfitting 이 발생하는 경우에 주로 사용한다"
      ],
      "metadata": {
        "id": "vmQCnwebln9i"
      }
    },
    {
      "cell_type": "code",
      "source": [
        "import tensorflow as tf\n",
        "from tensorflow import keras\n",
        "import numpy as np\n",
        "import matplotlib.pyplot as plt\n",
        "from sklearn.model_selection import train_test_split\n",
        "\n",
        "fashion_mnist = keras.datasets.fashion_mnist\n",
        "print('🌸')"
      ],
      "metadata": {
        "colab": {
          "base_uri": "https://localhost:8080/"
        },
        "id": "OYHxd-sUflKK",
        "outputId": "6d8b6e6c-81e6-40f2-eb36-c394cb09fe2c"
      },
      "execution_count": null,
      "outputs": [
        {
          "output_type": "stream",
          "name": "stdout",
          "text": [
            "🌸\n"
          ]
        }
      ]
    },
    {
      "cell_type": "markdown",
      "source": [
        "*Exampl 1 [ not over fitted ]* "
      ],
      "metadata": {
        "id": "LH3U6s9pmKZk"
      }
    },
    {
      "cell_type": "code",
      "source": [
        "(train_images, train_labels), (test_images, test_labels) = fashion_mnist.load_data()\n",
        "class_names = ['T-shirt/top', 'Trouser', 'Pullover', 'Dress', 'Coat',\n",
        "               'Sandal', 'Shirt', 'Sneaker', 'Bag', 'Ankle boot']\n",
        "\n",
        "train_images = train_images / 255.0\n",
        "test_images = test_images / 255.0"
      ],
      "metadata": {
        "id": "BB4x6H4UflGr"
      },
      "execution_count": null,
      "outputs": []
    },
    {
      "cell_type": "code",
      "source": [
        "model = keras.Sequential([\n",
        "                          keras.layers.Flatten(input_shape=(28,28)),\n",
        "                          keras.layers.Dense(128,activation='relu'),\n",
        "                          keras.layers.Dropout(0.9),\n",
        "                          keras.layers.Dense(10,activation='softmax')\n",
        "])\n",
        "\n",
        "model.compile(optimizer='adam',loss='sparse_categorical_crossentropy',metrics=['accuracy'])\n",
        "\n",
        "hitory = model.fit(train_images,train_labels,epochs=5)"
      ],
      "metadata": {
        "id": "RQaURwMkflED",
        "colab": {
          "base_uri": "https://localhost:8080/"
        },
        "outputId": "3021f5dc-973f-4379-cec9-941d339267c7"
      },
      "execution_count": null,
      "outputs": [
        {
          "output_type": "stream",
          "name": "stdout",
          "text": [
            "Epoch 1/5\n",
            "1875/1875 [==============================] - 5s 2ms/step - loss: 1.4206 - accuracy: 0.4459\n",
            "Epoch 2/5\n",
            "1875/1875 [==============================] - 4s 2ms/step - loss: 1.1735 - accuracy: 0.5337\n",
            "Epoch 3/5\n",
            "1875/1875 [==============================] - 4s 2ms/step - loss: 1.1209 - accuracy: 0.5533\n",
            "Epoch 4/5\n",
            "1875/1875 [==============================] - 4s 2ms/step - loss: 1.0941 - accuracy: 0.5609\n",
            "Epoch 5/5\n",
            "1875/1875 [==============================] - 4s 2ms/step - loss: 1.0720 - accuracy: 0.5702\n"
          ]
        }
      ]
    },
    {
      "cell_type": "code",
      "source": [
        "model = keras.Sequential([\n",
        "                          keras.layers.Flatten(input_shape=(28,28)),\n",
        "                          keras.layers.Dense(128,activation='relu'),\n",
        "                          # without dropout\n",
        "                          keras.layers.Dense(10,activation='softmax')\n",
        "])\n",
        "\n",
        "model.compile(optimizer='adam',loss='sparse_categorical_crossentropy',metrics=['accuracy'])\n",
        "\n",
        "hitory = model.fit(train_images,train_labels,epochs=5)"
      ],
      "metadata": {
        "colab": {
          "base_uri": "https://localhost:8080/"
        },
        "id": "riZrVQ19i38i",
        "outputId": "e74d61ef-4714-40ab-da57-75febbdd7354"
      },
      "execution_count": null,
      "outputs": [
        {
          "output_type": "stream",
          "name": "stdout",
          "text": [
            "Epoch 1/5\n",
            "1875/1875 [==============================] - 4s 2ms/step - loss: 0.4978 - accuracy: 0.8246\n",
            "Epoch 2/5\n",
            "1875/1875 [==============================] - 4s 2ms/step - loss: 0.3726 - accuracy: 0.8659\n",
            "Epoch 3/5\n",
            "1875/1875 [==============================] - 4s 2ms/step - loss: 0.3350 - accuracy: 0.8768\n",
            "Epoch 4/5\n",
            "1875/1875 [==============================] - 4s 2ms/step - loss: 0.3114 - accuracy: 0.8862\n",
            "Epoch 5/5\n",
            "1875/1875 [==============================] - 4s 2ms/step - loss: 0.2928 - accuracy: 0.8925\n"
          ]
        }
      ]
    },
    {
      "cell_type": "markdown",
      "source": [
        "> dropout 없이도 학습이 잘 되는 모델에 dropout 을 추가 했을 때 오히려 학습이 잘 안됨을 확인 할 수 있다."
      ],
      "metadata": {
        "id": "1PCk7e9PmXQD"
      }
    },
    {
      "cell_type": "markdown",
      "source": [
        "*Example 2 [ overfitted ]*"
      ],
      "metadata": {
        "id": "xSyvAsUMmdXz"
      }
    },
    {
      "cell_type": "code",
      "source": [
        "x_train,x_valid,y_train,y_valid = train_test_split(train_images,train_labels,test_size=0.01,random_state=101)\n",
        "\n",
        "x_train = x_train/255.0\n",
        "x_valid = x_valid/255.0\n",
        "\n",
        "model = keras.Sequential([\n",
        "                          keras.layers.Flatten(input_shape=(28,28)),\n",
        "                          keras.layers.Dense(256,activation='relu'),\n",
        "                          keras.layers.Dense(10,activation='softmax')\n",
        "])\n",
        "\n",
        "model.compile(optimizer='adam',loss='sparse_categorical_crossentropy',\n",
        "              metrics=['accuracy'])\n",
        "\n",
        "history = model.fit(x_train,y_train,epochs=200,batch_size=512,validation_data=(x_valid,y_valid))"
      ],
      "metadata": {
        "colab": {
          "base_uri": "https://localhost:8080/"
        },
        "id": "paTL_cy0i_8W",
        "outputId": "567d7ff6-5d97-4590-f15b-4d44c0c8aec8"
      },
      "execution_count": null,
      "outputs": [
        {
          "output_type": "stream",
          "name": "stdout",
          "text": [
            "Epoch 1/200\n",
            "117/117 [==============================] - 2s 13ms/step - loss: 2.0650 - accuracy: 0.5408 - val_loss: 1.6691 - val_accuracy: 0.6250\n",
            "Epoch 2/200\n",
            "117/117 [==============================] - 1s 12ms/step - loss: 1.4203 - accuracy: 0.6253 - val_loss: 1.1926 - val_accuracy: 0.6517\n",
            "Epoch 3/200\n",
            "117/117 [==============================] - 1s 13ms/step - loss: 1.0898 - accuracy: 0.6765 - val_loss: 0.9676 - val_accuracy: 0.7217\n",
            "Epoch 4/200\n",
            "117/117 [==============================] - 1s 12ms/step - loss: 0.9089 - accuracy: 0.7170 - val_loss: 0.8327 - val_accuracy: 0.7367\n",
            "Epoch 5/200\n",
            "117/117 [==============================] - 1s 12ms/step - loss: 0.8006 - accuracy: 0.7331 - val_loss: 0.7493 - val_accuracy: 0.7600\n",
            "Epoch 6/200\n",
            "117/117 [==============================] - 1s 12ms/step - loss: 0.7363 - accuracy: 0.7452 - val_loss: 0.6964 - val_accuracy: 0.7817\n",
            "Epoch 7/200\n",
            "117/117 [==============================] - 1s 12ms/step - loss: 0.6923 - accuracy: 0.7543 - val_loss: 0.6620 - val_accuracy: 0.7850\n",
            "Epoch 8/200\n",
            "117/117 [==============================] - 1s 12ms/step - loss: 0.6593 - accuracy: 0.7635 - val_loss: 0.6346 - val_accuracy: 0.7900\n",
            "Epoch 9/200\n",
            "117/117 [==============================] - 1s 12ms/step - loss: 0.6329 - accuracy: 0.7733 - val_loss: 0.6166 - val_accuracy: 0.7900\n",
            "Epoch 10/200\n",
            "117/117 [==============================] - 1s 12ms/step - loss: 0.6111 - accuracy: 0.7804 - val_loss: 0.5923 - val_accuracy: 0.8017\n",
            "Epoch 11/200\n",
            "117/117 [==============================] - 1s 12ms/step - loss: 0.5920 - accuracy: 0.7876 - val_loss: 0.5769 - val_accuracy: 0.7950\n",
            "Epoch 12/200\n",
            "117/117 [==============================] - 1s 12ms/step - loss: 0.5754 - accuracy: 0.7953 - val_loss: 0.5645 - val_accuracy: 0.7867\n",
            "Epoch 13/200\n",
            "117/117 [==============================] - 1s 12ms/step - loss: 0.5605 - accuracy: 0.8015 - val_loss: 0.5485 - val_accuracy: 0.7983\n",
            "Epoch 14/200\n",
            "117/117 [==============================] - 1s 12ms/step - loss: 0.5473 - accuracy: 0.8065 - val_loss: 0.5374 - val_accuracy: 0.8017\n",
            "Epoch 15/200\n",
            "117/117 [==============================] - 1s 12ms/step - loss: 0.5361 - accuracy: 0.8111 - val_loss: 0.5306 - val_accuracy: 0.8017\n",
            "Epoch 16/200\n",
            "117/117 [==============================] - 1s 12ms/step - loss: 0.5255 - accuracy: 0.8153 - val_loss: 0.5201 - val_accuracy: 0.8050\n",
            "Epoch 17/200\n",
            "117/117 [==============================] - 1s 12ms/step - loss: 0.5163 - accuracy: 0.8189 - val_loss: 0.5124 - val_accuracy: 0.8100\n",
            "Epoch 18/200\n",
            "117/117 [==============================] - 1s 12ms/step - loss: 0.5075 - accuracy: 0.8224 - val_loss: 0.5038 - val_accuracy: 0.8133\n",
            "Epoch 19/200\n",
            "117/117 [==============================] - 1s 12ms/step - loss: 0.5011 - accuracy: 0.8243 - val_loss: 0.5000 - val_accuracy: 0.8183\n",
            "Epoch 20/200\n",
            "117/117 [==============================] - 1s 12ms/step - loss: 0.4938 - accuracy: 0.8264 - val_loss: 0.4939 - val_accuracy: 0.8183\n",
            "Epoch 21/200\n",
            "117/117 [==============================] - 1s 12ms/step - loss: 0.4872 - accuracy: 0.8301 - val_loss: 0.4838 - val_accuracy: 0.8217\n",
            "Epoch 22/200\n",
            "117/117 [==============================] - 1s 12ms/step - loss: 0.4810 - accuracy: 0.8316 - val_loss: 0.4857 - val_accuracy: 0.8233\n",
            "Epoch 23/200\n",
            "117/117 [==============================] - 1s 12ms/step - loss: 0.4769 - accuracy: 0.8331 - val_loss: 0.4748 - val_accuracy: 0.8250\n",
            "Epoch 24/200\n",
            "117/117 [==============================] - 1s 12ms/step - loss: 0.4716 - accuracy: 0.8348 - val_loss: 0.4759 - val_accuracy: 0.8283\n",
            "Epoch 25/200\n",
            "117/117 [==============================] - 1s 12ms/step - loss: 0.4667 - accuracy: 0.8365 - val_loss: 0.4659 - val_accuracy: 0.8250\n",
            "Epoch 26/200\n",
            "117/117 [==============================] - 1s 12ms/step - loss: 0.4632 - accuracy: 0.8379 - val_loss: 0.4634 - val_accuracy: 0.8300\n",
            "Epoch 27/200\n",
            "117/117 [==============================] - 1s 12ms/step - loss: 0.4594 - accuracy: 0.8392 - val_loss: 0.4609 - val_accuracy: 0.8283\n",
            "Epoch 28/200\n",
            "117/117 [==============================] - 1s 12ms/step - loss: 0.4554 - accuracy: 0.8403 - val_loss: 0.4596 - val_accuracy: 0.8283\n",
            "Epoch 29/200\n",
            "117/117 [==============================] - 1s 12ms/step - loss: 0.4518 - accuracy: 0.8419 - val_loss: 0.4524 - val_accuracy: 0.8300\n",
            "Epoch 30/200\n",
            "117/117 [==============================] - 1s 12ms/step - loss: 0.4481 - accuracy: 0.8434 - val_loss: 0.4522 - val_accuracy: 0.8250\n",
            "Epoch 31/200\n",
            "117/117 [==============================] - 1s 12ms/step - loss: 0.4450 - accuracy: 0.8447 - val_loss: 0.4476 - val_accuracy: 0.8300\n",
            "Epoch 32/200\n",
            "117/117 [==============================] - 1s 12ms/step - loss: 0.4415 - accuracy: 0.8452 - val_loss: 0.4440 - val_accuracy: 0.8317\n",
            "Epoch 33/200\n",
            "117/117 [==============================] - 1s 12ms/step - loss: 0.4391 - accuracy: 0.8463 - val_loss: 0.4424 - val_accuracy: 0.8317\n",
            "Epoch 34/200\n",
            "117/117 [==============================] - 1s 12ms/step - loss: 0.4383 - accuracy: 0.8462 - val_loss: 0.4391 - val_accuracy: 0.8300\n",
            "Epoch 35/200\n",
            "117/117 [==============================] - 1s 12ms/step - loss: 0.4342 - accuracy: 0.8480 - val_loss: 0.4357 - val_accuracy: 0.8350\n",
            "Epoch 36/200\n",
            "117/117 [==============================] - 1s 12ms/step - loss: 0.4314 - accuracy: 0.8490 - val_loss: 0.4361 - val_accuracy: 0.8333\n",
            "Epoch 37/200\n",
            "117/117 [==============================] - 1s 12ms/step - loss: 0.4294 - accuracy: 0.8493 - val_loss: 0.4327 - val_accuracy: 0.8383\n",
            "Epoch 38/200\n",
            "117/117 [==============================] - 1s 12ms/step - loss: 0.4271 - accuracy: 0.8507 - val_loss: 0.4290 - val_accuracy: 0.8350\n",
            "Epoch 39/200\n",
            "117/117 [==============================] - 1s 12ms/step - loss: 0.4257 - accuracy: 0.8505 - val_loss: 0.4270 - val_accuracy: 0.8333\n",
            "Epoch 40/200\n",
            "117/117 [==============================] - 1s 12ms/step - loss: 0.4231 - accuracy: 0.8514 - val_loss: 0.4239 - val_accuracy: 0.8350\n",
            "Epoch 41/200\n",
            "117/117 [==============================] - 1s 12ms/step - loss: 0.4205 - accuracy: 0.8525 - val_loss: 0.4230 - val_accuracy: 0.8333\n",
            "Epoch 42/200\n",
            "117/117 [==============================] - 1s 12ms/step - loss: 0.4190 - accuracy: 0.8529 - val_loss: 0.4233 - val_accuracy: 0.8400\n",
            "Epoch 43/200\n",
            "117/117 [==============================] - 1s 12ms/step - loss: 0.4162 - accuracy: 0.8539 - val_loss: 0.4212 - val_accuracy: 0.8367\n",
            "Epoch 44/200\n",
            "117/117 [==============================] - 1s 12ms/step - loss: 0.4156 - accuracy: 0.8543 - val_loss: 0.4172 - val_accuracy: 0.8333\n",
            "Epoch 45/200\n",
            "117/117 [==============================] - 1s 12ms/step - loss: 0.4132 - accuracy: 0.8555 - val_loss: 0.4187 - val_accuracy: 0.8350\n",
            "Epoch 46/200\n",
            "117/117 [==============================] - 1s 12ms/step - loss: 0.4111 - accuracy: 0.8559 - val_loss: 0.4121 - val_accuracy: 0.8383\n",
            "Epoch 47/200\n",
            "117/117 [==============================] - 1s 12ms/step - loss: 0.4093 - accuracy: 0.8573 - val_loss: 0.4126 - val_accuracy: 0.8367\n",
            "Epoch 48/200\n",
            "117/117 [==============================] - 1s 12ms/step - loss: 0.4077 - accuracy: 0.8568 - val_loss: 0.4129 - val_accuracy: 0.8383\n",
            "Epoch 49/200\n",
            "117/117 [==============================] - 1s 12ms/step - loss: 0.4053 - accuracy: 0.8583 - val_loss: 0.4114 - val_accuracy: 0.8350\n",
            "Epoch 50/200\n",
            "117/117 [==============================] - 1s 12ms/step - loss: 0.4040 - accuracy: 0.8579 - val_loss: 0.4070 - val_accuracy: 0.8350\n",
            "Epoch 51/200\n",
            "117/117 [==============================] - 1s 12ms/step - loss: 0.4018 - accuracy: 0.8593 - val_loss: 0.4062 - val_accuracy: 0.8400\n",
            "Epoch 52/200\n",
            "117/117 [==============================] - 1s 12ms/step - loss: 0.4006 - accuracy: 0.8595 - val_loss: 0.4088 - val_accuracy: 0.8417\n",
            "Epoch 53/200\n",
            "117/117 [==============================] - 2s 16ms/step - loss: 0.3999 - accuracy: 0.8603 - val_loss: 0.4057 - val_accuracy: 0.8400\n",
            "Epoch 54/200\n",
            "117/117 [==============================] - 1s 12ms/step - loss: 0.3982 - accuracy: 0.8600 - val_loss: 0.4047 - val_accuracy: 0.8383\n",
            "Epoch 55/200\n",
            "117/117 [==============================] - 1s 12ms/step - loss: 0.3959 - accuracy: 0.8607 - val_loss: 0.4016 - val_accuracy: 0.8367\n",
            "Epoch 56/200\n",
            "117/117 [==============================] - 1s 12ms/step - loss: 0.3958 - accuracy: 0.8611 - val_loss: 0.3995 - val_accuracy: 0.8333\n",
            "Epoch 57/200\n",
            "117/117 [==============================] - 1s 12ms/step - loss: 0.3938 - accuracy: 0.8614 - val_loss: 0.4034 - val_accuracy: 0.8367\n",
            "Epoch 58/200\n",
            "117/117 [==============================] - 1s 12ms/step - loss: 0.3916 - accuracy: 0.8624 - val_loss: 0.3974 - val_accuracy: 0.8417\n",
            "Epoch 59/200\n",
            "117/117 [==============================] - 1s 12ms/step - loss: 0.3898 - accuracy: 0.8629 - val_loss: 0.3953 - val_accuracy: 0.8367\n",
            "Epoch 60/200\n",
            "117/117 [==============================] - 1s 12ms/step - loss: 0.3890 - accuracy: 0.8636 - val_loss: 0.3947 - val_accuracy: 0.8400\n",
            "Epoch 61/200\n",
            "117/117 [==============================] - 1s 12ms/step - loss: 0.3878 - accuracy: 0.8640 - val_loss: 0.3925 - val_accuracy: 0.8383\n",
            "Epoch 62/200\n",
            "117/117 [==============================] - 1s 12ms/step - loss: 0.3862 - accuracy: 0.8642 - val_loss: 0.3917 - val_accuracy: 0.8433\n",
            "Epoch 63/200\n",
            "117/117 [==============================] - 1s 12ms/step - loss: 0.3857 - accuracy: 0.8642 - val_loss: 0.3944 - val_accuracy: 0.8417\n",
            "Epoch 64/200\n",
            "117/117 [==============================] - 1s 12ms/step - loss: 0.3850 - accuracy: 0.8644 - val_loss: 0.3887 - val_accuracy: 0.8383\n",
            "Epoch 65/200\n",
            "117/117 [==============================] - 1s 12ms/step - loss: 0.3826 - accuracy: 0.8656 - val_loss: 0.3852 - val_accuracy: 0.8450\n",
            "Epoch 66/200\n",
            "117/117 [==============================] - 1s 12ms/step - loss: 0.3816 - accuracy: 0.8656 - val_loss: 0.3890 - val_accuracy: 0.8433\n",
            "Epoch 67/200\n",
            "117/117 [==============================] - 1s 12ms/step - loss: 0.3808 - accuracy: 0.8655 - val_loss: 0.3880 - val_accuracy: 0.8467\n",
            "Epoch 68/200\n",
            "117/117 [==============================] - 1s 12ms/step - loss: 0.3793 - accuracy: 0.8670 - val_loss: 0.3872 - val_accuracy: 0.8433\n",
            "Epoch 69/200\n",
            "117/117 [==============================] - 1s 12ms/step - loss: 0.3775 - accuracy: 0.8670 - val_loss: 0.3831 - val_accuracy: 0.8433\n",
            "Epoch 70/200\n",
            "117/117 [==============================] - 1s 12ms/step - loss: 0.3763 - accuracy: 0.8672 - val_loss: 0.3859 - val_accuracy: 0.8467\n",
            "Epoch 71/200\n",
            "117/117 [==============================] - 1s 12ms/step - loss: 0.3756 - accuracy: 0.8676 - val_loss: 0.3845 - val_accuracy: 0.8450\n",
            "Epoch 72/200\n",
            "117/117 [==============================] - 1s 12ms/step - loss: 0.3744 - accuracy: 0.8680 - val_loss: 0.3816 - val_accuracy: 0.8450\n",
            "Epoch 73/200\n",
            "117/117 [==============================] - 1s 12ms/step - loss: 0.3740 - accuracy: 0.8683 - val_loss: 0.3894 - val_accuracy: 0.8467\n",
            "Epoch 74/200\n",
            "117/117 [==============================] - 1s 12ms/step - loss: 0.3731 - accuracy: 0.8684 - val_loss: 0.3832 - val_accuracy: 0.8433\n",
            "Epoch 75/200\n",
            "117/117 [==============================] - 1s 12ms/step - loss: 0.3712 - accuracy: 0.8694 - val_loss: 0.3834 - val_accuracy: 0.8467\n",
            "Epoch 76/200\n",
            "117/117 [==============================] - 1s 12ms/step - loss: 0.3708 - accuracy: 0.8692 - val_loss: 0.3834 - val_accuracy: 0.8467\n",
            "Epoch 77/200\n",
            "117/117 [==============================] - 1s 13ms/step - loss: 0.3696 - accuracy: 0.8696 - val_loss: 0.3793 - val_accuracy: 0.8467\n",
            "Epoch 78/200\n",
            "117/117 [==============================] - 1s 12ms/step - loss: 0.3677 - accuracy: 0.8704 - val_loss: 0.3769 - val_accuracy: 0.8433\n",
            "Epoch 79/200\n",
            "117/117 [==============================] - 1s 12ms/step - loss: 0.3676 - accuracy: 0.8698 - val_loss: 0.3783 - val_accuracy: 0.8467\n",
            "Epoch 80/200\n",
            "117/117 [==============================] - 1s 12ms/step - loss: 0.3663 - accuracy: 0.8713 - val_loss: 0.3767 - val_accuracy: 0.8483\n",
            "Epoch 81/200\n",
            "117/117 [==============================] - 1s 12ms/step - loss: 0.3655 - accuracy: 0.8710 - val_loss: 0.3808 - val_accuracy: 0.8500\n",
            "Epoch 82/200\n",
            "117/117 [==============================] - 1s 12ms/step - loss: 0.3650 - accuracy: 0.8720 - val_loss: 0.3729 - val_accuracy: 0.8450\n",
            "Epoch 83/200\n",
            "117/117 [==============================] - 1s 12ms/step - loss: 0.3630 - accuracy: 0.8722 - val_loss: 0.3756 - val_accuracy: 0.8533\n",
            "Epoch 84/200\n",
            "117/117 [==============================] - 1s 12ms/step - loss: 0.3625 - accuracy: 0.8714 - val_loss: 0.3709 - val_accuracy: 0.8500\n",
            "Epoch 85/200\n",
            "117/117 [==============================] - 1s 12ms/step - loss: 0.3618 - accuracy: 0.8722 - val_loss: 0.3753 - val_accuracy: 0.8467\n",
            "Epoch 86/200\n",
            "117/117 [==============================] - 1s 12ms/step - loss: 0.3605 - accuracy: 0.8732 - val_loss: 0.3713 - val_accuracy: 0.8467\n",
            "Epoch 87/200\n",
            "117/117 [==============================] - 1s 12ms/step - loss: 0.3596 - accuracy: 0.8731 - val_loss: 0.3736 - val_accuracy: 0.8467\n",
            "Epoch 88/200\n",
            "117/117 [==============================] - 1s 12ms/step - loss: 0.3592 - accuracy: 0.8739 - val_loss: 0.3695 - val_accuracy: 0.8483\n",
            "Epoch 89/200\n",
            "117/117 [==============================] - 1s 13ms/step - loss: 0.3579 - accuracy: 0.8738 - val_loss: 0.3714 - val_accuracy: 0.8433\n",
            "Epoch 90/200\n",
            "117/117 [==============================] - 1s 12ms/step - loss: 0.3572 - accuracy: 0.8744 - val_loss: 0.3696 - val_accuracy: 0.8650\n",
            "Epoch 91/200\n",
            "117/117 [==============================] - 1s 12ms/step - loss: 0.3571 - accuracy: 0.8744 - val_loss: 0.3689 - val_accuracy: 0.8550\n",
            "Epoch 92/200\n",
            "117/117 [==============================] - 1s 13ms/step - loss: 0.3549 - accuracy: 0.8748 - val_loss: 0.3678 - val_accuracy: 0.8533\n",
            "Epoch 93/200\n",
            "117/117 [==============================] - 1s 13ms/step - loss: 0.3550 - accuracy: 0.8751 - val_loss: 0.3671 - val_accuracy: 0.8567\n",
            "Epoch 94/200\n",
            "117/117 [==============================] - 1s 12ms/step - loss: 0.3541 - accuracy: 0.8752 - val_loss: 0.3662 - val_accuracy: 0.8517\n",
            "Epoch 95/200\n",
            "117/117 [==============================] - 1s 12ms/step - loss: 0.3529 - accuracy: 0.8760 - val_loss: 0.3665 - val_accuracy: 0.8450\n",
            "Epoch 96/200\n",
            "117/117 [==============================] - 1s 12ms/step - loss: 0.3521 - accuracy: 0.8764 - val_loss: 0.3664 - val_accuracy: 0.8517\n",
            "Epoch 97/200\n",
            "117/117 [==============================] - 1s 12ms/step - loss: 0.3507 - accuracy: 0.8760 - val_loss: 0.3653 - val_accuracy: 0.8517\n",
            "Epoch 98/200\n",
            "117/117 [==============================] - 1s 12ms/step - loss: 0.3505 - accuracy: 0.8764 - val_loss: 0.3665 - val_accuracy: 0.8500\n",
            "Epoch 99/200\n",
            "117/117 [==============================] - 1s 12ms/step - loss: 0.3501 - accuracy: 0.8769 - val_loss: 0.3607 - val_accuracy: 0.8583\n",
            "Epoch 100/200\n",
            "117/117 [==============================] - 1s 12ms/step - loss: 0.3487 - accuracy: 0.8772 - val_loss: 0.3610 - val_accuracy: 0.8517\n",
            "Epoch 101/200\n",
            "117/117 [==============================] - 1s 12ms/step - loss: 0.3478 - accuracy: 0.8778 - val_loss: 0.3627 - val_accuracy: 0.8517\n",
            "Epoch 102/200\n",
            "117/117 [==============================] - 1s 12ms/step - loss: 0.3473 - accuracy: 0.8778 - val_loss: 0.3613 - val_accuracy: 0.8517\n",
            "Epoch 103/200\n",
            "117/117 [==============================] - 1s 12ms/step - loss: 0.3458 - accuracy: 0.8782 - val_loss: 0.3608 - val_accuracy: 0.8550\n",
            "Epoch 104/200\n",
            "117/117 [==============================] - 1s 12ms/step - loss: 0.3453 - accuracy: 0.8787 - val_loss: 0.3619 - val_accuracy: 0.8567\n",
            "Epoch 105/200\n",
            "117/117 [==============================] - 1s 12ms/step - loss: 0.3446 - accuracy: 0.8788 - val_loss: 0.3589 - val_accuracy: 0.8550\n",
            "Epoch 106/200\n",
            "117/117 [==============================] - 1s 12ms/step - loss: 0.3443 - accuracy: 0.8789 - val_loss: 0.3591 - val_accuracy: 0.8617\n",
            "Epoch 107/200\n",
            "117/117 [==============================] - 1s 12ms/step - loss: 0.3431 - accuracy: 0.8790 - val_loss: 0.3550 - val_accuracy: 0.8550\n",
            "Epoch 108/200\n",
            "117/117 [==============================] - 1s 12ms/step - loss: 0.3425 - accuracy: 0.8796 - val_loss: 0.3558 - val_accuracy: 0.8600\n",
            "Epoch 109/200\n",
            "117/117 [==============================] - 1s 12ms/step - loss: 0.3424 - accuracy: 0.8790 - val_loss: 0.3568 - val_accuracy: 0.8550\n",
            "Epoch 110/200\n",
            "117/117 [==============================] - 1s 12ms/step - loss: 0.3407 - accuracy: 0.8800 - val_loss: 0.3538 - val_accuracy: 0.8533\n",
            "Epoch 111/200\n",
            "117/117 [==============================] - 1s 12ms/step - loss: 0.3397 - accuracy: 0.8800 - val_loss: 0.3584 - val_accuracy: 0.8583\n",
            "Epoch 112/200\n",
            "117/117 [==============================] - 1s 13ms/step - loss: 0.3392 - accuracy: 0.8800 - val_loss: 0.3545 - val_accuracy: 0.8550\n",
            "Epoch 113/200\n",
            "117/117 [==============================] - 1s 12ms/step - loss: 0.3395 - accuracy: 0.8803 - val_loss: 0.3529 - val_accuracy: 0.8533\n",
            "Epoch 114/200\n",
            "117/117 [==============================] - 1s 12ms/step - loss: 0.3392 - accuracy: 0.8813 - val_loss: 0.3499 - val_accuracy: 0.8600\n",
            "Epoch 115/200\n",
            "117/117 [==============================] - 1s 12ms/step - loss: 0.3373 - accuracy: 0.8811 - val_loss: 0.3519 - val_accuracy: 0.8600\n",
            "Epoch 116/200\n",
            "117/117 [==============================] - 1s 12ms/step - loss: 0.3366 - accuracy: 0.8814 - val_loss: 0.3562 - val_accuracy: 0.8600\n",
            "Epoch 117/200\n",
            "117/117 [==============================] - 1s 12ms/step - loss: 0.3379 - accuracy: 0.8811 - val_loss: 0.3553 - val_accuracy: 0.8567\n",
            "Epoch 118/200\n",
            "117/117 [==============================] - 1s 12ms/step - loss: 0.3363 - accuracy: 0.8809 - val_loss: 0.3474 - val_accuracy: 0.8550\n",
            "Epoch 119/200\n",
            "117/117 [==============================] - 1s 12ms/step - loss: 0.3346 - accuracy: 0.8818 - val_loss: 0.3525 - val_accuracy: 0.8567\n",
            "Epoch 120/200\n",
            "117/117 [==============================] - 1s 12ms/step - loss: 0.3330 - accuracy: 0.8823 - val_loss: 0.3489 - val_accuracy: 0.8550\n",
            "Epoch 121/200\n",
            "117/117 [==============================] - 1s 12ms/step - loss: 0.3331 - accuracy: 0.8825 - val_loss: 0.3517 - val_accuracy: 0.8583\n",
            "Epoch 122/200\n",
            "117/117 [==============================] - 1s 12ms/step - loss: 0.3319 - accuracy: 0.8829 - val_loss: 0.3536 - val_accuracy: 0.8567\n",
            "Epoch 123/200\n",
            "117/117 [==============================] - 1s 13ms/step - loss: 0.3311 - accuracy: 0.8835 - val_loss: 0.3513 - val_accuracy: 0.8550\n",
            "Epoch 124/200\n",
            "117/117 [==============================] - 1s 12ms/step - loss: 0.3318 - accuracy: 0.8829 - val_loss: 0.3505 - val_accuracy: 0.8583\n",
            "Epoch 125/200\n",
            "117/117 [==============================] - 1s 12ms/step - loss: 0.3311 - accuracy: 0.8826 - val_loss: 0.3476 - val_accuracy: 0.8583\n",
            "Epoch 126/200\n",
            "117/117 [==============================] - 1s 12ms/step - loss: 0.3289 - accuracy: 0.8844 - val_loss: 0.3469 - val_accuracy: 0.8583\n",
            "Epoch 127/200\n",
            "117/117 [==============================] - 1s 12ms/step - loss: 0.3287 - accuracy: 0.8843 - val_loss: 0.3466 - val_accuracy: 0.8550\n",
            "Epoch 128/200\n",
            "117/117 [==============================] - 1s 12ms/step - loss: 0.3276 - accuracy: 0.8843 - val_loss: 0.3514 - val_accuracy: 0.8533\n",
            "Epoch 129/200\n",
            "117/117 [==============================] - 1s 12ms/step - loss: 0.3282 - accuracy: 0.8845 - val_loss: 0.3460 - val_accuracy: 0.8600\n",
            "Epoch 130/200\n",
            "117/117 [==============================] - 1s 13ms/step - loss: 0.3268 - accuracy: 0.8838 - val_loss: 0.3479 - val_accuracy: 0.8550\n",
            "Epoch 131/200\n",
            "117/117 [==============================] - 1s 12ms/step - loss: 0.3271 - accuracy: 0.8848 - val_loss: 0.3445 - val_accuracy: 0.8550\n",
            "Epoch 132/200\n",
            "117/117 [==============================] - 1s 12ms/step - loss: 0.3263 - accuracy: 0.8846 - val_loss: 0.3492 - val_accuracy: 0.8567\n",
            "Epoch 133/200\n",
            "117/117 [==============================] - 1s 13ms/step - loss: 0.3244 - accuracy: 0.8853 - val_loss: 0.3458 - val_accuracy: 0.8517\n",
            "Epoch 134/200\n",
            "117/117 [==============================] - 1s 13ms/step - loss: 0.3242 - accuracy: 0.8852 - val_loss: 0.3466 - val_accuracy: 0.8550\n",
            "Epoch 135/200\n",
            "117/117 [==============================] - 1s 13ms/step - loss: 0.3244 - accuracy: 0.8850 - val_loss: 0.3496 - val_accuracy: 0.8567\n",
            "Epoch 136/200\n",
            "117/117 [==============================] - 1s 12ms/step - loss: 0.3241 - accuracy: 0.8859 - val_loss: 0.3448 - val_accuracy: 0.8567\n",
            "Epoch 137/200\n",
            "117/117 [==============================] - 1s 13ms/step - loss: 0.3223 - accuracy: 0.8856 - val_loss: 0.3421 - val_accuracy: 0.8600\n",
            "Epoch 138/200\n",
            "117/117 [==============================] - 1s 13ms/step - loss: 0.3223 - accuracy: 0.8861 - val_loss: 0.3415 - val_accuracy: 0.8633\n",
            "Epoch 139/200\n",
            "117/117 [==============================] - 1s 13ms/step - loss: 0.3210 - accuracy: 0.8863 - val_loss: 0.3414 - val_accuracy: 0.8583\n",
            "Epoch 140/200\n",
            "117/117 [==============================] - 1s 13ms/step - loss: 0.3207 - accuracy: 0.8864 - val_loss: 0.3458 - val_accuracy: 0.8600\n",
            "Epoch 141/200\n",
            "117/117 [==============================] - 1s 13ms/step - loss: 0.3204 - accuracy: 0.8868 - val_loss: 0.3465 - val_accuracy: 0.8550\n",
            "Epoch 142/200\n",
            "117/117 [==============================] - 1s 13ms/step - loss: 0.3193 - accuracy: 0.8877 - val_loss: 0.3403 - val_accuracy: 0.8583\n",
            "Epoch 143/200\n",
            "117/117 [==============================] - 1s 13ms/step - loss: 0.3195 - accuracy: 0.8860 - val_loss: 0.3434 - val_accuracy: 0.8583\n",
            "Epoch 144/200\n",
            "117/117 [==============================] - 2s 13ms/step - loss: 0.3179 - accuracy: 0.8873 - val_loss: 0.3438 - val_accuracy: 0.8550\n",
            "Epoch 145/200\n",
            "117/117 [==============================] - 2s 13ms/step - loss: 0.3176 - accuracy: 0.8877 - val_loss: 0.3437 - val_accuracy: 0.8600\n",
            "Epoch 146/200\n",
            "117/117 [==============================] - 2s 13ms/step - loss: 0.3168 - accuracy: 0.8879 - val_loss: 0.3450 - val_accuracy: 0.8583\n",
            "Epoch 147/200\n",
            "117/117 [==============================] - 1s 13ms/step - loss: 0.3169 - accuracy: 0.8880 - val_loss: 0.3448 - val_accuracy: 0.8600\n",
            "Epoch 148/200\n",
            "117/117 [==============================] - 2s 13ms/step - loss: 0.3165 - accuracy: 0.8880 - val_loss: 0.3398 - val_accuracy: 0.8583\n",
            "Epoch 149/200\n",
            "117/117 [==============================] - 1s 12ms/step - loss: 0.3152 - accuracy: 0.8873 - val_loss: 0.3443 - val_accuracy: 0.8600\n",
            "Epoch 150/200\n",
            "117/117 [==============================] - 2s 13ms/step - loss: 0.3147 - accuracy: 0.8885 - val_loss: 0.3481 - val_accuracy: 0.8583\n",
            "Epoch 151/200\n",
            "117/117 [==============================] - 1s 13ms/step - loss: 0.3150 - accuracy: 0.8883 - val_loss: 0.3440 - val_accuracy: 0.8650\n",
            "Epoch 152/200\n",
            "117/117 [==============================] - 1s 13ms/step - loss: 0.3147 - accuracy: 0.8880 - val_loss: 0.3418 - val_accuracy: 0.8583\n",
            "Epoch 153/200\n",
            "117/117 [==============================] - 1s 12ms/step - loss: 0.3132 - accuracy: 0.8889 - val_loss: 0.3356 - val_accuracy: 0.8617\n",
            "Epoch 154/200\n",
            "117/117 [==============================] - 1s 12ms/step - loss: 0.3119 - accuracy: 0.8896 - val_loss: 0.3407 - val_accuracy: 0.8633\n",
            "Epoch 155/200\n",
            "117/117 [==============================] - 1s 13ms/step - loss: 0.3115 - accuracy: 0.8898 - val_loss: 0.3379 - val_accuracy: 0.8617\n",
            "Epoch 156/200\n",
            "117/117 [==============================] - 1s 12ms/step - loss: 0.3105 - accuracy: 0.8897 - val_loss: 0.3408 - val_accuracy: 0.8633\n",
            "Epoch 157/200\n",
            "117/117 [==============================] - 1s 12ms/step - loss: 0.3105 - accuracy: 0.8902 - val_loss: 0.3417 - val_accuracy: 0.8600\n",
            "Epoch 158/200\n",
            "117/117 [==============================] - 1s 13ms/step - loss: 0.3095 - accuracy: 0.8906 - val_loss: 0.3399 - val_accuracy: 0.8583\n",
            "Epoch 159/200\n",
            "117/117 [==============================] - 1s 13ms/step - loss: 0.3093 - accuracy: 0.8906 - val_loss: 0.3357 - val_accuracy: 0.8550\n",
            "Epoch 160/200\n",
            "117/117 [==============================] - 1s 12ms/step - loss: 0.3097 - accuracy: 0.8901 - val_loss: 0.3402 - val_accuracy: 0.8567\n",
            "Epoch 161/200\n",
            "117/117 [==============================] - 1s 12ms/step - loss: 0.3087 - accuracy: 0.8900 - val_loss: 0.3372 - val_accuracy: 0.8583\n",
            "Epoch 162/200\n",
            "117/117 [==============================] - 1s 12ms/step - loss: 0.3076 - accuracy: 0.8909 - val_loss: 0.3359 - val_accuracy: 0.8700\n",
            "Epoch 163/200\n",
            "117/117 [==============================] - 1s 13ms/step - loss: 0.3073 - accuracy: 0.8915 - val_loss: 0.3361 - val_accuracy: 0.8567\n",
            "Epoch 164/200\n",
            "117/117 [==============================] - 1s 13ms/step - loss: 0.3063 - accuracy: 0.8910 - val_loss: 0.3361 - val_accuracy: 0.8567\n",
            "Epoch 165/200\n",
            "117/117 [==============================] - 1s 13ms/step - loss: 0.3057 - accuracy: 0.8916 - val_loss: 0.3418 - val_accuracy: 0.8617\n",
            "Epoch 166/200\n",
            "117/117 [==============================] - 1s 13ms/step - loss: 0.3050 - accuracy: 0.8915 - val_loss: 0.3379 - val_accuracy: 0.8683\n",
            "Epoch 167/200\n",
            "117/117 [==============================] - 1s 13ms/step - loss: 0.3051 - accuracy: 0.8919 - val_loss: 0.3356 - val_accuracy: 0.8650\n",
            "Epoch 168/200\n",
            "117/117 [==============================] - 1s 13ms/step - loss: 0.3046 - accuracy: 0.8925 - val_loss: 0.3404 - val_accuracy: 0.8617\n",
            "Epoch 169/200\n",
            "117/117 [==============================] - 1s 13ms/step - loss: 0.3055 - accuracy: 0.8916 - val_loss: 0.3356 - val_accuracy: 0.8683\n",
            "Epoch 170/200\n",
            "117/117 [==============================] - 1s 13ms/step - loss: 0.3044 - accuracy: 0.8917 - val_loss: 0.3366 - val_accuracy: 0.8683\n",
            "Epoch 171/200\n",
            "117/117 [==============================] - 1s 13ms/step - loss: 0.3025 - accuracy: 0.8927 - val_loss: 0.3331 - val_accuracy: 0.8667\n",
            "Epoch 172/200\n",
            "117/117 [==============================] - 1s 13ms/step - loss: 0.3023 - accuracy: 0.8928 - val_loss: 0.3370 - val_accuracy: 0.8600\n",
            "Epoch 173/200\n",
            "117/117 [==============================] - 1s 13ms/step - loss: 0.3022 - accuracy: 0.8930 - val_loss: 0.3314 - val_accuracy: 0.8617\n",
            "Epoch 174/200\n",
            "117/117 [==============================] - 1s 13ms/step - loss: 0.3016 - accuracy: 0.8926 - val_loss: 0.3355 - val_accuracy: 0.8650\n",
            "Epoch 175/200\n",
            "117/117 [==============================] - 2s 13ms/step - loss: 0.3009 - accuracy: 0.8928 - val_loss: 0.3318 - val_accuracy: 0.8650\n",
            "Epoch 176/200\n",
            "117/117 [==============================] - 2s 13ms/step - loss: 0.3013 - accuracy: 0.8934 - val_loss: 0.3369 - val_accuracy: 0.8633\n",
            "Epoch 177/200\n",
            "117/117 [==============================] - 2s 13ms/step - loss: 0.3003 - accuracy: 0.8932 - val_loss: 0.3351 - val_accuracy: 0.8667\n",
            "Epoch 178/200\n",
            "117/117 [==============================] - 1s 13ms/step - loss: 0.2985 - accuracy: 0.8947 - val_loss: 0.3339 - val_accuracy: 0.8700\n",
            "Epoch 179/200\n",
            "117/117 [==============================] - 2s 13ms/step - loss: 0.2983 - accuracy: 0.8936 - val_loss: 0.3285 - val_accuracy: 0.8667\n",
            "Epoch 180/200\n",
            "117/117 [==============================] - 1s 12ms/step - loss: 0.2975 - accuracy: 0.8941 - val_loss: 0.3291 - val_accuracy: 0.8717\n",
            "Epoch 181/200\n",
            "117/117 [==============================] - 1s 12ms/step - loss: 0.2972 - accuracy: 0.8940 - val_loss: 0.3338 - val_accuracy: 0.8650\n",
            "Epoch 182/200\n",
            "117/117 [==============================] - 1s 13ms/step - loss: 0.2978 - accuracy: 0.8939 - val_loss: 0.3373 - val_accuracy: 0.8600\n",
            "Epoch 183/200\n",
            "117/117 [==============================] - 2s 13ms/step - loss: 0.2973 - accuracy: 0.8938 - val_loss: 0.3299 - val_accuracy: 0.8683\n",
            "Epoch 184/200\n",
            "117/117 [==============================] - 1s 13ms/step - loss: 0.2958 - accuracy: 0.8946 - val_loss: 0.3314 - val_accuracy: 0.8700\n",
            "Epoch 185/200\n",
            "117/117 [==============================] - 1s 13ms/step - loss: 0.2956 - accuracy: 0.8950 - val_loss: 0.3347 - val_accuracy: 0.8650\n",
            "Epoch 186/200\n",
            "117/117 [==============================] - 2s 13ms/step - loss: 0.2954 - accuracy: 0.8941 - val_loss: 0.3310 - val_accuracy: 0.8600\n",
            "Epoch 187/200\n",
            "117/117 [==============================] - 1s 13ms/step - loss: 0.2944 - accuracy: 0.8960 - val_loss: 0.3279 - val_accuracy: 0.8683\n",
            "Epoch 188/200\n",
            "117/117 [==============================] - 1s 13ms/step - loss: 0.2942 - accuracy: 0.8955 - val_loss: 0.3393 - val_accuracy: 0.8700\n",
            "Epoch 189/200\n",
            "117/117 [==============================] - 1s 13ms/step - loss: 0.2941 - accuracy: 0.8950 - val_loss: 0.3332 - val_accuracy: 0.8683\n",
            "Epoch 190/200\n",
            "117/117 [==============================] - 1s 13ms/step - loss: 0.2928 - accuracy: 0.8961 - val_loss: 0.3277 - val_accuracy: 0.8667\n",
            "Epoch 191/200\n",
            "117/117 [==============================] - 1s 13ms/step - loss: 0.2924 - accuracy: 0.8958 - val_loss: 0.3304 - val_accuracy: 0.8683\n",
            "Epoch 192/200\n",
            "117/117 [==============================] - 1s 13ms/step - loss: 0.2916 - accuracy: 0.8958 - val_loss: 0.3332 - val_accuracy: 0.8683\n",
            "Epoch 193/200\n",
            "117/117 [==============================] - 1s 13ms/step - loss: 0.2931 - accuracy: 0.8957 - val_loss: 0.3299 - val_accuracy: 0.8667\n",
            "Epoch 194/200\n",
            "117/117 [==============================] - 1s 13ms/step - loss: 0.2907 - accuracy: 0.8962 - val_loss: 0.3301 - val_accuracy: 0.8683\n",
            "Epoch 195/200\n",
            "117/117 [==============================] - 1s 13ms/step - loss: 0.2911 - accuracy: 0.8970 - val_loss: 0.3299 - val_accuracy: 0.8650\n",
            "Epoch 196/200\n",
            "117/117 [==============================] - 1s 12ms/step - loss: 0.2902 - accuracy: 0.8966 - val_loss: 0.3284 - val_accuracy: 0.8700\n",
            "Epoch 197/200\n",
            "117/117 [==============================] - 2s 13ms/step - loss: 0.2911 - accuracy: 0.8969 - val_loss: 0.3277 - val_accuracy: 0.8683\n",
            "Epoch 198/200\n",
            "117/117 [==============================] - 1s 13ms/step - loss: 0.2893 - accuracy: 0.8968 - val_loss: 0.3335 - val_accuracy: 0.8733\n",
            "Epoch 199/200\n",
            "117/117 [==============================] - 1s 13ms/step - loss: 0.2894 - accuracy: 0.8965 - val_loss: 0.3240 - val_accuracy: 0.8717\n",
            "Epoch 200/200\n",
            "117/117 [==============================] - 2s 13ms/step - loss: 0.2885 - accuracy: 0.8976 - val_loss: 0.3227 - val_accuracy: 0.8683\n"
          ]
        }
      ]
    },
    {
      "cell_type": "code",
      "source": [
        "y_vloss = history.history['val_loss']\n",
        "y_loss = history.history['loss']\n",
        "x_len = np.arange(len(y_loss))\n",
        "\n",
        "plt.plot(x_len,y_vloss,marker='.',c='red',label='Validation-set Loss')\n",
        "plt.plot(x_len,y_loss,marker='.',c='blue',label='Train-set Loss')\n",
        "plt.legend(loc='upper right')\n",
        "plt.grid()\n",
        "plt.title('Loss graph without dropout layer')\n",
        "plt.ylim(0,1)\n",
        "plt.xlabel('epoch')\n",
        "plt.ylabel('loss')\n",
        "plt.show()"
      ],
      "metadata": {
        "colab": {
          "base_uri": "https://localhost:8080/",
          "height": 295
        },
        "id": "Yrf_k1tbi__N",
        "outputId": "5880c6eb-d500-4cf3-b229-c0ffaeae8bb5"
      },
      "execution_count": null,
      "outputs": [
        {
          "output_type": "display_data",
          "data": {
            "image/png": "[encoded data removed]",
            "text/plain": [
              "<Figure size 432x288 with 1 Axes>"
            ]
          },
          "metadata": {
            "needs_background": "light"
          }
        }
      ]
    },
    {
      "cell_type": "code",
      "source": [
        "y_vacc = history.history['val_accuracy']\n",
        "y_acc = history.history['accuracy']\n",
        "x_len = np.arange(len(y_acc))\n",
        "\n",
        "plt.plot(x_len,y_vacc,marker='.',c='red',label='Validation-set Accuracy')\n",
        "plt.plot(x_len,y_acc,marker='.',c='blue',label='Train-set Acurracy')\n",
        "plt.legend(loc='upper right')\n",
        "plt.grid()\n",
        "plt.title('Accuracy graph without dropout layer')\n",
        "plt.ylim(0,1)\n",
        "plt.xlabel('epoch')\n",
        "plt.ylabel('accuracy')\n",
        "plt.show()"
      ],
      "metadata": {
        "colab": {
          "base_uri": "https://localhost:8080/",
          "height": 295
        },
        "id": "FjCLVXCajABq",
        "outputId": "45983f10-d9ae-4b44-fe7f-f87ef4265dc3"
      },
      "execution_count": null,
      "outputs": [
        {
          "output_type": "display_data",
          "data": {
            "image/png": "[encoded data removed]",
            "text/plain": [
              "<Figure size 432x288 with 1 Axes>"
            ]
          },
          "metadata": {
            "needs_background": "light"
          }
        }
      ]
    },
    {
      "cell_type": "code",
      "source": [
        "model = keras.Sequential([\n",
        "                          keras.layers.Flatten(input_shape=(28,28)),\n",
        "                          keras.layers.Dense(256,activation='relu'),\n",
        "                          keras.layers.Dropout(0.5),\n",
        "                          keras.layers.Dense(10,activation='softmax')\n",
        "])\n",
        "\n",
        "model.compile(optimizer='adam',loss='sparse_categorical_crossentropy',\n",
        "              metrics=['accuracy'])\n",
        "\n",
        "history = model.fit(x_train,y_train,epochs=200,batch_size=512,validation_data=(x_valid,y_valid))\n",
        "# 우리 컴퓨터 괴롭히지마 !!ㅜㅜ"
      ],
      "metadata": {
        "colab": {
          "base_uri": "https://localhost:8080/"
        },
        "id": "VuCoj1WqjAD4",
        "outputId": "384f9c80-eaa8-4df4-987b-b1372cd3cc23"
      },
      "execution_count": null,
      "outputs": [
        {
          "output_type": "stream",
          "name": "stdout",
          "text": [
            "Epoch 1/200\n",
            "117/117 [==============================] - 2s 16ms/step - loss: 2.0580 - accuracy: 0.4798 - val_loss: 1.6504 - val_accuracy: 0.5517\n",
            "Epoch 2/200\n",
            "117/117 [==============================] - 2s 14ms/step - loss: 1.4247 - accuracy: 0.5682 - val_loss: 1.1850 - val_accuracy: 0.6667\n",
            "Epoch 3/200\n",
            "117/117 [==============================] - 2s 14ms/step - loss: 1.1252 - accuracy: 0.6325 - val_loss: 0.9822 - val_accuracy: 0.7100\n",
            "Epoch 4/200\n",
            "117/117 [==============================] - 2s 14ms/step - loss: 0.9656 - accuracy: 0.6758 - val_loss: 0.8532 - val_accuracy: 0.7450\n",
            "Epoch 5/200\n",
            "117/117 [==============================] - 2s 14ms/step - loss: 0.8643 - accuracy: 0.7036 - val_loss: 0.7704 - val_accuracy: 0.7567\n",
            "Epoch 6/200\n",
            "117/117 [==============================] - 2s 14ms/step - loss: 0.7996 - accuracy: 0.7209 - val_loss: 0.7221 - val_accuracy: 0.7633\n",
            "Epoch 7/200\n",
            "117/117 [==============================] - 2s 14ms/step - loss: 0.7530 - accuracy: 0.7315 - val_loss: 0.6816 - val_accuracy: 0.7717\n",
            "Epoch 8/200\n",
            "117/117 [==============================] - 2s 14ms/step - loss: 0.7208 - accuracy: 0.7416 - val_loss: 0.6560 - val_accuracy: 0.7800\n",
            "Epoch 9/200\n",
            "117/117 [==============================] - 2s 14ms/step - loss: 0.6940 - accuracy: 0.7480 - val_loss: 0.6350 - val_accuracy: 0.7850\n",
            "Epoch 10/200\n",
            "117/117 [==============================] - 2s 14ms/step - loss: 0.6728 - accuracy: 0.7566 - val_loss: 0.6162 - val_accuracy: 0.7950\n",
            "Epoch 11/200\n",
            "117/117 [==============================] - 2s 14ms/step - loss: 0.6553 - accuracy: 0.7618 - val_loss: 0.5985 - val_accuracy: 0.7917\n",
            "Epoch 12/200\n",
            "117/117 [==============================] - 2s 14ms/step - loss: 0.6370 - accuracy: 0.7707 - val_loss: 0.5847 - val_accuracy: 0.7917\n",
            "Epoch 13/200\n",
            "117/117 [==============================] - 2s 14ms/step - loss: 0.6242 - accuracy: 0.7743 - val_loss: 0.5727 - val_accuracy: 0.7933\n",
            "Epoch 14/200\n",
            "117/117 [==============================] - 2s 14ms/step - loss: 0.6091 - accuracy: 0.7810 - val_loss: 0.5628 - val_accuracy: 0.7950\n",
            "Epoch 15/200\n",
            "117/117 [==============================] - 2s 14ms/step - loss: 0.5958 - accuracy: 0.7868 - val_loss: 0.5510 - val_accuracy: 0.8017\n",
            "Epoch 16/200\n",
            "117/117 [==============================] - 2s 14ms/step - loss: 0.5883 - accuracy: 0.7905 - val_loss: 0.5414 - val_accuracy: 0.8017\n",
            "Epoch 17/200\n",
            "117/117 [==============================] - 2s 14ms/step - loss: 0.5755 - accuracy: 0.7933 - val_loss: 0.5335 - val_accuracy: 0.8033\n",
            "Epoch 18/200\n",
            "117/117 [==============================] - 2s 14ms/step - loss: 0.5661 - accuracy: 0.7986 - val_loss: 0.5235 - val_accuracy: 0.8100\n",
            "Epoch 19/200\n",
            "117/117 [==============================] - 2s 14ms/step - loss: 0.5569 - accuracy: 0.8015 - val_loss: 0.5182 - val_accuracy: 0.8100\n",
            "Epoch 20/200\n",
            "117/117 [==============================] - 2s 14ms/step - loss: 0.5482 - accuracy: 0.8055 - val_loss: 0.5117 - val_accuracy: 0.8167\n",
            "Epoch 21/200\n",
            "117/117 [==============================] - 2s 14ms/step - loss: 0.5408 - accuracy: 0.8096 - val_loss: 0.5036 - val_accuracy: 0.8183\n",
            "Epoch 22/200\n",
            "117/117 [==============================] - 2s 14ms/step - loss: 0.5344 - accuracy: 0.8107 - val_loss: 0.4984 - val_accuracy: 0.8150\n",
            "Epoch 23/200\n",
            "117/117 [==============================] - 2s 14ms/step - loss: 0.5297 - accuracy: 0.8124 - val_loss: 0.4925 - val_accuracy: 0.8183\n",
            "Epoch 24/200\n",
            "117/117 [==============================] - 2s 14ms/step - loss: 0.5231 - accuracy: 0.8136 - val_loss: 0.4901 - val_accuracy: 0.8183\n",
            "Epoch 25/200\n",
            "117/117 [==============================] - 2s 14ms/step - loss: 0.5161 - accuracy: 0.8173 - val_loss: 0.4823 - val_accuracy: 0.8217\n",
            "Epoch 26/200\n",
            "117/117 [==============================] - 2s 14ms/step - loss: 0.5119 - accuracy: 0.8176 - val_loss: 0.4781 - val_accuracy: 0.8200\n",
            "Epoch 27/200\n",
            "117/117 [==============================] - 2s 14ms/step - loss: 0.5048 - accuracy: 0.8218 - val_loss: 0.4716 - val_accuracy: 0.8200\n",
            "Epoch 28/200\n",
            "117/117 [==============================] - 2s 14ms/step - loss: 0.4995 - accuracy: 0.8237 - val_loss: 0.4679 - val_accuracy: 0.8183\n",
            "Epoch 29/200\n",
            "117/117 [==============================] - 2s 14ms/step - loss: 0.4960 - accuracy: 0.8241 - val_loss: 0.4655 - val_accuracy: 0.8217\n",
            "Epoch 30/200\n",
            "117/117 [==============================] - 2s 14ms/step - loss: 0.4924 - accuracy: 0.8248 - val_loss: 0.4611 - val_accuracy: 0.8217\n",
            "Epoch 31/200\n",
            "117/117 [==============================] - 2s 14ms/step - loss: 0.4888 - accuracy: 0.8271 - val_loss: 0.4572 - val_accuracy: 0.8233\n",
            "Epoch 32/200\n",
            "117/117 [==============================] - 2s 14ms/step - loss: 0.4832 - accuracy: 0.8301 - val_loss: 0.4546 - val_accuracy: 0.8233\n",
            "Epoch 33/200\n",
            "117/117 [==============================] - 2s 14ms/step - loss: 0.4798 - accuracy: 0.8307 - val_loss: 0.4498 - val_accuracy: 0.8217\n",
            "Epoch 34/200\n",
            "117/117 [==============================] - 2s 14ms/step - loss: 0.4775 - accuracy: 0.8319 - val_loss: 0.4451 - val_accuracy: 0.8233\n",
            "Epoch 35/200\n",
            "117/117 [==============================] - 2s 14ms/step - loss: 0.4717 - accuracy: 0.8337 - val_loss: 0.4451 - val_accuracy: 0.8283\n",
            "Epoch 36/200\n",
            "117/117 [==============================] - 2s 14ms/step - loss: 0.4679 - accuracy: 0.8325 - val_loss: 0.4379 - val_accuracy: 0.8267\n",
            "Epoch 37/200\n",
            "117/117 [==============================] - 2s 14ms/step - loss: 0.4660 - accuracy: 0.8354 - val_loss: 0.4368 - val_accuracy: 0.8333\n",
            "Epoch 38/200\n",
            "117/117 [==============================] - 2s 14ms/step - loss: 0.4645 - accuracy: 0.8358 - val_loss: 0.4352 - val_accuracy: 0.8317\n",
            "Epoch 39/200\n",
            "117/117 [==============================] - 2s 14ms/step - loss: 0.4606 - accuracy: 0.8358 - val_loss: 0.4328 - val_accuracy: 0.8317\n",
            "Epoch 40/200\n",
            "117/117 [==============================] - 2s 14ms/step - loss: 0.4551 - accuracy: 0.8389 - val_loss: 0.4296 - val_accuracy: 0.8300\n",
            "Epoch 41/200\n",
            "117/117 [==============================] - 2s 14ms/step - loss: 0.4532 - accuracy: 0.8397 - val_loss: 0.4281 - val_accuracy: 0.8333\n",
            "Epoch 42/200\n",
            "117/117 [==============================] - 2s 14ms/step - loss: 0.4512 - accuracy: 0.8408 - val_loss: 0.4259 - val_accuracy: 0.8350\n",
            "Epoch 43/200\n",
            "117/117 [==============================] - 2s 14ms/step - loss: 0.4505 - accuracy: 0.8407 - val_loss: 0.4216 - val_accuracy: 0.8317\n",
            "Epoch 44/200\n",
            "117/117 [==============================] - 2s 14ms/step - loss: 0.4451 - accuracy: 0.8422 - val_loss: 0.4183 - val_accuracy: 0.8400\n",
            "Epoch 45/200\n",
            "117/117 [==============================] - 2s 14ms/step - loss: 0.4462 - accuracy: 0.8431 - val_loss: 0.4201 - val_accuracy: 0.8333\n",
            "Epoch 46/200\n",
            "117/117 [==============================] - 2s 14ms/step - loss: 0.4435 - accuracy: 0.8437 - val_loss: 0.4161 - val_accuracy: 0.8450\n",
            "Epoch 47/200\n",
            "117/117 [==============================] - 2s 14ms/step - loss: 0.4400 - accuracy: 0.8438 - val_loss: 0.4136 - val_accuracy: 0.8367\n",
            "Epoch 48/200\n",
            "117/117 [==============================] - 2s 14ms/step - loss: 0.4369 - accuracy: 0.8448 - val_loss: 0.4125 - val_accuracy: 0.8383\n",
            "Epoch 49/200\n",
            "117/117 [==============================] - 2s 14ms/step - loss: 0.4356 - accuracy: 0.8454 - val_loss: 0.4120 - val_accuracy: 0.8317\n",
            "Epoch 50/200\n",
            "117/117 [==============================] - 2s 14ms/step - loss: 0.4347 - accuracy: 0.8471 - val_loss: 0.4096 - val_accuracy: 0.8483\n",
            "Epoch 51/200\n",
            "117/117 [==============================] - 2s 14ms/step - loss: 0.4300 - accuracy: 0.8488 - val_loss: 0.4036 - val_accuracy: 0.8433\n",
            "Epoch 52/200\n",
            "117/117 [==============================] - 2s 14ms/step - loss: 0.4296 - accuracy: 0.8472 - val_loss: 0.4051 - val_accuracy: 0.8433\n",
            "Epoch 53/200\n",
            "117/117 [==============================] - 2s 14ms/step - loss: 0.4291 - accuracy: 0.8488 - val_loss: 0.4022 - val_accuracy: 0.8450\n",
            "Epoch 54/200\n",
            "117/117 [==============================] - 2s 14ms/step - loss: 0.4252 - accuracy: 0.8491 - val_loss: 0.4012 - val_accuracy: 0.8450\n",
            "Epoch 55/200\n",
            "117/117 [==============================] - 2s 14ms/step - loss: 0.4248 - accuracy: 0.8493 - val_loss: 0.4016 - val_accuracy: 0.8450\n",
            "Epoch 56/200\n",
            "117/117 [==============================] - 2s 14ms/step - loss: 0.4222 - accuracy: 0.8498 - val_loss: 0.4018 - val_accuracy: 0.8417\n",
            "Epoch 57/200\n",
            "117/117 [==============================] - 2s 14ms/step - loss: 0.4197 - accuracy: 0.8513 - val_loss: 0.3987 - val_accuracy: 0.8417\n",
            "Epoch 58/200\n",
            "117/117 [==============================] - 2s 14ms/step - loss: 0.4181 - accuracy: 0.8514 - val_loss: 0.3996 - val_accuracy: 0.8450\n",
            "Epoch 59/200\n",
            "117/117 [==============================] - 2s 14ms/step - loss: 0.4185 - accuracy: 0.8511 - val_loss: 0.3957 - val_accuracy: 0.8417\n",
            "Epoch 60/200\n",
            "117/117 [==============================] - 2s 14ms/step - loss: 0.4150 - accuracy: 0.8531 - val_loss: 0.3898 - val_accuracy: 0.8517\n",
            "Epoch 61/200\n",
            "117/117 [==============================] - 2s 14ms/step - loss: 0.4147 - accuracy: 0.8538 - val_loss: 0.3897 - val_accuracy: 0.8483\n",
            "Epoch 62/200\n",
            "117/117 [==============================] - 2s 14ms/step - loss: 0.4122 - accuracy: 0.8531 - val_loss: 0.3895 - val_accuracy: 0.8467\n",
            "Epoch 63/200\n",
            "117/117 [==============================] - 2s 14ms/step - loss: 0.4103 - accuracy: 0.8547 - val_loss: 0.3922 - val_accuracy: 0.8433\n",
            "Epoch 64/200\n",
            "117/117 [==============================] - 2s 14ms/step - loss: 0.4095 - accuracy: 0.8558 - val_loss: 0.3884 - val_accuracy: 0.8383\n",
            "Epoch 65/200\n",
            "117/117 [==============================] - 2s 14ms/step - loss: 0.4096 - accuracy: 0.8545 - val_loss: 0.3894 - val_accuracy: 0.8400\n",
            "Epoch 66/200\n",
            "117/117 [==============================] - 2s 14ms/step - loss: 0.4078 - accuracy: 0.8559 - val_loss: 0.3842 - val_accuracy: 0.8417\n",
            "Epoch 67/200\n",
            "117/117 [==============================] - 2s 14ms/step - loss: 0.4060 - accuracy: 0.8558 - val_loss: 0.3840 - val_accuracy: 0.8450\n",
            "Epoch 68/200\n",
            "117/117 [==============================] - 2s 14ms/step - loss: 0.4058 - accuracy: 0.8561 - val_loss: 0.3852 - val_accuracy: 0.8467\n",
            "Epoch 69/200\n",
            "117/117 [==============================] - 2s 14ms/step - loss: 0.4013 - accuracy: 0.8576 - val_loss: 0.3860 - val_accuracy: 0.8467\n",
            "Epoch 70/200\n",
            "117/117 [==============================] - 2s 14ms/step - loss: 0.4025 - accuracy: 0.8576 - val_loss: 0.3825 - val_accuracy: 0.8483\n",
            "Epoch 71/200\n",
            "117/117 [==============================] - 2s 14ms/step - loss: 0.3987 - accuracy: 0.8581 - val_loss: 0.3790 - val_accuracy: 0.8500\n",
            "Epoch 72/200\n",
            "117/117 [==============================] - 2s 14ms/step - loss: 0.3990 - accuracy: 0.8592 - val_loss: 0.3802 - val_accuracy: 0.8450\n",
            "Epoch 73/200\n",
            "117/117 [==============================] - 2s 14ms/step - loss: 0.3978 - accuracy: 0.8591 - val_loss: 0.3793 - val_accuracy: 0.8467\n",
            "Epoch 74/200\n",
            "117/117 [==============================] - 2s 15ms/step - loss: 0.3957 - accuracy: 0.8594 - val_loss: 0.3763 - val_accuracy: 0.8500\n",
            "Epoch 75/200\n",
            "117/117 [==============================] - 2s 14ms/step - loss: 0.3943 - accuracy: 0.8614 - val_loss: 0.3770 - val_accuracy: 0.8417\n",
            "Epoch 76/200\n",
            "117/117 [==============================] - 2s 14ms/step - loss: 0.3946 - accuracy: 0.8592 - val_loss: 0.3749 - val_accuracy: 0.8450\n",
            "Epoch 77/200\n",
            "117/117 [==============================] - 2s 14ms/step - loss: 0.3925 - accuracy: 0.8602 - val_loss: 0.3742 - val_accuracy: 0.8533\n",
            "Epoch 78/200\n",
            "117/117 [==============================] - 2s 14ms/step - loss: 0.3932 - accuracy: 0.8618 - val_loss: 0.3732 - val_accuracy: 0.8483\n",
            "Epoch 79/200\n",
            "117/117 [==============================] - 2s 14ms/step - loss: 0.3901 - accuracy: 0.8624 - val_loss: 0.3722 - val_accuracy: 0.8517\n",
            "Epoch 80/200\n",
            "117/117 [==============================] - 2s 14ms/step - loss: 0.3877 - accuracy: 0.8621 - val_loss: 0.3710 - val_accuracy: 0.8517\n",
            "Epoch 81/200\n",
            "117/117 [==============================] - 2s 14ms/step - loss: 0.3875 - accuracy: 0.8624 - val_loss: 0.3688 - val_accuracy: 0.8483\n",
            "Epoch 82/200\n",
            "117/117 [==============================] - 2s 14ms/step - loss: 0.3888 - accuracy: 0.8641 - val_loss: 0.3662 - val_accuracy: 0.8467\n",
            "Epoch 83/200\n",
            "117/117 [==============================] - 2s 14ms/step - loss: 0.3852 - accuracy: 0.8631 - val_loss: 0.3673 - val_accuracy: 0.8533\n",
            "Epoch 84/200\n",
            "117/117 [==============================] - 2s 14ms/step - loss: 0.3854 - accuracy: 0.8633 - val_loss: 0.3658 - val_accuracy: 0.8517\n",
            "Epoch 85/200\n",
            "117/117 [==============================] - 2s 14ms/step - loss: 0.3833 - accuracy: 0.8642 - val_loss: 0.3657 - val_accuracy: 0.8500\n",
            "Epoch 86/200\n",
            "117/117 [==============================] - 2s 14ms/step - loss: 0.3831 - accuracy: 0.8650 - val_loss: 0.3674 - val_accuracy: 0.8467\n",
            "Epoch 87/200\n",
            "117/117 [==============================] - 2s 14ms/step - loss: 0.3811 - accuracy: 0.8661 - val_loss: 0.3655 - val_accuracy: 0.8500\n",
            "Epoch 88/200\n",
            "117/117 [==============================] - 2s 14ms/step - loss: 0.3803 - accuracy: 0.8656 - val_loss: 0.3645 - val_accuracy: 0.8533\n",
            "Epoch 89/200\n",
            "117/117 [==============================] - 2s 14ms/step - loss: 0.3810 - accuracy: 0.8658 - val_loss: 0.3661 - val_accuracy: 0.8517\n",
            "Epoch 90/200\n",
            "117/117 [==============================] - 2s 14ms/step - loss: 0.3770 - accuracy: 0.8648 - val_loss: 0.3601 - val_accuracy: 0.8533\n",
            "Epoch 91/200\n",
            "117/117 [==============================] - 2s 14ms/step - loss: 0.3782 - accuracy: 0.8665 - val_loss: 0.3596 - val_accuracy: 0.8567\n",
            "Epoch 92/200\n",
            "117/117 [==============================] - 2s 14ms/step - loss: 0.3776 - accuracy: 0.8669 - val_loss: 0.3578 - val_accuracy: 0.8500\n",
            "Epoch 93/200\n",
            "117/117 [==============================] - 2s 14ms/step - loss: 0.3744 - accuracy: 0.8667 - val_loss: 0.3629 - val_accuracy: 0.8533\n",
            "Epoch 94/200\n",
            "117/117 [==============================] - 2s 14ms/step - loss: 0.3734 - accuracy: 0.8684 - val_loss: 0.3585 - val_accuracy: 0.8483\n",
            "Epoch 95/200\n",
            "117/117 [==============================] - 2s 14ms/step - loss: 0.3726 - accuracy: 0.8679 - val_loss: 0.3591 - val_accuracy: 0.8550\n",
            "Epoch 96/200\n",
            "117/117 [==============================] - 2s 14ms/step - loss: 0.3730 - accuracy: 0.8683 - val_loss: 0.3574 - val_accuracy: 0.8533\n",
            "Epoch 97/200\n",
            "117/117 [==============================] - 2s 14ms/step - loss: 0.3709 - accuracy: 0.8682 - val_loss: 0.3592 - val_accuracy: 0.8550\n",
            "Epoch 98/200\n",
            "117/117 [==============================] - 2s 14ms/step - loss: 0.3704 - accuracy: 0.8687 - val_loss: 0.3574 - val_accuracy: 0.8533\n",
            "Epoch 99/200\n",
            "117/117 [==============================] - 2s 14ms/step - loss: 0.3701 - accuracy: 0.8690 - val_loss: 0.3562 - val_accuracy: 0.8583\n",
            "Epoch 100/200\n",
            "117/117 [==============================] - 2s 14ms/step - loss: 0.3685 - accuracy: 0.8712 - val_loss: 0.3554 - val_accuracy: 0.8583\n",
            "Epoch 101/200\n",
            "117/117 [==============================] - 2s 14ms/step - loss: 0.3664 - accuracy: 0.8705 - val_loss: 0.3552 - val_accuracy: 0.8517\n",
            "Epoch 102/200\n",
            "117/117 [==============================] - 2s 14ms/step - loss: 0.3690 - accuracy: 0.8695 - val_loss: 0.3542 - val_accuracy: 0.8567\n",
            "Epoch 103/200\n",
            "117/117 [==============================] - 2s 14ms/step - loss: 0.3666 - accuracy: 0.8685 - val_loss: 0.3555 - val_accuracy: 0.8550\n",
            "Epoch 104/200\n",
            "117/117 [==============================] - 2s 14ms/step - loss: 0.3646 - accuracy: 0.8708 - val_loss: 0.3567 - val_accuracy: 0.8583\n",
            "Epoch 105/200\n",
            "117/117 [==============================] - 2s 14ms/step - loss: 0.3649 - accuracy: 0.8707 - val_loss: 0.3508 - val_accuracy: 0.8533\n",
            "Epoch 106/200\n",
            "117/117 [==============================] - 2s 14ms/step - loss: 0.3634 - accuracy: 0.8708 - val_loss: 0.3505 - val_accuracy: 0.8583\n",
            "Epoch 107/200\n",
            "117/117 [==============================] - 2s 14ms/step - loss: 0.3635 - accuracy: 0.8715 - val_loss: 0.3502 - val_accuracy: 0.8567\n",
            "Epoch 108/200\n",
            "117/117 [==============================] - 2s 14ms/step - loss: 0.3638 - accuracy: 0.8708 - val_loss: 0.3496 - val_accuracy: 0.8600\n",
            "Epoch 109/200\n",
            "117/117 [==============================] - 2s 14ms/step - loss: 0.3626 - accuracy: 0.8719 - val_loss: 0.3489 - val_accuracy: 0.8583\n",
            "Epoch 110/200\n",
            "117/117 [==============================] - 2s 14ms/step - loss: 0.3608 - accuracy: 0.8722 - val_loss: 0.3500 - val_accuracy: 0.8517\n",
            "Epoch 111/200\n",
            "117/117 [==============================] - 2s 14ms/step - loss: 0.3632 - accuracy: 0.8695 - val_loss: 0.3470 - val_accuracy: 0.8550\n",
            "Epoch 112/200\n",
            "117/117 [==============================] - 2s 14ms/step - loss: 0.3596 - accuracy: 0.8731 - val_loss: 0.3484 - val_accuracy: 0.8650\n",
            "Epoch 113/200\n",
            "117/117 [==============================] - 2s 14ms/step - loss: 0.3579 - accuracy: 0.8730 - val_loss: 0.3453 - val_accuracy: 0.8600\n",
            "Epoch 114/200\n",
            "117/117 [==============================] - 2s 14ms/step - loss: 0.3571 - accuracy: 0.8733 - val_loss: 0.3446 - val_accuracy: 0.8567\n",
            "Epoch 115/200\n",
            "117/117 [==============================] - 2s 14ms/step - loss: 0.3581 - accuracy: 0.8728 - val_loss: 0.3419 - val_accuracy: 0.8600\n",
            "Epoch 116/200\n",
            "117/117 [==============================] - 2s 14ms/step - loss: 0.3567 - accuracy: 0.8730 - val_loss: 0.3467 - val_accuracy: 0.8617\n",
            "Epoch 117/200\n",
            "117/117 [==============================] - 2s 14ms/step - loss: 0.3566 - accuracy: 0.8728 - val_loss: 0.3434 - val_accuracy: 0.8600\n",
            "Epoch 118/200\n",
            "117/117 [==============================] - 2s 14ms/step - loss: 0.3569 - accuracy: 0.8736 - val_loss: 0.3421 - val_accuracy: 0.8617\n",
            "Epoch 119/200\n",
            "117/117 [==============================] - 2s 14ms/step - loss: 0.3526 - accuracy: 0.8745 - val_loss: 0.3393 - val_accuracy: 0.8617\n",
            "Epoch 120/200\n",
            "117/117 [==============================] - 2s 14ms/step - loss: 0.3531 - accuracy: 0.8753 - val_loss: 0.3461 - val_accuracy: 0.8617\n",
            "Epoch 121/200\n",
            "117/117 [==============================] - 2s 14ms/step - loss: 0.3539 - accuracy: 0.8736 - val_loss: 0.3404 - val_accuracy: 0.8650\n",
            "Epoch 122/200\n",
            "117/117 [==============================] - 2s 14ms/step - loss: 0.3529 - accuracy: 0.8750 - val_loss: 0.3420 - val_accuracy: 0.8617\n",
            "Epoch 123/200\n",
            "117/117 [==============================] - 2s 14ms/step - loss: 0.3525 - accuracy: 0.8744 - val_loss: 0.3390 - val_accuracy: 0.8683\n",
            "Epoch 124/200\n",
            "117/117 [==============================] - 2s 14ms/step - loss: 0.3505 - accuracy: 0.8762 - val_loss: 0.3413 - val_accuracy: 0.8650\n",
            "Epoch 125/200\n",
            "117/117 [==============================] - 2s 14ms/step - loss: 0.3500 - accuracy: 0.8759 - val_loss: 0.3372 - val_accuracy: 0.8633\n",
            "Epoch 126/200\n",
            "117/117 [==============================] - 2s 14ms/step - loss: 0.3503 - accuracy: 0.8756 - val_loss: 0.3412 - val_accuracy: 0.8650\n",
            "Epoch 127/200\n",
            "117/117 [==============================] - 2s 14ms/step - loss: 0.3493 - accuracy: 0.8764 - val_loss: 0.3425 - val_accuracy: 0.8667\n",
            "Epoch 128/200\n",
            "117/117 [==============================] - 2s 14ms/step - loss: 0.3479 - accuracy: 0.8755 - val_loss: 0.3406 - val_accuracy: 0.8633\n",
            "Epoch 129/200\n",
            "117/117 [==============================] - 2s 14ms/step - loss: 0.3489 - accuracy: 0.8767 - val_loss: 0.3394 - val_accuracy: 0.8633\n",
            "Epoch 130/200\n",
            "117/117 [==============================] - 2s 14ms/step - loss: 0.3465 - accuracy: 0.8766 - val_loss: 0.3376 - val_accuracy: 0.8683\n",
            "Epoch 131/200\n",
            "117/117 [==============================] - 2s 14ms/step - loss: 0.3457 - accuracy: 0.8776 - val_loss: 0.3353 - val_accuracy: 0.8600\n",
            "Epoch 132/200\n",
            "117/117 [==============================] - 2s 14ms/step - loss: 0.3462 - accuracy: 0.8763 - val_loss: 0.3373 - val_accuracy: 0.8650\n",
            "Epoch 133/200\n",
            "117/117 [==============================] - 2s 14ms/step - loss: 0.3441 - accuracy: 0.8781 - val_loss: 0.3398 - val_accuracy: 0.8717\n",
            "Epoch 134/200\n",
            "117/117 [==============================] - 2s 14ms/step - loss: 0.3442 - accuracy: 0.8771 - val_loss: 0.3344 - val_accuracy: 0.8633\n",
            "Epoch 135/200\n",
            "117/117 [==============================] - 2s 14ms/step - loss: 0.3430 - accuracy: 0.8777 - val_loss: 0.3329 - val_accuracy: 0.8683\n",
            "Epoch 136/200\n",
            "117/117 [==============================] - 2s 14ms/step - loss: 0.3440 - accuracy: 0.8766 - val_loss: 0.3328 - val_accuracy: 0.8633\n",
            "Epoch 137/200\n",
            "117/117 [==============================] - 2s 14ms/step - loss: 0.3430 - accuracy: 0.8788 - val_loss: 0.3355 - val_accuracy: 0.8667\n",
            "Epoch 138/200\n",
            "117/117 [==============================] - 2s 14ms/step - loss: 0.3445 - accuracy: 0.8777 - val_loss: 0.3355 - val_accuracy: 0.8683\n",
            "Epoch 139/200\n",
            "117/117 [==============================] - 2s 14ms/step - loss: 0.3403 - accuracy: 0.8793 - val_loss: 0.3338 - val_accuracy: 0.8683\n",
            "Epoch 140/200\n",
            "117/117 [==============================] - 2s 14ms/step - loss: 0.3431 - accuracy: 0.8783 - val_loss: 0.3324 - val_accuracy: 0.8750\n",
            "Epoch 141/200\n",
            "117/117 [==============================] - 2s 14ms/step - loss: 0.3423 - accuracy: 0.8796 - val_loss: 0.3316 - val_accuracy: 0.8667\n",
            "Epoch 142/200\n",
            "117/117 [==============================] - 2s 14ms/step - loss: 0.3389 - accuracy: 0.8790 - val_loss: 0.3293 - val_accuracy: 0.8683\n",
            "Epoch 143/200\n",
            "117/117 [==============================] - 2s 14ms/step - loss: 0.3387 - accuracy: 0.8794 - val_loss: 0.3322 - val_accuracy: 0.8667\n",
            "Epoch 144/200\n",
            "117/117 [==============================] - 2s 14ms/step - loss: 0.3390 - accuracy: 0.8795 - val_loss: 0.3319 - val_accuracy: 0.8717\n",
            "Epoch 145/200\n",
            "117/117 [==============================] - 2s 14ms/step - loss: 0.3377 - accuracy: 0.8814 - val_loss: 0.3307 - val_accuracy: 0.8717\n",
            "Epoch 146/200\n",
            "117/117 [==============================] - 2s 14ms/step - loss: 0.3381 - accuracy: 0.8798 - val_loss: 0.3270 - val_accuracy: 0.8717\n",
            "Epoch 147/200\n",
            "117/117 [==============================] - 2s 14ms/step - loss: 0.3369 - accuracy: 0.8813 - val_loss: 0.3309 - val_accuracy: 0.8683\n",
            "Epoch 148/200\n",
            "117/117 [==============================] - 2s 14ms/step - loss: 0.3379 - accuracy: 0.8801 - val_loss: 0.3305 - val_accuracy: 0.8767\n",
            "Epoch 149/200\n",
            "117/117 [==============================] - 2s 14ms/step - loss: 0.3358 - accuracy: 0.8810 - val_loss: 0.3293 - val_accuracy: 0.8767\n",
            "Epoch 150/200\n",
            "117/117 [==============================] - 2s 14ms/step - loss: 0.3343 - accuracy: 0.8816 - val_loss: 0.3287 - val_accuracy: 0.8700\n",
            "Epoch 151/200\n",
            "117/117 [==============================] - 2s 14ms/step - loss: 0.3348 - accuracy: 0.8811 - val_loss: 0.3293 - val_accuracy: 0.8717\n",
            "Epoch 152/200\n",
            "117/117 [==============================] - 2s 14ms/step - loss: 0.3341 - accuracy: 0.8803 - val_loss: 0.3262 - val_accuracy: 0.8733\n",
            "Epoch 153/200\n",
            "117/117 [==============================] - 2s 15ms/step - loss: 0.3347 - accuracy: 0.8827 - val_loss: 0.3276 - val_accuracy: 0.8700\n",
            "Epoch 154/200\n",
            "117/117 [==============================] - 2s 14ms/step - loss: 0.3310 - accuracy: 0.8806 - val_loss: 0.3299 - val_accuracy: 0.8700\n",
            "Epoch 155/200\n",
            "117/117 [==============================] - 2s 14ms/step - loss: 0.3307 - accuracy: 0.8830 - val_loss: 0.3286 - val_accuracy: 0.8733\n",
            "Epoch 156/200\n",
            "117/117 [==============================] - 2s 14ms/step - loss: 0.3327 - accuracy: 0.8812 - val_loss: 0.3287 - val_accuracy: 0.8733\n",
            "Epoch 157/200\n",
            "117/117 [==============================] - 2s 14ms/step - loss: 0.3331 - accuracy: 0.8816 - val_loss: 0.3285 - val_accuracy: 0.8783\n",
            "Epoch 158/200\n",
            "117/117 [==============================] - 2s 14ms/step - loss: 0.3329 - accuracy: 0.8821 - val_loss: 0.3280 - val_accuracy: 0.8717\n",
            "Epoch 159/200\n",
            "117/117 [==============================] - 2s 14ms/step - loss: 0.3320 - accuracy: 0.8827 - val_loss: 0.3297 - val_accuracy: 0.8700\n",
            "Epoch 160/200\n",
            "117/117 [==============================] - 2s 14ms/step - loss: 0.3306 - accuracy: 0.8823 - val_loss: 0.3249 - val_accuracy: 0.8750\n",
            "Epoch 161/200\n",
            "117/117 [==============================] - 2s 14ms/step - loss: 0.3279 - accuracy: 0.8833 - val_loss: 0.3271 - val_accuracy: 0.8717\n",
            "Epoch 162/200\n",
            "117/117 [==============================] - 2s 15ms/step - loss: 0.3303 - accuracy: 0.8834 - val_loss: 0.3229 - val_accuracy: 0.8733\n",
            "Epoch 163/200\n",
            "117/117 [==============================] - 2s 14ms/step - loss: 0.3283 - accuracy: 0.8838 - val_loss: 0.3278 - val_accuracy: 0.8750\n",
            "Epoch 164/200\n",
            "117/117 [==============================] - 2s 14ms/step - loss: 0.3269 - accuracy: 0.8835 - val_loss: 0.3264 - val_accuracy: 0.8717\n",
            "Epoch 165/200\n",
            "117/117 [==============================] - 2s 14ms/step - loss: 0.3285 - accuracy: 0.8828 - val_loss: 0.3289 - val_accuracy: 0.8700\n",
            "Epoch 166/200\n",
            "117/117 [==============================] - 2s 14ms/step - loss: 0.3270 - accuracy: 0.8840 - val_loss: 0.3235 - val_accuracy: 0.8717\n",
            "Epoch 167/200\n",
            "117/117 [==============================] - 2s 14ms/step - loss: 0.3252 - accuracy: 0.8842 - val_loss: 0.3241 - val_accuracy: 0.8750\n",
            "Epoch 168/200\n",
            "117/117 [==============================] - 2s 14ms/step - loss: 0.3261 - accuracy: 0.8844 - val_loss: 0.3269 - val_accuracy: 0.8767\n",
            "Epoch 169/200\n",
            "117/117 [==============================] - 2s 14ms/step - loss: 0.3244 - accuracy: 0.8839 - val_loss: 0.3228 - val_accuracy: 0.8783\n",
            "Epoch 170/200\n",
            "117/117 [==============================] - 2s 14ms/step - loss: 0.3235 - accuracy: 0.8843 - val_loss: 0.3216 - val_accuracy: 0.8750\n",
            "Epoch 171/200\n",
            "117/117 [==============================] - 2s 14ms/step - loss: 0.3265 - accuracy: 0.8835 - val_loss: 0.3240 - val_accuracy: 0.8750\n",
            "Epoch 172/200\n",
            "117/117 [==============================] - 2s 14ms/step - loss: 0.3260 - accuracy: 0.8846 - val_loss: 0.3218 - val_accuracy: 0.8717\n",
            "Epoch 173/200\n",
            "117/117 [==============================] - 2s 14ms/step - loss: 0.3230 - accuracy: 0.8860 - val_loss: 0.3210 - val_accuracy: 0.8700\n",
            "Epoch 174/200\n",
            "117/117 [==============================] - 2s 15ms/step - loss: 0.3239 - accuracy: 0.8855 - val_loss: 0.3230 - val_accuracy: 0.8750\n",
            "Epoch 175/200\n",
            "117/117 [==============================] - 2s 14ms/step - loss: 0.3232 - accuracy: 0.8843 - val_loss: 0.3210 - val_accuracy: 0.8767\n",
            "Epoch 176/200\n",
            "117/117 [==============================] - 2s 14ms/step - loss: 0.3208 - accuracy: 0.8863 - val_loss: 0.3225 - val_accuracy: 0.8717\n",
            "Epoch 177/200\n",
            "117/117 [==============================] - 2s 15ms/step - loss: 0.3228 - accuracy: 0.8857 - val_loss: 0.3221 - val_accuracy: 0.8733\n",
            "Epoch 178/200\n",
            "117/117 [==============================] - 2s 14ms/step - loss: 0.3220 - accuracy: 0.8861 - val_loss: 0.3234 - val_accuracy: 0.8683\n",
            "Epoch 179/200\n",
            "117/117 [==============================] - 2s 14ms/step - loss: 0.3207 - accuracy: 0.8871 - val_loss: 0.3212 - val_accuracy: 0.8750\n",
            "Epoch 180/200\n",
            "117/117 [==============================] - 2s 15ms/step - loss: 0.3212 - accuracy: 0.8864 - val_loss: 0.3220 - val_accuracy: 0.8717\n",
            "Epoch 181/200\n",
            "117/117 [==============================] - 2s 15ms/step - loss: 0.3202 - accuracy: 0.8857 - val_loss: 0.3227 - val_accuracy: 0.8783\n",
            "Epoch 182/200\n",
            "117/117 [==============================] - 2s 14ms/step - loss: 0.3205 - accuracy: 0.8857 - val_loss: 0.3223 - val_accuracy: 0.8717\n",
            "Epoch 183/200\n",
            "117/117 [==============================] - 2s 15ms/step - loss: 0.3177 - accuracy: 0.8867 - val_loss: 0.3211 - val_accuracy: 0.8717\n",
            "Epoch 184/200\n",
            "117/117 [==============================] - 2s 14ms/step - loss: 0.3197 - accuracy: 0.8856 - val_loss: 0.3202 - val_accuracy: 0.8767\n",
            "Epoch 185/200\n",
            "117/117 [==============================] - 2s 15ms/step - loss: 0.3171 - accuracy: 0.8880 - val_loss: 0.3230 - val_accuracy: 0.8683\n",
            "Epoch 186/200\n",
            "117/117 [==============================] - 2s 14ms/step - loss: 0.3170 - accuracy: 0.8879 - val_loss: 0.3190 - val_accuracy: 0.8750\n",
            "Epoch 187/200\n",
            "117/117 [==============================] - 2s 15ms/step - loss: 0.3181 - accuracy: 0.8871 - val_loss: 0.3211 - val_accuracy: 0.8733\n",
            "Epoch 188/200\n",
            "117/117 [==============================] - 2s 15ms/step - loss: 0.3173 - accuracy: 0.8876 - val_loss: 0.3180 - val_accuracy: 0.8717\n",
            "Epoch 189/200\n",
            "117/117 [==============================] - 2s 15ms/step - loss: 0.3177 - accuracy: 0.8869 - val_loss: 0.3197 - val_accuracy: 0.8717\n",
            "Epoch 190/200\n",
            "117/117 [==============================] - 2s 14ms/step - loss: 0.3154 - accuracy: 0.8874 - val_loss: 0.3165 - val_accuracy: 0.8767\n",
            "Epoch 191/200\n",
            "117/117 [==============================] - 2s 14ms/step - loss: 0.3192 - accuracy: 0.8859 - val_loss: 0.3186 - val_accuracy: 0.8717\n",
            "Epoch 192/200\n",
            "117/117 [==============================] - 2s 15ms/step - loss: 0.3146 - accuracy: 0.8869 - val_loss: 0.3138 - val_accuracy: 0.8767\n",
            "Epoch 193/200\n",
            "117/117 [==============================] - 2s 14ms/step - loss: 0.3158 - accuracy: 0.8873 - val_loss: 0.3181 - val_accuracy: 0.8733\n",
            "Epoch 194/200\n",
            "117/117 [==============================] - 2s 14ms/step - loss: 0.3162 - accuracy: 0.8875 - val_loss: 0.3144 - val_accuracy: 0.8767\n",
            "Epoch 195/200\n",
            "117/117 [==============================] - 2s 15ms/step - loss: 0.3143 - accuracy: 0.8885 - val_loss: 0.3164 - val_accuracy: 0.8717\n",
            "Epoch 196/200\n",
            "117/117 [==============================] - 2s 15ms/step - loss: 0.3140 - accuracy: 0.8887 - val_loss: 0.3154 - val_accuracy: 0.8733\n",
            "Epoch 197/200\n",
            "117/117 [==============================] - 2s 14ms/step - loss: 0.3133 - accuracy: 0.8889 - val_loss: 0.3184 - val_accuracy: 0.8767\n",
            "Epoch 198/200\n",
            "117/117 [==============================] - 2s 15ms/step - loss: 0.3117 - accuracy: 0.8886 - val_loss: 0.3182 - val_accuracy: 0.8750\n",
            "Epoch 199/200\n",
            "117/117 [==============================] - 2s 15ms/step - loss: 0.3131 - accuracy: 0.8880 - val_loss: 0.3140 - val_accuracy: 0.8683\n",
            "Epoch 200/200\n",
            "117/117 [==============================] - 2s 15ms/step - loss: 0.3114 - accuracy: 0.8892 - val_loss: 0.3138 - val_accuracy: 0.8783\n"
          ]
        }
      ]
    },
    {
      "cell_type": "code",
      "source": [
        "y_vloss = history.history['val_loss']\n",
        "y_loss = history.history['loss']\n",
        "x_len = np.arange(len(y_loss))\n",
        "\n",
        "plt.plot(x_len,y_vloss,marker='.',c='red',label='Validation-set Loss')\n",
        "plt.plot(x_len,y_loss,marker='.',c='blue',label='Train-set Loss')\n",
        "plt.legend(loc='upper right')\n",
        "plt.grid()\n",
        "plt.title('Loss graph without dropout layer')\n",
        "plt.ylim(0,1)\n",
        "plt.xlabel('epoch')\n",
        "plt.ylabel('loss')\n",
        "plt.show()"
      ],
      "metadata": {
        "colab": {
          "base_uri": "https://localhost:8080/",
          "height": 295
        },
        "id": "jwL7Znc-jAG8",
        "outputId": "1f326de2-e663-4b00-9e24-234e2d928b33"
      },
      "execution_count": null,
      "outputs": [
        {
          "output_type": "display_data",
          "data": {
            "image/png": "[encoded data removed]",
            "text/plain": [
              "<Figure size 432x288 with 1 Axes>"
            ]
          },
          "metadata": {
            "needs_background": "light"
          }
        }
      ]
    },
    {
      "cell_type": "code",
      "source": [
        "y_vacc = history.history['val_accuracy']\n",
        "y_acc = history.history['accuracy']\n",
        "x_len = np.arange(len(y_acc))\n",
        "\n",
        "plt.plot(x_len,y_vacc,marker='.',c='red',label='Validation-set Accuracy')\n",
        "plt.plot(x_len,y_acc,marker='.',c='blue',label='Train-set Acurracy')\n",
        "plt.legend(loc='upper right')\n",
        "plt.grid()\n",
        "plt.title('Accuracy graph without dropout layer')\n",
        "plt.ylim(0,1)\n",
        "plt.xlabel('epoch')\n",
        "plt.ylabel('accuracy')\n",
        "plt.show()"
      ],
      "metadata": {
        "colab": {
          "base_uri": "https://localhost:8080/",
          "height": 295
        },
        "id": "Nr27vFKljAJb",
        "outputId": "24ebd71b-c0e5-45ee-d03c-db0a47bb7d34"
      },
      "execution_count": null,
      "outputs": [
        {
          "output_type": "display_data",
          "data": {
            "image/png": "[encoded data removed]",
            "text/plain": [
              "<Figure size 432x288 with 1 Axes>"
            ]
          },
          "metadata": {
            "needs_background": "light"
          }
        }
      ]
    },
    {
      "cell_type": "markdown",
      "source": [
        "#### Batch Normalization\n",
        "- gradient vanishing, explode  문제를 해결하는 방법 \n",
        "- noramlize 부분에 분모에 e(입실론)이 추가됨\n",
        " "
      ],
      "metadata": {
        "id": "zpVaZLcaxeHT"
      }
    },
    {
      "cell_type": "code",
      "source": [
        "import tensorflow as tf\n",
        "from tensorflow import keras\n",
        "import numpy as np\n",
        "import matplotlib.pyplot as plt\n",
        "\n",
        "fashion_mnist = keras.datasets.fashion_mnist\n",
        "print('🌸')"
      ],
      "metadata": {
        "colab": {
          "base_uri": "https://localhost:8080/"
        },
        "id": "PGllmbk1jAL_",
        "outputId": "7226ba54-6610-4e17-9466-07ede4e70685"
      },
      "execution_count": null,
      "outputs": [
        {
          "output_type": "stream",
          "name": "stdout",
          "text": [
            "🌸\n"
          ]
        }
      ]
    },
    {
      "cell_type": "code",
      "source": [
        "(train_images, train_labels), (test_images, test_labels) = fashion_mnist.load_data()\n",
        "class_names = ['T-shirt/top', 'Trouser', 'Pullover', 'Dress', 'Coat',\n",
        "               'Sandal', 'Shirt', 'Sneaker', 'Bag', 'Ankle boot']\n",
        "\n",
        "train_images = train_images / 255.0\n",
        "test_images = test_images / 255.0"
      ],
      "metadata": {
        "id": "ZwngUfZ-jAOL"
      },
      "execution_count": null,
      "outputs": []
    },
    {
      "cell_type": "code",
      "source": [
        "from sklearn.model_selection import train_test_split\n",
        "\n",
        "x_train,x_valid,y_train,y_valid = train_test_split(train_images,train_labels, test_size=0.3,random_state=101)\n",
        "\n",
        "model = keras.Sequential([\n",
        "                          keras.layers.Flatten(input_shape=(28,28)),\n",
        "                          keras.layers.Dense(128,activation='relu'),\n",
        "                          keras.layers.Dense(10,activation='softmax')\n",
        "])\n",
        "\n",
        "model.compile(optimizer='adam',loss='sparse_categorical_crossentropy',metrics=['accuracy'])\n",
        "\n",
        "history = model.fit(x_train,y_train,epochs=20,batch_size = 2048,validation_data=(x_valid,y_valid))"
      ],
      "metadata": {
        "colab": {
          "base_uri": "https://localhost:8080/"
        },
        "id": "YDeVbU3RzZ8w",
        "outputId": "3fd7b478-27bb-4a58-8ae2-16651a29986e"
      },
      "execution_count": null,
      "outputs": [
        {
          "output_type": "stream",
          "name": "stdout",
          "text": [
            "Epoch 1/20\n",
            "21/21 [==============================] - 1s 36ms/step - loss: 1.1882 - accuracy: 0.6300 - val_loss: 0.7319 - val_accuracy: 0.7507\n",
            "Epoch 2/20\n",
            "21/21 [==============================] - 1s 29ms/step - loss: 0.6477 - accuracy: 0.7822 - val_loss: 0.5901 - val_accuracy: 0.8038\n",
            "Epoch 3/20\n",
            "21/21 [==============================] - 1s 29ms/step - loss: 0.5539 - accuracy: 0.8164 - val_loss: 0.5338 - val_accuracy: 0.8221\n",
            "Epoch 4/20\n",
            "21/21 [==============================] - 1s 28ms/step - loss: 0.5095 - accuracy: 0.8286 - val_loss: 0.4983 - val_accuracy: 0.8342\n",
            "Epoch 5/20\n",
            "21/21 [==============================] - 1s 27ms/step - loss: 0.4764 - accuracy: 0.8415 - val_loss: 0.4746 - val_accuracy: 0.8399\n",
            "Epoch 6/20\n",
            "21/21 [==============================] - 1s 28ms/step - loss: 0.4542 - accuracy: 0.8484 - val_loss: 0.4578 - val_accuracy: 0.8447\n",
            "Epoch 7/20\n",
            "21/21 [==============================] - 1s 28ms/step - loss: 0.4393 - accuracy: 0.8518 - val_loss: 0.4417 - val_accuracy: 0.8497\n",
            "Epoch 8/20\n",
            "21/21 [==============================] - 1s 28ms/step - loss: 0.4227 - accuracy: 0.8576 - val_loss: 0.4321 - val_accuracy: 0.8518\n",
            "Epoch 9/20\n",
            "21/21 [==============================] - 1s 28ms/step - loss: 0.4151 - accuracy: 0.8582 - val_loss: 0.4287 - val_accuracy: 0.8518\n",
            "Epoch 10/20\n",
            "21/21 [==============================] - 1s 28ms/step - loss: 0.4054 - accuracy: 0.8599 - val_loss: 0.4186 - val_accuracy: 0.8553\n",
            "Epoch 11/20\n",
            "21/21 [==============================] - 1s 28ms/step - loss: 0.3953 - accuracy: 0.8655 - val_loss: 0.4115 - val_accuracy: 0.8572\n",
            "Epoch 12/20\n",
            "21/21 [==============================] - 1s 28ms/step - loss: 0.3879 - accuracy: 0.8664 - val_loss: 0.4020 - val_accuracy: 0.8642\n",
            "Epoch 13/20\n",
            "21/21 [==============================] - 1s 28ms/step - loss: 0.3778 - accuracy: 0.8707 - val_loss: 0.3970 - val_accuracy: 0.8624\n",
            "Epoch 14/20\n",
            "21/21 [==============================] - 1s 28ms/step - loss: 0.3716 - accuracy: 0.8730 - val_loss: 0.4014 - val_accuracy: 0.8607\n",
            "Epoch 15/20\n",
            "21/21 [==============================] - 1s 28ms/step - loss: 0.3694 - accuracy: 0.8721 - val_loss: 0.3950 - val_accuracy: 0.8628\n",
            "Epoch 16/20\n",
            "21/21 [==============================] - 1s 28ms/step - loss: 0.3638 - accuracy: 0.8747 - val_loss: 0.3870 - val_accuracy: 0.8656\n",
            "Epoch 17/20\n",
            "21/21 [==============================] - 1s 28ms/step - loss: 0.3599 - accuracy: 0.8757 - val_loss: 0.3837 - val_accuracy: 0.8659\n",
            "Epoch 18/20\n",
            "21/21 [==============================] - 1s 29ms/step - loss: 0.3520 - accuracy: 0.8793 - val_loss: 0.3883 - val_accuracy: 0.8638\n",
            "Epoch 19/20\n",
            "21/21 [==============================] - 1s 27ms/step - loss: 0.3463 - accuracy: 0.8804 - val_loss: 0.3767 - val_accuracy: 0.8689\n",
            "Epoch 20/20\n",
            "21/21 [==============================] - 1s 29ms/step - loss: 0.3413 - accuracy: 0.8825 - val_loss: 0.3756 - val_accuracy: 0.8679\n"
          ]
        }
      ]
    },
    {
      "cell_type": "code",
      "source": [
        "y_vloss = history.history['val_loss']\n",
        "y_loss = history.history['loss']\n",
        "x_len = np.arange(len(y_loss))\n",
        "\n",
        "plt.plot(x_len,y_vloss,marker='.',c='red',label='Validation-set Loss')\n",
        "plt.plot(x_len,y_loss,marker='.',c='blue',label='Train-set Loss')\n",
        "plt.legend(loc='upper right')\n",
        "plt.grid()\n",
        "plt.title('Loss graph without batch normalization')\n",
        "plt.ylim(0,1)\n",
        "plt.xlabel('epoch')\n",
        "plt.ylabel('loss')\n",
        "plt.show()"
      ],
      "metadata": {
        "colab": {
          "base_uri": "https://localhost:8080/",
          "height": 295
        },
        "id": "JTCphgFDzZ_5",
        "outputId": "8bf20535-4e39-4fd8-fd6b-7a22864794ed"
      },
      "execution_count": null,
      "outputs": [
        {
          "output_type": "display_data",
          "data": {
            "image/png": "[encoded data removed]",
            "text/plain": [
              "<Figure size 432x288 with 1 Axes>"
            ]
          },
          "metadata": {
            "needs_background": "light"
          }
        }
      ]
    },
    {
      "cell_type": "code",
      "source": [
        "y_vacc = history.history['val_accuracy']\n",
        "y_acc = history.history['accuracy']\n",
        "x_len = np.arange(len(y_acc))\n",
        "\n",
        "plt.plot(x_len,y_vacc,marker='.',c='red',label='Validation-set Accuracy')\n",
        "plt.plot(x_len,y_acc,marker='.',c='blue',label='Train-set Acurracy')\n",
        "plt.legend(loc='upper right')\n",
        "plt.grid()\n",
        "plt.title('Accuracy graph without batch normalization')\n",
        "plt.ylim(0.5,1)\n",
        "plt.xlabel('epoch')\n",
        "plt.ylabel('accuracy')\n",
        "plt.show()"
      ],
      "metadata": {
        "colab": {
          "base_uri": "https://localhost:8080/",
          "height": 295
        },
        "id": "u87s0OmMzaDU",
        "outputId": "58b44c38-140f-45db-b112-c5170b2cb000"
      },
      "execution_count": null,
      "outputs": [
        {
          "output_type": "display_data",
          "data": {
            "image/png": "[encoded data removed]",
            "text/plain": [
              "<Figure size 432x288 with 1 Axes>"
            ]
          },
          "metadata": {
            "needs_background": "light"
          }
        }
      ]
    },
    {
      "cell_type": "code",
      "source": [
        "from sklearn.model_selection import train_test_split\n",
        "\n",
        "x_train,x_valid,y_train,y_valid = train_test_split(train_images,train_labels, test_size=0.3,random_state=101)\n",
        "\n",
        "model = keras.Sequential([\n",
        "                          keras.layers.Flatten(input_shape=(28,28)),\n",
        "                          keras.layers.Dense(128,activation='relu'),\n",
        "                          keras.layers.BatchNormalization(),\n",
        "                          keras.layers.Dense(10,activation='softmax')\n",
        "])\n",
        "\n",
        "model.compile(optimizer='adam',loss='sparse_categorical_crossentropy',metrics=['accuracy'])\n",
        "\n",
        "history = model.fit(x_train,y_train,epochs=20,batch_size = 2048,validation_data=(x_valid,y_valid))"
      ],
      "metadata": {
        "colab": {
          "base_uri": "https://localhost:8080/"
        },
        "id": "dNbmv58izaFm",
        "outputId": "c091405d-219f-4b5b-f0af-d79b2828c2ec"
      },
      "execution_count": null,
      "outputs": [
        {
          "output_type": "stream",
          "name": "stdout",
          "text": [
            "Epoch 1/20\n",
            "21/21 [==============================] - 1s 41ms/step - loss: 0.9070 - accuracy: 0.6920 - val_loss: 1.0181 - val_accuracy: 0.6882\n",
            "Epoch 2/20\n",
            "21/21 [==============================] - 1s 32ms/step - loss: 0.5111 - accuracy: 0.8256 - val_loss: 0.8303 - val_accuracy: 0.7644\n",
            "Epoch 3/20\n",
            "21/21 [==============================] - 1s 32ms/step - loss: 0.4478 - accuracy: 0.8468 - val_loss: 0.7502 - val_accuracy: 0.7861\n",
            "Epoch 4/20\n",
            "21/21 [==============================] - 1s 32ms/step - loss: 0.4103 - accuracy: 0.8593 - val_loss: 0.6747 - val_accuracy: 0.8154\n",
            "Epoch 5/20\n",
            "21/21 [==============================] - 1s 32ms/step - loss: 0.3822 - accuracy: 0.8674 - val_loss: 0.6280 - val_accuracy: 0.8246\n",
            "Epoch 6/20\n",
            "21/21 [==============================] - 1s 32ms/step - loss: 0.3608 - accuracy: 0.8735 - val_loss: 0.5746 - val_accuracy: 0.8348\n",
            "Epoch 7/20\n",
            "21/21 [==============================] - 1s 33ms/step - loss: 0.3445 - accuracy: 0.8797 - val_loss: 0.5489 - val_accuracy: 0.8428\n",
            "Epoch 8/20\n",
            "21/21 [==============================] - 1s 32ms/step - loss: 0.3281 - accuracy: 0.8860 - val_loss: 0.5091 - val_accuracy: 0.8558\n",
            "Epoch 9/20\n",
            "21/21 [==============================] - 1s 31ms/step - loss: 0.3166 - accuracy: 0.8896 - val_loss: 0.4915 - val_accuracy: 0.8548\n",
            "Epoch 10/20\n",
            "21/21 [==============================] - 1s 32ms/step - loss: 0.3039 - accuracy: 0.8927 - val_loss: 0.4621 - val_accuracy: 0.8597\n",
            "Epoch 11/20\n",
            "21/21 [==============================] - 1s 32ms/step - loss: 0.2939 - accuracy: 0.8971 - val_loss: 0.4431 - val_accuracy: 0.8648\n",
            "Epoch 12/20\n",
            "21/21 [==============================] - 1s 31ms/step - loss: 0.2840 - accuracy: 0.9009 - val_loss: 0.4242 - val_accuracy: 0.8661\n",
            "Epoch 13/20\n",
            "21/21 [==============================] - 1s 32ms/step - loss: 0.2734 - accuracy: 0.9047 - val_loss: 0.4088 - val_accuracy: 0.8697\n",
            "Epoch 14/20\n",
            "21/21 [==============================] - 1s 32ms/step - loss: 0.2653 - accuracy: 0.9072 - val_loss: 0.4067 - val_accuracy: 0.8642\n",
            "Epoch 15/20\n",
            "21/21 [==============================] - 1s 32ms/step - loss: 0.2583 - accuracy: 0.9089 - val_loss: 0.3849 - val_accuracy: 0.8746\n",
            "Epoch 16/20\n",
            "21/21 [==============================] - 1s 33ms/step - loss: 0.2501 - accuracy: 0.9126 - val_loss: 0.3743 - val_accuracy: 0.8737\n",
            "Epoch 17/20\n",
            "21/21 [==============================] - 1s 32ms/step - loss: 0.2435 - accuracy: 0.9152 - val_loss: 0.3713 - val_accuracy: 0.8726\n",
            "Epoch 18/20\n",
            "21/21 [==============================] - 1s 31ms/step - loss: 0.2379 - accuracy: 0.9158 - val_loss: 0.3600 - val_accuracy: 0.8753\n",
            "Epoch 19/20\n",
            "21/21 [==============================] - 1s 32ms/step - loss: 0.2312 - accuracy: 0.9191 - val_loss: 0.3436 - val_accuracy: 0.8831\n",
            "Epoch 20/20\n",
            "21/21 [==============================] - 1s 32ms/step - loss: 0.2239 - accuracy: 0.9207 - val_loss: 0.3555 - val_accuracy: 0.8731\n"
          ]
        }
      ]
    },
    {
      "cell_type": "code",
      "source": [
        "y_vloss = history.history['val_loss']\n",
        "y_loss = history.history['loss']\n",
        "x_len = np.arange(len(y_loss))\n",
        "\n",
        "plt.plot(x_len,y_vloss,marker='.',c='red',label='Validation-set Loss')\n",
        "plt.plot(x_len,y_loss,marker='.',c='blue',label='Train-set Loss')\n",
        "plt.legend(loc='upper right')\n",
        "plt.grid()\n",
        "plt.title('Loss graph with batch normalization')\n",
        "plt.ylim(0,1)\n",
        "plt.xlabel('epoch')\n",
        "plt.ylabel('loss')\n",
        "plt.show()"
      ],
      "metadata": {
        "colab": {
          "base_uri": "https://localhost:8080/",
          "height": 295
        },
        "id": "HyU6zmMPzaH5",
        "outputId": "13d8f891-eb58-4dc9-bdb9-1c739b077451"
      },
      "execution_count": null,
      "outputs": [
        {
          "output_type": "display_data",
          "data": {
            "image/png": "[encoded data removed]",
            "text/plain": [
              "<Figure size 432x288 with 1 Axes>"
            ]
          },
          "metadata": {
            "needs_background": "light"
          }
        }
      ]
    },
    {
      "cell_type": "code",
      "source": [
        "y_vacc = history.history['val_accuracy']\n",
        "y_acc = history.history['accuracy']\n",
        "x_len = np.arange(len(y_acc))\n",
        "\n",
        "plt.plot(x_len,y_vacc,marker='.',c='red',label='Validation-set Accuracy')\n",
        "plt.plot(x_len,y_acc,marker='.',c='blue',label='Train-set Acurracy')\n",
        "plt.legend(loc='upper right')\n",
        "plt.grid()\n",
        "plt.title('Accuracy graph with batch normalization')\n",
        "plt.ylim(0.5,1)\n",
        "plt.xlabel('epoch')\n",
        "plt.ylabel('accuracy')\n",
        "plt.show()"
      ],
      "metadata": {
        "colab": {
          "base_uri": "https://localhost:8080/",
          "height": 295
        },
        "id": "JjSF4ZAAzaKZ",
        "outputId": "9476d568-a652-4fb2-ec69-b36c3dd2e569"
      },
      "execution_count": null,
      "outputs": [
        {
          "output_type": "display_data",
          "data": {
            "image/png": "[encoded data removed]",
            "text/plain": [
              "<Figure size 432x288 with 1 Axes>"
            ]
          },
          "metadata": {
            "needs_background": "light"
          }
        }
      ]
    },
    {
      "cell_type": "code",
      "source": [
        ""
      ],
      "metadata": {
        "id": "LKp4dqSvzaNB"
      },
      "execution_count": null,
      "outputs": []
    }
  ]
}