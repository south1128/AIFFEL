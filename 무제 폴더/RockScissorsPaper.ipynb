{
 "cells": [
  {
   "cell_type": "code",
   "execution_count": 29,
   "id": "2d23db20",
   "metadata": {},
   "outputs": [
    {
     "name": "stdout",
     "output_type": "stream",
     "text": [
      "PIL Library imported!\n"
     ]
    }
   ],
   "source": [
    "from PIL import Image\n",
    "import glob\n",
    "\n",
    "print('PIL Library imported!')"
   ]
  },
  {
   "cell_type": "code",
   "execution_count": 43,
   "id": "34e0171d",
   "metadata": {},
   "outputs": [
    {
     "name": "stdout",
     "output_type": "stream",
     "text": [
      "200 images to be resized.\n",
      "200 images are resized.\n",
      "scissor images resizing completed!\n"
     ]
    }
   ],
   "source": [
    "import os\n",
    "\n",
    "def resize_images(img_path):\n",
    "    images=glob.glob(img_path + '/*.jpg')\n",
    "    \n",
    "    print(len(images),'images to be resized.')\n",
    "    \n",
    "    target_size=(28,28)\n",
    "    for img in images:\n",
    "        old_img=Image.open(img)\n",
    "        new_img=old_img.resize(target_size,Image.ANTIALIAS)\n",
    "        new_img.save(img,'JPEG')\n",
    "        \n",
    "    print(len(images),\"images are resized.\")\n",
    "    \n",
    "scissor_dir_path = os.getenv(\"HOME\")+'/aiffel/rock_scissor_paper/scissor'\n",
    "resize_images(scissor_dir_path)\n",
    "\n",
    "print('scissor images resizing completed!')"
   ]
  },
  {
   "cell_type": "code",
   "execution_count": 44,
   "id": "53000f7d",
   "metadata": {
    "scrolled": true
   },
   "outputs": [
    {
     "name": "stdout",
     "output_type": "stream",
     "text": [
      "200 images to be resized.\n",
      "200 images are resized.\n",
      "rock images resizing completed!\n"
     ]
    }
   ],
   "source": [
    "rock_dir_path = os.getenv(\"HOME\") + \"/aiffel/rock_scissor_paper/rock\"\n",
    "\n",
    "resize_images(rock_dir_path)\n",
    "\n",
    "print('rock images resizing completed!')"
   ]
  },
  {
   "cell_type": "code",
   "execution_count": 33,
   "id": "86673a96",
   "metadata": {},
   "outputs": [
    {
     "name": "stdout",
     "output_type": "stream",
     "text": [
      "200 images to be resized.\n",
      "200 images are resized.\n",
      "paper images resizing completed!\n"
     ]
    }
   ],
   "source": [
    "paper_dir_path = os.getenv(\"HOME\") + \"/aiffel/rock_scissor_paper/paper\"\n",
    "\n",
    "resize_images(paper_dir_path)\n",
    "\n",
    "print('paper images resizing completed!')"
   ]
  },
  {
   "cell_type": "code",
   "execution_count": 39,
   "id": "41ed2cc5",
   "metadata": {},
   "outputs": [
    {
     "name": "stdout",
     "output_type": "stream",
     "text": [
      "100 images to be resized.\n",
      "100 images are resized.\n",
      "scissor test images resizing completed\n",
      "100 images to be resized.\n",
      "100 images are resized.\n",
      "rock test images resizing completed\n",
      "100 images to be resized.\n",
      "100 images are resized.\n",
      "paper test images resizing completed\n"
     ]
    }
   ],
   "source": [
    "scissor_test_dir_path = os.getenv(\"HOME\")+\"/aiffel/rock_scissor_paper/test/scissor\"\n",
    "resize_images(scissor_test_dir_path)\n",
    "print('scissor test images resizing completed')\n",
    "\n",
    "rock_test_dir_path = os.getenv(\"HOME\")+\"/aiffel/rock_scissor_paper/test/rock\"\n",
    "resize_images(rock_test_dir_path)\n",
    "print('rock test images resizing completed')\n",
    "\n",
    "paper_test_dir_path = os.getenv(\"HOME\")+\"/aiffel/rock_scissor_paper/test/paper\"\n",
    "resize_images(paper_test_dir_path)\n",
    "print('paper test images resizing completed')"
   ]
  },
  {
   "cell_type": "code",
   "execution_count": 57,
   "id": "fe09ace1",
   "metadata": {},
   "outputs": [
    {
     "name": "stdout",
     "output_type": "stream",
     "text": [
      "The number of images in train data set(x_train) is 600\n",
      "The number of images in train data set(x_train) is 300\n",
      "x_train shape : (1000, 28, 28, 3)\n",
      "y_train shape : (1000,)\n"
     ]
    }
   ],
   "source": [
    "import numpy as np\n",
    "\n",
    "def load_data(img_path,number_of_data=1000):\n",
    "    img_size=28\n",
    "    color=3\n",
    "    imgs=np.zeros(number_of_data*img_size*img_size*color,dtype=np.int32).reshape(number_of_data,img_size,img_size,color)\n",
    "    labels=np.zeros(number_of_data,dtype=np.int32)\n",
    "    \n",
    "    idx=0\n",
    "    for file in glob.iglob(img_path+'/scissor/*.jpg'):\n",
    "        img = np.array(Image.open(file),dtype=np.int32)\n",
    "        imgs[idx,:,:,:]=img\n",
    "        labels[idx]=0\n",
    "        idx=idx+1\n",
    "        \n",
    "    for file in glob.iglob(img_path+'/rock/*.jpg'):\n",
    "        img = np.array(Image.open(file),dtype=np.int32)\n",
    "        imgs[idx,:,:,:]=img\n",
    "        labels[idx]=1\n",
    "        idx=idx+1\n",
    "        \n",
    "    for file in glob.iglob(img_path+'/paper/*.jpg'):\n",
    "        img = np.array(Image.open(file),dtype=np.int32)\n",
    "        imgs[idx,:,:,:]=img\n",
    "        labels[idx]=2\n",
    "        idx=idx+1\n",
    "        \n",
    "    print('The number of images in train data set(x_train) is',idx)\n",
    "    return imgs,labels\n",
    "\n",
    "image_dir_path = os.getenv('HOME')+'/aiffel/rock_scissor_paper'\n",
    "(x_train,y_train)=load_data(image_dir_path)\n",
    "x_train_norm = x_train/225.0\n",
    "image_test_dir_path = os.getenv('HOME')+'/aiffel/rock_scissor_paper/test'\n",
    "(x_test,y_test) = load_data(image_test_dir_path)\n",
    "x_test_norm = x_test/225.0\n",
    "\n",
    "\n",
    "print('x_train shape : {}'.format(x_train.shape))\n",
    "print('y_train shape : {}'.format(y_train.shape))"
   ]
  },
  {
   "cell_type": "code",
   "execution_count": 58,
   "id": "e97af62c",
   "metadata": {},
   "outputs": [
    {
     "name": "stdout",
     "output_type": "stream",
     "text": [
      "label :  0\n"
     ]
    },
    {
     "data": {
      "image/png": "[encoded data removed]",
      "text/plain": [
       "<Figure size 432x288 with 1 Axes>"
      ]
     },
     "metadata": {
      "needs_background": "light"
     },
     "output_type": "display_data"
    }
   ],
   "source": [
    "import matplotlib.pyplot as plt\n",
    "plt.imshow(x_train[0])\n",
    "print('label : ',y_train[0])"
   ]
  },
  {
   "cell_type": "code",
   "execution_count": 59,
   "id": "0dc68d52",
   "metadata": {},
   "outputs": [
    {
     "name": "stdout",
     "output_type": "stream",
     "text": [
      "Model: \"sequential_8\"\n",
      "_________________________________________________________________\n",
      "Layer (type)                 Output Shape              Param #   \n",
      "=================================================================\n",
      "conv2d_16 (Conv2D)           (None, 26, 26, 32)        896       \n",
      "_________________________________________________________________\n",
      "max_pooling2d_16 (MaxPooling (None, 13, 13, 32)        0         \n",
      "_________________________________________________________________\n",
      "conv2d_17 (Conv2D)           (None, 11, 11, 32)        9248      \n",
      "_________________________________________________________________\n",
      "max_pooling2d_17 (MaxPooling (None, 5, 5, 32)          0         \n",
      "_________________________________________________________________\n",
      "flatten_8 (Flatten)          (None, 800)               0         \n",
      "_________________________________________________________________\n",
      "dense_16 (Dense)             (None, 128)               102528    \n",
      "_________________________________________________________________\n",
      "dense_17 (Dense)             (None, 3)                 387       \n",
      "=================================================================\n",
      "Total params: 113,059\n",
      "Trainable params: 113,059\n",
      "Non-trainable params: 0\n",
      "_________________________________________________________________\n",
      "Epoch 1/9\n",
      "32/32 [==============================] - 1s 7ms/step - loss: 0.9793 - accuracy: 0.6240\n",
      "Epoch 2/9\n",
      "32/32 [==============================] - 0s 3ms/step - loss: 0.5738 - accuracy: 0.7550\n",
      "Epoch 3/9\n",
      "32/32 [==============================] - 0s 3ms/step - loss: 0.3623 - accuracy: 0.8800\n",
      "Epoch 4/9\n",
      "32/32 [==============================] - 0s 3ms/step - loss: 0.2420 - accuracy: 0.9150\n",
      "Epoch 5/9\n",
      "32/32 [==============================] - 0s 3ms/step - loss: 0.2151 - accuracy: 0.9230\n",
      "Epoch 6/9\n",
      "32/32 [==============================] - 0s 3ms/step - loss: 0.1973 - accuracy: 0.9360\n",
      "Epoch 7/9\n",
      "32/32 [==============================] - 0s 3ms/step - loss: 0.1720 - accuracy: 0.9310\n",
      "Epoch 8/9\n",
      "32/32 [==============================] - 0s 3ms/step - loss: 0.1315 - accuracy: 0.9560\n",
      "Epoch 9/9\n",
      "32/32 [==============================] - 0s 3ms/step - loss: 0.1118 - accuracy: 0.9640\n",
      "32/32 - 0s - loss: 0.8414 - accuracy: 0.8210\n",
      "test_loss: 0.841403603553772 \n",
      "test_accuracy: 0.8209999799728394\n"
     ]
    }
   ],
   "source": [
    "import tensorflow as tf\n",
    "from tensorflow import keras\n",
    "import numpy as np\n",
    "\n",
    "n_channel_1=32\n",
    "n_channel_2=32\n",
    "n_dense=128\n",
    "n_train_epoch=9\n",
    "\n",
    "model=keras.models.Sequential()\n",
    "model.add(keras.layers.Conv2D(n_channel_1, (3,3), activation='relu', input_shape=(28,28,3)))\n",
    "model.add(keras.layers.MaxPool2D(2,2))\n",
    "model.add(keras.layers.Conv2D(n_channel_2, (3,3), activation='relu'))\n",
    "model.add(keras.layers.MaxPooling2D((2,2)))\n",
    "model.add(keras.layers.Flatten())\n",
    "model.add(keras.layers.Dense(n_dense, activation='relu'))\n",
    "model.add(keras.layers.Dense(3, activation='softmax'))\n",
    "\n",
    "\n",
    "model.summary()\n",
    "model.compile(optimizer='adam',\n",
    "             loss='sparse_categorical_crossentropy',\n",
    "             metrics=['accuracy'])\n",
    "\n",
    "model.fit(x_train_norm, y_train, epochs=n_train_epoch)\n",
    "\n",
    "\n",
    "test_loss, test_accuracy = model.evaluate(x_test_norm, y_test, verbose=2)\n",
    "print(\"test_loss: {} \".format(test_loss))\n",
    "print(\"test_accuracy: {}\".format(test_accuracy))"
   ]
  }
 ],
 "metadata": {
  "kernelspec": {
   "display_name": "Python 3 (ipykernel)",
   "language": "python",
   "name": "python3"
  },
  "language_info": {
   "codemirror_mode": {
    "name": "ipython",
    "version": 3
   },
   "file_extension": ".py",
   "mimetype": "text/x-python",
   "name": "python",
   "nbconvert_exporter": "python",
   "pygments_lexer": "ipython3",
   "version": "3.9.7"
  }
 },
 "nbformat": 4,
 "nbformat_minor": 5
}
