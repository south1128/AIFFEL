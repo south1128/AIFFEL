{
  "nbformat": 4,
  "nbformat_minor": 0,
  "metadata": {
    "colab": {
      "name": "movieprediction",
      "provenance": [],
      "collapsed_sections": []
    },
    "kernelspec": {
      "name": "python3",
      "display_name": "Python 3"
    },
    "language_info": {
      "name": "python"
    }
  },
  "cells": [
    {
      "cell_type": "code",
      "execution_count": 2,
      "metadata": {
        "id": "hPSVjkxKN4_P",
        "colab": {
          "base_uri": "https://localhost:8080/"
        },
        "outputId": "f16dd7ba-d69b-4d3f-fa5a-9f1c7cdb05ae"
      },
      "outputs": [
        {
          "output_type": "stream",
          "name": "stdout",
          "text": [
            "1.3.5\n",
            "2.8.0\n"
          ]
        }
      ],
      "source": [
        "import pandas\n",
        "import tensorflow \n",
        "\n",
        "print(pandas.__version__)\n",
        "print(tensorflow.__version__)"
      ]
    },
    {
      "cell_type": "code",
      "source": [
        "import datetime as dt\n",
        "from pathlib import Path\n",
        "import os\n",
        "os.environ['HOME'] = '/content/drive/MyDrive/data'\n",
        "import numpy as np\n",
        "import pandas as pd\n",
        "import tensorflow\n",
        "\n",
        "print(pd.__version__)\n",
        "print(tensorflow.__version__)\n",
        "\n",
        "import warnings\n",
        "warnings.filterwarnings('ignore')"
      ],
      "metadata": {
        "colab": {
          "base_uri": "https://localhost:8080/"
        },
        "id": "wZOSNPIiJPmL",
        "outputId": "1ec53fe3-32a3-455e-b72e-46d002c8f736"
      },
      "execution_count": 3,
      "outputs": [
        {
          "output_type": "stream",
          "name": "stdout",
          "text": [
            "1.3.5\n",
            "2.8.0\n"
          ]
        }
      ]
    },
    {
      "cell_type": "code",
      "source": [
        "data_path = Path(os.getenv('HOME')+'/movieprediction') \n",
        "train_path = data_path / 'ratings (1).dat'\n",
        "# train_path = '/content/drive/MyDrive/data/movieprediction/ratings (1).dat'\n",
        "\n",
        "def load_data(data_path, nrows=None):\n",
        "    data = pd.read_csv(data_path, sep='::', header=None, usecols=[0, 1, 2, 3], dtype={0: np.int32, 1: np.int32, 2: np.int32}, nrows=nrows)\n",
        "    data.columns = ['UserId', 'ItemId', 'Rating', 'Time']\n",
        "    return data\n",
        "\n",
        "data = load_data(train_path, None)\n",
        "data.sort_values(['UserId', 'Time'], inplace=True)  # data를 id와 시간 순서로 정렬해줍니다.\n",
        "data"
      ],
      "metadata": {
        "colab": {
          "base_uri": "https://localhost:8080/",
          "height": 424
        },
        "id": "8QgqICuBJPpy",
        "outputId": "a3b59c7d-b4d8-4dc9-bfba-a5a73afc3784"
      },
      "execution_count": 4,
      "outputs": [
        {
          "output_type": "execute_result",
          "data": {
            "text/plain": [
              "         UserId  ItemId  Rating       Time\n",
              "31            1    3186       4  978300019\n",
              "22            1    1270       5  978300055\n",
              "27            1    1721       4  978300055\n",
              "37            1    1022       5  978300055\n",
              "24            1    2340       3  978300103\n",
              "...         ...     ...     ...        ...\n",
              "1000019    6040    2917       4  997454429\n",
              "999988     6040    1921       4  997454464\n",
              "1000172    6040    1784       3  997454464\n",
              "1000167    6040     161       3  997454486\n",
              "1000042    6040    1221       4  998315055\n",
              "\n",
              "[1000209 rows x 4 columns]"
            ],
            "text/html": [
              "\n",
              "  <div id=\"df-f751b11d-f133-4761-aca9-331a1ca81a29\">\n",
              "    <div class=\"colab-df-container\">\n",
              "      <div>\n",
              "<style scoped>\n",
              "    .dataframe tbody tr th:only-of-type {\n",
              "        vertical-align: middle;\n",
              "    }\n",
              "\n",
              "    .dataframe tbody tr th {\n",
              "        vertical-align: top;\n",
              "    }\n",
              "\n",
              "    .dataframe thead th {\n",
              "        text-align: right;\n",
              "    }\n",
              "</style>\n",
              "<table border=\"1\" class=\"dataframe\">\n",
              "  <thead>\n",
              "    <tr style=\"text-align: right;\">\n",
              "      <th></th>\n",
              "      <th>UserId</th>\n",
              "      <th>ItemId</th>\n",
              "      <th>Rating</th>\n",
              "      <th>Time</th>\n",
              "    </tr>\n",
              "  </thead>\n",
              "  <tbody>\n",
              "    <tr>\n",
              "      <th>31</th>\n",
              "      <td>1</td>\n",
              "      <td>3186</td>\n",
              "      <td>4</td>\n",
              "      <td>978300019</td>\n",
              "    </tr>\n",
              "    <tr>\n",
              "      <th>22</th>\n",
              "      <td>1</td>\n",
              "      <td>1270</td>\n",
              "      <td>5</td>\n",
              "      <td>978300055</td>\n",
              "    </tr>\n",
              "    <tr>\n",
              "      <th>27</th>\n",
              "      <td>1</td>\n",
              "      <td>1721</td>\n",
              "      <td>4</td>\n",
              "      <td>978300055</td>\n",
              "    </tr>\n",
              "    <tr>\n",
              "      <th>37</th>\n",
              "      <td>1</td>\n",
              "      <td>1022</td>\n",
              "      <td>5</td>\n",
              "      <td>978300055</td>\n",
              "    </tr>\n",
              "    <tr>\n",
              "      <th>24</th>\n",
              "      <td>1</td>\n",
              "      <td>2340</td>\n",
              "      <td>3</td>\n",
              "      <td>978300103</td>\n",
              "    </tr>\n",
              "    <tr>\n",
              "      <th>...</th>\n",
              "      <td>...</td>\n",
              "      <td>...</td>\n",
              "      <td>...</td>\n",
              "      <td>...</td>\n",
              "    </tr>\n",
              "    <tr>\n",
              "      <th>1000019</th>\n",
              "      <td>6040</td>\n",
              "      <td>2917</td>\n",
              "      <td>4</td>\n",
              "      <td>997454429</td>\n",
              "    </tr>\n",
              "    <tr>\n",
              "      <th>999988</th>\n",
              "      <td>6040</td>\n",
              "      <td>1921</td>\n",
              "      <td>4</td>\n",
              "      <td>997454464</td>\n",
              "    </tr>\n",
              "    <tr>\n",
              "      <th>1000172</th>\n",
              "      <td>6040</td>\n",
              "      <td>1784</td>\n",
              "      <td>3</td>\n",
              "      <td>997454464</td>\n",
              "    </tr>\n",
              "    <tr>\n",
              "      <th>1000167</th>\n",
              "      <td>6040</td>\n",
              "      <td>161</td>\n",
              "      <td>3</td>\n",
              "      <td>997454486</td>\n",
              "    </tr>\n",
              "    <tr>\n",
              "      <th>1000042</th>\n",
              "      <td>6040</td>\n",
              "      <td>1221</td>\n",
              "      <td>4</td>\n",
              "      <td>998315055</td>\n",
              "    </tr>\n",
              "  </tbody>\n",
              "</table>\n",
              "<p>1000209 rows × 4 columns</p>\n",
              "</div>\n",
              "      <button class=\"colab-df-convert\" onclick=\"convertToInteractive('df-f751b11d-f133-4761-aca9-331a1ca81a29')\"\n",
              "              title=\"Convert this dataframe to an interactive table.\"\n",
              "              style=\"display:none;\">\n",
              "        \n",
              "  <svg xmlns=\"http://www.w3.org/2000/svg\" height=\"24px\"viewBox=\"0 0 24 24\"\n",
              "       width=\"24px\">\n",
              "    <path d=\"M0 0h24v24H0V0z\" fill=\"none\"/>\n",
              "    <path d=\"M18.56 5.44l.94 2.06.94-2.06 2.06-.94-2.06-.94-.94-2.06-.94 2.06-2.06.94zm-11 1L8.5 8.5l.94-2.06 2.06-.94-2.06-.94L8.5 2.5l-.94 2.06-2.06.94zm10 10l.94 2.06.94-2.06 2.06-.94-2.06-.94-.94-2.06-.94 2.06-2.06.94z\"/><path d=\"M17.41 7.96l-1.37-1.37c-.4-.4-.92-.59-1.43-.59-.52 0-1.04.2-1.43.59L10.3 9.45l-7.72 7.72c-.78.78-.78 2.05 0 2.83L4 21.41c.39.39.9.59 1.41.59.51 0 1.02-.2 1.41-.59l7.78-7.78 2.81-2.81c.8-.78.8-2.07 0-2.86zM5.41 20L4 18.59l7.72-7.72 1.47 1.35L5.41 20z\"/>\n",
              "  </svg>\n",
              "      </button>\n",
              "      \n",
              "  <style>\n",
              "    .colab-df-container {\n",
              "      display:flex;\n",
              "      flex-wrap:wrap;\n",
              "      gap: 12px;\n",
              "    }\n",
              "\n",
              "    .colab-df-convert {\n",
              "      background-color: #E8F0FE;\n",
              "      border: none;\n",
              "      border-radius: 50%;\n",
              "      cursor: pointer;\n",
              "      display: none;\n",
              "      fill: #1967D2;\n",
              "      height: 32px;\n",
              "      padding: 0 0 0 0;\n",
              "      width: 32px;\n",
              "    }\n",
              "\n",
              "    .colab-df-convert:hover {\n",
              "      background-color: #E2EBFA;\n",
              "      box-shadow: 0px 1px 2px rgba(60, 64, 67, 0.3), 0px 1px 3px 1px rgba(60, 64, 67, 0.15);\n",
              "      fill: #174EA6;\n",
              "    }\n",
              "\n",
              "    [theme=dark] .colab-df-convert {\n",
              "      background-color: #3B4455;\n",
              "      fill: #D2E3FC;\n",
              "    }\n",
              "\n",
              "    [theme=dark] .colab-df-convert:hover {\n",
              "      background-color: #434B5C;\n",
              "      box-shadow: 0px 1px 3px 1px rgba(0, 0, 0, 0.15);\n",
              "      filter: drop-shadow(0px 1px 2px rgba(0, 0, 0, 0.3));\n",
              "      fill: #FFFFFF;\n",
              "    }\n",
              "  </style>\n",
              "\n",
              "      <script>\n",
              "        const buttonEl =\n",
              "          document.querySelector('#df-f751b11d-f133-4761-aca9-331a1ca81a29 button.colab-df-convert');\n",
              "        buttonEl.style.display =\n",
              "          google.colab.kernel.accessAllowed ? 'block' : 'none';\n",
              "\n",
              "        async function convertToInteractive(key) {\n",
              "          const element = document.querySelector('#df-f751b11d-f133-4761-aca9-331a1ca81a29');\n",
              "          const dataTable =\n",
              "            await google.colab.kernel.invokeFunction('convertToInteractive',\n",
              "                                                     [key], {});\n",
              "          if (!dataTable) return;\n",
              "\n",
              "          const docLinkHtml = 'Like what you see? Visit the ' +\n",
              "            '<a target=\"_blank\" href=https://colab.research.google.com/notebooks/data_table.ipynb>data table notebook</a>'\n",
              "            + ' to learn more about interactive tables.';\n",
              "          element.innerHTML = '';\n",
              "          dataTable['output_type'] = 'display_data';\n",
              "          await google.colab.output.renderOutput(dataTable, element);\n",
              "          const docLink = document.createElement('div');\n",
              "          docLink.innerHTML = docLinkHtml;\n",
              "          element.appendChild(docLink);\n",
              "        }\n",
              "      </script>\n",
              "    </div>\n",
              "  </div>\n",
              "  "
            ]
          },
          "metadata": {},
          "execution_count": 4
        }
      ]
    },
    {
      "cell_type": "markdown",
      "source": [
        "STEP 1 : 데이터의 전처리 \n",
        "- session length , session time, cleaning 등을 진행 \n",
        "- session 이 아닌 user id 단위로 데이터 생성 되어 있음에 주의"
      ],
      "metadata": {
        "id": "GTafcuFigZWe"
      }
    },
    {
      "cell_type": "code",
      "source": [
        "data['UserId'].nunique(), data['ItemId'].nunique()"
      ],
      "metadata": {
        "colab": {
          "base_uri": "https://localhost:8080/"
        },
        "id": "e4yLYf2TJPtZ",
        "outputId": "960bbfe5-e100-4ba1-a299-5c4564c8b520"
      },
      "execution_count": 5,
      "outputs": [
        {
          "output_type": "execute_result",
          "data": {
            "text/plain": [
              "(6040, 3706)"
            ]
          },
          "metadata": {},
          "execution_count": 5
        }
      ]
    },
    {
      "cell_type": "code",
      "source": [
        "session_length = data.groupby('UserId').size()\n",
        "session_length"
      ],
      "metadata": {
        "colab": {
          "base_uri": "https://localhost:8080/"
        },
        "id": "feGwAS0GMQeb",
        "outputId": "a3b2c1e4-5990-4945-90f8-f33d8ce748d4"
      },
      "execution_count": 6,
      "outputs": [
        {
          "output_type": "execute_result",
          "data": {
            "text/plain": [
              "UserId\n",
              "1        53\n",
              "2       129\n",
              "3        51\n",
              "4        21\n",
              "5       198\n",
              "       ... \n",
              "6036    888\n",
              "6037    202\n",
              "6038     20\n",
              "6039    123\n",
              "6040    341\n",
              "Length: 6040, dtype: int64"
            ]
          },
          "metadata": {},
          "execution_count": 6
        }
      ]
    },
    {
      "cell_type": "code",
      "source": [
        "session_length.median(), session_length.mean()"
      ],
      "metadata": {
        "colab": {
          "base_uri": "https://localhost:8080/"
        },
        "id": "b8TYF2u1JPwZ",
        "outputId": "2b6d3609-27c6-413d-8bb4-42791c16e80d"
      },
      "execution_count": 7,
      "outputs": [
        {
          "output_type": "execute_result",
          "data": {
            "text/plain": [
              "(96.0, 165.5975165562914)"
            ]
          },
          "metadata": {},
          "execution_count": 7
        }
      ]
    },
    {
      "cell_type": "code",
      "source": [
        "session_length.min(), session_length.max()"
      ],
      "metadata": {
        "colab": {
          "base_uri": "https://localhost:8080/"
        },
        "id": "XFm9ljY0JPzZ",
        "outputId": "973159a9-0ddc-4462-c782-d6be9618c8e2"
      },
      "execution_count": 8,
      "outputs": [
        {
          "output_type": "execute_result",
          "data": {
            "text/plain": [
              "(20, 2314)"
            ]
          },
          "metadata": {},
          "execution_count": 8
        }
      ]
    },
    {
      "cell_type": "code",
      "source": [
        "session_length.quantile(0.999)"
      ],
      "metadata": {
        "colab": {
          "base_uri": "https://localhost:8080/"
        },
        "id": "XEHdjNg6JQHy",
        "outputId": "90e64afa-cc44-4baa-e31d-41bb412b7dcd"
      },
      "execution_count": 9,
      "outputs": [
        {
          "output_type": "execute_result",
          "data": {
            "text/plain": [
              "1343.181000000005"
            ]
          },
          "metadata": {},
          "execution_count": 9
        }
      ]
    },
    {
      "cell_type": "code",
      "source": [
        "long_session = session_length[session_length==2314].index[0]\n",
        "data[data['UserId']==long_session]"
      ],
      "metadata": {
        "colab": {
          "base_uri": "https://localhost:8080/",
          "height": 424
        },
        "id": "35YrwI2xNERT",
        "outputId": "b474c65a-8a6d-4cd6-ea96-c7044389ab8c"
      },
      "execution_count": 10,
      "outputs": [
        {
          "output_type": "execute_result",
          "data": {
            "text/plain": [
              "        UserId  ItemId  Rating        Time\n",
              "696969    4169    1268       5   965333392\n",
              "697168    4169    2617       4   965333392\n",
              "697185    4169    2628       4   965333392\n",
              "697219    4169    2653       4   965333392\n",
              "697275    4169     423       3   965333392\n",
              "...        ...     ...     ...         ...\n",
              "697882    4169    3754       2  1024174347\n",
              "695702    4169    1413       3  1024175031\n",
              "697358    4169     494       4  1024175760\n",
              "695945    4169    1804       2  1024175783\n",
              "696446    4169    1548       3  1024176337\n",
              "\n",
              "[2314 rows x 4 columns]"
            ],
            "text/html": [
              "\n",
              "  <div id=\"df-765953bb-cf03-49c7-8526-bd3bb1a63c87\">\n",
              "    <div class=\"colab-df-container\">\n",
              "      <div>\n",
              "<style scoped>\n",
              "    .dataframe tbody tr th:only-of-type {\n",
              "        vertical-align: middle;\n",
              "    }\n",
              "\n",
              "    .dataframe tbody tr th {\n",
              "        vertical-align: top;\n",
              "    }\n",
              "\n",
              "    .dataframe thead th {\n",
              "        text-align: right;\n",
              "    }\n",
              "</style>\n",
              "<table border=\"1\" class=\"dataframe\">\n",
              "  <thead>\n",
              "    <tr style=\"text-align: right;\">\n",
              "      <th></th>\n",
              "      <th>UserId</th>\n",
              "      <th>ItemId</th>\n",
              "      <th>Rating</th>\n",
              "      <th>Time</th>\n",
              "    </tr>\n",
              "  </thead>\n",
              "  <tbody>\n",
              "    <tr>\n",
              "      <th>696969</th>\n",
              "      <td>4169</td>\n",
              "      <td>1268</td>\n",
              "      <td>5</td>\n",
              "      <td>965333392</td>\n",
              "    </tr>\n",
              "    <tr>\n",
              "      <th>697168</th>\n",
              "      <td>4169</td>\n",
              "      <td>2617</td>\n",
              "      <td>4</td>\n",
              "      <td>965333392</td>\n",
              "    </tr>\n",
              "    <tr>\n",
              "      <th>697185</th>\n",
              "      <td>4169</td>\n",
              "      <td>2628</td>\n",
              "      <td>4</td>\n",
              "      <td>965333392</td>\n",
              "    </tr>\n",
              "    <tr>\n",
              "      <th>697219</th>\n",
              "      <td>4169</td>\n",
              "      <td>2653</td>\n",
              "      <td>4</td>\n",
              "      <td>965333392</td>\n",
              "    </tr>\n",
              "    <tr>\n",
              "      <th>697275</th>\n",
              "      <td>4169</td>\n",
              "      <td>423</td>\n",
              "      <td>3</td>\n",
              "      <td>965333392</td>\n",
              "    </tr>\n",
              "    <tr>\n",
              "      <th>...</th>\n",
              "      <td>...</td>\n",
              "      <td>...</td>\n",
              "      <td>...</td>\n",
              "      <td>...</td>\n",
              "    </tr>\n",
              "    <tr>\n",
              "      <th>697882</th>\n",
              "      <td>4169</td>\n",
              "      <td>3754</td>\n",
              "      <td>2</td>\n",
              "      <td>1024174347</td>\n",
              "    </tr>\n",
              "    <tr>\n",
              "      <th>695702</th>\n",
              "      <td>4169</td>\n",
              "      <td>1413</td>\n",
              "      <td>3</td>\n",
              "      <td>1024175031</td>\n",
              "    </tr>\n",
              "    <tr>\n",
              "      <th>697358</th>\n",
              "      <td>4169</td>\n",
              "      <td>494</td>\n",
              "      <td>4</td>\n",
              "      <td>1024175760</td>\n",
              "    </tr>\n",
              "    <tr>\n",
              "      <th>695945</th>\n",
              "      <td>4169</td>\n",
              "      <td>1804</td>\n",
              "      <td>2</td>\n",
              "      <td>1024175783</td>\n",
              "    </tr>\n",
              "    <tr>\n",
              "      <th>696446</th>\n",
              "      <td>4169</td>\n",
              "      <td>1548</td>\n",
              "      <td>3</td>\n",
              "      <td>1024176337</td>\n",
              "    </tr>\n",
              "  </tbody>\n",
              "</table>\n",
              "<p>2314 rows × 4 columns</p>\n",
              "</div>\n",
              "      <button class=\"colab-df-convert\" onclick=\"convertToInteractive('df-765953bb-cf03-49c7-8526-bd3bb1a63c87')\"\n",
              "              title=\"Convert this dataframe to an interactive table.\"\n",
              "              style=\"display:none;\">\n",
              "        \n",
              "  <svg xmlns=\"http://www.w3.org/2000/svg\" height=\"24px\"viewBox=\"0 0 24 24\"\n",
              "       width=\"24px\">\n",
              "    <path d=\"M0 0h24v24H0V0z\" fill=\"none\"/>\n",
              "    <path d=\"M18.56 5.44l.94 2.06.94-2.06 2.06-.94-2.06-.94-.94-2.06-.94 2.06-2.06.94zm-11 1L8.5 8.5l.94-2.06 2.06-.94-2.06-.94L8.5 2.5l-.94 2.06-2.06.94zm10 10l.94 2.06.94-2.06 2.06-.94-2.06-.94-.94-2.06-.94 2.06-2.06.94z\"/><path d=\"M17.41 7.96l-1.37-1.37c-.4-.4-.92-.59-1.43-.59-.52 0-1.04.2-1.43.59L10.3 9.45l-7.72 7.72c-.78.78-.78 2.05 0 2.83L4 21.41c.39.39.9.59 1.41.59.51 0 1.02-.2 1.41-.59l7.78-7.78 2.81-2.81c.8-.78.8-2.07 0-2.86zM5.41 20L4 18.59l7.72-7.72 1.47 1.35L5.41 20z\"/>\n",
              "  </svg>\n",
              "      </button>\n",
              "      \n",
              "  <style>\n",
              "    .colab-df-container {\n",
              "      display:flex;\n",
              "      flex-wrap:wrap;\n",
              "      gap: 12px;\n",
              "    }\n",
              "\n",
              "    .colab-df-convert {\n",
              "      background-color: #E8F0FE;\n",
              "      border: none;\n",
              "      border-radius: 50%;\n",
              "      cursor: pointer;\n",
              "      display: none;\n",
              "      fill: #1967D2;\n",
              "      height: 32px;\n",
              "      padding: 0 0 0 0;\n",
              "      width: 32px;\n",
              "    }\n",
              "\n",
              "    .colab-df-convert:hover {\n",
              "      background-color: #E2EBFA;\n",
              "      box-shadow: 0px 1px 2px rgba(60, 64, 67, 0.3), 0px 1px 3px 1px rgba(60, 64, 67, 0.15);\n",
              "      fill: #174EA6;\n",
              "    }\n",
              "\n",
              "    [theme=dark] .colab-df-convert {\n",
              "      background-color: #3B4455;\n",
              "      fill: #D2E3FC;\n",
              "    }\n",
              "\n",
              "    [theme=dark] .colab-df-convert:hover {\n",
              "      background-color: #434B5C;\n",
              "      box-shadow: 0px 1px 3px 1px rgba(0, 0, 0, 0.15);\n",
              "      filter: drop-shadow(0px 1px 2px rgba(0, 0, 0, 0.3));\n",
              "      fill: #FFFFFF;\n",
              "    }\n",
              "  </style>\n",
              "\n",
              "      <script>\n",
              "        const buttonEl =\n",
              "          document.querySelector('#df-765953bb-cf03-49c7-8526-bd3bb1a63c87 button.colab-df-convert');\n",
              "        buttonEl.style.display =\n",
              "          google.colab.kernel.accessAllowed ? 'block' : 'none';\n",
              "\n",
              "        async function convertToInteractive(key) {\n",
              "          const element = document.querySelector('#df-765953bb-cf03-49c7-8526-bd3bb1a63c87');\n",
              "          const dataTable =\n",
              "            await google.colab.kernel.invokeFunction('convertToInteractive',\n",
              "                                                     [key], {});\n",
              "          if (!dataTable) return;\n",
              "\n",
              "          const docLinkHtml = 'Like what you see? Visit the ' +\n",
              "            '<a target=\"_blank\" href=https://colab.research.google.com/notebooks/data_table.ipynb>data table notebook</a>'\n",
              "            + ' to learn more about interactive tables.';\n",
              "          element.innerHTML = '';\n",
              "          dataTable['output_type'] = 'display_data';\n",
              "          await google.colab.output.renderOutput(dataTable, element);\n",
              "          const docLink = document.createElement('div');\n",
              "          docLink.innerHTML = docLinkHtml;\n",
              "          element.appendChild(docLink);\n",
              "        }\n",
              "      </script>\n",
              "    </div>\n",
              "  </div>\n",
              "  "
            ]
          },
          "metadata": {},
          "execution_count": 10
        }
      ]
    },
    {
      "cell_type": "code",
      "source": [
        "length_count = session_length.groupby(session_length).size()\n",
        "length_percent_cumsum = length_count.cumsum()/length_count.sum()\n",
        "length_percent_cumsum_999 = length_percent_cumsum[length_percent_cumsum < 0.999]\n",
        "\n",
        "length_percent_cumsum_999"
      ],
      "metadata": {
        "colab": {
          "base_uri": "https://localhost:8080/"
        },
        "id": "q6c7sIsFNEPL",
        "outputId": "9591eb06-3ed3-4a1a-9c62-60ba0e5b421d"
      },
      "execution_count": 11,
      "outputs": [
        {
          "output_type": "execute_result",
          "data": {
            "text/plain": [
              "20      0.014238\n",
              "21      0.029305\n",
              "22      0.042053\n",
              "23      0.055464\n",
              "24      0.068874\n",
              "          ...   \n",
              "1271    0.998179\n",
              "1277    0.998344\n",
              "1286    0.998510\n",
              "1302    0.998675\n",
              "1323    0.998841\n",
              "Length: 736, dtype: float64"
            ]
          },
          "metadata": {},
          "execution_count": 11
        }
      ]
    },
    {
      "cell_type": "code",
      "source": [
        "import matplotlib.pyplot as plt\n",
        "\n",
        "plt.figure(figsize=(30,10))\n",
        "plt.bar(x=length_percent_cumsum_999.index,\n",
        "        height = length_percent_cumsum_999,color='red')\n",
        "plt.xticks(length_percent_cumsum_999.index)\n",
        "plt.yticks(np.arange(0,1.01,0.05))\n",
        "plt.title('Cumsum Percentage Until 00.999',size=20)\n",
        "plt.show()"
      ],
      "metadata": {
        "colab": {
          "base_uri": "https://localhost:8080/",
          "height": 612
        },
        "id": "mRSQKTzANEMz",
        "outputId": "e4e1d109-eca5-4254-c68f-0b32899f843f"
      },
      "execution_count": 12,
      "outputs": [
        {
          "output_type": "display_data",
          "data": {
            "text/plain": [
              "<Figure size 2160x720 with 1 Axes>"
            ],
            "image/png": "[encoded data removed]"
          },
          "metadata": {
            "needs_background": "light"
          }
        }
      ]
    },
    {
      "cell_type": "code",
      "source": [
        "oldest,latest = data['Time'].min(),data['Time'].max()\n",
        "print(oldest)\n",
        "print(latest)"
      ],
      "metadata": {
        "colab": {
          "base_uri": "https://localhost:8080/"
        },
        "id": "WGR-wPmQNEKK",
        "outputId": "913d52ca-dd70-4304-d339-1be7397fc279"
      },
      "execution_count": 13,
      "outputs": [
        {
          "output_type": "stream",
          "name": "stdout",
          "text": [
            "956703932\n",
            "1046454590\n"
          ]
        }
      ]
    },
    {
      "cell_type": "code",
      "source": [
        "type(latest)"
      ],
      "metadata": {
        "colab": {
          "base_uri": "https://localhost:8080/"
        },
        "id": "L0hOEiN5NEH-",
        "outputId": "56180a44-2239-4fa1-f3db-8cf0892d0f8a"
      },
      "execution_count": 14,
      "outputs": [
        {
          "output_type": "execute_result",
          "data": {
            "text/plain": [
              "int"
            ]
          },
          "metadata": {},
          "execution_count": 14
        }
      ]
    },
    {
      "cell_type": "code",
      "source": [
        "month_ago = latest - dt.timedelta(30)\n",
        "data = data[data['Time']> month_ago]\n",
        "data"
      ],
      "metadata": {
        "colab": {
          "base_uri": "https://localhost:8080/",
          "height": 201
        },
        "id": "ucWjCCaANEFD",
        "outputId": "a01394ee-024a-42a5-b3e8-96500c2e7f27"
      },
      "execution_count": 15,
      "outputs": [
        {
          "output_type": "error",
          "ename": "TypeError",
          "evalue": "ignored",
          "traceback": [
            "\u001b[0;31m---------------------------------------------------------------------------\u001b[0m",
            "\u001b[0;31mTypeError\u001b[0m                                 Traceback (most recent call last)",
            "\u001b[0;32m<ipython-input-15-ba05c4e2da91>\u001b[0m in \u001b[0;36m<module>\u001b[0;34m()\u001b[0m\n\u001b[0;32m----> 1\u001b[0;31m \u001b[0mmonth_ago\u001b[0m \u001b[0;34m=\u001b[0m \u001b[0mlatest\u001b[0m \u001b[0;34m-\u001b[0m \u001b[0mdt\u001b[0m\u001b[0;34m.\u001b[0m\u001b[0mtimedelta\u001b[0m\u001b[0;34m(\u001b[0m\u001b[0;36m30\u001b[0m\u001b[0;34m)\u001b[0m\u001b[0;34m\u001b[0m\u001b[0;34m\u001b[0m\u001b[0m\n\u001b[0m\u001b[1;32m      2\u001b[0m \u001b[0mdata\u001b[0m \u001b[0;34m=\u001b[0m \u001b[0mdata\u001b[0m\u001b[0;34m[\u001b[0m\u001b[0mdata\u001b[0m\u001b[0;34m[\u001b[0m\u001b[0;34m'Time'\u001b[0m\u001b[0;34m]\u001b[0m\u001b[0;34m>\u001b[0m \u001b[0mmonth_ago\u001b[0m\u001b[0;34m]\u001b[0m\u001b[0;34m\u001b[0m\u001b[0;34m\u001b[0m\u001b[0m\n\u001b[1;32m      3\u001b[0m \u001b[0mdata\u001b[0m\u001b[0;34m\u001b[0m\u001b[0;34m\u001b[0m\u001b[0m\n",
            "\u001b[0;31mTypeError\u001b[0m: unsupported operand type(s) for -: 'int' and 'datetime.timedelta'"
          ]
        }
      ]
    },
    {
      "cell_type": "markdown",
      "source": [
        "time 데이터 에 대해 오류가 발생 한다 -1 "
      ],
      "metadata": {
        "id": "ZJ5n5YYmhUNQ"
      }
    },
    {
      "cell_type": "code",
      "source": [
        "# short_session을 제거한 다음 unpopular item을 제거하면 다시 길이가 1인 session이 생길 수 있습니다.\n",
        "# 이를 위해 반복문을 통해 지속적으로 제거 합니다.\n",
        "def cleanse_recursive(data: pd.DataFrame, shortest, least_click) -> pd.DataFrame:\n",
        "    while True:\n",
        "        before_len = len(data)\n",
        "        data = cleanse_short_session(data, shortest)\n",
        "        data = cleanse_unpopular_item(data, least_click)\n",
        "        after_len = len(data)\n",
        "        if before_len == after_len:\n",
        "            break\n",
        "    return data\n",
        "\n",
        "\n",
        "def cleanse_short_session(data: pd.DataFrame, shortest):\n",
        "    session_len = data.groupby('UserId').size()\n",
        "    session_use = session_len[session_len >= shortest].index\n",
        "    data = data[data['UserId'].isin(session_use)]\n",
        "    return data\n",
        "\n",
        "\n",
        "def cleanse_unpopular_item(data: pd.DataFrame, least_click):\n",
        "    item_popular = data.groupby('ItemId').size()\n",
        "    item_use = item_popular[item_popular >= least_click].index\n",
        "    data = data[data['ItemId'].isin(item_use)]\n",
        "    return data"
      ],
      "metadata": {
        "id": "V21UGg4KNECf"
      },
      "execution_count": 16,
      "outputs": []
    },
    {
      "cell_type": "code",
      "source": [
        "data = cleanse_recursive(data, shortest=2, least_click=5)\n",
        "data"
      ],
      "metadata": {
        "colab": {
          "base_uri": "https://localhost:8080/",
          "height": 424
        },
        "id": "p_4XiwH_ND_z",
        "outputId": "86575141-52e1-458d-f9c9-556982ba6d48"
      },
      "execution_count": 17,
      "outputs": [
        {
          "output_type": "execute_result",
          "data": {
            "text/plain": [
              "         UserId  ItemId  Rating       Time\n",
              "31            1    3186       4  978300019\n",
              "22            1    1270       5  978300055\n",
              "27            1    1721       4  978300055\n",
              "37            1    1022       5  978300055\n",
              "24            1    2340       3  978300103\n",
              "...         ...     ...     ...        ...\n",
              "1000019    6040    2917       4  997454429\n",
              "999988     6040    1921       4  997454464\n",
              "1000172    6040    1784       3  997454464\n",
              "1000167    6040     161       3  997454486\n",
              "1000042    6040    1221       4  998315055\n",
              "\n",
              "[999611 rows x 4 columns]"
            ],
            "text/html": [
              "\n",
              "  <div id=\"df-0c437f37-8cd2-4e77-b0b5-8b240be5ccab\">\n",
              "    <div class=\"colab-df-container\">\n",
              "      <div>\n",
              "<style scoped>\n",
              "    .dataframe tbody tr th:only-of-type {\n",
              "        vertical-align: middle;\n",
              "    }\n",
              "\n",
              "    .dataframe tbody tr th {\n",
              "        vertical-align: top;\n",
              "    }\n",
              "\n",
              "    .dataframe thead th {\n",
              "        text-align: right;\n",
              "    }\n",
              "</style>\n",
              "<table border=\"1\" class=\"dataframe\">\n",
              "  <thead>\n",
              "    <tr style=\"text-align: right;\">\n",
              "      <th></th>\n",
              "      <th>UserId</th>\n",
              "      <th>ItemId</th>\n",
              "      <th>Rating</th>\n",
              "      <th>Time</th>\n",
              "    </tr>\n",
              "  </thead>\n",
              "  <tbody>\n",
              "    <tr>\n",
              "      <th>31</th>\n",
              "      <td>1</td>\n",
              "      <td>3186</td>\n",
              "      <td>4</td>\n",
              "      <td>978300019</td>\n",
              "    </tr>\n",
              "    <tr>\n",
              "      <th>22</th>\n",
              "      <td>1</td>\n",
              "      <td>1270</td>\n",
              "      <td>5</td>\n",
              "      <td>978300055</td>\n",
              "    </tr>\n",
              "    <tr>\n",
              "      <th>27</th>\n",
              "      <td>1</td>\n",
              "      <td>1721</td>\n",
              "      <td>4</td>\n",
              "      <td>978300055</td>\n",
              "    </tr>\n",
              "    <tr>\n",
              "      <th>37</th>\n",
              "      <td>1</td>\n",
              "      <td>1022</td>\n",
              "      <td>5</td>\n",
              "      <td>978300055</td>\n",
              "    </tr>\n",
              "    <tr>\n",
              "      <th>24</th>\n",
              "      <td>1</td>\n",
              "      <td>2340</td>\n",
              "      <td>3</td>\n",
              "      <td>978300103</td>\n",
              "    </tr>\n",
              "    <tr>\n",
              "      <th>...</th>\n",
              "      <td>...</td>\n",
              "      <td>...</td>\n",
              "      <td>...</td>\n",
              "      <td>...</td>\n",
              "    </tr>\n",
              "    <tr>\n",
              "      <th>1000019</th>\n",
              "      <td>6040</td>\n",
              "      <td>2917</td>\n",
              "      <td>4</td>\n",
              "      <td>997454429</td>\n",
              "    </tr>\n",
              "    <tr>\n",
              "      <th>999988</th>\n",
              "      <td>6040</td>\n",
              "      <td>1921</td>\n",
              "      <td>4</td>\n",
              "      <td>997454464</td>\n",
              "    </tr>\n",
              "    <tr>\n",
              "      <th>1000172</th>\n",
              "      <td>6040</td>\n",
              "      <td>1784</td>\n",
              "      <td>3</td>\n",
              "      <td>997454464</td>\n",
              "    </tr>\n",
              "    <tr>\n",
              "      <th>1000167</th>\n",
              "      <td>6040</td>\n",
              "      <td>161</td>\n",
              "      <td>3</td>\n",
              "      <td>997454486</td>\n",
              "    </tr>\n",
              "    <tr>\n",
              "      <th>1000042</th>\n",
              "      <td>6040</td>\n",
              "      <td>1221</td>\n",
              "      <td>4</td>\n",
              "      <td>998315055</td>\n",
              "    </tr>\n",
              "  </tbody>\n",
              "</table>\n",
              "<p>999611 rows × 4 columns</p>\n",
              "</div>\n",
              "      <button class=\"colab-df-convert\" onclick=\"convertToInteractive('df-0c437f37-8cd2-4e77-b0b5-8b240be5ccab')\"\n",
              "              title=\"Convert this dataframe to an interactive table.\"\n",
              "              style=\"display:none;\">\n",
              "        \n",
              "  <svg xmlns=\"http://www.w3.org/2000/svg\" height=\"24px\"viewBox=\"0 0 24 24\"\n",
              "       width=\"24px\">\n",
              "    <path d=\"M0 0h24v24H0V0z\" fill=\"none\"/>\n",
              "    <path d=\"M18.56 5.44l.94 2.06.94-2.06 2.06-.94-2.06-.94-.94-2.06-.94 2.06-2.06.94zm-11 1L8.5 8.5l.94-2.06 2.06-.94-2.06-.94L8.5 2.5l-.94 2.06-2.06.94zm10 10l.94 2.06.94-2.06 2.06-.94-2.06-.94-.94-2.06-.94 2.06-2.06.94z\"/><path d=\"M17.41 7.96l-1.37-1.37c-.4-.4-.92-.59-1.43-.59-.52 0-1.04.2-1.43.59L10.3 9.45l-7.72 7.72c-.78.78-.78 2.05 0 2.83L4 21.41c.39.39.9.59 1.41.59.51 0 1.02-.2 1.41-.59l7.78-7.78 2.81-2.81c.8-.78.8-2.07 0-2.86zM5.41 20L4 18.59l7.72-7.72 1.47 1.35L5.41 20z\"/>\n",
              "  </svg>\n",
              "      </button>\n",
              "      \n",
              "  <style>\n",
              "    .colab-df-container {\n",
              "      display:flex;\n",
              "      flex-wrap:wrap;\n",
              "      gap: 12px;\n",
              "    }\n",
              "\n",
              "    .colab-df-convert {\n",
              "      background-color: #E8F0FE;\n",
              "      border: none;\n",
              "      border-radius: 50%;\n",
              "      cursor: pointer;\n",
              "      display: none;\n",
              "      fill: #1967D2;\n",
              "      height: 32px;\n",
              "      padding: 0 0 0 0;\n",
              "      width: 32px;\n",
              "    }\n",
              "\n",
              "    .colab-df-convert:hover {\n",
              "      background-color: #E2EBFA;\n",
              "      box-shadow: 0px 1px 2px rgba(60, 64, 67, 0.3), 0px 1px 3px 1px rgba(60, 64, 67, 0.15);\n",
              "      fill: #174EA6;\n",
              "    }\n",
              "\n",
              "    [theme=dark] .colab-df-convert {\n",
              "      background-color: #3B4455;\n",
              "      fill: #D2E3FC;\n",
              "    }\n",
              "\n",
              "    [theme=dark] .colab-df-convert:hover {\n",
              "      background-color: #434B5C;\n",
              "      box-shadow: 0px 1px 3px 1px rgba(0, 0, 0, 0.15);\n",
              "      filter: drop-shadow(0px 1px 2px rgba(0, 0, 0, 0.3));\n",
              "      fill: #FFFFFF;\n",
              "    }\n",
              "  </style>\n",
              "\n",
              "      <script>\n",
              "        const buttonEl =\n",
              "          document.querySelector('#df-0c437f37-8cd2-4e77-b0b5-8b240be5ccab button.colab-df-convert');\n",
              "        buttonEl.style.display =\n",
              "          google.colab.kernel.accessAllowed ? 'block' : 'none';\n",
              "\n",
              "        async function convertToInteractive(key) {\n",
              "          const element = document.querySelector('#df-0c437f37-8cd2-4e77-b0b5-8b240be5ccab');\n",
              "          const dataTable =\n",
              "            await google.colab.kernel.invokeFunction('convertToInteractive',\n",
              "                                                     [key], {});\n",
              "          if (!dataTable) return;\n",
              "\n",
              "          const docLinkHtml = 'Like what you see? Visit the ' +\n",
              "            '<a target=\"_blank\" href=https://colab.research.google.com/notebooks/data_table.ipynb>data table notebook</a>'\n",
              "            + ' to learn more about interactive tables.';\n",
              "          element.innerHTML = '';\n",
              "          dataTable['output_type'] = 'display_data';\n",
              "          await google.colab.output.renderOutput(dataTable, element);\n",
              "          const docLink = document.createElement('div');\n",
              "          docLink.innerHTML = docLinkHtml;\n",
              "          element.appendChild(docLink);\n",
              "        }\n",
              "      </script>\n",
              "    </div>\n",
              "  </div>\n",
              "  "
            ]
          },
          "metadata": {},
          "execution_count": 17
        }
      ]
    },
    {
      "cell_type": "code",
      "source": [
        "# test_path = data_path / 'ratings.dat'\n",
        "# test= load_data(test_path)\n",
        "test = load_data(train_path)\n",
        "test['Time'].min(), test['Time'].max()"
      ],
      "metadata": {
        "colab": {
          "base_uri": "https://localhost:8080/"
        },
        "id": "nSUmosHuND8r",
        "outputId": "0544f403-4944-46d1-9b31-40d34ea5f374"
      },
      "execution_count": 18,
      "outputs": [
        {
          "output_type": "execute_result",
          "data": {
            "text/plain": [
              "(956703932, 1046454590)"
            ]
          },
          "metadata": {},
          "execution_count": 18
        }
      ]
    },
    {
      "cell_type": "code",
      "source": [
        "def split_by_date(data: pd.DataFrame, n_days: int):\n",
        "    final_time = data['Time'].max()\n",
        "    session_last_time = data.groupby('UserId')['Time'].max()\n",
        "    session_in_train = session_last_time[session_last_time < final_time - dt.timedelta(n_days)].index\n",
        "    session_in_test = session_last_time[session_last_time >= final_time - dt.timedelta(n_days)].index\n",
        "\n",
        "    before_date = data[data['UserId'].isin(session_in_train)]\n",
        "    after_date = data[data['UserId'].isin(session_in_test)]\n",
        "    after_date = after_date[after_date['ItemId'].isin(before_date['ItemId'])]\n",
        "    return before_date, after_date"
      ],
      "metadata": {
        "id": "o7Q6bhgHQZ3V"
      },
      "execution_count": 19,
      "outputs": []
    },
    {
      "cell_type": "code",
      "source": [
        "tr, test = split_by_date(data, n_days=180)\n",
        "tr, val = split_by_date(tr, n_days=180)"
      ],
      "metadata": {
        "colab": {
          "base_uri": "https://localhost:8080/",
          "height": 305
        },
        "id": "d3kObYF3QzhG",
        "outputId": "f9080929-6cda-4bea-8237-1925c3b75d30"
      },
      "execution_count": 20,
      "outputs": [
        {
          "output_type": "error",
          "ename": "TypeError",
          "evalue": "ignored",
          "traceback": [
            "\u001b[0;31m---------------------------------------------------------------------------\u001b[0m",
            "\u001b[0;31mTypeError\u001b[0m                                 Traceback (most recent call last)",
            "\u001b[0;32m<ipython-input-20-416c2f14acdc>\u001b[0m in \u001b[0;36m<module>\u001b[0;34m()\u001b[0m\n\u001b[0;32m----> 1\u001b[0;31m \u001b[0mtr\u001b[0m\u001b[0;34m,\u001b[0m \u001b[0mtest\u001b[0m \u001b[0;34m=\u001b[0m \u001b[0msplit_by_date\u001b[0m\u001b[0;34m(\u001b[0m\u001b[0mdata\u001b[0m\u001b[0;34m,\u001b[0m \u001b[0mn_days\u001b[0m\u001b[0;34m=\u001b[0m\u001b[0;36m180\u001b[0m\u001b[0;34m)\u001b[0m\u001b[0;34m\u001b[0m\u001b[0;34m\u001b[0m\u001b[0m\n\u001b[0m\u001b[1;32m      2\u001b[0m \u001b[0mtr\u001b[0m\u001b[0;34m,\u001b[0m \u001b[0mval\u001b[0m \u001b[0;34m=\u001b[0m \u001b[0msplit_by_date\u001b[0m\u001b[0;34m(\u001b[0m\u001b[0mtr\u001b[0m\u001b[0;34m,\u001b[0m \u001b[0mn_days\u001b[0m\u001b[0;34m=\u001b[0m\u001b[0;36m180\u001b[0m\u001b[0;34m)\u001b[0m\u001b[0;34m\u001b[0m\u001b[0;34m\u001b[0m\u001b[0m\n",
            "\u001b[0;32m<ipython-input-19-fba08c22880b>\u001b[0m in \u001b[0;36msplit_by_date\u001b[0;34m(data, n_days)\u001b[0m\n\u001b[1;32m      2\u001b[0m     \u001b[0mfinal_time\u001b[0m \u001b[0;34m=\u001b[0m \u001b[0mdata\u001b[0m\u001b[0;34m[\u001b[0m\u001b[0;34m'Time'\u001b[0m\u001b[0;34m]\u001b[0m\u001b[0;34m.\u001b[0m\u001b[0mmax\u001b[0m\u001b[0;34m(\u001b[0m\u001b[0;34m)\u001b[0m\u001b[0;34m\u001b[0m\u001b[0;34m\u001b[0m\u001b[0m\n\u001b[1;32m      3\u001b[0m     \u001b[0msession_last_time\u001b[0m \u001b[0;34m=\u001b[0m \u001b[0mdata\u001b[0m\u001b[0;34m.\u001b[0m\u001b[0mgroupby\u001b[0m\u001b[0;34m(\u001b[0m\u001b[0;34m'UserId'\u001b[0m\u001b[0;34m)\u001b[0m\u001b[0;34m[\u001b[0m\u001b[0;34m'Time'\u001b[0m\u001b[0;34m]\u001b[0m\u001b[0;34m.\u001b[0m\u001b[0mmax\u001b[0m\u001b[0;34m(\u001b[0m\u001b[0;34m)\u001b[0m\u001b[0;34m\u001b[0m\u001b[0;34m\u001b[0m\u001b[0m\n\u001b[0;32m----> 4\u001b[0;31m     \u001b[0msession_in_train\u001b[0m \u001b[0;34m=\u001b[0m \u001b[0msession_last_time\u001b[0m\u001b[0;34m[\u001b[0m\u001b[0msession_last_time\u001b[0m \u001b[0;34m<\u001b[0m \u001b[0mfinal_time\u001b[0m \u001b[0;34m-\u001b[0m \u001b[0mdt\u001b[0m\u001b[0;34m.\u001b[0m\u001b[0mtimedelta\u001b[0m\u001b[0;34m(\u001b[0m\u001b[0mn_days\u001b[0m\u001b[0;34m)\u001b[0m\u001b[0;34m]\u001b[0m\u001b[0;34m.\u001b[0m\u001b[0mindex\u001b[0m\u001b[0;34m\u001b[0m\u001b[0;34m\u001b[0m\u001b[0m\n\u001b[0m\u001b[1;32m      5\u001b[0m     \u001b[0msession_in_test\u001b[0m \u001b[0;34m=\u001b[0m \u001b[0msession_last_time\u001b[0m\u001b[0;34m[\u001b[0m\u001b[0msession_last_time\u001b[0m \u001b[0;34m>=\u001b[0m \u001b[0mfinal_time\u001b[0m \u001b[0;34m-\u001b[0m \u001b[0mdt\u001b[0m\u001b[0;34m.\u001b[0m\u001b[0mtimedelta\u001b[0m\u001b[0;34m(\u001b[0m\u001b[0mn_days\u001b[0m\u001b[0;34m)\u001b[0m\u001b[0;34m]\u001b[0m\u001b[0;34m.\u001b[0m\u001b[0mindex\u001b[0m\u001b[0;34m\u001b[0m\u001b[0;34m\u001b[0m\u001b[0m\n\u001b[1;32m      6\u001b[0m \u001b[0;34m\u001b[0m\u001b[0m\n",
            "\u001b[0;31mTypeError\u001b[0m: unsupported operand type(s) for -: 'int' and 'datetime.timedelta'"
          ]
        }
      ]
    },
    {
      "cell_type": "markdown",
      "source": [
        "time 데이터 오류 2 "
      ],
      "metadata": {
        "id": "ok4lnYQyhYrH"
      }
    },
    {
      "cell_type": "markdown",
      "source": [
        "time 을 date time 의 형식으로 바꿔준다 -> 오류 해결 ! "
      ],
      "metadata": {
        "id": "H0cfJxmlhcP8"
      }
    },
    {
      "cell_type": "code",
      "source": [
        "data['Datetime'] = '1970-01-01 00:00:00'\n",
        "data['Datetime'] = pd.to_datetime(data['Datetime'], format=\"%Y-%m-%d %H:%M:%S\")\n",
        "data.Datetime = data.Datetime + data.Time.map(lambda x : dt.timedelta(seconds=x))\n",
        "data = data.drop(['Time','Rating'], axis=1)"
      ],
      "metadata": {
        "id": "_NlHlb1qQze1"
      },
      "execution_count": 21,
      "outputs": []
    },
    {
      "cell_type": "code",
      "source": [
        "data"
      ],
      "metadata": {
        "colab": {
          "base_uri": "https://localhost:8080/",
          "height": 424
        },
        "id": "TuArpiCxQzcm",
        "outputId": "5d2bd32b-ff9a-4236-a4f7-21af9ccd9f0a"
      },
      "execution_count": 22,
      "outputs": [
        {
          "output_type": "execute_result",
          "data": {
            "text/plain": [
              "         UserId  ItemId            Datetime\n",
              "31            1    3186 2000-12-31 22:00:19\n",
              "22            1    1270 2000-12-31 22:00:55\n",
              "27            1    1721 2000-12-31 22:00:55\n",
              "37            1    1022 2000-12-31 22:00:55\n",
              "24            1    2340 2000-12-31 22:01:43\n",
              "...         ...     ...                 ...\n",
              "1000019    6040    2917 2001-08-10 14:40:29\n",
              "999988     6040    1921 2001-08-10 14:41:04\n",
              "1000172    6040    1784 2001-08-10 14:41:04\n",
              "1000167    6040     161 2001-08-10 14:41:26\n",
              "1000042    6040    1221 2001-08-20 13:44:15\n",
              "\n",
              "[999611 rows x 3 columns]"
            ],
            "text/html": [
              "\n",
              "  <div id=\"df-ca03df56-53d6-4b92-a7c8-4391206d1c20\">\n",
              "    <div class=\"colab-df-container\">\n",
              "      <div>\n",
              "<style scoped>\n",
              "    .dataframe tbody tr th:only-of-type {\n",
              "        vertical-align: middle;\n",
              "    }\n",
              "\n",
              "    .dataframe tbody tr th {\n",
              "        vertical-align: top;\n",
              "    }\n",
              "\n",
              "    .dataframe thead th {\n",
              "        text-align: right;\n",
              "    }\n",
              "</style>\n",
              "<table border=\"1\" class=\"dataframe\">\n",
              "  <thead>\n",
              "    <tr style=\"text-align: right;\">\n",
              "      <th></th>\n",
              "      <th>UserId</th>\n",
              "      <th>ItemId</th>\n",
              "      <th>Datetime</th>\n",
              "    </tr>\n",
              "  </thead>\n",
              "  <tbody>\n",
              "    <tr>\n",
              "      <th>31</th>\n",
              "      <td>1</td>\n",
              "      <td>3186</td>\n",
              "      <td>2000-12-31 22:00:19</td>\n",
              "    </tr>\n",
              "    <tr>\n",
              "      <th>22</th>\n",
              "      <td>1</td>\n",
              "      <td>1270</td>\n",
              "      <td>2000-12-31 22:00:55</td>\n",
              "    </tr>\n",
              "    <tr>\n",
              "      <th>27</th>\n",
              "      <td>1</td>\n",
              "      <td>1721</td>\n",
              "      <td>2000-12-31 22:00:55</td>\n",
              "    </tr>\n",
              "    <tr>\n",
              "      <th>37</th>\n",
              "      <td>1</td>\n",
              "      <td>1022</td>\n",
              "      <td>2000-12-31 22:00:55</td>\n",
              "    </tr>\n",
              "    <tr>\n",
              "      <th>24</th>\n",
              "      <td>1</td>\n",
              "      <td>2340</td>\n",
              "      <td>2000-12-31 22:01:43</td>\n",
              "    </tr>\n",
              "    <tr>\n",
              "      <th>...</th>\n",
              "      <td>...</td>\n",
              "      <td>...</td>\n",
              "      <td>...</td>\n",
              "    </tr>\n",
              "    <tr>\n",
              "      <th>1000019</th>\n",
              "      <td>6040</td>\n",
              "      <td>2917</td>\n",
              "      <td>2001-08-10 14:40:29</td>\n",
              "    </tr>\n",
              "    <tr>\n",
              "      <th>999988</th>\n",
              "      <td>6040</td>\n",
              "      <td>1921</td>\n",
              "      <td>2001-08-10 14:41:04</td>\n",
              "    </tr>\n",
              "    <tr>\n",
              "      <th>1000172</th>\n",
              "      <td>6040</td>\n",
              "      <td>1784</td>\n",
              "      <td>2001-08-10 14:41:04</td>\n",
              "    </tr>\n",
              "    <tr>\n",
              "      <th>1000167</th>\n",
              "      <td>6040</td>\n",
              "      <td>161</td>\n",
              "      <td>2001-08-10 14:41:26</td>\n",
              "    </tr>\n",
              "    <tr>\n",
              "      <th>1000042</th>\n",
              "      <td>6040</td>\n",
              "      <td>1221</td>\n",
              "      <td>2001-08-20 13:44:15</td>\n",
              "    </tr>\n",
              "  </tbody>\n",
              "</table>\n",
              "<p>999611 rows × 3 columns</p>\n",
              "</div>\n",
              "      <button class=\"colab-df-convert\" onclick=\"convertToInteractive('df-ca03df56-53d6-4b92-a7c8-4391206d1c20')\"\n",
              "              title=\"Convert this dataframe to an interactive table.\"\n",
              "              style=\"display:none;\">\n",
              "        \n",
              "  <svg xmlns=\"http://www.w3.org/2000/svg\" height=\"24px\"viewBox=\"0 0 24 24\"\n",
              "       width=\"24px\">\n",
              "    <path d=\"M0 0h24v24H0V0z\" fill=\"none\"/>\n",
              "    <path d=\"M18.56 5.44l.94 2.06.94-2.06 2.06-.94-2.06-.94-.94-2.06-.94 2.06-2.06.94zm-11 1L8.5 8.5l.94-2.06 2.06-.94-2.06-.94L8.5 2.5l-.94 2.06-2.06.94zm10 10l.94 2.06.94-2.06 2.06-.94-2.06-.94-.94-2.06-.94 2.06-2.06.94z\"/><path d=\"M17.41 7.96l-1.37-1.37c-.4-.4-.92-.59-1.43-.59-.52 0-1.04.2-1.43.59L10.3 9.45l-7.72 7.72c-.78.78-.78 2.05 0 2.83L4 21.41c.39.39.9.59 1.41.59.51 0 1.02-.2 1.41-.59l7.78-7.78 2.81-2.81c.8-.78.8-2.07 0-2.86zM5.41 20L4 18.59l7.72-7.72 1.47 1.35L5.41 20z\"/>\n",
              "  </svg>\n",
              "      </button>\n",
              "      \n",
              "  <style>\n",
              "    .colab-df-container {\n",
              "      display:flex;\n",
              "      flex-wrap:wrap;\n",
              "      gap: 12px;\n",
              "    }\n",
              "\n",
              "    .colab-df-convert {\n",
              "      background-color: #E8F0FE;\n",
              "      border: none;\n",
              "      border-radius: 50%;\n",
              "      cursor: pointer;\n",
              "      display: none;\n",
              "      fill: #1967D2;\n",
              "      height: 32px;\n",
              "      padding: 0 0 0 0;\n",
              "      width: 32px;\n",
              "    }\n",
              "\n",
              "    .colab-df-convert:hover {\n",
              "      background-color: #E2EBFA;\n",
              "      box-shadow: 0px 1px 2px rgba(60, 64, 67, 0.3), 0px 1px 3px 1px rgba(60, 64, 67, 0.15);\n",
              "      fill: #174EA6;\n",
              "    }\n",
              "\n",
              "    [theme=dark] .colab-df-convert {\n",
              "      background-color: #3B4455;\n",
              "      fill: #D2E3FC;\n",
              "    }\n",
              "\n",
              "    [theme=dark] .colab-df-convert:hover {\n",
              "      background-color: #434B5C;\n",
              "      box-shadow: 0px 1px 3px 1px rgba(0, 0, 0, 0.15);\n",
              "      filter: drop-shadow(0px 1px 2px rgba(0, 0, 0, 0.3));\n",
              "      fill: #FFFFFF;\n",
              "    }\n",
              "  </style>\n",
              "\n",
              "      <script>\n",
              "        const buttonEl =\n",
              "          document.querySelector('#df-ca03df56-53d6-4b92-a7c8-4391206d1c20 button.colab-df-convert');\n",
              "        buttonEl.style.display =\n",
              "          google.colab.kernel.accessAllowed ? 'block' : 'none';\n",
              "\n",
              "        async function convertToInteractive(key) {\n",
              "          const element = document.querySelector('#df-ca03df56-53d6-4b92-a7c8-4391206d1c20');\n",
              "          const dataTable =\n",
              "            await google.colab.kernel.invokeFunction('convertToInteractive',\n",
              "                                                     [key], {});\n",
              "          if (!dataTable) return;\n",
              "\n",
              "          const docLinkHtml = 'Like what you see? Visit the ' +\n",
              "            '<a target=\"_blank\" href=https://colab.research.google.com/notebooks/data_table.ipynb>data table notebook</a>'\n",
              "            + ' to learn more about interactive tables.';\n",
              "          element.innerHTML = '';\n",
              "          dataTable['output_type'] = 'display_data';\n",
              "          await google.colab.output.renderOutput(dataTable, element);\n",
              "          const docLink = document.createElement('div');\n",
              "          docLink.innerHTML = docLinkHtml;\n",
              "          element.appendChild(docLink);\n",
              "        }\n",
              "      </script>\n",
              "    </div>\n",
              "  </div>\n",
              "  "
            ]
          },
          "metadata": {},
          "execution_count": 22
        }
      ]
    },
    {
      "cell_type": "code",
      "source": [
        "def split_by_date(data: pd.DataFrame, n_days: int):\n",
        "    final_time = data['Datetime'].max()\n",
        "    user_last_time = data.groupby('UserId')['Datetime'].max().sort_values()\n",
        "    user_in_train = data[data['Datetime'] < final_time - dt.timedelta(n_days)]\n",
        "    user_in_test = data[data['Datetime'] >= final_time - dt.timedelta(n_days)]\n",
        "    \n",
        "    before_date = user_in_train\n",
        "    after_date = user_in_test\n",
        "    return before_date, after_date"
      ],
      "metadata": {
        "id": "G-wF2gYUQzaE"
      },
      "execution_count": 23,
      "outputs": []
    },
    {
      "cell_type": "code",
      "source": [
        "tr, test = split_by_date(data, n_days=180)\n",
        "tr, val = split_by_date(tr, n_days=180)"
      ],
      "metadata": {
        "id": "Kdl-o5WDQzXt"
      },
      "execution_count": 24,
      "outputs": []
    },
    {
      "cell_type": "code",
      "source": [
        "# data에 대한 정보를 살펴봅니다.\n",
        "def stats_info(data: pd.DataFrame, status: str):\n",
        "    print(f'* {status} Set Stats Info\\n'\n",
        "          f'\\t Events: {len(data)}\\n'\n",
        "          f'\\t Users: {data[\"UserId\"].nunique()}\\n'\n",
        "          f'\\t Items: {data[\"ItemId\"].nunique()}\\n'\n",
        "          f'\\t First Time : {data[\"Datetime\"].min()}\\n'\n",
        "          f'\\t Last Time : {data[\"Datetime\"].max()}\\n')"
      ],
      "metadata": {
        "id": "00__2Zr0QzU1"
      },
      "execution_count": 25,
      "outputs": []
    },
    {
      "cell_type": "code",
      "source": [
        "stats_info(tr, 'train')\n",
        "stats_info(val, 'valid')\n",
        "stats_info(test, 'test')"
      ],
      "metadata": {
        "colab": {
          "base_uri": "https://localhost:8080/"
        },
        "id": "13IyH5_yRLUE",
        "outputId": "12522644-62ff-4ae0-c5ea-5da6984cfe2f"
      },
      "execution_count": 26,
      "outputs": [
        {
          "output_type": "stream",
          "name": "stdout",
          "text": [
            "* train Set Stats Info\n",
            "\t Events: 978534\n",
            "\t Users: 6038\n",
            "\t Items: 3416\n",
            "\t First Time : 2000-04-25 23:05:32\n",
            "\t Last Time : 2002-03-05 04:19:56\n",
            "\n",
            "* valid Set Stats Info\n",
            "\t Events: 12271\n",
            "\t Users: 399\n",
            "\t Items: 2606\n",
            "\t First Time : 2002-03-05 04:21:07\n",
            "\t Last Time : 2002-09-01 04:20:59\n",
            "\n",
            "* test Set Stats Info\n",
            "\t Events: 8806\n",
            "\t Users: 339\n",
            "\t Items: 2317\n",
            "\t First Time : 2002-09-01 19:41:39\n",
            "\t Last Time : 2003-02-28 17:49:50\n",
            "\n"
          ]
        }
      ]
    },
    {
      "cell_type": "code",
      "source": [
        "# train set에 없는 아이템이 val, test기간에 생길 수 있으므로 train data를 기준으로 인덱싱합니다.\n",
        "id2idx = {item_id : index for index, item_id in enumerate(tr['ItemId'].unique())}\n",
        "\n",
        "def indexing(df, id2idx):\n",
        "    df['item_idx'] = df['ItemId'].map(lambda x: id2idx.get(x, -1))  # id2idx에 없는 아이템은 모르는 값(-1) 처리 해줍니다.\n",
        "    return df\n",
        "\n",
        "tr = indexing(tr, id2idx)\n",
        "val = indexing(val, id2idx)\n",
        "test = indexing(test, id2idx)"
      ],
      "metadata": {
        "id": "BZuc_DAZRLRG"
      },
      "execution_count": 27,
      "outputs": []
    },
    {
      "cell_type": "code",
      "source": [
        "save_path = data_path / 'processed'\n",
        "save_path.mkdir(parents=True, exist_ok=True)\n",
        "\n",
        "tr.to_pickle(save_path / 'train.pkl')\n",
        "val.to_pickle(save_path / 'valid.pkl')\n",
        "test.to_pickle(save_path / 'test.pkl')"
      ],
      "metadata": {
        "id": "1Idw0rSqRLLb"
      },
      "execution_count": 28,
      "outputs": []
    },
    {
      "cell_type": "markdown",
      "source": [
        "STEP 2 : 미니 배치의 구성\n",
        "- 데이터셋과 미니배치를 구성\n",
        "- 학습 속도의 저하가 최소화 될 수 있도록 session-parallel Mini-batch 구성 \n"
      ],
      "metadata": {
        "id": "Y2_qGAD_h7DV"
      }
    },
    {
      "cell_type": "code",
      "source": [
        "class SessionDataset:\n",
        "    \"\"\"Credit to yhs-968/pyGRU4REC.\"\"\"\n",
        "\n",
        "    def __init__(self, data):\n",
        "        self.df = data\n",
        "        self.click_offsets = self.get_click_offsets()\n",
        "        self.session_idx = np.arange(self.df['UserId'].nunique())  # indexing to SessionId\n",
        "\n",
        "    def get_click_offsets(self):\n",
        "        \"\"\"\n",
        "        Return the indexes of the first click of each session IDs,\n",
        "        \"\"\"\n",
        "        offsets = np.zeros(self.df['UserId'].nunique() + 1, dtype=np.int32)\n",
        "        offsets[1:] = self.df.groupby('UserId').size().cumsum()\n",
        "        return offsets"
      ],
      "metadata": {
        "id": "6lrrM1lpRLF8"
      },
      "execution_count": 29,
      "outputs": []
    },
    {
      "cell_type": "code",
      "source": [
        "tr_dataset = SessionDataset(tr)\n",
        "tr_dataset.df.head(10)"
      ],
      "metadata": {
        "colab": {
          "base_uri": "https://localhost:8080/",
          "height": 363
        },
        "id": "GE2c_yPXRLDU",
        "outputId": "21b577ff-24ff-4275-a91c-9fded150facb"
      },
      "execution_count": 30,
      "outputs": [
        {
          "output_type": "execute_result",
          "data": {
            "text/plain": [
              "    UserId  ItemId            Datetime  item_idx\n",
              "31       1    3186 2000-12-31 22:00:19         0\n",
              "22       1    1270 2000-12-31 22:00:55         1\n",
              "27       1    1721 2000-12-31 22:00:55         2\n",
              "37       1    1022 2000-12-31 22:00:55         3\n",
              "24       1    2340 2000-12-31 22:01:43         4\n",
              "36       1    1836 2000-12-31 22:02:52         5\n",
              "3        1    3408 2000-12-31 22:04:35         6\n",
              "7        1    2804 2000-12-31 22:11:59         7\n",
              "47       1    1207 2000-12-31 22:11:59         8\n",
              "0        1    1193 2000-12-31 22:12:40         9"
            ],
            "text/html": [
              "\n",
              "  <div id=\"df-03027f38-45b1-40bd-abb1-660af3d14ef7\">\n",
              "    <div class=\"colab-df-container\">\n",
              "      <div>\n",
              "<style scoped>\n",
              "    .dataframe tbody tr th:only-of-type {\n",
              "        vertical-align: middle;\n",
              "    }\n",
              "\n",
              "    .dataframe tbody tr th {\n",
              "        vertical-align: top;\n",
              "    }\n",
              "\n",
              "    .dataframe thead th {\n",
              "        text-align: right;\n",
              "    }\n",
              "</style>\n",
              "<table border=\"1\" class=\"dataframe\">\n",
              "  <thead>\n",
              "    <tr style=\"text-align: right;\">\n",
              "      <th></th>\n",
              "      <th>UserId</th>\n",
              "      <th>ItemId</th>\n",
              "      <th>Datetime</th>\n",
              "      <th>item_idx</th>\n",
              "    </tr>\n",
              "  </thead>\n",
              "  <tbody>\n",
              "    <tr>\n",
              "      <th>31</th>\n",
              "      <td>1</td>\n",
              "      <td>3186</td>\n",
              "      <td>2000-12-31 22:00:19</td>\n",
              "      <td>0</td>\n",
              "    </tr>\n",
              "    <tr>\n",
              "      <th>22</th>\n",
              "      <td>1</td>\n",
              "      <td>1270</td>\n",
              "      <td>2000-12-31 22:00:55</td>\n",
              "      <td>1</td>\n",
              "    </tr>\n",
              "    <tr>\n",
              "      <th>27</th>\n",
              "      <td>1</td>\n",
              "      <td>1721</td>\n",
              "      <td>2000-12-31 22:00:55</td>\n",
              "      <td>2</td>\n",
              "    </tr>\n",
              "    <tr>\n",
              "      <th>37</th>\n",
              "      <td>1</td>\n",
              "      <td>1022</td>\n",
              "      <td>2000-12-31 22:00:55</td>\n",
              "      <td>3</td>\n",
              "    </tr>\n",
              "    <tr>\n",
              "      <th>24</th>\n",
              "      <td>1</td>\n",
              "      <td>2340</td>\n",
              "      <td>2000-12-31 22:01:43</td>\n",
              "      <td>4</td>\n",
              "    </tr>\n",
              "    <tr>\n",
              "      <th>36</th>\n",
              "      <td>1</td>\n",
              "      <td>1836</td>\n",
              "      <td>2000-12-31 22:02:52</td>\n",
              "      <td>5</td>\n",
              "    </tr>\n",
              "    <tr>\n",
              "      <th>3</th>\n",
              "      <td>1</td>\n",
              "      <td>3408</td>\n",
              "      <td>2000-12-31 22:04:35</td>\n",
              "      <td>6</td>\n",
              "    </tr>\n",
              "    <tr>\n",
              "      <th>7</th>\n",
              "      <td>1</td>\n",
              "      <td>2804</td>\n",
              "      <td>2000-12-31 22:11:59</td>\n",
              "      <td>7</td>\n",
              "    </tr>\n",
              "    <tr>\n",
              "      <th>47</th>\n",
              "      <td>1</td>\n",
              "      <td>1207</td>\n",
              "      <td>2000-12-31 22:11:59</td>\n",
              "      <td>8</td>\n",
              "    </tr>\n",
              "    <tr>\n",
              "      <th>0</th>\n",
              "      <td>1</td>\n",
              "      <td>1193</td>\n",
              "      <td>2000-12-31 22:12:40</td>\n",
              "      <td>9</td>\n",
              "    </tr>\n",
              "  </tbody>\n",
              "</table>\n",
              "</div>\n",
              "      <button class=\"colab-df-convert\" onclick=\"convertToInteractive('df-03027f38-45b1-40bd-abb1-660af3d14ef7')\"\n",
              "              title=\"Convert this dataframe to an interactive table.\"\n",
              "              style=\"display:none;\">\n",
              "        \n",
              "  <svg xmlns=\"http://www.w3.org/2000/svg\" height=\"24px\"viewBox=\"0 0 24 24\"\n",
              "       width=\"24px\">\n",
              "    <path d=\"M0 0h24v24H0V0z\" fill=\"none\"/>\n",
              "    <path d=\"M18.56 5.44l.94 2.06.94-2.06 2.06-.94-2.06-.94-.94-2.06-.94 2.06-2.06.94zm-11 1L8.5 8.5l.94-2.06 2.06-.94-2.06-.94L8.5 2.5l-.94 2.06-2.06.94zm10 10l.94 2.06.94-2.06 2.06-.94-2.06-.94-.94-2.06-.94 2.06-2.06.94z\"/><path d=\"M17.41 7.96l-1.37-1.37c-.4-.4-.92-.59-1.43-.59-.52 0-1.04.2-1.43.59L10.3 9.45l-7.72 7.72c-.78.78-.78 2.05 0 2.83L4 21.41c.39.39.9.59 1.41.59.51 0 1.02-.2 1.41-.59l7.78-7.78 2.81-2.81c.8-.78.8-2.07 0-2.86zM5.41 20L4 18.59l7.72-7.72 1.47 1.35L5.41 20z\"/>\n",
              "  </svg>\n",
              "      </button>\n",
              "      \n",
              "  <style>\n",
              "    .colab-df-container {\n",
              "      display:flex;\n",
              "      flex-wrap:wrap;\n",
              "      gap: 12px;\n",
              "    }\n",
              "\n",
              "    .colab-df-convert {\n",
              "      background-color: #E8F0FE;\n",
              "      border: none;\n",
              "      border-radius: 50%;\n",
              "      cursor: pointer;\n",
              "      display: none;\n",
              "      fill: #1967D2;\n",
              "      height: 32px;\n",
              "      padding: 0 0 0 0;\n",
              "      width: 32px;\n",
              "    }\n",
              "\n",
              "    .colab-df-convert:hover {\n",
              "      background-color: #E2EBFA;\n",
              "      box-shadow: 0px 1px 2px rgba(60, 64, 67, 0.3), 0px 1px 3px 1px rgba(60, 64, 67, 0.15);\n",
              "      fill: #174EA6;\n",
              "    }\n",
              "\n",
              "    [theme=dark] .colab-df-convert {\n",
              "      background-color: #3B4455;\n",
              "      fill: #D2E3FC;\n",
              "    }\n",
              "\n",
              "    [theme=dark] .colab-df-convert:hover {\n",
              "      background-color: #434B5C;\n",
              "      box-shadow: 0px 1px 3px 1px rgba(0, 0, 0, 0.15);\n",
              "      filter: drop-shadow(0px 1px 2px rgba(0, 0, 0, 0.3));\n",
              "      fill: #FFFFFF;\n",
              "    }\n",
              "  </style>\n",
              "\n",
              "      <script>\n",
              "        const buttonEl =\n",
              "          document.querySelector('#df-03027f38-45b1-40bd-abb1-660af3d14ef7 button.colab-df-convert');\n",
              "        buttonEl.style.display =\n",
              "          google.colab.kernel.accessAllowed ? 'block' : 'none';\n",
              "\n",
              "        async function convertToInteractive(key) {\n",
              "          const element = document.querySelector('#df-03027f38-45b1-40bd-abb1-660af3d14ef7');\n",
              "          const dataTable =\n",
              "            await google.colab.kernel.invokeFunction('convertToInteractive',\n",
              "                                                     [key], {});\n",
              "          if (!dataTable) return;\n",
              "\n",
              "          const docLinkHtml = 'Like what you see? Visit the ' +\n",
              "            '<a target=\"_blank\" href=https://colab.research.google.com/notebooks/data_table.ipynb>data table notebook</a>'\n",
              "            + ' to learn more about interactive tables.';\n",
              "          element.innerHTML = '';\n",
              "          dataTable['output_type'] = 'display_data';\n",
              "          await google.colab.output.renderOutput(dataTable, element);\n",
              "          const docLink = document.createElement('div');\n",
              "          docLink.innerHTML = docLinkHtml;\n",
              "          element.appendChild(docLink);\n",
              "        }\n",
              "      </script>\n",
              "    </div>\n",
              "  </div>\n",
              "  "
            ]
          },
          "metadata": {},
          "execution_count": 30
        }
      ]
    },
    {
      "cell_type": "code",
      "source": [
        "tr_dataset.click_offsets"
      ],
      "metadata": {
        "colab": {
          "base_uri": "https://localhost:8080/"
        },
        "id": "0wYHb7PzRLA9",
        "outputId": "6ab7d508-84f2-422b-8a58-a74092d15c18"
      },
      "execution_count": 31,
      "outputs": [
        {
          "output_type": "execute_result",
          "data": {
            "text/plain": [
              "array([     0,     53,    182, ..., 978070, 978193, 978534], dtype=int32)"
            ]
          },
          "metadata": {},
          "execution_count": 31
        }
      ]
    },
    {
      "cell_type": "code",
      "source": [
        "tr_dataset.session_idx"
      ],
      "metadata": {
        "colab": {
          "base_uri": "https://localhost:8080/"
        },
        "id": "gEcS395iRK-U",
        "outputId": "d735e581-1798-46ff-bad7-8e35bfb43842"
      },
      "execution_count": 32,
      "outputs": [
        {
          "output_type": "execute_result",
          "data": {
            "text/plain": [
              "array([   0,    1,    2, ..., 6035, 6036, 6037])"
            ]
          },
          "metadata": {},
          "execution_count": 32
        }
      ]
    },
    {
      "cell_type": "code",
      "source": [
        "class SessionDataLoader:\n",
        "    \"\"\"Credit to yhs-968/pyGRU4REC.\"\"\"\n",
        "\n",
        "    def __init__(self, dataset: SessionDataset, batch_size=50):\n",
        "        self.dataset = dataset\n",
        "        self.batch_size = batch_size\n",
        "\n",
        "    def __iter__(self):\n",
        "        \"\"\" Returns the iterator for producing session-parallel training mini-batches.\n",
        "        Yields:\n",
        "            input (B,):  Item indices that will be encoded as one-hot vectors later.\n",
        "            target (B,): a Variable that stores the target item indices\n",
        "            masks: Numpy array indicating the positions of the sessions to be terminated\n",
        "        \"\"\"\n",
        "\n",
        "        start, end, mask, last_session, finished = self.initialize()  # initialize 메소드에서 확인해주세요.\n",
        "        \"\"\"\n",
        "        start : Index Where Session Start\n",
        "        end : Index Where Session End\n",
        "        mask : indicator for the sessions to be terminated\n",
        "        \"\"\"\n",
        "\n",
        "        while not finished:\n",
        "            min_len = (end - start).min() - 1  # Shortest Length Among Sessions\n",
        "            for i in range(min_len):\n",
        "                # Build inputs & targets\n",
        "                inp = self.dataset.df['item_idx'].values[start + i]\n",
        "                target = self.dataset.df['item_idx'].values[start + i + 1]\n",
        "                yield inp, target, mask\n",
        "\n",
        "            start, end, mask, last_session, finished = self.update_status(start, end, min_len, last_session, finished)\n",
        "\n",
        "    def initialize(self):\n",
        "        first_iters = np.arange(self.batch_size)    # 첫 배치에 사용할 세션 Index를 가져옵니다.\n",
        "        last_session = self.batch_size - 1    # 마지막으로 다루고 있는 세션 Index를 저장해둡니다.\n",
        "        start = self.dataset.click_offsets[self.dataset.session_idx[first_iters]]       # data 상에서 session이 시작된 위치를 가져옵니다.\n",
        "        end = self.dataset.click_offsets[self.dataset.session_idx[first_iters] + 1]  # session이 끝난 위치 바로 다음 위치를 가져옵니다.\n",
        "        mask = np.array([])   # session의 모든 아이템을 다 돌은 경우 mask에 추가해줄 것입니다.\n",
        "        finished = False         # data를 전부 돌았는지 기록하기 위한 변수입니다.\n",
        "        return start, end, mask, last_session, finished\n",
        "\n",
        "    def update_status(self, start: np.ndarray, end: np.ndarray, min_len: int, last_session: int, finished: bool):  \n",
        "        # 다음 배치 데이터를 생성하기 위해 상태를 update합니다.\n",
        "        \n",
        "        start += min_len   # __iter__에서 min_len 만큼 for문을 돌았으므로 start를 min_len 만큼 더해줍니다.\n",
        "        mask = np.arange(self.batch_size)[(end - start) == 1]  \n",
        "        # end는 다음 세션이 시작되는 위치인데 start와 한 칸 차이난다는 것은 session이 끝났다는 뜻입니다. mask에 기록해줍니다.\n",
        "\n",
        "        for i, idx in enumerate(mask, start=1):  # mask에 추가된 세션 개수만큼 새로운 세션을 돌것입니다.\n",
        "            new_session = last_session + i  \n",
        "            if new_session > self.dataset.session_idx[-1]:  # 만약 새로운 세션이 마지막 세션 index보다 크다면 모든 학습데이터를 돈 것입니다.\n",
        "                finished = True\n",
        "                break\n",
        "            # update the next starting/ending point\n",
        "            start[idx] = self.dataset.click_offsets[self.dataset.session_idx[new_session]]     # 종료된 세션 대신 새로운 세션의 시작점을 기록합니다.\n",
        "            end[idx] = self.dataset.click_offsets[self.dataset.session_idx[new_session] + 1]\n",
        "\n",
        "        last_session += len(mask)  # 마지막 세션의 위치를 기록해둡니다.\n",
        "        return start, end, mask, last_session, finished"
      ],
      "metadata": {
        "id": "QeB1Hy7sRK7F"
      },
      "execution_count": 33,
      "outputs": []
    },
    {
      "cell_type": "code",
      "source": [
        "tr_data_loader = SessionDataLoader(tr_dataset, batch_size=512)\n",
        "tr_dataset.df.head(15)"
      ],
      "metadata": {
        "colab": {
          "base_uri": "https://localhost:8080/",
          "height": 520
        },
        "id": "1oLh6JLtRK4E",
        "outputId": "c4128fdd-2164-4f63-a892-52a6cf4b1793"
      },
      "execution_count": 34,
      "outputs": [
        {
          "output_type": "execute_result",
          "data": {
            "text/plain": [
              "    UserId  ItemId            Datetime  item_idx\n",
              "31       1    3186 2000-12-31 22:00:19         0\n",
              "22       1    1270 2000-12-31 22:00:55         1\n",
              "27       1    1721 2000-12-31 22:00:55         2\n",
              "37       1    1022 2000-12-31 22:00:55         3\n",
              "24       1    2340 2000-12-31 22:01:43         4\n",
              "36       1    1836 2000-12-31 22:02:52         5\n",
              "3        1    3408 2000-12-31 22:04:35         6\n",
              "7        1    2804 2000-12-31 22:11:59         7\n",
              "47       1    1207 2000-12-31 22:11:59         8\n",
              "0        1    1193 2000-12-31 22:12:40         9\n",
              "21       1     720 2000-12-31 22:12:40        10\n",
              "44       1     260 2000-12-31 22:12:40        11\n",
              "9        1     919 2000-12-31 22:22:48        12\n",
              "51       1     608 2000-12-31 22:23:18        13\n",
              "43       1    2692 2000-12-31 22:26:10        14"
            ],
            "text/html": [
              "\n",
              "  <div id=\"df-a7b67d57-0cc0-4586-bfda-84f179590334\">\n",
              "    <div class=\"colab-df-container\">\n",
              "      <div>\n",
              "<style scoped>\n",
              "    .dataframe tbody tr th:only-of-type {\n",
              "        vertical-align: middle;\n",
              "    }\n",
              "\n",
              "    .dataframe tbody tr th {\n",
              "        vertical-align: top;\n",
              "    }\n",
              "\n",
              "    .dataframe thead th {\n",
              "        text-align: right;\n",
              "    }\n",
              "</style>\n",
              "<table border=\"1\" class=\"dataframe\">\n",
              "  <thead>\n",
              "    <tr style=\"text-align: right;\">\n",
              "      <th></th>\n",
              "      <th>UserId</th>\n",
              "      <th>ItemId</th>\n",
              "      <th>Datetime</th>\n",
              "      <th>item_idx</th>\n",
              "    </tr>\n",
              "  </thead>\n",
              "  <tbody>\n",
              "    <tr>\n",
              "      <th>31</th>\n",
              "      <td>1</td>\n",
              "      <td>3186</td>\n",
              "      <td>2000-12-31 22:00:19</td>\n",
              "      <td>0</td>\n",
              "    </tr>\n",
              "    <tr>\n",
              "      <th>22</th>\n",
              "      <td>1</td>\n",
              "      <td>1270</td>\n",
              "      <td>2000-12-31 22:00:55</td>\n",
              "      <td>1</td>\n",
              "    </tr>\n",
              "    <tr>\n",
              "      <th>27</th>\n",
              "      <td>1</td>\n",
              "      <td>1721</td>\n",
              "      <td>2000-12-31 22:00:55</td>\n",
              "      <td>2</td>\n",
              "    </tr>\n",
              "    <tr>\n",
              "      <th>37</th>\n",
              "      <td>1</td>\n",
              "      <td>1022</td>\n",
              "      <td>2000-12-31 22:00:55</td>\n",
              "      <td>3</td>\n",
              "    </tr>\n",
              "    <tr>\n",
              "      <th>24</th>\n",
              "      <td>1</td>\n",
              "      <td>2340</td>\n",
              "      <td>2000-12-31 22:01:43</td>\n",
              "      <td>4</td>\n",
              "    </tr>\n",
              "    <tr>\n",
              "      <th>36</th>\n",
              "      <td>1</td>\n",
              "      <td>1836</td>\n",
              "      <td>2000-12-31 22:02:52</td>\n",
              "      <td>5</td>\n",
              "    </tr>\n",
              "    <tr>\n",
              "      <th>3</th>\n",
              "      <td>1</td>\n",
              "      <td>3408</td>\n",
              "      <td>2000-12-31 22:04:35</td>\n",
              "      <td>6</td>\n",
              "    </tr>\n",
              "    <tr>\n",
              "      <th>7</th>\n",
              "      <td>1</td>\n",
              "      <td>2804</td>\n",
              "      <td>2000-12-31 22:11:59</td>\n",
              "      <td>7</td>\n",
              "    </tr>\n",
              "    <tr>\n",
              "      <th>47</th>\n",
              "      <td>1</td>\n",
              "      <td>1207</td>\n",
              "      <td>2000-12-31 22:11:59</td>\n",
              "      <td>8</td>\n",
              "    </tr>\n",
              "    <tr>\n",
              "      <th>0</th>\n",
              "      <td>1</td>\n",
              "      <td>1193</td>\n",
              "      <td>2000-12-31 22:12:40</td>\n",
              "      <td>9</td>\n",
              "    </tr>\n",
              "    <tr>\n",
              "      <th>21</th>\n",
              "      <td>1</td>\n",
              "      <td>720</td>\n",
              "      <td>2000-12-31 22:12:40</td>\n",
              "      <td>10</td>\n",
              "    </tr>\n",
              "    <tr>\n",
              "      <th>44</th>\n",
              "      <td>1</td>\n",
              "      <td>260</td>\n",
              "      <td>2000-12-31 22:12:40</td>\n",
              "      <td>11</td>\n",
              "    </tr>\n",
              "    <tr>\n",
              "      <th>9</th>\n",
              "      <td>1</td>\n",
              "      <td>919</td>\n",
              "      <td>2000-12-31 22:22:48</td>\n",
              "      <td>12</td>\n",
              "    </tr>\n",
              "    <tr>\n",
              "      <th>51</th>\n",
              "      <td>1</td>\n",
              "      <td>608</td>\n",
              "      <td>2000-12-31 22:23:18</td>\n",
              "      <td>13</td>\n",
              "    </tr>\n",
              "    <tr>\n",
              "      <th>43</th>\n",
              "      <td>1</td>\n",
              "      <td>2692</td>\n",
              "      <td>2000-12-31 22:26:10</td>\n",
              "      <td>14</td>\n",
              "    </tr>\n",
              "  </tbody>\n",
              "</table>\n",
              "</div>\n",
              "      <button class=\"colab-df-convert\" onclick=\"convertToInteractive('df-a7b67d57-0cc0-4586-bfda-84f179590334')\"\n",
              "              title=\"Convert this dataframe to an interactive table.\"\n",
              "              style=\"display:none;\">\n",
              "        \n",
              "  <svg xmlns=\"http://www.w3.org/2000/svg\" height=\"24px\"viewBox=\"0 0 24 24\"\n",
              "       width=\"24px\">\n",
              "    <path d=\"M0 0h24v24H0V0z\" fill=\"none\"/>\n",
              "    <path d=\"M18.56 5.44l.94 2.06.94-2.06 2.06-.94-2.06-.94-.94-2.06-.94 2.06-2.06.94zm-11 1L8.5 8.5l.94-2.06 2.06-.94-2.06-.94L8.5 2.5l-.94 2.06-2.06.94zm10 10l.94 2.06.94-2.06 2.06-.94-2.06-.94-.94-2.06-.94 2.06-2.06.94z\"/><path d=\"M17.41 7.96l-1.37-1.37c-.4-.4-.92-.59-1.43-.59-.52 0-1.04.2-1.43.59L10.3 9.45l-7.72 7.72c-.78.78-.78 2.05 0 2.83L4 21.41c.39.39.9.59 1.41.59.51 0 1.02-.2 1.41-.59l7.78-7.78 2.81-2.81c.8-.78.8-2.07 0-2.86zM5.41 20L4 18.59l7.72-7.72 1.47 1.35L5.41 20z\"/>\n",
              "  </svg>\n",
              "      </button>\n",
              "      \n",
              "  <style>\n",
              "    .colab-df-container {\n",
              "      display:flex;\n",
              "      flex-wrap:wrap;\n",
              "      gap: 12px;\n",
              "    }\n",
              "\n",
              "    .colab-df-convert {\n",
              "      background-color: #E8F0FE;\n",
              "      border: none;\n",
              "      border-radius: 50%;\n",
              "      cursor: pointer;\n",
              "      display: none;\n",
              "      fill: #1967D2;\n",
              "      height: 32px;\n",
              "      padding: 0 0 0 0;\n",
              "      width: 32px;\n",
              "    }\n",
              "\n",
              "    .colab-df-convert:hover {\n",
              "      background-color: #E2EBFA;\n",
              "      box-shadow: 0px 1px 2px rgba(60, 64, 67, 0.3), 0px 1px 3px 1px rgba(60, 64, 67, 0.15);\n",
              "      fill: #174EA6;\n",
              "    }\n",
              "\n",
              "    [theme=dark] .colab-df-convert {\n",
              "      background-color: #3B4455;\n",
              "      fill: #D2E3FC;\n",
              "    }\n",
              "\n",
              "    [theme=dark] .colab-df-convert:hover {\n",
              "      background-color: #434B5C;\n",
              "      box-shadow: 0px 1px 3px 1px rgba(0, 0, 0, 0.15);\n",
              "      filter: drop-shadow(0px 1px 2px rgba(0, 0, 0, 0.3));\n",
              "      fill: #FFFFFF;\n",
              "    }\n",
              "  </style>\n",
              "\n",
              "      <script>\n",
              "        const buttonEl =\n",
              "          document.querySelector('#df-a7b67d57-0cc0-4586-bfda-84f179590334 button.colab-df-convert');\n",
              "        buttonEl.style.display =\n",
              "          google.colab.kernel.accessAllowed ? 'block' : 'none';\n",
              "\n",
              "        async function convertToInteractive(key) {\n",
              "          const element = document.querySelector('#df-a7b67d57-0cc0-4586-bfda-84f179590334');\n",
              "          const dataTable =\n",
              "            await google.colab.kernel.invokeFunction('convertToInteractive',\n",
              "                                                     [key], {});\n",
              "          if (!dataTable) return;\n",
              "\n",
              "          const docLinkHtml = 'Like what you see? Visit the ' +\n",
              "            '<a target=\"_blank\" href=https://colab.research.google.com/notebooks/data_table.ipynb>data table notebook</a>'\n",
              "            + ' to learn more about interactive tables.';\n",
              "          element.innerHTML = '';\n",
              "          dataTable['output_type'] = 'display_data';\n",
              "          await google.colab.output.renderOutput(dataTable, element);\n",
              "          const docLink = document.createElement('div');\n",
              "          docLink.innerHTML = docLinkHtml;\n",
              "          element.appendChild(docLink);\n",
              "        }\n",
              "      </script>\n",
              "    </div>\n",
              "  </div>\n",
              "  "
            ]
          },
          "metadata": {},
          "execution_count": 34
        }
      ]
    },
    {
      "cell_type": "code",
      "source": [
        "iter_ex = iter(tr_data_loader)"
      ],
      "metadata": {
        "id": "7MTbMk3rRbVW"
      },
      "execution_count": 35,
      "outputs": []
    },
    {
      "cell_type": "code",
      "source": [
        "inputs, labels, mask =  next(iter_ex)\n",
        "print(f'Model Input Item Idx are : {inputs}')\n",
        "print(f'Label Item Idx are : {\"\":5} {labels}')\n",
        "print(f'Previous Masked Input Idx are {mask}')"
      ],
      "metadata": {
        "colab": {
          "base_uri": "https://localhost:8080/"
        },
        "id": "uB_fQUU4RbSe",
        "outputId": "0231da5b-4fdb-40fb-fe3e-50e8c240d180"
      },
      "execution_count": 36,
      "outputs": [
        {
          "output_type": "stream",
          "name": "stdout",
          "text": [
            "Model Input Item Idx are : [   0   53   65   54   56  385    1   54  514  429   53  829   37  860\n",
            "  870  927  945   93  985   16  944   78  218   89 1046   65  552    9\n",
            " 1468  805 1491   89  799 1592  117 1205 1083  599    2   81   32    9\n",
            "  125 1600 1096 1732    9   37  163 1115  267   65   93    9  453   93\n",
            " 2001 1912   11  593 1180  267  325   53  597   16  599 2135  183  237\n",
            " 2058   54   78    2 2167 1784 2200  235  661  134 2159  385   78  125\n",
            " 1159  408 2232   91  502  126 1400 1105  163 1068   81    9  386 1499\n",
            "  507  668  491  739  554  552  134   91 1022    1    1  546 1090 2326\n",
            "  491 1771  343 1671  186 1234  664   11   53   16   28   93 1633   93\n",
            "    1 1046 1908  267   54 2320   62  901 2258    9  165  501    9   15\n",
            " 1258  155   37  127 1391   78   49  109  326  316  517 1054 1340   78\n",
            "  874  799  552  386  114   24   81    2 1173   24   53   91  483  685\n",
            "  611  267   82 1505  154  688  134  258   11    9   78 1468  405  514\n",
            "   25   78  163 2016   65  385 1440    2   11  191  845 1059  125    9\n",
            "  146  622    1 1062   41 1350    1  125 2818    9   54   24  429 1292\n",
            "  405    2   81  912   11 1749   24   81 2409 1572    1   53  429  218\n",
            " 2093  385  125  888  775  593  134 1556  597  335  279  970  183   93\n",
            "  154  125  799  409   37   54  485   42  868 1357  942  917    1  205\n",
            "   73    1  641  168  857   78    2  153  147  156 1370 1113   54  620\n",
            "   54   65  267  552   65   54   16  883   65    2   37 1107 1061  768\n",
            "  386   62  150    1   32  127   91  386  163   65  386 1587    9 1392\n",
            "  952 1479 1213  402   81  821    9  745  429  267 1784  911   42 2595\n",
            "  206  543    2    9 1062  733  134 1655    9  101  780  391  124   81\n",
            " 1137 2449  672   37  280   16  854  661    2    9   53   56 1033  163\n",
            "  716  385 1614 1741   73  177 1502    1 1437  106  803 1637 1120 2646\n",
            " 1300  554   53  218  129 2122  665  386   54  181 1653    2 1067  272\n",
            " 2408  635  435 1661 1331 1187   54  259 1096 1030  129   73  125 2284\n",
            "  494  133 1723 1107    9   37  134  435 1664 1277 2118  163  552   46\n",
            "  258 1685  151 2139  278 1385  302 1107   54  136  711  267 2065  190\n",
            "   17 1969  827 2128    1  187   11   54   81  898 1279  156  207    2\n",
            "  841 2044  458 2835  664   65  571  163  129   81 2167  768   41 2616\n",
            " 1322 1825    9 1059  895  522  550   53  405  554  430  926  579    2\n",
            " 2144   16   15  716  770 2267    1  385   53  134 2134    9  554    1\n",
            "  597   71   45  379  429  674  704 2989 1049  183  386  176 1685 1101\n",
            " 1326  597   53   54  267  862   15 2505 1309  385   65  386  614  163\n",
            " 1915  622  891    1  163    1 1681  554  657  926 2903  267  546 1030\n",
            "   11   65  267  462    0 2174  770    1]\n",
            "Label Item Idx are :       [   1   54   62   24  218  144  134  435   15  551  599  203  183   91\n",
            "   53  419    9 1019   65  267 1165 1048 1231 1297   53 1301  542 1458\n",
            " 1221  385 1492  134   41 1593 1604 1653   35  385 1687 1690 1071  132\n",
            "   15  411   81  791  396 1707 1257 1875   48  450 1389   11   65  539\n",
            " 1681  430  704  818  917 1095 2118  473  134  125 1135  414  125   11\n",
            "  267  278  754  837  163   47 2196  675    1   54   54  692 2222  684\n",
            "  397   54 1165  134   16  552  435  483 2275  218 1520  693  552   54\n",
            " 2127   11 1856    1  386    9   37  218    2  144   11  125  478  799\n",
            "   56  218  636  809  319  927 1693    9 1035   53  125  540 1132  969\n",
            "  450 2437 2441 2448 2394  672  546  709 1016  694   91   54   65 2030\n",
            "  388  392  236   15 1343 2099   73  183  799 1163  163 2250  502  552\n",
            "  552 1360 1336  603   16   54  218   37   93  552 2414   41    2  185\n",
            " 1316 1433  809  106  368    1  385  173   54  386 1409    9 1435 1959\n",
            "  385   69  517   54   81 2277   65   37 1991 2556 1795  382   95 1555\n",
            "  907   24   17 2149   16   78 1201  220  951 1264   78   15    1  430\n",
            " 2071  510  893   78  385 1102   54 2804  535   73 2420  668  477  444\n",
            " 1235 1045  163   54   16  134  430  701   54  154 2614  163   54 1411\n",
            "   54  385  644   54  712  977   15 1203  190  924  682  213 1613  120\n",
            " 1101 1043  747   54   24   66 1721 2151  873  857   93   24  667  599\n",
            "  599 1351 1810 2619 1196  385  163 1023   41 1530   28    2 2939  138\n",
            "    9  134 1122  397   79    2 1539 2032  809  878  163  495   65  467\n",
            "    9  134  435   41   24   73   99 1820    1 1133  938   28   21   11\n",
            "   53  163   54  813   54  537   81 1526   42  767   16  385   54 2065\n",
            "  134   54    2  441  120   51    2   67  425  582  571    2 1347   25\n",
            "   54 1387   15  696 1569  724  435 1110 1969   16    2  144 1520  163\n",
            "   94  435  433 1721    9  134 1045 2870   23   54 1666  261   37 1500\n",
            "   38   16 2027   73  397   53  386  134   65  799 1806   11  909  610\n",
            "   41  134  495  451  154 1362 1401  455   54 1573 3012   14 2224  629\n",
            "  774  478   47    2 1302 1281  198  861  332 1533   51    2   15  628\n",
            "  892  552  301 1823   39  393  397   78  208   91   11  599  552  191\n",
            "    2   11   37  799    9  770  163  541  935 1270   73  680  117  708\n",
            "  495  756  669 1163   54  495   81  218   24 1078  267  134 2101  970\n",
            "  264  185    9 1567  152   53  552 2379 1121 2238 1725  134  483   53\n",
            "   16 3048  343 1358   11 2792  134   54 2999   62 1351  130   54  418\n",
            "  421  386 1266    9  185 1210  163   73  571   53  218  310   24 2263\n",
            " 1113  435   54 1572 2014  252   73  336  429  649  906  230   53   11\n",
            "   65  842 1564  674   54  385 1027 1201]\n",
            "Previous Masked Input Idx are []\n"
          ]
        }
      ]
    },
    {
      "cell_type": "code",
      "source": [
        "def mrr_k(pred, truth: int, k: int):\n",
        "    indexing = np.where(pred[:k] == truth)[0]\n",
        "    if len(indexing) > 0:\n",
        "        return 1 / (indexing[0] + 1)\n",
        "    else:\n",
        "        return 0\n",
        "\n",
        "\n",
        "def recall_k(pred, truth: int, k: int) -> int:\n",
        "    answer = truth in pred[:k]\n",
        "    return int(answer)"
      ],
      "metadata": {
        "id": "F_JZWANzRbPw"
      },
      "execution_count": 37,
      "outputs": []
    },
    {
      "cell_type": "markdown",
      "source": [
        "STEP 3 : 모델 구성\n",
        "- 모델 다양하게 시도 가능 "
      ],
      "metadata": {
        "id": "LAfAEvBniRQX"
      }
    },
    {
      "cell_type": "code",
      "source": [
        "import numpy as np\n",
        "import tensorflow as tf\n",
        "from tensorflow.keras.layers import Input, Dense, Dropout, GRU\n",
        "from tensorflow.keras.losses import categorical_crossentropy\n",
        "from tensorflow.keras.models import Model\n",
        "from tensorflow.keras.optimizers import Adam\n",
        "from tensorflow.keras.utils import to_categorical\n",
        "from tqdm import tqdm"
      ],
      "metadata": {
        "id": "8ENBZCzvRbM1"
      },
      "execution_count": 38,
      "outputs": []
    },
    {
      "cell_type": "code",
      "source": [
        "def create_model(args):\n",
        "    inputs = Input(batch_shape=(args.batch_size, 1, args.num_items))\n",
        "    gru, _ = GRU(args.hsz, stateful=True, return_state=True, name='GRU')(inputs)\n",
        "    dropout = Dropout(args.drop_rate)(gru)\n",
        "    predictions = Dense(args.num_items, activation='softmax')(dropout)\n",
        "    model = Model(inputs=inputs, outputs=[predictions])\n",
        "    model.compile(loss=categorical_crossentropy, optimizer=Adam(args.lr), metrics=['accuracy'])\n",
        "    model.summary()\n",
        "    return model"
      ],
      "metadata": {
        "id": "SHHMj9A-RbKW"
      },
      "execution_count": 39,
      "outputs": []
    },
    {
      "cell_type": "code",
      "source": [
        "class Args:\n",
        "    def __init__(self, tr, val, test, batch_size, hsz, drop_rate, lr, epochs, k):\n",
        "        self.tr = tr\n",
        "        self.val = val\n",
        "        self.test = test\n",
        "        self.num_items = tr['ItemId'].nunique()\n",
        "        self.num_sessions = tr['UserId'].nunique()\n",
        "        self.batch_size = batch_size\n",
        "        self.hsz = hsz\n",
        "        self.drop_rate = drop_rate\n",
        "        self.lr = lr\n",
        "        self.epochs = epochs\n",
        "        self.k = k\n",
        "\n",
        "args = Args(tr, val, test, batch_size=128, hsz=50, drop_rate=0.1, lr=0.001, epochs=3, k=20)"
      ],
      "metadata": {
        "id": "9Sx9FDSMRbH0"
      },
      "execution_count": 40,
      "outputs": []
    },
    {
      "cell_type": "code",
      "source": [
        "model = create_model(args)"
      ],
      "metadata": {
        "colab": {
          "base_uri": "https://localhost:8080/"
        },
        "id": "_fSp-YJ3RbE8",
        "outputId": "32b7ea31-1946-4dd3-dc5f-9b694c11e84d"
      },
      "execution_count": 41,
      "outputs": [
        {
          "output_type": "stream",
          "name": "stdout",
          "text": [
            "Model: \"model\"\n",
            "_________________________________________________________________\n",
            " Layer (type)                Output Shape              Param #   \n",
            "=================================================================\n",
            " input_1 (InputLayer)        [(128, 1, 3416)]          0         \n",
            "                                                                 \n",
            " GRU (GRU)                   [(128, 50),               520200    \n",
            "                              (128, 50)]                         \n",
            "                                                                 \n",
            " dropout (Dropout)           (128, 50)                 0         \n",
            "                                                                 \n",
            " dense (Dense)               (128, 3416)               174216    \n",
            "                                                                 \n",
            "=================================================================\n",
            "Total params: 694,416\n",
            "Trainable params: 694,416\n",
            "Non-trainable params: 0\n",
            "_________________________________________________________________\n"
          ]
        }
      ]
    },
    {
      "cell_type": "code",
      "source": [
        "# train 셋으로 학습하면서 valid 셋으로 검증합니다.\n",
        "def train_model(model, args):\n",
        "    train_dataset = SessionDataset(args.tr)\n",
        "    train_loader = SessionDataLoader(train_dataset, batch_size=args.batch_size)\n",
        "\n",
        "    for epoch in range(1, args.epochs + 1):\n",
        "        total_step = len(args.tr) - args.tr['UserId'].nunique()\n",
        "        tr_loader = tqdm(train_loader, total=total_step // args.batch_size, desc='Train', mininterval=1)\n",
        "        for feat, target, mask in tr_loader:\n",
        "            reset_hidden_states(model, mask)  # 종료된 session은 hidden_state를 초기화합니다. 아래 메서드에서 확인해주세요.\n",
        "\n",
        "            input_ohe = to_categorical(feat, num_classes=args.num_items)\n",
        "            input_ohe = np.expand_dims(input_ohe, axis=1)\n",
        "            target_ohe = to_categorical(target, num_classes=args.num_items)\n",
        "\n",
        "            result = model.train_on_batch(input_ohe, target_ohe)\n",
        "            tr_loader.set_postfix(train_loss=result[0], accuracy = result[1])\n",
        "\n",
        "        val_recall, val_mrr = get_metrics(args.val, model, args, args.k)  # valid set에 대해 검증합니다.\n",
        "\n",
        "        print(f\"\\t - Recall@{args.k} epoch {epoch}: {val_recall:3f}\")\n",
        "        print(f\"\\t - MRR@{args.k}    epoch {epoch}: {val_mrr:3f}\\n\")\n",
        "\n",
        "\n",
        "def reset_hidden_states(model, mask):\n",
        "    gru_layer = model.get_layer(name='GRU')  # model에서 gru layer를 가져옵니다.\n",
        "    hidden_states = gru_layer.states[0].numpy()  # gru_layer의 parameter를 가져옵니다.\n",
        "    for elt in mask:  # mask된 인덱스 즉, 종료된 세션의 인덱스를 돌면서\n",
        "        hidden_states[elt, :] = 0  # parameter를 초기화 합니다.\n",
        "    gru_layer.reset_states(states=hidden_states)\n",
        "\n",
        "\n",
        "def get_metrics(data, model, args, k: int):  # valid셋과 test셋을 평가하는 코드입니다. \n",
        "                                             # train과 거의 같지만 mrr, recall을 구하는 라인이 있습니다.\n",
        "    dataset = SessionDataset(data)\n",
        "    loader = SessionDataLoader(dataset, batch_size=args.batch_size)\n",
        "    recall_list, mrr_list = [], []\n",
        "\n",
        "    total_step = len(data) - data['UserId'].nunique()\n",
        "    for inputs, label, mask in tqdm(loader, total=total_step // args.batch_size, desc='Evaluation', mininterval=1):\n",
        "        reset_hidden_states(model, mask)\n",
        "        input_ohe = to_categorical(inputs, num_classes=args.num_items)\n",
        "        input_ohe = np.expand_dims(input_ohe, axis=1)\n",
        "\n",
        "        pred = model.predict(input_ohe, batch_size=args.batch_size)\n",
        "        pred_arg = tf.argsort(pred, direction='DESCENDING')  # softmax 값이 큰 순서대로 sorting 합니다.\n",
        "\n",
        "        length = len(inputs)\n",
        "        recall_list.extend([recall_k(pred_arg[i], label[i], k) for i in range(length)])\n",
        "        mrr_list.extend([mrr_k(pred_arg[i], label[i], k) for i in range(length)])\n",
        "\n",
        "    recall, mrr = np.mean(recall_list), np.mean(mrr_list)\n",
        "    return recall, mrr"
      ],
      "metadata": {
        "id": "VBWB6gYJRbCU"
      },
      "execution_count": 42,
      "outputs": []
    },
    {
      "cell_type": "code",
      "source": [
        "train_model(model, args)"
      ],
      "metadata": {
        "colab": {
          "base_uri": "https://localhost:8080/"
        },
        "id": "TtvjqV5WRa_V",
        "outputId": "78ce29f4-8d90-45ab-9361-3d069de7a61f"
      },
      "execution_count": 43,
      "outputs": [
        {
          "output_type": "stream",
          "name": "stderr",
          "text": [
            "Train:  98%|█████████▊| 7429/7597 [03:41<00:04, 33.60it/s, accuracy=0.0391, train_loss=6.06]\n",
            "Evaluation:  45%|████▍     | 41/92 [00:42<00:53,  1.04s/it]\n"
          ]
        },
        {
          "output_type": "stream",
          "name": "stdout",
          "text": [
            "\t - Recall@20 epoch 1: 0.094512\n",
            "\t - MRR@20    epoch 1: 0.025095\n",
            "\n"
          ]
        },
        {
          "output_type": "stream",
          "name": "stderr",
          "text": [
            "Train:  98%|█████████▊| 7429/7597 [03:36<00:04, 34.32it/s, accuracy=0.0234, train_loss=5.79]\n",
            "Evaluation:  45%|████▍     | 41/92 [00:41<00:51,  1.01s/it]\n"
          ]
        },
        {
          "output_type": "stream",
          "name": "stdout",
          "text": [
            "\t - Recall@20 epoch 2: 0.123095\n",
            "\t - MRR@20    epoch 2: 0.033644\n",
            "\n"
          ]
        },
        {
          "output_type": "stream",
          "name": "stderr",
          "text": [
            "Train:  98%|█████████▊| 7429/7597 [03:37<00:04, 34.20it/s, accuracy=0.0391, train_loss=5.57]\n",
            "Evaluation:  45%|████▍     | 41/92 [00:40<00:50,  1.01it/s]"
          ]
        },
        {
          "output_type": "stream",
          "name": "stdout",
          "text": [
            "\t - Recall@20 epoch 3: 0.130145\n",
            "\t - MRR@20    epoch 3: 0.036529\n",
            "\n"
          ]
        },
        {
          "output_type": "stream",
          "name": "stderr",
          "text": [
            "\n"
          ]
        }
      ]
    },
    {
      "cell_type": "code",
      "source": [
        "def test_model(model, args, test):\n",
        "    test_recall, test_mrr = get_metrics(test, model, args, 20)\n",
        "    print(f\"\\t - Recall@{args.k}: {test_recall:3f}\")\n",
        "    print(f\"\\t - MRR@{args.k}: {test_mrr:3f}\\n\")\n",
        "\n",
        "test_model(model, args, test)"
      ],
      "metadata": {
        "colab": {
          "base_uri": "https://localhost:8080/"
        },
        "id": "dL4gtutYRpll",
        "outputId": "ff7f9d26-8c60-4099-e7ac-193f48a231ab"
      },
      "execution_count": 44,
      "outputs": [
        {
          "output_type": "stream",
          "name": "stderr",
          "text": [
            "Evaluation:  36%|███▋      | 24/66 [00:23<00:41,  1.01it/s]"
          ]
        },
        {
          "output_type": "stream",
          "name": "stdout",
          "text": [
            "\t - Recall@20: 0.137370\n",
            "\t - MRR@20: 0.039529\n",
            "\n"
          ]
        },
        {
          "output_type": "stream",
          "name": "stderr",
          "text": [
            "\n"
          ]
        }
      ]
    },
    {
      "cell_type": "code",
      "source": [
        "args = Args(tr, val, test, batch_size=256, hsz=100, drop_rate=0.1, lr=0.001, epochs=3, k=20)\n",
        "model = create_model(args)\n",
        "train_model(model, args)"
      ],
      "metadata": {
        "colab": {
          "base_uri": "https://localhost:8080/"
        },
        "id": "yplp3dxURpjV",
        "outputId": "ebda4a75-67cf-4fc5-e2b7-f444a6f3790a"
      },
      "execution_count": 45,
      "outputs": [
        {
          "output_type": "stream",
          "name": "stdout",
          "text": [
            "Model: \"model_1\"\n",
            "_________________________________________________________________\n",
            " Layer (type)                Output Shape              Param #   \n",
            "=================================================================\n",
            " input_2 (InputLayer)        [(256, 1, 3416)]          0         \n",
            "                                                                 \n",
            " GRU (GRU)                   [(256, 100),              1055400   \n",
            "                              (256, 100)]                        \n",
            "                                                                 \n",
            " dropout_1 (Dropout)         (256, 100)                0         \n",
            "                                                                 \n",
            " dense_1 (Dense)             (256, 3416)               345016    \n",
            "                                                                 \n",
            "=================================================================\n",
            "Total params: 1,400,416\n",
            "Trainable params: 1,400,416\n",
            "Non-trainable params: 0\n",
            "_________________________________________________________________\n"
          ]
        },
        {
          "output_type": "stream",
          "name": "stderr",
          "text": [
            "Train:  95%|█████████▌| 3619/3798 [03:33<00:10, 16.97it/s, accuracy=0.0391, train_loss=6.09]\n",
            "Evaluation:  15%|█▌        | 7/46 [00:14<01:21,  2.08s/it]\n"
          ]
        },
        {
          "output_type": "stream",
          "name": "stdout",
          "text": [
            "\t - Recall@20 epoch 1: 0.079241\n",
            "\t - MRR@20    epoch 1: 0.022922\n",
            "\n"
          ]
        },
        {
          "output_type": "stream",
          "name": "stderr",
          "text": [
            "Train:  95%|█████████▌| 3619/3798 [03:34<00:10, 16.84it/s, accuracy=0.0469, train_loss=5.79]\n",
            "Evaluation:  15%|█▌        | 7/46 [00:13<01:17,  1.99s/it]\n"
          ]
        },
        {
          "output_type": "stream",
          "name": "stdout",
          "text": [
            "\t - Recall@20 epoch 2: 0.098772\n",
            "\t - MRR@20    epoch 2: 0.030555\n",
            "\n"
          ]
        },
        {
          "output_type": "stream",
          "name": "stderr",
          "text": [
            "Train:  95%|█████████▌| 3619/3798 [03:34<00:10, 16.91it/s, accuracy=0.0508, train_loss=5.67]\n",
            "Evaluation:  15%|█▌        | 7/46 [00:13<01:17,  1.98s/it]"
          ]
        },
        {
          "output_type": "stream",
          "name": "stdout",
          "text": [
            "\t - Recall@20 epoch 3: 0.108259\n",
            "\t - MRR@20    epoch 3: 0.032187\n",
            "\n"
          ]
        },
        {
          "output_type": "stream",
          "name": "stderr",
          "text": [
            "\n"
          ]
        }
      ]
    },
    {
      "cell_type": "code",
      "source": [
        "test_model(model, args, test)"
      ],
      "metadata": {
        "colab": {
          "base_uri": "https://localhost:8080/"
        },
        "id": "UQuxhwokRpgU",
        "outputId": "1fdcb629-f112-471a-9d3e-50e695b0ab57"
      },
      "execution_count": 46,
      "outputs": [
        {
          "output_type": "stream",
          "name": "stderr",
          "text": [
            "Evaluation:   6%|▌         | 2/33 [00:03<01:00,  1.95s/it]"
          ]
        },
        {
          "output_type": "stream",
          "name": "stdout",
          "text": [
            "\t - Recall@20: 0.113281\n",
            "\t - MRR@20: 0.035753\n",
            "\n"
          ]
        },
        {
          "output_type": "stream",
          "name": "stderr",
          "text": [
            "\n"
          ]
        }
      ]
    },
    {
      "cell_type": "code",
      "source": [
        "args = Args(tr, val, test, batch_size=64, hsz=50, drop_rate=0.3, lr=0.001, epochs=3, k=20)\n",
        "model = create_model(args)\n",
        "train_model(model, args)\n"
      ],
      "metadata": {
        "colab": {
          "base_uri": "https://localhost:8080/"
        },
        "id": "tNxNF1HcRpdU",
        "outputId": "01a9ded5-6316-4461-b0b1-dbcab6b94f27"
      },
      "execution_count": 47,
      "outputs": [
        {
          "output_type": "stream",
          "name": "stdout",
          "text": [
            "Model: \"model_2\"\n",
            "_________________________________________________________________\n",
            " Layer (type)                Output Shape              Param #   \n",
            "=================================================================\n",
            " input_3 (InputLayer)        [(64, 1, 3416)]           0         \n",
            "                                                                 \n",
            " GRU (GRU)                   [(64, 50),                520200    \n",
            "                              (64, 50)]                          \n",
            "                                                                 \n",
            " dropout_2 (Dropout)         (64, 50)                  0         \n",
            "                                                                 \n",
            " dense_2 (Dense)             (64, 3416)                174216    \n",
            "                                                                 \n",
            "=================================================================\n",
            "Total params: 694,416\n",
            "Trainable params: 694,416\n",
            "Non-trainable params: 0\n",
            "_________________________________________________________________\n"
          ]
        },
        {
          "output_type": "stream",
          "name": "stderr",
          "text": [
            "Train:  99%|█████████▉| 15012/15195 [05:18<00:03, 47.14it/s, accuracy=0.0312, train_loss=5.84]\n",
            "Evaluation:  67%|██████▋   | 124/185 [01:04<00:31,  1.92it/s]\n"
          ]
        },
        {
          "output_type": "stream",
          "name": "stdout",
          "text": [
            "\t - Recall@20 epoch 1: 0.108997\n",
            "\t - MRR@20    epoch 1: 0.028246\n",
            "\n"
          ]
        },
        {
          "output_type": "stream",
          "name": "stderr",
          "text": [
            "Train:  99%|█████████▉| 15012/15195 [05:16<00:03, 47.44it/s, accuracy=0.0625, train_loss=5.54]\n",
            "Evaluation:  67%|██████▋   | 124/185 [01:03<00:31,  1.95it/s]\n"
          ]
        },
        {
          "output_type": "stream",
          "name": "stdout",
          "text": [
            "\t - Recall@20 epoch 2: 0.125630\n",
            "\t - MRR@20    epoch 2: 0.034860\n",
            "\n"
          ]
        },
        {
          "output_type": "stream",
          "name": "stderr",
          "text": [
            "Train:  99%|█████████▉| 15012/15195 [05:17<00:03, 47.21it/s, accuracy=0.0625, train_loss=5.65]\n",
            "Evaluation:  67%|██████▋   | 124/185 [01:04<00:31,  1.93it/s]"
          ]
        },
        {
          "output_type": "stream",
          "name": "stdout",
          "text": [
            "\t - Recall@20 epoch 3: 0.133191\n",
            "\t - MRR@20    epoch 3: 0.037983\n",
            "\n"
          ]
        },
        {
          "output_type": "stream",
          "name": "stderr",
          "text": [
            "\n"
          ]
        }
      ]
    },
    {
      "cell_type": "code",
      "source": [
        "test_model(model, args, test)"
      ],
      "metadata": {
        "colab": {
          "base_uri": "https://localhost:8080/"
        },
        "id": "N3_eIQ0dd0Hp",
        "outputId": "ed406766-b540-4591-98c5-de7d31af9273"
      },
      "execution_count": 48,
      "outputs": [
        {
          "output_type": "stream",
          "name": "stderr",
          "text": [
            "Evaluation:  59%|█████▉    | 78/132 [00:39<00:27,  1.97it/s]"
          ]
        },
        {
          "output_type": "stream",
          "name": "stdout",
          "text": [
            "\t - Recall@20: 0.156651\n",
            "\t - MRR@20: 0.044528\n",
            "\n"
          ]
        },
        {
          "output_type": "stream",
          "name": "stderr",
          "text": [
            "\n"
          ]
        }
      ]
    },
    {
      "cell_type": "code",
      "source": [
        ""
      ],
      "metadata": {
        "id": "Ho6kFz0mkVuK"
      },
      "execution_count": 48,
      "outputs": []
    },
    {
      "cell_type": "markdown",
      "source": [
        "학습 결과 : \n",
        "- 모델 1 : recall 0.1373 mrr 0.0395 \n",
        "- 모델 2 : recall 0.1132 mrr 0.0357\n",
        "- 모델 3 : recall 0.1566 mrr 0.0445 <br>\n",
        "Recall, MRR 모두 3 번 모델에서 가장 수치가 높게 나왔다  "
      ],
      "metadata": {
        "id": "P3JEGgP6jKWp"
      }
    }
  ]
}