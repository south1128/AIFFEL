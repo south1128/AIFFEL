{
  "cells": [
    {
      "cell_type": "code",
      "execution_count": 81,
      "metadata": {
        "id": "RzQlRhLs8sae"
      },
      "outputs": [],
      "source": [
        "import tensorflow as tf\n",
        "import tensorflow_datasets as tfds\n",
        "import os\n",
        "import re\n",
        "import csv\n",
        "import numpy as np\n",
        "import matplotlib.pyplot as plt\n",
        "import pandas as pd"
      ]
    },
    {
      "cell_type": "markdown",
      "metadata": {
        "id": "qfblzB3tpPMB"
      },
      "source": [
        "### STEP 1. Load Data"
      ]
    },
    {
      "cell_type": "code",
      "execution_count": 82,
      "metadata": {
        "colab": {
          "base_uri": "https://localhost:8080/",
          "height": 224
        },
        "id": "eSv3qmkz-VM1",
        "outputId": "10c413dc-a2a0-4d4e-a59a-2dbf04b633e0"
      },
      "outputs": [
        {
          "output_type": "stream",
          "name": "stdout",
          "text": [
            "<class 'pandas.core.frame.DataFrame'>\n"
          ]
        },
        {
          "output_type": "execute_result",
          "data": {
            "text/html": [
              "\n",
              "  <div id=\"df-963fc726-40b4-4b26-bdc9-8db0f2f3425e\">\n",
              "    <div class=\"colab-df-container\">\n",
              "      <div>\n",
              "<style scoped>\n",
              "    .dataframe tbody tr th:only-of-type {\n",
              "        vertical-align: middle;\n",
              "    }\n",
              "\n",
              "    .dataframe tbody tr th {\n",
              "        vertical-align: top;\n",
              "    }\n",
              "\n",
              "    .dataframe thead th {\n",
              "        text-align: right;\n",
              "    }\n",
              "</style>\n",
              "<table border=\"1\" class=\"dataframe\">\n",
              "  <thead>\n",
              "    <tr style=\"text-align: right;\">\n",
              "      <th></th>\n",
              "      <th>Q</th>\n",
              "      <th>A</th>\n",
              "      <th>label</th>\n",
              "    </tr>\n",
              "  </thead>\n",
              "  <tbody>\n",
              "    <tr>\n",
              "      <th>0</th>\n",
              "      <td>12시 땡!</td>\n",
              "      <td>하루가 또 가네요.</td>\n",
              "      <td>0</td>\n",
              "    </tr>\n",
              "    <tr>\n",
              "      <th>1</th>\n",
              "      <td>1지망 학교 떨어졌어</td>\n",
              "      <td>위로해 드립니다.</td>\n",
              "      <td>0</td>\n",
              "    </tr>\n",
              "    <tr>\n",
              "      <th>2</th>\n",
              "      <td>3박4일 놀러가고 싶다</td>\n",
              "      <td>여행은 언제나 좋죠.</td>\n",
              "      <td>0</td>\n",
              "    </tr>\n",
              "    <tr>\n",
              "      <th>3</th>\n",
              "      <td>3박4일 정도 놀러가고 싶다</td>\n",
              "      <td>여행은 언제나 좋죠.</td>\n",
              "      <td>0</td>\n",
              "    </tr>\n",
              "    <tr>\n",
              "      <th>4</th>\n",
              "      <td>PPL 심하네</td>\n",
              "      <td>눈살이 찌푸려지죠.</td>\n",
              "      <td>0</td>\n",
              "    </tr>\n",
              "  </tbody>\n",
              "</table>\n",
              "</div>\n",
              "      <button class=\"colab-df-convert\" onclick=\"convertToInteractive('df-963fc726-40b4-4b26-bdc9-8db0f2f3425e')\"\n",
              "              title=\"Convert this dataframe to an interactive table.\"\n",
              "              style=\"display:none;\">\n",
              "        \n",
              "  <svg xmlns=\"http://www.w3.org/2000/svg\" height=\"24px\"viewBox=\"0 0 24 24\"\n",
              "       width=\"24px\">\n",
              "    <path d=\"M0 0h24v24H0V0z\" fill=\"none\"/>\n",
              "    <path d=\"M18.56 5.44l.94 2.06.94-2.06 2.06-.94-2.06-.94-.94-2.06-.94 2.06-2.06.94zm-11 1L8.5 8.5l.94-2.06 2.06-.94-2.06-.94L8.5 2.5l-.94 2.06-2.06.94zm10 10l.94 2.06.94-2.06 2.06-.94-2.06-.94-.94-2.06-.94 2.06-2.06.94z\"/><path d=\"M17.41 7.96l-1.37-1.37c-.4-.4-.92-.59-1.43-.59-.52 0-1.04.2-1.43.59L10.3 9.45l-7.72 7.72c-.78.78-.78 2.05 0 2.83L4 21.41c.39.39.9.59 1.41.59.51 0 1.02-.2 1.41-.59l7.78-7.78 2.81-2.81c.8-.78.8-2.07 0-2.86zM5.41 20L4 18.59l7.72-7.72 1.47 1.35L5.41 20z\"/>\n",
              "  </svg>\n",
              "      </button>\n",
              "      \n",
              "  <style>\n",
              "    .colab-df-container {\n",
              "      display:flex;\n",
              "      flex-wrap:wrap;\n",
              "      gap: 12px;\n",
              "    }\n",
              "\n",
              "    .colab-df-convert {\n",
              "      background-color: #E8F0FE;\n",
              "      border: none;\n",
              "      border-radius: 50%;\n",
              "      cursor: pointer;\n",
              "      display: none;\n",
              "      fill: #1967D2;\n",
              "      height: 32px;\n",
              "      padding: 0 0 0 0;\n",
              "      width: 32px;\n",
              "    }\n",
              "\n",
              "    .colab-df-convert:hover {\n",
              "      background-color: #E2EBFA;\n",
              "      box-shadow: 0px 1px 2px rgba(60, 64, 67, 0.3), 0px 1px 3px 1px rgba(60, 64, 67, 0.15);\n",
              "      fill: #174EA6;\n",
              "    }\n",
              "\n",
              "    [theme=dark] .colab-df-convert {\n",
              "      background-color: #3B4455;\n",
              "      fill: #D2E3FC;\n",
              "    }\n",
              "\n",
              "    [theme=dark] .colab-df-convert:hover {\n",
              "      background-color: #434B5C;\n",
              "      box-shadow: 0px 1px 3px 1px rgba(0, 0, 0, 0.15);\n",
              "      filter: drop-shadow(0px 1px 2px rgba(0, 0, 0, 0.3));\n",
              "      fill: #FFFFFF;\n",
              "    }\n",
              "  </style>\n",
              "\n",
              "      <script>\n",
              "        const buttonEl =\n",
              "          document.querySelector('#df-963fc726-40b4-4b26-bdc9-8db0f2f3425e button.colab-df-convert');\n",
              "        buttonEl.style.display =\n",
              "          google.colab.kernel.accessAllowed ? 'block' : 'none';\n",
              "\n",
              "        async function convertToInteractive(key) {\n",
              "          const element = document.querySelector('#df-963fc726-40b4-4b26-bdc9-8db0f2f3425e');\n",
              "          const dataTable =\n",
              "            await google.colab.kernel.invokeFunction('convertToInteractive',\n",
              "                                                     [key], {});\n",
              "          if (!dataTable) return;\n",
              "\n",
              "          const docLinkHtml = 'Like what you see? Visit the ' +\n",
              "            '<a target=\"_blank\" href=https://colab.research.google.com/notebooks/data_table.ipynb>data table notebook</a>'\n",
              "            + ' to learn more about interactive tables.';\n",
              "          element.innerHTML = '';\n",
              "          dataTable['output_type'] = 'display_data';\n",
              "          await google.colab.output.renderOutput(dataTable, element);\n",
              "          const docLink = document.createElement('div');\n",
              "          docLink.innerHTML = docLinkHtml;\n",
              "          element.appendChild(docLink);\n",
              "        }\n",
              "      </script>\n",
              "    </div>\n",
              "  </div>\n",
              "  "
            ],
            "text/plain": [
              "                 Q            A  label\n",
              "0           12시 땡!   하루가 또 가네요.      0\n",
              "1      1지망 학교 떨어졌어    위로해 드립니다.      0\n",
              "2     3박4일 놀러가고 싶다  여행은 언제나 좋죠.      0\n",
              "3  3박4일 정도 놀러가고 싶다  여행은 언제나 좋죠.      0\n",
              "4          PPL 심하네   눈살이 찌푸려지죠.      0"
            ]
          },
          "metadata": {},
          "execution_count": 82
        }
      ],
      "source": [
        "path_to_file = '/content/drive/MyDrive/data/chatbot/ChatbotData.csv'\n",
        "\n",
        "df = pd.read_csv(path_to_file)\n",
        "print(type(df))\n",
        "df.head()"
      ]
    },
    {
      "cell_type": "markdown",
      "metadata": {
        "id": "jZcG4ieBqAKi"
      },
      "source": [
        "### STEP 2. Preprocessing Data"
      ]
    },
    {
      "cell_type": "markdown",
      "metadata": {
        "id": "zbGEgnuor-BT"
      },
      "source": [
        "- 정규 표현식을 사용하여 tokenizing 에 방해가 될 수 있는 요인을 삭제\n",
        "   - 구두점을 띄어쓰기로 대체\n",
        "   - 한국어 데이터인 점을 감안 영어와 한국어, 대화에 사용되는 물음표 느낌표 등을 제외한 특수문자 삭제"
      ]
    },
    {
      "cell_type": "code",
      "execution_count": 83,
      "metadata": {
        "id": "m8thYos2-VPr"
      },
      "outputs": [],
      "source": [
        "def preprocess_sentence(sentence):\n",
        "  sentence = sentence.lower().strip()\n",
        "\n",
        "  sentence = re.sub(r\"([?.!,])\",r\"\\1\",sentence)\n",
        "  sentence = re.sub(r'[\" \"]',\" \",sentence)\n",
        "\n",
        "  sentence = re.sub(r\"[^가-힣a-zA-Z?.!,]+\",\" \",sentence)\n",
        "  sentence = sentence.strip()\n",
        "  return sentence"
      ]
    },
    {
      "cell_type": "markdown",
      "metadata": {
        "id": "gF8Pm6gSsYei"
      },
      "source": [
        "- 데이터를 로드함과 동시에 질문과 답변 쌍으로 전처리"
      ]
    },
    {
      "cell_type": "code",
      "execution_count": 84,
      "metadata": {
        "id": "gbjuAMua-VTD"
      },
      "outputs": [],
      "source": [
        "def load_conversations():\n",
        "  with open(path_to_file,errors='ignore') as file:\n",
        "    lines = file.readlines()\n",
        "\n",
        "  inputs,outputs = [],[]\n",
        "  with open(path_to_file) as file:\n",
        "    lines = csv.reader(file)\n",
        "    next(lines)\n",
        "    for line in lines:\n",
        "      inputs.append(preprocess_sentence(line[0]))\n",
        "      outputs.append(preprocess_sentence(line[1]))\n",
        "\n",
        "  return inputs,outputs"
      ]
    },
    {
      "cell_type": "code",
      "execution_count": 85,
      "metadata": {
        "colab": {
          "base_uri": "https://localhost:8080/"
        },
        "id": "BFJ03q5R-VWm",
        "outputId": "7a52e3b6-2a50-4042-e849-462c18707c9b"
      },
      "outputs": [
        {
          "output_type": "stream",
          "name": "stdout",
          "text": [
            "전체 질문 샘플 수:  11823\n",
            "전채 답변 샘플 수:  11823\n",
            "전처리 후의 22 번째 질문 샘플: 가스비 장난 아님\n",
            "전처리 후의 22 번째 답변 샘플: 다음 달에는 더 절약해봐요.\n"
          ]
        }
      ],
      "source": [
        "questions,answers = load_conversations()\n",
        "print('전체 질문 샘플 수: ',len(questions))\n",
        "print('전채 답변 샘플 수: ',len(answers))\n",
        "print('전처리 후의 22 번째 질문 샘플: {}'.format(questions[21]))\n",
        "print('전처리 후의 22 번째 답변 샘플: {}'.format(answers[21]))"
      ]
    },
    {
      "cell_type": "markdown",
      "metadata": {
        "id": "2uQVDNMoqKZa"
      },
      "source": [
        "### STEP 3. Tokenizing using SubwordTextEncoder "
      ]
    },
    {
      "cell_type": "markdown",
      "metadata": {
        "id": "zyrNJEFFsjkN"
      },
      "source": [
        "- vocabulary 만들기 \n",
        "   - TensorFlow Datasets SubwordTextEncoder를 토크나이저로 사용한다.  단어보다 더 작은 단위인 Subword를 기준으로 토크나이징하고,  각 토큰을 고유한 정수로 인코딩한다\n",
        "   - 각 문장을 토큰화하고 각 문장의 시작과 끝을 나타내는 START_TOKEN 및 END_TOKEN을 추가한다."
      ]
    },
    {
      "cell_type": "code",
      "execution_count": 86,
      "metadata": {
        "id": "eMWeHPUl-VZ3"
      },
      "outputs": [],
      "source": [
        "tokenizer = tfds.deprecated.text.SubwordTextEncoder.build_from_corpus(questions + answers,target_vocab_size=2**13)"
      ]
    },
    {
      "cell_type": "code",
      "execution_count": 87,
      "metadata": {
        "colab": {
          "base_uri": "https://localhost:8080/"
        },
        "id": "IuOEQIiu-Vds",
        "outputId": "8f3a6e11-55fd-4b0c-a255-57a9d44e167c"
      },
      "outputs": [
        {
          "output_type": "stream",
          "name": "stdout",
          "text": [
            "START TOKEN의 번호:  [8131]\n",
            "END TOKEN의 번호:  [8132]\n"
          ]
        }
      ],
      "source": [
        "START_TOKEN , END_TOKEN = [tokenizer.vocab_size] , [tokenizer.vocab_size + 1]\n",
        "print('START TOKEN의 번호: ',START_TOKEN)\n",
        "print('END TOKEN의 번호: ',END_TOKEN)"
      ]
    },
    {
      "cell_type": "code",
      "execution_count": 88,
      "metadata": {
        "colab": {
          "base_uri": "https://localhost:8080/"
        },
        "id": "QtimbSYD-VhV",
        "outputId": "c42b868d-aab2-457c-85a2-65ce0706572b"
      },
      "outputs": [
        {
          "output_type": "stream",
          "name": "stdout",
          "text": [
            "8133\n"
          ]
        }
      ],
      "source": [
        "VOCAB_SIZE = tokenizer.vocab_size + 2 \n",
        "print(VOCAB_SIZE)"
      ]
    },
    {
      "cell_type": "markdown",
      "metadata": {
        "id": "NkID6vzKtLfo"
      },
      "source": [
        "-  각 단어를 고유한 정수로 인코딩(Integer encoding) & 패딩(Padding)\n",
        "  - 데이터의 길이를 확인해 적절한 길이로 최대 문장 길이를 적절히 정하고 해당 길이로 패딩"
      ]
    },
    {
      "cell_type": "code",
      "execution_count": 89,
      "metadata": {
        "colab": {
          "base_uri": "https://localhost:8080/"
        },
        "id": "RBchJ-2y-VlP",
        "outputId": "79f40fb9-adb7-4452-e8d2-e7d44cbde719"
      },
      "outputs": [
        {
          "output_type": "stream",
          "name": "stdout",
          "text": [
            "정수 인코딩 후의 21번째 질문 샘플: [5737, 607, 2481, 4144]\n",
            "정수 인코딩 후의 21번째 답변 샘플: [2351, 7482, 5, 6247, 94, 7921]\n"
          ]
        }
      ],
      "source": [
        "print('정수 인코딩 후의 21번째 질문 샘플: {}'.format(tokenizer.encode(questions[21])))\n",
        "print('정수 인코딩 후의 21번째 답변 샘플: {}'.format(tokenizer.encode(answers[21])))"
      ]
    },
    {
      "cell_type": "code",
      "execution_count": 90,
      "metadata": {
        "colab": {
          "base_uri": "https://localhost:8080/"
        },
        "id": "A9L0qeXJor-j",
        "outputId": "847e7910-191a-40e2-d436-8398929e08da"
      },
      "outputs": [
        {
          "output_type": "stream",
          "name": "stdout",
          "text": [
            "questions 최대 길이 : 15\n",
            "questions 평균 길이 : 3.5874989427387294\n",
            "answers 최대 길이 : 21\n",
            "answers 평균 길이 : 3.694070878795568\n"
          ]
        }
      ],
      "source": [
        "questions_len = [len(s.split()) for s in questions]\n",
        "answers_len = [len(s.split()) for s in answers]\n",
        "print(f'questions 최대 길이 : {np.max(questions_len)}')\n",
        "print(f'questions 평균 길이 : {np.mean(questions_len)}')\n",
        "print(f'answers 최대 길이 : {np.max(answers_len)}')\n",
        "print(f'answers 평균 길이 : {np.mean(answers_len)}')"
      ]
    },
    {
      "cell_type": "code",
      "execution_count": 91,
      "metadata": {
        "id": "QqS-HlVc-Voz"
      },
      "outputs": [],
      "source": [
        "MAX_LENGTH = 12\n",
        "\n",
        "def tokenize_and_filter(inputs,outputs):\n",
        "  tokenized_inputs,tokenized_outputs = [],[]\n",
        "\n",
        "  for (sentence1,sentence2) in zip(inputs,outputs):\n",
        "    sentence1 = START_TOKEN + tokenizer.encode(sentence1) + END_TOKEN\n",
        "    sentence2 = START_TOKEN + tokenizer.encode(sentence2) + END_TOKEN\n",
        "\n",
        "    if len(sentence1) <= MAX_LENGTH and len(sentence2) <= MAX_LENGTH :\n",
        "      tokenized_inputs.append(sentence1)\n",
        "      tokenized_outputs.append(sentence2)\n",
        "\n",
        "  tokenized_inputs = tf.keras.preprocessing.sequence.pad_sequences(tokenized_inputs,maxlen=MAX_LENGTH,padding='post')\n",
        "  tokenized_outputs = tf.keras.preprocessing.sequence.pad_sequences(tokenized_outputs,maxlen=MAX_LENGTH,padding='post')\n",
        "\n",
        "  return tokenized_inputs, tokenized_outputs"
      ]
    },
    {
      "cell_type": "code",
      "execution_count": 92,
      "metadata": {
        "colab": {
          "base_uri": "https://localhost:8080/"
        },
        "id": "0XSti4Xj-Vr8",
        "outputId": "9e921cf7-6a78-46dd-987a-fb8a976e9dce"
      },
      "outputs": [
        {
          "output_type": "stream",
          "name": "stdout",
          "text": [
            "단어장 크기 :  8133\n",
            "필터링 후의 질문 샘플 개수: 10752\n",
            "필터링 후의 답변 샘플 개수: 10752\n"
          ]
        }
      ],
      "source": [
        "questions,answers = tokenize_and_filter(questions,answers)\n",
        "print('단어장 크기 : ',(VOCAB_SIZE))\n",
        "print('필터링 후의 질문 샘플 개수: {}'.format(len(questions)))\n",
        "print('필터링 후의 답변 샘플 개수: {}'.format(len(answers)))"
      ]
    },
    {
      "cell_type": "markdown",
      "metadata": {
        "id": "zg29kDmft-LM"
      },
      "source": [
        "- 교사강요 사용하기 "
      ]
    },
    {
      "cell_type": "code",
      "execution_count": 93,
      "metadata": {
        "id": "l1lUQP5YFg37"
      },
      "outputs": [],
      "source": [
        "BATCH_SIZE = 64\n",
        "BUFFER_SIZE = 20000\n",
        "\n",
        "# 디코더는 이전의 target을 다음의 input으로 사용합니다.\n",
        "# 이에 따라 outputs에서는 START_TOKEN을 제거하겠습니다.\n",
        "dataset = tf.data.Dataset.from_tensor_slices((\n",
        "    {\n",
        "        'inputs': questions,\n",
        "        'dec_inputs': answers[:, :-1]\n",
        "    },\n",
        "    {\n",
        "        'outputs': answers[:, 1:]\n",
        "    },\n",
        "))\n",
        "\n",
        "dataset = dataset.cache()\n",
        "dataset = dataset.shuffle(BUFFER_SIZE)\n",
        "dataset = dataset.batch(BATCH_SIZE)\n",
        "dataset = dataset.prefetch(tf.data.experimental.AUTOTUNE)"
      ]
    },
    {
      "cell_type": "markdown",
      "metadata": {
        "id": "ngiYqIxaqWRO"
      },
      "source": [
        "#### STEP 4. Build Model"
      ]
    },
    {
      "cell_type": "markdown",
      "metadata": {
        "id": "0BlxFe0TuCD1"
      },
      "source": [
        "- transformer \n",
        "  - 텍스트 문장을 input 으로 받기 위해 단어를 embedding vector 로 변환하는 과정은 다른 모델들과 동일\n",
        "  - 그러나 embedding vector 에 어떤 값을 더해준 뒤에 입력으로 사용한다\n",
        "  - 문장에 있는 단어들을 한개씩 순차적으로 받지 않고, 모든 단어를 한꺼번에 입력 받기 때문에, 모델에게 어순 정보를 주어야 함\n",
        "  - 아래의 함수들을 이용해 transformer model 을 정의\n",
        "- positional encoding layer \n",
        "  - transformer 모델에서 embedding vector 에 더해주는 값\n",
        "  - sin 과 cos 를 이용해 단어의 순서정보를 더해줌\n",
        "  - 같은 단어라 하더라도 positional encoding 을 통해 다른 vector 값을 가지게 됨\n",
        "- scaled dot product\n",
        "  - attention 의 유사도를 구하는 방법\n",
        "  - ATTENTION\n",
        "    - 주어진 query 에 대해서 모든 key 와의 유사도 를 구하는 함수\n",
        "    - 이 유사도를 key 와 mapping 되어있는 value에 반영\n",
        "    - 반영된 value 값들을 뭉쳐 더해주면 최종 결과인 attention value\n",
        "  \n",
        "- multi-head attention\n",
        "  - `num_heads` 라는 변수를 이용해 몇개의 머리를 사용하여 연산을 수행할지 결정\n",
        "  - embedding vector 의 차원인 `d_model` 을 `num_heads` 의 개수만큼 나누어 수행 후 다시 합쳐 d_model 차원으로 돌려놓는다\n",
        "  - 각각의 머리가 각각 다른 관점에서 attention을 수행하므로, 한번의 어텐션으로는 놓칠 수 있는 정보를 캐치할 수 있음\n",
        "- padding mask\n",
        "    - padding token을 이용한 방법 \n",
        "    > *padding* :<br>\n",
        "        문장의 길이가 서로 다를 때, 모든 문장의 길이를 동일하게 해주는 과정에서 정해준 길이보다 짧은 경우에 숫자 0 을 차워 문장 길이를 맞춰주는 자연어 전처리 방법\n",
        "    - 이렇게 주어진 숫자 0 은 실제로 가진 의미가 없기 때문에 실제 연산시 제외되는 것이 좋다\n",
        "    - 숫자가 0 인 위치를 체크해서 padding masking 을 실행\n",
        "- look-ahead mask\n",
        "  - 다음 단어 가리기 \n",
        "  - RNN \n",
        "      - 각 단어가 순서대로 들어가고, 자신보다 앞에 있는 단어들만 참고해서 다음단어 예측\n",
        "      - first step : what -> is\n",
        "      - second step : what is -> the\n",
        "      - third step : what is the -> problem\n",
        "  - Transformer \n",
        "      - 전체 문장이 문장행렬로 들어가기 때문에 위치와 상관없이 모든 단어를 참고해서 다음 단어 예측\n",
        "      - 우리가 원하는 것 : 이전 단어들로부터 다음 단어를 예측하는 것 \n",
        "      - 뒤에 나올 단어를 가리는 masking 진행\n",
        "- encoder\n",
        "  - 2개의 sublayer\n",
        "    1. self attention(using multi head attention)\n",
        "    2. feed forward neural network \n",
        "  \n",
        "  - encoder layer 를 embedding layer 와 positional encoding 을 연결하고, 원하는 만큼 encoder layer 를 더 쌓아 transformer encoder 완성 \n",
        "  - encoder 와 decoder 내부에 각 sublayer 이후 훈련을 돕는 nomalization 사용\n",
        "  - hyper-parameter 인 `num_layers`개수 만큼 layer 쌓음\n",
        "- decoder\n",
        "  - 3 개의 sublayer\n",
        "    1. self attention(using multi-head attention)\n",
        "    2. incoder-decoder attention(using multi-head_attention)\n",
        "        - 이 부분에서 인코더가 디코더에 입력문장으로 부터 정보를 전달하는 과정 이루어짐\n",
        "    3. feed forward neural network\n"
      ]
    },
    {
      "cell_type": "code",
      "execution_count": 94,
      "metadata": {
        "id": "jYlTYxglFg7O"
      },
      "outputs": [],
      "source": [
        "# positional encoding layer\n",
        "class PositionalEncoding(tf.keras.layers.Layer):\n",
        "\n",
        "  def __init__(self, position, d_model):\n",
        "    super(PositionalEncoding, self).__init__()\n",
        "    self.pos_encoding = self.positional_encoding(position, d_model)\n",
        "\n",
        "  def get_angles(self, position, i, d_model):\n",
        "    angles = 1 / tf.pow(10000, (2 * (i // 2)) / tf.cast(d_model, tf.float32))\n",
        "    return position * angles\n",
        "\n",
        "  def positional_encoding(self, position, d_model):\n",
        "    # 각도 배열 생성\n",
        "    angle_rads = self.get_angles(\n",
        "        position=tf.range(position, dtype=tf.float32)[:, tf.newaxis],\n",
        "        i=tf.range(d_model, dtype=tf.float32)[tf.newaxis, :],\n",
        "        d_model=d_model)\n",
        "\n",
        "    # 배열의 짝수 인덱스에는 sin 함수 적용\n",
        "    sines = tf.math.sin(angle_rads[:, 0::2])\n",
        "    # 배열의 홀수 인덱스에는 cosine 함수 적용\n",
        "    cosines = tf.math.cos(angle_rads[:, 1::2])\n",
        "\n",
        "    # sin과 cosine이 교차되도록 재배열\n",
        "    pos_encoding = tf.stack([sines, cosines], axis=0)\n",
        "    pos_encoding = tf.transpose(pos_encoding,[1, 2, 0]) \n",
        "    pos_encoding = tf.reshape(pos_encoding, [position, d_model])\n",
        "\n",
        "    pos_encoding = pos_encoding[tf.newaxis, ...]\n",
        "    return tf.cast(pos_encoding, tf.float32)\n",
        "\n",
        "  def call(self, inputs):\n",
        "    return inputs + self.pos_encoding[:, :tf.shape(inputs)[1], :]\n"
      ]
    },
    {
      "cell_type": "code",
      "execution_count": 95,
      "metadata": {
        "id": "RyyDsHXoFg-V"
      },
      "outputs": [],
      "source": [
        "# scaled dot product attention function\n",
        "def scaled_dot_product_attention(query, key, value, mask):\n",
        "  # 어텐션 가중치는 Q와 K의 닷 프로덕트\n",
        "  matmul_qk = tf.matmul(query, key, transpose_b=True)\n",
        "\n",
        "  # 가중치를 정규화\n",
        "  depth = tf.cast(tf.shape(key)[-1], tf.float32)\n",
        "  logits = matmul_qk / tf.math.sqrt(depth)\n",
        "\n",
        "  # 패딩에 마스크 추가\n",
        "  if mask is not None:\n",
        "    logits += (mask * -1e9)\n",
        "\n",
        "  # softmax적용\n",
        "  attention_weights = tf.nn.softmax(logits, axis=-1)\n",
        "\n",
        "  # 최종 어텐션은 가중치와 V의 닷 프로덕트\n",
        "  output = tf.matmul(attention_weights, value)\n",
        "  return output\n"
      ]
    },
    {
      "cell_type": "code",
      "execution_count": 96,
      "metadata": {
        "id": "snxSrheQFhBc"
      },
      "outputs": [],
      "source": [
        "# multi head attention\n",
        "class MultiHeadAttention(tf.keras.layers.Layer):\n",
        "\n",
        "  def __init__(self, d_model, num_heads, name=\"multi_head_attention\"):\n",
        "    super(MultiHeadAttention, self).__init__(name=name)\n",
        "    self.num_heads = num_heads\n",
        "    self.d_model = d_model\n",
        "\n",
        "    assert d_model % self.num_heads == 0\n",
        "\n",
        "    self.depth = d_model // self.num_heads\n",
        "\n",
        "    self.query_dense = tf.keras.layers.Dense(units=d_model)\n",
        "    self.key_dense = tf.keras.layers.Dense(units=d_model)\n",
        "    self.value_dense = tf.keras.layers.Dense(units=d_model)\n",
        "\n",
        "    self.dense = tf.keras.layers.Dense(units=d_model)\n",
        "\n",
        "  def split_heads(self, inputs, batch_size):\n",
        "    inputs = tf.reshape(\n",
        "        inputs, shape=(batch_size, -1, self.num_heads, self.depth))\n",
        "    return tf.transpose(inputs, perm=[0, 2, 1, 3])\n",
        "\n",
        "  def call(self, inputs):\n",
        "    query, key, value, mask = inputs['query'], inputs['key'], inputs[\n",
        "        'value'], inputs['mask']\n",
        "    batch_size = tf.shape(query)[0]\n",
        "\n",
        "    # Q, K, V에 각각 Dense를 적용합니다\n",
        "    query = self.query_dense(query)\n",
        "    key = self.key_dense(key)\n",
        "    value = self.value_dense(value)\n",
        "\n",
        "    # 병렬 연산을 위한 머리를 여러 개 만듭니다\n",
        "    query = self.split_heads(query, batch_size)\n",
        "    key = self.split_heads(key, batch_size)\n",
        "    value = self.split_heads(value, batch_size)\n",
        "\n",
        "    # 스케일드 닷 프로덕트 어텐션 함수\n",
        "    scaled_attention = scaled_dot_product_attention(query, key, value, mask)\n",
        "\n",
        "    scaled_attention = tf.transpose(scaled_attention, perm=[0, 2, 1, 3])\n",
        "\n",
        "    # 어텐션 연산 후에 각 결과를 다시 연결(concatenate)합니다\n",
        "    concat_attention = tf.reshape(scaled_attention,\n",
        "                                  (batch_size, -1, self.d_model))\n",
        "\n",
        "    # 최종 결과에도 Dense를 한 번 더 적용합니다\n",
        "    outputs = self.dense(concat_attention)\n",
        "\n",
        "    return outputs"
      ]
    },
    {
      "cell_type": "code",
      "execution_count": 97,
      "metadata": {
        "id": "pOoX87s9FhEp"
      },
      "outputs": [],
      "source": [
        "# padding mask\n",
        "def create_padding_mask(x):\n",
        "  mask = tf.cast(tf.math.equal(x, 0), tf.float32)\n",
        "  # (batch_size, 1, 1, sequence length)\n",
        "  return mask[:, tf.newaxis, tf.newaxis, :]"
      ]
    },
    {
      "cell_type": "code",
      "execution_count": 98,
      "metadata": {
        "id": "AnLUd0K5FhNA"
      },
      "outputs": [],
      "source": [
        "# look-ahead masking\n",
        "def create_look_ahead_mask(x):\n",
        "  seq_len = tf.shape(x)[1]\n",
        "  look_ahead_mask = 1 - tf.linalg.band_part(tf.ones((seq_len, seq_len)), -1, 0)\n",
        "  padding_mask = create_padding_mask(x)\n",
        "  return tf.maximum(look_ahead_mask, padding_mask)\n"
      ]
    },
    {
      "cell_type": "code",
      "execution_count": 99,
      "metadata": {
        "id": "QcI6krBbFhP7"
      },
      "outputs": [],
      "source": [
        "# Encoder layer function\n",
        "# 인코더 하나의 레이어를 함수로 구현.\n",
        "# 이 하나의 레이어 안에는 두 개의 서브 레이어가 존재합니다.\n",
        "def encoder_layer(units, d_model, num_heads, dropout, name=\"encoder_layer\"):\n",
        "  inputs = tf.keras.Input(shape=(None, d_model), name=\"inputs\")\n",
        "\n",
        "  # 패딩 마스크 사용\n",
        "  padding_mask = tf.keras.Input(shape=(1, 1, None), name=\"padding_mask\")\n",
        "\n",
        "  # 첫 번째 서브 레이어 : 멀티 헤드 어텐션 수행 (셀프 어텐션)\n",
        "  attention = MultiHeadAttention(\n",
        "      d_model, num_heads, name=\"attention\")({\n",
        "          'query': inputs,\n",
        "          'key': inputs,\n",
        "          'value': inputs,\n",
        "          'mask': padding_mask\n",
        "      })\n",
        "\n",
        "  # 어텐션의 결과는 Dropout과 Layer Normalization이라는 훈련을 돕는 테크닉을 수행\n",
        "  attention = tf.keras.layers.Dropout(rate=dropout)(attention)\n",
        "  attention = tf.keras.layers.LayerNormalization(\n",
        "      epsilon=1e-6)(inputs + attention)\n",
        "\n",
        "  # 두 번째 서브 레이어 : 2개의 완전연결층\n",
        "  outputs = tf.keras.layers.Dense(units=units, activation='relu')(attention)\n",
        "  outputs = tf.keras.layers.Dense(units=d_model)(outputs)\n",
        "\n",
        "  # 완전연결층의 결과는 Dropout과 LayerNormalization이라는 훈련을 돕는 테크닉을 수행\n",
        "  outputs = tf.keras.layers.Dropout(rate=dropout)(outputs)\n",
        "  outputs = tf.keras.layers.LayerNormalization(\n",
        "      epsilon=1e-6)(attention + outputs)\n",
        "\n",
        "  return tf.keras.Model(\n",
        "      inputs=[inputs, padding_mask], outputs=outputs, name=name)"
      ]
    },
    {
      "cell_type": "code",
      "execution_count": 100,
      "metadata": {
        "id": "yPlHd6ShFhS7"
      },
      "outputs": [],
      "source": [
        "# stacking encoder layers to build encoder\n",
        "def encoder(vocab_size,\n",
        "            num_layers,\n",
        "            units,\n",
        "            d_model,\n",
        "            num_heads,\n",
        "            dropout,\n",
        "            name=\"encoder\"):\n",
        "  inputs = tf.keras.Input(shape=(None,), name=\"inputs\")\n",
        "\n",
        "  # 패딩 마스크 사용\n",
        "  padding_mask = tf.keras.Input(shape=(1, 1, None), name=\"padding_mask\")\n",
        "\n",
        "  # 임베딩 레이어\n",
        "  embeddings = tf.keras.layers.Embedding(vocab_size, d_model)(inputs)\n",
        "  embeddings *= tf.math.sqrt(tf.cast(d_model, tf.float32))\n",
        "\n",
        "  # 포지셔널 인코딩\n",
        "  embeddings = PositionalEncoding(vocab_size, d_model)(embeddings)\n",
        "\n",
        "  outputs = tf.keras.layers.Dropout(rate=dropout)(embeddings)\n",
        "\n",
        "  # num_layers만큼 쌓아올린 인코더의 층.\n",
        "  for i in range(num_layers):\n",
        "    outputs = encoder_layer(\n",
        "        units=units,\n",
        "        d_model=d_model,\n",
        "        num_heads=num_heads,\n",
        "        dropout=dropout,\n",
        "        name=\"encoder_layer_{}\".format(i),\n",
        "    )([outputs, padding_mask])\n",
        "\n",
        "  return tf.keras.Model(\n",
        "      inputs=[inputs, padding_mask], outputs=outputs, name=name)"
      ]
    },
    {
      "cell_type": "code",
      "execution_count": 101,
      "metadata": {
        "id": "qgevIkuqFhVj"
      },
      "outputs": [],
      "source": [
        "# Decoder function\n",
        "# 디코더 하나의 레이어를 함수로 구현.\n",
        "# 이 하나의 레이어 안에는 세 개의 서브 레이어가 존재합니다.\n",
        "def decoder_layer(units, d_model, num_heads, dropout, name=\"decoder_layer\"):\n",
        "  inputs = tf.keras.Input(shape=(None, d_model), name=\"inputs\")\n",
        "  enc_outputs = tf.keras.Input(shape=(None, d_model), name=\"encoder_outputs\")\n",
        "  look_ahead_mask = tf.keras.Input(\n",
        "      shape=(1, None, None), name=\"look_ahead_mask\")\n",
        "  padding_mask = tf.keras.Input(shape=(1, 1, None), name='padding_mask')\n",
        "\n",
        "  # 첫 번째 서브 레이어 : 멀티 헤드 어텐션 수행 (셀프 어텐션)\n",
        "  attention1 = MultiHeadAttention(\n",
        "      d_model, num_heads, name=\"attention_1\")(inputs={\n",
        "          'query': inputs,\n",
        "          'key': inputs,\n",
        "          'value': inputs,\n",
        "          'mask': look_ahead_mask\n",
        "      })\n",
        "\n",
        "  # 멀티 헤드 어텐션의 결과는 LayerNormalization이라는 훈련을 돕는 테크닉을 수행\n",
        "  attention1 = tf.keras.layers.LayerNormalization(\n",
        "      epsilon=1e-6)(attention1 + inputs)\n",
        "\n",
        "  # 두 번째 서브 레이어 : 마스크드 멀티 헤드 어텐션 수행 (인코더-디코더 어텐션)\n",
        "  attention2 = MultiHeadAttention(\n",
        "      d_model, num_heads, name=\"attention_2\")(inputs={\n",
        "          'query': attention1,\n",
        "          'key': enc_outputs,\n",
        "          'value': enc_outputs,\n",
        "          'mask': padding_mask\n",
        "      })\n",
        "\n",
        "  # 마스크드 멀티 헤드 어텐션의 결과는\n",
        "  # Dropout과 LayerNormalization이라는 훈련을 돕는 테크닉을 수행\n",
        "  attention2 = tf.keras.layers.Dropout(rate=dropout)(attention2)\n",
        "  attention2 = tf.keras.layers.LayerNormalization(\n",
        "      epsilon=1e-6)(attention2 + attention1)\n",
        "\n",
        "  # 세 번째 서브 레이어 : 2개의 완전연결층\n",
        "  outputs = tf.keras.layers.Dense(units=units, activation='relu')(attention2)\n",
        "  outputs = tf.keras.layers.Dense(units=d_model)(outputs)\n",
        "\n",
        "  # 완전연결층의 결과는 Dropout과 LayerNormalization 수행\n",
        "  outputs = tf.keras.layers.Dropout(rate=dropout)(outputs)\n",
        "  outputs = tf.keras.layers.LayerNormalization(\n",
        "      epsilon=1e-6)(outputs + attention2)\n",
        "\n",
        "  return tf.keras.Model(\n",
        "      inputs=[inputs, enc_outputs, look_ahead_mask, padding_mask],\n",
        "      outputs=outputs,\n",
        "      name=name)"
      ]
    },
    {
      "cell_type": "code",
      "execution_count": 102,
      "metadata": {
        "id": "u4zv7QA1mEfu"
      },
      "outputs": [],
      "source": [
        "# stacking decoder layers to build decoder\n",
        "def decoder(vocab_size,\n",
        "            num_layers,\n",
        "            units,\n",
        "            d_model,\n",
        "            num_heads,\n",
        "            dropout,\n",
        "            name='decoder'):\n",
        "  inputs = tf.keras.Input(shape=(None,), name='inputs')\n",
        "  enc_outputs = tf.keras.Input(shape=(None, d_model), name='encoder_outputs')\n",
        "  look_ahead_mask = tf.keras.Input(\n",
        "      shape=(1, None, None), name='look_ahead_mask')\n",
        "\n",
        "  # 패딩 마스크\n",
        "  padding_mask = tf.keras.Input(shape=(1, 1, None), name='padding_mask')\n",
        "  \n",
        "  # 임베딩 레이어\n",
        "  embeddings = tf.keras.layers.Embedding(vocab_size, d_model)(inputs)\n",
        "  embeddings *= tf.math.sqrt(tf.cast(d_model, tf.float32))\n",
        "\n",
        "  # 포지셔널 인코딩\n",
        "  embeddings = PositionalEncoding(vocab_size, d_model)(embeddings)\n",
        "\n",
        "  # Dropout이라는 훈련을 돕는 테크닉을 수행\n",
        "  outputs = tf.keras.layers.Dropout(rate=dropout)(embeddings)\n",
        "\n",
        "  for i in range(num_layers):\n",
        "    outputs = decoder_layer(\n",
        "        units=units,\n",
        "        d_model=d_model,\n",
        "        num_heads=num_heads,\n",
        "        dropout=dropout,\n",
        "        name='decoder_layer_{}'.format(i),\n",
        "    )(inputs=[outputs, enc_outputs, look_ahead_mask, padding_mask])\n",
        "\n",
        "  return tf.keras.Model(\n",
        "      inputs=[inputs, enc_outputs, look_ahead_mask, padding_mask],\n",
        "      outputs=outputs,\n",
        "      name=name)"
      ]
    },
    {
      "cell_type": "code",
      "execution_count": 103,
      "metadata": {
        "id": "p4PM1qnWmEiJ"
      },
      "outputs": [],
      "source": [
        "def transformer(vocab_size,\n",
        "                num_layers,\n",
        "                units,\n",
        "                d_model,\n",
        "                num_heads,\n",
        "                dropout,\n",
        "                name=\"transformer\"):\n",
        "  inputs = tf.keras.Input(shape=(None,), name=\"inputs\")\n",
        "  dec_inputs = tf.keras.Input(shape=(None,), name=\"dec_inputs\")\n",
        "\n",
        "  # 인코더에서 패딩을 위한 마스크\n",
        "  enc_padding_mask = tf.keras.layers.Lambda(\n",
        "      create_padding_mask, output_shape=(1, 1, None),\n",
        "      name='enc_padding_mask')(inputs)\n",
        "\n",
        "  # 디코더에서 미래의 토큰을 마스크 하기 위해서 사용합니다.\n",
        "  # 내부적으로 패딩 마스크도 포함되어져 있습니다.\n",
        "  look_ahead_mask = tf.keras.layers.Lambda(\n",
        "      create_look_ahead_mask,\n",
        "      output_shape=(1, None, None),\n",
        "      name='look_ahead_mask')(dec_inputs)\n",
        "\n",
        "  # 두 번째 어텐션 블록에서 인코더의 벡터들을 마스킹\n",
        "  # 디코더에서 패딩을 위한 마스크\n",
        "  dec_padding_mask = tf.keras.layers.Lambda(\n",
        "      create_padding_mask, output_shape=(1, 1, None),\n",
        "      name='dec_padding_mask')(inputs)\n",
        "\n",
        "  # 인코더\n",
        "  enc_outputs = encoder(\n",
        "      vocab_size=vocab_size,\n",
        "      num_layers=num_layers,\n",
        "      units=units,\n",
        "      d_model=d_model,\n",
        "      num_heads=num_heads,\n",
        "      dropout=dropout,\n",
        "  )(inputs=[inputs, enc_padding_mask])\n",
        "\n",
        "  # 디코더\n",
        "  dec_outputs = decoder(\n",
        "      vocab_size=vocab_size,\n",
        "      num_layers=num_layers,\n",
        "      units=units,\n",
        "      d_model=d_model,\n",
        "      num_heads=num_heads,\n",
        "      dropout=dropout,\n",
        "  )(inputs=[dec_inputs, enc_outputs, look_ahead_mask, dec_padding_mask])\n",
        "\n",
        "  # 완전연결층\n",
        "  outputs = tf.keras.layers.Dense(units=vocab_size, name=\"outputs\")(dec_outputs)\n",
        "\n",
        "  return tf.keras.Model(inputs=[inputs, dec_inputs], outputs=outputs, name=name)"
      ]
    },
    {
      "cell_type": "code",
      "execution_count": 104,
      "metadata": {
        "colab": {
          "base_uri": "https://localhost:8080/"
        },
        "id": "HoPl_GV_mElC",
        "outputId": "fdb51b9c-c011-418b-a7e2-0305d8b247d6"
      },
      "outputs": [
        {
          "output_type": "stream",
          "name": "stdout",
          "text": [
            "Model: \"transformer\"\n",
            "__________________________________________________________________________________________________\n",
            " Layer (type)                   Output Shape         Param #     Connected to                     \n",
            "==================================================================================================\n",
            " inputs (InputLayer)            [(None, None)]       0           []                               \n",
            "                                                                                                  \n",
            " dec_inputs (InputLayer)        [(None, None)]       0           []                               \n",
            "                                                                                                  \n",
            " enc_padding_mask (Lambda)      (None, 1, 1, None)   0           ['inputs[0][0]']                 \n",
            "                                                                                                  \n",
            " encoder (Functional)           (None, None, 256)    3136256     ['inputs[0][0]',                 \n",
            "                                                                  'enc_padding_mask[0][0]']       \n",
            "                                                                                                  \n",
            " look_ahead_mask (Lambda)       (None, 1, None, Non  0           ['dec_inputs[0][0]']             \n",
            "                                e)                                                                \n",
            "                                                                                                  \n",
            " dec_padding_mask (Lambda)      (None, 1, 1, None)   0           ['inputs[0][0]']                 \n",
            "                                                                                                  \n",
            " decoder (Functional)           (None, None, 256)    3663616     ['dec_inputs[0][0]',             \n",
            "                                                                  'encoder[0][0]',                \n",
            "                                                                  'look_ahead_mask[0][0]',        \n",
            "                                                                  'dec_padding_mask[0][0]']       \n",
            "                                                                                                  \n",
            " outputs (Dense)                (None, None, 8133)   2090181     ['decoder[0][0]']                \n",
            "                                                                                                  \n",
            "==================================================================================================\n",
            "Total params: 8,890,053\n",
            "Trainable params: 8,890,053\n",
            "Non-trainable params: 0\n",
            "__________________________________________________________________________________________________\n"
          ]
        }
      ],
      "source": [
        "tf.keras.backend.clear_session()\n",
        "\n",
        "# 하이퍼파라미터\n",
        "NUM_LAYERS = 2 # 인코더와 디코더의 층의 개수\n",
        "D_MODEL = 256 # 인코더와 디코더 내부의 입, 출력의 고정 차원\n",
        "NUM_HEADS = 8 # 멀티 헤드 어텐션에서의 헤드 수 \n",
        "UNITS = 512 # 피드 포워드 신경망의 은닉층의 크기\n",
        "DROPOUT = 0.1 # 드롭아웃의 비율\n",
        "\n",
        "model = transformer(\n",
        "    vocab_size=VOCAB_SIZE,\n",
        "    num_layers=NUM_LAYERS,\n",
        "    units=UNITS,\n",
        "    d_model=D_MODEL,\n",
        "    num_heads=NUM_HEADS,\n",
        "    dropout=DROPOUT)\n",
        "\n",
        "model.summary()"
      ]
    },
    {
      "cell_type": "markdown",
      "source": [
        "- loss function"
      ],
      "metadata": {
        "id": "d3zjBu9tzxGt"
      }
    },
    {
      "cell_type": "code",
      "execution_count": 105,
      "metadata": {
        "id": "HBmJ3jyTmEn0"
      },
      "outputs": [],
      "source": [
        "def loss_function(y_true, y_pred):\n",
        "  y_true = tf.reshape(y_true, shape=(-1, MAX_LENGTH - 1))\n",
        "  \n",
        "  loss = tf.keras.losses.SparseCategoricalCrossentropy(\n",
        "      from_logits=True, reduction='none')(y_true, y_pred)\n",
        "\n",
        "  mask = tf.cast(tf.not_equal(y_true, 0), tf.float32)\n",
        "  loss = tf.multiply(loss, mask)\n",
        "\n",
        "  return tf.reduce_mean(loss)"
      ]
    },
    {
      "cell_type": "markdown",
      "source": [
        "- learning rate\n",
        "  - 최근에는 모델학습 초기에 learning rate를 급격히 높였다가, 이후 train step이 진행됨에 따라 서서히 낮추어 가면서 안정적으로 수렴하게 하는 고급 기법을 널리 사용하고 있다\n",
        "  -  이런 방법을 커스텀 학습률 스케줄링(Custom Learning rate Scheduling)이라고 한다"
      ],
      "metadata": {
        "id": "hY8maCihza6A"
      }
    },
    {
      "cell_type": "code",
      "execution_count": 106,
      "metadata": {
        "id": "knTUKqrNmErA"
      },
      "outputs": [],
      "source": [
        "class CustomSchedule(tf.keras.optimizers.schedules.LearningRateSchedule):\n",
        "\n",
        "  def __init__(self, d_model, warmup_steps=4000):\n",
        "    super(CustomSchedule, self).__init__()\n",
        "\n",
        "    self.d_model = d_model\n",
        "    self.d_model = tf.cast(self.d_model, tf.float32)\n",
        "\n",
        "    self.warmup_steps = warmup_steps\n",
        "\n",
        "  def __call__(self, step):\n",
        "    arg1 = tf.math.rsqrt(step)\n",
        "    arg2 = step * (self.warmup_steps**-1.5)\n",
        "\n",
        "    return tf.math.rsqrt(self.d_model) * tf.math.minimum(arg1, arg2)"
      ]
    },
    {
      "cell_type": "code",
      "execution_count": 107,
      "metadata": {
        "colab": {
          "base_uri": "https://localhost:8080/",
          "height": 297
        },
        "id": "moUgrxPWmEuD",
        "outputId": "cbee1a00-7750-4dc9-bade-7a07671cb0cc"
      },
      "outputs": [
        {
          "output_type": "execute_result",
          "data": {
            "text/plain": [
              "Text(0.5, 0, 'Train Step')"
            ]
          },
          "metadata": {},
          "execution_count": 107
        },
        {
          "output_type": "display_data",
          "data": {
            "image/png": "[encoded data removed]",
            "text/plain": [
              "<Figure size 432x288 with 1 Axes>"
            ]
          },
          "metadata": {
            "needs_background": "light"
          }
        }
      ],
      "source": [
        "sample_learning_rate = CustomSchedule(d_model=128)\n",
        "\n",
        "plt.plot(sample_learning_rate(tf.range(200000, dtype=tf.float32)))\n",
        "plt.ylabel(\"Learning Rate\")\n",
        "plt.xlabel(\"Train Step\")"
      ]
    },
    {
      "cell_type": "markdown",
      "metadata": {
        "id": "9ttDyX9EqqeC"
      },
      "source": [
        "### STEP 5. Train Model & Testing chatbot"
      ]
    },
    {
      "cell_type": "code",
      "execution_count": 108,
      "metadata": {
        "id": "ddFvrzGEmEw-"
      },
      "outputs": [],
      "source": [
        "learning_rate = CustomSchedule(D_MODEL)\n",
        "\n",
        "optimizer = tf.keras.optimizers.Adam(\n",
        "    learning_rate, beta_1=0.9, beta_2=0.98, epsilon=1e-9)\n",
        "\n",
        "def accuracy(y_true, y_pred):\n",
        "  y_true = tf.reshape(y_true, shape=(-1, MAX_LENGTH - 1))\n",
        "  return tf.keras.metrics.sparse_categorical_accuracy(y_true, y_pred)\n",
        "\n",
        "model.compile(optimizer=optimizer, loss=loss_function, metrics=[accuracy])"
      ]
    },
    {
      "cell_type": "code",
      "execution_count": 109,
      "metadata": {
        "colab": {
          "base_uri": "https://localhost:8080/"
        },
        "id": "ngSs3P6FmEz3",
        "outputId": "668253c6-9e78-42bd-bca5-8a32a9eb4342"
      },
      "outputs": [
        {
          "output_type": "stream",
          "name": "stdout",
          "text": [
            "Epoch 1/50\n",
            "168/168 [==============================] - 12s 31ms/step - loss: 4.8307 - accuracy: 0.1025\n",
            "Epoch 2/50\n",
            "168/168 [==============================] - 5s 30ms/step - loss: 3.9536 - accuracy: 0.1750\n",
            "Epoch 3/50\n",
            "168/168 [==============================] - 5s 30ms/step - loss: 3.3144 - accuracy: 0.1777\n",
            "Epoch 4/50\n",
            "168/168 [==============================] - 5s 31ms/step - loss: 3.0334 - accuracy: 0.1873\n",
            "Epoch 5/50\n",
            "168/168 [==============================] - 5s 30ms/step - loss: 2.8502 - accuracy: 0.1975\n",
            "Epoch 6/50\n",
            "168/168 [==============================] - 5s 30ms/step - loss: 2.6702 - accuracy: 0.2098\n",
            "Epoch 7/50\n",
            "168/168 [==============================] - 5s 31ms/step - loss: 2.4721 - accuracy: 0.2275\n",
            "Epoch 8/50\n",
            "168/168 [==============================] - 7s 42ms/step - loss: 2.2516 - accuracy: 0.2507\n",
            "Epoch 9/50\n",
            "168/168 [==============================] - 5s 31ms/step - loss: 2.0084 - accuracy: 0.2787\n",
            "Epoch 10/50\n",
            "168/168 [==============================] - 5s 31ms/step - loss: 1.7508 - accuracy: 0.3079\n",
            "Epoch 11/50\n",
            "168/168 [==============================] - 5s 31ms/step - loss: 1.4848 - accuracy: 0.3405\n",
            "Epoch 12/50\n",
            "168/168 [==============================] - 5s 31ms/step - loss: 1.2271 - accuracy: 0.3744\n",
            "Epoch 13/50\n",
            "168/168 [==============================] - 5s 31ms/step - loss: 0.9791 - accuracy: 0.4102\n",
            "Epoch 14/50\n",
            "168/168 [==============================] - 5s 31ms/step - loss: 0.7580 - accuracy: 0.4443\n",
            "Epoch 15/50\n",
            "168/168 [==============================] - 5s 31ms/step - loss: 0.5655 - accuracy: 0.4751\n",
            "Epoch 16/50\n",
            "168/168 [==============================] - 5s 31ms/step - loss: 0.4132 - accuracy: 0.5017\n",
            "Epoch 17/50\n",
            "168/168 [==============================] - 5s 31ms/step - loss: 0.2934 - accuracy: 0.5237\n",
            "Epoch 18/50\n",
            "168/168 [==============================] - 5s 31ms/step - loss: 0.2145 - accuracy: 0.5384\n",
            "Epoch 19/50\n",
            "168/168 [==============================] - 7s 40ms/step - loss: 0.1641 - accuracy: 0.5473\n",
            "Epoch 20/50\n",
            "168/168 [==============================] - 5s 31ms/step - loss: 0.1381 - accuracy: 0.5516\n",
            "Epoch 21/50\n",
            "168/168 [==============================] - 5s 31ms/step - loss: 0.1220 - accuracy: 0.5531\n",
            "Epoch 22/50\n",
            "168/168 [==============================] - 5s 31ms/step - loss: 0.1155 - accuracy: 0.5538\n",
            "Epoch 23/50\n",
            "168/168 [==============================] - 5s 31ms/step - loss: 0.1106 - accuracy: 0.5548\n",
            "Epoch 24/50\n",
            "168/168 [==============================] - 5s 31ms/step - loss: 0.1062 - accuracy: 0.5556\n",
            "Epoch 25/50\n",
            "168/168 [==============================] - 5s 31ms/step - loss: 0.0983 - accuracy: 0.5565\n",
            "Epoch 26/50\n",
            "168/168 [==============================] - 8s 48ms/step - loss: 0.0851 - accuracy: 0.5601\n",
            "Epoch 27/50\n",
            "168/168 [==============================] - 7s 43ms/step - loss: 0.0790 - accuracy: 0.5618\n",
            "Epoch 28/50\n",
            "168/168 [==============================] - 5s 31ms/step - loss: 0.0708 - accuracy: 0.5635\n",
            "Epoch 29/50\n",
            "168/168 [==============================] - 5s 32ms/step - loss: 0.0642 - accuracy: 0.5648\n",
            "Epoch 30/50\n",
            "168/168 [==============================] - 5s 32ms/step - loss: 0.0552 - accuracy: 0.5672\n",
            "Epoch 31/50\n",
            "168/168 [==============================] - 8s 48ms/step - loss: 0.0520 - accuracy: 0.5680\n",
            "Epoch 32/50\n",
            "168/168 [==============================] - 6s 36ms/step - loss: 0.0475 - accuracy: 0.5696\n",
            "Epoch 33/50\n",
            "168/168 [==============================] - 5s 31ms/step - loss: 0.0459 - accuracy: 0.5698\n",
            "Epoch 34/50\n",
            "168/168 [==============================] - 5s 31ms/step - loss: 0.0428 - accuracy: 0.5706\n",
            "Epoch 35/50\n",
            "168/168 [==============================] - 5s 32ms/step - loss: 0.0411 - accuracy: 0.5710\n",
            "Epoch 36/50\n",
            "168/168 [==============================] - 5s 31ms/step - loss: 0.0366 - accuracy: 0.5724\n",
            "Epoch 37/50\n",
            "168/168 [==============================] - 5s 31ms/step - loss: 0.0324 - accuracy: 0.5733\n",
            "Epoch 38/50\n",
            "168/168 [==============================] - 5s 31ms/step - loss: 0.0326 - accuracy: 0.5732\n",
            "Epoch 39/50\n",
            "168/168 [==============================] - 5s 31ms/step - loss: 0.0306 - accuracy: 0.5736\n",
            "Epoch 40/50\n",
            "168/168 [==============================] - 5s 31ms/step - loss: 0.0300 - accuracy: 0.5740\n",
            "Epoch 41/50\n",
            "168/168 [==============================] - 5s 32ms/step - loss: 0.0263 - accuracy: 0.5748\n",
            "Epoch 42/50\n",
            "168/168 [==============================] - 5s 31ms/step - loss: 0.0272 - accuracy: 0.5746\n",
            "Epoch 43/50\n",
            "168/168 [==============================] - 5s 31ms/step - loss: 0.0255 - accuracy: 0.5746\n",
            "Epoch 44/50\n",
            "168/168 [==============================] - 6s 34ms/step - loss: 0.0225 - accuracy: 0.5757\n",
            "Epoch 45/50\n",
            "168/168 [==============================] - 5s 31ms/step - loss: 0.0218 - accuracy: 0.5759\n",
            "Epoch 46/50\n",
            "168/168 [==============================] - 5s 31ms/step - loss: 0.0222 - accuracy: 0.5758\n",
            "Epoch 47/50\n",
            "168/168 [==============================] - 5s 31ms/step - loss: 0.0193 - accuracy: 0.5764\n",
            "Epoch 48/50\n",
            "168/168 [==============================] - 5s 31ms/step - loss: 0.0200 - accuracy: 0.5761\n",
            "Epoch 49/50\n",
            "168/168 [==============================] - 5s 31ms/step - loss: 0.0194 - accuracy: 0.5763\n",
            "Epoch 50/50\n",
            "168/168 [==============================] - 5s 31ms/step - loss: 0.0191 - accuracy: 0.5763\n"
          ]
        },
        {
          "output_type": "execute_result",
          "data": {
            "text/plain": [
              "<keras.callbacks.History at 0x7fa342ff03d0>"
            ]
          },
          "metadata": {},
          "execution_count": 109
        }
      ],
      "source": [
        "EPOCHS = 50\n",
        "model.fit(dataset, epochs=EPOCHS, verbose=1)"
      ]
    },
    {
      "cell_type": "markdown",
      "source": [
        "- inference\n",
        "1. 새로운 입력 문장에 대해서는 훈련 때와 동일한 전처리를 거친다.\n",
        "2. 입력 문장을 토크나이징하고, START_TOKEN과 END_TOKEN을 추가한다.\n",
        "3. 패딩 마스킹과 룩 어헤드 마스킹을 계산한다.\n",
        "4. 디코더는 입력 시퀀스로부터 다음 단어를 예측한다.\n",
        "5. 디코더는 예측된 다음 단어를 기존의 입력 시퀀스에 추가하여 새로운 입력으로 사용한다.\n",
        "6. END_TOKEN이 예측되거나 문장의 최대 길이에 도달하면 디코더는 동작을 멈춘다."
      ],
      "metadata": {
        "id": "MABEvnApzDy4"
      }
    },
    {
      "cell_type": "code",
      "execution_count": 110,
      "metadata": {
        "id": "_LbnTmQmmE2e"
      },
      "outputs": [],
      "source": [
        "def decoder_inference(sentence):\n",
        "  sentence = preprocess_sentence(sentence)\n",
        "\n",
        "  # 입력된 문장을 정수 인코딩 후, 시작 토큰과 종료 토큰을 앞뒤로 추가.\n",
        "  # ex) Where have you been? → [[8331   86   30    5 1059    7 8332]]\n",
        "  sentence = tf.expand_dims(\n",
        "      START_TOKEN + tokenizer.encode(sentence) + END_TOKEN, axis=0)\n",
        "\n",
        "  # 디코더의 현재까지의 예측한 출력 시퀀스가 지속적으로 저장되는 변수.\n",
        "  # 처음에는 예측한 내용이 없음으로 시작 토큰만 별도 저장. ex) 8331\n",
        "  output_sequence = tf.expand_dims(START_TOKEN, 0)\n",
        "\n",
        "  # 디코더의 인퍼런스 단계\n",
        "  for i in range(MAX_LENGTH):\n",
        "    # 디코더는 최대 MAX_LENGTH의 길이만큼 다음 단어 예측을 반복합니다.\n",
        "    predictions = model(inputs=[sentence, output_sequence], training=False)\n",
        "    predictions = predictions[:, -1:, :]\n",
        "\n",
        "    # 현재 예측한 단어의 정수\n",
        "    predicted_id = tf.cast(tf.argmax(predictions, axis=-1), tf.int32)\n",
        "\n",
        "    # 만약 현재 예측한 단어가 종료 토큰이라면 for문을 종료\n",
        "    if tf.equal(predicted_id, END_TOKEN[0]):\n",
        "      break\n",
        "\n",
        "    # 예측한 단어들은 지속적으로 output_sequence에 추가됩니다.\n",
        "    # 이 output_sequence는 다시 디코더의 입력이 됩니다.\n",
        "    output_sequence = tf.concat([output_sequence, predicted_id], axis=-1)\n",
        "\n",
        "  return tf.squeeze(output_sequence, axis=0)"
      ]
    },
    {
      "cell_type": "code",
      "execution_count": 111,
      "metadata": {
        "id": "0BeX6q-3nE4m"
      },
      "outputs": [],
      "source": [
        "def sentence_generation(sentence):\n",
        "  # 입력 문장에 대해서 디코더를 동작 시켜 예측된 정수 시퀀스를 리턴받습니다.\n",
        "  prediction = decoder_inference(sentence)\n",
        "\n",
        "  # 정수 시퀀스를 다시 텍스트 시퀀스로 변환합니다.\n",
        "  predicted_sentence = tokenizer.decode(\n",
        "      [i for i in prediction if i < tokenizer.vocab_size])\n",
        "\n",
        "  print('입력 : {}'.format(sentence))\n",
        "  print('출력 : {}'.format(predicted_sentence))\n",
        "\n",
        "  return predicted_sentence"
      ]
    },
    {
      "cell_type": "code",
      "execution_count": 112,
      "metadata": {
        "colab": {
          "base_uri": "https://localhost:8080/",
          "height": 71
        },
        "id": "xEZLsv1CnE5f",
        "outputId": "6f6b8879-ebbf-4625-d9c2-ed3661ec66ed"
      },
      "outputs": [
        {
          "output_type": "stream",
          "name": "stdout",
          "text": [
            "입력 : 하이\n",
            "출력 : 이제부터 일이 잘 풀릴 거예요.\n"
          ]
        },
        {
          "output_type": "execute_result",
          "data": {
            "application/vnd.google.colaboratory.intrinsic+json": {
              "type": "string"
            },
            "text/plain": [
              "'이제부터 일이 잘 풀릴 거예요.'"
            ]
          },
          "metadata": {},
          "execution_count": 112
        }
      ],
      "source": [
        "sentence_generation('하이')"
      ]
    },
    {
      "cell_type": "code",
      "execution_count": 113,
      "metadata": {
        "colab": {
          "base_uri": "https://localhost:8080/",
          "height": 71
        },
        "id": "BblHNCJgwHdR",
        "outputId": "320a2bd4-8400-4467-f415-caf54467c7ef"
      },
      "outputs": [
        {
          "output_type": "stream",
          "name": "stdout",
          "text": [
            "입력 : 빨리 봄이 왔으면 좋겠어\n",
            "출력 : 봄은 항상 두근거려요.\n"
          ]
        },
        {
          "output_type": "execute_result",
          "data": {
            "application/vnd.google.colaboratory.intrinsic+json": {
              "type": "string"
            },
            "text/plain": [
              "'봄은 항상 두근거려요.'"
            ]
          },
          "metadata": {},
          "execution_count": 113
        }
      ],
      "source": [
        "sentence_generation('빨리 봄이 왔으면 좋겠어')"
      ]
    },
    {
      "cell_type": "code",
      "execution_count": 114,
      "metadata": {
        "colab": {
          "base_uri": "https://localhost:8080/",
          "height": 71
        },
        "id": "EMUmVbZ6wHYM",
        "outputId": "f53a690d-d20e-4ed6-b683-533312682fa8"
      },
      "outputs": [
        {
          "output_type": "stream",
          "name": "stdout",
          "text": [
            "입력 : 게임 좀 그만 해\n",
            "출력 : 게임할때는 시간이 더 빨리 가요.\n"
          ]
        },
        {
          "output_type": "execute_result",
          "data": {
            "application/vnd.google.colaboratory.intrinsic+json": {
              "type": "string"
            },
            "text/plain": [
              "'게임할때는 시간이 더 빨리 가요.'"
            ]
          },
          "metadata": {},
          "execution_count": 114
        }
      ],
      "source": [
        "sentence_generation('게임 좀 그만 해')"
      ]
    },
    {
      "cell_type": "code",
      "execution_count": 115,
      "metadata": {
        "colab": {
          "base_uri": "https://localhost:8080/",
          "height": 71
        },
        "id": "gFHEiCn6wHU1",
        "outputId": "3bac5703-70cc-4886-ec17-94472b8730f4"
      },
      "outputs": [
        {
          "output_type": "stream",
          "name": "stdout",
          "text": [
            "입력 : 생일 축하해!\n",
            "출력 : 다음에는 받고 싶은 선물을 이야기해보세요.\n"
          ]
        },
        {
          "output_type": "execute_result",
          "data": {
            "application/vnd.google.colaboratory.intrinsic+json": {
              "type": "string"
            },
            "text/plain": [
              "'다음에는 받고 싶은 선물을 이야기해보세요.'"
            ]
          },
          "metadata": {},
          "execution_count": 115
        }
      ],
      "source": [
        "sentence_generation('생일 축하해!')"
      ]
    },
    {
      "cell_type": "code",
      "execution_count": 116,
      "metadata": {
        "colab": {
          "base_uri": "https://localhost:8080/",
          "height": 71
        },
        "id": "4wpH4WIPwHI-",
        "outputId": "84a54c62-17ab-472b-95f8-1714b56c7ac5"
      },
      "outputs": [
        {
          "output_type": "stream",
          "name": "stdout",
          "text": [
            "입력 : 낚시는 재미없어\n",
            "출력 : 한 번 빠지면 헤어나올 수 없다고 해요.\n"
          ]
        },
        {
          "output_type": "execute_result",
          "data": {
            "application/vnd.google.colaboratory.intrinsic+json": {
              "type": "string"
            },
            "text/plain": [
              "'한 번 빠지면 헤어나올 수 없다고 해요.'"
            ]
          },
          "metadata": {},
          "execution_count": 116
        }
      ],
      "source": [
        "sentence_generation('낚시는 재미없어')"
      ]
    },
    {
      "cell_type": "code",
      "execution_count": 117,
      "metadata": {
        "colab": {
          "base_uri": "https://localhost:8080/",
          "height": 71
        },
        "id": "ZC3mvj-mw9w1",
        "outputId": "ef8baa5c-2182-4b3c-aa1d-85eab81e0a54"
      },
      "outputs": [
        {
          "output_type": "stream",
          "name": "stdout",
          "text": [
            "입력 : 나랑 같이 낚시하러 갈래?\n",
            "출력 : 어흥!! 호랑이보다 무섭나요?\n"
          ]
        },
        {
          "output_type": "execute_result",
          "data": {
            "application/vnd.google.colaboratory.intrinsic+json": {
              "type": "string"
            },
            "text/plain": [
              "'어흥!! 호랑이보다 무섭나요?'"
            ]
          },
          "metadata": {},
          "execution_count": 117
        }
      ],
      "source": [
        "sentence_generation('나랑 같이 낚시하러 갈래?')"
      ]
    },
    {
      "cell_type": "code",
      "execution_count": 118,
      "metadata": {
        "colab": {
          "base_uri": "https://localhost:8080/",
          "height": 71
        },
        "id": "W4ggL1Nww_MM",
        "outputId": "81d7602d-48b1-43af-bbe4-96ff7bbac5a5"
      },
      "outputs": [
        {
          "output_type": "stream",
          "name": "stdout",
          "text": [
            "입력 : 너는 몇살이야?\n",
            "출력 : 저도 차단하고 싶어요.\n"
          ]
        },
        {
          "output_type": "execute_result",
          "data": {
            "application/vnd.google.colaboratory.intrinsic+json": {
              "type": "string"
            },
            "text/plain": [
              "'저도 차단하고 싶어요.'"
            ]
          },
          "metadata": {},
          "execution_count": 118
        }
      ],
      "source": [
        "sentence_generation('너는 몇살이야?')"
      ]
    },
    {
      "cell_type": "code",
      "execution_count": 119,
      "metadata": {
        "colab": {
          "base_uri": "https://localhost:8080/",
          "height": 71
        },
        "id": "F3ZjUg7Ww_Al",
        "outputId": "33caadf8-bc50-41e3-a876-189d5484a49f"
      },
      "outputs": [
        {
          "output_type": "stream",
          "name": "stdout",
          "text": [
            "입력 : 바보멍청이\n",
            "출력 : 실수했나요.\n"
          ]
        },
        {
          "output_type": "execute_result",
          "data": {
            "application/vnd.google.colaboratory.intrinsic+json": {
              "type": "string"
            },
            "text/plain": [
              "'실수했나요.'"
            ]
          },
          "metadata": {},
          "execution_count": 119
        }
      ],
      "source": [
        "sentence_generation('바보멍청이')"
      ]
    },
    {
      "cell_type": "markdown",
      "metadata": {
        "id": "d9tQpCAuxO9b"
      },
      "source": [
        "### 정확도를 높여보자"
      ]
    },
    {
      "cell_type": "code",
      "execution_count": 136,
      "metadata": {
        "colab": {
          "base_uri": "https://localhost:8080/",
          "height": 224
        },
        "id": "0ZEbwtdox_L5",
        "outputId": "ed84667d-67e0-42ef-df0c-6baa6ca9dfa3"
      },
      "outputs": [
        {
          "output_type": "stream",
          "name": "stdout",
          "text": [
            "<class 'pandas.core.frame.DataFrame'>\n"
          ]
        },
        {
          "output_type": "execute_result",
          "data": {
            "text/html": [
              "\n",
              "  <div id=\"df-a6849410-bc27-4484-b67c-956050d1c863\">\n",
              "    <div class=\"colab-df-container\">\n",
              "      <div>\n",
              "<style scoped>\n",
              "    .dataframe tbody tr th:only-of-type {\n",
              "        vertical-align: middle;\n",
              "    }\n",
              "\n",
              "    .dataframe tbody tr th {\n",
              "        vertical-align: top;\n",
              "    }\n",
              "\n",
              "    .dataframe thead th {\n",
              "        text-align: right;\n",
              "    }\n",
              "</style>\n",
              "<table border=\"1\" class=\"dataframe\">\n",
              "  <thead>\n",
              "    <tr style=\"text-align: right;\">\n",
              "      <th></th>\n",
              "      <th>Q</th>\n",
              "      <th>A</th>\n",
              "      <th>label</th>\n",
              "    </tr>\n",
              "  </thead>\n",
              "  <tbody>\n",
              "    <tr>\n",
              "      <th>0</th>\n",
              "      <td>12시 땡!</td>\n",
              "      <td>하루가 또 가네요.</td>\n",
              "      <td>0</td>\n",
              "    </tr>\n",
              "    <tr>\n",
              "      <th>1</th>\n",
              "      <td>1지망 학교 떨어졌어</td>\n",
              "      <td>위로해 드립니다.</td>\n",
              "      <td>0</td>\n",
              "    </tr>\n",
              "    <tr>\n",
              "      <th>2</th>\n",
              "      <td>3박4일 놀러가고 싶다</td>\n",
              "      <td>여행은 언제나 좋죠.</td>\n",
              "      <td>0</td>\n",
              "    </tr>\n",
              "    <tr>\n",
              "      <th>3</th>\n",
              "      <td>3박4일 정도 놀러가고 싶다</td>\n",
              "      <td>여행은 언제나 좋죠.</td>\n",
              "      <td>0</td>\n",
              "    </tr>\n",
              "    <tr>\n",
              "      <th>4</th>\n",
              "      <td>PPL 심하네</td>\n",
              "      <td>눈살이 찌푸려지죠.</td>\n",
              "      <td>0</td>\n",
              "    </tr>\n",
              "  </tbody>\n",
              "</table>\n",
              "</div>\n",
              "      <button class=\"colab-df-convert\" onclick=\"convertToInteractive('df-a6849410-bc27-4484-b67c-956050d1c863')\"\n",
              "              title=\"Convert this dataframe to an interactive table.\"\n",
              "              style=\"display:none;\">\n",
              "        \n",
              "  <svg xmlns=\"http://www.w3.org/2000/svg\" height=\"24px\"viewBox=\"0 0 24 24\"\n",
              "       width=\"24px\">\n",
              "    <path d=\"M0 0h24v24H0V0z\" fill=\"none\"/>\n",
              "    <path d=\"M18.56 5.44l.94 2.06.94-2.06 2.06-.94-2.06-.94-.94-2.06-.94 2.06-2.06.94zm-11 1L8.5 8.5l.94-2.06 2.06-.94-2.06-.94L8.5 2.5l-.94 2.06-2.06.94zm10 10l.94 2.06.94-2.06 2.06-.94-2.06-.94-.94-2.06-.94 2.06-2.06.94z\"/><path d=\"M17.41 7.96l-1.37-1.37c-.4-.4-.92-.59-1.43-.59-.52 0-1.04.2-1.43.59L10.3 9.45l-7.72 7.72c-.78.78-.78 2.05 0 2.83L4 21.41c.39.39.9.59 1.41.59.51 0 1.02-.2 1.41-.59l7.78-7.78 2.81-2.81c.8-.78.8-2.07 0-2.86zM5.41 20L4 18.59l7.72-7.72 1.47 1.35L5.41 20z\"/>\n",
              "  </svg>\n",
              "      </button>\n",
              "      \n",
              "  <style>\n",
              "    .colab-df-container {\n",
              "      display:flex;\n",
              "      flex-wrap:wrap;\n",
              "      gap: 12px;\n",
              "    }\n",
              "\n",
              "    .colab-df-convert {\n",
              "      background-color: #E8F0FE;\n",
              "      border: none;\n",
              "      border-radius: 50%;\n",
              "      cursor: pointer;\n",
              "      display: none;\n",
              "      fill: #1967D2;\n",
              "      height: 32px;\n",
              "      padding: 0 0 0 0;\n",
              "      width: 32px;\n",
              "    }\n",
              "\n",
              "    .colab-df-convert:hover {\n",
              "      background-color: #E2EBFA;\n",
              "      box-shadow: 0px 1px 2px rgba(60, 64, 67, 0.3), 0px 1px 3px 1px rgba(60, 64, 67, 0.15);\n",
              "      fill: #174EA6;\n",
              "    }\n",
              "\n",
              "    [theme=dark] .colab-df-convert {\n",
              "      background-color: #3B4455;\n",
              "      fill: #D2E3FC;\n",
              "    }\n",
              "\n",
              "    [theme=dark] .colab-df-convert:hover {\n",
              "      background-color: #434B5C;\n",
              "      box-shadow: 0px 1px 3px 1px rgba(0, 0, 0, 0.15);\n",
              "      filter: drop-shadow(0px 1px 2px rgba(0, 0, 0, 0.3));\n",
              "      fill: #FFFFFF;\n",
              "    }\n",
              "  </style>\n",
              "\n",
              "      <script>\n",
              "        const buttonEl =\n",
              "          document.querySelector('#df-a6849410-bc27-4484-b67c-956050d1c863 button.colab-df-convert');\n",
              "        buttonEl.style.display =\n",
              "          google.colab.kernel.accessAllowed ? 'block' : 'none';\n",
              "\n",
              "        async function convertToInteractive(key) {\n",
              "          const element = document.querySelector('#df-a6849410-bc27-4484-b67c-956050d1c863');\n",
              "          const dataTable =\n",
              "            await google.colab.kernel.invokeFunction('convertToInteractive',\n",
              "                                                     [key], {});\n",
              "          if (!dataTable) return;\n",
              "\n",
              "          const docLinkHtml = 'Like what you see? Visit the ' +\n",
              "            '<a target=\"_blank\" href=https://colab.research.google.com/notebooks/data_table.ipynb>data table notebook</a>'\n",
              "            + ' to learn more about interactive tables.';\n",
              "          element.innerHTML = '';\n",
              "          dataTable['output_type'] = 'display_data';\n",
              "          await google.colab.output.renderOutput(dataTable, element);\n",
              "          const docLink = document.createElement('div');\n",
              "          docLink.innerHTML = docLinkHtml;\n",
              "          element.appendChild(docLink);\n",
              "        }\n",
              "      </script>\n",
              "    </div>\n",
              "  </div>\n",
              "  "
            ],
            "text/plain": [
              "                 Q            A  label\n",
              "0           12시 땡!   하루가 또 가네요.      0\n",
              "1      1지망 학교 떨어졌어    위로해 드립니다.      0\n",
              "2     3박4일 놀러가고 싶다  여행은 언제나 좋죠.      0\n",
              "3  3박4일 정도 놀러가고 싶다  여행은 언제나 좋죠.      0\n",
              "4          PPL 심하네   눈살이 찌푸려지죠.      0"
            ]
          },
          "metadata": {},
          "execution_count": 136
        }
      ],
      "source": [
        "path_to_file = '/content/drive/MyDrive/data/chatbot/ChatbotData.csv'\n",
        "\n",
        "df = pd.read_csv(path_to_file)\n",
        "print(type(df))\n",
        "df.head()"
      ]
    },
    {
      "cell_type": "code",
      "execution_count": 137,
      "metadata": {
        "colab": {
          "base_uri": "https://localhost:8080/"
        },
        "id": "Nt9xOHgcx_HV",
        "outputId": "b840ca0f-d786-4695-f3b9-d29a23af9a81"
      },
      "outputs": [
        {
          "output_type": "stream",
          "name": "stdout",
          "text": [
            "전체 질문 샘플 수:  11823\n",
            "전채 답변 샘플 수:  11823\n",
            "전처리 후의 22 번째 질문 샘플: 가스비 장난 아님\n",
            "전처리 후의 22 번째 답변 샘플: 다음 달에는 더 절약해봐요.\n"
          ]
        }
      ],
      "source": [
        "questions,answers = load_conversations()\n",
        "print('전체 질문 샘플 수: ',len(questions))\n",
        "print('전채 답변 샘플 수: ',len(answers))\n",
        "print('전처리 후의 22 번째 질문 샘플: {}'.format(questions[21]))\n",
        "print('전처리 후의 22 번째 답변 샘플: {}'.format(answers[21]))"
      ]
    },
    {
      "cell_type": "code",
      "execution_count": 138,
      "metadata": {
        "id": "vkw4iRDDxcYz"
      },
      "outputs": [],
      "source": [
        "MAX_LENGTH = 8\n",
        "\n",
        "def tokenize_and_filter(inputs,outputs):\n",
        "  tokenized_inputs,tokenized_outputs = [],[]\n",
        "\n",
        "  for (sentence1,sentence2) in zip(inputs,outputs):\n",
        "    sentence1 = START_TOKEN + tokenizer.encode(sentence1) + END_TOKEN\n",
        "    sentence2 = START_TOKEN + tokenizer.encode(sentence2) + END_TOKEN\n",
        "\n",
        "    if len(sentence1) <= MAX_LENGTH and len(sentence2) <= MAX_LENGTH :\n",
        "      tokenized_inputs.append(sentence1)\n",
        "      tokenized_outputs.append(sentence2)\n",
        "\n",
        "  tokenized_inputs = tf.keras.preprocessing.sequence.pad_sequences(tokenized_inputs,maxlen=MAX_LENGTH,padding='post')\n",
        "  tokenized_outputs = tf.keras.preprocessing.sequence.pad_sequences(tokenized_outputs,maxlen=MAX_LENGTH,padding='post')\n",
        "\n",
        "  return tokenized_inputs, tokenized_outputs"
      ]
    },
    {
      "cell_type": "code",
      "execution_count": 139,
      "metadata": {
        "colab": {
          "base_uri": "https://localhost:8080/"
        },
        "id": "-i_GMKehx11k",
        "outputId": "a44dc318-4f0f-4c40-bb9d-12d0c8e40387"
      },
      "outputs": [
        {
          "output_type": "stream",
          "name": "stdout",
          "text": [
            "단어장 크기 :  8133\n",
            "필터링 후의 질문 샘플 개수: 6083\n",
            "필터링 후의 답변 샘플 개수: 6083\n"
          ]
        }
      ],
      "source": [
        "questions,answers = tokenize_and_filter(questions,answers)\n",
        "print('단어장 크기 : ',(VOCAB_SIZE))\n",
        "print('필터링 후의 질문 샘플 개수: {}'.format(len(questions)))\n",
        "print('필터링 후의 답변 샘플 개수: {}'.format(len(answers)))"
      ]
    },
    {
      "cell_type": "code",
      "execution_count": 140,
      "metadata": {
        "id": "ZUMQQCrUxcV7"
      },
      "outputs": [],
      "source": [
        "BATCH_SIZE = 64\n",
        "BUFFER_SIZE = 20000\n",
        "\n",
        "# 디코더는 이전의 target을 다음의 input으로 사용합니다.\n",
        "# 이에 따라 outputs에서는 START_TOKEN을 제거하겠습니다.\n",
        "dataset = tf.data.Dataset.from_tensor_slices((\n",
        "    {\n",
        "        'inputs': questions,\n",
        "        'dec_inputs': answers[:, :-1]\n",
        "    },\n",
        "    {\n",
        "        'outputs': answers[:, 1:]\n",
        "    },\n",
        "))\n",
        "\n",
        "dataset = dataset.cache()\n",
        "dataset = dataset.shuffle(BUFFER_SIZE)\n",
        "dataset = dataset.batch(BATCH_SIZE)\n",
        "dataset = dataset.prefetch(tf.data.experimental.AUTOTUNE)"
      ]
    },
    {
      "cell_type": "code",
      "execution_count": 141,
      "metadata": {
        "id": "Xsxmf_lFxcTI",
        "colab": {
          "base_uri": "https://localhost:8080/"
        },
        "outputId": "21e26b1e-efc9-467b-c98d-8f222dfa480c"
      },
      "outputs": [
        {
          "output_type": "stream",
          "name": "stdout",
          "text": [
            "Epoch 1/20\n",
            "96/96 [==============================] - 6s 28ms/step - loss: 0.6650 - accuracy: 0.6483\n",
            "Epoch 2/20\n",
            "96/96 [==============================] - 5s 47ms/step - loss: 0.1108 - accuracy: 0.7423\n",
            "Epoch 3/20\n",
            "96/96 [==============================] - 3s 27ms/step - loss: 0.0399 - accuracy: 0.7576\n",
            "Epoch 4/20\n",
            "96/96 [==============================] - 3s 27ms/step - loss: 0.0268 - accuracy: 0.7601\n",
            "Epoch 5/20\n",
            "96/96 [==============================] - 2s 26ms/step - loss: 0.0233 - accuracy: 0.7605\n",
            "Epoch 6/20\n",
            "96/96 [==============================] - 2s 26ms/step - loss: 0.0253 - accuracy: 0.7603\n",
            "Epoch 7/20\n",
            "96/96 [==============================] - 3s 27ms/step - loss: 0.0210 - accuracy: 0.7608\n",
            "Epoch 8/20\n",
            "96/96 [==============================] - 3s 26ms/step - loss: 0.0184 - accuracy: 0.7610\n",
            "Epoch 9/20\n",
            "96/96 [==============================] - 3s 26ms/step - loss: 0.0187 - accuracy: 0.7609\n",
            "Epoch 10/20\n",
            "96/96 [==============================] - 2s 26ms/step - loss: 0.0158 - accuracy: 0.7614\n",
            "Epoch 11/20\n",
            "96/96 [==============================] - 4s 47ms/step - loss: 0.0166 - accuracy: 0.7613\n",
            "Epoch 12/20\n",
            "96/96 [==============================] - 4s 44ms/step - loss: 0.0178 - accuracy: 0.7611\n",
            "Epoch 13/20\n",
            "96/96 [==============================] - 3s 36ms/step - loss: 0.0144 - accuracy: 0.7616\n",
            "Epoch 14/20\n",
            "96/96 [==============================] - 4s 44ms/step - loss: 0.0162 - accuracy: 0.7612\n",
            "Epoch 15/20\n",
            "96/96 [==============================] - 4s 40ms/step - loss: 0.0153 - accuracy: 0.7613\n",
            "Epoch 16/20\n",
            "96/96 [==============================] - 4s 45ms/step - loss: 0.0144 - accuracy: 0.7612\n",
            "Epoch 17/20\n",
            "96/96 [==============================] - 3s 34ms/step - loss: 0.0134 - accuracy: 0.7617\n",
            "Epoch 18/20\n",
            "96/96 [==============================] - 3s 27ms/step - loss: 0.0135 - accuracy: 0.7618\n",
            "Epoch 19/20\n",
            "96/96 [==============================] - 2s 26ms/step - loss: 0.0132 - accuracy: 0.7616\n",
            "Epoch 20/20\n",
            "96/96 [==============================] - 3s 35ms/step - loss: 0.0135 - accuracy: 0.7619\n"
          ]
        },
        {
          "output_type": "execute_result",
          "data": {
            "text/plain": [
              "<keras.callbacks.History at 0x7fa3f73e2a50>"
            ]
          },
          "metadata": {},
          "execution_count": 141
        }
      ],
      "source": [
        "EPOCHS = 20\n",
        "model.fit(dataset, epochs=EPOCHS, verbose=1)"
      ]
    },
    {
      "cell_type": "code",
      "execution_count": 142,
      "metadata": {
        "id": "6uL3K1D9xcGZ",
        "colab": {
          "base_uri": "https://localhost:8080/",
          "height": 71
        },
        "outputId": "754786c4-c765-43aa-f0ac-b7f058f19117"
      },
      "outputs": [
        {
          "output_type": "stream",
          "name": "stdout",
          "text": [
            "입력 : 하이\n",
            "출력 : 당신만이 알 수 있어요.\n"
          ]
        },
        {
          "output_type": "execute_result",
          "data": {
            "application/vnd.google.colaboratory.intrinsic+json": {
              "type": "string"
            },
            "text/plain": [
              "'당신만이 알 수 있어요.'"
            ]
          },
          "metadata": {},
          "execution_count": 142
        }
      ],
      "source": [
        "sentence_generation('하이')"
      ]
    },
    {
      "cell_type": "code",
      "execution_count": 143,
      "metadata": {
        "id": "30ubmEghxcD4",
        "colab": {
          "base_uri": "https://localhost:8080/",
          "height": 71
        },
        "outputId": "26fa9c9d-b752-4e96-f2db-9218a6fa0c29"
      },
      "outputs": [
        {
          "output_type": "stream",
          "name": "stdout",
          "text": [
            "입력 : 빨리 봄이 왔으면 좋겠어\n",
            "출력 : 봄은 항상 두근거려요.\n"
          ]
        },
        {
          "output_type": "execute_result",
          "data": {
            "application/vnd.google.colaboratory.intrinsic+json": {
              "type": "string"
            },
            "text/plain": [
              "'봄은 항상 두근거려요.'"
            ]
          },
          "metadata": {},
          "execution_count": 143
        }
      ],
      "source": [
        "sentence_generation('빨리 봄이 왔으면 좋겠어')"
      ]
    },
    {
      "cell_type": "code",
      "execution_count": 144,
      "metadata": {
        "id": "GSyaEwgTxcA6",
        "colab": {
          "base_uri": "https://localhost:8080/",
          "height": 71
        },
        "outputId": "389de43c-484d-4db1-8ec4-9c512bb9f0bc"
      },
      "outputs": [
        {
          "output_type": "stream",
          "name": "stdout",
          "text": [
            "입력 : 게임 좀 그만 해\n",
            "출력 : 시간을 정해보세요.\n"
          ]
        },
        {
          "output_type": "execute_result",
          "data": {
            "application/vnd.google.colaboratory.intrinsic+json": {
              "type": "string"
            },
            "text/plain": [
              "'시간을 정해보세요.'"
            ]
          },
          "metadata": {},
          "execution_count": 144
        }
      ],
      "source": [
        "sentence_generation('게임 좀 그만 해')"
      ]
    },
    {
      "cell_type": "code",
      "source": [
        "sentence_generation('생일 축하해!')"
      ],
      "metadata": {
        "colab": {
          "base_uri": "https://localhost:8080/",
          "height": 71
        },
        "id": "2xzM7GgH1hZz",
        "outputId": "feba6a99-eaeb-47b7-c144-d5065cb6c58e"
      },
      "execution_count": 145,
      "outputs": [
        {
          "output_type": "stream",
          "name": "stdout",
          "text": [
            "입력 : 생일 축하해!\n",
            "출력 : 다음에는 받고 싶은 선물을 이야기해보세요.\n"
          ]
        },
        {
          "output_type": "execute_result",
          "data": {
            "application/vnd.google.colaboratory.intrinsic+json": {
              "type": "string"
            },
            "text/plain": [
              "'다음에는 받고 싶은 선물을 이야기해보세요.'"
            ]
          },
          "metadata": {},
          "execution_count": 145
        }
      ]
    },
    {
      "cell_type": "code",
      "source": [
        "sentence_generation('낚시는 재미없어')"
      ],
      "metadata": {
        "colab": {
          "base_uri": "https://localhost:8080/",
          "height": 71
        },
        "id": "J0X-xqEH1hcr",
        "outputId": "cc116ad9-73d8-4f15-ccd5-345cc8056fed"
      },
      "execution_count": 146,
      "outputs": [
        {
          "output_type": "stream",
          "name": "stdout",
          "text": [
            "입력 : 낚시는 재미없어\n",
            "출력 : 그 사람이 좋아하는 걸 알아보세요.\n"
          ]
        },
        {
          "output_type": "execute_result",
          "data": {
            "application/vnd.google.colaboratory.intrinsic+json": {
              "type": "string"
            },
            "text/plain": [
              "'그 사람이 좋아하는 걸 알아보세요.'"
            ]
          },
          "metadata": {},
          "execution_count": 146
        }
      ]
    },
    {
      "cell_type": "code",
      "source": [
        "sentence_generation('나랑 같이 낚시하러 갈래?')"
      ],
      "metadata": {
        "colab": {
          "base_uri": "https://localhost:8080/",
          "height": 71
        },
        "id": "R4_9hP2r1hgA",
        "outputId": "ba252c2d-1264-4568-b64f-0040b746cc84"
      },
      "execution_count": 147,
      "outputs": [
        {
          "output_type": "stream",
          "name": "stdout",
          "text": [
            "입력 : 나랑 같이 낚시하러 갈래?\n",
            "출력 : 너무 긴장했나봐요.\n"
          ]
        },
        {
          "output_type": "execute_result",
          "data": {
            "application/vnd.google.colaboratory.intrinsic+json": {
              "type": "string"
            },
            "text/plain": [
              "'너무 긴장했나봐요.'"
            ]
          },
          "metadata": {},
          "execution_count": 147
        }
      ]
    },
    {
      "cell_type": "code",
      "source": [
        "sentence_generation('너는 몇살이야?')"
      ],
      "metadata": {
        "colab": {
          "base_uri": "https://localhost:8080/",
          "height": 71
        },
        "id": "kP-Y-pWe1hi-",
        "outputId": "db1a5f88-e85c-4c0a-bf07-46a82e9d1f91"
      },
      "execution_count": 148,
      "outputs": [
        {
          "output_type": "stream",
          "name": "stdout",
          "text": [
            "입력 : 너는 몇살이야?\n",
            "출력 : 저도 하나씩 면 싶어요.\n"
          ]
        },
        {
          "output_type": "execute_result",
          "data": {
            "application/vnd.google.colaboratory.intrinsic+json": {
              "type": "string"
            },
            "text/plain": [
              "'저도 하나씩 면 싶어요.'"
            ]
          },
          "metadata": {},
          "execution_count": 148
        }
      ]
    },
    {
      "cell_type": "code",
      "source": [
        "sentence_generation('바보멍청이')"
      ],
      "metadata": {
        "colab": {
          "base_uri": "https://localhost:8080/",
          "height": 71
        },
        "id": "thG84z3E1hlt",
        "outputId": "0983270c-65b4-442d-a9d9-3ba6c5dbea1f"
      },
      "execution_count": 149,
      "outputs": [
        {
          "output_type": "stream",
          "name": "stdout",
          "text": [
            "입력 : 바보멍청이\n",
            "출력 : 실수했나요.\n"
          ]
        },
        {
          "output_type": "execute_result",
          "data": {
            "application/vnd.google.colaboratory.intrinsic+json": {
              "type": "string"
            },
            "text/plain": [
              "'실수했나요.'"
            ]
          },
          "metadata": {},
          "execution_count": 149
        }
      ]
    },
    {
      "cell_type": "code",
      "execution_count": 150,
      "metadata": {
        "id": "FCYrk86HxcQl",
        "colab": {
          "base_uri": "https://localhost:8080/",
          "height": 71
        },
        "outputId": "679a799e-ebe4-4769-ee05-ce6f5af0dafe"
      },
      "outputs": [
        {
          "output_type": "stream",
          "name": "stdout",
          "text": [
            "입력 : 빨래좀 해줘\n",
            "출력 : 이제 청소 시작.\n"
          ]
        },
        {
          "output_type": "execute_result",
          "data": {
            "application/vnd.google.colaboratory.intrinsic+json": {
              "type": "string"
            },
            "text/plain": [
              "'이제 청소 시작.'"
            ]
          },
          "metadata": {},
          "execution_count": 150
        }
      ],
      "source": [
        "sentence_generation('빨래좀 해줘')"
      ]
    },
    {
      "cell_type": "code",
      "execution_count": 151,
      "metadata": {
        "id": "N8uc82UDxcOG",
        "colab": {
          "base_uri": "https://localhost:8080/",
          "height": 71
        },
        "outputId": "e4f3f7fb-9ee9-4b04-b1e1-2c7fcc7991e7"
      },
      "outputs": [
        {
          "output_type": "stream",
          "name": "stdout",
          "text": [
            "입력 : 설겆이 하기 싫다\n",
            "출력 : 로맨틱한 선물이네요.\n"
          ]
        },
        {
          "output_type": "execute_result",
          "data": {
            "application/vnd.google.colaboratory.intrinsic+json": {
              "type": "string"
            },
            "text/plain": [
              "'로맨틱한 선물이네요.'"
            ]
          },
          "metadata": {},
          "execution_count": 151
        }
      ],
      "source": [
        "sentence_generation('설겆이 하기 싫다')"
      ]
    },
    {
      "cell_type": "markdown",
      "source": [
        "뭐....뭐라고....?"
      ],
      "metadata": {
        "id": "rpG5bj9b3PaJ"
      }
    },
    {
      "cell_type": "code",
      "execution_count": 152,
      "metadata": {
        "id": "2qxERFvQxcLa",
        "colab": {
          "base_uri": "https://localhost:8080/",
          "height": 71
        },
        "outputId": "14f1635b-4578-41ef-9b36-cadc71074943"
      },
      "outputs": [
        {
          "output_type": "stream",
          "name": "stdout",
          "text": [
            "입력 : 배고파\n",
            "출력 : 얼른 맛난 음식 드세요.\n"
          ]
        },
        {
          "output_type": "execute_result",
          "data": {
            "application/vnd.google.colaboratory.intrinsic+json": {
              "type": "string"
            },
            "text/plain": [
              "'얼른 맛난 음식 드세요.'"
            ]
          },
          "metadata": {},
          "execution_count": 152
        }
      ],
      "source": [
        "sentence_generation('배고파')"
      ]
    },
    {
      "cell_type": "markdown",
      "source": [
        "> 회고 : transformer 를 이해하고, model을 생성하는 과정에서 나오는 온갖 처음보는 개념들을 이해하고 넘어가려다가 너무 많은 시간을 쏟은 것 같다. 결과적으로 완벽히 이해는 무리였으며 아마도 그런걸지도 정도로 넘어가게 되었다. 오늘도 다시한번 부족함을 느꼈다.\n",
        "\n",
        "> 내가 만든 챗봇은 딱 카카오톡이 처음 나오던 시절의 심심이 수준이라고 생각 된다. 뭔가 잘어울리는 대답을 하는 것 같으면서도 엉뚱한 대답을 한번씩 내놓는다. \n",
        "\n",
        "> 혹시 평균 문장의 수가 4정도인걸 감안해 문장 최대길이를 줄여보면 어떨까 싶어서 시도해 보았다. 학습과정 에서 정확도 자체는 올라갔지만, 답변의 수준은 나아진듯 아닌듯 아리송하다."
      ],
      "metadata": {
        "id": "CAYjDA6q2KTI"
      }
    }
  ],
  "metadata": {
    "accelerator": "GPU",
    "colab": {
      "collapsed_sections": [],
      "name": "Chatbot.ipynb",
      "provenance": []
    },
    "kernelspec": {
      "display_name": "Python 3",
      "name": "python3"
    },
    "language_info": {
      "name": "python"
    }
  },
  "nbformat": 4,
  "nbformat_minor": 0
}