{
  "cells": [
    {
      "cell_type": "code",
      "execution_count": null,
      "metadata": {
        "id": "w2ZEAEvtAm2H"
      },
      "outputs": [],
      "source": [
        "!apt-get update \n",
        "!apt-get install g++ openjdk-8-jdk \n",
        "!pip install konlpy JPype1-py3 \n",
        "!bash <(curl -s https://raw.githubusercontent.com/konlpy/konlpy/master/scripts/mecab.sh)\n",
        "\n"
      ]
    },
    {
      "cell_type": "code",
      "execution_count": null,
      "metadata": {
        "id": "QNMIzAWzPWW9"
      },
      "outputs": [],
      "source": [
        "import tensorflow as tf"
      ]
    },
    {
      "cell_type": "code",
      "execution_count": null,
      "metadata": {
        "colab": {
          "base_uri": "https://localhost:8080/",
          "height": 206
        },
        "id": "8iN0A7XK2rCO",
        "outputId": "2a4e7874-87a3-4709-dea8-4e491f74ba0d"
      },
      "outputs": [
        {
          "data": {
            "text/html": [
              "\n",
              "  <div id=\"df-18519073-20bd-4a05-9088-7bcf3feee938\">\n",
              "    <div class=\"colab-df-container\">\n",
              "      <div>\n",
              "<style scoped>\n",
              "    .dataframe tbody tr th:only-of-type {\n",
              "        vertical-align: middle;\n",
              "    }\n",
              "\n",
              "    .dataframe tbody tr th {\n",
              "        vertical-align: top;\n",
              "    }\n",
              "\n",
              "    .dataframe thead th {\n",
              "        text-align: right;\n",
              "    }\n",
              "</style>\n",
              "<table border=\"1\" class=\"dataframe\">\n",
              "  <thead>\n",
              "    <tr style=\"text-align: right;\">\n",
              "      <th></th>\n",
              "      <th>id</th>\n",
              "      <th>document</th>\n",
              "      <th>label</th>\n",
              "    </tr>\n",
              "  </thead>\n",
              "  <tbody>\n",
              "    <tr>\n",
              "      <th>0</th>\n",
              "      <td>9976970</td>\n",
              "      <td>아 더빙.. 진짜 짜증나네요 목소리</td>\n",
              "      <td>0</td>\n",
              "    </tr>\n",
              "    <tr>\n",
              "      <th>1</th>\n",
              "      <td>3819312</td>\n",
              "      <td>흠...포스터보고 초딩영화줄....오버연기조차 가볍지 않구나</td>\n",
              "      <td>1</td>\n",
              "    </tr>\n",
              "    <tr>\n",
              "      <th>2</th>\n",
              "      <td>10265843</td>\n",
              "      <td>너무재밓었다그래서보는것을추천한다</td>\n",
              "      <td>0</td>\n",
              "    </tr>\n",
              "    <tr>\n",
              "      <th>3</th>\n",
              "      <td>9045019</td>\n",
              "      <td>교도소 이야기구먼 ..솔직히 재미는 없다..평점 조정</td>\n",
              "      <td>0</td>\n",
              "    </tr>\n",
              "    <tr>\n",
              "      <th>4</th>\n",
              "      <td>6483659</td>\n",
              "      <td>사이몬페그의 익살스런 연기가 돋보였던 영화!스파이더맨에서 늙어보이기만 했던 커스틴 ...</td>\n",
              "      <td>1</td>\n",
              "    </tr>\n",
              "  </tbody>\n",
              "</table>\n",
              "</div>\n",
              "      <button class=\"colab-df-convert\" onclick=\"convertToInteractive('df-18519073-20bd-4a05-9088-7bcf3feee938')\"\n",
              "              title=\"Convert this dataframe to an interactive table.\"\n",
              "              style=\"display:none;\">\n",
              "        \n",
              "  <svg xmlns=\"http://www.w3.org/2000/svg\" height=\"24px\"viewBox=\"0 0 24 24\"\n",
              "       width=\"24px\">\n",
              "    <path d=\"M0 0h24v24H0V0z\" fill=\"none\"/>\n",
              "    <path d=\"M18.56 5.44l.94 2.06.94-2.06 2.06-.94-2.06-.94-.94-2.06-.94 2.06-2.06.94zm-11 1L8.5 8.5l.94-2.06 2.06-.94-2.06-.94L8.5 2.5l-.94 2.06-2.06.94zm10 10l.94 2.06.94-2.06 2.06-.94-2.06-.94-.94-2.06-.94 2.06-2.06.94z\"/><path d=\"M17.41 7.96l-1.37-1.37c-.4-.4-.92-.59-1.43-.59-.52 0-1.04.2-1.43.59L10.3 9.45l-7.72 7.72c-.78.78-.78 2.05 0 2.83L4 21.41c.39.39.9.59 1.41.59.51 0 1.02-.2 1.41-.59l7.78-7.78 2.81-2.81c.8-.78.8-2.07 0-2.86zM5.41 20L4 18.59l7.72-7.72 1.47 1.35L5.41 20z\"/>\n",
              "  </svg>\n",
              "      </button>\n",
              "      \n",
              "  <style>\n",
              "    .colab-df-container {\n",
              "      display:flex;\n",
              "      flex-wrap:wrap;\n",
              "      gap: 12px;\n",
              "    }\n",
              "\n",
              "    .colab-df-convert {\n",
              "      background-color: #E8F0FE;\n",
              "      border: none;\n",
              "      border-radius: 50%;\n",
              "      cursor: pointer;\n",
              "      display: none;\n",
              "      fill: #1967D2;\n",
              "      height: 32px;\n",
              "      padding: 0 0 0 0;\n",
              "      width: 32px;\n",
              "    }\n",
              "\n",
              "    .colab-df-convert:hover {\n",
              "      background-color: #E2EBFA;\n",
              "      box-shadow: 0px 1px 2px rgba(60, 64, 67, 0.3), 0px 1px 3px 1px rgba(60, 64, 67, 0.15);\n",
              "      fill: #174EA6;\n",
              "    }\n",
              "\n",
              "    [theme=dark] .colab-df-convert {\n",
              "      background-color: #3B4455;\n",
              "      fill: #D2E3FC;\n",
              "    }\n",
              "\n",
              "    [theme=dark] .colab-df-convert:hover {\n",
              "      background-color: #434B5C;\n",
              "      box-shadow: 0px 1px 3px 1px rgba(0, 0, 0, 0.15);\n",
              "      filter: drop-shadow(0px 1px 2px rgba(0, 0, 0, 0.3));\n",
              "      fill: #FFFFFF;\n",
              "    }\n",
              "  </style>\n",
              "\n",
              "      <script>\n",
              "        const buttonEl =\n",
              "          document.querySelector('#df-18519073-20bd-4a05-9088-7bcf3feee938 button.colab-df-convert');\n",
              "        buttonEl.style.display =\n",
              "          google.colab.kernel.accessAllowed ? 'block' : 'none';\n",
              "\n",
              "        async function convertToInteractive(key) {\n",
              "          const element = document.querySelector('#df-18519073-20bd-4a05-9088-7bcf3feee938');\n",
              "          const dataTable =\n",
              "            await google.colab.kernel.invokeFunction('convertToInteractive',\n",
              "                                                     [key], {});\n",
              "          if (!dataTable) return;\n",
              "\n",
              "          const docLinkHtml = 'Like what you see? Visit the ' +\n",
              "            '<a target=\"_blank\" href=https://colab.research.google.com/notebooks/data_table.ipynb>data table notebook</a>'\n",
              "            + ' to learn more about interactive tables.';\n",
              "          element.innerHTML = '';\n",
              "          dataTable['output_type'] = 'display_data';\n",
              "          await google.colab.output.renderOutput(dataTable, element);\n",
              "          const docLink = document.createElement('div');\n",
              "          docLink.innerHTML = docLinkHtml;\n",
              "          element.appendChild(docLink);\n",
              "        }\n",
              "      </script>\n",
              "    </div>\n",
              "  </div>\n",
              "  "
            ],
            "text/plain": [
              "         id                                           document  label\n",
              "0   9976970                                아 더빙.. 진짜 짜증나네요 목소리      0\n",
              "1   3819312                  흠...포스터보고 초딩영화줄....오버연기조차 가볍지 않구나      1\n",
              "2  10265843                                  너무재밓었다그래서보는것을추천한다      0\n",
              "3   9045019                      교도소 이야기구먼 ..솔직히 재미는 없다..평점 조정      0\n",
              "4   6483659  사이몬페그의 익살스런 연기가 돋보였던 영화!스파이더맨에서 늙어보이기만 했던 커스틴 ...      1"
            ]
          },
          "execution_count": 55,
          "metadata": {},
          "output_type": "execute_result"
        }
      ],
      "source": [
        "import pandas as pd\n",
        "\n",
        "\n",
        "train_data = pd.read_table('/content/drive/MyDrive/data/ratings_train.txt')\n",
        "test_data = pd.read_table('/content/drive/MyDrive/data/ratings_test.txt')\n",
        "\n",
        "train_data.head()"
      ]
    },
    {
      "cell_type": "code",
      "execution_count": null,
      "metadata": {
        "id": "kIQzhPqb3MKF"
      },
      "outputs": [],
      "source": [
        "from konlpy.tag import Mecab\n",
        "import numpy as np\n",
        "from collections import Counter\n",
        "\n",
        "tokenizer = Mecab()\n",
        "stopwords = ['의','가','이','은','들','는','좀','잘','걍','과','도','를','으로','자','에','와','한','하다']\n",
        "\n",
        "def load_data(train_data, test_data, num_words=10000):\n",
        "    train_data.drop_duplicates(subset=['document'], inplace=True)\n",
        "    train_data = train_data.dropna(how = 'any') \n",
        "    test_data.drop_duplicates(subset=['document'], inplace=True)\n",
        "    test_data = test_data.dropna(how = 'any') \n",
        "    \n",
        "    X_train = []\n",
        "    for sentence in train_data['document']:\n",
        "        temp_X = tokenizer.morphs(sentence) # 토큰화\n",
        "        temp_X = [word for word in temp_X if not word in stopwords] # 불용어 제거\n",
        "        X_train.append(temp_X)\n",
        "\n",
        "    X_test = []\n",
        "    for sentence in test_data['document']:\n",
        "        temp_X = tokenizer.morphs(sentence) # 토큰화\n",
        "        temp_X = [word for word in temp_X if not word in stopwords] # 불용어 제거\n",
        "        X_test.append(temp_X)\n",
        "    \n",
        "    words = np.concatenate(X_train).tolist()\n",
        "    counter = Counter(words)\n",
        "    counter = counter.most_common(10000-4)\n",
        "    vocab = ['<PAD>', '<BOS>', '<UNK>', '<UNUSED>'] + [key for key, _ in counter]\n",
        "    word_to_index = {word:index for index, word in enumerate(vocab)}\n",
        "        \n",
        "    def wordlist_to_indexlist(wordlist):\n",
        "        return [word_to_index[word] if word in word_to_index else word_to_index['<UNK>'] for word in wordlist]\n",
        "        \n",
        "    X_train = list(map(wordlist_to_indexlist, X_train))\n",
        "    X_test = list(map(wordlist_to_indexlist, X_test))\n",
        "        \n",
        "    return X_train, np.array(list(train_data['label'])), X_test, np.array(list(test_data['label'])), word_to_index\n",
        "    \n",
        "X_train, y_train, X_test, y_test, word_to_index = load_data(train_data, test_data) \n"
      ]
    },
    {
      "cell_type": "code",
      "execution_count": null,
      "metadata": {
        "id": "NUnpOijS3MMw"
      },
      "outputs": [],
      "source": [
        "index_to_word = {index:word for word, index in word_to_index.items()}"
      ]
    },
    {
      "cell_type": "code",
      "execution_count": null,
      "metadata": {
        "id": "wuuCXXmI3MPi"
      },
      "outputs": [],
      "source": [
        "\n",
        "def get_encoded_sentence(sentence, word_to_index):\n",
        "    return [word_to_index['<BOS>']]+[word_to_index[word] if word in word_to_index else word_to_index['<UNK>'] for word in sentence.split()]\n",
        "\n",
        "\n",
        "def get_encoded_sentences(sentences, word_to_index):\n",
        "    return [get_encoded_sentence(sentence, word_to_index) for sentence in sentences]\n",
        "\n",
        "\n",
        "def get_decoded_sentence(encoded_sentence, index_to_word):\n",
        "    return ' '.join(index_to_word[index] if index in index_to_word else '<UNK>' for index in encoded_sentence[1:])  #[1:]를 통해 <BOS>를 제외\n",
        "\n",
        "\n",
        "def get_decoded_sentences(encoded_sentences, index_to_word):\n",
        "    return [get_decoded_sentence(encoded_sentence, index_to_word) for encoded_sentence in encoded_sentences]"
      ]
    },
    {
      "cell_type": "code",
      "execution_count": null,
      "metadata": {
        "colab": {
          "base_uri": "https://localhost:8080/"
        },
        "id": "BPyhlRGr3MT6",
        "outputId": "25e2bbd0-a0a9-470c-f177-44bd3372cd2d"
      },
      "outputs": [
        {
          "name": "stdout",
          "output_type": "stream",
          "text": [
            "문장길이 평균 :  15.96940191154864\n",
            "문장길이 최대 :  116\n",
            "문장길이 표준편차 :  12.843571191092\n",
            "pad_sequences maxlen :  41\n",
            "전체 문장의 0.9342988343341575%가 maxlen 설정값 이내에 포함됩니다. \n"
          ]
        }
      ],
      "source": [
        "total_data_text = list(X_train) + list(X_test)\n",
        "\n",
        "num_tokens = [len(tokens) for tokens in total_data_text]\n",
        "num_tokens = np.array(num_tokens)\n",
        "\n",
        "print('문장길이 평균 : ', np.mean(num_tokens))\n",
        "print('문장길이 최대 : ', np.max(num_tokens))\n",
        "print('문장길이 표준편차 : ', np.std(num_tokens))\n",
        "\n",
        " \n",
        "max_tokens = np.mean(num_tokens) + 2 * np.std(num_tokens)\n",
        "maxlen = int(max_tokens)\n",
        "print('pad_sequences maxlen : ', maxlen)\n",
        "print('전체 문장의 {}%가 maxlen 설정값 이내에 포함됩니다. '.format(np.sum(num_tokens < max_tokens) / len(num_tokens)))"
      ]
    },
    {
      "cell_type": "code",
      "execution_count": null,
      "metadata": {
        "colab": {
          "base_uri": "https://localhost:8080/"
        },
        "id": "S3eJ-CmP3MVf",
        "outputId": "3704a5dc-87dc-41d0-bc17-fce4a4ea8eed"
      },
      "outputs": [
        {
          "name": "stdout",
          "output_type": "stream",
          "text": [
            "(146182, 41)\n"
          ]
        }
      ],
      "source": [
        "X_train = tf.keras.preprocessing.sequence.pad_sequences(X_train,\n",
        "                                                        value=word_to_index[\"<PAD>\"],\n",
        "                                                        padding='pre', \n",
        "                                                        maxlen=maxlen)\n",
        "\n",
        "X_test = tf.keras.preprocessing.sequence.pad_sequences(X_test,\n",
        "                                                       value=word_to_index[\"<PAD>\"],\n",
        "                                                       padding='pre', \n",
        "                                                       maxlen=maxlen)\n",
        "\n",
        "print(X_train.shape)"
      ]
    },
    {
      "cell_type": "code",
      "execution_count": null,
      "metadata": {
        "colab": {
          "base_uri": "https://localhost:8080/"
        },
        "id": "tlU-syJdQdsI",
        "outputId": "ee70e084-5d1a-433f-812f-b8627e400d54"
      },
      "outputs": [
        {
          "name": "stdout",
          "output_type": "stream",
          "text": [
            "(126182, 41)\n",
            "(126182,)\n"
          ]
        }
      ],
      "source": [
        "x_val = X_train[:20000]\n",
        "y_val = y_train[:20000]\n",
        "\n",
        "partial_x_train = X_train[20000:]\n",
        "partial_y_train = y_train[20000:]\n",
        "\n",
        "print(partial_x_train.shape)\n",
        "print(partial_y_train.shape)"
      ]
    },
    {
      "cell_type": "code",
      "execution_count": null,
      "metadata": {
        "id": "ICiovm_ARJ18"
      },
      "outputs": [],
      "source": [
        "vocab_size = len(index_to_word)\n",
        "word_vector_dim = 300"
      ]
    },
    {
      "cell_type": "code",
      "execution_count": null,
      "metadata": {
        "colab": {
          "base_uri": "https://localhost:8080/"
        },
        "id": "l34Shl1GQdvq",
        "outputId": "18609996-9085-44fb-96f9-a128fb062b7b"
      },
      "outputs": [
        {
          "name": "stdout",
          "output_type": "stream",
          "text": [
            "Model: \"RNN\"\n",
            "_________________________________________________________________\n",
            " Layer (type)                Output Shape              Param #   \n",
            "=================================================================\n",
            " embedding_5 (Embedding)     (None, None, 300)         3000000   \n",
            "                                                                 \n",
            " lstm_2 (LSTM)               (None, 8)                 9888      \n",
            "                                                                 \n",
            " dense_10 (Dense)            (None, 8)                 72        \n",
            "                                                                 \n",
            " dense_11 (Dense)            (None, 1)                 9         \n",
            "                                                                 \n",
            "=================================================================\n",
            "Total params: 3,009,969\n",
            "Trainable params: 3,009,969\n",
            "Non-trainable params: 0\n",
            "_________________________________________________________________\n"
          ]
        }
      ],
      "source": [
        "#RNN Model\n",
        " \n",
        "rnn_model = tf.keras.Sequential(name='RNN')\n",
        "rnn_model.add(tf.keras.layers.Embedding(vocab_size, word_vector_dim, input_shape=(None,)))\n",
        "rnn_model.add(tf.keras.layers.LSTM(8))   \n",
        "rnn_model.add(tf.keras.layers.Dense(8, activation='relu'))\n",
        "rnn_model.add(tf.keras.layers.Dense(1, activation='sigmoid'))  \n",
        "\n",
        "rnn_model.summary()"
      ]
    },
    {
      "cell_type": "code",
      "execution_count": null,
      "metadata": {
        "colab": {
          "base_uri": "https://localhost:8080/"
        },
        "id": "zT76Cp1MQdy0",
        "outputId": "ac9564aa-fd03-4f24-cb31-5401b910ec38"
      },
      "outputs": [
        {
          "name": "stdout",
          "output_type": "stream",
          "text": [
            "Model: \"CNN\"\n",
            "_________________________________________________________________\n",
            " Layer (type)                Output Shape              Param #   \n",
            "=================================================================\n",
            " embedding_6 (Embedding)     (None, None, 300)         3000000   \n",
            "                                                                 \n",
            " conv1d_4 (Conv1D)           (None, None, 16)          33616     \n",
            "                                                                 \n",
            " max_pooling1d_2 (MaxPooling  (None, None, 16)         0         \n",
            " 1D)                                                             \n",
            "                                                                 \n",
            " conv1d_5 (Conv1D)           (None, None, 16)          1808      \n",
            "                                                                 \n",
            " global_max_pooling1d_3 (Glo  (None, 16)               0         \n",
            " balMaxPooling1D)                                                \n",
            "                                                                 \n",
            " dense_12 (Dense)            (None, 8)                 136       \n",
            "                                                                 \n",
            " dense_13 (Dense)            (None, 1)                 9         \n",
            "                                                                 \n",
            "=================================================================\n",
            "Total params: 3,035,569\n",
            "Trainable params: 3,035,569\n",
            "Non-trainable params: 0\n",
            "_________________________________________________________________\n"
          ]
        }
      ],
      "source": [
        "# 1-D CNN Model\n",
        "\n",
        "cnn_model = tf.keras.Sequential(name='CNN')\n",
        "cnn_model.add(tf.keras.layers.Embedding(vocab_size, word_vector_dim, input_shape=(None,)))\n",
        "cnn_model.add(tf.keras.layers.Conv1D(16, 7, activation='relu'))\n",
        "cnn_model.add(tf.keras.layers.MaxPooling1D(5))\n",
        "cnn_model.add(tf.keras.layers.Conv1D(16, 7, activation='relu'))\n",
        "cnn_model.add(tf.keras.layers.GlobalMaxPooling1D())\n",
        "cnn_model.add(tf.keras.layers.Dense(8, activation='relu'))\n",
        "cnn_model.add(tf.keras.layers.Dense(1, activation='sigmoid'))  \n",
        "\n",
        "cnn_model.summary()"
      ]
    },
    {
      "cell_type": "code",
      "execution_count": null,
      "metadata": {
        "colab": {
          "base_uri": "https://localhost:8080/"
        },
        "id": "yn9PitWqQd1W",
        "outputId": "c578afb5-1b15-46a8-dac8-40c507665320"
      },
      "outputs": [
        {
          "name": "stdout",
          "output_type": "stream",
          "text": [
            "Model: \"GMP\"\n",
            "_________________________________________________________________\n",
            " Layer (type)                Output Shape              Param #   \n",
            "=================================================================\n",
            " embedding_7 (Embedding)     (None, None, 300)         3000000   \n",
            "                                                                 \n",
            " global_max_pooling1d_4 (Glo  (None, 300)              0         \n",
            " balMaxPooling1D)                                                \n",
            "                                                                 \n",
            " dense_14 (Dense)            (None, 8)                 2408      \n",
            "                                                                 \n",
            " dense_15 (Dense)            (None, 1)                 9         \n",
            "                                                                 \n",
            "=================================================================\n",
            "Total params: 3,002,417\n",
            "Trainable params: 3,002,417\n",
            "Non-trainable params: 0\n",
            "_________________________________________________________________\n"
          ]
        }
      ],
      "source": [
        "# GlobalMaxPooling1D Model\n",
        "\n",
        "gmp_model = tf.keras.Sequential(name='GMP')\n",
        "gmp_model.add(tf.keras.layers.Embedding(vocab_size, word_vector_dim, input_shape=(None,)))\n",
        "gmp_model.add(tf.keras.layers.GlobalMaxPooling1D())\n",
        "gmp_model.add(tf.keras.layers.Dense(8, activation='relu'))\n",
        "gmp_model.add(tf.keras.layers.Dense(1, activation='sigmoid'))  \n",
        "\n",
        "gmp_model.summary()"
      ]
    },
    {
      "cell_type": "code",
      "execution_count": null,
      "metadata": {
        "id": "dnurblSgUPrS"
      },
      "outputs": [],
      "source": [
        "models = [rnn_model.name,cnn_model.name,gmp_model.name]"
      ]
    },
    {
      "cell_type": "code",
      "execution_count": null,
      "metadata": {
        "colab": {
          "base_uri": "https://localhost:8080/"
        },
        "id": "-RWWNlFWQd37",
        "outputId": "70b5965e-797e-4363-dcab-2a5e8af551c2"
      },
      "outputs": [
        {
          "name": "stdout",
          "output_type": "stream",
          "text": [
            "----------RNN----------\n",
            "Epoch 1/10\n",
            "247/247 [==============================] - 38s 147ms/step - loss: 0.4416 - accuracy: 0.8103 - val_loss: 0.3522 - val_accuracy: 0.8489\n",
            "Epoch 2/10\n",
            "247/247 [==============================] - 36s 146ms/step - loss: 0.3183 - accuracy: 0.8676 - val_loss: 0.3345 - val_accuracy: 0.8582\n",
            "Epoch 3/10\n",
            "247/247 [==============================] - 36s 146ms/step - loss: 0.2838 - accuracy: 0.8820 - val_loss: 0.3359 - val_accuracy: 0.8569\n",
            "Epoch 4/10\n",
            "247/247 [==============================] - 36s 145ms/step - loss: 0.2560 - accuracy: 0.8949 - val_loss: 0.3415 - val_accuracy: 0.8547\n",
            "Epoch 5/10\n",
            "247/247 [==============================] - 36s 144ms/step - loss: 0.2291 - accuracy: 0.9071 - val_loss: 0.3635 - val_accuracy: 0.8531\n",
            "Epoch 6/10\n",
            "247/247 [==============================] - 36s 144ms/step - loss: 0.2058 - accuracy: 0.9181 - val_loss: 0.3902 - val_accuracy: 0.8520\n",
            "Epoch 7/10\n",
            "247/247 [==============================] - 36s 145ms/step - loss: 0.1847 - accuracy: 0.9283 - val_loss: 0.4025 - val_accuracy: 0.8504\n",
            "Epoch 8/10\n",
            "247/247 [==============================] - 36s 144ms/step - loss: 0.1649 - accuracy: 0.9378 - val_loss: 0.4353 - val_accuracy: 0.8465\n",
            "Epoch 9/10\n",
            "247/247 [==============================] - 36s 146ms/step - loss: 0.1485 - accuracy: 0.9447 - val_loss: 0.4724 - val_accuracy: 0.8432\n",
            "Epoch 10/10\n",
            "247/247 [==============================] - 36s 144ms/step - loss: 0.1348 - accuracy: 0.9507 - val_loss: 0.4955 - val_accuracy: 0.8395\n",
            "----------RNNresults----------\n",
            "1537/1537 - 7s - loss: 0.4933 - accuracy: 0.8384 - 7s/epoch - 5ms/step\n",
            "----------CNN----------\n",
            "Epoch 1/10\n",
            "247/247 [==============================] - 62s 249ms/step - loss: 0.4251 - accuracy: 0.8027 - val_loss: 0.3402 - val_accuracy: 0.8522\n",
            "Epoch 2/10\n",
            "247/247 [==============================] - 61s 248ms/step - loss: 0.2948 - accuracy: 0.8764 - val_loss: 0.3339 - val_accuracy: 0.8548\n",
            "Epoch 3/10\n",
            "247/247 [==============================] - 61s 246ms/step - loss: 0.2305 - accuracy: 0.9090 - val_loss: 0.3480 - val_accuracy: 0.8551\n",
            "Epoch 4/10\n",
            "247/247 [==============================] - 61s 246ms/step - loss: 0.1586 - accuracy: 0.9431 - val_loss: 0.4008 - val_accuracy: 0.8504\n",
            "Epoch 5/10\n",
            "247/247 [==============================] - 61s 248ms/step - loss: 0.1008 - accuracy: 0.9658 - val_loss: 0.4782 - val_accuracy: 0.8482\n",
            "Epoch 6/10\n",
            "247/247 [==============================] - 62s 249ms/step - loss: 0.0675 - accuracy: 0.9780 - val_loss: 0.5745 - val_accuracy: 0.8397\n",
            "Epoch 7/10\n",
            "247/247 [==============================] - 61s 246ms/step - loss: 0.0476 - accuracy: 0.9848 - val_loss: 0.6299 - val_accuracy: 0.8396\n",
            "Epoch 8/10\n",
            "247/247 [==============================] - 60s 245ms/step - loss: 0.0365 - accuracy: 0.9886 - val_loss: 0.7186 - val_accuracy: 0.8430\n",
            "Epoch 9/10\n",
            "247/247 [==============================] - 60s 245ms/step - loss: 0.0303 - accuracy: 0.9903 - val_loss: 0.7625 - val_accuracy: 0.8357\n",
            "Epoch 10/10\n",
            "247/247 [==============================] - 61s 246ms/step - loss: 0.0283 - accuracy: 0.9906 - val_loss: 0.8560 - val_accuracy: 0.8377\n",
            "----------CNNresults----------\n",
            "1537/1537 - 6s - loss: 0.8812 - accuracy: 0.8335 - 6s/epoch - 4ms/step\n",
            "----------GMP----------\n",
            "Epoch 1/10\n",
            "247/247 [==============================] - 18s 72ms/step - loss: 0.4463 - accuracy: 0.8118 - val_loss: 0.3396 - val_accuracy: 0.8508\n",
            "Epoch 2/10\n",
            "247/247 [==============================] - 17s 70ms/step - loss: 0.3041 - accuracy: 0.8720 - val_loss: 0.3319 - val_accuracy: 0.8579\n",
            "Epoch 3/10\n",
            "247/247 [==============================] - 17s 70ms/step - loss: 0.2562 - accuracy: 0.8966 - val_loss: 0.3412 - val_accuracy: 0.8570\n",
            "Epoch 4/10\n",
            "247/247 [==============================] - 18s 71ms/step - loss: 0.2118 - accuracy: 0.9190 - val_loss: 0.3594 - val_accuracy: 0.8577\n",
            "Epoch 5/10\n",
            "247/247 [==============================] - 17s 70ms/step - loss: 0.1660 - accuracy: 0.9400 - val_loss: 0.3869 - val_accuracy: 0.8522\n",
            "Epoch 6/10\n",
            "247/247 [==============================] - 17s 70ms/step - loss: 0.1197 - accuracy: 0.9611 - val_loss: 0.4218 - val_accuracy: 0.8506\n",
            "Epoch 7/10\n",
            "247/247 [==============================] - 17s 71ms/step - loss: 0.0818 - accuracy: 0.9768 - val_loss: 0.4665 - val_accuracy: 0.8482\n",
            "Epoch 8/10\n",
            "247/247 [==============================] - 17s 71ms/step - loss: 0.0534 - accuracy: 0.9866 - val_loss: 0.5098 - val_accuracy: 0.8457\n",
            "Epoch 9/10\n",
            "247/247 [==============================] - 17s 71ms/step - loss: 0.0351 - accuracy: 0.9917 - val_loss: 0.5535 - val_accuracy: 0.8443\n",
            "Epoch 10/10\n",
            "247/247 [==============================] - 17s 70ms/step - loss: 0.0245 - accuracy: 0.9942 - val_loss: 0.5882 - val_accuracy: 0.8432\n",
            "----------GMPresults----------\n",
            "1537/1537 - 2s - loss: 0.5935 - accuracy: 0.8421 - 2s/epoch - 2ms/step\n"
          ]
        }
      ],
      "source": [
        "model_results = {}\n",
        "history_dict = {}\n",
        "for model_name in models :\n",
        "  if model_name == 'RNN' : model = rnn_model\n",
        "  elif model_name == 'CNN' : model = cnn_model\n",
        "  else : model = gmp_model\n",
        "\n",
        "\n",
        "  model.compile(optimizer='adam',loss='binary_crossentropy',\n",
        "              metrics=['accuracy'])\n",
        "\n",
        "  epochs = 10\n",
        "  print('-'*10 + model_name +'-'*10)\n",
        "  history = model.fit(partial_x_train,partial_y_train,epochs=epochs,\n",
        "                    batch_size=512,validation_data=(x_val,y_val),verbose=1)\n",
        "  print('-'*10 + model_name + 'results'+'-'*10)  \n",
        "  results = model.evaluate(X_test,y_test,verbose=2)\n",
        "  model_results[model_name] = results\n",
        "  history_dict[model_name] = history.history"
      ]
    },
    {
      "cell_type": "code",
      "execution_count": null,
      "metadata": {
        "colab": {
          "base_uri": "https://localhost:8080/"
        },
        "id": "AGcEhHGqQd6_",
        "outputId": "03145993-9c54-40e0-e1ea-68a6390ff0c0"
      },
      "outputs": [
        {
          "data": {
            "text/plain": [
              "{'CNN': [0.8812132477760315, 0.8334723711013794],\n",
              " 'GMP': [0.5935193300247192, 0.8420571088790894],\n",
              " 'RNN': [0.4932630956172943, 0.8383546471595764]}"
            ]
          },
          "execution_count": 68,
          "metadata": {},
          "output_type": "execute_result"
        }
      ],
      "source": [
        "model_results"
      ]
    },
    {
      "cell_type": "code",
      "execution_count": null,
      "metadata": {
        "colab": {
          "base_uri": "https://localhost:8080/"
        },
        "id": "8sn9SuxImAh2",
        "outputId": "e80e81a5-c343-4b3c-cf92-4fe0357b2db9"
      },
      "outputs": [
        {
          "data": {
            "text/plain": [
              "{'CNN': {'accuracy': [0.8026739358901978,\n",
              "   0.8763611316680908,\n",
              "   0.9089965224266052,\n",
              "   0.9431139230728149,\n",
              "   0.9658271670341492,\n",
              "   0.9780238270759583,\n",
              "   0.9848155975341797,\n",
              "   0.988627552986145,\n",
              "   0.9902521967887878,\n",
              "   0.990608811378479],\n",
              "  'loss': [0.4251386821269989,\n",
              "   0.29480114579200745,\n",
              "   0.23048241436481476,\n",
              "   0.15856009721755981,\n",
              "   0.10080383718013763,\n",
              "   0.06752384454011917,\n",
              "   0.047637566924095154,\n",
              "   0.036501046270132065,\n",
              "   0.03028235398232937,\n",
              "   0.028254594653844833],\n",
              "  'val_accuracy': [0.8522499799728394,\n",
              "   0.8547999858856201,\n",
              "   0.8551499843597412,\n",
              "   0.850350022315979,\n",
              "   0.8481500148773193,\n",
              "   0.8396999835968018,\n",
              "   0.8396499752998352,\n",
              "   0.8429999947547913,\n",
              "   0.8356500267982483,\n",
              "   0.8377000093460083],\n",
              "  'val_loss': [0.3401622474193573,\n",
              "   0.33391842246055603,\n",
              "   0.34800514578819275,\n",
              "   0.40084555745124817,\n",
              "   0.47815272212028503,\n",
              "   0.5744741559028625,\n",
              "   0.6299048662185669,\n",
              "   0.7186070084571838,\n",
              "   0.762489914894104,\n",
              "   0.8560263514518738]},\n",
              " 'GMP': {'accuracy': [0.8118194341659546,\n",
              "   0.8719944357872009,\n",
              "   0.8966493010520935,\n",
              "   0.9189900159835815,\n",
              "   0.9399597644805908,\n",
              "   0.9611196517944336,\n",
              "   0.9767954349517822,\n",
              "   0.9866225123405457,\n",
              "   0.9917341470718384,\n",
              "   0.9941592216491699],\n",
              "  'loss': [0.44633927941322327,\n",
              "   0.30414465069770813,\n",
              "   0.2561856210231781,\n",
              "   0.21181167662143707,\n",
              "   0.1659991294145584,\n",
              "   0.11970628798007965,\n",
              "   0.081812784075737,\n",
              "   0.05336010083556175,\n",
              "   0.03509506583213806,\n",
              "   0.024487093091011047],\n",
              "  'val_accuracy': [0.8507500290870667,\n",
              "   0.8578500151634216,\n",
              "   0.8569999933242798,\n",
              "   0.857699990272522,\n",
              "   0.8521999716758728,\n",
              "   0.850600004196167,\n",
              "   0.8482499718666077,\n",
              "   0.8457000255584717,\n",
              "   0.8443499803543091,\n",
              "   0.8432000279426575],\n",
              "  'val_loss': [0.33958426117897034,\n",
              "   0.3318833112716675,\n",
              "   0.341169536113739,\n",
              "   0.3593901991844177,\n",
              "   0.386874258518219,\n",
              "   0.42177870869636536,\n",
              "   0.46654102206230164,\n",
              "   0.5098070502281189,\n",
              "   0.5535095930099487,\n",
              "   0.5882450938224792]},\n",
              " 'RNN': {'accuracy': [0.8102661371231079,\n",
              "   0.8675960302352905,\n",
              "   0.8819879293441772,\n",
              "   0.8948898911476135,\n",
              "   0.9070707559585571,\n",
              "   0.9181182980537415,\n",
              "   0.9282623529434204,\n",
              "   0.937804102897644,\n",
              "   0.9447464942932129,\n",
              "   0.9506823420524597],\n",
              "  'loss': [0.44164738059043884,\n",
              "   0.31826290488243103,\n",
              "   0.2837587296962738,\n",
              "   0.2560434639453888,\n",
              "   0.22906742990016937,\n",
              "   0.205803781747818,\n",
              "   0.18466125428676605,\n",
              "   0.16491290926933289,\n",
              "   0.14847898483276367,\n",
              "   0.13478848338127136],\n",
              "  'val_accuracy': [0.8489000201225281,\n",
              "   0.8582000136375427,\n",
              "   0.8569499850273132,\n",
              "   0.8546500205993652,\n",
              "   0.8531000018119812,\n",
              "   0.8519999980926514,\n",
              "   0.8503999710083008,\n",
              "   0.8465499877929688,\n",
              "   0.8432499766349792,\n",
              "   0.8394500017166138],\n",
              "  'val_loss': [0.35217341780662537,\n",
              "   0.3344935476779938,\n",
              "   0.3359321355819702,\n",
              "   0.341549277305603,\n",
              "   0.36353033781051636,\n",
              "   0.3902193009853363,\n",
              "   0.40253594517707825,\n",
              "   0.43533945083618164,\n",
              "   0.4723948836326599,\n",
              "   0.49553748965263367]}}"
            ]
          },
          "execution_count": 69,
          "metadata": {},
          "output_type": "execute_result"
        }
      ],
      "source": [
        "history_dict"
      ]
    },
    {
      "cell_type": "code",
      "execution_count": null,
      "metadata": {
        "colab": {
          "base_uri": "https://localhost:8080/",
          "height": 1000
        },
        "id": "yLqKPqFXPVvq",
        "outputId": "553e9e9a-1e60-4db6-f9bc-719c2d47811f"
      },
      "outputs": [
        {
          "data": {
            "image/png": "[encoded data removed]",
            "text/plain": [
              "<Figure size 1080x360 with 2 Axes>"
            ]
          },
          "metadata": {},
          "output_type": "display_data"
        },
        {
          "data": {
            "image/png": "[encoded data removed]",
            "text/plain": [
              "<Figure size 1080x360 with 2 Axes>"
            ]
          },
          "metadata": {},
          "output_type": "display_data"
        },
        {
          "data": {
            "image/png": "[encoded data removed]",
            "text/plain": [
              "<Figure size 1080x360 with 2 Axes>"
            ]
          },
          "metadata": {},
          "output_type": "display_data"
        }
      ],
      "source": [
        "import matplotlib.pyplot as plt\n",
        "\n",
        "keys = list(history_dict.keys())\n",
        "\n",
        "\n",
        "for i in range(3):\n",
        "  fig = plt.figure(i,figsize=(15,5))\n",
        "  fig.suptitle(keys[i])\n",
        "\n",
        "  acc = history_dict[keys[i]]['accuracy']\n",
        "  val_acc = history_dict[keys[i]]['val_accuracy']\n",
        "  loss = history_dict[keys[i]]['loss']\n",
        "  val_loss = history_dict[keys[i]]['val_loss']\n",
        "\n",
        "  epochs = range(1, len(acc) + 1)\n",
        "\n",
        "  plt.subplot(1,2,1)\n",
        "  plt.plot(epochs,loss,'bo',label='Training loss')\n",
        "  plt.plot(epochs, val_loss, 'b', label='Validation loss')\n",
        "  plt.title('Training and validation loss')\n",
        "  plt.xlabel('Epochs')\n",
        "  plt.ylabel('Loss')\n",
        "  plt.legend()\n",
        "\n",
        "  plt.subplot(1,2,2)\n",
        "  plt.plot(epochs, acc, 'bo', label='Training acc')\n",
        "  plt.plot(epochs, val_acc, 'b', label='Validation acc')\n",
        "  plt.title('Training and validation accuracy')\n",
        "  plt.xlabel('Epochs')\n",
        "  plt.ylabel('Accuracy')\n",
        "  plt.legend()\n",
        "\n",
        "  plt.show()\n",
        "\n"
      ]
    },
    {
      "cell_type": "code",
      "execution_count": null,
      "metadata": {
        "id": "bUdzC9ePl_uM"
      },
      "outputs": [],
      "source": [
        "word2vec_file_path = '/content/drive/MyDrive/data/ko_word2vec.txt'\n",
        "f = open(word2vec_file_path, 'w')\n",
        "f.write('{} {}\\n'.format(vocab_size-4, word_vector_dim))  \n",
        "\n",
        "vectors = model.get_weights()[0]\n",
        "for i in range(4,vocab_size):\n",
        "    f.write('{} {}\\n'.format(index_to_word[i], ' '.join(map(str, list(vectors[i, :])))))\n",
        "f.close()"
      ]
    },
    {
      "cell_type": "code",
      "execution_count": null,
      "metadata": {
        "colab": {
          "base_uri": "https://localhost:8080/"
        },
        "id": "m10fRj3_iui_",
        "outputId": "7d6b3973-29ba-4896-c819-f2e994940b43"
      },
      "outputs": [
        {
          "data": {
            "text/plain": [
              "array([-5.12406183e-03, -2.57721934e-02, -3.38492841e-02,  3.41253318e-02,\n",
              "       -1.48703018e-02, -4.53643799e-02, -3.20647918e-02, -2.01675296e-02,\n",
              "       -4.58781347e-02, -2.09752545e-02, -1.06266756e-02, -1.10572577e-03,\n",
              "       -4.00162488e-03,  1.27841523e-02,  7.09359720e-02,  2.47805361e-02,\n",
              "       -4.51766737e-02,  1.74558759e-02, -1.48855383e-02, -5.60782738e-02,\n",
              "       -4.42843698e-02, -3.70503627e-02, -3.81508358e-02, -4.14298996e-02,\n",
              "        3.07783224e-02, -1.58607047e-02,  1.22492872e-02, -3.27719264e-02,\n",
              "       -1.33386739e-02, -1.75211076e-02, -9.68274754e-03, -4.96355779e-02,\n",
              "        2.34979414e-03, -4.84100357e-02,  6.37887919e-04, -3.78799438e-02,\n",
              "       -2.32180059e-02, -2.34500449e-02, -3.42796035e-02,  2.32565496e-02,\n",
              "        1.45670837e-02,  9.65988636e-03, -1.22531010e-02, -6.07633032e-02,\n",
              "       -4.93360758e-02, -1.93660539e-02, -3.81469950e-02,  8.71146284e-03,\n",
              "       -1.16166817e-02, -2.88563017e-02, -3.73712257e-02, -4.02758010e-02,\n",
              "       -2.90309899e-02, -5.34698460e-03,  6.12413250e-02, -3.73304263e-02,\n",
              "       -3.67747881e-02,  5.06257266e-02, -1.15851895e-03, -3.70191522e-02,\n",
              "        9.27411672e-03, -4.23331149e-02, -4.91616540e-02, -5.95806688e-02,\n",
              "        1.02072567e-01, -2.32187714e-02, -5.26426286e-02, -1.58273373e-02,\n",
              "       -2.62095816e-02, -6.38073236e-02, -3.31940316e-02, -4.24615368e-02,\n",
              "       -7.77292997e-04, -4.72123288e-02, -3.86667177e-02, -2.55862959e-02,\n",
              "        1.94511451e-02,  5.99913299e-03, -3.49066257e-02, -3.55790257e-02,\n",
              "       -2.41492060e-03,  1.49363168e-02, -4.62839007e-02, -4.31946293e-02,\n",
              "       -2.87060756e-02, -1.61045585e-02, -3.42779756e-02,  5.44070564e-02,\n",
              "       -4.01070863e-02, -3.93459089e-02, -2.67445184e-02, -3.52313407e-02,\n",
              "       -5.00365300e-03, -3.57468724e-02, -3.25833187e-02, -1.87947154e-02,\n",
              "       -4.13911529e-02, -9.44785215e-03, -1.22344047e-02, -2.28349660e-02,\n",
              "       -1.67951714e-02,  1.92347751e-03, -5.12184501e-02,  9.48752742e-03,\n",
              "       -6.25612661e-02, -2.99848858e-02,  1.03674471e-01, -1.46951573e-02,\n",
              "       -5.32577448e-02,  4.98098880e-03,  3.80685553e-02, -4.48440053e-02,\n",
              "       -1.47686293e-02, -2.74574608e-02, -3.02737784e-02, -4.79180105e-02,\n",
              "       -3.13475169e-02, -4.70340364e-02, -5.27579077e-02, -4.28221487e-02,\n",
              "       -5.74087575e-02,  1.09106610e-02, -5.91979362e-03,  9.02964249e-02,\n",
              "       -1.37284892e-02, -4.59821522e-02, -6.14219196e-02, -3.81325595e-02,\n",
              "       -1.88098047e-02, -5.19114770e-02, -1.54846124e-02, -4.19161953e-02,\n",
              "       -2.78130500e-03, -4.91901003e-02, -2.79585123e-02, -3.99633422e-02,\n",
              "       -2.84388699e-02, -8.38771742e-03,  6.62537962e-02, -6.07938021e-02,\n",
              "       -4.09464836e-02,  7.06504509e-02,  3.75850536e-02,  1.65320039e-02,\n",
              "       -2.71809902e-02, -4.95796613e-02,  5.06597273e-02,  9.83153582e-02,\n",
              "        8.71814191e-02, -6.36322051e-02, -5.37263937e-02, -3.21337357e-02,\n",
              "       -1.82014648e-02, -7.36095803e-03,  3.01647205e-02, -1.88725963e-02,\n",
              "       -4.83306944e-02,  7.56451860e-02,  6.19715378e-02, -3.09111867e-02,\n",
              "       -3.13184410e-02, -7.22132921e-02, -4.48193848e-02, -5.14483713e-02,\n",
              "       -5.22871651e-02, -3.56244221e-02,  5.44068357e-03, -5.42625934e-02,\n",
              "       -4.15301919e-02, -3.46097723e-02, -5.89853376e-02, -3.96303162e-02,\n",
              "       -1.20349890e-02, -5.88158481e-02, -4.86610644e-02, -3.81099992e-02,\n",
              "        1.45607665e-02, -2.93849614e-02, -2.91395262e-02, -1.11843424e-03,\n",
              "       -3.67575958e-02,  7.57892951e-02, -4.05021682e-02, -6.79574767e-03,\n",
              "        5.19370334e-03,  3.03930533e-03,  1.42603712e-02,  1.14391539e-02,\n",
              "       -3.72949019e-02, -5.63934585e-03,  1.09335398e-02, -3.00739296e-02,\n",
              "        2.63477471e-02, -4.35133353e-02,  2.63821129e-02, -6.31529465e-02,\n",
              "        5.53236827e-02,  1.81560051e-02,  1.56513869e-03,  1.05596241e-02,\n",
              "       -5.49325608e-02, -2.92693451e-02, -4.33305018e-02,  5.68974726e-02,\n",
              "        9.13474411e-02, -4.26008031e-02, -1.31622180e-02,  9.27582681e-02,\n",
              "        2.14656014e-02, -1.43202422e-02, -6.09305277e-02, -2.73136497e-02,\n",
              "        7.79431406e-03, -4.40108553e-02, -1.20040933e-02, -2.55459081e-02,\n",
              "       -2.50586178e-02, -3.25992219e-02, -7.75109092e-03, -1.35985985e-02,\n",
              "       -7.76461978e-03, -3.56989503e-02, -4.72478233e-02,  7.71155627e-03,\n",
              "       -3.70962769e-02, -3.52278277e-02, -3.54889520e-02, -3.22575606e-02,\n",
              "       -1.63642708e-02, -3.95999998e-02, -2.55639255e-02, -3.73839140e-02,\n",
              "        1.82734817e-01, -1.73322968e-02, -4.28961925e-02, -7.26860575e-03,\n",
              "       -3.05286627e-02,  2.73077767e-02,  6.63101450e-02, -3.89792472e-02,\n",
              "        9.67210084e-02, -8.12542421e-05,  6.83804378e-02,  6.67974278e-02,\n",
              "        5.58260940e-02, -2.18223967e-03,  2.81394483e-03, -3.56945768e-02,\n",
              "       -2.94688642e-02, -3.60872671e-02, -6.23889603e-02,  1.03677318e-01,\n",
              "       -5.15639186e-02, -2.02724002e-02,  1.78389363e-02, -4.93735494e-03,\n",
              "       -3.55822444e-02,  1.63508337e-02, -1.51857948e-02, -7.32326657e-02,\n",
              "       -4.73494530e-02, -4.28502448e-02, -4.81052399e-02, -3.51572153e-03,\n",
              "       -5.24354205e-02, -4.73241732e-02, -4.69462462e-02, -4.54800501e-02,\n",
              "       -2.94561274e-02, -3.88051458e-02, -4.41400371e-02, -4.88137007e-02,\n",
              "       -4.40857344e-04,  2.31673685e-03,  1.61873233e-02, -2.55001709e-03,\n",
              "        3.45665254e-02, -4.84463088e-02, -5.04462793e-02, -4.08659056e-02,\n",
              "       -6.24214336e-02, -2.64102723e-02, -1.81860961e-02, -5.32428548e-02,\n",
              "       -4.71749678e-02, -6.92011928e-03, -3.73535976e-02, -2.54292563e-02,\n",
              "        3.52441669e-02, -3.72528546e-02, -1.69875529e-02, -5.10231405e-03,\n",
              "       -4.85988855e-02, -3.83119956e-02,  5.23153553e-03,  9.80324224e-02,\n",
              "       -4.68767062e-02, -3.62056717e-02,  1.93156004e-02, -4.49260212e-02],\n",
              "      dtype=float32)"
            ]
          },
          "execution_count": 72,
          "metadata": {},
          "output_type": "execute_result"
        }
      ],
      "source": [
        "from gensim.models.keyedvectors import Word2VecKeyedVectors\n",
        "\n",
        "word_vectors = Word2VecKeyedVectors.load_word2vec_format(word2vec_file_path, binary=False)\n",
        "vector = word_vectors['컴퓨터']\n",
        "vector"
      ]
    },
    {
      "cell_type": "code",
      "execution_count": null,
      "metadata": {
        "colab": {
          "base_uri": "https://localhost:8080/"
        },
        "id": "ZFp3ShV6iul3",
        "outputId": "323def18-5dfb-453c-975d-6d08c81a0bd0"
      },
      "outputs": [
        {
          "data": {
            "text/plain": [
              "[('잼따', 0.6045466661453247),\n",
              " ('홧팅', 0.5965070724487305),\n",
              " ('乃', 0.5867186784744263),\n",
              " ('천사', 0.5833028554916382),\n",
              " ('조음', 0.5817431211471558),\n",
              " ('아름다워요', 0.5797837376594543),\n",
              " ('am', 0.570914626121521),\n",
              " ('♥♥', 0.5684590339660645),\n",
              " ('고마워요', 0.563900351524353),\n",
              " ('넘침', 0.5630855560302734)]"
            ]
          },
          "execution_count": 73,
          "metadata": {},
          "output_type": "execute_result"
        }
      ],
      "source": [
        "word_vectors.similar_by_word('love')"
      ]
    },
    {
      "cell_type": "code",
      "execution_count": null,
      "metadata": {
        "id": "e8tQZcA7iusj"
      },
      "outputs": [],
      "source": [
        "from gensim.models import Word2Vec\n",
        "\n",
        "word2vec_path = '/content/drive/MyDrive/data/ko.bin'\n",
        "\n",
        "word2vec = Word2Vec.load(word2vec_path)"
      ]
    },
    {
      "cell_type": "code",
      "execution_count": null,
      "metadata": {
        "colab": {
          "base_uri": "https://localhost:8080/"
        },
        "id": "pf8PpGN5iupv",
        "outputId": "4c23096c-57d4-44db-e325-b2edab67070c"
      },
      "outputs": [
        {
          "name": "stderr",
          "output_type": "stream",
          "text": [
            "/usr/local/lib/python3.7/dist-packages/ipykernel_launcher.py:1: DeprecationWarning: Call to deprecated `similar_by_word` (Method will be removed in 4.0.0, use self.wv.similar_by_word() instead).\n",
            "  \"\"\"Entry point for launching an IPython kernel.\n"
          ]
        },
        {
          "data": {
            "text/plain": [
              "[('슬픔', 0.7216662764549255),\n",
              " ('행복', 0.6759077310562134),\n",
              " ('절망', 0.6468985080718994),\n",
              " ('기쁨', 0.6458414196968079),\n",
              " ('이별', 0.6334798336029053),\n",
              " ('추억', 0.6320937275886536),\n",
              " ('인생', 0.6216273307800293),\n",
              " ('애정', 0.6206069588661194),\n",
              " ('연인', 0.6186063289642334),\n",
              " ('유혹', 0.5965287685394287)]"
            ]
          },
          "execution_count": 75,
          "metadata": {},
          "output_type": "execute_result"
        }
      ],
      "source": [
        "word2vec.similar_by_word(\"사랑\")"
      ]
    },
    {
      "cell_type": "code",
      "execution_count": null,
      "metadata": {
        "colab": {
          "base_uri": "https://localhost:8080/"
        },
        "id": "5E2ucncV1Dmz",
        "outputId": "a5444d7d-9903-4588-a86d-15c48b9c0de3"
      },
      "outputs": [
        {
          "name": "stderr",
          "output_type": "stream",
          "text": [
            "/usr/local/lib/python3.7/dist-packages/ipykernel_launcher.py:7: DeprecationWarning: Call to deprecated `__contains__` (Method will be removed in 4.0.0, use self.wv.__contains__() instead).\n",
            "  import sys\n",
            "/usr/local/lib/python3.7/dist-packages/ipykernel_launcher.py:8: DeprecationWarning: Call to deprecated `__getitem__` (Method will be removed in 4.0.0, use self.wv.__getitem__() instead).\n",
            "  \n"
          ]
        }
      ],
      "source": [
        "vocab_size = 10000    # 어휘 사전의 크기입니다(10,000개의 단어)\n",
        "word_vector_dim = 200  # 워드 벡터의 차원수\n",
        "embedding_matrix = np.random.rand(vocab_size, word_vector_dim)\n",
        "\n",
        "# embedding_matrix에 Word2Vec 워드 벡터를 단어 하나씩마다 차례차례 카피한다.\n",
        "for i in range(4,vocab_size):\n",
        "    if index_to_word[i] in word2vec:\n",
        "        embedding_matrix[i] = word2vec[index_to_word[i]]"
      ]
    },
    {
      "cell_type": "code",
      "execution_count": null,
      "metadata": {
        "colab": {
          "base_uri": "https://localhost:8080/"
        },
        "id": "5JU_rV881Dp7",
        "outputId": "18e4acc6-54d9-49f3-af76-1bb7e4c96d7b"
      },
      "outputs": [
        {
          "name": "stdout",
          "output_type": "stream",
          "text": [
            "Model: \"sequential_2\"\n",
            "_________________________________________________________________\n",
            " Layer (type)                Output Shape              Param #   \n",
            "=================================================================\n",
            " embedding_8 (Embedding)     (None, 41, 200)           2000000   \n",
            "                                                                 \n",
            " lstm_3 (LSTM)               (None, 256)               467968    \n",
            "                                                                 \n",
            " dense_16 (Dense)            (None, 8)                 2056      \n",
            "                                                                 \n",
            " dense_17 (Dense)            (None, 1)                 9         \n",
            "                                                                 \n",
            "=================================================================\n",
            "Total params: 2,470,033\n",
            "Trainable params: 2,470,033\n",
            "Non-trainable params: 0\n",
            "_________________________________________________________________\n"
          ]
        }
      ],
      "source": [
        "from tensorflow.keras.initializers import Constant\n",
        "\n",
        "vocab_size = 10000    # 어휘 사전의 크기입니다(10,000개의 단어)\n",
        "word_vector_dim = 200  # 워드 벡터의 차원 수 \n",
        "\n",
        "# 모델 구성\n",
        "model = tf.keras.Sequential()\n",
        "model.add(tf.keras.layers.Embedding(vocab_size, \n",
        "                                 word_vector_dim, \n",
        "                                 embeddings_initializer=Constant(embedding_matrix),  # 카피한 임베딩을 여기서 활용\n",
        "                                 input_length=maxlen, \n",
        "                                 trainable=True))   # trainable을 True로 주면 Fine-tuning\n",
        "\n",
        "model.add(tf.keras.layers.LSTM(256))\n",
        "model.add(tf.keras.layers.Dense(8, activation='relu'))\n",
        "model.add(tf.keras.layers.Dense(1, activation='sigmoid')) \n",
        "\n",
        "model.summary()"
      ]
    },
    {
      "cell_type": "code",
      "execution_count": 78,
      "metadata": {
        "colab": {
          "base_uri": "https://localhost:8080/"
        },
        "id": "d3d7GDsl1Ds5",
        "outputId": "779fe791-c165-4fbb-93fd-3ace6be0958d"
      },
      "outputs": [
        {
          "output_type": "stream",
          "name": "stdout",
          "text": [
            "Epoch 1/10\n",
            "247/247 [==============================] - 322s 1s/step - loss: 0.4759 - accuracy: 0.7703 - val_loss: 0.4000 - val_accuracy: 0.8167\n",
            "Epoch 2/10\n",
            "247/247 [==============================] - 318s 1s/step - loss: 0.3537 - accuracy: 0.8453 - val_loss: 0.3600 - val_accuracy: 0.8398\n",
            "Epoch 3/10\n",
            "247/247 [==============================] - 316s 1s/step - loss: 0.3086 - accuracy: 0.8683 - val_loss: 0.3242 - val_accuracy: 0.8590\n",
            "Epoch 4/10\n",
            "247/247 [==============================] - 314s 1s/step - loss: 0.2765 - accuracy: 0.8849 - val_loss: 0.3198 - val_accuracy: 0.8654\n",
            "Epoch 5/10\n",
            "247/247 [==============================] - 314s 1s/step - loss: 0.2541 - accuracy: 0.8949 - val_loss: 0.3235 - val_accuracy: 0.8627\n",
            "Epoch 6/10\n",
            "247/247 [==============================] - 315s 1s/step - loss: 0.2308 - accuracy: 0.9065 - val_loss: 0.3284 - val_accuracy: 0.8623\n",
            "Epoch 7/10\n",
            "247/247 [==============================] - 316s 1s/step - loss: 0.2078 - accuracy: 0.9170 - val_loss: 0.3338 - val_accuracy: 0.8634\n",
            "Epoch 8/10\n",
            "247/247 [==============================] - 318s 1s/step - loss: 0.1867 - accuracy: 0.9268 - val_loss: 0.3424 - val_accuracy: 0.8645\n",
            "Epoch 9/10\n",
            "247/247 [==============================] - 316s 1s/step - loss: 0.1648 - accuracy: 0.9364 - val_loss: 0.3977 - val_accuracy: 0.8619\n",
            "Epoch 10/10\n",
            "247/247 [==============================] - 316s 1s/step - loss: 0.1406 - accuracy: 0.9474 - val_loss: 0.3978 - val_accuracy: 0.8595\n"
          ]
        }
      ],
      "source": [
        "# 학습의 진행\n",
        "model.compile(optimizer=tf.keras.optimizers.Adam(learning_rate=0.0005),\n",
        "              loss='binary_crossentropy',\n",
        "              metrics=['accuracy'])\n",
        "              \n",
        "epochs=10  # 몇 epoch를 훈련하면 좋을지 결과를 보면서 바꾸어 봅시다. \n",
        "\n",
        "history = model.fit(partial_x_train,\n",
        "                    partial_y_train,\n",
        "                    epochs=epochs,\n",
        "                    batch_size=512,\n",
        "                    validation_data=(x_val, y_val),\n",
        "                    verbose=1)"
      ]
    },
    {
      "cell_type": "code",
      "execution_count": 80,
      "metadata": {
        "id": "dd2WXHvt1Dvp",
        "colab": {
          "base_uri": "https://localhost:8080/"
        },
        "outputId": "69e52cdb-c491-4c07-9824-06d58a054a99"
      },
      "outputs": [
        {
          "output_type": "stream",
          "name": "stdout",
          "text": [
            "1537/1537 - 80s - loss: 0.4009 - accuracy: 0.8567 - 80s/epoch - 52ms/step\n",
            "[0.4008544981479645, 0.85670405626297]\n"
          ]
        }
      ],
      "source": [
        "# 테스트셋을 통한 모델 평가\n",
        "results = model.evaluate(X_test,  y_test, verbose=2)\n",
        "\n",
        "print(results)"
      ]
    }
  ],
  "metadata": {
    "colab": {
      "name": "MovieReview.ipynb",
      "provenance": [],
      "collapsed_sections": []
    },
    "kernelspec": {
      "display_name": "Python 3",
      "name": "python3"
    },
    "language_info": {
      "name": "python"
    }
  },
  "nbformat": 4,
  "nbformat_minor": 0
}