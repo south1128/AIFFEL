{
 "cells": [
  {
   "cell_type": "markdown",
   "id": "ef864b67",
   "metadata": {},
   "source": [
    "## Step 1. 데이터 수집하기"
   ]
  },
  {
   "cell_type": "code",
   "execution_count": 1,
   "id": "6b4b0218",
   "metadata": {},
   "outputs": [
    {
     "name": "stderr",
     "output_type": "stream",
     "text": [
      "[nltk_data] Downloading package stopwords to /aiffel/nltk_data...\n",
      "[nltk_data]   Package stopwords is already up-to-date!\n"
     ]
    }
   ],
   "source": [
    "import nltk\n",
    "nltk.download('stopwords')\n",
    "\n",
    "import numpy as np\n",
    "import pandas as pd\n",
    "import os\n",
    "import re\n",
    "import matplotlib.pyplot as plt\n",
    "from nltk.corpus import stopwords\n",
    "from bs4 import BeautifulSoup\n",
    "from tensorflow.keras.preprocessing.text import Tokenizer\n",
    "from tensorflow.keras.preprocessing.sequence import pad_sequences\n",
    "import urllib.request\n",
    "import warnings\n",
    "warnings.filterwarnings('ignore',category=UserWarning,module='bs4')"
   ]
  },
  {
   "cell_type": "code",
   "execution_count": 2,
   "id": "c7a09dec",
   "metadata": {},
   "outputs": [
    {
     "name": "stdout",
     "output_type": "stream",
     "text": [
      "98401\n"
     ]
    }
   ],
   "source": [
    "import urllib.request\n",
    "urllib.request.urlretrieve(\"https://raw.githubusercontent.com/sunnysai12345/News_Summary/master/news_summary_more.csv\", filename=\"news_summary_more.csv\")\n",
    "data = pd.read_csv('news_summary_more.csv', encoding='iso-8859-1')\n",
    "print(len(data))"
   ]
  },
  {
   "cell_type": "code",
   "execution_count": 3,
   "id": "7eb3be03",
   "metadata": {},
   "outputs": [
    {
     "data": {
      "text/html": [
       "<div>\n",
       "<style scoped>\n",
       "    .dataframe tbody tr th:only-of-type {\n",
       "        vertical-align: middle;\n",
       "    }\n",
       "\n",
       "    .dataframe tbody tr th {\n",
       "        vertical-align: top;\n",
       "    }\n",
       "\n",
       "    .dataframe thead th {\n",
       "        text-align: right;\n",
       "    }\n",
       "</style>\n",
       "<table border=\"1\" class=\"dataframe\">\n",
       "  <thead>\n",
       "    <tr style=\"text-align: right;\">\n",
       "      <th></th>\n",
       "      <th>headlines</th>\n",
       "      <th>text</th>\n",
       "    </tr>\n",
       "  </thead>\n",
       "  <tbody>\n",
       "    <tr>\n",
       "      <th>11547</th>\n",
       "      <td>Djokovic halts match to help unwell fan despit...</td>\n",
       "      <td>Former world number one tennis player Novak Dj...</td>\n",
       "    </tr>\n",
       "    <tr>\n",
       "      <th>41353</th>\n",
       "      <td>He'll survive: Steve Smith's dad dumps cricket...</td>\n",
       "      <td>Ex-Australian captain Steve Smith's father Pet...</td>\n",
       "    </tr>\n",
       "    <tr>\n",
       "      <th>24028</th>\n",
       "      <td>India 'way behind' in happiness ranking: Ex-Pr...</td>\n",
       "      <td>Former President Pranab Mukherjee on Friday sa...</td>\n",
       "    </tr>\n",
       "    <tr>\n",
       "      <th>9931</th>\n",
       "      <td>Yuvraj is upset with me over my sudden wedding...</td>\n",
       "      <td>Angad Bedi has revealed his friend, cricketer ...</td>\n",
       "    </tr>\n",
       "    <tr>\n",
       "      <th>39527</th>\n",
       "      <td>Delhi lab wrongly diagnoses man with HIV, lose...</td>\n",
       "      <td>The Delhi Medical Council has cancelled the li...</td>\n",
       "    </tr>\n",
       "    <tr>\n",
       "      <th>40771</th>\n",
       "      <td>Yes, I really kill people: Philippine Prez on ...</td>\n",
       "      <td>Stating that he seeks revenge from UN human ri...</td>\n",
       "    </tr>\n",
       "    <tr>\n",
       "      <th>19002</th>\n",
       "      <td>Focussing on producing the best product possib...</td>\n",
       "      <td>While talking the Indian smartphone market, On...</td>\n",
       "    </tr>\n",
       "    <tr>\n",
       "      <th>60175</th>\n",
       "      <td>Don't forget 'chill' in Chhillar: Manushi on T...</td>\n",
       "      <td>Miss World 2017 Manushi Chhillar, while reacti...</td>\n",
       "    </tr>\n",
       "    <tr>\n",
       "      <th>24783</th>\n",
       "      <td>UP Police uses Sacred Games reference in tweet...</td>\n",
       "      <td>The Uttar Pradesh Police's official Twitter ha...</td>\n",
       "    </tr>\n",
       "    <tr>\n",
       "      <th>56397</th>\n",
       "      <td>PM Modi pays tribute to Sardar Patel on death ...</td>\n",
       "      <td>Prime Minister Narendra Modi on Friday paid tr...</td>\n",
       "    </tr>\n",
       "  </tbody>\n",
       "</table>\n",
       "</div>"
      ],
      "text/plain": [
       "                                               headlines  \\\n",
       "11547  Djokovic halts match to help unwell fan despit...   \n",
       "41353  He'll survive: Steve Smith's dad dumps cricket...   \n",
       "24028  India 'way behind' in happiness ranking: Ex-Pr...   \n",
       "9931   Yuvraj is upset with me over my sudden wedding...   \n",
       "39527  Delhi lab wrongly diagnoses man with HIV, lose...   \n",
       "40771  Yes, I really kill people: Philippine Prez on ...   \n",
       "19002  Focussing on producing the best product possib...   \n",
       "60175  Don't forget 'chill' in Chhillar: Manushi on T...   \n",
       "24783  UP Police uses Sacred Games reference in tweet...   \n",
       "56397  PM Modi pays tribute to Sardar Patel on death ...   \n",
       "\n",
       "                                                    text  \n",
       "11547  Former world number one tennis player Novak Dj...  \n",
       "41353  Ex-Australian captain Steve Smith's father Pet...  \n",
       "24028  Former President Pranab Mukherjee on Friday sa...  \n",
       "9931   Angad Bedi has revealed his friend, cricketer ...  \n",
       "39527  The Delhi Medical Council has cancelled the li...  \n",
       "40771  Stating that he seeks revenge from UN human ri...  \n",
       "19002  While talking the Indian smartphone market, On...  \n",
       "60175  Miss World 2017 Manushi Chhillar, while reacti...  \n",
       "24783  The Uttar Pradesh Police's official Twitter ha...  \n",
       "56397  Prime Minister Narendra Modi on Friday paid tr...  "
      ]
     },
     "execution_count": 3,
     "metadata": {},
     "output_type": "execute_result"
    }
   ],
   "source": [
    "data.sample(10)"
   ]
  },
  {
   "cell_type": "markdown",
   "id": "90457257",
   "metadata": {},
   "source": [
    "## Step 2. 데이터 전처리하기 "
   ]
  },
  {
   "cell_type": "markdown",
   "id": "282467aa",
   "metadata": {},
   "source": [
    "### *2.1. 데이터 정리하기*\n",
    "####  *중복값과 null 값 제거*"
   ]
  },
  {
   "cell_type": "code",
   "execution_count": 4,
   "id": "6a490d0c",
   "metadata": {},
   "outputs": [
    {
     "name": "stdout",
     "output_type": "stream",
     "text": [
      "Text 열에서 중복을 배제한 유일한 샘플의 수 : 98360\n",
      "Headline 열에서 중복을 배제한 유일한 샘플의 수 : 98280\n"
     ]
    }
   ],
   "source": [
    "print('Text 열에서 중복을 배제한 유일한 샘플의 수 :', data['text'].nunique())\n",
    "print('Headline 열에서 중복을 배제한 유일한 샘플의 수 :', data['headlines'].nunique())"
   ]
  },
  {
   "cell_type": "code",
   "execution_count": 5,
   "id": "bce6d2c3",
   "metadata": {},
   "outputs": [
    {
     "name": "stdout",
     "output_type": "stream",
     "text": [
      "전체 샘플수 : 98360\n"
     ]
    }
   ],
   "source": [
    "data.drop_duplicates(subset = ['text'], inplace=True)\n",
    "print('전체 샘플수 :', (len(data)))"
   ]
  },
  {
   "cell_type": "code",
   "execution_count": 6,
   "id": "553bdfb6",
   "metadata": {},
   "outputs": [
    {
     "name": "stdout",
     "output_type": "stream",
     "text": [
      "headlines    0\n",
      "text         0\n",
      "dtype: int64\n"
     ]
    }
   ],
   "source": [
    "print(data.isnull().sum())"
   ]
  },
  {
   "cell_type": "markdown",
   "id": "700e4595",
   "metadata": {},
   "source": [
    "#### *텍스트 정규화와 불용어 제거*<br>\n",
    " - 같은 의미인데 다른 표현으로 쓰여 다른 단어로 간주되는 데이터들 통일 시켜주기\n",
    " - 실질적으로 별 도움이 되지 않는 단어 (불용어: stopwords) 제거하기\n",
    " -  그 외 각종 특수문자 제거, 대소문자 통일, html 태그 제거"
   ]
  },
  {
   "cell_type": "code",
   "execution_count": 7,
   "id": "a8014b5d",
   "metadata": {},
   "outputs": [
    {
     "name": "stdout",
     "output_type": "stream",
     "text": [
      "정규화 사전의 수:  120\n"
     ]
    }
   ],
   "source": [
    "contractions = {\"ain't\": \"is not\", \"aren't\": \"are not\",\"can't\": \"cannot\", \"'cause\": \"because\", \"could've\": \"could have\", \"couldn't\": \"could not\",\n",
    "                           \"didn't\": \"did not\",  \"doesn't\": \"does not\", \"don't\": \"do not\", \"hadn't\": \"had not\", \"hasn't\": \"has not\", \"haven't\": \"have not\",\n",
    "                           \"he'd\": \"he would\",\"he'll\": \"he will\", \"he's\": \"he is\", \"how'd\": \"how did\", \"how'd'y\": \"how do you\", \"how'll\": \"how will\", \"how's\": \"how is\",\n",
    "                           \"I'd\": \"I would\", \"I'd've\": \"I would have\", \"I'll\": \"I will\", \"I'll've\": \"I will have\",\"I'm\": \"I am\", \"I've\": \"I have\", \"i'd\": \"i would\",\n",
    "                           \"i'd've\": \"i would have\", \"i'll\": \"i will\",  \"i'll've\": \"i will have\",\"i'm\": \"i am\", \"i've\": \"i have\", \"isn't\": \"is not\", \"it'd\": \"it would\",\n",
    "                           \"it'd've\": \"it would have\", \"it'll\": \"it will\", \"it'll've\": \"it will have\",\"it's\": \"it is\", \"let's\": \"let us\", \"ma'am\": \"madam\",\n",
    "                           \"mayn't\": \"may not\", \"might've\": \"might have\",\"mightn't\": \"might not\",\"mightn't've\": \"might not have\", \"must've\": \"must have\",\n",
    "                           \"mustn't\": \"must not\", \"mustn't've\": \"must not have\", \"needn't\": \"need not\", \"needn't've\": \"need not have\",\"o'clock\": \"of the clock\",\n",
    "                           \"oughtn't\": \"ought not\", \"oughtn't've\": \"ought not have\", \"shan't\": \"shall not\", \"sha'n't\": \"shall not\", \"shan't've\": \"shall not have\",\n",
    "                           \"she'd\": \"she would\", \"she'd've\": \"she would have\", \"she'll\": \"she will\", \"she'll've\": \"she will have\", \"she's\": \"she is\",\n",
    "                           \"should've\": \"should have\", \"shouldn't\": \"should not\", \"shouldn't've\": \"should not have\", \"so've\": \"so have\",\"so's\": \"so as\",\n",
    "                           \"this's\": \"this is\",\"that'd\": \"that would\", \"that'd've\": \"that would have\", \"that's\": \"that is\", \"there'd\": \"there would\",\n",
    "                           \"there'd've\": \"there would have\", \"there's\": \"there is\", \"here's\": \"here is\",\"they'd\": \"they would\", \"they'd've\": \"they would have\",\n",
    "                           \"they'll\": \"they will\", \"they'll've\": \"they will have\", \"they're\": \"they are\", \"they've\": \"they have\", \"to've\": \"to have\",\n",
    "                           \"wasn't\": \"was not\", \"we'd\": \"we would\", \"we'd've\": \"we would have\", \"we'll\": \"we will\", \"we'll've\": \"we will have\", \"we're\": \"we are\",\n",
    "                           \"we've\": \"we have\", \"weren't\": \"were not\", \"what'll\": \"what will\", \"what'll've\": \"what will have\", \"what're\": \"what are\",\n",
    "                           \"what's\": \"what is\", \"what've\": \"what have\", \"when's\": \"when is\", \"when've\": \"when have\", \"where'd\": \"where did\", \"where's\": \"where is\",\n",
    "                           \"where've\": \"where have\", \"who'll\": \"who will\", \"who'll've\": \"who will have\", \"who's\": \"who is\", \"who've\": \"who have\",\n",
    "                           \"why's\": \"why is\", \"why've\": \"why have\", \"will've\": \"will have\", \"won't\": \"will not\", \"won't've\": \"will not have\",\n",
    "                           \"would've\": \"would have\", \"wouldn't\": \"would not\", \"wouldn't've\": \"would not have\", \"y'all\": \"you all\",\n",
    "                           \"y'all'd\": \"you all would\",\"y'all'd've\": \"you all would have\",\"y'all're\": \"you all are\",\"y'all've\": \"you all have\",\n",
    "                           \"you'd\": \"you would\", \"you'd've\": \"you would have\", \"you'll\": \"you will\", \"you'll've\": \"you will have\",\n",
    "                           \"you're\": \"you are\", \"you've\": \"you have\"}\n",
    "\n",
    "print(\"정규화 사전의 수: \", len(contractions))"
   ]
  },
  {
   "cell_type": "code",
   "execution_count": 8,
   "id": "e64c24d6",
   "metadata": {},
   "outputs": [
    {
     "name": "stdout",
     "output_type": "stream",
     "text": [
      "불용어 개수 : 179\n",
      "['i', 'me', 'my', 'myself', 'we', 'our', 'ours', 'ourselves', 'you', \"you're\", \"you've\", \"you'll\", \"you'd\", 'your', 'yours', 'yourself', 'yourselves', 'he', 'him', 'his', 'himself', 'she', \"she's\", 'her', 'hers', 'herself', 'it', \"it's\", 'its', 'itself', 'they', 'them', 'their', 'theirs', 'themselves', 'what', 'which', 'who', 'whom', 'this', 'that', \"that'll\", 'these', 'those', 'am', 'is', 'are', 'was', 'were', 'be', 'been', 'being', 'have', 'has', 'had', 'having', 'do', 'does', 'did', 'doing', 'a', 'an', 'the', 'and', 'but', 'if', 'or', 'because', 'as', 'until', 'while', 'of', 'at', 'by', 'for', 'with', 'about', 'against', 'between', 'into', 'through', 'during', 'before', 'after', 'above', 'below', 'to', 'from', 'up', 'down', 'in', 'out', 'on', 'off', 'over', 'under', 'again', 'further', 'then', 'once', 'here', 'there', 'when', 'where', 'why', 'how', 'all', 'any', 'both', 'each', 'few', 'more', 'most', 'other', 'some', 'such', 'no', 'nor', 'not', 'only', 'own', 'same', 'so', 'than', 'too', 'very', 's', 't', 'can', 'will', 'just', 'don', \"don't\", 'should', \"should've\", 'now', 'd', 'll', 'm', 'o', 're', 've', 'y', 'ain', 'aren', \"aren't\", 'couldn', \"couldn't\", 'didn', \"didn't\", 'doesn', \"doesn't\", 'hadn', \"hadn't\", 'hasn', \"hasn't\", 'haven', \"haven't\", 'isn', \"isn't\", 'ma', 'mightn', \"mightn't\", 'mustn', \"mustn't\", 'needn', \"needn't\", 'shan', \"shan't\", 'shouldn', \"shouldn't\", 'wasn', \"wasn't\", 'weren', \"weren't\", 'won', \"won't\", 'wouldn', \"wouldn't\"]\n"
     ]
    }
   ],
   "source": [
    "print('불용어 개수 :', len(stopwords.words('english') ))\n",
    "print(stopwords.words('english'))"
   ]
  },
  {
   "cell_type": "code",
   "execution_count": 9,
   "id": "dac6ee20",
   "metadata": {},
   "outputs": [],
   "source": [
    "# 데이터 전처리 함수\n",
    "def preprocess_sentence(sentence, remove_stopwords=True):\n",
    "    sentence = sentence.lower() # 텍스트 소문자화\n",
    "    sentence = BeautifulSoup(sentence, \"lxml\").text # <br />, <a href = ...> 등의 html 태그 제거\n",
    "    sentence = re.sub(r'\\([^)]*\\)', '', sentence) # 괄호로 닫힌 문자열 (...) 제거 Ex) my husband (and myself!) for => my husband for\n",
    "    sentence = re.sub('\"','', sentence) # 쌍따옴표 \" 제거\n",
    "    sentence = ' '.join([contractions[t] if t in contractions else t for t in sentence.split(\" \")]) # 약어 정규화\n",
    "    sentence = re.sub(r\"'s\\b\",\"\", sentence) # 소유격 제거. Ex) roland's -> roland\n",
    "    sentence = re.sub(\"[^a-zA-Z]\", \" \", sentence) # 영어 외 문자(숫자, 특수문자 등) 공백으로 변환\n",
    "    sentence = re.sub('[m]{2,}', 'mm', sentence) # m이 3개 이상이면 2개로 변경. Ex) ummmmmmm yeah -> umm yeah\n",
    "    \n",
    "    # 불용어 제거 (Text)\n",
    "    if remove_stopwords:\n",
    "        tokens = ' '.join(word for word in sentence.split() if not word in stopwords.words('english') if len(word) > 1)\n",
    "    # 불용어 미제거 (Summary)\n",
    "    else:\n",
    "        tokens = ' '.join(word for word in sentence.split() if len(word) > 1)\n",
    "    return tokens"
   ]
  },
  {
   "cell_type": "code",
   "execution_count": 10,
   "id": "5b70307e",
   "metadata": {},
   "outputs": [
    {
     "data": {
      "application/vnd.jupyter.widget-view+json": {
       "model_id": "ec92cd8e85e141d784f0c1e910005c56",
       "version_major": 2,
       "version_minor": 0
      },
      "text/plain": [
       "  0%|          | 0/98360 [00:00<?, ?it/s]"
      ]
     },
     "metadata": {},
     "output_type": "display_data"
    },
    {
     "name": "stdout",
     "output_type": "stream",
     "text": [
      "Text 전처리 후 결과:  ['saurav kant alumnus upgrad iiit pg program machine learning artificial intelligence sr systems engineer infosys almost years work experience program upgrad degree career support helped transition data scientist tech mahindra salary hike upgrad online power learning powered lakh careers', 'kunal shah credit card bill payment platform cred gave users chance win free food swiggy one year pranav kaushik delhi techie bagged reward spending cred coins users get one cred coin per rupee bill paid used avail rewards brands like ixigo bookmyshow ubereats cult fit', 'new zealand defeated india wickets fourth odi hamilton thursday win first match five match odi series india lost international match rohit sharma captaincy consecutive victories dating back march match witnessed india getting seventh lowest total odi cricket history', 'aegon life iterm insurance plan customers enjoy tax benefits premiums paid save taxes plan provides life cover age years also customers options insure critical illnesses disability accidental death benefit rider life cover age years', 'speaking sexual harassment allegations rajkumar hirani sonam kapoor said known hirani many years true metoo movement get derailed metoo movement always believe woman case need reserve judgment added hirani accused assistant worked sanju']\n"
     ]
    }
   ],
   "source": [
    "from tqdm.notebook import tqdm\n",
    "clean_text = []\n",
    "# 전체 Text 데이터에 대한 전처리 : 10분 이상 시간이 걸릴 수 있습니다. \n",
    "for s in tqdm(data['text']):\n",
    "    clean_text.append(preprocess_sentence(s))\n",
    "\n",
    "# 전처리 후 출력\n",
    "print(\"Text 전처리 후 결과: \", clean_text[:5])"
   ]
  },
  {
   "cell_type": "code",
   "execution_count": 11,
   "id": "a4d84bee",
   "metadata": {},
   "outputs": [
    {
     "data": {
      "application/vnd.jupyter.widget-view+json": {
       "model_id": "899282c0846749ceacdc81ad45e71f49",
       "version_major": 2,
       "version_minor": 0
      },
      "text/plain": [
       "  0%|          | 0/98360 [00:00<?, ?it/s]"
      ]
     },
     "metadata": {},
     "output_type": "display_data"
    },
    {
     "name": "stdout",
     "output_type": "stream",
     "text": [
      "Headlines 전처리 후 결과:  ['upgrad learner switches to career in ml al with salary hike', 'delhi techie wins free food from swiggy for one year on cred', 'new zealand end rohit sharma led india match winning streak', 'aegon life iterm insurance plan helps customers save tax', 'have known hirani for yrs what if metoo claims are not true sonam']\n"
     ]
    }
   ],
   "source": [
    "clean_summary = []\n",
    "# 전체 Summary 데이터에 대한 전처리 : 5분 이상 시간이 걸릴 수 있습니다. \n",
    "for s in tqdm(data['headlines']):\n",
    "    clean_summary.append(preprocess_sentence(s, False))\n",
    "\n",
    "print(\"Headlines 전처리 후 결과: \", clean_summary[:5])"
   ]
  },
  {
   "cell_type": "code",
   "execution_count": 12,
   "id": "13f11f51",
   "metadata": {},
   "outputs": [],
   "source": [
    "data['text'] = clean_text\n",
    "data['headlines'] = clean_summary\n",
    "\n",
    "data.replace('',np.nan,inplace=True)"
   ]
  },
  {
   "cell_type": "code",
   "execution_count": 13,
   "id": "2b53dbe6",
   "metadata": {},
   "outputs": [
    {
     "data": {
      "text/plain": [
       "headlines    0\n",
       "text         0\n",
       "dtype: int64"
      ]
     },
     "execution_count": 13,
     "metadata": {},
     "output_type": "execute_result"
    }
   ],
   "source": [
    "data.isnull().sum()"
   ]
  },
  {
   "cell_type": "code",
   "execution_count": 14,
   "id": "52c3d073",
   "metadata": {},
   "outputs": [
    {
     "name": "stdout",
     "output_type": "stream",
     "text": [
      "전체 샘플수 : 98360\n"
     ]
    }
   ],
   "source": [
    "print('전체 샘플수 :', (len(data)))"
   ]
  },
  {
   "cell_type": "markdown",
   "id": "ed1c7944",
   "metadata": {},
   "source": [
    "### *2.2.train data 와 test data 나누기*"
   ]
  },
  {
   "cell_type": "markdown",
   "id": "5bdf4861",
   "metadata": {},
   "source": [
    "#### *샘플의 최대 길이 정하기*"
   ]
  },
  {
   "cell_type": "code",
   "execution_count": 15,
   "id": "f1e12164",
   "metadata": {},
   "outputs": [
    {
     "name": "stdout",
     "output_type": "stream",
     "text": [
      "텍스트의 최소 길이 : 1\n",
      "텍스트의 최대 길이 : 60\n",
      "텍스트의 평균 길이 : 35.09968483123221\n",
      "요약의 최소 길이 : 1\n",
      "요약의 최대 길이 : 16\n",
      "요약의 평균 길이 : 9.299532330215534\n"
     ]
    },
    {
     "data": {
      "image/png": "[encoded data removed]",
      "text/plain": [
       "<Figure size 432x288 with 2 Axes>"
      ]
     },
     "metadata": {
      "needs_background": "light"
     },
     "output_type": "display_data"
    },
    {
     "data": {
      "image/png": "[encoded data removed]",
      "text/plain": [
       "<Figure size 432x288 with 1 Axes>"
      ]
     },
     "metadata": {
      "needs_background": "light"
     },
     "output_type": "display_data"
    },
    {
     "data": {
      "image/png": "[encoded data removed]",
      "text/plain": [
       "<Figure size 432x288 with 1 Axes>"
      ]
     },
     "metadata": {
      "needs_background": "light"
     },
     "output_type": "display_data"
    }
   ],
   "source": [
    "# 길이 분포 출력\n",
    "import matplotlib.pyplot as plt\n",
    "\n",
    "text_len = [len(s.split()) for s in data['text']]\n",
    "summary_len = [len(s.split()) for s in data['headlines']]\n",
    "\n",
    "print('텍스트의 최소 길이 : {}'.format(np.min(text_len)))\n",
    "print('텍스트의 최대 길이 : {}'.format(np.max(text_len)))\n",
    "print('텍스트의 평균 길이 : {}'.format(np.mean(text_len)))\n",
    "print('요약의 최소 길이 : {}'.format(np.min(summary_len)))\n",
    "print('요약의 최대 길이 : {}'.format(np.max(summary_len)))\n",
    "print('요약의 평균 길이 : {}'.format(np.mean(summary_len)))\n",
    "\n",
    "plt.subplot(1,2,1)\n",
    "plt.boxplot(text_len)\n",
    "plt.title('Text')\n",
    "plt.subplot(1,2,2)\n",
    "plt.boxplot(summary_len)\n",
    "plt.title('Headlines')\n",
    "plt.tight_layout()\n",
    "plt.show()\n",
    "\n",
    "plt.title('Text')\n",
    "plt.hist(text_len, bins = 40)\n",
    "plt.xlabel('length of samples')\n",
    "plt.ylabel('number of samples')\n",
    "plt.show()\n",
    "\n",
    "plt.title('Headlines')\n",
    "plt.hist(summary_len, bins = 40)\n",
    "plt.xlabel('length of samples')\n",
    "plt.ylabel('number of samples')\n",
    "plt.show()"
   ]
  },
  {
   "cell_type": "code",
   "execution_count": 16,
   "id": "03c04eb7",
   "metadata": {},
   "outputs": [],
   "source": [
    "text_max_len = 40\n",
    "headlines_max_len = 12"
   ]
  },
  {
   "cell_type": "code",
   "execution_count": 17,
   "id": "aefe8367",
   "metadata": {},
   "outputs": [],
   "source": [
    "def below_threshold_len(max_len, nested_list):\n",
    "  cnt = 0\n",
    "  for s in nested_list:\n",
    "    if(len(s.split()) <= max_len):\n",
    "        cnt = cnt + 1\n",
    "  print('전체 샘플 중 길이가 %s 이하인 샘플의 비율: %s'%(max_len, (cnt / len(nested_list))))"
   ]
  },
  {
   "cell_type": "code",
   "execution_count": 18,
   "id": "21e155b1",
   "metadata": {},
   "outputs": [
    {
     "name": "stdout",
     "output_type": "stream",
     "text": [
      "전체 샘플 중 길이가 40 이하인 샘플의 비율: 0.9238714924766165\n",
      "전체 샘플 중 길이가 12 이하인 샘플의 비율: 0.9880337535583571\n"
     ]
    }
   ],
   "source": [
    "below_threshold_len(text_max_len, data['text'])\n",
    "below_threshold_len(headlines_max_len,  data['headlines'])"
   ]
  },
  {
   "cell_type": "code",
   "execution_count": 19,
   "id": "e186e4cf",
   "metadata": {},
   "outputs": [
    {
     "name": "stdout",
     "output_type": "stream",
     "text": [
      "전체 샘플수 : 89775\n"
     ]
    }
   ],
   "source": [
    "data = data[data['text'].apply(lambda x: len(x.split()) <= text_max_len)]\n",
    "data = data[data['headlines'].apply(lambda x: len(x.split()) <= headlines_max_len)]\n",
    "print('전체 샘플수 :', (len(data)))"
   ]
  },
  {
   "cell_type": "markdown",
   "id": "54291e76",
   "metadata": {},
   "source": [
    "#### *시작토큰과 종료토큰 추가하기*"
   ]
  },
  {
   "cell_type": "code",
   "execution_count": 20,
   "id": "e3b7b34b",
   "metadata": {},
   "outputs": [
    {
     "data": {
      "text/html": [
       "<div>\n",
       "<style scoped>\n",
       "    .dataframe tbody tr th:only-of-type {\n",
       "        vertical-align: middle;\n",
       "    }\n",
       "\n",
       "    .dataframe tbody tr th {\n",
       "        vertical-align: top;\n",
       "    }\n",
       "\n",
       "    .dataframe thead th {\n",
       "        text-align: right;\n",
       "    }\n",
       "</style>\n",
       "<table border=\"1\" class=\"dataframe\">\n",
       "  <thead>\n",
       "    <tr style=\"text-align: right;\">\n",
       "      <th></th>\n",
       "      <th>headlines</th>\n",
       "      <th>text</th>\n",
       "      <th>decoder_input</th>\n",
       "      <th>decoder_target</th>\n",
       "    </tr>\n",
       "  </thead>\n",
       "  <tbody>\n",
       "    <tr>\n",
       "      <th>0</th>\n",
       "      <td>upgrad learner switches to career in ml al wit...</td>\n",
       "      <td>saurav kant alumnus upgrad iiit pg program mac...</td>\n",
       "      <td>sostoken upgrad learner switches to career in ...</td>\n",
       "      <td>upgrad learner switches to career in ml al wit...</td>\n",
       "    </tr>\n",
       "    <tr>\n",
       "      <th>2</th>\n",
       "      <td>new zealand end rohit sharma led india match w...</td>\n",
       "      <td>new zealand defeated india wickets fourth odi ...</td>\n",
       "      <td>sostoken new zealand end rohit sharma led indi...</td>\n",
       "      <td>new zealand end rohit sharma led india match w...</td>\n",
       "    </tr>\n",
       "    <tr>\n",
       "      <th>3</th>\n",
       "      <td>aegon life iterm insurance plan helps customer...</td>\n",
       "      <td>aegon life iterm insurance plan customers enjo...</td>\n",
       "      <td>sostoken aegon life iterm insurance plan helps...</td>\n",
       "      <td>aegon life iterm insurance plan helps customer...</td>\n",
       "    </tr>\n",
       "    <tr>\n",
       "      <th>5</th>\n",
       "      <td>rahat fateh ali khan denies getting notice for...</td>\n",
       "      <td>pakistani singer rahat fateh ali khan denied r...</td>\n",
       "      <td>sostoken rahat fateh ali khan denies getting n...</td>\n",
       "      <td>rahat fateh ali khan denies getting notice for...</td>\n",
       "    </tr>\n",
       "    <tr>\n",
       "      <th>6</th>\n",
       "      <td>india get all out for their lowest odi total i...</td>\n",
       "      <td>india recorded lowest odi total new zealand ge...</td>\n",
       "      <td>sostoken india get all out for their lowest od...</td>\n",
       "      <td>india get all out for their lowest odi total i...</td>\n",
       "    </tr>\n",
       "  </tbody>\n",
       "</table>\n",
       "</div>"
      ],
      "text/plain": [
       "                                           headlines  \\\n",
       "0  upgrad learner switches to career in ml al wit...   \n",
       "2  new zealand end rohit sharma led india match w...   \n",
       "3  aegon life iterm insurance plan helps customer...   \n",
       "5  rahat fateh ali khan denies getting notice for...   \n",
       "6  india get all out for their lowest odi total i...   \n",
       "\n",
       "                                                text  \\\n",
       "0  saurav kant alumnus upgrad iiit pg program mac...   \n",
       "2  new zealand defeated india wickets fourth odi ...   \n",
       "3  aegon life iterm insurance plan customers enjo...   \n",
       "5  pakistani singer rahat fateh ali khan denied r...   \n",
       "6  india recorded lowest odi total new zealand ge...   \n",
       "\n",
       "                                       decoder_input  \\\n",
       "0  sostoken upgrad learner switches to career in ...   \n",
       "2  sostoken new zealand end rohit sharma led indi...   \n",
       "3  sostoken aegon life iterm insurance plan helps...   \n",
       "5  sostoken rahat fateh ali khan denies getting n...   \n",
       "6  sostoken india get all out for their lowest od...   \n",
       "\n",
       "                                      decoder_target  \n",
       "0  upgrad learner switches to career in ml al wit...  \n",
       "2  new zealand end rohit sharma led india match w...  \n",
       "3  aegon life iterm insurance plan helps customer...  \n",
       "5  rahat fateh ali khan denies getting notice for...  \n",
       "6  india get all out for their lowest odi total i...  "
      ]
     },
     "execution_count": 20,
     "metadata": {},
     "output_type": "execute_result"
    }
   ],
   "source": [
    "data['decoder_input'] = data['headlines'].apply(lambda x : 'sostoken '+ x)\n",
    "data['decoder_target'] = data['headlines'].apply(lambda x : x + ' eostoken')\n",
    "data.head()"
   ]
  },
  {
   "cell_type": "code",
   "execution_count": 21,
   "id": "8673146c",
   "metadata": {},
   "outputs": [],
   "source": [
    "encoder_input = np.array(data['text']) # 인코더의 입력\n",
    "decoder_input = np.array(data['decoder_input']) # 디코더의 입력\n",
    "decoder_target = np.array(data['decoder_target']) # 디코더의 레이블"
   ]
  },
  {
   "cell_type": "code",
   "execution_count": 22,
   "id": "c2310dbd",
   "metadata": {},
   "outputs": [
    {
     "name": "stdout",
     "output_type": "stream",
     "text": [
      "[24952 76478 70242 ... 40424 43411 44667]\n"
     ]
    }
   ],
   "source": [
    "indices = np.arange(encoder_input.shape[0])\n",
    "np.random.shuffle(indices)\n",
    "print(indices)"
   ]
  },
  {
   "cell_type": "code",
   "execution_count": 23,
   "id": "4d7f46ad",
   "metadata": {},
   "outputs": [],
   "source": [
    "encoder_input = encoder_input[indices]\n",
    "decoder_input = decoder_input[indices]\n",
    "decoder_target = decoder_target[indices]"
   ]
  },
  {
   "cell_type": "code",
   "execution_count": 24,
   "id": "0f069099",
   "metadata": {},
   "outputs": [
    {
     "name": "stdout",
     "output_type": "stream",
     "text": [
      "테스트 데이터의 수 : 17955\n"
     ]
    }
   ],
   "source": [
    "n_of_val = int(len(encoder_input)*0.2)\n",
    "print('테스트 데이터의 수 :', n_of_val)"
   ]
  },
  {
   "cell_type": "code",
   "execution_count": 25,
   "id": "7448dfa4",
   "metadata": {},
   "outputs": [
    {
     "name": "stdout",
     "output_type": "stream",
     "text": [
      "훈련 데이터의 개수 : 71820\n",
      "훈련 레이블의 개수 : 71820\n",
      "테스트 데이터의 개수 : 17955\n",
      "테스트 레이블의 개수 : 17955\n"
     ]
    }
   ],
   "source": [
    "encoder_input_train = encoder_input[:-n_of_val]\n",
    "decoder_input_train = decoder_input[:-n_of_val]\n",
    "decoder_target_train = decoder_target[:-n_of_val]\n",
    "\n",
    "encoder_input_test = encoder_input[-n_of_val:]\n",
    "decoder_input_test = decoder_input[-n_of_val:]\n",
    "decoder_target_test = decoder_target[-n_of_val:]\n",
    "\n",
    "print('훈련 데이터의 개수 :', len(encoder_input_train))\n",
    "print('훈련 레이블의 개수 :', len(decoder_input_train))\n",
    "print('테스트 데이터의 개수 :', len(encoder_input_test))\n",
    "print('테스트 레이블의 개수 :', len(decoder_input_test))"
   ]
  },
  {
   "cell_type": "markdown",
   "id": "d889f32e",
   "metadata": {},
   "source": [
    "### *2.3. 정수 인코딩*\n",
    "#### *vocabulary 만들기 및 정수 인코딩*"
   ]
  },
  {
   "cell_type": "code",
   "execution_count": 26,
   "id": "761ea0c7",
   "metadata": {},
   "outputs": [],
   "source": [
    "src_tokenizer = Tokenizer() # 토크나이저 정의\n",
    "src_tokenizer.fit_on_texts(encoder_input_train) # 입력된 데이터로부터 단어 집합 생성\n"
   ]
  },
  {
   "cell_type": "code",
   "execution_count": 27,
   "id": "eaa35c23",
   "metadata": {},
   "outputs": [
    {
     "name": "stdout",
     "output_type": "stream",
     "text": [
      "단어 집합(vocabulary)의 크기 : 65529\n",
      "등장 빈도가 8번 이하인 희귀 단어의 수: 47190\n",
      "단어 집합에서 희귀 단어를 제외시킬 경우의 단어 집합의 크기 18339\n",
      "단어 집합에서 희귀 단어의 비율: 72.0139175021746\n",
      "전체 등장 빈도에서 희귀 단어 등장 빈도 비율: 4.451766080191811\n"
     ]
    }
   ],
   "source": [
    "threshold = 9\n",
    "total_cnt = len(src_tokenizer.word_index) # 단어의 수\n",
    "rare_cnt = 0 # 등장 빈도수가 threshold보다 작은 단어의 개수를 카운트\n",
    "total_freq = 0 # 훈련 데이터의 전체 단어 빈도수 총 합\n",
    "rare_freq = 0 # 등장 빈도수가 threshold보다 작은 단어의 등장 빈도수의 총 합\n",
    "\n",
    "# 단어와 빈도수의 쌍(pair)을 key와 value로 받는다.\n",
    "for key, value in src_tokenizer.word_counts.items():\n",
    "    total_freq = total_freq + value\n",
    "\n",
    "    # 단어의 등장 빈도수가 threshold보다 작으면\n",
    "    if(value < threshold):\n",
    "        rare_cnt = rare_cnt + 1\n",
    "        rare_freq = rare_freq + value\n",
    "\n",
    "print('단어 집합(vocabulary)의 크기 :', total_cnt)\n",
    "print('등장 빈도가 %s번 이하인 희귀 단어의 수: %s'%(threshold - 1, rare_cnt))\n",
    "print('단어 집합에서 희귀 단어를 제외시킬 경우의 단어 집합의 크기 %s'%(total_cnt - rare_cnt))\n",
    "print(\"단어 집합에서 희귀 단어의 비율:\", (rare_cnt / total_cnt)*100)\n",
    "print(\"전체 등장 빈도에서 희귀 단어 등장 빈도 비율:\", (rare_freq / total_freq)*100)"
   ]
  },
  {
   "cell_type": "code",
   "execution_count": 28,
   "id": "a80ae0de",
   "metadata": {},
   "outputs": [],
   "source": [
    "src_vocab = 18000\n",
    "src_tokenizer = Tokenizer(num_words=src_vocab) # 단어 집합의 크기를 20000으로 제한\n",
    "src_tokenizer.fit_on_texts(encoder_input_train) # 단어 집합 재생성"
   ]
  },
  {
   "cell_type": "code",
   "execution_count": 29,
   "id": "3e84fdc6",
   "metadata": {},
   "outputs": [
    {
     "name": "stdout",
     "output_type": "stream",
     "text": [
      "[[1412, 1249, 273, 60, 598, 3, 13, 214, 913, 433, 217, 2533, 2189, 1948, 916, 126, 512, 1412, 5961, 214, 227, 537, 7491, 250, 3793, 29, 1, 5962, 47, 107, 2250, 4794, 2804, 126, 706, 1715], [555, 699, 270, 751, 74, 652, 171, 14, 5760, 1528, 212, 555, 351, 953, 656, 270, 751, 5390, 2142, 4712, 5760, 23, 2592, 343, 2217, 14, 1734], [422, 1488, 557, 913, 45, 157, 1131, 3725, 3880, 2290, 557, 6578, 30, 442, 16, 6925, 4548, 1, 4548, 11131, 3034, 2320, 137, 3880, 8, 422, 6579, 6, 1000, 2302, 2320, 204, 4972, 45, 156, 15]]\n"
     ]
    }
   ],
   "source": [
    "# 텍스트 시퀀스를 정수 시퀀스로 변환\n",
    "encoder_input_train = src_tokenizer.texts_to_sequences(encoder_input_train) \n",
    "encoder_input_test = src_tokenizer.texts_to_sequences(encoder_input_test)\n",
    "\n",
    "# 잘 진행되었는지 샘플 출력\n",
    "print(encoder_input_train[:3])"
   ]
  },
  {
   "cell_type": "code",
   "execution_count": 30,
   "id": "ff8837c0",
   "metadata": {},
   "outputs": [],
   "source": [
    "tar_tokenizer = Tokenizer()\n",
    "tar_tokenizer.fit_on_texts(decoder_input_train)"
   ]
  },
  {
   "cell_type": "code",
   "execution_count": 31,
   "id": "87e897ea",
   "metadata": {},
   "outputs": [
    {
     "name": "stdout",
     "output_type": "stream",
     "text": [
      "단어 집합(vocabulary)의 크기 : 28791\n",
      "등장 빈도가 7번 이하인 희귀 단어의 수: 20403\n",
      "단어 집합에서 희귀 단어를 제외시킬 경우의 단어 집합의 크기 8388\n",
      "단어 집합에서 희귀 단어의 비율: 70.86589559237262\n",
      "전체 등장 빈도에서 희귀 단어 등장 빈도 비율: 6.2752846753987495\n"
     ]
    }
   ],
   "source": [
    "threshold = 8\n",
    "total_cnt = len(tar_tokenizer.word_index) # 단어의 수\n",
    "rare_cnt = 0 # 등장 빈도수가 threshold보다 작은 단어의 개수를 카운트\n",
    "total_freq = 0 # 훈련 데이터의 전체 단어 빈도수 총 합\n",
    "rare_freq = 0 # 등장 빈도수가 threshold보다 작은 단어의 등장 빈도수의 총 합\n",
    "\n",
    "# 단어와 빈도수의 쌍(pair)을 key와 value로 받는다.\n",
    "for key, value in tar_tokenizer.word_counts.items():\n",
    "    total_freq = total_freq + value\n",
    "\n",
    "    # 단어의 등장 빈도수가 threshold보다 작으면\n",
    "    if(value < threshold):\n",
    "        rare_cnt = rare_cnt + 1\n",
    "        rare_freq = rare_freq + value\n",
    "\n",
    "print('단어 집합(vocabulary)의 크기 :', total_cnt)\n",
    "print('등장 빈도가 %s번 이하인 희귀 단어의 수: %s'%(threshold - 1, rare_cnt))\n",
    "print('단어 집합에서 희귀 단어를 제외시킬 경우의 단어 집합의 크기 %s'%(total_cnt - rare_cnt))\n",
    "print(\"단어 집합에서 희귀 단어의 비율:\", (rare_cnt / total_cnt)*100)\n",
    "print(\"전체 등장 빈도에서 희귀 단어 등장 빈도 비율:\", (rare_freq / total_freq)*100)"
   ]
  },
  {
   "cell_type": "code",
   "execution_count": 32,
   "id": "7669b1d7",
   "metadata": {},
   "outputs": [
    {
     "name": "stdout",
     "output_type": "stream",
     "text": [
      "input\n",
      "input  [[1, 2431, 913, 7, 1364, 1494, 1602, 169, 6145, 146, 121], [1, 979, 6, 348, 2239, 13, 3108, 6146, 316], [1, 257, 56, 636, 4718, 5845, 7239, 48, 2959], [1, 199, 1674, 44, 778, 16, 1285], [1, 540, 6, 1978, 282, 39, 4094, 5, 33, 2046, 12, 4719]]\n",
      "target\n",
      "decoder  [[2431, 913, 7, 1364, 1494, 1602, 169, 6145, 146, 121, 2], [979, 6, 348, 2239, 13, 3108, 6146, 316, 2], [257, 56, 636, 4718, 5845, 7239, 48, 2959, 2], [199, 1674, 44, 778, 16, 1285, 2], [540, 6, 1978, 282, 39, 4094, 5, 33, 2046, 12, 4719, 2]]\n"
     ]
    }
   ],
   "source": [
    "tar_vocab = 8000\n",
    "tar_tokenizer = Tokenizer(num_words=tar_vocab) \n",
    "tar_tokenizer.fit_on_texts(decoder_input_train)\n",
    "tar_tokenizer.fit_on_texts(decoder_target_train)\n",
    "\n",
    "# 텍스트 시퀀스를 정수 시퀀스로 변환\n",
    "decoder_input_train = tar_tokenizer.texts_to_sequences(decoder_input_train) \n",
    "decoder_target_train = tar_tokenizer.texts_to_sequences(decoder_target_train)\n",
    "decoder_input_test = tar_tokenizer.texts_to_sequences(decoder_input_test)\n",
    "decoder_target_test = tar_tokenizer.texts_to_sequences(decoder_target_test)\n",
    "\n",
    "# 잘 변환되었는지 확인\n",
    "print('input')\n",
    "print('input ',decoder_input_train[:5])\n",
    "print('target')\n",
    "print('decoder ',decoder_target_train[:5])"
   ]
  },
  {
   "cell_type": "code",
   "execution_count": 33,
   "id": "74584b12",
   "metadata": {},
   "outputs": [
    {
     "name": "stdout",
     "output_type": "stream",
     "text": [
      "삭제할 훈련 데이터의 개수 : 0\n",
      "삭제할 테스트 데이터의 개수 : 1\n",
      "훈련 데이터의 개수 : 71820\n",
      "훈련 레이블의 개수 : 71820\n",
      "테스트 데이터의 개수 : 17954\n",
      "테스트 레이블의 개수 : 17954\n"
     ]
    }
   ],
   "source": [
    "drop_train = [index for index, sentence in enumerate(decoder_input_train) if len(sentence) == 1]\n",
    "drop_test = [index for index, sentence in enumerate(decoder_input_test) if len(sentence) == 1]\n",
    "\n",
    "print('삭제할 훈련 데이터의 개수 :', len(drop_train))\n",
    "print('삭제할 테스트 데이터의 개수 :', len(drop_test))\n",
    "\n",
    "encoder_input_train = [sentence for index, sentence in enumerate(encoder_input_train) if index not in drop_train]\n",
    "decoder_input_train = [sentence for index, sentence in enumerate(decoder_input_train) if index not in drop_train]\n",
    "decoder_target_train = [sentence for index, sentence in enumerate(decoder_target_train) if index not in drop_train]\n",
    "\n",
    "encoder_input_test = [sentence for index, sentence in enumerate(encoder_input_test) if index not in drop_test]\n",
    "decoder_input_test = [sentence for index, sentence in enumerate(decoder_input_test) if index not in drop_test]\n",
    "decoder_target_test = [sentence for index, sentence in enumerate(decoder_target_test) if index not in drop_test]\n",
    "\n",
    "print('훈련 데이터의 개수 :', len(encoder_input_train))\n",
    "print('훈련 레이블의 개수 :', len(decoder_input_train))\n",
    "print('테스트 데이터의 개수 :', len(encoder_input_test))\n",
    "print('테스트 레이블의 개수 :', len(decoder_input_test))"
   ]
  },
  {
   "cell_type": "markdown",
   "id": "59701d23",
   "metadata": {},
   "source": [
    "#### *padding*"
   ]
  },
  {
   "cell_type": "code",
   "execution_count": 35,
   "id": "954018ab",
   "metadata": {},
   "outputs": [],
   "source": [
    "encoder_input_train = pad_sequences(encoder_input_train, maxlen=text_max_len, padding='post')\n",
    "encoder_input_test = pad_sequences(encoder_input_test, maxlen=text_max_len, padding='post')\n",
    "decoder_input_train = pad_sequences(decoder_input_train, maxlen=headlines_max_len, padding='post')\n",
    "decoder_target_train = pad_sequences(decoder_target_train, maxlen=headlines_max_len, padding='post')\n",
    "decoder_input_test = pad_sequences(decoder_input_test, maxlen=headlines_max_len, padding='post')\n",
    "decoder_target_test = pad_sequences(decoder_target_test, maxlen=headlines_max_len, padding='post')"
   ]
  },
  {
   "cell_type": "markdown",
   "id": "561010ed",
   "metadata": {},
   "source": [
    "## Step 3. 어텐션 메커니즘 사용하기 "
   ]
  },
  {
   "cell_type": "markdown",
   "id": "9ed0f56d",
   "metadata": {},
   "source": [
    "###  *3.1. 모델 설계하기*\n",
    "#### *인코더 설계하기*"
   ]
  },
  {
   "cell_type": "code",
   "execution_count": 36,
   "id": "911f548f",
   "metadata": {},
   "outputs": [],
   "source": [
    "from tensorflow.keras.layers import Input, LSTM, Embedding, Dense, Concatenate, TimeDistributed\n",
    "from tensorflow.keras.models import Model\n",
    "from tensorflow.keras.callbacks import EarlyStopping, ModelCheckpoint"
   ]
  },
  {
   "cell_type": "code",
   "execution_count": 37,
   "id": "d8f6a935",
   "metadata": {},
   "outputs": [
    {
     "name": "stdout",
     "output_type": "stream",
     "text": [
      "WARNING:tensorflow:Layer lstm will not use cuDNN kernels since it doesn't meet the criteria. It will use a generic GPU kernel as fallback when running on GPU.\n",
      "WARNING:tensorflow:Layer lstm_1 will not use cuDNN kernels since it doesn't meet the criteria. It will use a generic GPU kernel as fallback when running on GPU.\n",
      "WARNING:tensorflow:Layer lstm_2 will not use cuDNN kernels since it doesn't meet the criteria. It will use a generic GPU kernel as fallback when running on GPU.\n"
     ]
    }
   ],
   "source": [
    "# 인코더 설계 시작\n",
    "embedding_dim = 128\n",
    "hidden_size = 256\n",
    "\n",
    "# 인코더\n",
    "encoder_inputs = Input(shape=(text_max_len,))\n",
    "\n",
    "# 인코더의 임베딩 층\n",
    "enc_emb = Embedding(src_vocab, embedding_dim)(encoder_inputs)\n",
    "\n",
    "# 인코더의 LSTM 1\n",
    "encoder_lstm1 = LSTM(hidden_size, return_sequences=True, return_state=True ,dropout = 0.4, recurrent_dropout = 0.4)\n",
    "encoder_output1, state_h1, state_c1 = encoder_lstm1(enc_emb)\n",
    "\n",
    "# 인코더의 LSTM 2\n",
    "encoder_lstm2 = LSTM(hidden_size, return_sequences=True, return_state=True, dropout=0.4, recurrent_dropout=0.4)\n",
    "encoder_output2, state_h2, state_c2 = encoder_lstm2(encoder_output1)\n",
    "\n",
    "# 인코더의 LSTM 3\n",
    "encoder_lstm3 = LSTM(hidden_size, return_state=True, return_sequences=True, dropout=0.4, recurrent_dropout=0.4)\n",
    "encoder_outputs, state_h, state_c= encoder_lstm3(encoder_output2)\n",
    "\n"
   ]
  },
  {
   "cell_type": "markdown",
   "id": "9c5ab52b",
   "metadata": {},
   "source": [
    "#### *디코더 설계하기*"
   ]
  },
  {
   "cell_type": "code",
   "execution_count": 38,
   "id": "bcdd03e1",
   "metadata": {},
   "outputs": [
    {
     "name": "stdout",
     "output_type": "stream",
     "text": [
      "WARNING:tensorflow:Layer lstm_3 will not use cuDNN kernels since it doesn't meet the criteria. It will use a generic GPU kernel as fallback when running on GPU.\n"
     ]
    }
   ],
   "source": [
    "# 디코더 설계\n",
    "decoder_inputs = Input(shape=(None,))\n",
    "\n",
    "# 디코더의 임베딩 층\n",
    "dec_emb_layer = Embedding(tar_vocab, embedding_dim)\n",
    "dec_emb = dec_emb_layer(decoder_inputs)\n",
    "\n",
    "# 디코더의 LSTM\n",
    "decoder_lstm = LSTM(hidden_size, return_sequences=True, return_state=True, dropout=0.4, recurrent_dropout=0.2)\n",
    "decoder_outputs, _, _ = decoder_lstm(dec_emb, initial_state=[state_h, state_c])"
   ]
  },
  {
   "cell_type": "markdown",
   "id": "74891546",
   "metadata": {},
   "source": [
    "#### *어텐션층 과 디코더의 출력층 설계하기*"
   ]
  },
  {
   "cell_type": "code",
   "execution_count": 39,
   "id": "cb209c63",
   "metadata": {},
   "outputs": [
    {
     "name": "stdout",
     "output_type": "stream",
     "text": [
      "Model: \"model\"\n",
      "__________________________________________________________________________________________________\n",
      "Layer (type)                    Output Shape         Param #     Connected to                     \n",
      "==================================================================================================\n",
      "input_1 (InputLayer)            [(None, 40)]         0                                            \n",
      "__________________________________________________________________________________________________\n",
      "embedding (Embedding)           (None, 40, 128)      2304000     input_1[0][0]                    \n",
      "__________________________________________________________________________________________________\n",
      "lstm (LSTM)                     [(None, 40, 256), (N 394240      embedding[0][0]                  \n",
      "__________________________________________________________________________________________________\n",
      "input_2 (InputLayer)            [(None, None)]       0                                            \n",
      "__________________________________________________________________________________________________\n",
      "lstm_1 (LSTM)                   [(None, 40, 256), (N 525312      lstm[0][0]                       \n",
      "__________________________________________________________________________________________________\n",
      "embedding_1 (Embedding)         (None, None, 128)    1024000     input_2[0][0]                    \n",
      "__________________________________________________________________________________________________\n",
      "lstm_2 (LSTM)                   [(None, 40, 256), (N 525312      lstm_1[0][0]                     \n",
      "__________________________________________________________________________________________________\n",
      "lstm_3 (LSTM)                   [(None, None, 256),  394240      embedding_1[0][0]                \n",
      "                                                                 lstm_2[0][1]                     \n",
      "                                                                 lstm_2[0][2]                     \n",
      "__________________________________________________________________________________________________\n",
      "attention_layer (AdditiveAttent (None, None, 256)    256         lstm_3[0][0]                     \n",
      "                                                                 lstm_2[0][0]                     \n",
      "__________________________________________________________________________________________________\n",
      "concat_layer (Concatenate)      (None, None, 512)    0           lstm_3[0][0]                     \n",
      "                                                                 attention_layer[0][0]            \n",
      "__________________________________________________________________________________________________\n",
      "dense (Dense)                   (None, None, 8000)   4104000     concat_layer[0][0]               \n",
      "==================================================================================================\n",
      "Total params: 9,271,360\n",
      "Trainable params: 9,271,360\n",
      "Non-trainable params: 0\n",
      "__________________________________________________________________________________________________\n"
     ]
    }
   ],
   "source": [
    "from tensorflow.keras.layers import AdditiveAttention\n",
    "\n",
    "# 어텐션 층(어텐션 함수)\n",
    "attn_layer = AdditiveAttention(name='attention_layer')\n",
    "\n",
    "# 인코더와 디코더의 모든 time step의 hidden state를 어텐션 층에 전달하고 결과를 리턴\n",
    "attn_out = attn_layer([decoder_outputs, encoder_outputs])\n",
    "\n",
    "\n",
    "# 어텐션의 결과와 디코더의 hidden state들을 연결\n",
    "decoder_concat_input = Concatenate(axis=-1, name='concat_layer')([decoder_outputs, attn_out])\n",
    "\n",
    "# 디코더의 출력층\n",
    "decoder_softmax_layer = Dense(tar_vocab, activation='softmax')\n",
    "decoder_softmax_outputs = decoder_softmax_layer(decoder_concat_input)\n",
    "\n",
    "# 모델 정의\n",
    "model = Model([encoder_inputs, decoder_inputs], decoder_softmax_outputs)\n",
    "model.summary()"
   ]
  },
  {
   "cell_type": "markdown",
   "id": "89e984e9",
   "metadata": {},
   "source": [
    "### *3.2. 모델 훈련하기*"
   ]
  },
  {
   "cell_type": "code",
   "execution_count": 40,
   "id": "2ebb1aa1",
   "metadata": {},
   "outputs": [
    {
     "name": "stdout",
     "output_type": "stream",
     "text": [
      "Epoch 1/50\n",
      "141/141 [==============================] - 91s 589ms/step - loss: 5.6574 - val_loss: 5.2441\n",
      "Epoch 2/50\n",
      "141/141 [==============================] - 83s 588ms/step - loss: 5.1374 - val_loss: 4.9390\n",
      "Epoch 3/50\n",
      "141/141 [==============================] - 83s 592ms/step - loss: 4.8533 - val_loss: 4.7363\n",
      "Epoch 4/50\n",
      "141/141 [==============================] - 82s 583ms/step - loss: 4.6111 - val_loss: 4.5079\n",
      "Epoch 5/50\n",
      "141/141 [==============================] - 81s 577ms/step - loss: 4.3852 - val_loss: 4.3299\n",
      "Epoch 6/50\n",
      "141/141 [==============================] - 81s 574ms/step - loss: 4.1941 - val_loss: 4.2180\n",
      "Epoch 7/50\n",
      "141/141 [==============================] - 81s 573ms/step - loss: 4.0411 - val_loss: 4.0833\n",
      "Epoch 8/50\n",
      "141/141 [==============================] - 81s 572ms/step - loss: 3.9091 - val_loss: 4.0223\n",
      "Epoch 9/50\n",
      "141/141 [==============================] - 81s 573ms/step - loss: 3.7935 - val_loss: 3.9460\n",
      "Epoch 10/50\n",
      "141/141 [==============================] - 81s 574ms/step - loss: 3.6880 - val_loss: 3.8854\n",
      "Epoch 11/50\n",
      "141/141 [==============================] - 81s 575ms/step - loss: 3.5917 - val_loss: 3.8422\n",
      "Epoch 12/50\n",
      "141/141 [==============================] - 81s 573ms/step - loss: 3.5037 - val_loss: 3.7939\n",
      "Epoch 13/50\n",
      "141/141 [==============================] - 81s 572ms/step - loss: 3.4216 - val_loss: 3.7490\n",
      "Epoch 14/50\n",
      "141/141 [==============================] - 81s 575ms/step - loss: 3.3459 - val_loss: 3.7176\n",
      "Epoch 15/50\n",
      "141/141 [==============================] - 81s 573ms/step - loss: 3.2741 - val_loss: 3.6827\n",
      "Epoch 16/50\n",
      "141/141 [==============================] - 81s 572ms/step - loss: 3.2093 - val_loss: 3.6578\n",
      "Epoch 17/50\n",
      "141/141 [==============================] - 81s 572ms/step - loss: 3.1474 - val_loss: 3.6333\n",
      "Epoch 18/50\n",
      "141/141 [==============================] - 81s 573ms/step - loss: 3.0873 - val_loss: 3.6172\n",
      "Epoch 19/50\n",
      "141/141 [==============================] - 80s 570ms/step - loss: 3.0321 - val_loss: 3.6076\n",
      "Epoch 20/50\n",
      "141/141 [==============================] - 81s 572ms/step - loss: 2.9793 - val_loss: 3.6114\n",
      "Epoch 21/50\n",
      "141/141 [==============================] - 81s 572ms/step - loss: 2.9295 - val_loss: 3.5837\n",
      "Epoch 22/50\n",
      "141/141 [==============================] - 81s 573ms/step - loss: 2.8837 - val_loss: 3.5765\n",
      "Epoch 23/50\n",
      "141/141 [==============================] - 81s 572ms/step - loss: 2.8375 - val_loss: 3.5634\n",
      "Epoch 24/50\n",
      "141/141 [==============================] - 81s 574ms/step - loss: 2.7962 - val_loss: 3.5650\n",
      "Epoch 25/50\n",
      "141/141 [==============================] - 81s 573ms/step - loss: 2.7538 - val_loss: 3.5577\n",
      "Epoch 26/50\n",
      "141/141 [==============================] - 80s 570ms/step - loss: 2.7147 - val_loss: 3.5434\n",
      "Epoch 27/50\n",
      "141/141 [==============================] - 81s 574ms/step - loss: 2.6774 - val_loss: 3.5510\n",
      "Epoch 28/50\n",
      "141/141 [==============================] - 81s 575ms/step - loss: 2.6415 - val_loss: 3.5546\n",
      "Epoch 00028: early stopping\n"
     ]
    }
   ],
   "source": [
    "model.compile(optimizer='rmsprop', loss='sparse_categorical_crossentropy')\n",
    "es = EarlyStopping(monitor='val_loss', patience=2, verbose=1)\n",
    "history = model.fit(x=[encoder_input_train, decoder_input_train], y=decoder_target_train, \\\n",
    "          validation_data=([encoder_input_test, decoder_input_test], decoder_target_test), \\\n",
    "          batch_size=512, callbacks=[es], epochs=50)"
   ]
  },
  {
   "cell_type": "markdown",
   "id": "bd0a25da",
   "metadata": {},
   "source": [
    "#### *과정을 시각화 하기*"
   ]
  },
  {
   "cell_type": "code",
   "execution_count": 41,
   "id": "9e627586",
   "metadata": {},
   "outputs": [
    {
     "data": {
      "image/png": "[encoded data removed]",
      "text/plain": [
       "<Figure size 432x288 with 1 Axes>"
      ]
     },
     "metadata": {
      "needs_background": "light"
     },
     "output_type": "display_data"
    }
   ],
   "source": [
    "plt.plot(history.history['loss'], label='train')\n",
    "plt.plot(history.history['val_loss'], label='test')\n",
    "plt.legend()\n",
    "plt.show()"
   ]
  },
  {
   "cell_type": "markdown",
   "id": "dbef8abb",
   "metadata": {},
   "source": [
    "### *3.2. 인퍼런스 모델 구현* "
   ]
  },
  {
   "cell_type": "code",
   "execution_count": 42,
   "id": "4900aaac",
   "metadata": {},
   "outputs": [],
   "source": [
    "src_index_to_word = src_tokenizer.index_word # 원문 단어 집합에서 정수 -> 단어를 얻음\n",
    "tar_word_to_index = tar_tokenizer.word_index # 요약 단어 집합에서 단어 -> 정수를 얻음\n",
    "tar_index_to_word = tar_tokenizer.index_word # 요약 단어 집합에서 정수 -> 단어를 얻음\n"
   ]
  },
  {
   "cell_type": "code",
   "execution_count": 43,
   "id": "9c2d11dd",
   "metadata": {},
   "outputs": [],
   "source": [
    "# 인코더 설계\n",
    "encoder_model = Model(inputs=encoder_inputs, outputs=[encoder_outputs, state_h, state_c])\n",
    "\n",
    "# 이전 시점의 상태들을 저장하는 텐서\n",
    "decoder_state_input_h = Input(shape=(hidden_size,))\n",
    "decoder_state_input_c = Input(shape=(hidden_size,))\n",
    "\n",
    "dec_emb2 = dec_emb_layer(decoder_inputs)\n",
    "\n",
    "# 문장의 다음 단어를 예측하기 위해서 초기 상태(initial_state)를 이전 시점의 상태로 사용. 이는 뒤의 함수 decode_sequence()에 구현\n",
    "# 훈련 과정에서와 달리 LSTM의 리턴하는 은닉 상태와 셀 상태인 state_h와 state_c를 버리지 않음.\n",
    "decoder_outputs2, state_h2, state_c2 = decoder_lstm(dec_emb2, initial_state=[decoder_state_input_h, decoder_state_input_c])\n"
   ]
  },
  {
   "cell_type": "code",
   "execution_count": 44,
   "id": "98840b9a",
   "metadata": {},
   "outputs": [
    {
     "name": "stdout",
     "output_type": "stream",
     "text": [
      "Model: \"model_1\"\n",
      "_________________________________________________________________\n",
      "Layer (type)                 Output Shape              Param #   \n",
      "=================================================================\n",
      "input_1 (InputLayer)         [(None, 40)]              0         \n",
      "_________________________________________________________________\n",
      "embedding (Embedding)        (None, 40, 128)           2304000   \n",
      "_________________________________________________________________\n",
      "lstm (LSTM)                  [(None, 40, 256), (None,  394240    \n",
      "_________________________________________________________________\n",
      "lstm_1 (LSTM)                [(None, 40, 256), (None,  525312    \n",
      "_________________________________________________________________\n",
      "lstm_2 (LSTM)                [(None, 40, 256), (None,  525312    \n",
      "=================================================================\n",
      "Total params: 3,748,864\n",
      "Trainable params: 3,748,864\n",
      "Non-trainable params: 0\n",
      "_________________________________________________________________\n"
     ]
    }
   ],
   "source": [
    "# 어텐션 함수\n",
    "decoder_hidden_state_input = Input(shape=(text_max_len, hidden_size))\n",
    "attn_out_inf = attn_layer([decoder_outputs2, decoder_hidden_state_input])\n",
    "decoder_inf_concat = Concatenate(axis=-1, name='concat')([decoder_outputs2, attn_out_inf])\n",
    "\n",
    "# 디코더의 출력층\n",
    "decoder_outputs2 = decoder_softmax_layer(decoder_inf_concat) \n",
    "\n",
    "# 최종 디코더 모델\n",
    "decoder_model = Model(\n",
    "    [decoder_inputs] + [decoder_hidden_state_input,decoder_state_input_h, decoder_state_input_c],\n",
    "    [decoder_outputs2] + [state_h2, state_c2])\n",
    "\n",
    "encoder_model.summary()"
   ]
  },
  {
   "cell_type": "code",
   "execution_count": 48,
   "id": "22c7a7e5",
   "metadata": {},
   "outputs": [],
   "source": [
    "def decode_sequence(input_seq):\n",
    "    # 입력으로부터 인코더의 상태를 얻음\n",
    "    e_out, e_h, e_c = encoder_model.predict(input_seq)\n",
    "\n",
    "     # <SOS>에 해당하는 토큰 생성\n",
    "    target_seq = np.zeros((1,1))\n",
    "    target_seq[0, 0] = tar_word_to_index['sostoken']\n",
    "\n",
    "    stop_condition = False\n",
    "    decoded_sentence = ''\n",
    "    while not stop_condition: # stop_condition이 True가 될 때까지 루프 반복\n",
    "\n",
    "        output_tokens, h, c = decoder_model.predict([target_seq] + [e_out, e_h, e_c])\n",
    "        sampled_token_index = np.argmax(output_tokens[0, -1, :])\n",
    "        sampled_token = tar_index_to_word[sampled_token_index]\n",
    "\n",
    "        if (sampled_token!='eostoken'):\n",
    "            decoded_sentence += ' '+sampled_token\n",
    "\n",
    "        #  <eos>에 도달하거나 최대 길이를 넘으면 중단.\n",
    "        if (sampled_token == 'eostoken'  or len(decoded_sentence.split()) >= (headlines_max_len-1)):\n",
    "            stop_condition = True\n",
    "\n",
    "        # 길이가 1인 타겟 시퀀스를 업데이트\n",
    "        target_seq = np.zeros((1,1))\n",
    "        target_seq[0, 0] = sampled_token_index\n",
    "\n",
    "        # 상태를 업데이트 합니다.\n",
    "        e_h, e_c = h, c\n",
    "\n",
    "    return decoded_sentence"
   ]
  },
  {
   "cell_type": "markdown",
   "id": "2a7a2337",
   "metadata": {},
   "source": [
    "## Step 4. 실제 결과와 요약문 비교하기"
   ]
  },
  {
   "cell_type": "code",
   "execution_count": 49,
   "id": "9f5b4858",
   "metadata": {},
   "outputs": [],
   "source": [
    "# 원문의 정수 시퀀스를 텍스트 시퀀스로 변환\n",
    "def seq2text(input_seq):\n",
    "    temp=''\n",
    "    for i in input_seq:\n",
    "        if (i!=0):\n",
    "            temp = temp + src_index_to_word[i]+' '\n",
    "    return temp\n",
    "\n",
    "# 요약문의 정수 시퀀스를 텍스트 시퀀스로 변환\n",
    "def seq2summary(input_seq):\n",
    "    temp=''\n",
    "    for i in input_seq:\n",
    "        if ((i!=0 and i!=tar_word_to_index['sostoken']) and i!=tar_word_to_index['eostoken']):\n",
    "            temp = temp + tar_index_to_word[i] + ' '\n",
    "    return temp"
   ]
  },
  {
   "cell_type": "code",
   "execution_count": 50,
   "id": "ee071e57",
   "metadata": {},
   "outputs": [
    {
     "name": "stdout",
     "output_type": "stream",
     "text": [
      "원문 : rebel aap leader kapil mishra monday moved delhi high court cm arvind kejriwal low attendance delhi assembly mishra petition alleged cm present seven times although assembly sessions also claimed cm kejriwal present assembly last months question hour \n",
      "실제 요약 : rebel aap leader sues kejriwal for low assembly attendance \n",
      "예측 요약 :  aap to be as mlas delhi cm kejriwal\n",
      "\n",
      "\n",
      "원문 : india largest broadcaster zee entertainment enterprises said promoters plan sell shareholding company strategic partner decision taken founder chairman subhash chandra family meeting advisors diwali weekend promoters hold stake currently worth crore \n",
      "실제 요약 : promoters to sell up to of their stake in zee entertainment \n",
      "예측 요약 :  infibeam to buy stake in talks with stake in\n",
      "\n",
      "\n",
      "원문 : reacting rcb ab de villiers one handed catch body metres ground user tweeted ab de villiers human repeat human tweets read even forces gravity bow ab de villiers dear indian police need someone catch criminals still india \n",
      "실제 요약 : not human tweets user on abd one handed catch \n",
      "예측 요약 :  gayle tweets user on his ball with gun\n",
      "\n",
      "\n",
      "원문 : year old man watched netflix seven hours daily admitted bengaluru national institute mental health reported first case netflix addiction country unemployed youth continuously watched netflix made feel good doctors said treating therapy career guidance \n",
      "실제 요약 : man who spent hrs on netflix admitted to de addiction centre \n",
      "예측 요약 :  man who wrote to write to write for addiction\n",
      "\n",
      "\n",
      "원문 : akshay kumar requested people donate families martyrs via government bharat ke veer initiative event later said within minutes raised close crore akshay added able ensure listed website would get target amount help \n",
      "실제 요약 : within minutes raised cr for families of martyrs akshay \n",
      "예측 요약 :  akshay kumar to get into house for underprivileged kids\n",
      "\n",
      "\n",
      "원문 : contest hosted offer fans chance launch trailer film baaghi lead stars tiger shroff disha patani baaghi join rebellion tell story join trailer launch st wrote tiger social media \n",
      "실제 요약 : contest lets fans launch baaghi trailer with tiger disha \n",
      "예측 요약 :  new trailer of rajkummar shraddha starrer released\n",
      "\n",
      "\n",
      "원문 : delhi police friday suspended seven police personnel allowing chandrashekhar accused middleman aiadmk symbol bribery case freely shopping mall despite police custody senior officials said inquiry conducted time bound manner strict action taken police personnel found guilty \n",
      "실제 요약 : delhi cops suspended for allowing accused to in mall \n",
      "예측 요약 :  police arrest warrant issued against police for bhima koregaon\n",
      "\n",
      "\n",
      "원문 : class action lawsuit filed apple butterfly macbook keyboard design alleging apple knew defects product launched lawsuit claims thousands macbook macbook pro laptops experienced failure due dust debris causing go keyboard designed distribute pressure key precise typing \n",
      "실제 요약 : apple faces class action suit for faulty macbook \n",
      "예측 요약 :  iphone case iphone apple sends iphone pics\n",
      "\n",
      "\n",
      "원문 : kailash mansarovar yatra la pass sikkim cancelled wake face indian chinese troops disputed area along sino indian border official said today however government official added pilgrimage pass uttarakhand continue scheduled \n",
      "실제 요약 : kailash yatra through la pass cancelled \n",
      "예측 요약 :  sikkim to host first flag from sikkim for st time\n",
      "\n",
      "\n",
      "원문 : trailer irrfan khan saba qamar upcoming film hindi medium released mark bollywood debut pakistani actress saba qamar film couple played khan qamar trying get daughter admitted english medium school directed chaudhary film release may \n",
      "실제 요약 : trailer of irrfan pak actress hindi medium released \n",
      "예측 요약 :  irrfan khan to play in pakistan in pakistan\n",
      "\n",
      "\n",
      "원문 : hours mumbai serial blasts accused sentenced friday mumbai police control room received bomb threat caller said person named manoj would trigger several bombs policemen identified caller year old drunk wanted punish friend manoj owing money drinking session \n",
      "실제 요약 : bomb threat hours before mumbai blasts case \n",
      "예측 요약 :  mumbai police arrests after bomb threat to save\n",
      "\n",
      "\n",
      "원문 : pakistan prime minister imran khan said war two nuclear armed countries like india pakistan like suicide added even cold war india pakistan interest countries way resolve issues two nations bilateral talks said \n",
      "실제 요약 : nuclear armed india and pak at war is like suicide pak pm \n",
      "예측 요약 :  pakistan has not to be with pakistan pakistan\n",
      "\n",
      "\n",
      "원문 : slamming congress terming gst gabbar singh tax union home minister rajnath singh saturday asked party chose support tax regime parliament meanwhile congress vice president rahul gandhi asserted gst requires reforms adding party warned government consequences wrong implementation gst \n",
      "실제 요약 : why did cong support singh tax in parliament singh \n",
      "예측 요약 :  congress is not finance minister on gst deal\n",
      "\n",
      "\n",
      "원문 : asked exit parent company facebook instagram co founder kevin systrom said obviously reasons leaving one ever leaves job everything awesome reported systrom fellow co founder mike krieger left facebook september amid tensions mark zuckerberg systrom maintained hard feelings \n",
      "실제 요약 : no one quits because everything instagram co founder \n",
      "예측 요약 :  facebook ceo says he is the biggest company ceo\n",
      "\n",
      "\n",
      "원문 : model actress angela referred hrithik roshan mentor interview apologised misleading headline said words taken context responding interview hrithik tweeted lying following apology hrithik wrote clarify apologise \n",
      "실제 요약 : model apologises to hrithik for misleading \n",
      "예측 요약 :  was not to be part of my own model on priyanka\n",
      "\n",
      "\n",
      "원문 : real madrid winger cristiano ronaldo named world highest paid athlete forbes second year row earnings million ronaldo pay includes salary million worth million ronaldo cumulative earnings million salary million \n",
      "실제 요약 : ronaldo world highest paid athlete with cr pay \n",
      "예측 요약 :  ronaldo spent million on forbes rich list of billionaires\n",
      "\n",
      "\n",
      "원문 : karni sena convenor singh kalvi said never allow screening sanjay leela bhansali padmavati anywhere india abroad added let complete ban release padmavati talking song ghoomar kalvi said want changes complete ban song \n",
      "실제 요약 : will not allow padmavati screening in india abroad karni sena \n",
      "예측 요약 :  karni sena chief calls padmaavat karni sena\n",
      "\n",
      "\n",
      "원문 : year old man south dakota united states arrested running burning building twice order save cans beer according police report michael ignored police instructions ran inside building incident resulted police advising people beer worth life social media \n",
      "실제 요약 : man enters burning building twice to save beer \n",
      "예측 요약 :  man arrested for stealing power to drink at delhi airport\n",
      "\n",
      "\n",
      "원문 : chinese man underwent procedure replacement ear grown got successfully transplanted head ear growing since november transplanted seven hour surgery hospital china province patient lost ear following traffic accident \n",
      "실제 요약 : transplant arm grown ear to man head in china \n",
      "예측 요약 :  man turns surgery to remove brain in\n",
      "\n",
      "\n",
      "원문 : austrian computer roland seeking storage space collection roughly apple computers year old repairs apple products said cannot afford rent warehouse keeps collection would simply put display anywhere people see added \n",
      "실제 요약 : it seeks space for collection of apple computers \n",
      "예측 요약 :  apple to launch iphones in iphones\n",
      "\n",
      "\n",
      "원문 : state bank india suffered loss crore account holders found trick earn double refund credit cancelling online orders flipkart incidents reported gujarat users got double refund sbi flipkart anomaly reportedly caused new visa update \n",
      "실제 요약 : sbi loses crore as flipkart users get double refund \n",
      "예측 요약 :  sbi fines sbi over crore in exchange of its wallet\n",
      "\n",
      "\n",
      "원문 : two women love around six years divorced husbands tied knot temple region two women ceremony however registrar refused recognise marriage saying government order sex marriages \n",
      "실제 요약 : up women in love for years divorce husbands marry each other \n",
      "예측 요약 :  women women married women in women in\n",
      "\n",
      "\n",
      "원문 : kkr spinner kuldeep yadav tripped fell appealing lbw dismissal srh opener shikhar dhawan qualifier ipl friday dhawan struck back thigh kuldeep first delivery match given kuldeep also dismissed srh captain kane williamson \n",
      "실제 요약 : kkr kuldeep yadav trips and falls while for lbw \n",
      "예측 요약 :  kuldeep gayle smashes off catch with gayle\n",
      "\n",
      "\n",
      "원문 : two days supreme court allowed year old rape survivor abort week pregnancy minor delivered boy caesarean section mumbai sir jj hospital baby likely handed government kept state run orphanage reports said meanwhile police arrested year old accused rape \n",
      "실제 요약 : after sc allowed abortion mumbai rape survivor gives birth \n",
      "예측 요약 :  abortion victim week week week old abortion victim\n",
      "\n",
      "\n",
      "원문 : former australian captain greg chappell instructed brother chappell bowl delivery new zealand needed seven runs final delivery melbourne february kiwi batsman threw away bat frustration defending delivery laws game later changed make bowling illegal cricket \n",
      "실제 요약 : aus cricketer once bowled to save off last ball \n",
      "예측 요약 :  kuldeep yadav hits his catch\n",
      "\n",
      "\n",
      "원문 : former national football league player actor simpson granted parole serving nearly nine years prison may released october year sentence scheduled end september simpson sentenced allegedly leading group men las vegas hotel steal sports gunpoint \n",
      "실제 요약 : ex nfl player granted parole after yrs in jail \n",
      "예측 요약 :  ex england captain retires aged with cancer monk\n",
      "\n",
      "\n",
      "원문 : bjp president amit shah part whatsapp groups formed delhi bjp providing direct information preventing spread fake news delhi bjp chief manoj tiwari also part groups aimed bringing party workers platform ensuring party directions assignments undertaken sincerely \n",
      "실제 요약 : amit shah part of bjp whatsapp groups to curb fake news \n",
      "예측 요약 :  bjp leader slams bjp for fake violence in corruption\n",
      "\n",
      "\n",
      "원문 : unnamed man dressed parrot sell house bolton united kingdom wearing parrot costume posed different areas house including shower cabin living room area backyard three bedroom property later sold crore according reports \n",
      "실제 요약 : man sells house dressed as in uk \n",
      "예측 요약 :  woman who asked to pay for honeymoon\n",
      "\n",
      "\n",
      "원문 : chhattisgarh police arrested former bbc journalist vinod verma uttar pradesh allegedly trying blackmail chhattisgarh bjp minister sex tape verma reportedly copies sex tape trying extort money leader police confiscated large number laptop verma residence \n",
      "실제 요약 : ex bbc journo held for bjp leader with sex tape \n",
      "예측 요약 :  bjp leader arrested for obscene morphed pics of woman on rape\n",
      "\n",
      "\n",
      "원문 : former jammu kashmir cm mehbooba mufti monday called media speculation possible pdp congress alliance state fake news utter also dismissed reports impending meeting former congress president sonia gandhi mufti resigned last month bjp pulled alliance pdp state \n",
      "실제 요약 : ex cm calls reports of pdp alliance fake news \n",
      "예측 요약 :  omar abdullah to omar abdullah\n",
      "\n",
      "\n",
      "원문 : year old boy hosted party house friends allegedly murdered tuesday mumbai bandra boy reportedly overheard friends plan steal gold ornaments house however boy confronted friends altercation broke among leading crime police said \n",
      "실제 요약 : mumbai boy killed for stopping friends from robbing his home \n",
      "예측 요약 :  yr old girl dies after being hit by car in mumbai\n",
      "\n",
      "\n",
      "원문 : pm narendra modi seven girls eleven boys national bravery awards january children hail states also participate republic day parade awardees include year old girl helped uttar pradesh police bust betting racket seven year old odisha girl saved friend crocodile \n",
      "실제 요약 : children to receive national awards this year \n",
      "예측 요약 :  pm modi visits aiims for women to attend school\n",
      "\n",
      "\n",
      "원문 : business sentiment weakest four years india slipped th position globally business optimism index first quarter year according survey grant however business optimism time high globally added top five countries austria finland indonesia netherlands us \n",
      "실제 요약 : india slips to th spot in business index survey \n",
      "예측 요약 :  india gdp among top of the year\n",
      "\n",
      "\n",
      "원문 : police officer someone else hungry baby hospital argentinian capital buenos aires promoted local government local government called gesture spontaneous love saying police make us proud photograph incident went viral lakh views \n",
      "실제 요약 : cop who someone else baby gets \n",
      "예측 요약 :  couple who saved baby on the same day in ashes\n",
      "\n",
      "\n",
      "원문 : anushka sharma said child used think habit picking streets way home school used collect many would put inside shoe boxes would store said anushka \n",
      "실제 요약 : used to think was as child anushka \n",
      "예측 요약 :  anushka sharma slams media for not being scolded for\n",
      "\n",
      "\n",
      "원문 : talking unbeaten run knock sunrisers hyderabad kings xi punjab opener chris gayle said wanted let spinner rashid khan know universe boss wanted put bit pressure wanted bowlers know charge added gayle slammed six sixes leg spinner including four row \n",
      "실제 요약 : wanted to let rashid know universe boss is here chris gayle \n",
      "예측 요약 :  shikhar dhawan posts his pic with him\n",
      "\n",
      "\n",
      "원문 : pacer rp singh announced retirement cricket tuesday exactly years making international debut year old part india world winning team played international matches never thought would able say lived dream singh wrote farewell note \n",
      "실제 요약 : singh announces retirement years after india debut \n",
      "예측 요약 :  would have been born in test cricket than yr old sreesanth\n",
      "\n",
      "\n",
      "원문 : workers indonesian factory makes ivanka trump brand clothing revealed subjected verbal abuse receive poverty wages said management often calls derogatory names like monkey work unpaid overtime employees reportedly said paid little cannot afford live children \n",
      "실제 요약 : ivanka factory workers say they are called \n",
      "예측 요약 :  trump arrests us for not paying for afghan\n",
      "\n",
      "\n",
      "원문 : mahesh kumar pakistan peoples party become first hindu candidate win general national assembly seat pakistan earlier year krishna kumari become first hindu woman elected pakistan senate non muslims pakistan got right vote contest general seats parliament \n",
      "실제 요약 : hindu candidate wins pak national assembly seat for the st time \n",
      "예측 요약 :  imran khan sworn in as pak chief for th time in\n",
      "\n",
      "\n",
      "원문 : part viral year challenge filmmaker karan johar took instagram share two pictures one taken decade high hair dye still resisting filmmaker wrote caption hope feeling lasts karan added \n",
      "실제 요약 : still karan shares year challenge pic \n",
      "예측 요약 :  it is the of my life ranveer on pic with ranbir\n",
      "\n",
      "\n",
      "원문 : uk conveyed india request extradition vijay mallya declared proclaimed offender certified secretary state handing request india asserted legitimate case mallya notably mallya whose defunct kingfisher airlines owes crore various banks fled india \n",
      "실제 요약 : uk request for extradition of vijay mallya \n",
      "예측 요약 :  vijay mallya to be paid by mallya in months\n",
      "\n",
      "\n",
      "원문 : researchers claimed samsung galaxy smartphones vulnerable hacking due security bug meltdown discovered earlier year previously thought immune bug researchers said found way exploit galaxy handsets samsung confirmed created patch bug specify many devices vulnerable \n",
      "실제 요약 : samsung galaxy phones vulnerable to hacking researchers \n",
      "예측 요약 :  samsung bug hacked to unlock phone from ai\n",
      "\n",
      "\n",
      "원문 : addressing people germany congress president rahul gandhi said india strategic relationship us india cannot ignore china growing fast going shape planet india role balance two india closer us chinese china us major players planet added \n",
      "실제 요약 : india role should be to balance us china rahul in germany \n",
      "예측 요약 :  india will not see india with india with india china\n",
      "\n",
      "\n",
      "원문 : world largest producer crude oil saudi buy stake proposed billion refinery project maharashtra remaining stake held indian oil bharat petroleum hindustan petroleum saudi supply least million tonnes crude processed planned refinery officials said \n",
      "실제 요약 : saudi to buy of bn maharashtra oil \n",
      "예측 요약 :  india to invest crore in uae to raise bn\n",
      "\n",
      "\n",
      "원문 : bombay high court monday issued notices maharashtra government mumbai university seeking response delay announcement results law examinations students filed petition saying lost several higher education opportunities due delay results apparently caused screen evaluation system \n",
      "실제 요약 : bombay hc issues notice to maha govt over result delay \n",
      "예측 요약 :  delhi hc stays notice to cbse class board exams\n",
      "\n",
      "\n",
      "원문 : talking billion technology vision fund softbank ceo masayoshi son said vision fund ii definitely come matter adding could sometime near future son said new fund could see investors original vision fund includes sovereign wealth funds saudi arabia abu dhabi \n",
      "실제 요약 : sequel to bn tech fund will definitely come softbank \n",
      "예측 요약 :  softbank is very good softbank ceo\n",
      "\n",
      "\n",
      "원문 : new york city mayor bill de announced students public schools served vegetarian breakfast lunch save planet adding wife also go monday meals said help make city planet stronger \n",
      "실제 요약 : new york schools to serve veg meals to save the planet \n",
      "예측 요약 :  canada to give to preserve students\n",
      "\n",
      "\n",
      "원문 : bodies two teenage girls found monday railway tracks uttar pradesh district police said girls school students missing since sunday afternoon police added police said clear whether suicide accident bodies sent post mortem examination \n",
      "실제 요약 : bodies of girls found near railway tracks in uttar pradesh \n",
      "예측 요약 :  missing girls found in up shelter home in up\n",
      "\n",
      "\n",
      "원문 : manchester city reclaimed top position points table registering win everton saturday city th league win row home season brazil jesus scored first league goal goal less run games minutes since august second placed liverpool face manchester united sunday \n",
      "실제 요약 : man city take top position in after win over \n",
      "예측 요약 :  man city thrash arsenal to win point of league\n",
      "\n",
      "\n",
      "원문 : former indian cricketer virender sehwag took twitter wish ex south african rounder jacques nd birthday monday sehwag wrote happy birthday one greatest ever cricketers game represented sa years cricketer runs wickets international cricket \n",
      "실제 요약 : sehwag wishes on birthday calls him \n",
      "예측 요약 :  sehwag shares pic with his th birthday\n",
      "\n",
      "\n"
     ]
    }
   ],
   "source": [
    "for i in range(50, 100):\n",
    "    print(\"원문 :\", seq2text(encoder_input_test[i]))\n",
    "    print(\"실제 요약 :\", seq2summary(decoder_input_test[i]))\n",
    "    print(\"예측 요약 :\", decode_sequence(encoder_input_test[i].reshape(1, text_max_len)))\n",
    "    print(\"\\n\")"
   ]
  },
  {
   "cell_type": "markdown",
   "id": "b02be7df",
   "metadata": {},
   "source": [
    "## Step 5. Summa 이용해서 추출적 요약 해보기"
   ]
  },
  {
   "cell_type": "code",
   "execution_count": 51,
   "id": "be0a82e3",
   "metadata": {},
   "outputs": [],
   "source": [
    "import requests\n",
    "from summa.summarizer import summarize"
   ]
  },
  {
   "cell_type": "code",
   "execution_count": 68,
   "id": "6add4364",
   "metadata": {},
   "outputs": [
    {
     "name": "stdout",
     "output_type": "stream",
     "text": [
      "98401\n"
     ]
    }
   ],
   "source": [
    "import urllib.request\n",
    "urllib.request.urlretrieve(\"https://raw.githubusercontent.com/sunnysai12345/News_Summary/master/news_summary_more.csv\", filename=\"news_summary_more.csv\")\n",
    "data = pd.read_csv('news_summary_more.csv', encoding='iso-8859-1')\n",
    "print(len(data))"
   ]
  },
  {
   "cell_type": "markdown",
   "id": "3b9fd9ea",
   "metadata": {},
   "source": [
    "*데이터를 이미 전처리 해버렸기 때문에 추출적 요약을 위해 raw data 새로 불러와야함* "
   ]
  },
  {
   "cell_type": "code",
   "execution_count": 69,
   "id": "84c45af5",
   "metadata": {},
   "outputs": [
    {
     "name": "stdout",
     "output_type": "stream",
     "text": [
      "0       Saurav Kant, an alumnus of upGrad and IIIT-B's...\n",
      "1       Kunal Shah's credit card bill payment platform...\n",
      "2       New Zealand defeated India by 8 wickets in the...\n",
      "3       With Aegon Life iTerm Insurance plan, customer...\n",
      "4       Speaking about the sexual harassment allegatio...\n",
      "                              ...                        \n",
      "1495    India head coach Ravi Shastri has said that he...\n",
      "1496    Italian tennis player Andreas Seppi ensured hi...\n",
      "1497    World number three Roger Federer was stopped b...\n",
      "1498    A cutout of TMC chief and West Bengal CM Mamat...\n",
      "1499    A Delhi court on Saturday pulled up Delhi Poli...\n",
      "Name: text, Length: 1500, dtype: object\n"
     ]
    }
   ],
   "source": [
    "text = data['text']\n",
    "print(text[:1500])"
   ]
  },
  {
   "cell_type": "code",
   "execution_count": 70,
   "id": "e359e9e0",
   "metadata": {},
   "outputs": [
    {
     "data": {
      "text/plain": [
       "\"Two minor cousins in Uttar Pradesh's Gorakhpur were allegedly repeatedly burnt with tongs and forced to eat human excreta by their family for being friends with two boys from the same school. The cousins revealed their ordeal to the police and Child Welfare Committee after being brought back to Gorakhpur from Nepal, where they had fled to escape the torture.\""
      ]
     },
     "execution_count": 70,
     "metadata": {},
     "output_type": "execute_result"
    }
   ],
   "source": [
    "text[10]"
   ]
  },
  {
   "cell_type": "code",
   "execution_count": 71,
   "id": "0e897e4a",
   "metadata": {},
   "outputs": [
    {
     "name": "stdout",
     "output_type": "stream",
     "text": [
      "Headlines:\n",
      "Two minor cousins in Uttar Pradesh's Gorakhpur were allegedly repeatedly burnt with tongs and forced to eat human excreta by their family for being friends with two boys from the same school.\n"
     ]
    }
   ],
   "source": [
    "print('Headlines:')\n",
    "print(summarize(text[10], words=20))"
   ]
  },
  {
   "cell_type": "code",
   "execution_count": 72,
   "id": "13119d28",
   "metadata": {},
   "outputs": [
    {
     "name": "stdout",
     "output_type": "stream",
     "text": [
      "\n",
      "\n",
      "Text :\n",
      "Four jawans were martyred and one was injured on Sunday in firing by Pakistan along the Line of Control in Jammu and Kashmir's Rajouri. The continuous ceasefire violations by Pakistan have forced hundreds of people near the border to evacuate from their villages. Over 300 schools near the border were ordered shut for around a week due to continuous shelling. \n",
      "\n",
      "\n",
      "Headlines :\n",
      "The continuous ceasefire violations by Pakistan have forced hundreds of people near the border to evacuate from their villages.\n",
      "\n",
      "\n",
      "--------------------------------------------------------------------------------------------------------\n",
      "\n",
      "\n",
      "Text :\n",
      "Sixty high-rise buildings have failed safety tests carried out after a fire killed at least 79 people at London's Grenfell Tower, the British government said on Sunday. Around 4,000 residents were forced to evacuate their homes in north London on Friday after authorities ruled that their blocks were unsafe. British officials are conducting tests on 600 high-rise buildings across England. \n",
      "\n",
      "\n",
      "Headlines :\n",
      "Sixty high-rise buildings have failed safety tests carried out after a fire killed at least 79 people at London's Grenfell Tower, the British government said on Sunday.\n",
      "\n",
      "\n",
      "--------------------------------------------------------------------------------------------------------\n",
      "\n",
      "\n",
      "Text :\n",
      "Former US Director of National Intelligence James Clapper has said that the former FBI Director James Comey's removal is \"another victory\" for Russia. He further accused President Donald Trump of placing the country's democratic institutions \"under assault\" and called on other branches of the federal government to step up in their roles as a check on the executive.\n",
      "\n",
      "\n",
      "Headlines :\n",
      "Former US Director of National Intelligence James Clapper has said that the former FBI Director James Comey's removal is \"another victory\" for Russia.\n",
      "\n",
      "\n",
      "--------------------------------------------------------------------------------------------------------\n",
      "\n",
      "\n",
      "Text :\n",
      "The Bombay High Court on Wednesday cancelled the molestation case filed by Kings XI Punjab owner Preity Zinta against businessman Ness Wadia. The alleged incident had occurred during an IPL match in Mumbai on May 30, 2014. The court had suggested that both the parties resolve the issue in their personal capacity during the last hearing of the case. \n",
      "\n",
      "\n",
      "Headlines :\n",
      "The Bombay High Court on Wednesday cancelled the molestation case filed by Kings XI Punjab owner Preity Zinta against businessman Ness Wadia.\n",
      "\n",
      "\n",
      "--------------------------------------------------------------------------------------------------------\n",
      "\n",
      "\n",
      "Text :\n",
      "Calling Rahul Gandhi's hug to PM Narendra Modi a \"political stunt\", Uttar Pradesh CM Yogi Adityanath dared the Congress President to try and hug him. Rahul Gandhi should think at least 10 times before making such an attempt, he added. Instead of hugging leaders, Gandhi should embrace the people of India, he further said.\n",
      "\n",
      "\n",
      "Headlines :\n",
      "Calling Rahul Gandhi's hug to PM Narendra Modi a \"political stunt\", Uttar Pradesh CM Yogi Adityanath dared the Congress President to try and hug him.\n",
      "\n",
      "\n",
      "--------------------------------------------------------------------------------------------------------\n",
      "\n",
      "\n",
      "Text :\n",
      "Stressing on religious intolerance and human rights violations in Pakistan, the US has asked Pakistan to abolish its blasphemy laws at the Universal Periodic Review (UPR) held in Geneva on Monday. However, under the UPR which periodically reviews human rights records of all 193 UN Member States, Pakistan has the freedom to refuse or accept any recommendation by the group.\n",
      "\n",
      "\n",
      "Headlines :\n",
      "Stressing on religious intolerance and human rights violations in Pakistan, the US has asked Pakistan to abolish its blasphemy laws at the Universal Periodic Review (UPR) held in Geneva on Monday.\n",
      "\n",
      "\n",
      "--------------------------------------------------------------------------------------------------------\n",
      "\n",
      "\n",
      "Text :\n",
      "Sunil Yadav, a Brihanmumbai Municipal Corporation (BMC) worker who is currently pursuing his PhD has alleged that he was fired earlier this week after he exposed corruption and misuse of power in his department. Yadav said that he received a letter stating he was relieved from duty in the solid waste management department, when he had just sought a transfer.\n",
      "\n",
      "\n",
      "Headlines :\n",
      "Sunil Yadav, a Brihanmumbai Municipal Corporation (BMC) worker who is currently pursuing his PhD has alleged that he was fired earlier this week after he exposed corruption and misuse of power in his department.\n",
      "\n",
      "\n",
      "--------------------------------------------------------------------------------------------------------\n",
      "\n",
      "\n",
      "Text :\n",
      "After Pakistani pacer, Mohammad Amir revealed on Twitter that he rates Indian captain Virat Kohli as the world's best batsman, a user tweeted, \"I'm from india, and aapne dil jit liya ham sabka.\" \"Doesn't matter who is best, But I am your big fan, As an Indian, I would god bless you,\" read another tweet.\n",
      "\n",
      "\n",
      "Headlines :\n",
      "\n",
      "\n",
      "\n",
      "--------------------------------------------------------------------------------------------------------\n",
      "\n",
      "\n",
      "Text :\n",
      "The Aam Aadmi Party on Friday moved the Delhi High Court against Election Commission's recommendation to disqualify 20 of their MLAs. This comes after the EC submitted a recommendation to President Ram Nath Kovind, seeking disqualification of lawmakers on the grounds that they allegedly held offices of profit. However, AAP MLA Saurabh Bharadwaj said there is \"no credible information\". \n",
      "\n",
      "\n",
      "Headlines :\n",
      "The Aam Aadmi Party on Friday moved the Delhi High Court against Election Commission's recommendation to disqualify 20 of their MLAs. This comes after the EC submitted a recommendation to President Ram Nath Kovind, seeking disqualification of lawmakers on the grounds that they allegedly held offices of profit.\n",
      "\n",
      "\n",
      "--------------------------------------------------------------------------------------------------------\n",
      "\n",
      "\n",
      "Text :\n",
      "Japanese billionaire Yusaku Maezawa, who has been selected by SpaceX as the first private passenger to fly around the Moon, said he \"would like to invite six to eight artists from around the world\" for the trip. \"They will be asked to create something after they return to Earth...these masterpieces will inspire the dreamer within us,\" the art collector added.\n",
      "\n",
      "\n",
      "Headlines :\n",
      "Japanese billionaire Yusaku Maezawa, who has been selected by SpaceX as the first private passenger to fly around the Moon, said he \"would like to invite six to eight artists from around the world\" for the trip.\n",
      "\n",
      "\n",
      "--------------------------------------------------------------------------------------------------------\n"
     ]
    }
   ],
   "source": [
    "for _ in range(10):\n",
    "    random_n = np.random.randint(len(text))\n",
    "    print(\"\\n\")\n",
    "    print(\"Text :\")\n",
    "    print(text[random_n])     #원문의 0.5%만 출력, 요약문 크기 조절\n",
    "    print(\"\\n\")\n",
    "    print(\"Headlines :\")\n",
    "    print(summarize(text[random_n], ratio=0.5))\n",
    "    print(\"\\n\")\n",
    "    print(\"--------------------------------------------------------------------------------------------------------\")"
   ]
  },
  {
   "cell_type": "code",
   "execution_count": 73,
   "id": "56396ced",
   "metadata": {},
   "outputs": [
    {
     "name": "stdout",
     "output_type": "stream",
     "text": [
      "원문 : Saurav Kant, an alumnus of upGrad and IIIT-B's PG Program in Machine learning and Artificial Intelligence, was a Sr Systems Engineer at Infosys with almost 5 years of work experience. The program and upGrad's 360-degree career support helped him transition to a Data Scientist at Tech Mahindra with 90% salary hike. upGrad's Online Power Learning has powered 3 lakh+ careers.\n",
      "실제 요약 : upGrad learner switches to career in ML & Al with 90% salary hike\n",
      "예측 요약 : upGrad's Online Power Learning has powered 3 lakh+ careers.\n",
      "\n",
      "\n",
      "원문 : Kunal Shah's credit card bill payment platform, CRED, gave users a chance to win free food from Swiggy for one year. Pranav Kaushik, a Delhi techie, bagged this reward after spending 2000 CRED coins. Users get one CRED coin per rupee of bill paid, which can be used to avail rewards from brands like Ixigo, BookMyShow, UberEats, Cult.Fit and more.\n",
      "실제 요약 : Delhi techie wins free food from Swiggy for one year on CRED\n",
      "예측 요약 : Users get one CRED coin per rupee of bill paid, which can be used to avail rewards from brands like Ixigo, BookMyShow, UberEats, Cult.Fit and more.\n",
      "\n",
      "\n",
      "원문 : New Zealand defeated India by 8 wickets in the fourth ODI at Hamilton on Thursday to win their first match of the five-match ODI series. India lost an international match under Rohit Sharma's captaincy after 12 consecutive victories dating back to March 2018. The match witnessed India getting all out for 92, their seventh lowest total in ODI cricket history.\n",
      "실제 요약 : New Zealand end Rohit Sharma-led India's 12-match winning streak\n",
      "예측 요약 : The match witnessed India getting all out for 92, their seventh lowest total in ODI cricket history.\n",
      "\n",
      "\n",
      "원문 : With Aegon Life iTerm Insurance plan, customers can enjoy tax benefits on your premiums paid and save up to Ã¢ÂÂ¹46,800^ on taxes. The plan provides life cover up to the age of 100 years. Also, customers have options to insure against Critical Illnesses, Disability and Accidental Death Benefit Rider with a life cover up to the age of 80 years.\n",
      "실제 요약 : Aegon life iTerm insurance plan helps customers save tax\n",
      "예측 요약 : Also, customers have options to insure against Critical Illnesses, Disability and Accidental Death Benefit Rider with a life cover up to the age of 80 years.\n",
      "\n",
      "\n",
      "원문 : Speaking about the sexual harassment allegations against Rajkumar Hirani, Sonam Kapoor said, \"I've known Hirani for many years...What if it's not true, the [#MeToo] movement will get derailed.\" \"In the #MeToo movement, I always believe a woman. But in this case, we need to reserve our judgment,\" she added. Hirani has been accused by an assistant who worked in 'Sanju'.\n",
      "실제 요약 : Have known Hirani for yrs, what if MeToo claims are not true: Sonam\n",
      "예측 요약 : Speaking about the sexual harassment allegations against Rajkumar Hirani, Sonam Kapoor said, \"I've known Hirani for many years...What if it's not true, the [#MeToo] movement will get derailed.\" \"In the #MeToo movement, I always believe a woman.\n",
      "\n",
      "\n",
      "원문 : Pakistani singer Rahat Fateh Ali Khan has denied receiving any notice from the Enforcement Directorate over allegedly smuggling foreign currency out of India. \"It would have been better if the authorities would have served the notice first if any and then publicised this,\" reads a press release issued on behalf of Rahat. The statement further called the allegation \"bizarre\".\n",
      "실제 요약 : Rahat Fateh Ali Khan denies getting notice for smuggling currency\n",
      "예측 요약 : Pakistani singer Rahat Fateh Ali Khan has denied receiving any notice from the Enforcement Directorate over allegedly smuggling foreign currency out of India.\n",
      "\n",
      "\n",
      "원문 : India recorded their lowest ODI total in New Zealand after getting all out for 92 runs in 30.5 overs in the fourth ODI at Hamilton on Thursday. Seven of India's batsmen were dismissed for single-digit scores, while their number ten batsman Yuzvendra Chahal top-scored with 18*(37). India's previous lowest ODI total in New Zealand was 108.\n",
      "실제 요약 : India get all out for 92, their lowest ODI total in New Zealand\n",
      "예측 요약 : India's previous lowest ODI total in New Zealand was 108.\n",
      "\n",
      "\n",
      "원문 : Weeks after ex-CBI Director Alok Verma told the Department of Personnel and Training to consider him retired, the Home Ministry asked him to join work on the last day of his fixed tenure as Director on Thursday. The ministry directed him to immediately join as DG, Fire Services, the post he was transferred to after his removal as CBI chief.\n",
      "실제 요약 : Govt directs Alok Verma to join work 1 day before his retirement\n",
      "예측 요약 : \n",
      "\n",
      "\n",
      "원문 : Andhra Pradesh CM N Chandrababu Naidu has said, \"When I met then US President Bill Clinton, I addressed him as Mr Clinton, not as 'sir'. (PM Narendra) Modi is my junior in politics...I addressed him as sir 10 times.\" \"I did this...to satisfy his ego in the hope that he will do justice to the state,\" he added.\n",
      "실제 요약 : Called PM Modi 'sir' 10 times to satisfy his ego: Andhra CM\n",
      "예측 요약 : \n",
      "\n",
      "\n",
      "원문 : Congress candidate Shafia Zubair won the Ramgarh Assembly seat in Rajasthan, by defeating BJP's Sukhwant Singh with a margin of 12,228 votes in the bypoll. With this victory, Congress has taken its total to 100 seats in the 200-member assembly. The election to the Ramgarh seat was delayed due to the death of sitting MLA and BSP candidate Laxman Singh.\n",
      "실제 요약 : Cong wins Ramgarh bypoll in Rajasthan, takes total to 100 seats\n",
      "예측 요약 : Congress candidate Shafia Zubair won the Ramgarh Assembly seat in Rajasthan, by defeating BJP's Sukhwant Singh with a margin of 12,228 votes in the bypoll.\n",
      "\n",
      "\n",
      "원문 : Two minor cousins in Uttar Pradesh's Gorakhpur were allegedly repeatedly burnt with tongs and forced to eat human excreta by their family for being friends with two boys from the same school. The cousins revealed their ordeal to the police and Child Welfare Committee after being brought back to Gorakhpur from Nepal, where they had fled to escape the torture.\n",
      "실제 요약 : UP cousins fed human excreta for friendship with boys\n",
      "예측 요약 : \n",
      "\n",
      "\n",
      "원문 : Isha Ghosh, an 81-year-old member of Bharat Scouts and Guides (BSG), has been imparting physical and mental training to schoolchildren in Jharkhand for several decades. Chaibasa-based Ghosh reportedly walks seven kilometres daily and spends eight hours conducting physical training, apart from climbing and yoga sessions. She says, \"One should do something for society till one's last breath.\"\n",
      "실제 요약 : 81-yr-old woman conducts physical training in J'khand schools\n",
      "예측 요약 : Isha Ghosh, an 81-year-old member of Bharat Scouts and Guides (BSG), has been imparting physical and mental training to schoolchildren in Jharkhand for several decades.\n",
      "\n",
      "\n",
      "원문 : Urging saints and seers at the Kumbh Mela to quit smoking, Yoga guru Ramdev said, \"We follow Ram and Krishna who never smoked in their life then why should we?\" Making them take a pledge to quit tobacco, he collected chillum (clay pipe) from several sadhus. He said he will deposit the chillums for display at a museum he'll build.\n",
      "실제 요약 : Ram, Krishna didn't smoke, why should we: Ramdev to sadhus at Kumbh\n",
      "예측 요약 : \n",
      "\n",
      "\n",
      "원문 : Former stripper and regional sales director of a pharmaceutical company, Sunrise Lee, gave a doctor a lap dance in a nightclub to persuade him to prescribe an addictive fentanyl spray in 2012, the company's sales representative told a US court. She said she saw Lee \"sitting on [doctor's] lap, kind of bouncing around.\" Lee has been accused of bribing doctors.\n",
      "실제 요약 : Pharma exec gave doctor a lap dance to sell medicine in US: Witness\n",
      "예측 요약 : \n",
      "\n",
      "\n",
      "원문 : Reliance Industries' Chairman Mukesh Ambani's daughter Isha Ambani, who got married last month, said she only cried at her 'bidaai' because she felt peer pressure as everyone was crying, especially her parents. \"I was emotional too but everyone around me would cry all the time,\" she added. \"It was a very emotional affair for everyone in my family,\" said Isha.\n",
      "실제 요약 :  I only cried at my 'bidaai' as I felt peer pressure: Isha Ambani\n",
      "예측 요약 : \"It was a very emotional affair for everyone in my family,\" said Isha.\n",
      "\n",
      "\n",
      "원문 : Louis Vuitton owner LVMH, which makes high-end beverages like MoÃÂ«t & Chandon champagne and Hennessy cognac, said it's stockpiling four months' worth of wine and spirits in UK in preparation for Brexit. \"We're ready for worst case scenario if there are difficulties with deliveries,\" the French luxury giant said. The UK is scheduled to leave the EU on March 29.\n",
      "실제 요약 : Louis Vuitton owner to stockpile 4 months of wine, spirits in UK\n",
      "예측 요약 : Louis Vuitton owner LVMH, which makes high-end beverages like MoÃÂ«t & Chandon champagne and Hennessy cognac, said it's stockpiling four months' worth of wine and spirits in UK in preparation for Brexit.\n",
      "\n",
      "\n",
      "원문 : Filmmaker Karan Johar and actress Tabu turned showstoppers for Gaurav Gupta on the opening night of LakmÃÂ© Fashion Week Summer/ Resort 2019. While Johar wore a red sequinned jacket with black pants, Tabu walked the ramp in a grey embellished gown. The fashion show, which began on January 29, will continue till February 3.\n",
      "실제 요약 : Karan Johar, Tabu turn showstoppers on opening night of LFW\n",
      "예측 요약 : Filmmaker Karan Johar and actress Tabu turned showstoppers for Gaurav Gupta on the opening night of LakmÃÂ© Fashion Week Summer/ Resort 2019.\n",
      "\n",
      "\n",
      "원문 : In a jibe at Congress President Rahul Gandhi, PM Narendra Modi on Wednesday said those on \"bail will have to go to jail.\" PM Modi added, \"He is out on bail and his associates too are facing charges...I know they will be convicted one day.\" The PM claimed he'd waged a war on corruption because he's from a common household. \n",
      "실제 요약 : Those on bail will go to jail: PM Modi takes jibe at Rahul\n",
      "예측 요약 : \n",
      "\n",
      "\n",
      "원문 : Days after he threatened to step down from his post if Congress MLAs continue \"crossing the line,\" Karnataka Chief Minister HD Kumaraswamy accused them of taking potshots and asked, \"How many more days can I tolerate such stuff?\" Kumaraswamy, who made the statements after a Congress MLA demanded that Siddaramaiah be made CM again, said, \"Power is ephemeral.\"\n",
      "실제 요약 : How long can I tolerate Congress leaders' potshots: K'taka CM\n",
      "예측 요약 : \n",
      "\n",
      "\n",
      "원문 : Union Minister Dharmendra Pradhan on Wednesday claimed the illegal mining mafia in Odisha operates under the control of CM Naveen Patnaik and state Congress chief Niranjan Patnaik. He added, \"The time has come for the people of Odisha to put a full stop to their activities...The time has come for us to ask for an explanation from this corrupt government.\"\n",
      "실제 요약 : Odisha CM Patnaik controls mining mafia: Union Minister\n",
      "예측 요약 : \n",
      "\n",
      "\n"
     ]
    }
   ],
   "source": [
    "for idx, (head, text) in enumerate(zip(data['headlines'], data['text'])):\n",
    "    if idx == 20:\n",
    "        break\n",
    "    print(\"원문 :\", text)\n",
    "    print(\"실제 요약 :\", head)\n",
    "    print(\"예측 요약 :\", summarize(text, ratio=0.35))\n",
    "    print(\"\\n\")"
   ]
  },
  {
   "cell_type": "markdown",
   "id": "4608ecda",
   "metadata": {},
   "source": [
    " - 추출적 요약 : 핵심 단어가 포함된 정도는 추상적 요약에 비해 높지만, 문법 완성도가 낮아 자연스럽지 못하고 실제 헤드라인으로 쓰기에 많이 부족하다\n",
    " - 추상적 요약 : 핵심 단어가 포함된 정도는 추출적 요약에 비해 부족하지만 , 실제 기사 헤드라인과 비교했을 때 문법적인 완성도가 추출적 요약에 비해 높은 편이라 조금 더 자연스럽게 보인다. "
   ]
  }
 ],
 "metadata": {
  "kernelspec": {
   "display_name": "Python 3 (ipykernel)",
   "language": "python",
   "name": "python3"
  },
  "language_info": {
   "codemirror_mode": {
    "name": "ipython",
    "version": 3
   },
   "file_extension": ".py",
   "mimetype": "text/x-python",
   "name": "python",
   "nbconvert_exporter": "python",
   "pygments_lexer": "ipython3",
   "version": "3.9.7"
  }
 },
 "nbformat": 4,
 "nbformat_minor": 5
}
