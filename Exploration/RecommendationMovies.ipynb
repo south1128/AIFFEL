{
 "cells": [
  {
   "cell_type": "markdown",
   "id": "8e2f724a",
   "metadata": {},
   "source": [
    "### Load Data"
   ]
  },
  {
   "cell_type": "code",
   "execution_count": 1,
   "id": "ca1c6deb",
   "metadata": {},
   "outputs": [],
   "source": [
    "import pandas as pd\n",
    "from scipy.sparse import csr_matrix\n",
    "from implicit.als import AlternatingLeastSquares\n",
    "import numpy as np\n",
    "import os"
   ]
  },
  {
   "cell_type": "markdown",
   "id": "a97613f2",
   "metadata": {},
   "source": [
    "#### 1. 영화별 평점이 나와있는 ratings.dat 불러오기"
   ]
  },
  {
   "cell_type": "code",
   "execution_count": 2,
   "id": "e0a40b4a",
   "metadata": {},
   "outputs": [
    {
     "data": {
      "text/html": [
       "<div>\n",
       "<style scoped>\n",
       "    .dataframe tbody tr th:only-of-type {\n",
       "        vertical-align: middle;\n",
       "    }\n",
       "\n",
       "    .dataframe tbody tr th {\n",
       "        vertical-align: top;\n",
       "    }\n",
       "\n",
       "    .dataframe thead th {\n",
       "        text-align: right;\n",
       "    }\n",
       "</style>\n",
       "<table border=\"1\" class=\"dataframe\">\n",
       "  <thead>\n",
       "    <tr style=\"text-align: right;\">\n",
       "      <th></th>\n",
       "      <th>user_id</th>\n",
       "      <th>movie_id</th>\n",
       "      <th>ratings</th>\n",
       "      <th>timestamp</th>\n",
       "    </tr>\n",
       "  </thead>\n",
       "  <tbody>\n",
       "    <tr>\n",
       "      <th>0</th>\n",
       "      <td>1</td>\n",
       "      <td>1193</td>\n",
       "      <td>5</td>\n",
       "      <td>978300760</td>\n",
       "    </tr>\n",
       "    <tr>\n",
       "      <th>1</th>\n",
       "      <td>1</td>\n",
       "      <td>661</td>\n",
       "      <td>3</td>\n",
       "      <td>978302109</td>\n",
       "    </tr>\n",
       "    <tr>\n",
       "      <th>2</th>\n",
       "      <td>1</td>\n",
       "      <td>914</td>\n",
       "      <td>3</td>\n",
       "      <td>978301968</td>\n",
       "    </tr>\n",
       "    <tr>\n",
       "      <th>3</th>\n",
       "      <td>1</td>\n",
       "      <td>3408</td>\n",
       "      <td>4</td>\n",
       "      <td>978300275</td>\n",
       "    </tr>\n",
       "    <tr>\n",
       "      <th>4</th>\n",
       "      <td>1</td>\n",
       "      <td>2355</td>\n",
       "      <td>5</td>\n",
       "      <td>978824291</td>\n",
       "    </tr>\n",
       "  </tbody>\n",
       "</table>\n",
       "</div>"
      ],
      "text/plain": [
       "   user_id  movie_id  ratings  timestamp\n",
       "0        1      1193        5  978300760\n",
       "1        1       661        3  978302109\n",
       "2        1       914        3  978301968\n",
       "3        1      3408        4  978300275\n",
       "4        1      2355        5  978824291"
      ]
     },
     "execution_count": 2,
     "metadata": {},
     "output_type": "execute_result"
    }
   ],
   "source": [
    "\n",
    "rating_file_path=os.getenv('HOME') + '/aiffel/recommendata_iu/data/ml-1m/ratings.dat'\n",
    "ratings_cols = ['user_id','movie_id','ratings','timestamp']\n",
    "ratings = pd.read_csv(rating_file_path,sep='::',names=ratings_cols,engine='python',encoding='ISO-8859-1')\n",
    "original_data_size = len(ratings)\n",
    "ratings.head()"
   ]
  },
  {
   "cell_type": "markdown",
   "id": "189bb41e",
   "metadata": {},
   "source": [
    "#### 2. 평점을 영화 재생횟수로 고려하기 \n",
    "- 3회 이상 시청한 영화만 남기기\n",
    "- column name 을 ratings 에서 counts 로 바꾸기"
   ]
  },
  {
   "cell_type": "code",
   "execution_count": 3,
   "id": "379fcb2e",
   "metadata": {},
   "outputs": [
    {
     "name": "stdout",
     "output_type": "stream",
     "text": [
      "original_data_size: 1000209,filtered_data_size: 836478\n",
      "ratio of remaining Data is 83.63%\n"
     ]
    }
   ],
   "source": [
    "ratings = ratings[ratings['ratings']>=3]\n",
    "filtered_data_size = len(ratings)\n",
    "\n",
    "print(f'original_data_size: {original_data_size},filtered_data_size: {filtered_data_size}')\n",
    "print(f'ratio of remaining Data is {filtered_data_size/original_data_size:.2%}')"
   ]
  },
  {
   "cell_type": "code",
   "execution_count": 4,
   "id": "25b780e6",
   "metadata": {},
   "outputs": [],
   "source": [
    "ratings.rename(columns={'ratings':'counts'},inplace=True)"
   ]
  },
  {
   "cell_type": "code",
   "execution_count": 5,
   "id": "c7b6c84a",
   "metadata": {},
   "outputs": [
    {
     "data": {
      "text/plain": [
       "0          5\n",
       "1          3\n",
       "2          3\n",
       "3          4\n",
       "4          5\n",
       "          ..\n",
       "1000203    3\n",
       "1000205    5\n",
       "1000206    5\n",
       "1000207    4\n",
       "1000208    4\n",
       "Name: counts, Length: 836478, dtype: int64"
      ]
     },
     "execution_count": 5,
     "metadata": {},
     "output_type": "execute_result"
    }
   ],
   "source": [
    "ratings['counts']"
   ]
  },
  {
   "cell_type": "markdown",
   "id": "b33c5794",
   "metadata": {},
   "source": [
    "#### 3. 영화의 제목을 확인 할 수 있는 movies.dat 불러오기"
   ]
  },
  {
   "cell_type": "code",
   "execution_count": 6,
   "id": "c44b868f",
   "metadata": {},
   "outputs": [
    {
     "data": {
      "text/html": [
       "<div>\n",
       "<style scoped>\n",
       "    .dataframe tbody tr th:only-of-type {\n",
       "        vertical-align: middle;\n",
       "    }\n",
       "\n",
       "    .dataframe tbody tr th {\n",
       "        vertical-align: top;\n",
       "    }\n",
       "\n",
       "    .dataframe thead th {\n",
       "        text-align: right;\n",
       "    }\n",
       "</style>\n",
       "<table border=\"1\" class=\"dataframe\">\n",
       "  <thead>\n",
       "    <tr style=\"text-align: right;\">\n",
       "      <th></th>\n",
       "      <th>movie_id</th>\n",
       "      <th>title</th>\n",
       "      <th>genre</th>\n",
       "    </tr>\n",
       "  </thead>\n",
       "  <tbody>\n",
       "    <tr>\n",
       "      <th>0</th>\n",
       "      <td>1</td>\n",
       "      <td>Toy Story (1995)</td>\n",
       "      <td>Animation|Children's|Comedy</td>\n",
       "    </tr>\n",
       "    <tr>\n",
       "      <th>1</th>\n",
       "      <td>2</td>\n",
       "      <td>Jumanji (1995)</td>\n",
       "      <td>Adventure|Children's|Fantasy</td>\n",
       "    </tr>\n",
       "    <tr>\n",
       "      <th>2</th>\n",
       "      <td>3</td>\n",
       "      <td>Grumpier Old Men (1995)</td>\n",
       "      <td>Comedy|Romance</td>\n",
       "    </tr>\n",
       "    <tr>\n",
       "      <th>3</th>\n",
       "      <td>4</td>\n",
       "      <td>Waiting to Exhale (1995)</td>\n",
       "      <td>Comedy|Drama</td>\n",
       "    </tr>\n",
       "    <tr>\n",
       "      <th>4</th>\n",
       "      <td>5</td>\n",
       "      <td>Father of the Bride Part II (1995)</td>\n",
       "      <td>Comedy</td>\n",
       "    </tr>\n",
       "  </tbody>\n",
       "</table>\n",
       "</div>"
      ],
      "text/plain": [
       "   movie_id                               title                         genre\n",
       "0         1                    Toy Story (1995)   Animation|Children's|Comedy\n",
       "1         2                      Jumanji (1995)  Adventure|Children's|Fantasy\n",
       "2         3             Grumpier Old Men (1995)                Comedy|Romance\n",
       "3         4            Waiting to Exhale (1995)                  Comedy|Drama\n",
       "4         5  Father of the Bride Part II (1995)                        Comedy"
      ]
     },
     "execution_count": 6,
     "metadata": {},
     "output_type": "execute_result"
    }
   ],
   "source": [
    "\n",
    "movie_file_path=os.getenv('HOME') + '/aiffel/recommendata_iu/data/ml-1m/movies.dat'\n",
    "cols = ['movie_id','title','genre']\n",
    "movies = pd.read_csv(movie_file_path,sep='::',names=cols,engine='python',encoding='ISO-8859-1')\n",
    "movies.head()"
   ]
  },
  {
   "cell_type": "markdown",
   "id": "b222b116",
   "metadata": {},
   "source": [
    "#### 4. movie_id 를 기준으로 두 dataframe 합치기\n",
    "- 합친 후 필요한 column 만 가져오기"
   ]
  },
  {
   "cell_type": "code",
   "execution_count": 7,
   "id": "ffbec80a",
   "metadata": {},
   "outputs": [
    {
     "data": {
      "text/html": [
       "<div>\n",
       "<style scoped>\n",
       "    .dataframe tbody tr th:only-of-type {\n",
       "        vertical-align: middle;\n",
       "    }\n",
       "\n",
       "    .dataframe tbody tr th {\n",
       "        vertical-align: top;\n",
       "    }\n",
       "\n",
       "    .dataframe thead th {\n",
       "        text-align: right;\n",
       "    }\n",
       "</style>\n",
       "<table border=\"1\" class=\"dataframe\">\n",
       "  <thead>\n",
       "    <tr style=\"text-align: right;\">\n",
       "      <th></th>\n",
       "      <th>user_id</th>\n",
       "      <th>movie_id</th>\n",
       "      <th>counts</th>\n",
       "      <th>timestamp</th>\n",
       "      <th>title</th>\n",
       "      <th>genre</th>\n",
       "    </tr>\n",
       "  </thead>\n",
       "  <tbody>\n",
       "    <tr>\n",
       "      <th>0</th>\n",
       "      <td>1</td>\n",
       "      <td>1193</td>\n",
       "      <td>5</td>\n",
       "      <td>978300760</td>\n",
       "      <td>One Flew Over the Cuckoo's Nest (1975)</td>\n",
       "      <td>Drama</td>\n",
       "    </tr>\n",
       "    <tr>\n",
       "      <th>1</th>\n",
       "      <td>2</td>\n",
       "      <td>1193</td>\n",
       "      <td>5</td>\n",
       "      <td>978298413</td>\n",
       "      <td>One Flew Over the Cuckoo's Nest (1975)</td>\n",
       "      <td>Drama</td>\n",
       "    </tr>\n",
       "    <tr>\n",
       "      <th>2</th>\n",
       "      <td>12</td>\n",
       "      <td>1193</td>\n",
       "      <td>4</td>\n",
       "      <td>978220179</td>\n",
       "      <td>One Flew Over the Cuckoo's Nest (1975)</td>\n",
       "      <td>Drama</td>\n",
       "    </tr>\n",
       "    <tr>\n",
       "      <th>3</th>\n",
       "      <td>15</td>\n",
       "      <td>1193</td>\n",
       "      <td>4</td>\n",
       "      <td>978199279</td>\n",
       "      <td>One Flew Over the Cuckoo's Nest (1975)</td>\n",
       "      <td>Drama</td>\n",
       "    </tr>\n",
       "    <tr>\n",
       "      <th>4</th>\n",
       "      <td>17</td>\n",
       "      <td>1193</td>\n",
       "      <td>5</td>\n",
       "      <td>978158471</td>\n",
       "      <td>One Flew Over the Cuckoo's Nest (1975)</td>\n",
       "      <td>Drama</td>\n",
       "    </tr>\n",
       "  </tbody>\n",
       "</table>\n",
       "</div>"
      ],
      "text/plain": [
       "   user_id  movie_id  counts  timestamp  \\\n",
       "0        1      1193       5  978300760   \n",
       "1        2      1193       5  978298413   \n",
       "2       12      1193       4  978220179   \n",
       "3       15      1193       4  978199279   \n",
       "4       17      1193       5  978158471   \n",
       "\n",
       "                                    title  genre  \n",
       "0  One Flew Over the Cuckoo's Nest (1975)  Drama  \n",
       "1  One Flew Over the Cuckoo's Nest (1975)  Drama  \n",
       "2  One Flew Over the Cuckoo's Nest (1975)  Drama  \n",
       "3  One Flew Over the Cuckoo's Nest (1975)  Drama  \n",
       "4  One Flew Over the Cuckoo's Nest (1975)  Drama  "
      ]
     },
     "execution_count": 7,
     "metadata": {},
     "output_type": "execute_result"
    }
   ],
   "source": [
    "merged = pd.merge(ratings,movies,on='movie_id')\n",
    "merged.head()"
   ]
  },
  {
   "cell_type": "code",
   "execution_count": 8,
   "id": "dd105ac0",
   "metadata": {},
   "outputs": [
    {
     "data": {
      "text/html": [
       "<div>\n",
       "<style scoped>\n",
       "    .dataframe tbody tr th:only-of-type {\n",
       "        vertical-align: middle;\n",
       "    }\n",
       "\n",
       "    .dataframe tbody tr th {\n",
       "        vertical-align: top;\n",
       "    }\n",
       "\n",
       "    .dataframe thead th {\n",
       "        text-align: right;\n",
       "    }\n",
       "</style>\n",
       "<table border=\"1\" class=\"dataframe\">\n",
       "  <thead>\n",
       "    <tr style=\"text-align: right;\">\n",
       "      <th></th>\n",
       "      <th>user_id</th>\n",
       "      <th>title</th>\n",
       "      <th>counts</th>\n",
       "    </tr>\n",
       "  </thead>\n",
       "  <tbody>\n",
       "    <tr>\n",
       "      <th>0</th>\n",
       "      <td>1</td>\n",
       "      <td>One Flew Over the Cuckoo's Nest (1975)</td>\n",
       "      <td>5</td>\n",
       "    </tr>\n",
       "    <tr>\n",
       "      <th>1</th>\n",
       "      <td>2</td>\n",
       "      <td>One Flew Over the Cuckoo's Nest (1975)</td>\n",
       "      <td>5</td>\n",
       "    </tr>\n",
       "    <tr>\n",
       "      <th>2</th>\n",
       "      <td>12</td>\n",
       "      <td>One Flew Over the Cuckoo's Nest (1975)</td>\n",
       "      <td>4</td>\n",
       "    </tr>\n",
       "    <tr>\n",
       "      <th>3</th>\n",
       "      <td>15</td>\n",
       "      <td>One Flew Over the Cuckoo's Nest (1975)</td>\n",
       "      <td>4</td>\n",
       "    </tr>\n",
       "    <tr>\n",
       "      <th>4</th>\n",
       "      <td>17</td>\n",
       "      <td>One Flew Over the Cuckoo's Nest (1975)</td>\n",
       "      <td>5</td>\n",
       "    </tr>\n",
       "    <tr>\n",
       "      <th>5</th>\n",
       "      <td>18</td>\n",
       "      <td>One Flew Over the Cuckoo's Nest (1975)</td>\n",
       "      <td>4</td>\n",
       "    </tr>\n",
       "    <tr>\n",
       "      <th>6</th>\n",
       "      <td>19</td>\n",
       "      <td>One Flew Over the Cuckoo's Nest (1975)</td>\n",
       "      <td>5</td>\n",
       "    </tr>\n",
       "    <tr>\n",
       "      <th>7</th>\n",
       "      <td>24</td>\n",
       "      <td>One Flew Over the Cuckoo's Nest (1975)</td>\n",
       "      <td>5</td>\n",
       "    </tr>\n",
       "    <tr>\n",
       "      <th>8</th>\n",
       "      <td>28</td>\n",
       "      <td>One Flew Over the Cuckoo's Nest (1975)</td>\n",
       "      <td>3</td>\n",
       "    </tr>\n",
       "    <tr>\n",
       "      <th>9</th>\n",
       "      <td>33</td>\n",
       "      <td>One Flew Over the Cuckoo's Nest (1975)</td>\n",
       "      <td>5</td>\n",
       "    </tr>\n",
       "  </tbody>\n",
       "</table>\n",
       "</div>"
      ],
      "text/plain": [
       "   user_id                                   title  counts\n",
       "0        1  One Flew Over the Cuckoo's Nest (1975)       5\n",
       "1        2  One Flew Over the Cuckoo's Nest (1975)       5\n",
       "2       12  One Flew Over the Cuckoo's Nest (1975)       4\n",
       "3       15  One Flew Over the Cuckoo's Nest (1975)       4\n",
       "4       17  One Flew Over the Cuckoo's Nest (1975)       5\n",
       "5       18  One Flew Over the Cuckoo's Nest (1975)       4\n",
       "6       19  One Flew Over the Cuckoo's Nest (1975)       5\n",
       "7       24  One Flew Over the Cuckoo's Nest (1975)       5\n",
       "8       28  One Flew Over the Cuckoo's Nest (1975)       3\n",
       "9       33  One Flew Over the Cuckoo's Nest (1975)       5"
      ]
     },
     "execution_count": 8,
     "metadata": {},
     "output_type": "execute_result"
    }
   ],
   "source": [
    "using_cols = ['user_id','title','counts']\n",
    "merged = merged[using_cols]\n",
    "merged.head(10)"
   ]
  },
  {
   "cell_type": "markdown",
   "id": "f470221a",
   "metadata": {},
   "source": [
    "### Data Analysis \n",
    "#### 1. 데이터 확인하기 \n",
    "- user_id/title 개수 확인 \n",
    "- 영화별로 시청한 user 확인\n",
    "- user 별 시청한 영화 개수, 평균개수 등 확인"
   ]
  },
  {
   "cell_type": "code",
   "execution_count": 9,
   "id": "86c2b73f",
   "metadata": {},
   "outputs": [
    {
     "data": {
      "text/plain": [
       "6039"
      ]
     },
     "execution_count": 9,
     "metadata": {},
     "output_type": "execute_result"
    }
   ],
   "source": [
    "merged['user_id'].nunique()"
   ]
  },
  {
   "cell_type": "code",
   "execution_count": 10,
   "id": "bea32f8f",
   "metadata": {},
   "outputs": [
    {
     "data": {
      "text/plain": [
       "3628"
      ]
     },
     "execution_count": 10,
     "metadata": {},
     "output_type": "execute_result"
    }
   ],
   "source": [
    "merged['title'].nunique()"
   ]
  },
  {
   "cell_type": "code",
   "execution_count": 11,
   "id": "97420f2d",
   "metadata": {},
   "outputs": [
    {
     "data": {
      "text/plain": [
       "title\n",
       "American Beauty (1999)                                   3211\n",
       "Star Wars: Episode IV - A New Hope (1977)                2910\n",
       "Star Wars: Episode V - The Empire Strikes Back (1980)    2885\n",
       "Star Wars: Episode VI - Return of the Jedi (1983)        2716\n",
       "Saving Private Ryan (1998)                               2561\n",
       "Terminator 2: Judgment Day (1991)                        2509\n",
       "Silence of the Lambs, The (1991)                         2498\n",
       "Raiders of the Lost Ark (1981)                           2473\n",
       "Back to the Future (1985)                                2460\n",
       "Matrix, The (1999)                                       2434\n",
       "Jurassic Park (1993)                                     2413\n",
       "Sixth Sense, The (1999)                                  2385\n",
       "Fargo (1996)                                             2371\n",
       "Braveheart (1995)                                        2314\n",
       "Men in Black (1997)                                      2297\n",
       "Schindler's List (1993)                                  2257\n",
       "Princess Bride, The (1987)                               2252\n",
       "Shakespeare in Love (1998)                               2213\n",
       "L.A. Confidential (1997)                                 2210\n",
       "Shawshank Redemption, The (1994)                         2194\n",
       "Godfather, The (1972)                                    2167\n",
       "Groundhog Day (1993)                                     2121\n",
       "E.T. the Extra-Terrestrial (1982)                        2102\n",
       "Being John Malkovich (1999)                              2066\n",
       "Ghostbusters (1984)                                      2051\n",
       "Pulp Fiction (1994)                                      2030\n",
       "Forrest Gump (1994)                                      2022\n",
       "Terminator, The (1984)                                   2019\n",
       "Toy Story (1995)                                         2000\n",
       "Fugitive, The (1993)                                     1941\n",
       "Name: user_id, dtype: int64"
      ]
     },
     "execution_count": 11,
     "metadata": {},
     "output_type": "execute_result"
    }
   ],
   "source": [
    "movies_count = merged.groupby('title')['user_id'].count()\n",
    "movies_count.sort_values(ascending=False).head(30)"
   ]
  },
  {
   "cell_type": "code",
   "execution_count": 12,
   "id": "9bc4ab19",
   "metadata": {},
   "outputs": [
    {
     "data": {
      "text/plain": [
       "count    6039.000000\n",
       "mean      138.512668\n",
       "std       156.241599\n",
       "min         1.000000\n",
       "25%        38.000000\n",
       "50%        81.000000\n",
       "75%       177.000000\n",
       "max      1968.000000\n",
       "Name: title, dtype: float64"
      ]
     },
     "execution_count": 12,
     "metadata": {},
     "output_type": "execute_result"
    }
   ],
   "source": [
    "movies_count = merged.groupby('user_id')['title'].count()\n",
    "movies_count.describe()"
   ]
  },
  {
   "cell_type": "markdown",
   "id": "6fc3aaf8",
   "metadata": {},
   "source": [
    "#### 2. 내가 좋아하는 영화 5 개 data 에 추가하기 "
   ]
  },
  {
   "cell_type": "code",
   "execution_count": 13,
   "id": "caaf743f",
   "metadata": {},
   "outputs": [
    {
     "data": {
      "text/html": [
       "<div>\n",
       "<style scoped>\n",
       "    .dataframe tbody tr th:only-of-type {\n",
       "        vertical-align: middle;\n",
       "    }\n",
       "\n",
       "    .dataframe tbody tr th {\n",
       "        vertical-align: top;\n",
       "    }\n",
       "\n",
       "    .dataframe thead th {\n",
       "        text-align: right;\n",
       "    }\n",
       "</style>\n",
       "<table border=\"1\" class=\"dataframe\">\n",
       "  <thead>\n",
       "    <tr style=\"text-align: right;\">\n",
       "      <th></th>\n",
       "      <th>user_id</th>\n",
       "      <th>title</th>\n",
       "      <th>counts</th>\n",
       "    </tr>\n",
       "  </thead>\n",
       "  <tbody>\n",
       "    <tr>\n",
       "      <th>836473</th>\n",
       "      <td>5851</td>\n",
       "      <td>One Little Indian (1973)</td>\n",
       "      <td>5</td>\n",
       "    </tr>\n",
       "    <tr>\n",
       "      <th>836474</th>\n",
       "      <td>5854</td>\n",
       "      <td>Slaughterhouse (1987)</td>\n",
       "      <td>4</td>\n",
       "    </tr>\n",
       "    <tr>\n",
       "      <th>836475</th>\n",
       "      <td>5854</td>\n",
       "      <td>Promise, The (Versprechen, Das) (1994)</td>\n",
       "      <td>3</td>\n",
       "    </tr>\n",
       "    <tr>\n",
       "      <th>836476</th>\n",
       "      <td>5938</td>\n",
       "      <td>Five Wives, Three Secretaries and Me (1998)</td>\n",
       "      <td>4</td>\n",
       "    </tr>\n",
       "    <tr>\n",
       "      <th>836477</th>\n",
       "      <td>5948</td>\n",
       "      <td>Identification of a Woman (Identificazione di ...</td>\n",
       "      <td>5</td>\n",
       "    </tr>\n",
       "    <tr>\n",
       "      <th>0</th>\n",
       "      <td>Jaewon</td>\n",
       "      <td>Usual Suspects, The (1995)</td>\n",
       "      <td>5</td>\n",
       "    </tr>\n",
       "    <tr>\n",
       "      <th>1</th>\n",
       "      <td>Jaewon</td>\n",
       "      <td>Toy Story (1995)</td>\n",
       "      <td>5</td>\n",
       "    </tr>\n",
       "    <tr>\n",
       "      <th>2</th>\n",
       "      <td>Jaewon</td>\n",
       "      <td>Ghostbusters (1984)</td>\n",
       "      <td>5</td>\n",
       "    </tr>\n",
       "    <tr>\n",
       "      <th>3</th>\n",
       "      <td>Jaewon</td>\n",
       "      <td>Jurassic Park (1993)</td>\n",
       "      <td>5</td>\n",
       "    </tr>\n",
       "    <tr>\n",
       "      <th>4</th>\n",
       "      <td>Jaewon</td>\n",
       "      <td>Back to the Future (1985)</td>\n",
       "      <td>5</td>\n",
       "    </tr>\n",
       "  </tbody>\n",
       "</table>\n",
       "</div>"
      ],
      "text/plain": [
       "       user_id                                              title  counts\n",
       "836473    5851                           One Little Indian (1973)       5\n",
       "836474    5854                              Slaughterhouse (1987)       4\n",
       "836475    5854             Promise, The (Versprechen, Das) (1994)       3\n",
       "836476    5938        Five Wives, Three Secretaries and Me (1998)       4\n",
       "836477    5948  Identification of a Woman (Identificazione di ...       5\n",
       "0       Jaewon                         Usual Suspects, The (1995)       5\n",
       "1       Jaewon                                   Toy Story (1995)       5\n",
       "2       Jaewon                                Ghostbusters (1984)       5\n",
       "3       Jaewon                               Jurassic Park (1993)       5\n",
       "4       Jaewon                          Back to the Future (1985)       5"
      ]
     },
     "execution_count": 13,
     "metadata": {},
     "output_type": "execute_result"
    }
   ],
   "source": [
    "fav_movies = ['Usual Suspects, The (1995)','Toy Story (1995)','Ghostbusters (1984)','Jurassic Park (1993)','Back to the Future (1985)']\n",
    "\n",
    "fav_movielist = pd.DataFrame({'user_id' : ['Jaewon']*5,'title':fav_movies,'counts':[5]*5})\n",
    "\n",
    "if not merged.isin({'user_id':['Jaewon']})['user_id'].any():\n",
    "  merged = merged.append(fav_movielist)\n",
    "\n",
    "merged.tail(10)"
   ]
  },
  {
   "cell_type": "code",
   "execution_count": 14,
   "id": "6be50e0c",
   "metadata": {},
   "outputs": [],
   "source": [
    "user_unique = merged['user_id'].unique()\n",
    "movie_unique = merged['title'].unique()\n",
    "\n",
    "user_to_idx = {v:k for k,v in enumerate(user_unique)}\n",
    "movie_to_idx = {v:k for k,v in enumerate(movie_unique)}"
   ]
  },
  {
   "cell_type": "code",
   "execution_count": 15,
   "id": "d06d353f",
   "metadata": {},
   "outputs": [
    {
     "name": "stdout",
     "output_type": "stream",
     "text": [
      "6039\n",
      "22\n"
     ]
    }
   ],
   "source": [
    "print(user_to_idx['Jaewon'])\n",
    "print(movie_to_idx['Back to the Future (1985)'])"
   ]
  },
  {
   "cell_type": "markdown",
   "id": "17fb6233",
   "metadata": {},
   "source": [
    "#### 3. CSR Matrix 만들기\n",
    "- 숫자로 indexing \n",
    "- csr matrix import 해서 matrix 만들기 "
   ]
  },
  {
   "cell_type": "code",
   "execution_count": 16,
   "id": "9d797cc9",
   "metadata": {},
   "outputs": [
    {
     "name": "stdout",
     "output_type": "stream",
     "text": [
      "user_id column indexing done!\n",
      "title column indexing done!\n"
     ]
    },
    {
     "data": {
      "text/html": [
       "<div>\n",
       "<style scoped>\n",
       "    .dataframe tbody tr th:only-of-type {\n",
       "        vertical-align: middle;\n",
       "    }\n",
       "\n",
       "    .dataframe tbody tr th {\n",
       "        vertical-align: top;\n",
       "    }\n",
       "\n",
       "    .dataframe thead th {\n",
       "        text-align: right;\n",
       "    }\n",
       "</style>\n",
       "<table border=\"1\" class=\"dataframe\">\n",
       "  <thead>\n",
       "    <tr style=\"text-align: right;\">\n",
       "      <th></th>\n",
       "      <th>user_id</th>\n",
       "      <th>title</th>\n",
       "      <th>counts</th>\n",
       "    </tr>\n",
       "  </thead>\n",
       "  <tbody>\n",
       "    <tr>\n",
       "      <th>0</th>\n",
       "      <td>0</td>\n",
       "      <td>0</td>\n",
       "      <td>5</td>\n",
       "    </tr>\n",
       "    <tr>\n",
       "      <th>1</th>\n",
       "      <td>1</td>\n",
       "      <td>0</td>\n",
       "      <td>5</td>\n",
       "    </tr>\n",
       "    <tr>\n",
       "      <th>2</th>\n",
       "      <td>2</td>\n",
       "      <td>0</td>\n",
       "      <td>4</td>\n",
       "    </tr>\n",
       "    <tr>\n",
       "      <th>3</th>\n",
       "      <td>3</td>\n",
       "      <td>0</td>\n",
       "      <td>4</td>\n",
       "    </tr>\n",
       "    <tr>\n",
       "      <th>4</th>\n",
       "      <td>4</td>\n",
       "      <td>0</td>\n",
       "      <td>5</td>\n",
       "    </tr>\n",
       "    <tr>\n",
       "      <th>...</th>\n",
       "      <td>...</td>\n",
       "      <td>...</td>\n",
       "      <td>...</td>\n",
       "    </tr>\n",
       "    <tr>\n",
       "      <th>0</th>\n",
       "      <td>6039</td>\n",
       "      <td>233</td>\n",
       "      <td>5</td>\n",
       "    </tr>\n",
       "    <tr>\n",
       "      <th>1</th>\n",
       "      <td>6039</td>\n",
       "      <td>40</td>\n",
       "      <td>5</td>\n",
       "    </tr>\n",
       "    <tr>\n",
       "      <th>2</th>\n",
       "      <td>6039</td>\n",
       "      <td>243</td>\n",
       "      <td>5</td>\n",
       "    </tr>\n",
       "    <tr>\n",
       "      <th>3</th>\n",
       "      <td>6039</td>\n",
       "      <td>107</td>\n",
       "      <td>5</td>\n",
       "    </tr>\n",
       "    <tr>\n",
       "      <th>4</th>\n",
       "      <td>6039</td>\n",
       "      <td>22</td>\n",
       "      <td>5</td>\n",
       "    </tr>\n",
       "  </tbody>\n",
       "</table>\n",
       "<p>836483 rows × 3 columns</p>\n",
       "</div>"
      ],
      "text/plain": [
       "    user_id  title  counts\n",
       "0         0      0       5\n",
       "1         1      0       5\n",
       "2         2      0       4\n",
       "3         3      0       4\n",
       "4         4      0       5\n",
       "..      ...    ...     ...\n",
       "0      6039    233       5\n",
       "1      6039     40       5\n",
       "2      6039    243       5\n",
       "3      6039    107       5\n",
       "4      6039     22       5\n",
       "\n",
       "[836483 rows x 3 columns]"
      ]
     },
     "execution_count": 16,
     "metadata": {},
     "output_type": "execute_result"
    }
   ],
   "source": [
    "temp_user_data = merged['user_id'].map(user_to_idx.get).dropna()\n",
    "if len(temp_user_data) == len(merged):\n",
    "  print('user_id column indexing done!')\n",
    "  merged['user_id'] = temp_user_data\n",
    "else : \n",
    "  print('user_is column indexing failed!')\n",
    "\n",
    "temp_movie_data = merged['title'].map(movie_to_idx.get).dropna()\n",
    "if len(temp_movie_data) == len(merged):\n",
    "  print('title column indexing done!')\n",
    "  merged['title'] = temp_movie_data\n",
    "else :\n",
    "  print('title column indexing failed!')\n",
    "\n",
    "merged"
   ]
  },
  {
   "cell_type": "code",
   "execution_count": 17,
   "id": "9a0b13f7",
   "metadata": {},
   "outputs": [
    {
     "data": {
      "text/plain": [
       "<6040x3628 sparse matrix of type '<class 'numpy.int64'>'\n",
       "\twith 836483 stored elements in Compressed Sparse Row format>"
      ]
     },
     "execution_count": 17,
     "metadata": {},
     "output_type": "execute_result"
    }
   ],
   "source": [
    "from scipy.sparse import csr_matrix\n",
    "num_user = merged['user_id'].nunique()\n",
    "num_movie = merged['title'].nunique()\n",
    "\n",
    "csr_data = csr_matrix((merged.counts,(merged.user_id,merged.title)),shape=(num_user,num_movie))\n",
    "csr_data"
   ]
  },
  {
   "cell_type": "markdown",
   "id": "24b09fc9",
   "metadata": {},
   "source": [
    "### Train Model \n",
    "#### 1. als(alternating least square) 모델 만들기"
   ]
  },
  {
   "cell_type": "code",
   "execution_count": 18,
   "id": "15965745",
   "metadata": {},
   "outputs": [],
   "source": [
    "from implicit.als import AlternatingLeastSquares\n",
    "import os \n",
    "os.environ['OPENBLABS_NUM_THREADS'] = '1'\n",
    "os.environ['KMP_DUPLICATE_LIB)OK'] = 'True'\n",
    "os.environ['MKL_NUM_THREADS']='1'"
   ]
  },
  {
   "cell_type": "code",
   "execution_count": 19,
   "id": "6b091b41",
   "metadata": {},
   "outputs": [],
   "source": [
    "\n",
    "als_model = AlternatingLeastSquares(factors=100, regularization=0.01, use_gpu=False, iterations=20, dtype=np.float32)"
   ]
  },
  {
   "cell_type": "code",
   "execution_count": 20,
   "id": "7d34972a",
   "metadata": {},
   "outputs": [
    {
     "data": {
      "text/plain": [
       "<3628x6040 sparse matrix of type '<class 'numpy.int64'>'\n",
       "\twith 836483 stored elements in Compressed Sparse Column format>"
      ]
     },
     "execution_count": 20,
     "metadata": {},
     "output_type": "execute_result"
    }
   ],
   "source": [
    "csr_data_transpose = csr_data.T\n",
    "csr_data_transpose"
   ]
  },
  {
   "cell_type": "markdown",
   "id": "de930b3a",
   "metadata": {},
   "source": [
    "#### 2. model 훈련하기 "
   ]
  },
  {
   "cell_type": "code",
   "execution_count": 21,
   "id": "c2d49d09",
   "metadata": {},
   "outputs": [
    {
     "data": {
      "application/vnd.jupyter.widget-view+json": {
       "model_id": "979a348bbc9640508d61d1411b3ac086",
       "version_major": 2,
       "version_minor": 0
      },
      "text/plain": [
       "  0%|          | 0/20 [00:00<?, ?it/s]"
      ]
     },
     "metadata": {},
     "output_type": "display_data"
    }
   ],
   "source": [
    "als_model.fit(csr_data_transpose)"
   ]
  },
  {
   "cell_type": "markdown",
   "id": "5df2c1f6",
   "metadata": {},
   "source": [
    "#### 3. 훈련된 모델이 예측한 나의 선호도 \n",
    "- 선호하는 5 가지 영화중 하나\n",
    "- 새로운 영화"
   ]
  },
  {
   "cell_type": "code",
   "execution_count": 22,
   "id": "dc5191a2",
   "metadata": {},
   "outputs": [],
   "source": [
    "jaewon , back_to_the_future = user_to_idx['Jaewon'],movie_to_idx['Back to the Future (1985)']\n",
    "jaewon_vector , back_to_the_future_vector = als_model.user_factors[jaewon],als_model.item_factors[back_to_the_future] "
   ]
  },
  {
   "cell_type": "code",
   "execution_count": 23,
   "id": "19c4135f",
   "metadata": {},
   "outputs": [
    {
     "data": {
      "text/plain": [
       "array([ 1.0039401 ,  0.15477599,  0.8115068 , -0.05312523,  0.06368515,\n",
       "        0.31912154, -0.21733977, -0.31361791,  0.78007114, -0.48762318,\n",
       "        0.1568063 ,  0.5083266 ,  0.01336254, -0.14063902, -0.55118644,\n",
       "        0.2245064 , -0.29520997,  0.42702883, -0.5916421 , -0.00941172,\n",
       "        0.7875748 ,  0.29752547, -0.09580057,  0.23621115,  0.31500491,\n",
       "        0.2990652 , -0.5361543 ,  0.43162662, -0.31439376,  0.06487536,\n",
       "       -0.21490678,  0.3116193 , -0.32982013,  0.46165133,  0.50567454,\n",
       "       -0.27988636, -0.9332422 ,  0.47494745,  0.5174764 , -0.02913843,\n",
       "        0.63854545, -0.28704312, -0.13979822, -0.67018163, -0.6479481 ,\n",
       "       -0.59460217,  0.35669482,  0.02071229, -0.6233336 ,  0.5618634 ,\n",
       "        0.87823254, -0.74978137, -0.53195506, -0.4214916 ,  0.29653928,\n",
       "        0.20780286, -0.08009017, -0.56844175,  0.03161869,  0.42029092,\n",
       "        0.7911956 , -0.62884146, -1.0259118 , -0.6140199 ,  0.1883449 ,\n",
       "        0.07481588, -0.5637767 , -0.05777462,  0.6807662 , -0.5982107 ,\n",
       "        0.1301481 , -0.5231371 ,  0.0718781 , -0.31366503,  0.21425566,\n",
       "        0.33670422, -0.41772386, -0.54538697, -0.34429264,  0.79125035,\n",
       "        0.33255106,  0.5119633 , -0.5180899 ,  0.51767915,  0.00511948,\n",
       "       -0.66595423,  0.29465333,  0.35626048,  0.20400122, -0.2955855 ,\n",
       "        0.09901845,  0.90265775, -0.11694891,  0.10982209,  0.5966097 ,\n",
       "        0.5414462 , -0.05054533,  0.12657982, -0.27688822, -0.04083344],\n",
       "      dtype=float32)"
      ]
     },
     "execution_count": 23,
     "metadata": {},
     "output_type": "execute_result"
    }
   ],
   "source": [
    "jaewon_vector"
   ]
  },
  {
   "cell_type": "code",
   "execution_count": 24,
   "id": "8e4c626b",
   "metadata": {},
   "outputs": [
    {
     "data": {
      "text/plain": [
       "array([ 0.04758621,  0.0122603 ,  0.01506807,  0.00964897,  0.01927093,\n",
       "        0.02216825,  0.02149219,  0.01494613,  0.03002862, -0.00352669,\n",
       "        0.01439498,  0.01747299,  0.00171465, -0.01200676, -0.02643624,\n",
       "        0.01660401, -0.01265233, -0.02126778, -0.05035632, -0.00248125,\n",
       "        0.03242754,  0.00635158,  0.00986439, -0.01364972,  0.01711367,\n",
       "        0.02874185,  0.00745932,  0.00749963, -0.00029279,  0.01824832,\n",
       "       -0.00825911,  0.0119293 , -0.02774065,  0.02236015,  0.01290641,\n",
       "        0.01972909,  0.01248378,  0.02412734,  0.00962327, -0.01145486,\n",
       "        0.03956484, -0.04121414,  0.01342345,  0.00238173, -0.00519035,\n",
       "        0.00917786,  0.02108221,  0.00266344,  0.01174145,  0.00503183,\n",
       "        0.04831843, -0.01667726, -0.01428853, -0.02398839,  0.01723446,\n",
       "        0.00016732,  0.01137581, -0.03009753,  0.01434244,  0.06763165,\n",
       "        0.01673939, -0.02924855, -0.00626529, -0.00578025,  0.00732535,\n",
       "        0.01130605, -0.00319356,  0.02095054,  0.01593   , -0.0114941 ,\n",
       "        0.02148314, -0.02880152,  0.02263474,  0.01372223, -0.00050676,\n",
       "        0.01429856, -0.00791633,  0.00237071,  0.00552439,  0.04179539,\n",
       "        0.05049384,  0.01720654,  0.017435  ,  0.01812969,  0.01534102,\n",
       "       -0.00846339,  0.0043405 ,  0.03048495,  0.00219928, -0.01052421,\n",
       "        0.03147149,  0.03010061,  0.00546364,  0.01989659,  0.01368813,\n",
       "        0.02018611, -0.03281712,  0.03074044,  0.01019014, -0.01073905],\n",
       "      dtype=float32)"
      ]
     },
     "execution_count": 24,
     "metadata": {},
     "output_type": "execute_result"
    }
   ],
   "source": [
    "back_to_the_future_vector"
   ]
  },
  {
   "cell_type": "code",
   "execution_count": 25,
   "id": "5e075694",
   "metadata": {},
   "outputs": [
    {
     "data": {
      "text/plain": [
       "0.5841144"
      ]
     },
     "execution_count": 25,
     "metadata": {},
     "output_type": "execute_result"
    }
   ],
   "source": [
    "\n",
    "np.dot(jaewon_vector, back_to_the_future_vector)"
   ]
  },
  {
   "cell_type": "code",
   "execution_count": 26,
   "id": "71e4b173",
   "metadata": {},
   "outputs": [
    {
     "data": {
      "text/plain": [
       "0.33695018"
      ]
     },
     "execution_count": 26,
     "metadata": {},
     "output_type": "execute_result"
    }
   ],
   "source": [
    "man_in_black = movie_to_idx['Men in Black (1997)']\n",
    "man_in_black_vector = als_model.item_factors[man_in_black]\n",
    "np.dot(jaewon_vector,man_in_black_vector)"
   ]
  },
  {
   "cell_type": "markdown",
   "id": "a361dae5",
   "metadata": {},
   "source": [
    "#### 4. 내가 좋아하는 영화 와 비슷한 영화 추천 받기"
   ]
  },
  {
   "cell_type": "code",
   "execution_count": 29,
   "id": "0baf88af",
   "metadata": {},
   "outputs": [
    {
     "data": {
      "text/plain": [
       "[(40, 1.0),\n",
       " (50, 0.805633),\n",
       " (322, 0.6440299),\n",
       " (4, 0.59782094),\n",
       " (33, 0.5503109),\n",
       " (110, 0.49356866),\n",
       " (330, 0.45245227),\n",
       " (10, 0.4128165),\n",
       " (20, 0.40009832),\n",
       " (255, 0.39400917),\n",
       " (126, 0.3596125),\n",
       " (160, 0.34530348),\n",
       " (34, 0.323835),\n",
       " (478, 0.3073842),\n",
       " (32, 0.30479684)]"
      ]
     },
     "execution_count": 29,
     "metadata": {},
     "output_type": "execute_result"
    }
   ],
   "source": [
    "favorite_title = 'Toy Story (1995)'\n",
    "title_id = movie_to_idx[favorite_title]\n",
    "similar_title = als_model.similar_items(title_id, N=15)\n",
    "similar_title"
   ]
  },
  {
   "cell_type": "code",
   "execution_count": 31,
   "id": "28b731ec",
   "metadata": {},
   "outputs": [
    {
     "data": {
      "text/plain": [
       "['Toy Story (1995)',\n",
       " 'Toy Story 2 (1999)',\n",
       " 'Babe (1995)',\n",
       " \"Bug's Life, A (1998)\",\n",
       " 'Aladdin (1992)',\n",
       " 'Groundhog Day (1993)',\n",
       " 'Lion King, The (1994)',\n",
       " 'Beauty and the Beast (1991)',\n",
       " 'Pleasantville (1998)',\n",
       " \"There's Something About Mary (1998)\",\n",
       " 'Shakespeare in Love (1998)',\n",
       " 'Forrest Gump (1994)',\n",
       " 'Mulan (1998)',\n",
       " \"Wayne's World (1992)\",\n",
       " 'Hercules (1997)']"
      ]
     },
     "execution_count": 31,
     "metadata": {},
     "output_type": "execute_result"
    }
   ],
   "source": [
    "\n",
    "idx_to_title = {v:k for k,v in movie_to_idx.items()}\n",
    "[idx_to_title[i[0]] for i in similar_title]"
   ]
  },
  {
   "cell_type": "code",
   "execution_count": 32,
   "id": "1654edf6",
   "metadata": {},
   "outputs": [],
   "source": [
    "# 몇 번 더 반복해서 확인하기 위해 위의 코드 함수화\n",
    "def get_similar_title(title_name: str):\n",
    "    title_id = movie_to_idx[title_name]\n",
    "    similar_title = als_model.similar_items(title_id)\n",
    "    similar_title = [idx_to_title[i[0]] for i in similar_title]\n",
    "    return similar_title"
   ]
  },
  {
   "cell_type": "code",
   "execution_count": 33,
   "id": "28bae546",
   "metadata": {},
   "outputs": [
    {
     "data": {
      "text/plain": [
       "['Back to the Future (1985)',\n",
       " \"Ferris Bueller's Day Off (1986)\",\n",
       " 'When Harry Met Sally... (1989)',\n",
       " 'Ghostbusters (1984)',\n",
       " 'Big (1988)',\n",
       " 'Back to the Future Part II (1989)',\n",
       " 'Bull Durham (1988)',\n",
       " 'Fish Called Wanda, A (1988)',\n",
       " 'Star Wars: Episode V - The Empire Strikes Back (1980)',\n",
       " 'Cocoon (1985)']"
      ]
     },
     "execution_count": 33,
     "metadata": {},
     "output_type": "execute_result"
    }
   ],
   "source": [
    "get_similar_title('Back to the Future (1985)')"
   ]
  },
  {
   "cell_type": "code",
   "execution_count": 34,
   "id": "7a848f09",
   "metadata": {},
   "outputs": [
    {
     "data": {
      "text/plain": [
       "['Jurassic Park (1993)',\n",
       " 'Men in Black (1997)',\n",
       " 'Terminator 2: Judgment Day (1991)',\n",
       " 'Total Recall (1990)',\n",
       " 'Matrix, The (1999)',\n",
       " 'Lost World: Jurassic Park, The (1997)',\n",
       " 'Schlafes Bruder (Brother of Sleep) (1995)',\n",
       " 'Braveheart (1995)',\n",
       " 'Fifth Element, The (1997)',\n",
       " 'Independence Day (ID4) (1996)']"
      ]
     },
     "execution_count": 34,
     "metadata": {},
     "output_type": "execute_result"
    }
   ],
   "source": [
    "get_similar_title('Jurassic Park (1993)')"
   ]
  },
  {
   "cell_type": "markdown",
   "id": "20e09b0c",
   "metadata": {},
   "source": [
    "#### 5. 내가 좋아할 만한 영화 추천 받기"
   ]
  },
  {
   "cell_type": "code",
   "execution_count": 36,
   "id": "e2797a72",
   "metadata": {},
   "outputs": [
    {
     "data": {
      "text/plain": [
       "[(38, 0.48053926),\n",
       " (50, 0.4567163),\n",
       " (124, 0.37991336),\n",
       " (92, 0.37378192),\n",
       " (224, 0.35160357),\n",
       " (175, 0.33695018),\n",
       " (4, 0.31004956),\n",
       " (15, 0.30960327),\n",
       " (13, 0.2966922),\n",
       " (110, 0.28251863),\n",
       " (121, 0.27358285),\n",
       " (5, 0.2646121),\n",
       " (51, 0.26310164),\n",
       " (201, 0.2587632),\n",
       " (160, 0.25363958),\n",
       " (19, 0.25144356),\n",
       " (488, 0.24932365),\n",
       " (126, 0.2435907),\n",
       " (169, 0.23674837),\n",
       " (99, 0.23549685)]"
      ]
     },
     "execution_count": 36,
     "metadata": {},
     "output_type": "execute_result"
    }
   ],
   "source": [
    "user = user_to_idx['Jaewon']\n",
    "# recommend에서는 user*item CSR Matrix를 받습니다.\n",
    "movie_recommended = als_model.recommend(user, csr_data, N=20, filter_already_liked_items=True)\n",
    "movie_recommended"
   ]
  },
  {
   "cell_type": "code",
   "execution_count": 37,
   "id": "b667d870",
   "metadata": {},
   "outputs": [
    {
     "data": {
      "text/plain": [
       "['Sixth Sense, The (1999)',\n",
       " 'Toy Story 2 (1999)',\n",
       " 'Matrix, The (1999)',\n",
       " 'Terminator 2: Judgment Day (1991)',\n",
       " 'L.A. Confidential (1997)',\n",
       " 'Men in Black (1997)',\n",
       " \"Bug's Life, A (1998)\",\n",
       " 'Airplane! (1980)',\n",
       " \"Ferris Bueller's Day Off (1986)\",\n",
       " 'Groundhog Day (1993)',\n",
       " 'Silence of the Lambs, The (1991)',\n",
       " 'Princess Bride, The (1987)',\n",
       " 'Fargo (1996)',\n",
       " 'Who Framed Roger Rabbit? (1988)',\n",
       " 'Forrest Gump (1994)',\n",
       " 'Big (1988)',\n",
       " 'When Harry Met Sally... (1989)',\n",
       " 'Shakespeare in Love (1998)',\n",
       " 'Fish Called Wanda, A (1988)',\n",
       " 'American Beauty (1999)']"
      ]
     },
     "execution_count": 37,
     "metadata": {},
     "output_type": "execute_result"
    }
   ],
   "source": [
    "[idx_to_title[i[0]] for i in movie_recommended]"
   ]
  },
  {
   "cell_type": "code",
   "execution_count": 40,
   "id": "217292c3",
   "metadata": {},
   "outputs": [],
   "source": [
    "toy_story = movie_to_idx['Toy Story (1995)']\n",
    "explain = als_model.explain(user, csr_data, itemid=toy_story)"
   ]
  },
  {
   "cell_type": "code",
   "execution_count": 41,
   "id": "0134a967",
   "metadata": {},
   "outputs": [
    {
     "data": {
      "text/plain": [
       "[('Toy Story (1995)', 0.42294844277524163),\n",
       " ('Back to the Future (1985)', 0.03952927358861908),\n",
       " ('Ghostbusters (1984)', 0.019123383438083143),\n",
       " ('Usual Suspects, The (1995)', 0.007162553006364999),\n",
       " ('Jurassic Park (1993)', -0.028203235941336113)]"
      ]
     },
     "execution_count": 41,
     "metadata": {},
     "output_type": "execute_result"
    }
   ],
   "source": [
    "# 이 추천에 기여한 기여도\n",
    "[(idx_to_title[i[0]], i[1]) for i in explain[1]]"
   ]
  }
 ],
 "metadata": {
  "kernelspec": {
   "display_name": "Python 3 (ipykernel)",
   "language": "python",
   "name": "python3"
  },
  "language_info": {
   "codemirror_mode": {
    "name": "ipython",
    "version": 3
   },
   "file_extension": ".py",
   "mimetype": "text/x-python",
   "name": "python",
   "nbconvert_exporter": "python",
   "pygments_lexer": "ipython3",
   "version": "3.9.7"
  }
 },
 "nbformat": 4,
 "nbformat_minor": 5
}
