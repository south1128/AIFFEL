{
  "nbformat": 4,
  "nbformat_minor": 0,
  "metadata": {
    "colab": {
      "name": "TextSummarization.ipynb",
      "provenance": [],
      "collapsed_sections": []
    },
    "kernelspec": {
      "name": "python3",
      "display_name": "Python 3"
    },
    "language_info": {
      "name": "python"
    },
    "accelerator": "GPU",
    "widgets": {
      "application/vnd.jupyter.widget-state+json": {
        "23731ad2c3b24d0092c6dd37aff39198": {
          "model_module": "@jupyter-widgets/controls",
          "model_name": "HBoxModel",
          "model_module_version": "1.5.0",
          "state": {
            "_view_name": "HBoxView",
            "_dom_classes": [],
            "_model_name": "HBoxModel",
            "_view_module": "@jupyter-widgets/controls",
            "_model_module_version": "1.5.0",
            "_view_count": null,
            "_view_module_version": "1.5.0",
            "box_style": "",
            "layout": "IPY_MODEL_2af3830588ab42c7b9373885e4964a26",
            "_model_module": "@jupyter-widgets/controls",
            "children": [
              "IPY_MODEL_60d8b03340ef43a093977f2ce2b23d28",
              "IPY_MODEL_fa8baeb7d73a43019517d184532a17bf",
              "IPY_MODEL_957dc118847f449cbdfe97b0a6b76b44"
            ]
          }
        },
        "2af3830588ab42c7b9373885e4964a26": {
          "model_module": "@jupyter-widgets/base",
          "model_name": "LayoutModel",
          "model_module_version": "1.2.0",
          "state": {
            "_view_name": "LayoutView",
            "grid_template_rows": null,
            "right": null,
            "justify_content": null,
            "_view_module": "@jupyter-widgets/base",
            "overflow": null,
            "_model_module_version": "1.2.0",
            "_view_count": null,
            "flex_flow": null,
            "width": null,
            "min_width": null,
            "border": null,
            "align_items": null,
            "bottom": null,
            "_model_module": "@jupyter-widgets/base",
            "top": null,
            "grid_column": null,
            "overflow_y": null,
            "overflow_x": null,
            "grid_auto_flow": null,
            "grid_area": null,
            "grid_template_columns": null,
            "flex": null,
            "_model_name": "LayoutModel",
            "justify_items": null,
            "grid_row": null,
            "max_height": null,
            "align_content": null,
            "visibility": null,
            "align_self": null,
            "height": null,
            "min_height": null,
            "padding": null,
            "grid_auto_rows": null,
            "grid_gap": null,
            "max_width": null,
            "order": null,
            "_view_module_version": "1.2.0",
            "grid_template_areas": null,
            "object_position": null,
            "object_fit": null,
            "grid_auto_columns": null,
            "margin": null,
            "display": null,
            "left": null
          }
        },
        "60d8b03340ef43a093977f2ce2b23d28": {
          "model_module": "@jupyter-widgets/controls",
          "model_name": "HTMLModel",
          "model_module_version": "1.5.0",
          "state": {
            "_view_name": "HTMLView",
            "style": "IPY_MODEL_d86fca084594480da03712a926e7d27d",
            "_dom_classes": [],
            "description": "",
            "_model_name": "HTMLModel",
            "placeholder": "​",
            "_view_module": "@jupyter-widgets/controls",
            "_model_module_version": "1.5.0",
            "value": "100%",
            "_view_count": null,
            "_view_module_version": "1.5.0",
            "description_tooltip": null,
            "_model_module": "@jupyter-widgets/controls",
            "layout": "IPY_MODEL_18b4892dea384fefa0955e7549d49cfc"
          }
        },
        "fa8baeb7d73a43019517d184532a17bf": {
          "model_module": "@jupyter-widgets/controls",
          "model_name": "FloatProgressModel",
          "model_module_version": "1.5.0",
          "state": {
            "_view_name": "ProgressView",
            "style": "IPY_MODEL_3a36f1f0dc9e4c93be41818a5f2fd29f",
            "_dom_classes": [],
            "description": "",
            "_model_name": "FloatProgressModel",
            "bar_style": "success",
            "max": 88425,
            "_view_module": "@jupyter-widgets/controls",
            "_model_module_version": "1.5.0",
            "value": 88425,
            "_view_count": null,
            "_view_module_version": "1.5.0",
            "orientation": "horizontal",
            "min": 0,
            "description_tooltip": null,
            "_model_module": "@jupyter-widgets/controls",
            "layout": "IPY_MODEL_283cedeaf68e4a6c8eef447cd6e6f304"
          }
        },
        "957dc118847f449cbdfe97b0a6b76b44": {
          "model_module": "@jupyter-widgets/controls",
          "model_name": "HTMLModel",
          "model_module_version": "1.5.0",
          "state": {
            "_view_name": "HTMLView",
            "style": "IPY_MODEL_c75d4746450240b6b60f5e6dd2533c7d",
            "_dom_classes": [],
            "description": "",
            "_model_name": "HTMLModel",
            "placeholder": "​",
            "_view_module": "@jupyter-widgets/controls",
            "_model_module_version": "1.5.0",
            "value": " 88425/88425 [13:10&lt;00:00, 111.60it/s]",
            "_view_count": null,
            "_view_module_version": "1.5.0",
            "description_tooltip": null,
            "_model_module": "@jupyter-widgets/controls",
            "layout": "IPY_MODEL_b02be238ce8843f68196a254e58e4b5c"
          }
        },
        "d86fca084594480da03712a926e7d27d": {
          "model_module": "@jupyter-widgets/controls",
          "model_name": "DescriptionStyleModel",
          "model_module_version": "1.5.0",
          "state": {
            "_view_name": "StyleView",
            "_model_name": "DescriptionStyleModel",
            "description_width": "",
            "_view_module": "@jupyter-widgets/base",
            "_model_module_version": "1.5.0",
            "_view_count": null,
            "_view_module_version": "1.2.0",
            "_model_module": "@jupyter-widgets/controls"
          }
        },
        "18b4892dea384fefa0955e7549d49cfc": {
          "model_module": "@jupyter-widgets/base",
          "model_name": "LayoutModel",
          "model_module_version": "1.2.0",
          "state": {
            "_view_name": "LayoutView",
            "grid_template_rows": null,
            "right": null,
            "justify_content": null,
            "_view_module": "@jupyter-widgets/base",
            "overflow": null,
            "_model_module_version": "1.2.0",
            "_view_count": null,
            "flex_flow": null,
            "width": null,
            "min_width": null,
            "border": null,
            "align_items": null,
            "bottom": null,
            "_model_module": "@jupyter-widgets/base",
            "top": null,
            "grid_column": null,
            "overflow_y": null,
            "overflow_x": null,
            "grid_auto_flow": null,
            "grid_area": null,
            "grid_template_columns": null,
            "flex": null,
            "_model_name": "LayoutModel",
            "justify_items": null,
            "grid_row": null,
            "max_height": null,
            "align_content": null,
            "visibility": null,
            "align_self": null,
            "height": null,
            "min_height": null,
            "padding": null,
            "grid_auto_rows": null,
            "grid_gap": null,
            "max_width": null,
            "order": null,
            "_view_module_version": "1.2.0",
            "grid_template_areas": null,
            "object_position": null,
            "object_fit": null,
            "grid_auto_columns": null,
            "margin": null,
            "display": null,
            "left": null
          }
        },
        "3a36f1f0dc9e4c93be41818a5f2fd29f": {
          "model_module": "@jupyter-widgets/controls",
          "model_name": "ProgressStyleModel",
          "model_module_version": "1.5.0",
          "state": {
            "_view_name": "StyleView",
            "_model_name": "ProgressStyleModel",
            "description_width": "",
            "_view_module": "@jupyter-widgets/base",
            "_model_module_version": "1.5.0",
            "_view_count": null,
            "_view_module_version": "1.2.0",
            "bar_color": null,
            "_model_module": "@jupyter-widgets/controls"
          }
        },
        "283cedeaf68e4a6c8eef447cd6e6f304": {
          "model_module": "@jupyter-widgets/base",
          "model_name": "LayoutModel",
          "model_module_version": "1.2.0",
          "state": {
            "_view_name": "LayoutView",
            "grid_template_rows": null,
            "right": null,
            "justify_content": null,
            "_view_module": "@jupyter-widgets/base",
            "overflow": null,
            "_model_module_version": "1.2.0",
            "_view_count": null,
            "flex_flow": null,
            "width": null,
            "min_width": null,
            "border": null,
            "align_items": null,
            "bottom": null,
            "_model_module": "@jupyter-widgets/base",
            "top": null,
            "grid_column": null,
            "overflow_y": null,
            "overflow_x": null,
            "grid_auto_flow": null,
            "grid_area": null,
            "grid_template_columns": null,
            "flex": null,
            "_model_name": "LayoutModel",
            "justify_items": null,
            "grid_row": null,
            "max_height": null,
            "align_content": null,
            "visibility": null,
            "align_self": null,
            "height": null,
            "min_height": null,
            "padding": null,
            "grid_auto_rows": null,
            "grid_gap": null,
            "max_width": null,
            "order": null,
            "_view_module_version": "1.2.0",
            "grid_template_areas": null,
            "object_position": null,
            "object_fit": null,
            "grid_auto_columns": null,
            "margin": null,
            "display": null,
            "left": null
          }
        },
        "c75d4746450240b6b60f5e6dd2533c7d": {
          "model_module": "@jupyter-widgets/controls",
          "model_name": "DescriptionStyleModel",
          "model_module_version": "1.5.0",
          "state": {
            "_view_name": "StyleView",
            "_model_name": "DescriptionStyleModel",
            "description_width": "",
            "_view_module": "@jupyter-widgets/base",
            "_model_module_version": "1.5.0",
            "_view_count": null,
            "_view_module_version": "1.2.0",
            "_model_module": "@jupyter-widgets/controls"
          }
        },
        "b02be238ce8843f68196a254e58e4b5c": {
          "model_module": "@jupyter-widgets/base",
          "model_name": "LayoutModel",
          "model_module_version": "1.2.0",
          "state": {
            "_view_name": "LayoutView",
            "grid_template_rows": null,
            "right": null,
            "justify_content": null,
            "_view_module": "@jupyter-widgets/base",
            "overflow": null,
            "_model_module_version": "1.2.0",
            "_view_count": null,
            "flex_flow": null,
            "width": null,
            "min_width": null,
            "border": null,
            "align_items": null,
            "bottom": null,
            "_model_module": "@jupyter-widgets/base",
            "top": null,
            "grid_column": null,
            "overflow_y": null,
            "overflow_x": null,
            "grid_auto_flow": null,
            "grid_area": null,
            "grid_template_columns": null,
            "flex": null,
            "_model_name": "LayoutModel",
            "justify_items": null,
            "grid_row": null,
            "max_height": null,
            "align_content": null,
            "visibility": null,
            "align_self": null,
            "height": null,
            "min_height": null,
            "padding": null,
            "grid_auto_rows": null,
            "grid_gap": null,
            "max_width": null,
            "order": null,
            "_view_module_version": "1.2.0",
            "grid_template_areas": null,
            "object_position": null,
            "object_fit": null,
            "grid_auto_columns": null,
            "margin": null,
            "display": null,
            "left": null
          }
        },
        "ec4cc439f30f4da9a5bd0e9e3ffab667": {
          "model_module": "@jupyter-widgets/controls",
          "model_name": "HBoxModel",
          "model_module_version": "1.5.0",
          "state": {
            "_view_name": "HBoxView",
            "_dom_classes": [],
            "_model_name": "HBoxModel",
            "_view_module": "@jupyter-widgets/controls",
            "_model_module_version": "1.5.0",
            "_view_count": null,
            "_view_module_version": "1.5.0",
            "box_style": "",
            "layout": "IPY_MODEL_43575ccea23447708decdbdd21f4eead",
            "_model_module": "@jupyter-widgets/controls",
            "children": [
              "IPY_MODEL_78e24b3e40474e73970a68e0ecfeb792",
              "IPY_MODEL_4f2796c4fcc441b78d8253387bd7b5bf",
              "IPY_MODEL_f71981fd7f23412286ee23ea9f58112e"
            ]
          }
        },
        "43575ccea23447708decdbdd21f4eead": {
          "model_module": "@jupyter-widgets/base",
          "model_name": "LayoutModel",
          "model_module_version": "1.2.0",
          "state": {
            "_view_name": "LayoutView",
            "grid_template_rows": null,
            "right": null,
            "justify_content": null,
            "_view_module": "@jupyter-widgets/base",
            "overflow": null,
            "_model_module_version": "1.2.0",
            "_view_count": null,
            "flex_flow": null,
            "width": null,
            "min_width": null,
            "border": null,
            "align_items": null,
            "bottom": null,
            "_model_module": "@jupyter-widgets/base",
            "top": null,
            "grid_column": null,
            "overflow_y": null,
            "overflow_x": null,
            "grid_auto_flow": null,
            "grid_area": null,
            "grid_template_columns": null,
            "flex": null,
            "_model_name": "LayoutModel",
            "justify_items": null,
            "grid_row": null,
            "max_height": null,
            "align_content": null,
            "visibility": null,
            "align_self": null,
            "height": null,
            "min_height": null,
            "padding": null,
            "grid_auto_rows": null,
            "grid_gap": null,
            "max_width": null,
            "order": null,
            "_view_module_version": "1.2.0",
            "grid_template_areas": null,
            "object_position": null,
            "object_fit": null,
            "grid_auto_columns": null,
            "margin": null,
            "display": null,
            "left": null
          }
        },
        "78e24b3e40474e73970a68e0ecfeb792": {
          "model_module": "@jupyter-widgets/controls",
          "model_name": "HTMLModel",
          "model_module_version": "1.5.0",
          "state": {
            "_view_name": "HTMLView",
            "style": "IPY_MODEL_f5eaa7c2e3e247b7959b6be56ef19412",
            "_dom_classes": [],
            "description": "",
            "_model_name": "HTMLModel",
            "placeholder": "​",
            "_view_module": "@jupyter-widgets/controls",
            "_model_module_version": "1.5.0",
            "value": "100%",
            "_view_count": null,
            "_view_module_version": "1.5.0",
            "description_tooltip": null,
            "_model_module": "@jupyter-widgets/controls",
            "layout": "IPY_MODEL_0f747cefe19144ba9ef7697d55b04b3d"
          }
        },
        "4f2796c4fcc441b78d8253387bd7b5bf": {
          "model_module": "@jupyter-widgets/controls",
          "model_name": "FloatProgressModel",
          "model_module_version": "1.5.0",
          "state": {
            "_view_name": "ProgressView",
            "style": "IPY_MODEL_c30b21f034de4e349bfc3f4ee11a61db",
            "_dom_classes": [],
            "description": "",
            "_model_name": "FloatProgressModel",
            "bar_style": "success",
            "max": 88425,
            "_view_module": "@jupyter-widgets/controls",
            "_model_module_version": "1.5.0",
            "value": 88425,
            "_view_count": null,
            "_view_module_version": "1.5.0",
            "orientation": "horizontal",
            "min": 0,
            "description_tooltip": null,
            "_model_module": "@jupyter-widgets/controls",
            "layout": "IPY_MODEL_d339eb21b60f4e8b85e0b4ffaece1f0f"
          }
        },
        "f71981fd7f23412286ee23ea9f58112e": {
          "model_module": "@jupyter-widgets/controls",
          "model_name": "HTMLModel",
          "model_module_version": "1.5.0",
          "state": {
            "_view_name": "HTMLView",
            "style": "IPY_MODEL_c25b461a4e7249bf91bb814e14134348",
            "_dom_classes": [],
            "description": "",
            "_model_name": "HTMLModel",
            "placeholder": "​",
            "_view_module": "@jupyter-widgets/controls",
            "_model_module_version": "1.5.0",
            "value": " 88425/88425 [00:17&lt;00:00, 5165.17it/s]",
            "_view_count": null,
            "_view_module_version": "1.5.0",
            "description_tooltip": null,
            "_model_module": "@jupyter-widgets/controls",
            "layout": "IPY_MODEL_27245713e3df4fa0bfaf88327e90c1ca"
          }
        },
        "f5eaa7c2e3e247b7959b6be56ef19412": {
          "model_module": "@jupyter-widgets/controls",
          "model_name": "DescriptionStyleModel",
          "model_module_version": "1.5.0",
          "state": {
            "_view_name": "StyleView",
            "_model_name": "DescriptionStyleModel",
            "description_width": "",
            "_view_module": "@jupyter-widgets/base",
            "_model_module_version": "1.5.0",
            "_view_count": null,
            "_view_module_version": "1.2.0",
            "_model_module": "@jupyter-widgets/controls"
          }
        },
        "0f747cefe19144ba9ef7697d55b04b3d": {
          "model_module": "@jupyter-widgets/base",
          "model_name": "LayoutModel",
          "model_module_version": "1.2.0",
          "state": {
            "_view_name": "LayoutView",
            "grid_template_rows": null,
            "right": null,
            "justify_content": null,
            "_view_module": "@jupyter-widgets/base",
            "overflow": null,
            "_model_module_version": "1.2.0",
            "_view_count": null,
            "flex_flow": null,
            "width": null,
            "min_width": null,
            "border": null,
            "align_items": null,
            "bottom": null,
            "_model_module": "@jupyter-widgets/base",
            "top": null,
            "grid_column": null,
            "overflow_y": null,
            "overflow_x": null,
            "grid_auto_flow": null,
            "grid_area": null,
            "grid_template_columns": null,
            "flex": null,
            "_model_name": "LayoutModel",
            "justify_items": null,
            "grid_row": null,
            "max_height": null,
            "align_content": null,
            "visibility": null,
            "align_self": null,
            "height": null,
            "min_height": null,
            "padding": null,
            "grid_auto_rows": null,
            "grid_gap": null,
            "max_width": null,
            "order": null,
            "_view_module_version": "1.2.0",
            "grid_template_areas": null,
            "object_position": null,
            "object_fit": null,
            "grid_auto_columns": null,
            "margin": null,
            "display": null,
            "left": null
          }
        },
        "c30b21f034de4e349bfc3f4ee11a61db": {
          "model_module": "@jupyter-widgets/controls",
          "model_name": "ProgressStyleModel",
          "model_module_version": "1.5.0",
          "state": {
            "_view_name": "StyleView",
            "_model_name": "ProgressStyleModel",
            "description_width": "",
            "_view_module": "@jupyter-widgets/base",
            "_model_module_version": "1.5.0",
            "_view_count": null,
            "_view_module_version": "1.2.0",
            "bar_color": null,
            "_model_module": "@jupyter-widgets/controls"
          }
        },
        "d339eb21b60f4e8b85e0b4ffaece1f0f": {
          "model_module": "@jupyter-widgets/base",
          "model_name": "LayoutModel",
          "model_module_version": "1.2.0",
          "state": {
            "_view_name": "LayoutView",
            "grid_template_rows": null,
            "right": null,
            "justify_content": null,
            "_view_module": "@jupyter-widgets/base",
            "overflow": null,
            "_model_module_version": "1.2.0",
            "_view_count": null,
            "flex_flow": null,
            "width": null,
            "min_width": null,
            "border": null,
            "align_items": null,
            "bottom": null,
            "_model_module": "@jupyter-widgets/base",
            "top": null,
            "grid_column": null,
            "overflow_y": null,
            "overflow_x": null,
            "grid_auto_flow": null,
            "grid_area": null,
            "grid_template_columns": null,
            "flex": null,
            "_model_name": "LayoutModel",
            "justify_items": null,
            "grid_row": null,
            "max_height": null,
            "align_content": null,
            "visibility": null,
            "align_self": null,
            "height": null,
            "min_height": null,
            "padding": null,
            "grid_auto_rows": null,
            "grid_gap": null,
            "max_width": null,
            "order": null,
            "_view_module_version": "1.2.0",
            "grid_template_areas": null,
            "object_position": null,
            "object_fit": null,
            "grid_auto_columns": null,
            "margin": null,
            "display": null,
            "left": null
          }
        },
        "c25b461a4e7249bf91bb814e14134348": {
          "model_module": "@jupyter-widgets/controls",
          "model_name": "DescriptionStyleModel",
          "model_module_version": "1.5.0",
          "state": {
            "_view_name": "StyleView",
            "_model_name": "DescriptionStyleModel",
            "description_width": "",
            "_view_module": "@jupyter-widgets/base",
            "_model_module_version": "1.5.0",
            "_view_count": null,
            "_view_module_version": "1.2.0",
            "_model_module": "@jupyter-widgets/controls"
          }
        },
        "27245713e3df4fa0bfaf88327e90c1ca": {
          "model_module": "@jupyter-widgets/base",
          "model_name": "LayoutModel",
          "model_module_version": "1.2.0",
          "state": {
            "_view_name": "LayoutView",
            "grid_template_rows": null,
            "right": null,
            "justify_content": null,
            "_view_module": "@jupyter-widgets/base",
            "overflow": null,
            "_model_module_version": "1.2.0",
            "_view_count": null,
            "flex_flow": null,
            "width": null,
            "min_width": null,
            "border": null,
            "align_items": null,
            "bottom": null,
            "_model_module": "@jupyter-widgets/base",
            "top": null,
            "grid_column": null,
            "overflow_y": null,
            "overflow_x": null,
            "grid_auto_flow": null,
            "grid_area": null,
            "grid_template_columns": null,
            "flex": null,
            "_model_name": "LayoutModel",
            "justify_items": null,
            "grid_row": null,
            "max_height": null,
            "align_content": null,
            "visibility": null,
            "align_self": null,
            "height": null,
            "min_height": null,
            "padding": null,
            "grid_auto_rows": null,
            "grid_gap": null,
            "max_width": null,
            "order": null,
            "_view_module_version": "1.2.0",
            "grid_template_areas": null,
            "object_position": null,
            "object_fit": null,
            "grid_auto_columns": null,
            "margin": null,
            "display": null,
            "left": null
          }
        }
      }
    }
  },
  "cells": [
    {
      "cell_type": "markdown",
      "source": [
        "## Text Summarization\n",
        "긴 길이의 문서(document)원문을 핵심 주제만으로 구성된 짧은 요양(summary)문장으로 변환<br>\n",
        "요약 전후에 정보 손실의 발생이 최소화 되어야 함\n",
        "\n",
        "- Extractive Summarization :\n",
        "  - document 에서 문장들을 추출해서 요약하는 방식\n",
        "  - 추출한 문장들 간의 호응을 자연스럽게 하기 위해 TexkRank 알고리즘 사용\n",
        "  - 문장분류 (Text Classification) 영역\n",
        "\n",
        "- Abstractive Summarization :\n",
        "  - 원문으로 부터 내용이 요약된 새로운 문장을 생성\n",
        "  - 자연어 생성(Natural Language Generation, NGL) 영역\n",
        "\n"
      ],
      "metadata": {
        "id": "eHPhBh0MUUrU"
      }
    },
    {
      "cell_type": "markdown",
      "source": [
        "### Using seq2seq for Abstractive Summarization\n",
        "seq2seq 은 두개의 RNN 아키텍쳐를 사용해 입력 시퀀스로부터 출력 시퀀스를 생성해 내는 자연어 생성 모델 \n"
      ],
      "metadata": {
        "id": "Tp-Ve2cpUUt8"
      }
    },
    {
      "cell_type": "markdown",
      "source": [
        "![스크린샷 2022-01-27 오전 11.55.12.png](data:image/png;base64,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)"
      ],
      "metadata": {
        "id": "BAs7erHPdTPy"
      }
    },
    {
      "cell_type": "markdown",
      "source": [
        ">- 원문을 첫번째 RNN 인코더로 입력하면 인코더는 이를하나의 고정된 벡터로 변환<br>\n",
        "- 이 벡터는 문맥정보를 가지고 있어서 context vector 로 불림 \n",
        "- 두번째 RNN 디코더로 이 context vector 를 전달 받아 한 단어씩 생성해내서 요약문장을 완성 "
      ],
      "metadata": {
        "id": "0J9AF0OXdZ4O"
      }
    },
    {
      "cell_type": "markdown",
      "source": [
        "#### LSTM and Context Vector\n",
        "seq2seq 구현시 vanila RNN 이 아닌 LSTM을 사용 \n",
        "\n",
        "- LSTM 은 time step 의 셀에 hidden state 뿐 아니라 cell state 도 함께 전달한다<br>\n",
        "= 인코더와 디코더가 전달하는 context vector 또한 hidden state 와 cell state 두값 모두 가져야 함 "
      ],
      "metadata": {
        "id": "_eSsz7r_d3iN"
      }
    },
    {
      "cell_type": "markdown",
      "source": [
        "#### SOS and EOS\n",
        "seq2seq 구조에서 훈련 데이터의 예측 대상 시퀀스의 앞 과 뒤에 시작토큰과 종료토큰을 넣어주는 전처리를 통해 언제 시작하고 끝내는지 알려줌 "
      ],
      "metadata": {
        "id": "-OLgg981eafH"
      }
    },
    {
      "cell_type": "markdown",
      "source": [
        "#### Attention Mechanism\n",
        "- 인코더의 모든 step 의 hidden state 정보가 context vector 에 전부 반영되도록 하는 메커니즘\n",
        "- 모든 hidden state 가 동일한 비중으로 반영되는 것이 아닌 디코더의 현재 time step 에 따라 그 가중치가 계속 달라짐"
      ],
      "metadata": {
        "id": "FRasyb2EeXRV"
      }
    },
    {
      "cell_type": "markdown",
      "source": [
        "#### Entire Process \n",
        "1. seq2seq를 사용\n",
        "2. RNN 계열 중 LSTM을 사용하므로 hidden state뿐만 아니라 cell state도 사용해야 함\n",
        "3. 디코더의 예측 시퀀스에는 시작 토큰 SOS와 예측 토큰 EOS를 시퀀스의 앞, 뒤로 붙입니다.\n",
        "seq2seq를 구동시키면 디코더는 시작 토큰을 입력받아 예측을 시작\n",
        "4. seq2seq 기본 모델과 달리, 어텐션 메커니즘을 이용해 인코더의 hidden state의 중요도를 취합한 컨텍스트 벡터를 디코더 스텝별로 계산\n",
        "6. 계산된 컨텍스트 벡터를 이용해서 디코더는 다음 등장할 단어를 예측"
      ],
      "metadata": {
        "id": "_HWvUGOIfrJk"
      }
    },
    {
      "cell_type": "markdown",
      "source": [
        "#### *1. Load Data*"
      ],
      "metadata": {
        "id": "UUm3u_Cxgwz8"
      }
    },
    {
      "cell_type": "code",
      "source": [
        "import nltk\n",
        "nltk.download('stopwords')\n",
        "\n",
        "import numpy as np\n",
        "import pandas as pd\n",
        "import os\n",
        "import re\n",
        "import matplotlib.pyplot as plt\n",
        "from nltk.corpus import stopwords\n",
        "from bs4 import BeautifulSoup\n",
        "from tensorflow.keras.preprocessing.text import Tokenizer\n",
        "from tensorflow.keras.preprocessing.sequence import pad_sequences\n",
        "import urllib.request\n",
        "import warnings\n",
        "warnings.filterwarnings('ignore',category=UserWarning,module='bs4')"
      ],
      "metadata": {
        "colab": {
          "base_uri": "https://localhost:8080/"
        },
        "id": "TqNZEV-if-Ud",
        "outputId": "d2bc0783-2032-4028-f250-49bfbd43ab6a"
      },
      "execution_count": 2,
      "outputs": [
        {
          "output_type": "stream",
          "name": "stdout",
          "text": [
            "[nltk_data] Downloading package stopwords to /root/nltk_data...\n",
            "[nltk_data]   Unzipping corpora/stopwords.zip.\n"
          ]
        }
      ]
    },
    {
      "cell_type": "code",
      "source": [
        "data = pd.read_csv('/content/drive/MyDrive/data/Reviews.csv',nrows=100000)\n",
        "print('전체 샘플 수:',(len(data)))"
      ],
      "metadata": {
        "colab": {
          "base_uri": "https://localhost:8080/"
        },
        "id": "GYhHMUWXhvb7",
        "outputId": "fedb5c1c-d1d5-4d7a-92b9-bc7df879563f"
      },
      "execution_count": 3,
      "outputs": [
        {
          "output_type": "stream",
          "name": "stdout",
          "text": [
            "전체 샘플 수: 100000\n"
          ]
        }
      ]
    },
    {
      "cell_type": "code",
      "source": [
        "data.head()"
      ],
      "metadata": {
        "colab": {
          "base_uri": "https://localhost:8080/",
          "height": 337
        },
        "id": "AynF12xNhvZd",
        "outputId": "8dd0b676-e06f-422a-c6f7-0762829bff17"
      },
      "execution_count": 4,
      "outputs": [
        {
          "output_type": "execute_result",
          "data": {
            "text/html": [
              "\n",
              "  <div id=\"df-b4d532e6-2db7-4da0-9b67-e43e11f9affa\">\n",
              "    <div class=\"colab-df-container\">\n",
              "      <div>\n",
              "<style scoped>\n",
              "    .dataframe tbody tr th:only-of-type {\n",
              "        vertical-align: middle;\n",
              "    }\n",
              "\n",
              "    .dataframe tbody tr th {\n",
              "        vertical-align: top;\n",
              "    }\n",
              "\n",
              "    .dataframe thead th {\n",
              "        text-align: right;\n",
              "    }\n",
              "</style>\n",
              "<table border=\"1\" class=\"dataframe\">\n",
              "  <thead>\n",
              "    <tr style=\"text-align: right;\">\n",
              "      <th></th>\n",
              "      <th>Id</th>\n",
              "      <th>ProductId</th>\n",
              "      <th>UserId</th>\n",
              "      <th>ProfileName</th>\n",
              "      <th>HelpfulnessNumerator</th>\n",
              "      <th>HelpfulnessDenominator</th>\n",
              "      <th>Score</th>\n",
              "      <th>Time</th>\n",
              "      <th>Summary</th>\n",
              "      <th>Text</th>\n",
              "    </tr>\n",
              "  </thead>\n",
              "  <tbody>\n",
              "    <tr>\n",
              "      <th>0</th>\n",
              "      <td>1</td>\n",
              "      <td>B001E4KFG0</td>\n",
              "      <td>A3SGXH7AUHU8GW</td>\n",
              "      <td>delmartian</td>\n",
              "      <td>1</td>\n",
              "      <td>1</td>\n",
              "      <td>5</td>\n",
              "      <td>1303862400</td>\n",
              "      <td>Good Quality Dog Food</td>\n",
              "      <td>I have bought several of the Vitality canned d...</td>\n",
              "    </tr>\n",
              "    <tr>\n",
              "      <th>1</th>\n",
              "      <td>2</td>\n",
              "      <td>B00813GRG4</td>\n",
              "      <td>A1D87F6ZCVE5NK</td>\n",
              "      <td>dll pa</td>\n",
              "      <td>0</td>\n",
              "      <td>0</td>\n",
              "      <td>1</td>\n",
              "      <td>1346976000</td>\n",
              "      <td>Not as Advertised</td>\n",
              "      <td>Product arrived labeled as Jumbo Salted Peanut...</td>\n",
              "    </tr>\n",
              "    <tr>\n",
              "      <th>2</th>\n",
              "      <td>3</td>\n",
              "      <td>B000LQOCH0</td>\n",
              "      <td>ABXLMWJIXXAIN</td>\n",
              "      <td>Natalia Corres \"Natalia Corres\"</td>\n",
              "      <td>1</td>\n",
              "      <td>1</td>\n",
              "      <td>4</td>\n",
              "      <td>1219017600</td>\n",
              "      <td>\"Delight\" says it all</td>\n",
              "      <td>This is a confection that has been around a fe...</td>\n",
              "    </tr>\n",
              "    <tr>\n",
              "      <th>3</th>\n",
              "      <td>4</td>\n",
              "      <td>B000UA0QIQ</td>\n",
              "      <td>A395BORC6FGVXV</td>\n",
              "      <td>Karl</td>\n",
              "      <td>3</td>\n",
              "      <td>3</td>\n",
              "      <td>2</td>\n",
              "      <td>1307923200</td>\n",
              "      <td>Cough Medicine</td>\n",
              "      <td>If you are looking for the secret ingredient i...</td>\n",
              "    </tr>\n",
              "    <tr>\n",
              "      <th>4</th>\n",
              "      <td>5</td>\n",
              "      <td>B006K2ZZ7K</td>\n",
              "      <td>A1UQRSCLF8GW1T</td>\n",
              "      <td>Michael D. Bigham \"M. Wassir\"</td>\n",
              "      <td>0</td>\n",
              "      <td>0</td>\n",
              "      <td>5</td>\n",
              "      <td>1350777600</td>\n",
              "      <td>Great taffy</td>\n",
              "      <td>Great taffy at a great price.  There was a wid...</td>\n",
              "    </tr>\n",
              "  </tbody>\n",
              "</table>\n",
              "</div>\n",
              "      <button class=\"colab-df-convert\" onclick=\"convertToInteractive('df-b4d532e6-2db7-4da0-9b67-e43e11f9affa')\"\n",
              "              title=\"Convert this dataframe to an interactive table.\"\n",
              "              style=\"display:none;\">\n",
              "        \n",
              "  <svg xmlns=\"http://www.w3.org/2000/svg\" height=\"24px\"viewBox=\"0 0 24 24\"\n",
              "       width=\"24px\">\n",
              "    <path d=\"M0 0h24v24H0V0z\" fill=\"none\"/>\n",
              "    <path d=\"M18.56 5.44l.94 2.06.94-2.06 2.06-.94-2.06-.94-.94-2.06-.94 2.06-2.06.94zm-11 1L8.5 8.5l.94-2.06 2.06-.94-2.06-.94L8.5 2.5l-.94 2.06-2.06.94zm10 10l.94 2.06.94-2.06 2.06-.94-2.06-.94-.94-2.06-.94 2.06-2.06.94z\"/><path d=\"M17.41 7.96l-1.37-1.37c-.4-.4-.92-.59-1.43-.59-.52 0-1.04.2-1.43.59L10.3 9.45l-7.72 7.72c-.78.78-.78 2.05 0 2.83L4 21.41c.39.39.9.59 1.41.59.51 0 1.02-.2 1.41-.59l7.78-7.78 2.81-2.81c.8-.78.8-2.07 0-2.86zM5.41 20L4 18.59l7.72-7.72 1.47 1.35L5.41 20z\"/>\n",
              "  </svg>\n",
              "      </button>\n",
              "      \n",
              "  <style>\n",
              "    .colab-df-container {\n",
              "      display:flex;\n",
              "      flex-wrap:wrap;\n",
              "      gap: 12px;\n",
              "    }\n",
              "\n",
              "    .colab-df-convert {\n",
              "      background-color: #E8F0FE;\n",
              "      border: none;\n",
              "      border-radius: 50%;\n",
              "      cursor: pointer;\n",
              "      display: none;\n",
              "      fill: #1967D2;\n",
              "      height: 32px;\n",
              "      padding: 0 0 0 0;\n",
              "      width: 32px;\n",
              "    }\n",
              "\n",
              "    .colab-df-convert:hover {\n",
              "      background-color: #E2EBFA;\n",
              "      box-shadow: 0px 1px 2px rgba(60, 64, 67, 0.3), 0px 1px 3px 1px rgba(60, 64, 67, 0.15);\n",
              "      fill: #174EA6;\n",
              "    }\n",
              "\n",
              "    [theme=dark] .colab-df-convert {\n",
              "      background-color: #3B4455;\n",
              "      fill: #D2E3FC;\n",
              "    }\n",
              "\n",
              "    [theme=dark] .colab-df-convert:hover {\n",
              "      background-color: #434B5C;\n",
              "      box-shadow: 0px 1px 3px 1px rgba(0, 0, 0, 0.15);\n",
              "      filter: drop-shadow(0px 1px 2px rgba(0, 0, 0, 0.3));\n",
              "      fill: #FFFFFF;\n",
              "    }\n",
              "  </style>\n",
              "\n",
              "      <script>\n",
              "        const buttonEl =\n",
              "          document.querySelector('#df-b4d532e6-2db7-4da0-9b67-e43e11f9affa button.colab-df-convert');\n",
              "        buttonEl.style.display =\n",
              "          google.colab.kernel.accessAllowed ? 'block' : 'none';\n",
              "\n",
              "        async function convertToInteractive(key) {\n",
              "          const element = document.querySelector('#df-b4d532e6-2db7-4da0-9b67-e43e11f9affa');\n",
              "          const dataTable =\n",
              "            await google.colab.kernel.invokeFunction('convertToInteractive',\n",
              "                                                     [key], {});\n",
              "          if (!dataTable) return;\n",
              "\n",
              "          const docLinkHtml = 'Like what you see? Visit the ' +\n",
              "            '<a target=\"_blank\" href=https://colab.research.google.com/notebooks/data_table.ipynb>data table notebook</a>'\n",
              "            + ' to learn more about interactive tables.';\n",
              "          element.innerHTML = '';\n",
              "          dataTable['output_type'] = 'display_data';\n",
              "          await google.colab.output.renderOutput(dataTable, element);\n",
              "          const docLink = document.createElement('div');\n",
              "          docLink.innerHTML = docLinkHtml;\n",
              "          element.appendChild(docLink);\n",
              "        }\n",
              "      </script>\n",
              "    </div>\n",
              "  </div>\n",
              "  "
            ],
            "text/plain": [
              "   Id  ...                                               Text\n",
              "0   1  ...  I have bought several of the Vitality canned d...\n",
              "1   2  ...  Product arrived labeled as Jumbo Salted Peanut...\n",
              "2   3  ...  This is a confection that has been around a fe...\n",
              "3   4  ...  If you are looking for the secret ingredient i...\n",
              "4   5  ...  Great taffy at a great price.  There was a wid...\n",
              "\n",
              "[5 rows x 10 columns]"
            ]
          },
          "metadata": {},
          "execution_count": 4
        }
      ]
    },
    {
      "cell_type": "code",
      "source": [
        "data = data[['Text','Summary']]\n",
        "data.head()\n",
        "\n",
        "#랜덤한 15개 샘플 출력\n",
        "data.sample(15)"
      ],
      "metadata": {
        "colab": {
          "base_uri": "https://localhost:8080/",
          "height": 520
        },
        "id": "yIVT1YRdhvVw",
        "outputId": "a2ca3ca4-2960-409c-b565-fcd9bae97ece"
      },
      "execution_count": 5,
      "outputs": [
        {
          "output_type": "execute_result",
          "data": {
            "text/html": [
              "\n",
              "  <div id=\"df-e00a36ca-b7cd-4543-bf0f-d6521f5433c0\">\n",
              "    <div class=\"colab-df-container\">\n",
              "      <div>\n",
              "<style scoped>\n",
              "    .dataframe tbody tr th:only-of-type {\n",
              "        vertical-align: middle;\n",
              "    }\n",
              "\n",
              "    .dataframe tbody tr th {\n",
              "        vertical-align: top;\n",
              "    }\n",
              "\n",
              "    .dataframe thead th {\n",
              "        text-align: right;\n",
              "    }\n",
              "</style>\n",
              "<table border=\"1\" class=\"dataframe\">\n",
              "  <thead>\n",
              "    <tr style=\"text-align: right;\">\n",
              "      <th></th>\n",
              "      <th>Text</th>\n",
              "      <th>Summary</th>\n",
              "    </tr>\n",
              "  </thead>\n",
              "  <tbody>\n",
              "    <tr>\n",
              "      <th>59470</th>\n",
              "      <td>I received a sample of this product in the mai...</td>\n",
              "      <td>Mediocre</td>\n",
              "    </tr>\n",
              "    <tr>\n",
              "      <th>5415</th>\n",
              "      <td>I love Earth's Best. My son eats almost all of...</td>\n",
              "      <td>One of Our Favorite Variety Packs</td>\n",
              "    </tr>\n",
              "    <tr>\n",
              "      <th>56782</th>\n",
              "      <td>I'm not sure if it is the fault of Frontier an...</td>\n",
              "      <td>Great value, but package arrived opened.</td>\n",
              "    </tr>\n",
              "    <tr>\n",
              "      <th>41540</th>\n",
              "      <td>I should preface this review by saying that I ...</td>\n",
              "      <td>Surprisingly good</td>\n",
              "    </tr>\n",
              "    <tr>\n",
              "      <th>7875</th>\n",
              "      <td>This is a mild, buttery scented cheese. My fav...</td>\n",
              "      <td>Favorite cheese made in the USA</td>\n",
              "    </tr>\n",
              "    <tr>\n",
              "      <th>12857</th>\n",
              "      <td>These peanuts have a crispness and flavor it i...</td>\n",
              "      <td>best peanuts I've ever had</td>\n",
              "    </tr>\n",
              "    <tr>\n",
              "      <th>84284</th>\n",
              "      <td>When I saw the product on Amazon, I did'nt kno...</td>\n",
              "      <td>Good service, Good eats</td>\n",
              "    </tr>\n",
              "    <tr>\n",
              "      <th>25706</th>\n",
              "      <td>This is a great tasting product.  The texture ...</td>\n",
              "      <td>My favorite</td>\n",
              "    </tr>\n",
              "    <tr>\n",
              "      <th>21690</th>\n",
              "      <td>I have been using AGAVE NECTAR as my main swee...</td>\n",
              "      <td>DO YOUR RESEARCH!!!</td>\n",
              "    </tr>\n",
              "    <tr>\n",
              "      <th>58959</th>\n",
              "      <td>My dogs love the taste of it. my worry is the ...</td>\n",
              "      <td>I will not take a chance with my dogs health</td>\n",
              "    </tr>\n",
              "    <tr>\n",
              "      <th>20571</th>\n",
              "      <td>I always thought alot of salt was tasty and go...</td>\n",
              "      <td>Surprise</td>\n",
              "    </tr>\n",
              "    <tr>\n",
              "      <th>49674</th>\n",
              "      <td>I liked these bars although at first I wasn't ...</td>\n",
              "      <td>Pretty Good Overall</td>\n",
              "    </tr>\n",
              "    <tr>\n",
              "      <th>72045</th>\n",
              "      <td>I had my teenaged son try this out, since the ...</td>\n",
              "      <td>Too Strong and Full for Son</td>\n",
              "    </tr>\n",
              "    <tr>\n",
              "      <th>49631</th>\n",
              "      <td>I have a small single cup coffee maker for tho...</td>\n",
              "      <td>Great for a convenient cup of coffee!</td>\n",
              "    </tr>\n",
              "    <tr>\n",
              "      <th>56023</th>\n",
              "      <td>DESCRIPTION:&lt;br /&gt;&gt; Blue Diamond Roasted-Salte...</td>\n",
              "      <td>Delicious</td>\n",
              "    </tr>\n",
              "  </tbody>\n",
              "</table>\n",
              "</div>\n",
              "      <button class=\"colab-df-convert\" onclick=\"convertToInteractive('df-e00a36ca-b7cd-4543-bf0f-d6521f5433c0')\"\n",
              "              title=\"Convert this dataframe to an interactive table.\"\n",
              "              style=\"display:none;\">\n",
              "        \n",
              "  <svg xmlns=\"http://www.w3.org/2000/svg\" height=\"24px\"viewBox=\"0 0 24 24\"\n",
              "       width=\"24px\">\n",
              "    <path d=\"M0 0h24v24H0V0z\" fill=\"none\"/>\n",
              "    <path d=\"M18.56 5.44l.94 2.06.94-2.06 2.06-.94-2.06-.94-.94-2.06-.94 2.06-2.06.94zm-11 1L8.5 8.5l.94-2.06 2.06-.94-2.06-.94L8.5 2.5l-.94 2.06-2.06.94zm10 10l.94 2.06.94-2.06 2.06-.94-2.06-.94-.94-2.06-.94 2.06-2.06.94z\"/><path d=\"M17.41 7.96l-1.37-1.37c-.4-.4-.92-.59-1.43-.59-.52 0-1.04.2-1.43.59L10.3 9.45l-7.72 7.72c-.78.78-.78 2.05 0 2.83L4 21.41c.39.39.9.59 1.41.59.51 0 1.02-.2 1.41-.59l7.78-7.78 2.81-2.81c.8-.78.8-2.07 0-2.86zM5.41 20L4 18.59l7.72-7.72 1.47 1.35L5.41 20z\"/>\n",
              "  </svg>\n",
              "      </button>\n",
              "      \n",
              "  <style>\n",
              "    .colab-df-container {\n",
              "      display:flex;\n",
              "      flex-wrap:wrap;\n",
              "      gap: 12px;\n",
              "    }\n",
              "\n",
              "    .colab-df-convert {\n",
              "      background-color: #E8F0FE;\n",
              "      border: none;\n",
              "      border-radius: 50%;\n",
              "      cursor: pointer;\n",
              "      display: none;\n",
              "      fill: #1967D2;\n",
              "      height: 32px;\n",
              "      padding: 0 0 0 0;\n",
              "      width: 32px;\n",
              "    }\n",
              "\n",
              "    .colab-df-convert:hover {\n",
              "      background-color: #E2EBFA;\n",
              "      box-shadow: 0px 1px 2px rgba(60, 64, 67, 0.3), 0px 1px 3px 1px rgba(60, 64, 67, 0.15);\n",
              "      fill: #174EA6;\n",
              "    }\n",
              "\n",
              "    [theme=dark] .colab-df-convert {\n",
              "      background-color: #3B4455;\n",
              "      fill: #D2E3FC;\n",
              "    }\n",
              "\n",
              "    [theme=dark] .colab-df-convert:hover {\n",
              "      background-color: #434B5C;\n",
              "      box-shadow: 0px 1px 3px 1px rgba(0, 0, 0, 0.15);\n",
              "      filter: drop-shadow(0px 1px 2px rgba(0, 0, 0, 0.3));\n",
              "      fill: #FFFFFF;\n",
              "    }\n",
              "  </style>\n",
              "\n",
              "      <script>\n",
              "        const buttonEl =\n",
              "          document.querySelector('#df-e00a36ca-b7cd-4543-bf0f-d6521f5433c0 button.colab-df-convert');\n",
              "        buttonEl.style.display =\n",
              "          google.colab.kernel.accessAllowed ? 'block' : 'none';\n",
              "\n",
              "        async function convertToInteractive(key) {\n",
              "          const element = document.querySelector('#df-e00a36ca-b7cd-4543-bf0f-d6521f5433c0');\n",
              "          const dataTable =\n",
              "            await google.colab.kernel.invokeFunction('convertToInteractive',\n",
              "                                                     [key], {});\n",
              "          if (!dataTable) return;\n",
              "\n",
              "          const docLinkHtml = 'Like what you see? Visit the ' +\n",
              "            '<a target=\"_blank\" href=https://colab.research.google.com/notebooks/data_table.ipynb>data table notebook</a>'\n",
              "            + ' to learn more about interactive tables.';\n",
              "          element.innerHTML = '';\n",
              "          dataTable['output_type'] = 'display_data';\n",
              "          await google.colab.output.renderOutput(dataTable, element);\n",
              "          const docLink = document.createElement('div');\n",
              "          docLink.innerHTML = docLinkHtml;\n",
              "          element.appendChild(docLink);\n",
              "        }\n",
              "      </script>\n",
              "    </div>\n",
              "  </div>\n",
              "  "
            ],
            "text/plain": [
              "                                                    Text                                       Summary\n",
              "59470  I received a sample of this product in the mai...                                      Mediocre\n",
              "5415   I love Earth's Best. My son eats almost all of...             One of Our Favorite Variety Packs\n",
              "56782  I'm not sure if it is the fault of Frontier an...      Great value, but package arrived opened.\n",
              "41540  I should preface this review by saying that I ...                             Surprisingly good\n",
              "7875   This is a mild, buttery scented cheese. My fav...               Favorite cheese made in the USA\n",
              "12857  These peanuts have a crispness and flavor it i...                    best peanuts I've ever had\n",
              "84284  When I saw the product on Amazon, I did'nt kno...                       Good service, Good eats\n",
              "25706  This is a great tasting product.  The texture ...                                   My favorite\n",
              "21690  I have been using AGAVE NECTAR as my main swee...                           DO YOUR RESEARCH!!!\n",
              "58959  My dogs love the taste of it. my worry is the ...  I will not take a chance with my dogs health\n",
              "20571  I always thought alot of salt was tasty and go...                                      Surprise\n",
              "49674  I liked these bars although at first I wasn't ...                           Pretty Good Overall\n",
              "72045  I had my teenaged son try this out, since the ...                   Too Strong and Full for Son\n",
              "49631  I have a small single cup coffee maker for tho...         Great for a convenient cup of coffee!\n",
              "56023  DESCRIPTION:<br />> Blue Diamond Roasted-Salte...                                     Delicious"
            ]
          },
          "metadata": {},
          "execution_count": 5
        }
      ]
    },
    {
      "cell_type": "markdown",
      "source": [
        "####*2.Preprocessing*"
      ],
      "metadata": {
        "id": "zu_1YgeG-PUF"
      }
    },
    {
      "cell_type": "markdown",
      "source": [
        "#####*2.1 clean up data*"
      ],
      "metadata": {
        "id": "sEeGPb1N-csC"
      }
    },
    {
      "cell_type": "markdown",
      "source": [
        " - *중복값과 null 값 제거*"
      ],
      "metadata": {
        "id": "yMujlhEp_XVg"
      }
    },
    {
      "cell_type": "code",
      "source": [
        "print('Text 열에서 중복을 배제한 유일한 샘플의 수 :', data['Text'].nunique())\n",
        "print('Summary 열에서 중복을 배제한 유일한 샘플의 수 :', data['Summary'].nunique())"
      ],
      "metadata": {
        "colab": {
          "base_uri": "https://localhost:8080/"
        },
        "id": "iDb8gaL_hvR3",
        "outputId": "f81a77fa-680e-4f17-ac73-7975e335dd50"
      },
      "execution_count": 6,
      "outputs": [
        {
          "output_type": "stream",
          "name": "stdout",
          "text": [
            "Text 열에서 중복을 배제한 유일한 샘플의 수 : 88426\n",
            "Summary 열에서 중복을 배제한 유일한 샘플의 수 : 72348\n"
          ]
        }
      ]
    },
    {
      "cell_type": "code",
      "source": [
        "# inplace=True 를 설정하면 DataFrame 타입 값을 return 하지 않고 data 내부를 직접적으로 바꿉니다\n",
        "data.drop_duplicates(subset = ['Text'], inplace=True)\n",
        "print('전체 샘플수 :', (len(data)))"
      ],
      "metadata": {
        "colab": {
          "base_uri": "https://localhost:8080/"
        },
        "id": "Ou5xyNiZhvNs",
        "outputId": "f185c9ab-a052-450e-f1da-a817abd3b9ac"
      },
      "execution_count": 7,
      "outputs": [
        {
          "output_type": "stream",
          "name": "stdout",
          "text": [
            "전체 샘플수 : 88426\n"
          ]
        }
      ]
    },
    {
      "cell_type": "code",
      "source": [
        "print(data.isnull().sum())"
      ],
      "metadata": {
        "colab": {
          "base_uri": "https://localhost:8080/"
        },
        "id": "9cT73v-0-0dY",
        "outputId": "a8e17147-15b5-4b79-9076-2460424fb908"
      },
      "execution_count": 8,
      "outputs": [
        {
          "output_type": "stream",
          "name": "stdout",
          "text": [
            "Text       0\n",
            "Summary    1\n",
            "dtype: int64\n"
          ]
        }
      ]
    },
    {
      "cell_type": "code",
      "source": [
        "data.dropna(axis=0,inplace=True)\n",
        "print('전체 샘플 수 : ',(len(data)))"
      ],
      "metadata": {
        "colab": {
          "base_uri": "https://localhost:8080/"
        },
        "id": "cNybIOGP-0a_",
        "outputId": "a19ed2d1-7f20-48fb-e4c9-77c1c7491b69"
      },
      "execution_count": 9,
      "outputs": [
        {
          "output_type": "stream",
          "name": "stdout",
          "text": [
            "전체 샘플 수 :  88425\n"
          ]
        }
      ]
    },
    {
      "cell_type": "markdown",
      "source": [
        "- *텍스트 정규화와 불용어 제거*<br>\n",
        " - 같은 의미인데 다른 표현으로 쓰여 다른 단어로 간주되는 데이터들 통일 시켜주기\n",
        " - 실질적으로 별 도움이 되지 않는 단어 (불용어: stopwords) 제거하기\n",
        " -  그 외 각종 특수문자 제거, 대소문자 통일, html 태그 제거"
      ],
      "metadata": {
        "id": "j3XR0FCZAHOp"
      }
    },
    {
      "cell_type": "code",
      "source": [
        "contractions = {\"ain't\": \"is not\", \"aren't\": \"are not\",\"can't\": \"cannot\", \"'cause\": \"because\", \"could've\": \"could have\", \"couldn't\": \"could not\",\n",
        "                           \"didn't\": \"did not\",  \"doesn't\": \"does not\", \"don't\": \"do not\", \"hadn't\": \"had not\", \"hasn't\": \"has not\", \"haven't\": \"have not\",\n",
        "                           \"he'd\": \"he would\",\"he'll\": \"he will\", \"he's\": \"he is\", \"how'd\": \"how did\", \"how'd'y\": \"how do you\", \"how'll\": \"how will\", \"how's\": \"how is\",\n",
        "                           \"I'd\": \"I would\", \"I'd've\": \"I would have\", \"I'll\": \"I will\", \"I'll've\": \"I will have\",\"I'm\": \"I am\", \"I've\": \"I have\", \"i'd\": \"i would\",\n",
        "                           \"i'd've\": \"i would have\", \"i'll\": \"i will\",  \"i'll've\": \"i will have\",\"i'm\": \"i am\", \"i've\": \"i have\", \"isn't\": \"is not\", \"it'd\": \"it would\",\n",
        "                           \"it'd've\": \"it would have\", \"it'll\": \"it will\", \"it'll've\": \"it will have\",\"it's\": \"it is\", \"let's\": \"let us\", \"ma'am\": \"madam\",\n",
        "                           \"mayn't\": \"may not\", \"might've\": \"might have\",\"mightn't\": \"might not\",\"mightn't've\": \"might not have\", \"must've\": \"must have\",\n",
        "                           \"mustn't\": \"must not\", \"mustn't've\": \"must not have\", \"needn't\": \"need not\", \"needn't've\": \"need not have\",\"o'clock\": \"of the clock\",\n",
        "                           \"oughtn't\": \"ought not\", \"oughtn't've\": \"ought not have\", \"shan't\": \"shall not\", \"sha'n't\": \"shall not\", \"shan't've\": \"shall not have\",\n",
        "                           \"she'd\": \"she would\", \"she'd've\": \"she would have\", \"she'll\": \"she will\", \"she'll've\": \"she will have\", \"she's\": \"she is\",\n",
        "                           \"should've\": \"should have\", \"shouldn't\": \"should not\", \"shouldn't've\": \"should not have\", \"so've\": \"so have\",\"so's\": \"so as\",\n",
        "                           \"this's\": \"this is\",\"that'd\": \"that would\", \"that'd've\": \"that would have\", \"that's\": \"that is\", \"there'd\": \"there would\",\n",
        "                           \"there'd've\": \"there would have\", \"there's\": \"there is\", \"here's\": \"here is\",\"they'd\": \"they would\", \"they'd've\": \"they would have\",\n",
        "                           \"they'll\": \"they will\", \"they'll've\": \"they will have\", \"they're\": \"they are\", \"they've\": \"they have\", \"to've\": \"to have\",\n",
        "                           \"wasn't\": \"was not\", \"we'd\": \"we would\", \"we'd've\": \"we would have\", \"we'll\": \"we will\", \"we'll've\": \"we will have\", \"we're\": \"we are\",\n",
        "                           \"we've\": \"we have\", \"weren't\": \"were not\", \"what'll\": \"what will\", \"what'll've\": \"what will have\", \"what're\": \"what are\",\n",
        "                           \"what's\": \"what is\", \"what've\": \"what have\", \"when's\": \"when is\", \"when've\": \"when have\", \"where'd\": \"where did\", \"where's\": \"where is\",\n",
        "                           \"where've\": \"where have\", \"who'll\": \"who will\", \"who'll've\": \"who will have\", \"who's\": \"who is\", \"who've\": \"who have\",\n",
        "                           \"why's\": \"why is\", \"why've\": \"why have\", \"will've\": \"will have\", \"won't\": \"will not\", \"won't've\": \"will not have\",\n",
        "                           \"would've\": \"would have\", \"wouldn't\": \"would not\", \"wouldn't've\": \"would not have\", \"y'all\": \"you all\",\n",
        "                           \"y'all'd\": \"you all would\",\"y'all'd've\": \"you all would have\",\"y'all're\": \"you all are\",\"y'all've\": \"you all have\",\n",
        "                           \"you'd\": \"you would\", \"you'd've\": \"you would have\", \"you'll\": \"you will\", \"you'll've\": \"you will have\",\n",
        "                           \"you're\": \"you are\", \"you've\": \"you have\"}\n",
        "\n",
        "print(\"정규화 사전의 수: \", len(contractions))"
      ],
      "metadata": {
        "colab": {
          "base_uri": "https://localhost:8080/"
        },
        "id": "n63cgKQwAGrv",
        "outputId": "98a230c2-7020-4005-cc8c-829dccb958a8"
      },
      "execution_count": 10,
      "outputs": [
        {
          "output_type": "stream",
          "name": "stdout",
          "text": [
            "정규화 사전의 수:  120\n"
          ]
        }
      ]
    },
    {
      "cell_type": "code",
      "source": [
        "print('불용어 개수 :', len(stopwords.words('english') ))\n",
        "print(stopwords.words('english'))"
      ],
      "metadata": {
        "colab": {
          "base_uri": "https://localhost:8080/"
        },
        "id": "TioOC715-0Yq",
        "outputId": "fa600b71-bce4-480e-9181-b7153e34d1c0"
      },
      "execution_count": 11,
      "outputs": [
        {
          "output_type": "stream",
          "name": "stdout",
          "text": [
            "불용어 개수 : 179\n",
            "['i', 'me', 'my', 'myself', 'we', 'our', 'ours', 'ourselves', 'you', \"you're\", \"you've\", \"you'll\", \"you'd\", 'your', 'yours', 'yourself', 'yourselves', 'he', 'him', 'his', 'himself', 'she', \"she's\", 'her', 'hers', 'herself', 'it', \"it's\", 'its', 'itself', 'they', 'them', 'their', 'theirs', 'themselves', 'what', 'which', 'who', 'whom', 'this', 'that', \"that'll\", 'these', 'those', 'am', 'is', 'are', 'was', 'were', 'be', 'been', 'being', 'have', 'has', 'had', 'having', 'do', 'does', 'did', 'doing', 'a', 'an', 'the', 'and', 'but', 'if', 'or', 'because', 'as', 'until', 'while', 'of', 'at', 'by', 'for', 'with', 'about', 'against', 'between', 'into', 'through', 'during', 'before', 'after', 'above', 'below', 'to', 'from', 'up', 'down', 'in', 'out', 'on', 'off', 'over', 'under', 'again', 'further', 'then', 'once', 'here', 'there', 'when', 'where', 'why', 'how', 'all', 'any', 'both', 'each', 'few', 'more', 'most', 'other', 'some', 'such', 'no', 'nor', 'not', 'only', 'own', 'same', 'so', 'than', 'too', 'very', 's', 't', 'can', 'will', 'just', 'don', \"don't\", 'should', \"should've\", 'now', 'd', 'll', 'm', 'o', 're', 've', 'y', 'ain', 'aren', \"aren't\", 'couldn', \"couldn't\", 'didn', \"didn't\", 'doesn', \"doesn't\", 'hadn', \"hadn't\", 'hasn', \"hasn't\", 'haven', \"haven't\", 'isn', \"isn't\", 'ma', 'mightn', \"mightn't\", 'mustn', \"mustn't\", 'needn', \"needn't\", 'shan', \"shan't\", 'shouldn', \"shouldn't\", 'wasn', \"wasn't\", 'weren', \"weren't\", 'won', \"won't\", 'wouldn', \"wouldn't\"]\n"
          ]
        }
      ]
    },
    {
      "cell_type": "code",
      "source": [
        "# 데이터 전처리 함수\n",
        "def preprocess_sentence(sentence, remove_stopwords=True):\n",
        "    sentence = sentence.lower() # 텍스트 소문자화\n",
        "    sentence = BeautifulSoup(sentence, \"lxml\").text # <br />, <a href = ...> 등의 html 태그 제거\n",
        "    sentence = re.sub(r'\\([^)]*\\)', '', sentence) # 괄호로 닫힌 문자열 (...) 제거 Ex) my husband (and myself!) for => my husband for\n",
        "    sentence = re.sub('\"','', sentence) # 쌍따옴표 \" 제거\n",
        "    sentence = ' '.join([contractions[t] if t in contractions else t for t in sentence.split(\" \")]) # 약어 정규화\n",
        "    sentence = re.sub(r\"'s\\b\",\"\", sentence) # 소유격 제거. Ex) roland's -> roland\n",
        "    sentence = re.sub(\"[^a-zA-Z]\", \" \", sentence) # 영어 외 문자(숫자, 특수문자 등) 공백으로 변환\n",
        "    sentence = re.sub('[m]{2,}', 'mm', sentence) # m이 3개 이상이면 2개로 변경. Ex) ummmmmmm yeah -> umm yeah\n",
        "    \n",
        "    # 불용어 제거 (Text)\n",
        "    if remove_stopwords:\n",
        "        tokens = ' '.join(word for word in sentence.split() if not word in stopwords.words('english') if len(word) > 1)\n",
        "    # 불용어 미제거 (Summary)\n",
        "    else:\n",
        "        tokens = ' '.join(word for word in sentence.split() if len(word) > 1)\n",
        "    return tokens"
      ],
      "metadata": {
        "id": "el9OARrT-0WB"
      },
      "execution_count": 12,
      "outputs": []
    },
    {
      "cell_type": "code",
      "source": [
        "temp_text = 'Everything I bought was great, infact I ordered twice and the third ordered was<br />for my mother and father.'\n",
        "temp_summary = 'Great way to start (or finish) the day!!!'\n",
        "\n",
        "print(\"text: \", preprocess_sentence(temp_text))\n",
        "print(\"summary:\", preprocess_sentence(temp_summary, False))  # 불용어를 제거하지 않습니다."
      ],
      "metadata": {
        "colab": {
          "base_uri": "https://localhost:8080/"
        },
        "id": "8SWPXck4-0Rv",
        "outputId": "78af922c-be00-467f-9a57-409929338de2"
      },
      "execution_count": 13,
      "outputs": [
        {
          "output_type": "stream",
          "name": "stdout",
          "text": [
            "text:  everything bought great infact ordered twice third ordered wasfor mother father\n",
            "summary: great way to start the day\n"
          ]
        }
      ]
    },
    {
      "cell_type": "code",
      "source": [
        "from tqdm.notebook import tqdm\n",
        "clean_text = []\n",
        "# 전체 Text 데이터에 대한 전처리 : 10분 이상 시간이 걸릴 수 있습니다. \n",
        "for s in tqdm(data['Text']):\n",
        "    clean_text.append(preprocess_sentence(s))\n",
        "\n",
        "# 전처리 후 출력\n",
        "print(\"Text 전처리 후 결과: \", clean_text[:5])"
      ],
      "metadata": {
        "colab": {
          "base_uri": "https://localhost:8080/",
          "height": 86,
          "referenced_widgets": [
            "23731ad2c3b24d0092c6dd37aff39198",
            "2af3830588ab42c7b9373885e4964a26",
            "60d8b03340ef43a093977f2ce2b23d28",
            "fa8baeb7d73a43019517d184532a17bf",
            "957dc118847f449cbdfe97b0a6b76b44",
            "d86fca084594480da03712a926e7d27d",
            "18b4892dea384fefa0955e7549d49cfc",
            "3a36f1f0dc9e4c93be41818a5f2fd29f",
            "283cedeaf68e4a6c8eef447cd6e6f304",
            "c75d4746450240b6b60f5e6dd2533c7d",
            "b02be238ce8843f68196a254e58e4b5c"
          ]
        },
        "id": "gVytvqn_-0Ne",
        "outputId": "e142992c-34fe-4d1a-f213-408ba9b79788"
      },
      "execution_count": 14,
      "outputs": [
        {
          "output_type": "display_data",
          "data": {
            "application/vnd.jupyter.widget-view+json": {
              "model_id": "23731ad2c3b24d0092c6dd37aff39198",
              "version_minor": 0,
              "version_major": 2
            },
            "text/plain": [
              "  0%|          | 0/88425 [00:00<?, ?it/s]"
            ]
          },
          "metadata": {}
        },
        {
          "output_type": "stream",
          "name": "stdout",
          "text": [
            "Text 전처리 후 결과:  ['bought several vitality canned dog food products found good quality product looks like stew processed meat smells better labrador finicky appreciates product better', 'product arrived labeled jumbo salted peanuts peanuts actually small sized unsalted sure error vendor intended represent product jumbo', 'confection around centuries light pillowy citrus gelatin nuts case filberts cut tiny squares liberally coated powdered sugar tiny mouthful heaven chewy flavorful highly recommend yummy treat familiar story lewis lion witch wardrobe treat seduces edmund selling brother sisters witch', 'looking secret ingredient robitussin believe found got addition root beer extract ordered made cherry soda flavor medicinal', 'great taffy great price wide assortment yummy taffy delivery quick taffy lover deal']\n"
          ]
        }
      ]
    },
    {
      "cell_type": "code",
      "source": [
        "clean_summary = []\n",
        "# 전체 Summary 데이터에 대한 전처리 : 5분 이상 시간이 걸릴 수 있습니다. \n",
        "for s in tqdm(data['Summary']):\n",
        "    clean_summary.append(preprocess_sentence(s, False))\n",
        "\n",
        "print(\"Summary 전처리 후 결과: \", clean_summary[:5])"
      ],
      "metadata": {
        "colab": {
          "base_uri": "https://localhost:8080/",
          "height": 66,
          "referenced_widgets": [
            "ec4cc439f30f4da9a5bd0e9e3ffab667",
            "43575ccea23447708decdbdd21f4eead",
            "78e24b3e40474e73970a68e0ecfeb792",
            "4f2796c4fcc441b78d8253387bd7b5bf",
            "f71981fd7f23412286ee23ea9f58112e",
            "f5eaa7c2e3e247b7959b6be56ef19412",
            "0f747cefe19144ba9ef7697d55b04b3d",
            "c30b21f034de4e349bfc3f4ee11a61db",
            "d339eb21b60f4e8b85e0b4ffaece1f0f",
            "c25b461a4e7249bf91bb814e14134348",
            "27245713e3df4fa0bfaf88327e90c1ca"
          ]
        },
        "id": "v1EK0PvBDk0S",
        "outputId": "619d9fdf-1ac1-414e-d0ac-558bf9c35e7b"
      },
      "execution_count": 15,
      "outputs": [
        {
          "output_type": "display_data",
          "data": {
            "application/vnd.jupyter.widget-view+json": {
              "model_id": "ec4cc439f30f4da9a5bd0e9e3ffab667",
              "version_minor": 0,
              "version_major": 2
            },
            "text/plain": [
              "  0%|          | 0/88425 [00:00<?, ?it/s]"
            ]
          },
          "metadata": {}
        },
        {
          "output_type": "stream",
          "name": "stdout",
          "text": [
            "Summary 전처리 후 결과:  ['good quality dog food', 'not as advertised', 'delight says it all', 'cough medicine', 'great taffy']\n"
          ]
        }
      ]
    },
    {
      "cell_type": "code",
      "source": [
        "data['Text'] = clean_text\n",
        "data['Summary'] = clean_summary\n",
        "\n",
        "data.replace('',np.nan,inplace=True)"
      ],
      "metadata": {
        "id": "CVZskiuPDkwo"
      },
      "execution_count": 16,
      "outputs": []
    },
    {
      "cell_type": "code",
      "source": [
        "data.isnull().sum()"
      ],
      "metadata": {
        "colab": {
          "base_uri": "https://localhost:8080/"
        },
        "id": "o4mrNNKoDktz",
        "outputId": "92a6ae3d-1994-44e0-a164-301f893dd251"
      },
      "execution_count": 17,
      "outputs": [
        {
          "output_type": "execute_result",
          "data": {
            "text/plain": [
              "Text        0\n",
              "Summary    70\n",
              "dtype: int64"
            ]
          },
          "metadata": {},
          "execution_count": 17
        }
      ]
    },
    {
      "cell_type": "code",
      "source": [
        "data.dropna(axis=0, inplace=True)\n",
        "print('전체 샘플수 :', (len(data)))"
      ],
      "metadata": {
        "colab": {
          "base_uri": "https://localhost:8080/"
        },
        "id": "uLsLWeWzDkrY",
        "outputId": "40f5ca86-064d-45a4-d36d-c9bc77903788"
      },
      "execution_count": 18,
      "outputs": [
        {
          "output_type": "stream",
          "name": "stdout",
          "text": [
            "전체 샘플수 : 88355\n"
          ]
        }
      ]
    },
    {
      "cell_type": "markdown",
      "source": [
        "##### *2.2 seperate train and test data*"
      ],
      "metadata": {
        "id": "0ifHewJMIdfM"
      }
    },
    {
      "cell_type": "markdown",
      "source": [
        "- 샘플의 최대 길이 정하기"
      ],
      "metadata": {
        "id": "op2ppbbIJEzt"
      }
    },
    {
      "cell_type": "code",
      "source": [
        "# 길이 분포 출력\n",
        "import matplotlib.pyplot as plt\n",
        "\n",
        "text_len = [len(s.split()) for s in data['Text']]\n",
        "summary_len = [len(s.split()) for s in data['Summary']]\n",
        "\n",
        "print('텍스트의 최소 길이 : {}'.format(np.min(text_len)))\n",
        "print('텍스트의 최대 길이 : {}'.format(np.max(text_len)))\n",
        "print('텍스트의 평균 길이 : {}'.format(np.mean(text_len)))\n",
        "print('요약의 최소 길이 : {}'.format(np.min(summary_len)))\n",
        "print('요약의 최대 길이 : {}'.format(np.max(summary_len)))\n",
        "print('요약의 평균 길이 : {}'.format(np.mean(summary_len)))\n",
        "\n",
        "plt.subplot(1,2,1)\n",
        "plt.boxplot(text_len)\n",
        "plt.title('Text')\n",
        "plt.subplot(1,2,2)\n",
        "plt.boxplot(summary_len)\n",
        "plt.title('Summary')\n",
        "plt.tight_layout()\n",
        "plt.show()\n",
        "\n",
        "plt.title('Text')\n",
        "plt.hist(text_len, bins = 40)\n",
        "plt.xlabel('length of samples')\n",
        "plt.ylabel('number of samples')\n",
        "plt.show()\n",
        "\n",
        "plt.title('Summary')\n",
        "plt.hist(summary_len, bins = 40)\n",
        "plt.xlabel('length of samples')\n",
        "plt.ylabel('number of samples')\n",
        "plt.show()"
      ],
      "metadata": {
        "colab": {
          "base_uri": "https://localhost:8080/",
          "height": 957
        },
        "id": "U4kyaR1QDkom",
        "outputId": "eb2034b6-accb-4ae7-f3d3-56b3e7cb517c"
      },
      "execution_count": 19,
      "outputs": [
        {
          "output_type": "stream",
          "name": "stdout",
          "text": [
            "텍스트의 최소 길이 : 2\n",
            "텍스트의 최대 길이 : 1235\n",
            "텍스트의 평균 길이 : 38.792428272310566\n",
            "요약의 최소 길이 : 1\n",
            "요약의 최대 길이 : 28\n",
            "요약의 평균 길이 : 4.010729443721352\n"
          ]
        },
        {
          "output_type": "display_data",
          "data": {
            "image/png": "[encoded data removed]",
            "text/plain": [
              "<Figure size 432x288 with 2 Axes>"
            ]
          },
          "metadata": {
            "needs_background": "light"
          }
        },
        {
          "output_type": "display_data",
          "data": {
            "image/png": "[encoded data removed]",
            "text/plain": [
              "<Figure size 432x288 with 1 Axes>"
            ]
          },
          "metadata": {
            "needs_background": "light"
          }
        },
        {
          "output_type": "display_data",
          "data": {
            "image/png": "[encoded data removed]",
            "text/plain": [
              "<Figure size 432x288 with 1 Axes>"
            ]
          },
          "metadata": {
            "needs_background": "light"
          }
        }
      ]
    },
    {
      "cell_type": "code",
      "source": [
        "text_max_len = 50\n",
        "summary_max_len = 8"
      ],
      "metadata": {
        "id": "f_MFe7K7Dkl0"
      },
      "execution_count": 20,
      "outputs": []
    },
    {
      "cell_type": "code",
      "source": [
        "def below_threshold_len(max_len, nested_list):\n",
        "  cnt = 0\n",
        "  for s in nested_list:\n",
        "    if(len(s.split()) <= max_len):\n",
        "        cnt = cnt + 1\n",
        "  print('전체 샘플 중 길이가 %s 이하인 샘플의 비율: %s'%(max_len, (cnt / len(nested_list))))"
      ],
      "metadata": {
        "id": "Md2403ThDkia"
      },
      "execution_count": 21,
      "outputs": []
    },
    {
      "cell_type": "code",
      "source": [
        "below_threshold_len(text_max_len, data['Text'])\n",
        "below_threshold_len(summary_max_len,  data['Summary'])"
      ],
      "metadata": {
        "colab": {
          "base_uri": "https://localhost:8080/"
        },
        "id": "klwsqxAkh_Rv",
        "outputId": "5c9f6401-e150-434e-c11a-7dbdd4d8770d"
      },
      "execution_count": 22,
      "outputs": [
        {
          "output_type": "stream",
          "name": "stdout",
          "text": [
            "전체 샘플 중 길이가 50 이하인 샘플의 비율: 0.7745119121724859\n",
            "전체 샘플 중 길이가 8 이하인 샘플의 비율: 0.9424593967517402\n"
          ]
        }
      ]
    },
    {
      "cell_type": "code",
      "source": [
        "data = data[data['Text'].apply(lambda x: len(x.split()) <= text_max_len)]\n",
        "data = data[data['Summary'].apply(lambda x: len(x.split()) <= summary_max_len)]\n",
        "print('전체 샘플수 :', (len(data)))"
      ],
      "metadata": {
        "colab": {
          "base_uri": "https://localhost:8080/"
        },
        "id": "t73OQ4B_h_D8",
        "outputId": "5f023798-9c9a-473e-c5a2-10e152f2d101"
      },
      "execution_count": 23,
      "outputs": [
        {
          "output_type": "stream",
          "name": "stdout",
          "text": [
            "전체 샘플수 : 65818\n"
          ]
        }
      ]
    },
    {
      "cell_type": "markdown",
      "source": [
        "- 시작토큰과 종료 토큰 추가하기 "
      ],
      "metadata": {
        "id": "cGeQvV53iSoh"
      }
    },
    {
      "cell_type": "code",
      "source": [
        "# 요약 데이터에는 시작 토큰과 종료 토큰을 추가한다.\n",
        "data['decoder_input'] = data['Summary'].apply(lambda x : 'sostoken '+ x)\n",
        "data['decoder_target'] = data['Summary'].apply(lambda x : x + ' eostoken')\n",
        "data.head()"
      ],
      "metadata": {
        "colab": {
          "base_uri": "https://localhost:8080/",
          "height": 206
        },
        "id": "NRTJG_GIh-5g",
        "outputId": "27b87756-5f08-4cf2-8290-dc44cef98ad8"
      },
      "execution_count": 24,
      "outputs": [
        {
          "output_type": "execute_result",
          "data": {
            "text/html": [
              "\n",
              "  <div id=\"df-92bd0387-b4eb-4f00-ba7f-ea7b442b0c13\">\n",
              "    <div class=\"colab-df-container\">\n",
              "      <div>\n",
              "<style scoped>\n",
              "    .dataframe tbody tr th:only-of-type {\n",
              "        vertical-align: middle;\n",
              "    }\n",
              "\n",
              "    .dataframe tbody tr th {\n",
              "        vertical-align: top;\n",
              "    }\n",
              "\n",
              "    .dataframe thead th {\n",
              "        text-align: right;\n",
              "    }\n",
              "</style>\n",
              "<table border=\"1\" class=\"dataframe\">\n",
              "  <thead>\n",
              "    <tr style=\"text-align: right;\">\n",
              "      <th></th>\n",
              "      <th>Text</th>\n",
              "      <th>Summary</th>\n",
              "      <th>decoder_input</th>\n",
              "      <th>decoder_target</th>\n",
              "    </tr>\n",
              "  </thead>\n",
              "  <tbody>\n",
              "    <tr>\n",
              "      <th>0</th>\n",
              "      <td>bought several vitality canned dog food produc...</td>\n",
              "      <td>good quality dog food</td>\n",
              "      <td>sostoken good quality dog food</td>\n",
              "      <td>good quality dog food eostoken</td>\n",
              "    </tr>\n",
              "    <tr>\n",
              "      <th>1</th>\n",
              "      <td>product arrived labeled jumbo salted peanuts p...</td>\n",
              "      <td>not as advertised</td>\n",
              "      <td>sostoken not as advertised</td>\n",
              "      <td>not as advertised eostoken</td>\n",
              "    </tr>\n",
              "    <tr>\n",
              "      <th>2</th>\n",
              "      <td>confection around centuries light pillowy citr...</td>\n",
              "      <td>delight says it all</td>\n",
              "      <td>sostoken delight says it all</td>\n",
              "      <td>delight says it all eostoken</td>\n",
              "    </tr>\n",
              "    <tr>\n",
              "      <th>3</th>\n",
              "      <td>looking secret ingredient robitussin believe f...</td>\n",
              "      <td>cough medicine</td>\n",
              "      <td>sostoken cough medicine</td>\n",
              "      <td>cough medicine eostoken</td>\n",
              "    </tr>\n",
              "    <tr>\n",
              "      <th>4</th>\n",
              "      <td>great taffy great price wide assortment yummy ...</td>\n",
              "      <td>great taffy</td>\n",
              "      <td>sostoken great taffy</td>\n",
              "      <td>great taffy eostoken</td>\n",
              "    </tr>\n",
              "  </tbody>\n",
              "</table>\n",
              "</div>\n",
              "      <button class=\"colab-df-convert\" onclick=\"convertToInteractive('df-92bd0387-b4eb-4f00-ba7f-ea7b442b0c13')\"\n",
              "              title=\"Convert this dataframe to an interactive table.\"\n",
              "              style=\"display:none;\">\n",
              "        \n",
              "  <svg xmlns=\"http://www.w3.org/2000/svg\" height=\"24px\"viewBox=\"0 0 24 24\"\n",
              "       width=\"24px\">\n",
              "    <path d=\"M0 0h24v24H0V0z\" fill=\"none\"/>\n",
              "    <path d=\"M18.56 5.44l.94 2.06.94-2.06 2.06-.94-2.06-.94-.94-2.06-.94 2.06-2.06.94zm-11 1L8.5 8.5l.94-2.06 2.06-.94-2.06-.94L8.5 2.5l-.94 2.06-2.06.94zm10 10l.94 2.06.94-2.06 2.06-.94-2.06-.94-.94-2.06-.94 2.06-2.06.94z\"/><path d=\"M17.41 7.96l-1.37-1.37c-.4-.4-.92-.59-1.43-.59-.52 0-1.04.2-1.43.59L10.3 9.45l-7.72 7.72c-.78.78-.78 2.05 0 2.83L4 21.41c.39.39.9.59 1.41.59.51 0 1.02-.2 1.41-.59l7.78-7.78 2.81-2.81c.8-.78.8-2.07 0-2.86zM5.41 20L4 18.59l7.72-7.72 1.47 1.35L5.41 20z\"/>\n",
              "  </svg>\n",
              "      </button>\n",
              "      \n",
              "  <style>\n",
              "    .colab-df-container {\n",
              "      display:flex;\n",
              "      flex-wrap:wrap;\n",
              "      gap: 12px;\n",
              "    }\n",
              "\n",
              "    .colab-df-convert {\n",
              "      background-color: #E8F0FE;\n",
              "      border: none;\n",
              "      border-radius: 50%;\n",
              "      cursor: pointer;\n",
              "      display: none;\n",
              "      fill: #1967D2;\n",
              "      height: 32px;\n",
              "      padding: 0 0 0 0;\n",
              "      width: 32px;\n",
              "    }\n",
              "\n",
              "    .colab-df-convert:hover {\n",
              "      background-color: #E2EBFA;\n",
              "      box-shadow: 0px 1px 2px rgba(60, 64, 67, 0.3), 0px 1px 3px 1px rgba(60, 64, 67, 0.15);\n",
              "      fill: #174EA6;\n",
              "    }\n",
              "\n",
              "    [theme=dark] .colab-df-convert {\n",
              "      background-color: #3B4455;\n",
              "      fill: #D2E3FC;\n",
              "    }\n",
              "\n",
              "    [theme=dark] .colab-df-convert:hover {\n",
              "      background-color: #434B5C;\n",
              "      box-shadow: 0px 1px 3px 1px rgba(0, 0, 0, 0.15);\n",
              "      filter: drop-shadow(0px 1px 2px rgba(0, 0, 0, 0.3));\n",
              "      fill: #FFFFFF;\n",
              "    }\n",
              "  </style>\n",
              "\n",
              "      <script>\n",
              "        const buttonEl =\n",
              "          document.querySelector('#df-92bd0387-b4eb-4f00-ba7f-ea7b442b0c13 button.colab-df-convert');\n",
              "        buttonEl.style.display =\n",
              "          google.colab.kernel.accessAllowed ? 'block' : 'none';\n",
              "\n",
              "        async function convertToInteractive(key) {\n",
              "          const element = document.querySelector('#df-92bd0387-b4eb-4f00-ba7f-ea7b442b0c13');\n",
              "          const dataTable =\n",
              "            await google.colab.kernel.invokeFunction('convertToInteractive',\n",
              "                                                     [key], {});\n",
              "          if (!dataTable) return;\n",
              "\n",
              "          const docLinkHtml = 'Like what you see? Visit the ' +\n",
              "            '<a target=\"_blank\" href=https://colab.research.google.com/notebooks/data_table.ipynb>data table notebook</a>'\n",
              "            + ' to learn more about interactive tables.';\n",
              "          element.innerHTML = '';\n",
              "          dataTable['output_type'] = 'display_data';\n",
              "          await google.colab.output.renderOutput(dataTable, element);\n",
              "          const docLink = document.createElement('div');\n",
              "          docLink.innerHTML = docLinkHtml;\n",
              "          element.appendChild(docLink);\n",
              "        }\n",
              "      </script>\n",
              "    </div>\n",
              "  </div>\n",
              "  "
            ],
            "text/plain": [
              "                                                Text  ...                  decoder_target\n",
              "0  bought several vitality canned dog food produc...  ...  good quality dog food eostoken\n",
              "1  product arrived labeled jumbo salted peanuts p...  ...      not as advertised eostoken\n",
              "2  confection around centuries light pillowy citr...  ...    delight says it all eostoken\n",
              "3  looking secret ingredient robitussin believe f...  ...         cough medicine eostoken\n",
              "4  great taffy great price wide assortment yummy ...  ...            great taffy eostoken\n",
              "\n",
              "[5 rows x 4 columns]"
            ]
          },
          "metadata": {},
          "execution_count": 24
        }
      ]
    },
    {
      "cell_type": "code",
      "source": [
        "encoder_input = np.array(data['Text']) # 인코더의 입력\n",
        "decoder_input = np.array(data['decoder_input']) # 디코더의 입력\n",
        "decoder_target = np.array(data['decoder_target']) # 디코더의 레이블"
      ],
      "metadata": {
        "id": "F-hQPBitifcJ"
      },
      "execution_count": 25,
      "outputs": []
    },
    {
      "cell_type": "code",
      "source": [
        "indices = np.arange(encoder_input.shape[0])\n",
        "np.random.shuffle(indices)\n",
        "print(indices)"
      ],
      "metadata": {
        "colab": {
          "base_uri": "https://localhost:8080/"
        },
        "id": "0RmLOoxSifSr",
        "outputId": "72245bea-0a8d-4a3e-82d7-47e6f36c9d1f"
      },
      "execution_count": 26,
      "outputs": [
        {
          "output_type": "stream",
          "name": "stdout",
          "text": [
            "[65277 19399 17890 ... 42595 23781 25744]\n"
          ]
        }
      ]
    },
    {
      "cell_type": "code",
      "source": [
        "encoder_input = encoder_input[indices]\n",
        "decoder_input = decoder_input[indices]\n",
        "decoder_target = decoder_target[indices]"
      ],
      "metadata": {
        "id": "USTZMRSBik62"
      },
      "execution_count": 27,
      "outputs": []
    },
    {
      "cell_type": "code",
      "source": [
        "n_of_val = int(len(encoder_input)*0.2)\n",
        "print('테스트 데이터의 수 :', n_of_val)"
      ],
      "metadata": {
        "colab": {
          "base_uri": "https://localhost:8080/"
        },
        "id": "gU_-3ubRikxX",
        "outputId": "b50e181a-4bd1-47d4-f2af-0abacf49993c"
      },
      "execution_count": 28,
      "outputs": [
        {
          "output_type": "stream",
          "name": "stdout",
          "text": [
            "테스트 데이터의 수 : 13163\n"
          ]
        }
      ]
    },
    {
      "cell_type": "code",
      "source": [
        "encoder_input_train = encoder_input[:-n_of_val]\n",
        "decoder_input_train = decoder_input[:-n_of_val]\n",
        "decoder_target_train = decoder_target[:-n_of_val]\n",
        "\n",
        "encoder_input_test = encoder_input[-n_of_val:]\n",
        "decoder_input_test = decoder_input[-n_of_val:]\n",
        "decoder_target_test = decoder_target[-n_of_val:]\n",
        "\n",
        "print('훈련 데이터의 개수 :', len(encoder_input_train))\n",
        "print('훈련 레이블의 개수 :', len(decoder_input_train))\n",
        "print('테스트 데이터의 개수 :', len(encoder_input_test))\n",
        "print('테스트 레이블의 개수 :', len(decoder_input_test))"
      ],
      "metadata": {
        "colab": {
          "base_uri": "https://localhost:8080/"
        },
        "id": "c5iMNGD-ikoT",
        "outputId": "ce79bc90-3a4d-4a30-be90-d77ada271294"
      },
      "execution_count": 29,
      "outputs": [
        {
          "output_type": "stream",
          "name": "stdout",
          "text": [
            "훈련 데이터의 개수 : 52655\n",
            "훈련 레이블의 개수 : 52655\n",
            "테스트 데이터의 개수 : 13163\n",
            "테스트 레이블의 개수 : 13163\n"
          ]
        }
      ]
    },
    {
      "cell_type": "markdown",
      "source": [
        "##### 2.3 incode integer"
      ],
      "metadata": {
        "id": "Swe18psOsVsa"
      }
    },
    {
      "cell_type": "markdown",
      "source": [
        "- vocabulary 만들기 및 정수 인코딩"
      ],
      "metadata": {
        "id": "8PBd0ozTshOY"
      }
    },
    {
      "cell_type": "code",
      "source": [
        "src_tokenizer = Tokenizer() # 토크나이저 정의\n",
        "src_tokenizer.fit_on_texts(encoder_input_train) # 입력된 데이터로부터 단어 집합 생성\n"
      ],
      "metadata": {
        "id": "zw0T0rIqsagW"
      },
      "execution_count": 30,
      "outputs": []
    },
    {
      "cell_type": "code",
      "source": [
        "threshold = 7\n",
        "total_cnt = len(src_tokenizer.word_index) # 단어의 수\n",
        "rare_cnt = 0 # 등장 빈도수가 threshold보다 작은 단어의 개수를 카운트\n",
        "total_freq = 0 # 훈련 데이터의 전체 단어 빈도수 총 합\n",
        "rare_freq = 0 # 등장 빈도수가 threshold보다 작은 단어의 등장 빈도수의 총 합\n",
        "\n",
        "# 단어와 빈도수의 쌍(pair)을 key와 value로 받는다.\n",
        "for key, value in src_tokenizer.word_counts.items():\n",
        "    total_freq = total_freq + value\n",
        "\n",
        "    # 단어의 등장 빈도수가 threshold보다 작으면\n",
        "    if(value < threshold):\n",
        "        rare_cnt = rare_cnt + 1\n",
        "        rare_freq = rare_freq + value\n",
        "\n",
        "print('단어 집합(vocabulary)의 크기 :', total_cnt)\n",
        "print('등장 빈도가 %s번 이하인 희귀 단어의 수: %s'%(threshold - 1, rare_cnt))\n",
        "print('단어 집합에서 희귀 단어를 제외시킬 경우의 단어 집합의 크기 %s'%(total_cnt - rare_cnt))\n",
        "print(\"단어 집합에서 희귀 단어의 비율:\", (rare_cnt / total_cnt)*100)\n",
        "print(\"전체 등장 빈도에서 희귀 단어 등장 빈도 비율:\", (rare_freq / total_freq)*100)"
      ],
      "metadata": {
        "colab": {
          "base_uri": "https://localhost:8080/"
        },
        "id": "mBsWer5msbFu",
        "outputId": "1fe6720c-b692-475d-c9f7-d0ccd2226e41"
      },
      "execution_count": 31,
      "outputs": [
        {
          "output_type": "stream",
          "name": "stdout",
          "text": [
            "단어 집합(vocabulary)의 크기 : 32035\n",
            "등장 빈도가 6번 이하인 희귀 단어의 수: 23778\n",
            "단어 집합에서 희귀 단어를 제외시킬 경우의 단어 집합의 크기 8257\n",
            "단어 집합에서 희귀 단어의 비율: 74.22506633369753\n",
            "전체 등장 빈도에서 희귀 단어 등장 빈도 비율: 3.3834107084665552\n"
          ]
        }
      ]
    },
    {
      "cell_type": "code",
      "source": [
        "src_vocab = 8000\n",
        "src_tokenizer = Tokenizer(num_words=src_vocab) # 단어 집합의 크기를 8,000으로 제한\n",
        "src_tokenizer.fit_on_texts(encoder_input_train) # 단어 집합 재생성"
      ],
      "metadata": {
        "id": "7MHHK1C-sbDx"
      },
      "execution_count": 32,
      "outputs": []
    },
    {
      "cell_type": "code",
      "source": [
        "# 텍스트 시퀀스를 정수 시퀀스로 변환\n",
        "encoder_input_train = src_tokenizer.texts_to_sequences(encoder_input_train) \n",
        "encoder_input_test = src_tokenizer.texts_to_sequences(encoder_input_test)\n",
        "\n",
        "# 잘 진행되었는지 샘플 출력\n",
        "print(encoder_input_train[:3])"
      ],
      "metadata": {
        "colab": {
          "base_uri": "https://localhost:8080/"
        },
        "id": "WpAGDlN4sbAs",
        "outputId": "d76e2b5c-0836-4cce-c2ee-2e25e786b268"
      },
      "execution_count": 33,
      "outputs": [
        {
          "output_type": "stream",
          "name": "stdout",
          "text": [
            "[[948, 1501, 109, 2368, 6800, 234, 10, 198, 1, 2958, 230, 671, 3920, 230, 1252, 1959, 152, 777, 69, 69, 284, 285, 60, 470, 882, 254], [14, 7, 1576, 219, 119, 1318, 494, 11, 2, 1810, 168, 2, 60, 3, 268, 64, 238, 14, 1618, 14], [4774, 175, 703, 602, 206, 32, 98, 2645, 1367, 1794, 585, 19, 6132, 12, 96, 20, 662, 175, 19, 527, 103, 113, 4077, 2804, 1597, 7182, 327, 385, 151, 1996, 153, 2024, 3295, 3542, 130, 1, 71, 229, 438, 17, 2804, 1597, 715, 26, 30, 4077, 73]]\n"
          ]
        }
      ]
    },
    {
      "cell_type": "code",
      "source": [
        "tar_tokenizer = Tokenizer()\n",
        "tar_tokenizer.fit_on_texts(decoder_input_train)"
      ],
      "metadata": {
        "id": "Cd4h-ItVsa-H"
      },
      "execution_count": 34,
      "outputs": []
    },
    {
      "cell_type": "code",
      "source": [
        "threshold = 6\n",
        "total_cnt = len(tar_tokenizer.word_index) # 단어의 수\n",
        "rare_cnt = 0 # 등장 빈도수가 threshold보다 작은 단어의 개수를 카운트\n",
        "total_freq = 0 # 훈련 데이터의 전체 단어 빈도수 총 합\n",
        "rare_freq = 0 # 등장 빈도수가 threshold보다 작은 단어의 등장 빈도수의 총 합\n",
        "\n",
        "# 단어와 빈도수의 쌍(pair)을 key와 value로 받는다.\n",
        "for key, value in tar_tokenizer.word_counts.items():\n",
        "    total_freq = total_freq + value\n",
        "\n",
        "    # 단어의 등장 빈도수가 threshold보다 작으면\n",
        "    if(value < threshold):\n",
        "        rare_cnt = rare_cnt + 1\n",
        "        rare_freq = rare_freq + value\n",
        "\n",
        "print('단어 집합(vocabulary)의 크기 :', total_cnt)\n",
        "print('등장 빈도가 %s번 이하인 희귀 단어의 수: %s'%(threshold - 1, rare_cnt))\n",
        "print('단어 집합에서 희귀 단어를 제외시킬 경우의 단어 집합의 크기 %s'%(total_cnt - rare_cnt))\n",
        "print(\"단어 집합에서 희귀 단어의 비율:\", (rare_cnt / total_cnt)*100)\n",
        "print(\"전체 등장 빈도에서 희귀 단어 등장 빈도 비율:\", (rare_freq / total_freq)*100)"
      ],
      "metadata": {
        "colab": {
          "base_uri": "https://localhost:8080/"
        },
        "id": "Q6Izsutpsant",
        "outputId": "7f9eac11-c347-4a5e-db01-ac066ee01ebb"
      },
      "execution_count": 35,
      "outputs": [
        {
          "output_type": "stream",
          "name": "stdout",
          "text": [
            "단어 집합(vocabulary)의 크기 : 10509\n",
            "등장 빈도가 5번 이하인 희귀 단어의 수: 8133\n",
            "단어 집합에서 희귀 단어를 제외시킬 경우의 단어 집합의 크기 2376\n",
            "단어 집합에서 희귀 단어의 비율: 77.39080787896089\n",
            "전체 등장 빈도에서 희귀 단어 등장 빈도 비율: 5.926452224088188\n"
          ]
        }
      ]
    },
    {
      "cell_type": "code",
      "source": [
        "tar_vocab = 2000\n",
        "tar_tokenizer = Tokenizer(num_words=tar_vocab) \n",
        "tar_tokenizer.fit_on_texts(decoder_input_train)\n",
        "tar_tokenizer.fit_on_texts(decoder_target_train)\n",
        "\n",
        "# 텍스트 시퀀스를 정수 시퀀스로 변환\n",
        "decoder_input_train = tar_tokenizer.texts_to_sequences(decoder_input_train) \n",
        "decoder_target_train = tar_tokenizer.texts_to_sequences(decoder_target_train)\n",
        "decoder_input_test = tar_tokenizer.texts_to_sequences(decoder_input_test)\n",
        "decoder_target_test = tar_tokenizer.texts_to_sequences(decoder_target_test)\n",
        "\n",
        "# 잘 변환되었는지 확인\n",
        "print('input')\n",
        "print('input ',decoder_input_train[:5])\n",
        "print('target')\n",
        "print('decoder ',decoder_target_train[:5])"
      ],
      "metadata": {
        "colab": {
          "base_uri": "https://localhost:8080/"
        },
        "id": "UFHeKP91salq",
        "outputId": "77a6dd90-568b-4c0c-dce6-181dca5a16b1"
      },
      "execution_count": 36,
      "outputs": [
        {
          "output_type": "stream",
          "name": "stdout",
          "text": [
            "input\n",
            "input  [[1, 1562, 44, 201], [1, 7, 71, 14, 34], [1, 5, 348, 78, 21, 1462], [1, 118, 5, 787], [1, 1463, 144, 1563]]\n",
            "target\n",
            "decoder  [[1562, 44, 201, 2], [7, 71, 14, 34, 2], [5, 348, 78, 21, 1462, 2], [118, 5, 787, 2], [1463, 144, 1563, 2]]\n"
          ]
        }
      ]
    },
    {
      "cell_type": "code",
      "source": [
        "drop_train = [index for index, sentence in enumerate(decoder_input_train) if len(sentence) == 1]\n",
        "drop_test = [index for index, sentence in enumerate(decoder_input_test) if len(sentence) == 1]\n",
        "\n",
        "print('삭제할 훈련 데이터의 개수 :', len(drop_train))\n",
        "print('삭제할 테스트 데이터의 개수 :', len(drop_test))\n",
        "\n",
        "encoder_input_train = [sentence for index, sentence in enumerate(encoder_input_train) if index not in drop_train]\n",
        "decoder_input_train = [sentence for index, sentence in enumerate(decoder_input_train) if index not in drop_train]\n",
        "decoder_target_train = [sentence for index, sentence in enumerate(decoder_target_train) if index not in drop_train]\n",
        "\n",
        "encoder_input_test = [sentence for index, sentence in enumerate(encoder_input_test) if index not in drop_test]\n",
        "decoder_input_test = [sentence for index, sentence in enumerate(decoder_input_test) if index not in drop_test]\n",
        "decoder_target_test = [sentence for index, sentence in enumerate(decoder_target_test) if index not in drop_test]\n",
        "\n",
        "print('훈련 데이터의 개수 :', len(encoder_input_train))\n",
        "print('훈련 레이블의 개수 :', len(decoder_input_train))\n",
        "print('테스트 데이터의 개수 :', len(encoder_input_test))\n",
        "print('테스트 레이블의 개수 :', len(decoder_input_test))"
      ],
      "metadata": {
        "colab": {
          "base_uri": "https://localhost:8080/"
        },
        "id": "AI26vWfKsai4",
        "outputId": "a6e1cbee-bb79-4c20-c1b6-1662b2a88e59"
      },
      "execution_count": 37,
      "outputs": [
        {
          "output_type": "stream",
          "name": "stdout",
          "text": [
            "삭제할 훈련 데이터의 개수 : 1280\n",
            "삭제할 테스트 데이터의 개수 : 312\n",
            "훈련 데이터의 개수 : 51375\n",
            "훈련 레이블의 개수 : 51375\n",
            "테스트 데이터의 개수 : 12851\n",
            "테스트 레이블의 개수 : 12851\n"
          ]
        }
      ]
    },
    {
      "cell_type": "markdown",
      "source": [
        ""
      ],
      "metadata": {
        "id": "V7vFQ9oZ_y-S"
      }
    },
    {
      "cell_type": "code",
      "source": [
        "encoder_input_train = pad_sequences(encoder_input_train, maxlen=text_max_len, padding='post')\n",
        "encoder_input_test = pad_sequences(encoder_input_test, maxlen=text_max_len, padding='post')\n",
        "decoder_input_train = pad_sequences(decoder_input_train, maxlen=summary_max_len, padding='post')\n",
        "decoder_target_train = pad_sequences(decoder_target_train, maxlen=summary_max_len, padding='post')\n",
        "decoder_input_test = pad_sequences(decoder_input_test, maxlen=summary_max_len, padding='post')\n",
        "decoder_target_test = pad_sequences(decoder_target_test, maxlen=summary_max_len, padding='post')\n",
        "print('=3')"
      ],
      "metadata": {
        "colab": {
          "base_uri": "https://localhost:8080/"
        },
        "id": "CWFLIl7WFJik",
        "outputId": "3ded209e-1282-47f6-f8a3-30d92ae6aca2"
      },
      "execution_count": 38,
      "outputs": [
        {
          "output_type": "stream",
          "name": "stdout",
          "text": [
            "=3\n"
          ]
        }
      ]
    },
    {
      "cell_type": "markdown",
      "source": [
        "#### *3. Modeling*"
      ],
      "metadata": {
        "id": "V7FPcTYR8dYd"
      }
    },
    {
      "cell_type": "markdown",
      "source": [
        "##### *3.1 building model*"
      ],
      "metadata": {
        "id": "MeToJo-Q8sno"
      }
    },
    {
      "cell_type": "code",
      "source": [
        "from tensorflow.keras.layers import Input, LSTM, Embedding, Dense, Concatenate, TimeDistributed\n",
        "from tensorflow.keras.models import Model\n",
        "from tensorflow.keras.callbacks import EarlyStopping, ModelCheckpoint"
      ],
      "metadata": {
        "id": "RMRPnSoP8dsO"
      },
      "execution_count": 39,
      "outputs": []
    },
    {
      "cell_type": "code",
      "source": [
        "# 인코더 설계 시작\n",
        "embedding_dim = 128\n",
        "hidden_size = 256\n",
        "\n",
        "# 인코더\n",
        "encoder_inputs = Input(shape=(text_max_len,))\n",
        "\n",
        "# 인코더의 임베딩 층\n",
        "enc_emb = Embedding(src_vocab, embedding_dim)(encoder_inputs)\n",
        "\n",
        "# 인코더의 LSTM 1\n",
        "encoder_lstm1 = LSTM(hidden_size, return_sequences=True, return_state=True ,dropout = 0.4, recurrent_dropout = 0.4)\n",
        "encoder_output1, state_h1, state_c1 = encoder_lstm1(enc_emb)\n",
        "\n",
        "# 인코더의 LSTM 2\n",
        "encoder_lstm2 = LSTM(hidden_size, return_sequences=True, return_state=True, dropout=0.4, recurrent_dropout=0.4)\n",
        "encoder_output2, state_h2, state_c2 = encoder_lstm2(encoder_output1)\n",
        "\n",
        "# 인코더의 LSTM 3\n",
        "encoder_lstm3 = LSTM(hidden_size, return_state=True, return_sequences=True, dropout=0.4, recurrent_dropout=0.4)\n",
        "encoder_outputs, state_h, state_c= encoder_lstm3(encoder_output2)"
      ],
      "metadata": {
        "colab": {
          "base_uri": "https://localhost:8080/"
        },
        "id": "Z92d8AKn84-c",
        "outputId": "a2708c2a-f21d-4ba6-e403-6a392c132c70"
      },
      "execution_count": 40,
      "outputs": [
        {
          "output_type": "stream",
          "name": "stdout",
          "text": [
            "WARNING:tensorflow:Layer lstm will not use cuDNN kernels since it doesn't meet the criteria. It will use a generic GPU kernel as fallback when running on GPU.\n",
            "WARNING:tensorflow:Layer lstm_1 will not use cuDNN kernels since it doesn't meet the criteria. It will use a generic GPU kernel as fallback when running on GPU.\n",
            "WARNING:tensorflow:Layer lstm_2 will not use cuDNN kernels since it doesn't meet the criteria. It will use a generic GPU kernel as fallback when running on GPU.\n"
          ]
        }
      ]
    },
    {
      "cell_type": "code",
      "source": [
        "# 디코더 설계\n",
        "decoder_inputs = Input(shape=(None,))\n",
        "\n",
        "# 디코더의 임베딩 층\n",
        "dec_emb_layer = Embedding(tar_vocab, embedding_dim)\n",
        "dec_emb = dec_emb_layer(decoder_inputs)\n",
        "\n",
        "# 디코더의 LSTM\n",
        "decoder_lstm = LSTM(hidden_size, return_sequences=True, return_state=True, dropout=0.4, recurrent_dropout=0.2)\n",
        "decoder_outputs, _, _ = decoder_lstm(dec_emb, initial_state=[state_h, state_c])"
      ],
      "metadata": {
        "colab": {
          "base_uri": "https://localhost:8080/"
        },
        "id": "R-v95ASQ9C8H",
        "outputId": "a928b7db-51c3-4538-b660-b1a3515a5c62"
      },
      "execution_count": 41,
      "outputs": [
        {
          "output_type": "stream",
          "name": "stdout",
          "text": [
            "WARNING:tensorflow:Layer lstm_3 will not use cuDNN kernels since it doesn't meet the criteria. It will use a generic GPU kernel as fallback when running on GPU.\n"
          ]
        }
      ]
    },
    {
      "cell_type": "code",
      "source": [
        "# 디코더의 출력층\n",
        "decoder_softmax_layer = Dense(tar_vocab, activation='softmax')\n",
        "decoder_softmax_outputs = decoder_softmax_layer(decoder_outputs) \n",
        "\n",
        "# 모델 정의\n",
        "model = Model([encoder_inputs, decoder_inputs], decoder_softmax_outputs)\n",
        "model.summary()"
      ],
      "metadata": {
        "colab": {
          "base_uri": "https://localhost:8080/"
        },
        "id": "ngKhOAdi9Fy6",
        "outputId": "e74461bd-181d-42f2-ccec-b69fc793dddd"
      },
      "execution_count": 42,
      "outputs": [
        {
          "output_type": "stream",
          "name": "stdout",
          "text": [
            "Model: \"model\"\n",
            "__________________________________________________________________________________________________\n",
            " Layer (type)                   Output Shape         Param #     Connected to                     \n",
            "==================================================================================================\n",
            " input_1 (InputLayer)           [(None, 50)]         0           []                               \n",
            "                                                                                                  \n",
            " embedding (Embedding)          (None, 50, 128)      1024000     ['input_1[0][0]']                \n",
            "                                                                                                  \n",
            " lstm (LSTM)                    [(None, 50, 256),    394240      ['embedding[0][0]']              \n",
            "                                 (None, 256),                                                     \n",
            "                                 (None, 256)]                                                     \n",
            "                                                                                                  \n",
            " input_2 (InputLayer)           [(None, None)]       0           []                               \n",
            "                                                                                                  \n",
            " lstm_1 (LSTM)                  [(None, 50, 256),    525312      ['lstm[0][0]']                   \n",
            "                                 (None, 256),                                                     \n",
            "                                 (None, 256)]                                                     \n",
            "                                                                                                  \n",
            " embedding_1 (Embedding)        (None, None, 128)    256000      ['input_2[0][0]']                \n",
            "                                                                                                  \n",
            " lstm_2 (LSTM)                  [(None, 50, 256),    525312      ['lstm_1[0][0]']                 \n",
            "                                 (None, 256),                                                     \n",
            "                                 (None, 256)]                                                     \n",
            "                                                                                                  \n",
            " lstm_3 (LSTM)                  [(None, None, 256),  394240      ['embedding_1[0][0]',            \n",
            "                                 (None, 256),                     'lstm_2[0][1]',                 \n",
            "                                 (None, 256)]                     'lstm_2[0][2]']                 \n",
            "                                                                                                  \n",
            " dense (Dense)                  (None, None, 2000)   514000      ['lstm_3[0][0]']                 \n",
            "                                                                                                  \n",
            "==================================================================================================\n",
            "Total params: 3,633,104\n",
            "Trainable params: 3,633,104\n",
            "Non-trainable params: 0\n",
            "__________________________________________________________________________________________________\n"
          ]
        }
      ]
    },
    {
      "cell_type": "code",
      "source": [
        "from tensorflow.keras.layers import AdditiveAttention\n",
        "\n",
        "# 어텐션 층(어텐션 함수)\n",
        "attn_layer = AdditiveAttention(name='attention_layer')\n",
        "\n",
        "# 인코더와 디코더의 모든 time step의 hidden state를 어텐션 층에 전달하고 결과를 리턴\n",
        "attn_out = attn_layer([decoder_outputs, encoder_outputs])\n",
        "\n",
        "\n",
        "# 어텐션의 결과와 디코더의 hidden state들을 연결\n",
        "decoder_concat_input = Concatenate(axis=-1, name='concat_layer')([decoder_outputs, attn_out])\n",
        "\n",
        "# 디코더의 출력층\n",
        "decoder_softmax_layer = Dense(tar_vocab, activation='softmax')\n",
        "decoder_softmax_outputs = decoder_softmax_layer(decoder_concat_input)\n",
        "\n",
        "# 모델 정의\n",
        "model = Model([encoder_inputs, decoder_inputs], decoder_softmax_outputs)\n",
        "model.summary()"
      ],
      "metadata": {
        "colab": {
          "base_uri": "https://localhost:8080/"
        },
        "id": "015lWrxk9MbX",
        "outputId": "052fa3c0-744f-43bc-9cbf-5d5511496be9"
      },
      "execution_count": 43,
      "outputs": [
        {
          "output_type": "stream",
          "name": "stdout",
          "text": [
            "Model: \"model_1\"\n",
            "__________________________________________________________________________________________________\n",
            " Layer (type)                   Output Shape         Param #     Connected to                     \n",
            "==================================================================================================\n",
            " input_1 (InputLayer)           [(None, 50)]         0           []                               \n",
            "                                                                                                  \n",
            " embedding (Embedding)          (None, 50, 128)      1024000     ['input_1[0][0]']                \n",
            "                                                                                                  \n",
            " lstm (LSTM)                    [(None, 50, 256),    394240      ['embedding[0][0]']              \n",
            "                                 (None, 256),                                                     \n",
            "                                 (None, 256)]                                                     \n",
            "                                                                                                  \n",
            " input_2 (InputLayer)           [(None, None)]       0           []                               \n",
            "                                                                                                  \n",
            " lstm_1 (LSTM)                  [(None, 50, 256),    525312      ['lstm[0][0]']                   \n",
            "                                 (None, 256),                                                     \n",
            "                                 (None, 256)]                                                     \n",
            "                                                                                                  \n",
            " embedding_1 (Embedding)        (None, None, 128)    256000      ['input_2[0][0]']                \n",
            "                                                                                                  \n",
            " lstm_2 (LSTM)                  [(None, 50, 256),    525312      ['lstm_1[0][0]']                 \n",
            "                                 (None, 256),                                                     \n",
            "                                 (None, 256)]                                                     \n",
            "                                                                                                  \n",
            " lstm_3 (LSTM)                  [(None, None, 256),  394240      ['embedding_1[0][0]',            \n",
            "                                 (None, 256),                     'lstm_2[0][1]',                 \n",
            "                                 (None, 256)]                     'lstm_2[0][2]']                 \n",
            "                                                                                                  \n",
            " attention_layer (AdditiveAtten  (None, None, 256)   256         ['lstm_3[0][0]',                 \n",
            " tion)                                                            'lstm_2[0][0]']                 \n",
            "                                                                                                  \n",
            " concat_layer (Concatenate)     (None, None, 512)    0           ['lstm_3[0][0]',                 \n",
            "                                                                  'attention_layer[0][0]']        \n",
            "                                                                                                  \n",
            " dense_1 (Dense)                (None, None, 2000)   1026000     ['concat_layer[0][0]']           \n",
            "                                                                                                  \n",
            "==================================================================================================\n",
            "Total params: 4,145,360\n",
            "Trainable params: 4,145,360\n",
            "Non-trainable params: 0\n",
            "__________________________________________________________________________________________________\n"
          ]
        }
      ]
    },
    {
      "cell_type": "markdown",
      "source": [
        "##### *3.2 training Model*"
      ],
      "metadata": {
        "id": "7u7aCtdnjyXI"
      }
    },
    {
      "cell_type": "code",
      "source": [
        "model.compile(optimizer='rmsprop', loss='sparse_categorical_crossentropy')\n",
        "es = EarlyStopping(monitor='val_loss', patience=2, verbose=1)\n",
        "history = model.fit(x=[encoder_input_train, decoder_input_train], y=decoder_target_train, \\\n",
        "          validation_data=([encoder_input_test, decoder_input_test], decoder_target_test), \\\n",
        "          batch_size=256, callbacks=[es], epochs=50)"
      ],
      "metadata": {
        "colab": {
          "base_uri": "https://localhost:8080/"
        },
        "id": "N2bl6gqCj2L_",
        "outputId": "48d5a9d2-66f6-4a0e-f42c-29205165f974"
      },
      "execution_count": 44,
      "outputs": [
        {
          "output_type": "stream",
          "name": "stdout",
          "text": [
            "Epoch 1/50\n",
            "201/201 [==============================] - 147s 678ms/step - loss: 2.7016 - val_loss: 2.4112\n",
            "Epoch 2/50\n",
            "201/201 [==============================] - 136s 674ms/step - loss: 2.3758 - val_loss: 2.2693\n",
            "Epoch 3/50\n",
            "201/201 [==============================] - 136s 676ms/step - loss: 2.2215 - val_loss: 2.1392\n",
            "Epoch 4/50\n",
            "201/201 [==============================] - 136s 677ms/step - loss: 2.1036 - val_loss: 2.0591\n",
            "Epoch 5/50\n",
            "201/201 [==============================] - 135s 672ms/step - loss: 2.0188 - val_loss: 2.0009\n",
            "Epoch 6/50\n",
            "201/201 [==============================] - 134s 668ms/step - loss: 1.9554 - val_loss: 1.9618\n",
            "Epoch 7/50\n",
            "201/201 [==============================] - 138s 687ms/step - loss: 1.9030 - val_loss: 1.9304\n",
            "Epoch 8/50\n",
            "201/201 [==============================] - 138s 689ms/step - loss: 1.8573 - val_loss: 1.9104\n",
            "Epoch 9/50\n",
            "201/201 [==============================] - 138s 687ms/step - loss: 1.8174 - val_loss: 1.8946\n",
            "Epoch 10/50\n",
            "201/201 [==============================] - 138s 688ms/step - loss: 1.7819 - val_loss: 1.8777\n",
            "Epoch 11/50\n",
            "201/201 [==============================] - 138s 687ms/step - loss: 1.7492 - val_loss: 1.8725\n",
            "Epoch 12/50\n",
            "201/201 [==============================] - 138s 685ms/step - loss: 1.7185 - val_loss: 1.8594\n",
            "Epoch 13/50\n",
            "201/201 [==============================] - 135s 674ms/step - loss: 1.6903 - val_loss: 1.8568\n",
            "Epoch 14/50\n",
            "201/201 [==============================] - 133s 664ms/step - loss: 1.6629 - val_loss: 1.8546\n",
            "Epoch 15/50\n",
            "201/201 [==============================] - 134s 666ms/step - loss: 1.6387 - val_loss: 1.8464\n",
            "Epoch 16/50\n",
            "201/201 [==============================] - 134s 665ms/step - loss: 1.6147 - val_loss: 1.8497\n",
            "Epoch 17/50\n",
            "201/201 [==============================] - 133s 659ms/step - loss: 1.5930 - val_loss: 1.8496\n",
            "Epoch 00017: early stopping\n"
          ]
        }
      ]
    },
    {
      "cell_type": "code",
      "source": [
        "plt.plot(history.history['loss'], label='train')\n",
        "plt.plot(history.history['val_loss'], label='test')\n",
        "plt.legend()\n",
        "plt.show()"
      ],
      "metadata": {
        "colab": {
          "base_uri": "https://localhost:8080/",
          "height": 265
        },
        "id": "XjM37xAFj47K",
        "outputId": "9e5ad229-9147-41d8-ffd0-a7cf66d321c8"
      },
      "execution_count": 45,
      "outputs": [
        {
          "output_type": "display_data",
          "data": {
            "image/png": "[encoded data removed]",
            "text/plain": [
              "<Figure size 432x288 with 1 Axes>"
            ]
          },
          "metadata": {
            "needs_background": "light"
          }
        }
      ]
    },
    {
      "cell_type": "markdown",
      "source": [
        ""
      ],
      "metadata": {
        "id": "ZWK6yFpIj_8v"
      }
    },
    {
      "cell_type": "code",
      "source": [
        "src_index_to_word = src_tokenizer.index_word # 원문 단어 집합에서 정수 -> 단어를 얻음\n",
        "tar_word_to_index = tar_tokenizer.word_index # 요약 단어 집합에서 단어 -> 정수를 얻음\n",
        "tar_index_to_word = tar_tokenizer.index_word # 요약 단어 집합에서 정수 -> 단어를 얻음\n",
        "\n",
        "print('=3')"
      ],
      "metadata": {
        "colab": {
          "base_uri": "https://localhost:8080/"
        },
        "id": "FZeaYM1Fj8F8",
        "outputId": "32a13ba9-08e0-4bc0-ae68-18d89ab44b3c"
      },
      "execution_count": 46,
      "outputs": [
        {
          "output_type": "stream",
          "name": "stdout",
          "text": [
            "=3\n"
          ]
        }
      ]
    },
    {
      "cell_type": "code",
      "source": [
        "# 인코더 설계\n",
        "encoder_model = Model(inputs=encoder_inputs, outputs=[encoder_outputs, state_h, state_c])\n",
        "\n",
        "# 이전 시점의 상태들을 저장하는 텐서\n",
        "decoder_state_input_h = Input(shape=(hidden_size,))\n",
        "decoder_state_input_c = Input(shape=(hidden_size,))\n",
        "\n",
        "dec_emb2 = dec_emb_layer(decoder_inputs)\n",
        "\n",
        "# 문장의 다음 단어를 예측하기 위해서 초기 상태(initial_state)를 이전 시점의 상태로 사용. 이는 뒤의 함수 decode_sequence()에 구현\n",
        "# 훈련 과정에서와 달리 LSTM의 리턴하는 은닉 상태와 셀 상태인 state_h와 state_c를 버리지 않음.\n",
        "decoder_outputs2, state_h2, state_c2 = decoder_lstm(dec_emb2, initial_state=[decoder_state_input_h, decoder_state_input_c])\n",
        "\n",
        "print('=3')"
      ],
      "metadata": {
        "colab": {
          "base_uri": "https://localhost:8080/"
        },
        "id": "K1IIJ_p3kC5a",
        "outputId": "b2974662-1340-480d-d042-ceac737d3a15"
      },
      "execution_count": 47,
      "outputs": [
        {
          "output_type": "stream",
          "name": "stdout",
          "text": [
            "=3\n"
          ]
        }
      ]
    },
    {
      "cell_type": "code",
      "source": [
        "# 어텐션 함수\n",
        "decoder_hidden_state_input = Input(shape=(text_max_len, hidden_size))\n",
        "attn_out_inf = attn_layer([decoder_outputs2, decoder_hidden_state_input])\n",
        "decoder_inf_concat = Concatenate(axis=-1, name='concat')([decoder_outputs2, attn_out_inf])\n",
        "\n",
        "# 디코더의 출력층\n",
        "decoder_outputs2 = decoder_softmax_layer(decoder_inf_concat) \n",
        "\n",
        "# 최종 디코더 모델\n",
        "decoder_model = Model(\n",
        "    [decoder_inputs] + [decoder_hidden_state_input,decoder_state_input_h, decoder_state_input_c],\n",
        "    [decoder_outputs2] + [state_h2, state_c2])\n",
        "\n",
        "print('=3')"
      ],
      "metadata": {
        "colab": {
          "base_uri": "https://localhost:8080/"
        },
        "id": "tWsGLx6YkJ6o",
        "outputId": "e3867ed4-b9c3-4f01-9502-9d1606cd8a23"
      },
      "execution_count": 48,
      "outputs": [
        {
          "output_type": "stream",
          "name": "stdout",
          "text": [
            "=3\n"
          ]
        }
      ]
    },
    {
      "cell_type": "code",
      "source": [
        "def decode_sequence(input_seq):\n",
        "    # 입력으로부터 인코더의 상태를 얻음\n",
        "    e_out, e_h, e_c = encoder_model.predict(input_seq)\n",
        "\n",
        "     # <SOS>에 해당하는 토큰 생성\n",
        "    target_seq = np.zeros((1,1))\n",
        "    target_seq[0, 0] = tar_word_to_index['sostoken']\n",
        "\n",
        "    stop_condition = False\n",
        "    decoded_sentence = ''\n",
        "    while not stop_condition: # stop_condition이 True가 될 때까지 루프 반복\n",
        "\n",
        "        output_tokens, h, c = decoder_model.predict([target_seq] + [e_out, e_h, e_c])\n",
        "        sampled_token_index = np.argmax(output_tokens[0, -1, :])\n",
        "        sampled_token = tar_index_to_word[sampled_token_index]\n",
        "\n",
        "        if (sampled_token!='eostoken'):\n",
        "            decoded_sentence += ' '+sampled_token\n",
        "\n",
        "        #  <eos>에 도달하거나 최대 길이를 넘으면 중단.\n",
        "        if (sampled_token == 'eostoken'  or len(decoded_sentence.split()) >= (summary_max_len-1)):\n",
        "            stop_condition = True\n",
        "\n",
        "        # 길이가 1인 타겟 시퀀스를 업데이트\n",
        "        target_seq = np.zeros((1,1))\n",
        "        target_seq[0, 0] = sampled_token_index\n",
        "\n",
        "        # 상태를 업데이트 합니다.\n",
        "        e_h, e_c = h, c\n",
        "\n",
        "    return decoded_sentence\n",
        "print('=3')"
      ],
      "metadata": {
        "colab": {
          "base_uri": "https://localhost:8080/"
        },
        "id": "dm-2sYbikMqy",
        "outputId": "e29ec3d9-2df2-42b6-e41c-0e9767341488"
      },
      "execution_count": 49,
      "outputs": [
        {
          "output_type": "stream",
          "name": "stdout",
          "text": [
            "=3\n"
          ]
        }
      ]
    },
    {
      "cell_type": "markdown",
      "source": [
        "##### *3.3 Testing Model*"
      ],
      "metadata": {
        "id": "BucPI8bEkXQ9"
      }
    },
    {
      "cell_type": "code",
      "source": [
        "# 원문의 정수 시퀀스를 텍스트 시퀀스로 변환\n",
        "def seq2text(input_seq):\n",
        "    temp=''\n",
        "    for i in input_seq:\n",
        "        if (i!=0):\n",
        "            temp = temp + src_index_to_word[i]+' '\n",
        "    return temp\n",
        "\n",
        "# 요약문의 정수 시퀀스를 텍스트 시퀀스로 변환\n",
        "def seq2summary(input_seq):\n",
        "    temp=''\n",
        "    for i in input_seq:\n",
        "        if ((i!=0 and i!=tar_word_to_index['sostoken']) and i!=tar_word_to_index['eostoken']):\n",
        "            temp = temp + tar_index_to_word[i] + ' '\n",
        "    return temp\n",
        "\n",
        "print('=3')"
      ],
      "metadata": {
        "colab": {
          "base_uri": "https://localhost:8080/"
        },
        "id": "xSTcvejAkX5N",
        "outputId": "306aa7e4-66a3-4b0a-f2bf-7a7734d487cd"
      },
      "execution_count": 50,
      "outputs": [
        {
          "output_type": "stream",
          "name": "stdout",
          "text": [
            "=3\n"
          ]
        }
      ]
    },
    {
      "cell_type": "code",
      "source": [
        "for i in range(50, 100):\n",
        "    print(\"원문 :\", seq2text(encoder_input_test[i]))\n",
        "    print(\"실제 요약 :\", seq2summary(decoder_input_test[i]))\n",
        "    print(\"예측 요약 :\", decode_sequence(encoder_input_test[i].reshape(1, text_max_len)))\n",
        "    print(\"\\n\")"
      ],
      "metadata": {
        "colab": {
          "base_uri": "https://localhost:8080/"
        },
        "id": "z9VRHYKRkbHD",
        "outputId": "ae114721-a506-49d9-a4ce-f4fad1d24923"
      },
      "execution_count": 51,
      "outputs": [
        {
          "output_type": "stream",
          "name": "stdout",
          "text": [
            "원문 : particular coffee bit strong taste worth try certainly get good amount coffee money \n",
            "실제 요약 : price is right \n",
            "예측 요약 :  good coffee\n",
            "\n",
            "\n",
            "원문 : cereal great baby loves spend bit extra time mixing formula water mixture smooth otherwise buying one least months \n",
            "실제 요약 : great stuff \n",
            "예측 요약 :  great tasting\n",
            "\n",
            "\n",
            "원문 : stick nylabone favorite got rex told wife nuts getting love guess try dino one also funny go one spot one tail regular shaped bones make one end look like went wood end looks like opened \n",
            "실제 요약 : the new favorite \n",
            "예측 요약 :  not for me\n",
            "\n",
            "\n",
            "원문 : got sweet tooth great value im things barely lasted week overweight either downside came pretty destroyed product fault shipping one happy live country order food \n",
            "실제 요약 : sweet \n",
            "예측 요약 :  good stuff\n",
            "\n",
            "\n",
            "원문 : grapefruit slices delicious beware two points pounds heck lot one person candy time loses bit chewiness going experiment using airtight container see stay chewy longer \n",
            "실제 요약 : tasty but beware \n",
            "예측 요약 :  great snack\n",
            "\n",
            "\n",
            "원문 : love anything stonewall kitchen small amount great way see enjoy flavor combination peach rasberry champagne actually works well together preserves used may dishes sweet savory \n",
            "실제 요약 : preserves \n",
            "예측 요약 :  great taste\n",
            "\n",
            "\n",
            "원문 : looking forward stuffed grape leaves serving guests extremely disappointed opened first found every one stuffed grape leaves tough well thought maybe opened second exact complaint grape leaves old tough could chew spit say flavor good whole cannot chew big \n",
            "실제 요약 : tough to chew \n",
            "예측 요약 :  not what expected\n",
            "\n",
            "\n",
            "원문 : seal kind jar cap slightly paprika spilled would chance using open jar trash went \n",
            "실제 요약 : jar not sealed \n",
            "예측 요약 :  not what expected\n",
            "\n",
            "\n",
            "원문 : noodles indeed gluten soy free please note label says processed factory also soy products however wish known bought since soy family \n",
            "실제 요약 : warning for people with allergies to soy \n",
            "예측 요약 :  not gluten free\n",
            "\n",
            "\n",
            "원문 : purchased single tub rub three pack oz mega container make grilled salmon frequently guests everyone loves sweet spicy smokey flavoring salmon rub end giving little ziplock bag rub take home simple brush salmon olive oil sprinkle generously rub grill minutes flip grill another minutes delicious \n",
            "실제 요약 : everyone sample of this rub \n",
            "예측 요약 :  great snack\n",
            "\n",
            "\n",
            "원문 : head fish oils great job making like regular jif went jars days small family little kids love \n",
            "실제 요약 : excellent excellent excellent \n",
            "예측 요약 :  great product\n",
            "\n",
            "\n",
            "원문 : natural taste delicious great snack food add dish taste great wild rice salads yogurt \n",
            "실제 요약 : more than just snack \n",
            "예측 요약 :  great healthy snack\n",
            "\n",
            "\n",
            "원문 : mcp best however cannot buy anywhere good almost impossible find gives kraft would think premium product like would available sale everywhere disappointing kraft tells still produced could tell find check local store recently ordered store much luck everyone else find either \n",
            "실제 요약 : where is the \n",
            "예측 요약 :  great taste\n",
            "\n",
            "\n",
            "원문 : bob red mill textured vegetable protein excellent product makes great vegetarian substitute ground beef reconstitute adding enough kitchen bouquet seasoning sauce makes look like ground beef \n",
            "실제 요약 : red mill \n",
            "예측 요약 :  great\n",
            "\n",
            "\n",
            "원문 : loved brand best vanilla flavor others tried would buy better price \n",
            "실제 요약 : wolfgang puck coffee vanilla \n",
            "예측 요약 :  love this stuff\n",
            "\n",
            "\n",
            "원문 : tried several holistic puppy canned foods one winner pup canned food would give sensitive pup loose stool one never problem highly recommend food \n",
            "실제 요약 : awesome puppy food \n",
            "예측 요약 :  great food\n",
            "\n",
            "\n",
            "원문 : purchased experiment see effects would nothing happened know due something specific company product whether would effect price worth experimenting nothing happens \n",
            "실제 요약 : no results \n",
            "예측 요약 :  not as advertised\n",
            "\n",
            "\n",
            "원문 : never anything gluten free bars awesome note really like cranberries overpower almond taste \n",
            "실제 요약 : kind plus \n",
            "예측 요약 :  great cookies\n",
            "\n",
            "\n",
            "원문 : using cacao post workout smoothies since arrived last week great lots flavor aroma practically way bag baked yet plan replacing ordinary cocoa stuff wherever expensive compared many high end cocoas love organic raw \n",
            "실제 요약 : wonderful \n",
            "예측 요약 :  great product\n",
            "\n",
            "\n",
            "원문 : mix exactly advertised decided add chopped onion sesame seeds small amount chile paste results outstanding also used lbs instead full lb worked fine would buy product \n",
            "실제 요약 : very tasty \n",
            "예측 요약 :  good product\n",
            "\n",
            "\n",
            "원문 : think popcorn tastes great especially made stovetop popcorn popper love comes different varieties different tastes would recommend popcorn brand everyone shipping reasonable arrived quickly \n",
            "실제 요약 : good popcorn great price \n",
            "예측 요약 :  great popcorn\n",
            "\n",
            "\n",
            "원문 : beverage reminded lot black cherry except feel syrupy little sweet package arrived happened thirsty opened right drank without tasted pretty good taste hit drink advertises juice artificial taste think taste reminds children chewable vitamins general would suggest mixing version combining juice juice syrup soda water convenient probably refreshing \n",
            "실제 요약 : carbonated juice \n",
            "예측 요약 :  not the same\n",
            "\n",
            "\n",
            "원문 : loved ordered christmas dinner would hot stove warm hour turkey moist flavorful ham delicious left overs home ended eating every last morsel probably make tradition maybe even order holidays well arrived within days weeks kept nicely refrigerator \n",
            "실제 요약 : great christmas dinner \n",
            "예측 요약 :  not worth the money\n",
            "\n",
            "\n",
            "원문 : meat tastes great unfortunately shipping times cost meat looked buying months earlier never finished order outrageous shipping cost placing quick order son still cart forgotten shipping cost ended buying find arrived paid shipping product positive note delicious \n",
            "실제 요약 : meat \n",
            "예측 요약 :  not worth the money\n",
            "\n",
            "\n",
            "원문 : anyone appreciates relaxing cup coffee really recommend flavor smooth taste drinking bitterness leaves faint taste butter every sip coffee anyone bitter coffee strong taste drink night truffle two \n",
            "실제 요약 : relaxing coffee \n",
            "예측 요약 :  great coffee\n",
            "\n",
            "\n",
            "원문 : tried many kinds coffee keep coming back newman love ordering amazon coffee right door cannot beat \n",
            "실제 요약 : best coffee in \n",
            "예측 요약 :  great coffee\n",
            "\n",
            "\n",
            "원문 : coffee drink fabulous powerful taste highly recommend \n",
            "실제 요약 : coffee \n",
            "예측 요약 :  great coffee\n",
            "\n",
            "\n",
            "원문 : suffer acid reflux intense allergies wake many sore throats used keep popping hard candy day little relief picked tea since used anything else coats throat immediately sore throat quick amount time tastiest tea world certainly alright \n",
            "실제 요약 : throat fast \n",
            "예측 요약 :  great for\n",
            "\n",
            "\n",
            "원문 : love right box imported italy unfortunately breadsticks arrive broken \n",
            "실제 요약 : perfection \n",
            "예측 요약 :  great\n",
            "\n",
            "\n",
            "원문 : would recently previous favorite fenugreek seeds began hard seeds hard seeds sprouted inch sprouts soaking growing hours every day \n",
            "실제 요약 : excellent sprouting seed \n",
            "예측 요약 :  good seeds\n",
            "\n",
            "\n",
            "원문 : cookies delicious light crisp tangy readily available local groceries searched online happily surprised find could buy amazon family takes turns buying pack boxes sharing \n",
            "실제 요약 : hard to find treat \n",
            "예측 요약 :  best cookies ever\n",
            "\n",
            "\n",
            "원문 : used buy delicious crackers health food market stopped carrying happy find amazon order arrived broken many small pieces asked replacement came quickly many crackers broken look like packaging going improve time soon ever shame bought health food store one piece obviously possible \n",
            "실제 요약 : great crackers terrible packaging \n",
            "예측 요약 :  great product\n",
            "\n",
            "\n",
            "원문 : really excited receive product however stale pieces seaweed would even come apart could even eat bad throw \n",
            "실제 요약 : stale \n",
            "예측 요약 :  stale\n",
            "\n",
            "\n",
            "원문 : nuts seem fresher brands know packaged recently others perhaps \n",
            "실제 요약 : dry fresh and tastey \n",
            "예측 요약 :  great candy\n",
            "\n",
            "\n",
            "원문 : disappointed pod coffee weak real zing like rich full bodied coffee flavour coffee vanilla flavour okay enough coffee sticking dark roast pods \n",
            "실제 요약 : not the best pod \n",
            "예측 요약 :  not worth the money\n",
            "\n",
            "\n",
            "원문 : product refreshing great natural alternative things like sports drinks natural electrolytes brazil give people coconut water surgery believe promotes healing tried several brands one favorite \n",
            "실제 요약 : healthy \n",
            "예측 요약 :  great product\n",
            "\n",
            "\n",
            "원문 : product says gave stars however issues product family members cannot take smell taste horrible put lotion cream skin weeks ago though since changed sheets scent still bed ultimately stopped using made smell way like smells like indian spice work scent wise may work fine someone else \n",
            "실제 요약 : cannot take the smell \n",
            "예측 요약 :  not bad\n",
            "\n",
            "\n",
            "원문 : time favorite cookies excited permanent supplier amazon discontinued please make sure available soon \n",
            "실제 요약 : best cookies ever \n",
            "예측 요약 :  great cookies\n",
            "\n",
            "\n",
            "원문 : price think perfect gift cheeses smaller expecting shipped quickly nice present husband never know send flower delivery kind guy bottle wine waiting home go start great weekend \n",
            "실제 요약 : yum great gift \n",
            "예측 요약 :  great gift\n",
            "\n",
            "\n",
            "원문 : purchased many past year old chocolate point himalayan blast brand extremely fresh aromatic sooooo happy needless say well price amazing quality highly recommended fresh fragrant rough stems buds perfect making toys boy \n",
            "실제 요약 : this is the cat meow \n",
            "예측 요약 :  best ever\n",
            "\n",
            "\n",
            "원문 : let us honest nothing compare real peanut butter specifically natural crush oz jar week obviously needed better alternative definitely still taste something missing would still recommend anyone curious need try recipes website \n",
            "실제 요약 : powdered pb \n",
            "예측 요약 :  not worth the money\n",
            "\n",
            "\n",
            "원문 : take long drive without life saver found takes mins get system told doctors taking diabetes cause problem \n",
            "실제 요약 : hour energy it works \n",
            "예측 요약 :  great taste\n",
            "\n",
            "\n",
            "원문 : favorite weekly use love taste pomegranate rest long shot fruity taste opinion \n",
            "실제 요약 : pure liquid energy \n",
            "예측 요약 :  great\n",
            "\n",
            "\n",
            "원문 : looking something keep gnats face summer months product works great lot gardening gnats run back indoors south carolina cutter advanced thing found also gets gnats deet works great gnats works better husband takes golf course \n",
            "실제 요약 : gets the gnats \n",
            "예측 요약 :  works for me\n",
            "\n",
            "\n",
            "원문 : whatever mo loves favorite treats perk helps keep teeth clean \n",
            "실제 요약 : what is in this stuff \n",
            "예측 요약 :  my favorite\n",
            "\n",
            "\n",
            "원문 : well reviews drink place cannot say review anyway drink met negative results sweet rich would best judge look several reviews regular coffee drinker prefer cold coca cola iced tea rather iced coffee drink anytime plus expensive keep mind \n",
            "실제 요약 : too sweet and rich \n",
            "예측 요약 :  good stuff\n",
            "\n",
            "\n",
            "원문 : look pantry would see shelf many tea varieties would make head spin tea drink every afternoon evening especially need drinking twig tea ten years love brand subscribe save option best price find highly recommended \n",
            "실제 요약 : my go to tea \n",
            "예측 요약 :  love this tea\n",
            "\n",
            "\n",
            "원문 : making coffee ritual handy creamers pantry makes nice treat time hot cup coffee also kept since refrigerated make nice option clients great value since purchase large number cups one time handy road toss car road want flavor coffee road \n",
            "실제 요약 : nice treat \n",
            "예측 요약 :  great coffee\n",
            "\n",
            "\n",
            "원문 : good tasting green peppercorns slightly spicier brand used buy grocery store also little green taste cook regularly green peppercorns recently moved area country seem know anything green peppercorns none local grocery stores stock green peppercorns stares store employees sure available local specialty stores pricey pack least year supply \n",
            "실제 요약 : good value but \n",
            "예측 요약 :  great\n",
            "\n",
            "\n",
            "원문 : making pumpkin pies treats years noticed years pumpkin become less less dense doubt keep pricing profit certain point problem adjust recipes mix liquid also complained avail simply issue typical corporate lie first time user \n",
            "실제 요약 : quality has gone over the years \n",
            "예측 요약 :  not as pictured\n",
            "\n",
            "\n"
          ]
        }
      ]
    },
    {
      "cell_type": "markdown",
      "source": [
        "#### 추출적 요약"
      ],
      "metadata": {
        "id": "OhYr282txGmy"
      }
    },
    {
      "cell_type": "code",
      "source": [
        "! pip3 install summa\n",
        "! pip list | grep summa"
      ],
      "metadata": {
        "colab": {
          "base_uri": "https://localhost:8080/"
        },
        "id": "3UwaUnE9xWtV",
        "outputId": "8b846f95-d4c7-442a-aa22-315e30c9464e"
      },
      "execution_count": 58,
      "outputs": [
        {
          "output_type": "stream",
          "name": "stdout",
          "text": [
            "Collecting summa\n",
            "  Downloading summa-1.2.0.tar.gz (54 kB)\n",
            "\u001b[?25l\r\u001b[K     |██████                          | 10 kB 24.4 MB/s eta 0:00:01\r\u001b[K     |████████████                    | 20 kB 28.2 MB/s eta 0:00:01\r\u001b[K     |██████████████████              | 30 kB 30.7 MB/s eta 0:00:01\r\u001b[K     |███████████████████████▉        | 40 kB 32.4 MB/s eta 0:00:01\r\u001b[K     |█████████████████████████████▉  | 51 kB 4.2 MB/s eta 0:00:01\r\u001b[K     |████████████████████████████████| 54 kB 1.4 MB/s \n",
            "\u001b[?25hRequirement already satisfied: scipy>=0.19 in /usr/local/lib/python3.7/dist-packages (from summa) (1.4.1)\n",
            "Requirement already satisfied: numpy>=1.13.3 in /usr/local/lib/python3.7/dist-packages (from scipy>=0.19->summa) (1.19.5)\n",
            "Building wheels for collected packages: summa\n",
            "  Building wheel for summa (setup.py) ... \u001b[?25l\u001b[?25hdone\n",
            "  Created wheel for summa: filename=summa-1.2.0-py3-none-any.whl size=54412 sha256=e479f7ccabe6707a6f2bef16bbd0521cb68b00b24d40edc20c6ff733b3a42001\n",
            "  Stored in directory: /root/.cache/pip/wheels/29/64/ac/7b443477588d365ef37ada30d456bdf5f07dc5be9f6324cb6e\n",
            "Successfully built summa\n",
            "Installing collected packages: summa\n",
            "Successfully installed summa-1.2.0\n",
            "summa                         1.2.0\n",
            "torchsummary                  1.5.1\n"
          ]
        }
      ]
    },
    {
      "cell_type": "code",
      "source": [
        "import requests\n",
        "from summa.summarizer import summarize"
      ],
      "metadata": {
        "id": "pLoL9oEtxRwt"
      },
      "execution_count": 59,
      "outputs": []
    },
    {
      "cell_type": "code",
      "source": [
        "text = requests.get('http://rare-technologies.com/the_matrix_synopsis.txt').text"
      ],
      "metadata": {
        "id": "gKgB09EvyQ07"
      },
      "execution_count": 60,
      "outputs": []
    },
    {
      "cell_type": "code",
      "source": [
        "print(text[:1500])"
      ],
      "metadata": {
        "colab": {
          "base_uri": "https://localhost:8080/"
        },
        "id": "gs4QSaXkyTZE",
        "outputId": "1370a9e1-ada4-4a39-87ea-48dc2a8ff7d2"
      },
      "execution_count": 61,
      "outputs": [
        {
          "output_type": "stream",
          "name": "stdout",
          "text": [
            "The screen is filled with green, cascading code which gives way to the title, The Matrix.\r\n",
            "\r\n",
            "A phone rings and text appears on the screen: \"Call trans opt: received. 2-19-98 13:24:18 REC: Log>\" As a conversation takes place between Trinity (Carrie-Anne Moss) and Cypher (Joe Pantoliano), two free humans, a table of random green numbers are being scanned and individual numbers selected, creating a series of digits not unlike an ordinary phone number, as if a code is being deciphered or a call is being traced.\r\n",
            "\r\n",
            "Trinity discusses some unknown person. Cypher taunts Trinity, suggesting she enjoys watching him. Trinity counters that \"Morpheus (Laurence Fishburne) says he may be 'the One',\" just as the sound of a number being selected alerts Trinity that someone may be tracing their call. She ends the call.\r\n",
            "\r\n",
            "Armed policemen move down a darkened, decrepit hallway in the Heart O' the City Hotel, their flashlight beam bouncing just ahead of them. They come to room 303, kick down the door and find a woman dressed in black, facing away from them. It's Trinity. She brings her hands up from the laptop she's working on at their command.\r\n",
            "\r\n",
            "Outside the hotel a car drives up and three agents appear in neatly pressed black suits. They are Agent Smith (Hugo Weaving), Agent Brown (Paul Goddard), and Agent Jones (Robert Taylor). Agent Smith and the presiding police lieutenant argue. Agent Smith admonishes the policeman that they were given specific orders to contact the agents first, for their\n"
          ]
        }
      ]
    },
    {
      "cell_type": "code",
      "source": [
        "print('Summary:')\n",
        "print(summarize(text, ratio=0.005))"
      ],
      "metadata": {
        "colab": {
          "base_uri": "https://localhost:8080/"
        },
        "id": "kxLl99A5yWDg",
        "outputId": "b2626bc6-41d1-41f5-83f3-8154f522819c"
      },
      "execution_count": 62,
      "outputs": [
        {
          "output_type": "stream",
          "name": "stdout",
          "text": [
            "Summary:\n",
            "Morpheus, Trinity, Neo, Apoc, Switch, Mouse and Cypher are jacked into the Matrix.\n",
            "Trinity brings the helicopter down to the floor that Morpheus is on and Neo opens fire on the three Agents.\n"
          ]
        }
      ]
    },
    {
      "cell_type": "code",
      "source": [
        "print('Summary:')\n",
        "print(summarize(text, ratio=0.005, split=True))"
      ],
      "metadata": {
        "colab": {
          "base_uri": "https://localhost:8080/"
        },
        "id": "8yQMrFdjyZgX",
        "outputId": "e5994cc2-0363-42b5-8239-49b550a8e903"
      },
      "execution_count": 63,
      "outputs": [
        {
          "output_type": "stream",
          "name": "stdout",
          "text": [
            "Summary:\n",
            "['Morpheus, Trinity, Neo, Apoc, Switch, Mouse and Cypher are jacked into the Matrix.', 'Trinity brings the helicopter down to the floor that Morpheus is on and Neo opens fire on the three Agents.']\n"
          ]
        }
      ]
    },
    {
      "cell_type": "code",
      "source": [
        "print('Summary:')\n",
        "print(summarize(text, words=50))"
      ],
      "metadata": {
        "colab": {
          "base_uri": "https://localhost:8080/"
        },
        "id": "F7FBZTD-ycBv",
        "outputId": "39dbe583-776f-4595-bffe-8cc7a4aa6644"
      },
      "execution_count": 64,
      "outputs": [
        {
          "output_type": "stream",
          "name": "stdout",
          "text": [
            "Summary:\n",
            "Trinity takes Neo to Morpheus.\n",
            "Morpheus, Trinity, Neo, Apoc, Switch, Mouse and Cypher are jacked into the Matrix.\n",
            "Trinity brings the helicopter down to the floor that Morpheus is on and Neo opens fire on the three Agents.\n"
          ]
        }
      ]
    }
  ]
}